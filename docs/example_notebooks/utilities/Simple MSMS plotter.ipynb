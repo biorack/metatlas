{
 "cells": [
  {
   "cell_type": "markdown",
   "metadata": {},
   "source": [
    "# 1. Import Python Packages"
   ]
  },
  {
   "cell_type": "code",
   "execution_count": 1,
   "metadata": {
    "collapsed": false,
    "jupyter": {
     "outputs_hidden": false
    }
   },
   "outputs": [],
   "source": [
    "%matplotlib notebook\n",
    "import sys\n",
    "sys.path.insert(1,'/global/project/projectdirs/metatlas/anaconda/lib/python2.7/site-packages' )\n",
    "\n",
    "from metatlas.helpers import metatlas_get_data_helper_fun as ma_data\n",
    "import metatlas.metatlas_objects as metob\n",
    "\n",
    "import os\n",
    "import numpy as np\n",
    "import pandas as pd\n",
    "\n",
    "import matplotlib.pyplot as plt"
   ]
  },
  {
   "cell_type": "code",
   "execution_count": 2,
   "metadata": {
    "collapsed": false,
    "jupyter": {
     "outputs_hidden": false
    }
   },
   "outputs": [],
   "source": [
    "my_file = metob.retrieve('Lcmsrun',name='20150910%_WT_%Run61%',username='*')[-1]\n",
    "\n",
    "df_container = ma_data.df_container_from_metatlas_file(my_file)\n",
    "\n",
    "\n",
    "print df_container.keys()\n",
    "df = df_container['ms2_neg']\n",
    "df = df[abs(df.rt-7.495)<0.001]\n",
    "df.sort_values('i',axis=0,ascending=False,inplace=True)\n",
    "df.head()\n",
    "\n",
    "\n",
    "fig = plt.figure(figsize=(10,6))\n",
    "ax = fig.add_subplot(111)\n",
    "\n",
    "ax.set_xlabel('m/z',fontsize=12,weight='bold')\n",
    "ax.set_ylabel('intensity',fontsize=12,weight='bold')\n",
    "\n",
    "ax.vlines(df['mz'],np.zeros(len(df['mz'])),df['i'],colors='r',linewidth = 2)\n",
    "labels = [1.001e9]\n",
    "for i,row in df.iterrows():\n",
    "     if np.min(np.abs(row.mz - labels)) > 0.1 and row.i > 0.01 * df.i.max():\n",
    "        ax.annotate('%.4f'%row.mz, xy=(row.mz, 1.01*row.i),rotation = 90, horizontalalignment = 'center', verticalalignment = 'left')\n",
    "        labels.append(row.mz)\n",
    "\n",
    "# plt.axhline()\n",
    "# plt.tight_layout()\n",
    "# L = plt.ylim()\n",
    "ax.set_yscale('log')\n",
    "plt.ylim(1e4,1e7)\n",
    "\n",
    "\n"
   ]
  },
  {
   "cell_type": "code",
   "execution_count": null,
   "metadata": {
    "collapsed": true,
    "jupyter": {
     "outputs_hidden": true
    }
   },
   "outputs": [],
   "source": []
  }
 ],
 "metadata": {
  "anaconda-cloud": {},
  "kernelspec": {
   "display_name": "MetAtlas 2.7",
   "language": "python",
   "name": "metatlas"
  },
  "language_info": {
   "codemirror_mode": {
    "name": "ipython",
    "version": 2
   },
   "file_extension": ".py",
   "mimetype": "text/x-python",
   "name": "python",
   "nbconvert_exporter": "python",
   "pygments_lexer": "ipython2",
   "version": "2.7.13"
  }
 },
 "nbformat": 4,
 "nbformat_minor": 4
}
