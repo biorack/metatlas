{
 "cells": [
  {
   "cell_type": "code",
   "execution_count": 1,
   "metadata": {},
   "outputs": [
    {
     "name": "stdout",
     "output_type": "stream",
     "text": [
      "('Metatlas live in ', '/global/project/projectdirs/metatlas/anaconda/lib/python2.7/site-packages/metatlas')\n",
      "you're running on 3bf9cfac4637 at 172.17.0.5 \n"
     ]
    }
   ],
   "source": [
    "import sys, os\n",
    "# sys.path.insert(0,'/global/homes/b/bpb/metatlas/' )\n",
    "sys.path.insert(0,'/global/homes/b/bpb/repos/metatlas/' )\n",
    "import numpy as np\n",
    "import pandas as pd\n",
    "from metatlas import metatlas_objects as metob\n",
    "from metatlas.helpers import dill2plots as dp\n",
    "import numpy as np\n",
    "import time\n",
    "import copy\n",
    "import dill\n",
    "pd.options.display.max_colwidth = 100\n",
    "pd.set_option('display.max_rows', 500)"
   ]
  },
  {
   "cell_type": "code",
   "execution_count": 2,
   "metadata": {},
   "outputs": [
    {
     "name": "stdout",
     "output_type": "stream",
     "text": [
      "(192038, 29)\n"
     ]
    },
    {
     "data": {
      "text/html": [
       "<div>\n",
       "<table border=\"1\" class=\"dataframe\">\n",
       "  <thead>\n",
       "    <tr style=\"text-align: right;\">\n",
       "      <th></th>\n",
       "      <th>chebi_id</th>\n",
       "      <th>chebi_url</th>\n",
       "      <th>description</th>\n",
       "      <th>formula</th>\n",
       "      <th>hmdb_id</th>\n",
       "      <th>hmdb_url</th>\n",
       "      <th>img_abc_id</th>\n",
       "      <th>inchi</th>\n",
       "      <th>inchi_key</th>\n",
       "      <th>iupac_name</th>\n",
       "      <th>...</th>\n",
       "      <th>neutralized_inchi</th>\n",
       "      <th>neutralized_inchi_key</th>\n",
       "      <th>num_free_radicals</th>\n",
       "      <th>number_components</th>\n",
       "      <th>permanent_charge</th>\n",
       "      <th>pubchem_compound_id</th>\n",
       "      <th>pubchem_url</th>\n",
       "      <th>source</th>\n",
       "      <th>synonyms</th>\n",
       "      <th>wikipedia_url</th>\n",
       "    </tr>\n",
       "  </thead>\n",
       "  <tbody>\n",
       "    <tr>\n",
       "      <th>0</th>\n",
       "      <td></td>\n",
       "      <td></td>\n",
       "      <td></td>\n",
       "      <td>C31H52O</td>\n",
       "      <td></td>\n",
       "      <td></td>\n",
       "      <td></td>\n",
       "      <td>InChI=1S/C31H52O/c1-9-23(20(2)3)11-10-21(4)24-14-18-31(8)27-13-12-25-22(5)28(32)16-17-29(25,6)26...</td>\n",
       "      <td>UULZCTIPCNJXAT-SPSGOSLXSA-N</td>\n",
       "      <td></td>\n",
       "      <td>...</td>\n",
       "      <td>InChI=1S/C31H52O/c1-9-23(20(2)3)11-10-21(4)24-14-18-31(8)27-13-12-25-22(5)28(32)16-17-29(25,6)26...</td>\n",
       "      <td>UULZCTIPCNJXAT-SPSGOSLXSA-N</td>\n",
       "      <td>0</td>\n",
       "      <td>1</td>\n",
       "      <td>0</td>\n",
       "      <td></td>\n",
       "      <td></td>\n",
       "      <td>MetAtlas</td>\n",
       "      <td></td>\n",
       "      <td></td>\n",
       "    </tr>\n",
       "    <tr>\n",
       "      <th>1</th>\n",
       "      <td></td>\n",
       "      <td></td>\n",
       "      <td></td>\n",
       "      <td>C62H88N12O17</td>\n",
       "      <td></td>\n",
       "      <td></td>\n",
       "      <td></td>\n",
       "      <td>InChI=1S/C62H88N12O17/c1-27(2)42(59(85)73-23-17-19-36(73)57(83)69(13)25-38(76)71(15)48(29(5)6)61...</td>\n",
       "      <td>RWUXYUFLKBITPJ-CAANCPNXSA-N</td>\n",
       "      <td></td>\n",
       "      <td>...</td>\n",
       "      <td>InChI=1S/C62H88N12O17/c1-27(2)42(59(85)73-23-17-19-36(73)57(83)69(13)25-38(76)71(15)48(29(5)6)61...</td>\n",
       "      <td>RWUXYUFLKBITPJ-CAANCPNXSA-N</td>\n",
       "      <td>0</td>\n",
       "      <td>1</td>\n",
       "      <td>0</td>\n",
       "      <td></td>\n",
       "      <td></td>\n",
       "      <td>MetAtlas</td>\n",
       "      <td></td>\n",
       "      <td></td>\n",
       "    </tr>\n",
       "    <tr>\n",
       "      <th>2</th>\n",
       "      <td></td>\n",
       "      <td></td>\n",
       "      <td></td>\n",
       "      <td>C30H48O3</td>\n",
       "      <td></td>\n",
       "      <td></td>\n",
       "      <td></td>\n",
       "      <td>InChI=1S/C30H48O3/c1-19(2)9-8-10-20(3)23-17-26(33)30(18-31)22-11-12-24-27(4,5)25(32)14-15-28(24,...</td>\n",
       "      <td>SFAFFKXDWJHUSZ-IXHCEPIESA-N</td>\n",
       "      <td></td>\n",
       "      <td>...</td>\n",
       "      <td>InChI=1S/C30H48O3/c1-19(2)9-8-10-20(3)23-17-26(33)30(18-31)22-11-12-24-27(4,5)25(32)14-15-28(24,...</td>\n",
       "      <td>SFAFFKXDWJHUSZ-IXHCEPIESA-N</td>\n",
       "      <td>0</td>\n",
       "      <td>1</td>\n",
       "      <td>0</td>\n",
       "      <td></td>\n",
       "      <td></td>\n",
       "      <td>MetAtlas</td>\n",
       "      <td></td>\n",
       "      <td></td>\n",
       "    </tr>\n",
       "    <tr>\n",
       "      <th>3</th>\n",
       "      <td></td>\n",
       "      <td></td>\n",
       "      <td></td>\n",
       "      <td>C8H12O8</td>\n",
       "      <td></td>\n",
       "      <td></td>\n",
       "      <td></td>\n",
       "      <td>InChI=1S/C8H12O8/c9-2-5(12)7(14)6(13)3(10)1-4(11)8(15)16/h2-3,5-7,10,12-14H,1H2,(H,15,16)/t3-,5-...</td>\n",
       "      <td>CMRFLDMXLVWBFG-SHUUEZRQSA-N</td>\n",
       "      <td></td>\n",
       "      <td>...</td>\n",
       "      <td>InChI=1S/C8H12O8/c9-2-5(12)7(14)6(13)3(10)1-4(11)8(15)16/h2-3,5-7,10,12-14H,1H2,(H,15,16)/t3-,5-...</td>\n",
       "      <td>CMRFLDMXLVWBFG-SHUUEZRQSA-N</td>\n",
       "      <td>0</td>\n",
       "      <td>1</td>\n",
       "      <td>0</td>\n",
       "      <td></td>\n",
       "      <td></td>\n",
       "      <td>MetAtlas</td>\n",
       "      <td></td>\n",
       "      <td></td>\n",
       "    </tr>\n",
       "    <tr>\n",
       "      <th>4</th>\n",
       "      <td></td>\n",
       "      <td></td>\n",
       "      <td></td>\n",
       "      <td>C27H42O3</td>\n",
       "      <td></td>\n",
       "      <td></td>\n",
       "      <td></td>\n",
       "      <td>InChI=1S/C27H42O3/c1-17(6-5-7-18(2)25(29)30)22-10-11-23-21-9-8-19-16-20(28)12-14-26(19,3)24(21)1...</td>\n",
       "      <td>PSXQJZDFWDKBIP-JHIMGXENSA-N</td>\n",
       "      <td></td>\n",
       "      <td>...</td>\n",
       "      <td>InChI=1S/C27H42O3/c1-17(6-5-7-18(2)25(29)30)22-10-11-23-21-9-8-19-16-20(28)12-14-26(19,3)24(21)1...</td>\n",
       "      <td>PSXQJZDFWDKBIP-JHIMGXENSA-N</td>\n",
       "      <td>0</td>\n",
       "      <td>1</td>\n",
       "      <td>0</td>\n",
       "      <td></td>\n",
       "      <td></td>\n",
       "      <td>MetAtlas</td>\n",
       "      <td></td>\n",
       "      <td></td>\n",
       "    </tr>\n",
       "  </tbody>\n",
       "</table>\n",
       "<p>5 rows × 29 columns</p>\n",
       "</div>"
      ],
      "text/plain": [
       "  chebi_id chebi_url description       formula hmdb_id hmdb_url img_abc_id  \\\n",
       "0                                      C31H52O                               \n",
       "1                                 C62H88N12O17                               \n",
       "2                                     C30H48O3                               \n",
       "3                                      C8H12O8                               \n",
       "4                                     C27H42O3                               \n",
       "\n",
       "                                                                                                 inchi  \\\n",
       "0  InChI=1S/C31H52O/c1-9-23(20(2)3)11-10-21(4)24-14-18-31(8)27-13-12-25-22(5)28(32)16-17-29(25,6)26...   \n",
       "1  InChI=1S/C62H88N12O17/c1-27(2)42(59(85)73-23-17-19-36(73)57(83)69(13)25-38(76)71(15)48(29(5)6)61...   \n",
       "2  InChI=1S/C30H48O3/c1-19(2)9-8-10-20(3)23-17-26(33)30(18-31)22-11-12-24-27(4,5)25(32)14-15-28(24,...   \n",
       "3  InChI=1S/C8H12O8/c9-2-5(12)7(14)6(13)3(10)1-4(11)8(15)16/h2-3,5-7,10,12-14H,1H2,(H,15,16)/t3-,5-...   \n",
       "4  InChI=1S/C27H42O3/c1-17(6-5-7-18(2)25(29)30)22-10-11-23-21-9-8-19-16-20(28)12-14-26(19,3)24(21)1...   \n",
       "\n",
       "                     inchi_key iupac_name      ...       \\\n",
       "0  UULZCTIPCNJXAT-SPSGOSLXSA-N                 ...        \n",
       "1  RWUXYUFLKBITPJ-CAANCPNXSA-N                 ...        \n",
       "2  SFAFFKXDWJHUSZ-IXHCEPIESA-N                 ...        \n",
       "3  CMRFLDMXLVWBFG-SHUUEZRQSA-N                 ...        \n",
       "4  PSXQJZDFWDKBIP-JHIMGXENSA-N                 ...        \n",
       "\n",
       "                                                                                     neutralized_inchi  \\\n",
       "0  InChI=1S/C31H52O/c1-9-23(20(2)3)11-10-21(4)24-14-18-31(8)27-13-12-25-22(5)28(32)16-17-29(25,6)26...   \n",
       "1  InChI=1S/C62H88N12O17/c1-27(2)42(59(85)73-23-17-19-36(73)57(83)69(13)25-38(76)71(15)48(29(5)6)61...   \n",
       "2  InChI=1S/C30H48O3/c1-19(2)9-8-10-20(3)23-17-26(33)30(18-31)22-11-12-24-27(4,5)25(32)14-15-28(24,...   \n",
       "3  InChI=1S/C8H12O8/c9-2-5(12)7(14)6(13)3(10)1-4(11)8(15)16/h2-3,5-7,10,12-14H,1H2,(H,15,16)/t3-,5-...   \n",
       "4  InChI=1S/C27H42O3/c1-17(6-5-7-18(2)25(29)30)22-10-11-23-21-9-8-19-16-20(28)12-14-26(19,3)24(21)1...   \n",
       "\n",
       "         neutralized_inchi_key num_free_radicals number_components  \\\n",
       "0  UULZCTIPCNJXAT-SPSGOSLXSA-N                 0                 1   \n",
       "1  RWUXYUFLKBITPJ-CAANCPNXSA-N                 0                 1   \n",
       "2  SFAFFKXDWJHUSZ-IXHCEPIESA-N                 0                 1   \n",
       "3  CMRFLDMXLVWBFG-SHUUEZRQSA-N                 0                 1   \n",
       "4  PSXQJZDFWDKBIP-JHIMGXENSA-N                 0                 1   \n",
       "\n",
       "  permanent_charge  pubchem_compound_id pubchem_url    source synonyms  \\\n",
       "0                0                                   MetAtlas            \n",
       "1                0                                   MetAtlas            \n",
       "2                0                                   MetAtlas            \n",
       "3                0                                   MetAtlas            \n",
       "4                0                                   MetAtlas            \n",
       "\n",
       "  wikipedia_url  \n",
       "0                \n",
       "1                \n",
       "2                \n",
       "3                \n",
       "4                \n",
       "\n",
       "[5 rows x 29 columns]"
      ]
     },
     "execution_count": 2,
     "metadata": {},
     "output_type": "execute_result"
    }
   ],
   "source": [
    "ref_df = pd.read_pickle('/project/projectdirs/openmsi/projects/ben_run_pactolus/unique_compounds.pkl')\n",
    "print ref_df.shape\n",
    "ref_df.head()"
   ]
  },
  {
   "cell_type": "code",
   "execution_count": 3,
   "metadata": {},
   "outputs": [
    {
     "data": {
      "text/plain": [
       "Index([u'chebi_id', u'chebi_url', u'description', u'formula', u'hmdb_id',\n",
       "       u'hmdb_url', u'img_abc_id', u'inchi', u'inchi_key', u'iupac_name',\n",
       "       u'kegg_id', u'kegg_url', u'lipidmaps_id', u'lipidmaps_url',\n",
       "       u'metacyc_id', u'mono_isotopic_molecular_weight', u'name',\n",
       "       u'neutralized_2d_inchi', u'neutralized_2d_inchi_key',\n",
       "       u'neutralized_inchi', u'neutralized_inchi_key', u'num_free_radicals',\n",
       "       u'number_components', u'permanent_charge', u'pubchem_compound_id',\n",
       "       u'pubchem_url', u'source', u'synonyms', u'wikipedia_url'],\n",
       "      dtype='object')"
      ]
     },
     "execution_count": 3,
     "metadata": {},
     "output_type": "execute_result"
    }
   ],
   "source": [
    "ref_df.keys()"
   ]
  },
  {
   "cell_type": "code",
   "execution_count": 2,
   "metadata": {},
   "outputs": [
    {
     "name": "stdout",
     "output_type": "stream",
     "text": [
      "49\n",
      "(0, u'20160504_KBL_NyogiLipidsA_NEG_72hr_BD_controlBD_noglc', datetime.datetime(2016, 7, 18, 19, 26, 3))\n",
      "(1, u'20160504_KBL_NyogiLipidsA_POS_24hr_BD_controlBD_noglc', datetime.datetime(2016, 7, 18, 19, 26, 28))\n",
      "(2, u'20160504_KBL_NyogiLipidsA_POS_48hr_BD_treatmentBD_glc', datetime.datetime(2016, 7, 18, 19, 26, 4))\n",
      "(3, u'20160504_KBL_NyogiLipidsA_POS_24hr_BD_treatmentBD_glc', datetime.datetime(2016, 7, 18, 19, 26, 5))\n",
      "(4, u'20160504_KBL_NyogiLipidsA_FPS_standards', datetime.datetime(2016, 7, 18, 19, 26, 35))\n",
      "(5, u'20160504_KBL_NyogiLipidsA_POS_OleicAcid_D9__', datetime.datetime(2016, 7, 18, 19, 26, 5))\n",
      "(6, u'20160504_KBL_NyogiLipidsA_POS_PC_D31__', datetime.datetime(2016, 7, 18, 19, 26, 5))\n",
      "(7, u'20160504_KBL_NyogiLipidsA_POS_48hr_BD_controlBD_noglc', datetime.datetime(2016, 7, 18, 19, 26, 6))\n",
      "(8, u'20160504_KBL_NyogiLipidsA_POS_48hr_BG_controlBG_glcglc', datetime.datetime(2016, 7, 18, 19, 26, 7))\n",
      "(9, u'20160504_KBL_NyogiLipidsA_NEG_12hr_BG_controlBG_glcglc', datetime.datetime(2016, 7, 18, 19, 26, 8))\n",
      "(10, u'20160504_KBL_NyogiLipidsA_NEG_84hr_BD_controlBD_noglc', datetime.datetime(2016, 7, 18, 19, 26, 8))\n",
      "(11, u'20160504_KBL_NyogiLipidsA_POS_PA_D31__', datetime.datetime(2016, 7, 18, 19, 26, 30))\n",
      "(12, u'20160504_KBL_NyogiLipidsA_POS_84hr_BD_controlBD_noglc', datetime.datetime(2016, 7, 18, 19, 26, 29))\n",
      "(13, u'20160504_KBL_NyogiLipidsA_NEG_72hr_BD_treatmentBD_glc', datetime.datetime(2016, 7, 18, 19, 26, 9))\n",
      "(14, u'20160504_KBL_NyogiLipidsA_NEG_48hr_BD_controlBD_noglc', datetime.datetime(2016, 7, 18, 19, 26, 10))\n",
      "(15, u'20160504_KBL_NyogiLipidsA_POS_SQDG_nolabel__', datetime.datetime(2016, 7, 18, 19, 26, 10))\n",
      "(16, u'20160504_KBL_NyogiLipidsA_POS_84hr0hr_BDBG_treatmentBD_glc', datetime.datetime(2016, 7, 18, 19, 26, 10))\n",
      "(17, u'20160504_KBL_NyogiLipidsA_POS_DGTS_D9__', datetime.datetime(2016, 7, 18, 19, 26, 11))\n",
      "(18, u'20160504_KBL_NyogiLipidsA_NEG_Pre___', datetime.datetime(2016, 7, 18, 19, 26, 11))\n",
      "(19, u'20160504_KBL_NyogiLipidsA_NEG_12hr_BG_treatmentBG_glcnoglc', datetime.datetime(2016, 7, 18, 19, 26, 12))\n",
      "(20, u'20160504_KBL_NyogiLipidsA_POS_lysoPC_17oddchain__', datetime.datetime(2016, 7, 18, 19, 26, 13))\n",
      "(21, u'20160504_KBL_NyogiLipidsA_NEG_48hr_BD_treatmentBD_glc', datetime.datetime(2016, 7, 18, 19, 26, 13))\n",
      "(22, u'20160504_KBL_NyogiLipidsA_NEG_48hr_BG_controlBG_glcglc', datetime.datetime(2016, 7, 18, 19, 26, 14))\n",
      "(23, u'20160504_KBL_NyogiLipidsA_NEG_24hr_BD_controlBD_noglc', datetime.datetime(2016, 7, 18, 19, 26, 15))\n",
      "(24, u'20160504_KBL_NyogiLipidsA_NEG_standards', datetime.datetime(2016, 7, 18, 19, 26, 18))\n",
      "(25, u'20160504_KBL_NyogiLipidsA_POS_MGDG_nolabel__', datetime.datetime(2016, 7, 18, 19, 26, 19))\n",
      "(26, u'20160504_KBL_NyogiLipidsA_POS_72hr_BD_controlBD_noglc', datetime.datetime(2016, 7, 18, 19, 26, 19))\n",
      "(27, u'20160504_KBL_NyogiLipidsA_NEG_84hr0hr_BDBG_treatmentBD_glc', datetime.datetime(2016, 7, 18, 19, 26, 20))\n",
      "(28, u'20160504_KBL_NyogiLipidsA_POS_24hr_BG_controlBG_glcglc', datetime.datetime(2016, 7, 18, 19, 26, 21))\n",
      "(29, u'20160504_KBL_NyogiLipidsA_NEG_48hr_BG_treatmentBG_glcnoglc', datetime.datetime(2016, 7, 18, 19, 26, 22))\n",
      "(30, u'20160504_KBL_NyogiLipidsA_NEG_0hr_BD_controlBD_noglc', datetime.datetime(2016, 7, 18, 19, 26, 22))\n",
      "(31, u'20160504_KBL_NyogiLipidsA_NEG_24hr_BG_treatmentBG_glcnoglc', datetime.datetime(2016, 7, 18, 19, 26, 23))\n",
      "(32, u'20160504_KBL_NyogiLipidsA_POS_MG_17oddchain__', datetime.datetime(2016, 7, 18, 19, 26, 23))\n",
      "(33, u'20160504_KBL_NyogiLipidsA_POS_12hr_BG_treatmentBG_glcnoglc', datetime.datetime(2016, 7, 18, 19, 26, 24))\n",
      "(34, u'20160504_KBL_NyogiLipidsA_POS_72hr_BD_treatmentBD_glc', datetime.datetime(2016, 7, 18, 19, 26, 26))\n",
      "(35, u'20160504_KBL_NyogiLipidsA_POS_12hr_BG_controlBG_glcglc', datetime.datetime(2016, 7, 18, 19, 26, 25))\n",
      "(36, u'20160504_KBL_NyogiLipidsA_NEG_24hr_BD_treatmentBD_glc', datetime.datetime(2016, 7, 18, 19, 26, 26))\n",
      "(37, u'20160504_KBL_NyogiLipidsA_POS_standards', datetime.datetime(2016, 7, 18, 19, 26, 24))\n",
      "(38, u'20160504_KBL_NyogiLipidsA_POS_PG_D5__', datetime.datetime(2016, 7, 18, 19, 26, 26))\n",
      "(39, u'20160504_KBL_NyogiLipidsA_POS_4uM___', datetime.datetime(2016, 7, 18, 19, 26, 27))\n",
      "(40, u'20160504_KBL_NyogiLipidsA_NEG_24hr_BG_controlBG_glcglc', datetime.datetime(2016, 7, 18, 19, 26, 27))\n",
      "(41, u'20160504_KBL_NyogiLipidsA_POS_PS_D31__', datetime.datetime(2016, 7, 18, 19, 26, 19))\n",
      "(42, u'20160504_KBL_NyogiLipidsA_POS_0hr_BD_controlBD_noglc', datetime.datetime(2016, 7, 18, 19, 26, 29))\n",
      "(43, u'20160504_KBL_NyogiLipidsA_POS_DGDG_nolabel__', datetime.datetime(2016, 7, 18, 19, 26, 18))\n",
      "(44, u'20160504_KBL_NyogiLipidsA_POS_PE_D31__', datetime.datetime(2016, 7, 18, 19, 26, 21))\n",
      "(45, u'20160504_KBL_NyogiLipidsA_POS_DG_D5__', datetime.datetime(2016, 7, 18, 19, 26, 35))\n",
      "(46, u'20160504_KBL_NyogiLipidsA_POS_TG_D5__', datetime.datetime(2016, 7, 18, 19, 26, 35))\n",
      "(47, u'20160504_KBL_NyogiLipidsA_POS_24hr_BG_treatmentBG_glcnoglc', datetime.datetime(2016, 7, 18, 19, 26, 36))\n",
      "(48, u'20160504_KBL_NyogiLipidsA_POS_48hr_BG_treatmentBG_glcnoglc', datetime.datetime(2016, 7, 18, 19, 26, 37))\n"
     ]
    }
   ],
   "source": [
    "dp = reload(dp)\n",
    "groups = dp.select_groups_for_analysis(name = '%nyogilipidsA%',\n",
    "                                       most_recent = True,\n",
    "                                       remove_empty = True,\n",
    "                                       include_list = [], exclude_list = ['QC','Blank','extractioncontrol'])"
   ]
  },
  {
   "cell_type": "markdown",
   "metadata": {},
   "source": [
    "# Functions"
   ]
  },
  {
   "cell_type": "code",
   "execution_count": 3,
   "metadata": {},
   "outputs": [],
   "source": [
    "def dataframe_container_from_metatlas_hdf5_file(my_file):\n",
    "    data_df = pd.DataFrame()\n",
    "    pd_h5_file  = pd.HDFStore(my_file)\n",
    "    keys = pd_h5_file.keys()\n",
    "    pd_h5_file.close()\n",
    "    df_container = {}\n",
    "    for k in keys:\n",
    "        if ('ms' in k) and not ('_mz' in k):\n",
    "            new_df = pd.read_hdf(my_file,k)\n",
    "            df_container[k[1:]] = new_df\n",
    "    return df_container\n"
   ]
  },
  {
   "cell_type": "code",
   "execution_count": 4,
   "metadata": {},
   "outputs": [],
   "source": [
    "import os\n",
    "df = pd.DataFrame()\n",
    "for group in groups:\n",
    "    for my_file in group.items:\n",
    "        container = dataframe_container_from_metatlas_hdf5_file(my_file.hdf5_file)\n",
    "        for k in container.keys():\n",
    "            if ('ms2' in k) and ('pos' in k):\n",
    "                container[k]['polarity'] = 'positive'\n",
    "                container[k]['hdf5_file'] = os.path.basename(my_file.hdf5_file)\n",
    "                df = pd.concat([df,container[k]],axis=0)\n",
    "            elif ('ms2' in k) and ('neg' in k):\n",
    "                container[k]['polarity'] = 'negative'\n",
    "                container[k]['hdf5_file'] = os.path.basename(my_file.hdf5_file)\n",
    "                df = pd.concat([df,container[k]],axis=0)\n"
   ]
  },
  {
   "cell_type": "code",
   "execution_count": 5,
   "metadata": {},
   "outputs": [
    {
     "data": {
      "text/html": [
       "<div>\n",
       "<table border=\"1\" class=\"dataframe\">\n",
       "  <thead>\n",
       "    <tr style=\"text-align: right;\">\n",
       "      <th></th>\n",
       "      <th>mz</th>\n",
       "      <th>i</th>\n",
       "      <th>rt</th>\n",
       "      <th>precursor_MZ</th>\n",
       "      <th>precursor_intensity</th>\n",
       "      <th>collision_energy</th>\n",
       "      <th>polarity</th>\n",
       "      <th>hdf5_file</th>\n",
       "    </tr>\n",
       "  </thead>\n",
       "  <tbody>\n",
       "    <tr>\n",
       "      <th>0</th>\n",
       "      <td>54.924725</td>\n",
       "      <td>1707.031982</td>\n",
       "      <td>0.016607</td>\n",
       "      <td>174.960007</td>\n",
       "      <td>2790502.75</td>\n",
       "      <td>20.0</td>\n",
       "      <td>negative</td>\n",
       "      <td>20160504_C18_lipid_NEG_MSMS_KBL_Qex_MR_21_72hr_BD_a_controlBD_noglc___Run44.h5</td>\n",
       "    </tr>\n",
       "    <tr>\n",
       "      <th>1</th>\n",
       "      <td>55.410946</td>\n",
       "      <td>1535.511230</td>\n",
       "      <td>0.016607</td>\n",
       "      <td>174.960007</td>\n",
       "      <td>2790502.75</td>\n",
       "      <td>20.0</td>\n",
       "      <td>negative</td>\n",
       "      <td>20160504_C18_lipid_NEG_MSMS_KBL_Qex_MR_21_72hr_BD_a_controlBD_noglc___Run44.h5</td>\n",
       "    </tr>\n",
       "    <tr>\n",
       "      <th>2</th>\n",
       "      <td>57.473019</td>\n",
       "      <td>1776.081421</td>\n",
       "      <td>0.016607</td>\n",
       "      <td>174.960007</td>\n",
       "      <td>2790502.75</td>\n",
       "      <td>20.0</td>\n",
       "      <td>negative</td>\n",
       "      <td>20160504_C18_lipid_NEG_MSMS_KBL_Qex_MR_21_72hr_BD_a_controlBD_noglc___Run44.h5</td>\n",
       "    </tr>\n",
       "    <tr>\n",
       "      <th>3</th>\n",
       "      <td>71.284447</td>\n",
       "      <td>1834.279419</td>\n",
       "      <td>0.016607</td>\n",
       "      <td>174.960007</td>\n",
       "      <td>2790502.75</td>\n",
       "      <td>20.0</td>\n",
       "      <td>negative</td>\n",
       "      <td>20160504_C18_lipid_NEG_MSMS_KBL_Qex_MR_21_72hr_BD_a_controlBD_noglc___Run44.h5</td>\n",
       "    </tr>\n",
       "    <tr>\n",
       "      <th>4</th>\n",
       "      <td>76.574112</td>\n",
       "      <td>1567.962524</td>\n",
       "      <td>0.016607</td>\n",
       "      <td>174.960007</td>\n",
       "      <td>2790502.75</td>\n",
       "      <td>20.0</td>\n",
       "      <td>negative</td>\n",
       "      <td>20160504_C18_lipid_NEG_MSMS_KBL_Qex_MR_21_72hr_BD_a_controlBD_noglc___Run44.h5</td>\n",
       "    </tr>\n",
       "  </tbody>\n",
       "</table>\n",
       "</div>"
      ],
      "text/plain": [
       "          mz            i        rt  precursor_MZ  precursor_intensity  \\\n",
       "0  54.924725  1707.031982  0.016607    174.960007           2790502.75   \n",
       "1  55.410946  1535.511230  0.016607    174.960007           2790502.75   \n",
       "2  57.473019  1776.081421  0.016607    174.960007           2790502.75   \n",
       "3  71.284447  1834.279419  0.016607    174.960007           2790502.75   \n",
       "4  76.574112  1567.962524  0.016607    174.960007           2790502.75   \n",
       "\n",
       "   collision_energy  polarity  \\\n",
       "0              20.0  negative   \n",
       "1              20.0  negative   \n",
       "2              20.0  negative   \n",
       "3              20.0  negative   \n",
       "4              20.0  negative   \n",
       "\n",
       "                                                                        hdf5_file  \n",
       "0  20160504_C18_lipid_NEG_MSMS_KBL_Qex_MR_21_72hr_BD_a_controlBD_noglc___Run44.h5  \n",
       "1  20160504_C18_lipid_NEG_MSMS_KBL_Qex_MR_21_72hr_BD_a_controlBD_noglc___Run44.h5  \n",
       "2  20160504_C18_lipid_NEG_MSMS_KBL_Qex_MR_21_72hr_BD_a_controlBD_noglc___Run44.h5  \n",
       "3  20160504_C18_lipid_NEG_MSMS_KBL_Qex_MR_21_72hr_BD_a_controlBD_noglc___Run44.h5  \n",
       "4  20160504_C18_lipid_NEG_MSMS_KBL_Qex_MR_21_72hr_BD_a_controlBD_noglc___Run44.h5  "
      ]
     },
     "execution_count": 5,
     "metadata": {},
     "output_type": "execute_result"
    }
   ],
   "source": [
    "df.head()"
   ]
  },
  {
   "cell_type": "code",
   "execution_count": 6,
   "metadata": {},
   "outputs": [],
   "source": [
    "grouped = df.groupby(['precursor_MZ','rt','polarity','precursor_intensity','collision_energy','hdf5_file']).aggregate(lambda x: tuple(x))\n",
    "grouped.mz = grouped.mz.apply(list)\n",
    "grouped.i = grouped.i.apply(list)\n",
    "grouped = grouped.reset_index()\n",
    "grouped['spectrum'] = map(lambda x,y:(x,y),grouped['mz'],grouped['i'])\n",
    "grouped['spectrum'] = grouped['spectrum'].apply(lambda x: zip(x[0],x[1]))\n",
    "grouped.drop(['mz','i'], axis=1, inplace=True)\n"
   ]
  },
  {
   "cell_type": "code",
   "execution_count": 8,
   "metadata": {},
   "outputs": [],
   "source": [
    "df.to_pickle('/scratch2/scratchdirs/bpb/dataframe_storage/df_melissa_lipids_msms_spectra.pkl')"
   ]
  },
  {
   "cell_type": "code",
   "execution_count": 9,
   "metadata": {},
   "outputs": [
    {
     "name": "stdout",
     "output_type": "stream",
     "text": [
      "(14131127, 8)\n",
      "(623630, 7)\n"
     ]
    }
   ],
   "source": [
    "print df.shape\n",
    "print grouped.shape"
   ]
  },
  {
   "cell_type": "code",
   "execution_count": 24,
   "metadata": {},
   "outputs": [
    {
     "name": "stdout",
     "output_type": "stream",
     "text": [
      "precursor_MZ \t80.0496444702\n",
      "rt \t1.02968382835\n",
      "polarity \tpositive\n",
      "precursor_intensity \t585395.125\n",
      "collision_energy \t20.0\n",
      "hdf5_file \t20160504_C18_lipid_POS_MSMS_KBL_Qex_MR_19_48hr_BD_c_treatmentBD_glc___Run82.h5\n",
      "spectrum \t[(53.003055572509766, 147646.359375), (53.03924560546875, 7690.60107421875), (53.998130798339844, 6578.44873046875), (54.006572723388672, 1333.9654541015625), (63.530872344970703, 1273.2967529296875), (66.886268615722656, 1213.8836669921875), (67.252754211425781, 1359.916259765625), (74.269264221191406, 1242.3798828125), (79.0421142578125, 7939.3515625), (79.054801940917969, 13506.3173828125), (80.0452880859375, 1881.0626220703125), (80.050003051757812, 49810.40234375), (81.070259094238281, 9823.8125), (92.106292724609375, 1842.271240234375)]\n",
      "has_dgdg_nl \tTrue\n",
      "<type 'list'>\n"
     ]
    }
   ],
   "source": [
    "for k in grouped.keys():\n",
    "    print k,'\\t',getattr(grouped,k)[0]\n",
    "print type(grouped.spectrum[0])"
   ]
  },
  {
   "cell_type": "code",
   "execution_count": 10,
   "metadata": {},
   "outputs": [
    {
     "data": {
      "text/html": [
       "<div>\n",
       "<table border=\"1\" class=\"dataframe\">\n",
       "  <thead>\n",
       "    <tr style=\"text-align: right;\">\n",
       "      <th></th>\n",
       "      <th>precursor_MZ</th>\n",
       "      <th>rt</th>\n",
       "      <th>polarity</th>\n",
       "      <th>precursor_intensity</th>\n",
       "      <th>collision_energy</th>\n",
       "      <th>hdf5_file</th>\n",
       "      <th>spectrum</th>\n",
       "    </tr>\n",
       "  </thead>\n",
       "  <tbody>\n",
       "    <tr>\n",
       "      <th>0</th>\n",
       "      <td>80.049644</td>\n",
       "      <td>1.029684</td>\n",
       "      <td>positive</td>\n",
       "      <td>5.853951e+05</td>\n",
       "      <td>20.0</td>\n",
       "      <td>20160504_C18_lipid_POS_MSMS_KBL_Qex_MR_19_48hr_BD_c_treatmentBD_glc___Run82.h5</td>\n",
       "      <td>[(53.0030555725, 147646.359375), (53.0392456055, 7690.60107422), (53.9981307983, 6578.44873047),...</td>\n",
       "    </tr>\n",
       "    <tr>\n",
       "      <th>1</th>\n",
       "      <td>80.049644</td>\n",
       "      <td>7.208591</td>\n",
       "      <td>positive</td>\n",
       "      <td>1.073722e+06</td>\n",
       "      <td>20.0</td>\n",
       "      <td>20160504_C18_lipid_POS_MSMS_KBL_Qex_MR_11_24hr_BD_c_treatmentBD_glc___Run85.h5</td>\n",
       "      <td>[(50.0159378052, 1531.24108887), (51.0238189697, 10235.1875), (53.0030555725, 316263.71875), (53...</td>\n",
       "    </tr>\n",
       "    <tr>\n",
       "      <th>2</th>\n",
       "      <td>80.049652</td>\n",
       "      <td>4.948564</td>\n",
       "      <td>positive</td>\n",
       "      <td>1.116939e+06</td>\n",
       "      <td>20.0</td>\n",
       "      <td>20160504_C18_lipid_POS_MSMS_KBL_Qex_MR_55_48hr_BG_c_controlBG_glcglc___Run91.h5</td>\n",
       "      <td>[(51.0237159729, 3196.42651367), (53.0030670166, 295492.71875), (53.0394630432, 34659.96875), (5...</td>\n",
       "    </tr>\n",
       "    <tr>\n",
       "      <th>3</th>\n",
       "      <td>80.049652</td>\n",
       "      <td>7.676896</td>\n",
       "      <td>positive</td>\n",
       "      <td>1.179940e+06</td>\n",
       "      <td>20.0</td>\n",
       "      <td>20160504_C18_lipid_POS_MSMS_KBL_Qex_MR_39_12hr_BG_c_controlBG_glcglc___Run97.h5</td>\n",
       "      <td>[(51.0238075256, 13222.7382812), (52.0315895081, 1647.82775879), (52.3341140747, 1239.13586426),...</td>\n",
       "    </tr>\n",
       "    <tr>\n",
       "      <th>4</th>\n",
       "      <td>80.049660</td>\n",
       "      <td>0.765142</td>\n",
       "      <td>positive</td>\n",
       "      <td>5.261536e+05</td>\n",
       "      <td>20.0</td>\n",
       "      <td>20160504_C18_lipid_POS_MSMS_KBL_Qex_MR_3_0hr_BD_c_controlBD_noglc___Run88.h5</td>\n",
       "      <td>[(53.0030555725, 137306.203125), (53.0392875671, 8933.91601562), (53.9981498718, 7395.19238281),...</td>\n",
       "    </tr>\n",
       "  </tbody>\n",
       "</table>\n",
       "</div>"
      ],
      "text/plain": [
       "   precursor_MZ        rt  polarity  precursor_intensity  collision_energy  \\\n",
       "0     80.049644  1.029684  positive         5.853951e+05              20.0   \n",
       "1     80.049644  7.208591  positive         1.073722e+06              20.0   \n",
       "2     80.049652  4.948564  positive         1.116939e+06              20.0   \n",
       "3     80.049652  7.676896  positive         1.179940e+06              20.0   \n",
       "4     80.049660  0.765142  positive         5.261536e+05              20.0   \n",
       "\n",
       "                                                                         hdf5_file  \\\n",
       "0   20160504_C18_lipid_POS_MSMS_KBL_Qex_MR_19_48hr_BD_c_treatmentBD_glc___Run82.h5   \n",
       "1   20160504_C18_lipid_POS_MSMS_KBL_Qex_MR_11_24hr_BD_c_treatmentBD_glc___Run85.h5   \n",
       "2  20160504_C18_lipid_POS_MSMS_KBL_Qex_MR_55_48hr_BG_c_controlBG_glcglc___Run91.h5   \n",
       "3  20160504_C18_lipid_POS_MSMS_KBL_Qex_MR_39_12hr_BG_c_controlBG_glcglc___Run97.h5   \n",
       "4     20160504_C18_lipid_POS_MSMS_KBL_Qex_MR_3_0hr_BD_c_controlBD_noglc___Run88.h5   \n",
       "\n",
       "                                                                                              spectrum  \n",
       "0  [(53.0030555725, 147646.359375), (53.0392456055, 7690.60107422), (53.9981307983, 6578.44873047),...  \n",
       "1  [(50.0159378052, 1531.24108887), (51.0238189697, 10235.1875), (53.0030555725, 316263.71875), (53...  \n",
       "2  [(51.0237159729, 3196.42651367), (53.0030670166, 295492.71875), (53.0394630432, 34659.96875), (5...  \n",
       "3  [(51.0238075256, 13222.7382812), (52.0315895081, 1647.82775879), (52.3341140747, 1239.13586426),...  \n",
       "4  [(53.0030555725, 137306.203125), (53.0392875671, 8933.91601562), (53.9981498718, 7395.19238281),...  "
      ]
     },
     "execution_count": 10,
     "metadata": {},
     "output_type": "execute_result"
    }
   ],
   "source": [
    "grouped.head()"
   ]
  },
  {
   "cell_type": "markdown",
   "metadata": {
    "collapsed": true
   },
   "source": [
    "### Scan spectra for neutral losses\n",
    "* DGDG: neutral loss of 341 or 180.0634\\*2-1.0078*3-15.994915\n",
    "    - also DGDG with NH4 subtracted seems to be common\n",
    "* MGDG: neutral loss of 179\n",
    "* PG: neutral loss of 189"
   ]
  },
  {
   "cell_type": "code",
   "execution_count": 33,
   "metadata": {},
   "outputs": [],
   "source": [
    "target = 236.1485\n",
    "min_intensity = 1e4\n",
    "ppm = 100\n",
    "neutral_loss = 180.0634*2-1.0078*3-15.994915\n",
    "min_precursor_intensity = 1e4\n",
    "min_precursor_mz = 500\n",
    "polarity = 'positive'\n",
    "\n",
    "def search_spectrum(spectrum,target,min_intensity,ppm):\n",
    "    for s in spectrum:\n",
    "        if (abs(s[0] - target) < target*ppm/1e6) & (s[1] > min_intensity):\n",
    "            return True\n",
    "    return False\n",
    "\n",
    "def search_neutral_loss_spectrum(row,neutral_loss,min_intensity,ppm,min_precursor_mz,min_precursor_intensity,polarity):\n",
    "    if (row.precursor_MZ > min_precursor_mz) & (row.polarity == polarity) & (row.precursor_intensity > min_precursor_intensity):\n",
    "        #TODO: replace with numpy or numexpr\n",
    "        for s in row.spectrum:\n",
    "            if (abs(s[0] - row.precursor_MZ) < row.precursor_MZ*ppm/1e6) & (s[1] > min_intensity):\n",
    "                return True\n",
    "    return False\n",
    "\n",
    "# grouped['has_target_fragment'] = grouped['spectrum'].apply(search_spectrum,args = (target,min_intensity,ppm))\n",
    "grouped['has_dgdg_nl'] = grouped.apply(search_neutral_loss_spectrum,\n",
    "                                       axis=1,\n",
    "                                       args=(neutral_loss,\n",
    "                                             min_intensity,\n",
    "                                             ppm,\n",
    "                                             min_precursor_mz,\n",
    "                                             min_precursor_intensity,\n",
    "                                             polarity))\n"
   ]
  },
  {
   "cell_type": "code",
   "execution_count": null,
   "metadata": {},
   "outputs": [],
   "source": [
    "# idx = (grouped.has_target_fragment) & (grouped.rt > 3.5) & (grouped.rt < 7.5) & (grouped.precursor_MZ > 500)\n",
    "# print len(idx)\n",
    "# df_sqdg = grouped[idx]"
   ]
  },
  {
   "cell_type": "code",
   "execution_count": 38,
   "metadata": {},
   "outputs": [],
   "source": [
    "def make_unique_mzrt(df,mz_cutoff = 0.02, rt_cutoff = 0.1):\n",
    "    '''\n",
    "    sort the spectra in descending order\n",
    "    keep only mz different by mz_cutoff\n",
    "    '''\n",
    "    df = df.sort_values('precursor_intensity',ascending=False)\n",
    "    df_unique = pd.DataFrame()\n",
    "    df_unique = df.iloc[[0]]\n",
    "    for i in df.index:\n",
    "        idx = abs(df.loc[i,'precursor_MZ'] - df_unique.precursor_MZ) < mz_cutoff\n",
    "        if sum(idx) == 0:\n",
    "            #The mz is new so add it\n",
    "            df_unique = pd.concat([df_unique,df.loc[[i]]],axis = 0)\n",
    "        else:\n",
    "            #the mz has been seen before; so see if the rt is new\n",
    "            if sum(abs(df_unique[idx].rt - df.loc[i,'rt']) < rt_cutoff)==0:\n",
    "                df_unique = pd.concat([df_unique,df.loc[[i]]],axis = 0)\n",
    "    return df_unique\n",
    "df_unique_dgdg = make_unique_mzrt(grouped[grouped.has_dgdg_nl])"
   ]
  },
  {
   "cell_type": "code",
   "execution_count": 39,
   "metadata": {},
   "outputs": [
    {
     "data": {
      "text/plain": [
       "(3288, 8)"
      ]
     },
     "execution_count": 39,
     "metadata": {},
     "output_type": "execute_result"
    }
   ],
   "source": [
    "df_unique_dgdg.shape"
   ]
  },
  {
   "cell_type": "code",
   "execution_count": null,
   "metadata": {},
   "outputs": [],
   "source": [
    "df_unique_dgdg.head(10)"
   ]
  },
  {
   "cell_type": "code",
   "execution_count": 41,
   "metadata": {},
   "outputs": [],
   "source": [
    "df_unique_dgdg.to_csv('/global/homes/b/bpb/Downloads/dgdg_potential_hits.csv')"
   ]
  },
  {
   "cell_type": "code",
   "execution_count": 42,
   "metadata": {
    "collapsed": true
   },
   "outputs": [],
   "source": [
    "from matplotlib import pyplot as plt\n",
    "%matplotlib inline"
   ]
  },
  {
   "cell_type": "code",
   "execution_count": 1,
   "metadata": {},
   "outputs": [
    {
     "ename": "NameError",
     "evalue": "name 'plt' is not defined",
     "output_type": "error",
     "traceback": [
      "\u001b[1;31m\u001b[0m",
      "\u001b[1;31mNameError\u001b[0mTraceback (most recent call last)",
      "\u001b[1;32m<ipython-input-1-7448376a3a7c>\u001b[0m in \u001b[0;36m<module>\u001b[1;34m()\u001b[0m\n\u001b[1;32m----> 1\u001b[1;33m \u001b[1;32mprint\u001b[0m\u001b[1;33m(\u001b[0m\u001b[0mplt\u001b[0m\u001b[1;33m.\u001b[0m\u001b[0mstyle\u001b[0m\u001b[1;33m.\u001b[0m\u001b[0mavailable\u001b[0m\u001b[1;33m)\u001b[0m\u001b[1;33m\u001b[0m\u001b[0m\n\u001b[0m",
      "\u001b[1;31mNameError\u001b[0m: name 'plt' is not defined"
     ]
    }
   ],
   "source": [
    "print(plt.style.available)"
   ]
  },
  {
   "cell_type": "code",
   "execution_count": 51,
   "metadata": {
    "collapsed": true
   },
   "outputs": [],
   "source": [
    "import os"
   ]
  },
  {
   "cell_type": "code",
   "execution_count": null,
   "metadata": {
    "scrolled": false
   },
   "outputs": [
    {
     "name": "stdout",
     "output_type": "stream",
     "text": [
      "Traceback (most recent call last):\n",
      "  File \"/global/common/edison/software/python/2.7-anaconda/lib/python2.7/site-packages/IPython/core/ultratb.py\", line 1120, in get_records\n",
      "    return _fixed_getinnerframes(etb, number_of_lines_of_context, tb_offset)\n",
      "  File \"/global/common/edison/software/python/2.7-anaconda/lib/python2.7/site-packages/IPython/core/ultratb.py\", line 301, in wrapped\n",
      "    return f(*args, **kwargs)\n",
      "  File \"/global/common/edison/software/python/2.7-anaconda/lib/python2.7/site-packages/IPython/core/ultratb.py\", line 364, in _fixed_getinnerframes\n",
      "    lines = ulinecache.getlines(file)[start:end]\n",
      "  File \"/global/common/edison/software/python/2.7-anaconda/lib/python2.7/site-packages/IPython/utils/ulinecache.py\", line 37, in getlines\n",
      "    return [l.decode(encoding, 'replace') for l in lines]\n",
      "  File \"/global/common/edison/software/python/2.7-anaconda/lib/python2.7/encodings/utf_8.py\", line 15, in decode\n",
      "    def decode(input, errors='strict'):\n",
      "KeyboardInterrupt\n"
     ]
    },
    {
     "name": "stderr",
     "output_type": "stream",
     "text": [
      "ERROR: Internal Python error in the inspect module.\n",
      "Below is the traceback from this internal error.\n",
      "\n",
      "\n",
      "Unfortunately, your original traceback can not be constructed.\n",
      "\n"
     ]
    },
    {
     "ename": "IndexError",
     "evalue": "string index out of range",
     "output_type": "error",
     "traceback": [
      "\u001b[1;31m\u001b[0m",
      "\u001b[1;31mIndexError\u001b[0mTraceback (most recent call last)",
      "\u001b[1;32m/global/common/edison/software/python/2.7-anaconda/lib/python2.7/site-packages/IPython/core/interactiveshell.pyc\u001b[0m in \u001b[0;36mrun_code\u001b[1;34m(self, code_obj, result)\u001b[0m\n\u001b[0;32m   2900\u001b[0m             \u001b[1;32mif\u001b[0m \u001b[0mresult\u001b[0m \u001b[1;32mis\u001b[0m \u001b[1;32mnot\u001b[0m \u001b[0mNone\u001b[0m\u001b[1;33m:\u001b[0m\u001b[1;33m\u001b[0m\u001b[0m\n\u001b[0;32m   2901\u001b[0m                 \u001b[0mresult\u001b[0m\u001b[1;33m.\u001b[0m\u001b[0merror_in_exec\u001b[0m \u001b[1;33m=\u001b[0m \u001b[0msys\u001b[0m\u001b[1;33m.\u001b[0m\u001b[0mexc_info\u001b[0m\u001b[1;33m(\u001b[0m\u001b[1;33m)\u001b[0m\u001b[1;33m[\u001b[0m\u001b[1;36m1\u001b[0m\u001b[1;33m]\u001b[0m\u001b[1;33m\u001b[0m\u001b[0m\n\u001b[1;32m-> 2902\u001b[1;33m             \u001b[0mself\u001b[0m\u001b[1;33m.\u001b[0m\u001b[0mshowtraceback\u001b[0m\u001b[1;33m(\u001b[0m\u001b[1;33m)\u001b[0m\u001b[1;33m\u001b[0m\u001b[0m\n\u001b[0m\u001b[0;32m   2903\u001b[0m         \u001b[1;32melse\u001b[0m\u001b[1;33m:\u001b[0m\u001b[1;33m\u001b[0m\u001b[0m\n\u001b[0;32m   2904\u001b[0m             \u001b[0moutflag\u001b[0m \u001b[1;33m=\u001b[0m \u001b[1;36m0\u001b[0m\u001b[1;33m\u001b[0m\u001b[0m\n",
      "\u001b[1;32m/global/common/edison/software/python/2.7-anaconda/lib/python2.7/site-packages/IPython/core/interactiveshell.pyc\u001b[0m in \u001b[0;36mshowtraceback\u001b[1;34m(self, exc_tuple, filename, tb_offset, exception_only)\u001b[0m\n\u001b[0;32m   1828\u001b[0m                     \u001b[1;32mexcept\u001b[0m \u001b[0mException\u001b[0m\u001b[1;33m:\u001b[0m\u001b[1;33m\u001b[0m\u001b[0m\n\u001b[0;32m   1829\u001b[0m                         stb = self.InteractiveTB.structured_traceback(etype,\n\u001b[1;32m-> 1830\u001b[1;33m                                             value, tb, tb_offset=tb_offset)\n\u001b[0m\u001b[0;32m   1831\u001b[0m \u001b[1;33m\u001b[0m\u001b[0m\n\u001b[0;32m   1832\u001b[0m                     \u001b[0mself\u001b[0m\u001b[1;33m.\u001b[0m\u001b[0m_showtraceback\u001b[0m\u001b[1;33m(\u001b[0m\u001b[0metype\u001b[0m\u001b[1;33m,\u001b[0m \u001b[0mvalue\u001b[0m\u001b[1;33m,\u001b[0m \u001b[0mstb\u001b[0m\u001b[1;33m)\u001b[0m\u001b[1;33m\u001b[0m\u001b[0m\n",
      "\u001b[1;32m/global/common/edison/software/python/2.7-anaconda/lib/python2.7/site-packages/IPython/core/ultratb.pyc\u001b[0m in \u001b[0;36mstructured_traceback\u001b[1;34m(self, etype, value, tb, tb_offset, number_of_lines_of_context)\u001b[0m\n\u001b[0;32m   1392\u001b[0m         \u001b[0mself\u001b[0m\u001b[1;33m.\u001b[0m\u001b[0mtb\u001b[0m \u001b[1;33m=\u001b[0m \u001b[0mtb\u001b[0m\u001b[1;33m\u001b[0m\u001b[0m\n\u001b[0;32m   1393\u001b[0m         return FormattedTB.structured_traceback(\n\u001b[1;32m-> 1394\u001b[1;33m             self, etype, value, tb, tb_offset, number_of_lines_of_context)\n\u001b[0m\u001b[0;32m   1395\u001b[0m \u001b[1;33m\u001b[0m\u001b[0m\n\u001b[0;32m   1396\u001b[0m \u001b[1;33m\u001b[0m\u001b[0m\n",
      "\u001b[1;32m/global/common/edison/software/python/2.7-anaconda/lib/python2.7/site-packages/IPython/core/ultratb.pyc\u001b[0m in \u001b[0;36mstructured_traceback\u001b[1;34m(self, etype, value, tb, tb_offset, number_of_lines_of_context)\u001b[0m\n\u001b[0;32m   1300\u001b[0m             \u001b[1;31m# Verbose modes need a full traceback\u001b[0m\u001b[1;33m\u001b[0m\u001b[1;33m\u001b[0m\u001b[0m\n\u001b[0;32m   1301\u001b[0m             return VerboseTB.structured_traceback(\n\u001b[1;32m-> 1302\u001b[1;33m                 \u001b[0mself\u001b[0m\u001b[1;33m,\u001b[0m \u001b[0metype\u001b[0m\u001b[1;33m,\u001b[0m \u001b[0mvalue\u001b[0m\u001b[1;33m,\u001b[0m \u001b[0mtb\u001b[0m\u001b[1;33m,\u001b[0m \u001b[0mtb_offset\u001b[0m\u001b[1;33m,\u001b[0m \u001b[0mnumber_of_lines_of_context\u001b[0m\u001b[1;33m\u001b[0m\u001b[0m\n\u001b[0m\u001b[0;32m   1303\u001b[0m             )\n\u001b[0;32m   1304\u001b[0m         \u001b[1;32melse\u001b[0m\u001b[1;33m:\u001b[0m\u001b[1;33m\u001b[0m\u001b[0m\n",
      "\u001b[1;32m/global/common/edison/software/python/2.7-anaconda/lib/python2.7/site-packages/IPython/core/ultratb.pyc\u001b[0m in \u001b[0;36mstructured_traceback\u001b[1;34m(self, etype, evalue, etb, tb_offset, number_of_lines_of_context)\u001b[0m\n\u001b[0;32m   1184\u001b[0m                 \u001b[0mstructured_traceback_parts\u001b[0m \u001b[1;33m+=\u001b[0m \u001b[0mformatted_exception\u001b[0m\u001b[1;33m\u001b[0m\u001b[0m\n\u001b[0;32m   1185\u001b[0m         \u001b[1;32melse\u001b[0m\u001b[1;33m:\u001b[0m\u001b[1;33m\u001b[0m\u001b[0m\n\u001b[1;32m-> 1186\u001b[1;33m             \u001b[0mstructured_traceback_parts\u001b[0m \u001b[1;33m+=\u001b[0m \u001b[0mformatted_exception\u001b[0m\u001b[1;33m[\u001b[0m\u001b[1;36m0\u001b[0m\u001b[1;33m]\u001b[0m\u001b[1;33m\u001b[0m\u001b[0m\n\u001b[0m\u001b[0;32m   1187\u001b[0m \u001b[1;33m\u001b[0m\u001b[0m\n\u001b[0;32m   1188\u001b[0m         \u001b[1;32mreturn\u001b[0m \u001b[0mstructured_traceback_parts\u001b[0m\u001b[1;33m\u001b[0m\u001b[0m\n",
      "\u001b[1;31mIndexError\u001b[0m: string index out of range"
     ]
    },
    {
     "data": {
      "text/plain": [
       "<matplotlib.figure.Figure at 0x2aae542ddc50>"
      ]
     },
     "metadata": {},
     "output_type": "display_data"
    }
   ],
   "source": [
    "outdir = '/global/homes/b/bpb/Downloads/dgdg_msms/'\n",
    "for i in df_unique_dgdg.index:\n",
    "    s = df_unique_dgdg.loc[i,'spectrum']\n",
    "    mz = zip(*s)[0]\n",
    "    intensity = zip(*s)[1]\n",
    "    fig = plt.figure(figsize=(11,8.5))\n",
    "    plt.style.use('seaborn-ticks')\n",
    "    ax = plt.gca()\n",
    "    ax.vlines(mz,intensity*0,intensity)\n",
    "    ax.set_xlim(0,df_unique_dgdg.loc[i,'precursor_MZ']+5)\n",
    "    ax.set_xlabel('m/z')\n",
    "    ax.set_ylabel('intensity')\n",
    "    sx = np.argsort(intensity)[::-1]\n",
    "    labels = [1.001e9]\n",
    "    for i_mz in sx:\n",
    "        if np.min(np.abs(mz[i_mz] - labels)) > 0.1 and intensity[i_mz] > 0.02 * np.max(intensity):\n",
    "            ax.annotate('%5.4f'%mz[i_mz], xy=(mz[i_mz], 1.01*intensity[i_mz]),rotation = 90, horizontalalignment = 'center', verticalalignment = 'left')\n",
    "            labels.append(mz[i_mz])\n",
    "    plt.tight_layout()\n",
    "    L = plt.ylim()\n",
    "    plt.ylim(L[0],L[1]*1.12)\n",
    "    if not os.path.isdir(outdir):\n",
    "        os.mkdir(outdir)\n",
    "    fig.savefig(os.path.join(outdir,'msms_spectra_%d.png'%i))\n",
    "    plt.close(fig)\n"
   ]
  },
  {
   "cell_type": "code",
   "execution_count": null,
   "metadata": {
    "collapsed": true
   },
   "outputs": [],
   "source": [
    "1"
   ]
  },
  {
   "cell_type": "code",
   "execution_count": null,
   "metadata": {
    "collapsed": true
   },
   "outputs": [],
   "source": []
  }
 ],
 "metadata": {
  "anaconda-cloud": {},
  "kernelspec": {
   "display_name": "MetAtlas 2.7",
   "language": "python",
   "name": "metatlas"
  },
  "language_info": {
   "codemirror_mode": {
    "name": "ipython",
    "version": 2
   },
   "file_extension": ".py",
   "mimetype": "text/x-python",
   "name": "python",
   "nbconvert_exporter": "python",
   "pygments_lexer": "ipython2",
   "version": "2.7.13"
  }
 },
 "nbformat": 4,
 "nbformat_minor": 1
}
