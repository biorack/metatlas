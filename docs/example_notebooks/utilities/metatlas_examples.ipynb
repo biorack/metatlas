{
 "cells": [
  {
   "cell_type": "code",
   "execution_count": null,
   "metadata": {
    "collapsed": false
   },
   "outputs": [],
   "source": [
    "import metatlas\n",
    "import matplotlib.pyplot as plt\n",
    "import numpy as np"
   ]
  },
  {
   "cell_type": "code",
   "execution_count": null,
   "metadata": {
    "collapsed": true
   },
   "outputs": [],
   "source": []
  },
  {
   "cell_type": "code",
   "execution_count": null,
   "metadata": {
    "collapsed": false
   },
   "outputs": [],
   "source": [
    "# myPath = '/global/homes/b/bpb/ExoMetabolomic_Example_Data/'\n",
    "myPath = '/project/projectdirs/metatlas/original_data/tls/150330_bundle_timecourse/'\n",
    "%system ls $myPath\n",
    "# myFile = 'MEDIA-1.mzML'\n",
    "myFile = '150405_2A_1day_neg.mzML'\n",
    "metatlas.mzml_to_hdf('%s%s'%(myPath,myFile))"
   ]
  },
  {
   "cell_type": "code",
   "execution_count": null,
   "metadata": {
    "collapsed": false
   },
   "outputs": [],
   "source": [
    "import tables\n",
    "fid = tables.open_file('%s%s'%(myPath,myFile.replace('mzML','h5')))"
   ]
  },
  {
   "cell_type": "code",
   "execution_count": null,
   "metadata": {
    "collapsed": false
   },
   "outputs": [],
   "source": [
    "polarity = 0\n",
    "# mz_theor = 205.0971541 #tryptophan\n",
    "# mz_theor = 150.0583 #methionine\n",
    "mz_theor = 386.999943 #Leu-Leu\n",
    "rt,intensity = metatlas.get_XIC(fid, 0, 1500, 1, polarity)\n",
    "metatlas.plot_XIC(rt,intensity)"
   ]
  },
  {
   "cell_type": "code",
   "execution_count": null,
   "metadata": {
    "collapsed": false
   },
   "outputs": [],
   "source": [
    "polarity = 0\n",
    "# mz_theor = 205.0971541 #tryptophan\n",
    "# mz_theor = 150.0583 #methionine\n",
    "mz_theor = 133.051136\n",
    "rt,intensity = metatlas.get_XIC(fid, mz_theor - mz_theor*50/1e6, mz_theor + mz_theor*50/1e6, 1, polarity)"
   ]
  },
  {
   "cell_type": "code",
   "execution_count": null,
   "metadata": {
    "collapsed": false
   },
   "outputs": [],
   "source": [
    "%matplotlib inline\n",
    "metatlas.plot_XIC(rt,intensity)\n",
    "plt.xlim(3,7)"
   ]
  },
  {
   "cell_type": "code",
   "execution_count": null,
   "metadata": {
    "collapsed": false
   },
   "outputs": [],
   "source": [
    "# get coarse 2d hist\n",
    "mzEdges = np.linspace(80, 620,500)\n",
    "rtEdges = np.linspace(2,15,500)\n",
    "ms_level = 1\n",
    "polarity = 0\n",
    "hMap = metatlas.get_heatmap(fid,mzEdges,rtEdges,ms_level,polarity)\n",
    "metatlas.plot_heatmap(np.log10(hMap['arr']+1),hMap['rt_bins'],hMap['mz_bins'],title='entire file')\n",
    "plt.gca().get_yaxis().get_major_formatter().set_useOffset(False)\n",
    "fig = plt.gcf()\n",
    "fig.set_size_inches(18.5, 10.5)\n",
    "# fig.savefig('test2png.png', dpi=100)"
   ]
  },
  {
   "cell_type": "code",
   "execution_count": null,
   "metadata": {
    "collapsed": false,
    "scrolled": true
   },
   "outputs": [],
   "source": [
    "\n",
    "ms_level=2\n",
    "rt_min = 3.0\n",
    "rt_max = 3.5\n",
    "data = metatlas.get_data(fid, ms_level, polarity,\n",
    "                    min_mz=0,\n",
    "                    max_mz=mz_theor+10,\n",
    "                    min_rt=rt_min,\n",
    "                    max_rt=rt_max,\n",
    "                    min_precursor_MZ=mz_theor -  mz_theor*10/1e6,\n",
    "                    max_precursor_MZ=mz_theor +  mz_theor*10/1e6)\n",
    "#                     min_precursor_intensity=0,\n",
    "#                     max_precursor_intensity=0,\n",
    "#                     min_collision_energy=0,\n",
    "#                     max_collision_energy=0)\n",
    "plt.vlines(data['mz'],0,data['i'],color='r',linestyles='solid')\n",
    "plt.xlabel('m/z')\n",
    "plt.ylabel('intensity')\n",
    "# plt.xlim(0,225)\n",
    "# plt.plot(data['mz'],data['i'])\n",
    "plt.show()\n",
    "idx = np.argsort(data['i'])\n",
    "print data['mz'][idx]\n"
   ]
  },
  {
   "cell_type": "code",
   "execution_count": null,
   "metadata": {
    "collapsed": false,
    "scrolled": false
   },
   "outputs": [],
   "source": [
    "from metatlas import xcms\n",
    "import os\n",
    "myFileList = []\n",
    "for file in os.listdir(myPath):\n",
    "    if file.endswith(\".mzML\"):\n",
    "        if 'neg' in file:\n",
    "            myFileList.append('%s%s'%(myPath,file))\n",
    "print myFileList\n",
    "xset = xcms.get_xmcs_set(myFileList)\n",
    "xset = xcms.group(xset)\n",
    "df = xcms.peak_table(xset)\n",
    "print(df.head())"
   ]
  },
  {
   "cell_type": "code",
   "execution_count": null,
   "metadata": {
    "collapsed": false
   },
   "outputs": [],
   "source": [
    "# print df['mz'][0]\n",
    "# print df['STRAIN2.1'][0]\n",
    "myKeys = np.sort(df.keys()[8:])\n",
    "M = np.zeros((len(df),len(myKeys)))\n",
    "for i,k in enumerate(myKeys):\n",
    "    for j,d in enumerate(df[k]):\n",
    "        M[j,i] = float(d)\n",
    "M = np.nan_to_num(M)"
   ]
  },
  {
   "cell_type": "code",
   "execution_count": null,
   "metadata": {
    "collapsed": false
   },
   "outputs": [],
   "source": [
    "df"
   ]
  },
  {
   "cell_type": "code",
   "execution_count": null,
   "metadata": {
    "collapsed": false
   },
   "outputs": [],
   "source": [
    "m_idx = np.argmax(M,axis = 1)\n",
    "m = np.max(M,axis = 1)\n",
    "idx = np.argsort(m)[::-1]"
   ]
  },
  {
   "cell_type": "code",
   "execution_count": null,
   "metadata": {
    "collapsed": false
   },
   "outputs": [],
   "source": [
    "print df['mz'][idx[:5]]\n",
    "# df['rt'][idx[:5]]\n",
    "# missing = 170.15"
   ]
  },
  {
   "cell_type": "code",
   "execution_count": null,
   "metadata": {
    "collapsed": false
   },
   "outputs": [],
   "source": [
    "print np.sort(abs(df['rt'][idx[0]] - df['rt']))[:10]"
   ]
  },
  {
   "cell_type": "code",
   "execution_count": null,
   "metadata": {
    "collapsed": false
   },
   "outputs": [],
   "source": [
    "df.to_csv('saving_dataframe.xls')"
   ]
  },
  {
   "cell_type": "code",
   "execution_count": null,
   "metadata": {
    "collapsed": true
   },
   "outputs": [],
   "source": []
  }
 ],
 "metadata": {
  "kernelspec": {
   "display_name": "Python 2",
   "language": "python",
   "name": "python2"
  },
  "language_info": {
   "codemirror_mode": {
    "name": "ipython",
    "version": 2
   },
   "file_extension": ".py",
   "mimetype": "text/x-python",
   "name": "python",
   "nbconvert_exporter": "python",
   "pygments_lexer": "ipython2",
   "version": "2.7.13"
  }
 },
 "nbformat": 4,
 "nbformat_minor": 0
}
