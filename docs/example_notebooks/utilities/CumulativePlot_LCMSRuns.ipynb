{
 "cells": [
  {
   "cell_type": "code",
   "execution_count": 1,
   "metadata": {},
   "outputs": [
    {
     "name": "stdout",
     "output_type": "stream",
     "text": [
      "('NERSC=', True)\n"
     ]
    },
    {
     "name": "stderr",
     "output_type": "stream",
     "text": [
      "/global/common/software/m2650/python-cori/lib/python2.7/site-packages/pymysql/cursors.py:166: Warning: (1287, \"'@@tx_isolation' is deprecated and will be removed in a future release. Please use '@@transaction_isolation' instead\")\n",
      "  result = self._query(query)\n"
     ]
    }
   ],
   "source": [
    "import sys, os\n",
    "sys.path.insert(1,'/global/homes/b/bpb/repos/metatlas/' )\n",
    "from metatlas import metatlas_objects as metob\n",
    "f = metob.retrieve('Lcmsruns',username='*')\n"
   ]
  },
  {
   "cell_type": "code",
   "execution_count": 2,
   "metadata": {},
   "outputs": [],
   "source": [
    "import pandas as pd\n",
    "df = metob.to_dataframe(f)"
   ]
  },
  {
   "cell_type": "code",
   "execution_count": 3,
   "metadata": {},
   "outputs": [
    {
     "name": "stdout",
     "output_type": "stream",
     "text": [
      "(117630, 916)\n"
     ]
    }
   ],
   "source": [
    "print(len(df['name'].unique()),len(df['experiment'].unique()))"
   ]
  },
  {
   "cell_type": "code",
   "execution_count": 4,
   "metadata": {},
   "outputs": [],
   "source": [
    "# from metatlas.helpers import metatlas_get_data_helper_fun as ma_data\n",
    "# df_file = ma_data.df_container_from_metatlas_file(f[-1])\n",
    "# print(f[-1].name)\n",
    "# for k in df_file.keys():\n",
    "#     s = df_file[k].shape[0]\n",
    "#     if s>0:\n",
    "#         print(k,'number of points',df_file[k].shape[0])\n",
    "#         print('number of spectra',len(df_file[k].rt.unique()))\n",
    "#         print('')"
   ]
  },
  {
   "cell_type": "code",
   "execution_count": 5,
   "metadata": {},
   "outputs": [],
   "source": [
    "df.drop_duplicates(subset='name',inplace=True)\n",
    "df.to_csv('/global/homes/b/bpb/Downloads/metatlas_files.csv')"
   ]
  },
  {
   "cell_type": "code",
   "execution_count": 6,
   "metadata": {},
   "outputs": [
    {
     "data": {
      "text/plain": [
       "datetime.datetime(2020, 6, 17, 9, 8, 34, 784006)"
      ]
     },
     "execution_count": 6,
     "metadata": {},
     "output_type": "execute_result"
    }
   ],
   "source": [
    "import datetime as dt\n",
    "dt.datetime.now()"
   ]
  },
  {
   "cell_type": "code",
   "execution_count": 7,
   "metadata": {},
   "outputs": [
    {
     "data": {
      "text/plain": [
       "datetime.datetime(2018, 12, 17, 20, 8, 34, 805795)"
      ]
     },
     "execution_count": 7,
     "metadata": {},
     "output_type": "execute_result"
    }
   ],
   "source": [
    "import time\n",
    "t0 = time.time() - 1.5*365*24*60*60\n",
    "dt.datetime.fromtimestamp(t0)"
   ]
  },
  {
   "cell_type": "code",
   "execution_count": 8,
   "metadata": {},
   "outputs": [
    {
     "data": {
      "text/html": [
       "<div>\n",
       "<style scoped>\n",
       "    .dataframe tbody tr th:only-of-type {\n",
       "        vertical-align: middle;\n",
       "    }\n",
       "\n",
       "    .dataframe tbody tr th {\n",
       "        vertical-align: top;\n",
       "    }\n",
       "\n",
       "    .dataframe thead th {\n",
       "        text-align: right;\n",
       "    }\n",
       "</style>\n",
       "<table border=\"1\" class=\"dataframe\">\n",
       "  <thead>\n",
       "    <tr style=\"text-align: right;\">\n",
       "      <th></th>\n",
       "      <th>acquisition_time</th>\n",
       "      <th>creation_time</th>\n",
       "      <th>description</th>\n",
       "      <th>experiment</th>\n",
       "      <th>hdf5_file</th>\n",
       "      <th>injection_volume</th>\n",
       "      <th>injection_volume_units</th>\n",
       "      <th>last_modified</th>\n",
       "      <th>method</th>\n",
       "      <th>mzml_file</th>\n",
       "      <th>name</th>\n",
       "      <th>pass_qc</th>\n",
       "      <th>sample</th>\n",
       "      <th>unique_id</th>\n",
       "      <th>username</th>\n",
       "    </tr>\n",
       "  </thead>\n",
       "  <tbody>\n",
       "    <tr>\n",
       "      <th>0</th>\n",
       "      <td>NaN</td>\n",
       "      <td>2015-09-20 02:22:51</td>\n",
       "      <td>20140719_BSC_ExoMetabolomics 140718 M9C Rep1 I...</td>\n",
       "      <td>20140719_BSC_ExoMetabolomics</td>\n",
       "      <td>/project/projectdirs/metatlas/raw_data/bpb/201...</td>\n",
       "      <td>NaN</td>\n",
       "      <td>uL</td>\n",
       "      <td>2015-12-13 15:48:56</td>\n",
       "      <td>None</td>\n",
       "      <td>/project/projectdirs/metatlas/raw_data/bpb/201...</td>\n",
       "      <td>140718 M9C Rep1 Isolate_6.mzML</td>\n",
       "      <td>None</td>\n",
       "      <td>None</td>\n",
       "      <td>0023cb10fccb4904b7464ce00e9f5208</td>\n",
       "      <td>bpb</td>\n",
       "    </tr>\n",
       "    <tr>\n",
       "      <th>1</th>\n",
       "      <td>NaN</td>\n",
       "      <td>2015-09-20 02:23:18</td>\n",
       "      <td>20140719_BSC_ExoMetabolomics 140703 R2A Rep3 I...</td>\n",
       "      <td>20140719_BSC_ExoMetabolomics</td>\n",
       "      <td>/project/projectdirs/metatlas/raw_data/bpb/201...</td>\n",
       "      <td>NaN</td>\n",
       "      <td>uL</td>\n",
       "      <td>2015-12-13 15:49:18</td>\n",
       "      <td>None</td>\n",
       "      <td>/project/projectdirs/metatlas/raw_data/bpb/201...</td>\n",
       "      <td>140703 R2A Rep3 Isolate_15.mzML</td>\n",
       "      <td>None</td>\n",
       "      <td>None</td>\n",
       "      <td>00e15ee0670148919a8bf3eb3df5e1d8</td>\n",
       "      <td>bpb</td>\n",
       "    </tr>\n",
       "    <tr>\n",
       "      <th>2</th>\n",
       "      <td>NaN</td>\n",
       "      <td>2015-09-20 02:22:21</td>\n",
       "      <td>20140719_BSC_ExoMetabolomics 140703 R2A Rep1 I...</td>\n",
       "      <td>20140719_BSC_ExoMetabolomics</td>\n",
       "      <td>/project/projectdirs/metatlas/raw_data/bpb/201...</td>\n",
       "      <td>NaN</td>\n",
       "      <td>uL</td>\n",
       "      <td>2015-12-13 15:50:19</td>\n",
       "      <td>None</td>\n",
       "      <td>/project/projectdirs/metatlas/raw_data/bpb/201...</td>\n",
       "      <td>140703 R2A Rep1 Isolate_14.mzML</td>\n",
       "      <td>None</td>\n",
       "      <td>None</td>\n",
       "      <td>007fc50b6cf941a8a338677711daedc8</td>\n",
       "      <td>bpb</td>\n",
       "    </tr>\n",
       "    <tr>\n",
       "      <th>3</th>\n",
       "      <td>NaN</td>\n",
       "      <td>2015-09-20 02:22:23</td>\n",
       "      <td>20140719_BSC_ExoMetabolomics 140718 M9C Rep1 I...</td>\n",
       "      <td>20140719_BSC_ExoMetabolomics</td>\n",
       "      <td>/project/projectdirs/metatlas/raw_data/bpb/201...</td>\n",
       "      <td>NaN</td>\n",
       "      <td>uL</td>\n",
       "      <td>2015-12-13 15:50:19</td>\n",
       "      <td>None</td>\n",
       "      <td>/project/projectdirs/metatlas/raw_data/bpb/201...</td>\n",
       "      <td>140718 M9C Rep1 Isolate_15.mzML</td>\n",
       "      <td>None</td>\n",
       "      <td>None</td>\n",
       "      <td>00e28ee5ebb84ba9909d7b36ca5e1b4d</td>\n",
       "      <td>bpb</td>\n",
       "    </tr>\n",
       "    <tr>\n",
       "      <th>4</th>\n",
       "      <td>NaN</td>\n",
       "      <td>2015-09-20 02:21:04</td>\n",
       "      <td>20140719_BSC_ExoMetabolomics 140707 Neg R2A Re...</td>\n",
       "      <td>20140719_BSC_ExoMetabolomics</td>\n",
       "      <td>/project/projectdirs/metatlas/raw_data/bpb/201...</td>\n",
       "      <td>NaN</td>\n",
       "      <td>uL</td>\n",
       "      <td>2015-12-13 15:50:19</td>\n",
       "      <td>None</td>\n",
       "      <td>/project/projectdirs/metatlas/raw_data/bpb/201...</td>\n",
       "      <td>140707 Neg R2A Rep1 Isolate_3.mzML</td>\n",
       "      <td>None</td>\n",
       "      <td>None</td>\n",
       "      <td>0102c7cc853a40efad9f9ee9fc1e8d49</td>\n",
       "      <td>bpb</td>\n",
       "    </tr>\n",
       "  </tbody>\n",
       "</table>\n",
       "</div>"
      ],
      "text/plain": [
       "   acquisition_time       creation_time  \\\n",
       "0               NaN 2015-09-20 02:22:51   \n",
       "1               NaN 2015-09-20 02:23:18   \n",
       "2               NaN 2015-09-20 02:22:21   \n",
       "3               NaN 2015-09-20 02:22:23   \n",
       "4               NaN 2015-09-20 02:21:04   \n",
       "\n",
       "                                         description  \\\n",
       "0  20140719_BSC_ExoMetabolomics 140718 M9C Rep1 I...   \n",
       "1  20140719_BSC_ExoMetabolomics 140703 R2A Rep3 I...   \n",
       "2  20140719_BSC_ExoMetabolomics 140703 R2A Rep1 I...   \n",
       "3  20140719_BSC_ExoMetabolomics 140718 M9C Rep1 I...   \n",
       "4  20140719_BSC_ExoMetabolomics 140707 Neg R2A Re...   \n",
       "\n",
       "                     experiment  \\\n",
       "0  20140719_BSC_ExoMetabolomics   \n",
       "1  20140719_BSC_ExoMetabolomics   \n",
       "2  20140719_BSC_ExoMetabolomics   \n",
       "3  20140719_BSC_ExoMetabolomics   \n",
       "4  20140719_BSC_ExoMetabolomics   \n",
       "\n",
       "                                           hdf5_file  injection_volume  \\\n",
       "0  /project/projectdirs/metatlas/raw_data/bpb/201...               NaN   \n",
       "1  /project/projectdirs/metatlas/raw_data/bpb/201...               NaN   \n",
       "2  /project/projectdirs/metatlas/raw_data/bpb/201...               NaN   \n",
       "3  /project/projectdirs/metatlas/raw_data/bpb/201...               NaN   \n",
       "4  /project/projectdirs/metatlas/raw_data/bpb/201...               NaN   \n",
       "\n",
       "  injection_volume_units       last_modified method  \\\n",
       "0                     uL 2015-12-13 15:48:56   None   \n",
       "1                     uL 2015-12-13 15:49:18   None   \n",
       "2                     uL 2015-12-13 15:50:19   None   \n",
       "3                     uL 2015-12-13 15:50:19   None   \n",
       "4                     uL 2015-12-13 15:50:19   None   \n",
       "\n",
       "                                           mzml_file  \\\n",
       "0  /project/projectdirs/metatlas/raw_data/bpb/201...   \n",
       "1  /project/projectdirs/metatlas/raw_data/bpb/201...   \n",
       "2  /project/projectdirs/metatlas/raw_data/bpb/201...   \n",
       "3  /project/projectdirs/metatlas/raw_data/bpb/201...   \n",
       "4  /project/projectdirs/metatlas/raw_data/bpb/201...   \n",
       "\n",
       "                                 name pass_qc sample  \\\n",
       "0      140718 M9C Rep1 Isolate_6.mzML    None   None   \n",
       "1     140703 R2A Rep3 Isolate_15.mzML    None   None   \n",
       "2     140703 R2A Rep1 Isolate_14.mzML    None   None   \n",
       "3     140718 M9C Rep1 Isolate_15.mzML    None   None   \n",
       "4  140707 Neg R2A Rep1 Isolate_3.mzML    None   None   \n",
       "\n",
       "                          unique_id username  \n",
       "0  0023cb10fccb4904b7464ce00e9f5208      bpb  \n",
       "1  00e15ee0670148919a8bf3eb3df5e1d8      bpb  \n",
       "2  007fc50b6cf941a8a338677711daedc8      bpb  \n",
       "3  00e28ee5ebb84ba9909d7b36ca5e1b4d      bpb  \n",
       "4  0102c7cc853a40efad9f9ee9fc1e8d49      bpb  "
      ]
     },
     "execution_count": 8,
     "metadata": {},
     "output_type": "execute_result"
    }
   ],
   "source": [
    "df.head()"
   ]
  },
  {
   "cell_type": "code",
   "execution_count": 9,
   "metadata": {},
   "outputs": [
    {
     "ename": "NameError",
     "evalue": "name 'ff' is not defined",
     "output_type": "error",
     "traceback": [
      "\u001b[0;31m\u001b[0m",
      "\u001b[0;31mNameError\u001b[0mTraceback (most recent call last)",
      "\u001b[0;32m<ipython-input-9-c10ba47d369a>\u001b[0m in \u001b[0;36m<module>\u001b[0;34m()\u001b[0m\n\u001b[0;32m----> 1\u001b[0;31m \u001b[0mos\u001b[0m\u001b[0;34m.\u001b[0m\u001b[0mpath\u001b[0m\u001b[0;34m.\u001b[0m\u001b[0mgetsize\u001b[0m\u001b[0;34m(\u001b[0m\u001b[0mff\u001b[0m\u001b[0;34m.\u001b[0m\u001b[0mmzml_file\u001b[0m\u001b[0;34m)\u001b[0m\u001b[0;34m\u001b[0m\u001b[0m\n\u001b[0m",
      "\u001b[0;31mNameError\u001b[0m: name 'ff' is not defined"
     ]
    }
   ],
   "source": [
    "os.path.getsize(ff.mzml_file)"
   ]
  },
  {
   "cell_type": "code",
   "execution_count": 9,
   "metadata": {},
   "outputs": [],
   "source": [
    "time = []\n",
    "files = []\n",
    "size = []\n",
    "for i,ff in df.iterrows():\n",
    "    if os.path.isfile(ff.mzml_file):\n",
    "        if ff.acquisition_time:\n",
    "\n",
    "            if ff.acquisition_time>0:\n",
    "                time.append(ff.acquisition_time)\n",
    "                size.append(os.path.getsize(ff.mzml_file))\n",
    "                files.append(1)\n",
    "            else:\n",
    "                size.append(os.path.getsize(ff.mzml_file))\n",
    "                time.append(t0)\n",
    "                files.append(1)\n",
    "        else:\n",
    "            time.append(t0)\n",
    "            size.append(os.path.getsize(ff.mzml_file))\n",
    "            files.append(1)\n",
    "time = sorted(time)"
   ]
  },
  {
   "cell_type": "code",
   "execution_count": 10,
   "metadata": {},
   "outputs": [
    {
     "data": {
      "image/png": "[encoded data removed]",
      "text/plain": [
       "<Figure size 1008x504 with 1 Axes>"
      ]
     },
     "metadata": {},
     "output_type": "display_data"
    }
   ],
   "source": [
    "from matplotlib import pyplot as plt\n",
    "import numpy as np\n",
    "%matplotlib inline\n",
    "# plt.xkcd()\n",
    "# from matplotlib.font_manager import FontProperties\n",
    "# prop = FontProperties(fname='/global/homes/b/bpb/Downloads/Humor-Sans.ttf', size=16)\n",
    "\n",
    "fig = plt.figure(figsize = (14,7),facecolor='white')\n",
    "ax = fig.add_subplot(1, 1, 1)\n",
    "\n",
    "import datetime as dt\n",
    "x = [dt.datetime.fromtimestamp(d) for d in time]\n",
    "\n",
    "plt.plot(x,np.cumsum(files))\n",
    "\n",
    "import matplotlib.dates as md\n",
    "\n",
    "xfmt = md.DateFormatter('%Y-%m-%d')\n",
    "ax.xaxis.set_major_formatter(xfmt)\n",
    "# plt.yticks(fontproperties=prop)\n",
    "plt.ylabel('#files')#,fontproperties=prop)\n",
    "plt.xticks(rotation=70)#,fontproperties=prop)\n",
    "plt.title(\"Number of Files in Metabolite Atlas\")#,fontproperties=prop)\n",
    "datenow = dt.datetime.now()\n",
    "dstart = dt.datetime(datenow.year-1,datenow.month,datenow.day)\n",
    "plt.xlim(dstart, datenow) \n",
    "plt.ylim(80000,120000)\n",
    "ax.grid()\n",
    "plt.show()"
   ]
  },
  {
   "cell_type": "code",
   "execution_count": 29,
   "metadata": {},
   "outputs": [
    {
     "data": {
      "image/png": "[encoded data removed]",
      "text/plain": [
       "<Figure size 864x288 with 1 Axes>"
      ]
     },
     "metadata": {},
     "output_type": "display_data"
    }
   ],
   "source": [
    "from matplotlib import pyplot as plt\n",
    "import numpy as np\n",
    "%matplotlib inline\n",
    "# plt.xkcd()\n",
    "# from matplotlib.font_manager import FontProperties\n",
    "# prop = FontProperties(fname='/global/homes/b/bpb/Downloads/Humor-Sans.ttf', size=16)\n",
    "\n",
    "fig = plt.figure(figsize = (12,4))\n",
    "ax = fig.add_subplot(1, 1, 1)\n",
    "\n",
    "import datetime as dt\n",
    "x = [dt.datetime.fromtimestamp(d) for d in time]\n",
    "\n",
    "plt.plot(x,np.cumsum(size)/1e12)\n",
    "\n",
    "import matplotlib.dates as md\n",
    "\n",
    "xfmt = md.DateFormatter('%Y-%m-%d')\n",
    "ax.xaxis.set_major_formatter(xfmt)\n",
    "# plt.yticks(fontproperties=prop)\n",
    "plt.ylabel('#files')#,fontproperties=prop)\n",
    "plt.xticks(rotation=70)#,fontproperties=prop)\n",
    "plt.title(\"TB of mzML files in Metabolite Atlas\")#,fontproperties=prop)\n",
    "datenow = dt.datetime.now()\n",
    "dstart = dt.datetime(datenow.year-1,datenow.month,datenow.day)\n",
    "plt.xlim(dstart, datenow) \n",
    "plt.ylim(3,6)\n",
    "ax.grid()\n",
    "plt.show()"
   ]
  },
  {
   "cell_type": "code",
   "execution_count": 39,
   "metadata": {},
   "outputs": [
    {
     "data": {
      "text/plain": [
       "Text(0,0.5,'#Files')"
      ]
     },
     "execution_count": 39,
     "metadata": {},
     "output_type": "execute_result"
    },
    {
     "data": {
      "image/png": "[encoded data removed]",
      "text/plain": [
       "<Figure size 432x288 with 1 Axes>"
      ]
     },
     "metadata": {},
     "output_type": "display_data"
    }
   ],
   "source": [
    "fig,ax = plt.subplots()\n",
    "ax.hist(np.log10(np.asarray(size)/1e6),bins=100)\n",
    "ax.set_xlabel('File Size LOG10(MegaBytes)')\n",
    "ax.set_ylabel('#Files')"
   ]
  },
  {
   "cell_type": "code",
   "execution_count": null,
   "metadata": {},
   "outputs": [],
   "source": []
  }
 ],
 "metadata": {
  "anaconda-cloud": {},
  "kernelspec": {
   "display_name": "mass spec cori",
   "language": "python",
   "name": "mass_spec_cori"
  },
  "language_info": {
   "codemirror_mode": {
    "name": "ipython",
    "version": 2
   },
   "file_extension": ".py",
   "mimetype": "text/x-python",
   "name": "python",
   "nbconvert_exporter": "python",
   "pygments_lexer": "ipython2",
   "version": "2.7.14"
  }
 },
 "nbformat": 4,
 "nbformat_minor": 4
}
