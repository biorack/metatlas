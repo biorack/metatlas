{
 "cells": [
  {
   "cell_type": "code",
   "execution_count": 1,
   "metadata": {
    "collapsed": false
   },
   "outputs": [],
   "source": [
    "import sys\n",
    "# sys.path.insert(0,'/global/project/projectdirs/metatlas/anaconda/lib/python2.7/site-packages' )\n",
    "from metatlas import metatlas_objects as metob\n",
    "from metatlas import h5_query as h5q\n",
    "import numpy as np\n",
    "import os\n",
    "import tables\n",
    "\n"
   ]
  },
  {
   "cell_type": "code",
   "execution_count": null,
   "metadata": {
    "collapsed": true
   },
   "outputs": [],
   "source": [
    "# files = metob.retrieve('Lcmsruns',name = '%MSMS%',username='*')\n",
    "# unique_files = {}\n",
    "# for f in files:\n",
    "#     unique_files[f.name] = f\n",
    "# print len(files), len(unique_files)"
   ]
  },
  {
   "cell_type": "code",
   "execution_count": 11,
   "metadata": {
    "collapsed": true
   },
   "outputs": [],
   "source": [
    "import sys, os\n",
    "# sys.path.insert(1,'/global/project/projectdirs/metatlas/anaconda/lib/python2.7/site-packages' )\n",
    "from metatlas import metatlas_objects as metob\n",
    "f = metob.retrieve('Lcmsruns',username='*',name='%_MSMS_%')\n",
    "import pandas as pd\n",
    "df = metob.to_dataframe(f)\n",
    "df.drop_duplicates(subset='mzml_file',inplace=True)\n",
    "df.to_csv('/global/homes/b/bpb/Downloads/metatlas_files.csv')"
   ]
  },
  {
   "cell_type": "code",
   "execution_count": 10,
   "metadata": {
    "collapsed": false
   },
   "outputs": [
    {
     "data": {
      "text/plain": [
       "(46317, 15)"
      ]
     },
     "execution_count": 10,
     "metadata": {},
     "output_type": "execute_result"
    }
   ],
   "source": [
    "df.shape"
   ]
  },
  {
   "cell_type": "code",
   "execution_count": null,
   "metadata": {
    "collapsed": false
   },
   "outputs": [],
   "source": [
    "%system mkdir /project/projectdirs/metatlas/projects/metatlas_numpyfiles/"
   ]
  },
  {
   "cell_type": "code",
   "execution_count": 6,
   "metadata": {
    "collapsed": false
   },
   "outputs": [
    {
     "data": {
      "text/plain": [
       "{'ms1_neg': {'nrows': 0},\n",
       " 'ms1_pos': {'max_mz': 1699.6956,\n",
       "  'max_rt': 40.007668,\n",
       "  'min_mz': 50.003304,\n",
       "  'min_rt': 0.039183334,\n",
       "  'nrows': 53187488},\n",
       " 'ms2_neg': {'nrows': 0},\n",
       " 'ms2_pos': {'nrows': 0}}"
      ]
     },
     "execution_count": 6,
     "metadata": {},
     "output_type": "execute_result"
    }
   ],
   "source": [
    "file_info"
   ]
  },
  {
   "cell_type": "code",
   "execution_count": 8,
   "metadata": {
    "collapsed": false
   },
   "outputs": [
    {
     "data": {
      "text/plain": [
       "True"
      ]
     },
     "execution_count": 8,
     "metadata": {},
     "output_type": "execute_result"
    }
   ],
   "source": [
    "a = 'ms2_pos'\n",
    "'ms2' in a"
   ]
  },
  {
   "cell_type": "code",
   "execution_count": 9,
   "metadata": {
    "collapsed": false
   },
   "outputs": [
    {
     "name": "stdout",
     "output_type": "stream",
     "text": [
      "all done\n",
      "5\n"
     ]
    }
   ],
   "source": [
    "ngood = 0\n",
    "for i,f in enumerate(df.hdf5_file.head(5).tolist()):\n",
    "    if not os.path.exists(f):\n",
    "        continue\n",
    "    ngood += 1\n",
    "    with tables.open_file(f,'r') as fid:\n",
    "        file_info = h5q.get_info(fid)\n",
    "        for j,(file_layer,param) in enumerate(file_info.items()):\n",
    "            if ('ms2' in file_layer) & (file_info[file_layer]['nrows'] > 0):\n",
    "                data = h5q.get_data(fid,**param)\n",
    "#                 np.save('/project/projectdirs/metatlas/projects/metatlas_destiny/new_numpyfiles/%s_%s.%s'%(file_layer,os.path.basename(f.name).split('.')[0],'npy'),data)\n",
    "                print os.path.basename(f.name).split('.')[0]\n",
    "                print i, data.shape\n",
    "                print \"\"\n",
    "#         except RuntimeError as exc:\n",
    "#             pass\n",
    "\n",
    "print \"all done\"\n",
    "print ngood"
   ]
  },
  {
   "cell_type": "code",
   "execution_count": null,
   "metadata": {
    "collapsed": true
   },
   "outputs": [],
   "source": [
    "# def make_2d_image(np_struct,x_edges,y_edges):\n",
    "#     x = np_struct['mz']\n",
    "#     y = np_struct['rt']\n",
    "#     z = np_struct['i']\n",
    "#     hist2d = np.histogram2d(x,y,bins = [x_edges,y_edges], weights = z)\n",
    "#     return hist2d[0]\n",
    "\n",
    "# mz_edges = np.linspace(0,1000,num = 93)\n",
    "# rt_edges = np.linspace(0,60,num = 109)\n",
    "\n",
    "# raw_data = np.zeros((len(files),len(mz_edges)-1,len(rt_edges)-1))\n",
    "# for i,f in enumerate(files):\n",
    "#     f_np = np.load(f)\n",
    "#     raw_data[i,:,:] = make_2d_image(f_np,mz_edges,rt_edges)\n",
    "# np.save('/project/projectdirs/metatlas/projects/metatlas_destiny/ms2_pos_100x100.npy',raw_data)\n"
   ]
  }
 ],
 "metadata": {
  "kernelspec": {
   "display_name": "MetAtlas 2.7",
   "language": "python",
   "name": "metatlas"
  },
  "language_info": {
   "codemirror_mode": {
    "name": "ipython",
    "version": 2
   },
   "file_extension": ".py",
   "mimetype": "text/x-python",
   "name": "python",
   "nbconvert_exporter": "python",
   "pygments_lexer": "ipython2",
   "version": "2.7.13"
  }
 },
 "nbformat": 4,
 "nbformat_minor": 0
}
