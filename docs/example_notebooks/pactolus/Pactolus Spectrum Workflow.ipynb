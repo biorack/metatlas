{
 "cells": [
  {
   "cell_type": "markdown",
   "metadata": {},
   "source": [
    "# 1. Import Python Packages"
   ]
  },
  {
   "cell_type": "code",
   "execution_count": 1,
   "metadata": {
    "collapsed": true
   },
   "outputs": [],
   "source": [
    "%matplotlib notebook\n",
    "import metatlas.helpers.pactolus_tools\n",
    "import pandas as pd"
   ]
  },
  {
   "cell_type": "markdown",
   "metadata": {},
   "source": [
    "# 2. View Pactolus Data\n",
    "\n",
    "There are a few variables that you need to know about:"
   ]
  },
  {
   "cell_type": "markdown",
   "metadata": {},
   "source": [
    "Mandatory:\n",
    "* **path_loc** is the directory to which your raw data is being held. This will get updated later so it will not be needed but this is the work around.\n",
    "* **pkl** is the pickle file that the pactolus hits are wrapped in."
   ]
  },
  {
   "cell_type": "code",
   "execution_count": 6,
   "metadata": {
    "collapsed": true
   },
   "outputs": [],
   "source": [
    "# Replace these variables with what you need.\n",
    "path_loc = '/project/projectdirs/metatlas/raw_data/kblouie/20170222_KBL_C18_MO_Fungus11mL/'\n",
    "pkl = 'pactolus_hits.pkl'\n"
   ]
  },
  {
   "cell_type": "markdown",
   "metadata": {},
   "source": [
    "Optional variables to fill:\n",
    "* **index** is the row of the dataframe that pactolus plotter will be looking at. In the future, this will be updated so that you don't have to modify and run every single time.\n",
    "* **quantile** refers to whether or not you wish to search for peaks by quantile. Setting it to False means PactolusPlotter will grab the top nlarge peaks.\n",
    "* **quantile_param** is the quantile that you want to filter by. Leave this alone if you set quantile to False.\n",
    "* **nlarge** is the amount of top peaks you want to grab. Leave this alone if you set quantile to True."
   ]
  },
  {
   "cell_type": "code",
   "execution_count": 7,
   "metadata": {
    "collapsed": true
   },
   "outputs": [],
   "source": [
    "index = 0\n",
    "quantile = True\n",
    "quantile_param = .85\n",
    "nlarge = 10"
   ]
  },
  {
   "cell_type": "markdown",
   "metadata": {},
   "source": [
    "Reads the pickle and parse the data given the parameters passed in.\n",
    "\n",
    "The plotter allows for you to filter substructures by depth of the hit and neutralization through convienent widgets.  Basic information about the particular hit like score, polarity, and retention time is displayed at the top. In addition, you can visualize the substructures found at a peak with their respective depths if you select a peak. PactolusPlotter allows for selecting multiple peaks albeit not in a clean way."
   ]
  },
  {
   "cell_type": "code",
   "execution_count": null,
   "metadata": {
    "collapsed": true
   },
   "outputs": [],
   "source": [
    "df = pd.read_pickle(pkl)\n",
    "pac_data = PactolusPlotter(df, path_loc, index, quantile, quantile_param, nlarge)"
   ]
  },
  {
   "cell_type": "markdown",
   "metadata": {},
   "source": [
    "If you want to see all the data from the pactolus hits file, run the block below. It usually takes about 30 seconds for it to complete."
   ]
  },
  {
   "cell_type": "code",
   "execution_count": null,
   "metadata": {
    "collapsed": true
   },
   "outputs": [],
   "source": [
    "df_stripped = df[[\"polarity\", \"precursor intensity\", \"precursor_mz\",\n",
    "       \"retention_time\", \"score\", \"inchi\", \"inchi_key\"]].copy()\n",
    "compound_grid = qgrid.QGridWidget(df=df_stripped)#,set_grid_option={'show_toolbar',True})\n",
    "compound_grid.export()"
   ]
  }
 ],
 "metadata": {
  "anaconda-cloud": {},
  "kernelspec": {
   "display_name": "MetAtlas 2.7",
   "language": "python",
   "name": "metatlas"
  },
  "language_info": {
   "codemirror_mode": {
    "name": "ipython",
    "version": 2
   },
   "file_extension": ".py",
   "mimetype": "text/x-python",
   "name": "python",
   "nbconvert_exporter": "python",
   "pygments_lexer": "ipython2",
   "version": "2.7.13"
  }
 },
 "nbformat": 4,
 "nbformat_minor": 0
}
