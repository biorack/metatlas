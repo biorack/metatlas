{
 "cells": [
  {
   "cell_type": "markdown",
   "metadata": {},
   "source": [
    "# 1. Import Python Packages\n",
    "\n",
    "To install the kernel used by NERSC-metatlas users, copy the following text to $HOME/.ipython/kernels/mass_spec_cori/kernel.json\n",
    "\n",
    "```\n",
    "{\n",
    " \"argv\": [\n",
    "  \"/global/common/software/m2650/python-cori/bin/python\",\n",
    "  \"-m\",\n",
    "  \"IPython.kernel\",\n",
    "  \"-f\",\n",
    "  \"{connection_file}\"\n",
    " ],\n",
    " \"env\": {\n",
    "    \"PATH\": \"/global/common/software/m2650/python-cori/bin:/usr/local/bin:/usr/bin:/bin:/usr/sbin:/sbin\"\n",
    " },\n",
    " \"display_name\": \"mass_spec_cori\",\n",
    " \"language\": \"python\"\n",
    "}\n",
    "```"
   ]
  },
  {
   "cell_type": "code",
   "execution_count": 1,
   "metadata": {},
   "outputs": [
    {
     "data": {
      "text/html": [
       "<style>.container { width:100% !important; }</style>"
      ],
      "text/plain": [
       "<IPython.core.display.HTML object>"
      ]
     },
     "metadata": {},
     "output_type": "display_data"
    },
    {
     "name": "stdout",
     "output_type": "stream",
     "text": [
      "env: HDF5_USE_FILE_LOCKING=FALSE\n",
      "('NERSC=', True)\n"
     ]
    }
   ],
   "source": [
    "from IPython.core.display import Markdown, display, HTML\n",
    "display(HTML(\"<style>.container { width:100% !important; }</style>\"))\n",
    "\n",
    "%matplotlib notebook\n",
    "\n",
    "%matplotlib inline\n",
    "%env HDF5_USE_FILE_LOCKING=FALSE\n",
    "import sys, os\n",
    "\n",
    "#### add a path to your private code if not using production code ####\n",
    "#print ('point path to metatlas repo')\n",
    "sys.path.insert(0,\"/global/homes/v/vrsingan/repos/metatlas/\") #where your private code is\n",
    "######################################################################\n",
    "\n",
    "from metatlas.helpers import dill2plots as dp\n",
    "from metatlas.helpers import metatlas_get_data_helper_fun as ma_data\n",
    "from metatlas.helpers import chromatograms_mp_plots as cp\n",
    "from metatlas.helpers import chromplotplus as cpp\n",
    "import metatlas.metatlas_objects as metob\n",
    "from metatlas.helpers import mzmine_helpers as mzm\n",
    "\n",
    "import qgrid\n",
    "\n",
    "from ipywidgets import interact, interactive, fixed, IntProgress\n",
    "import ipywidgets as widgets\n",
    "from IPython.display import display, clear_output\n",
    "\n",
    "import time\n",
    "import dill\n",
    "import numpy as np\n",
    "import multiprocessing as mp\n",
    "import pandas as pd\n",
    "\n",
    "import glob\n",
    "import re\n",
    "\n",
    "import matplotlib.pyplot as plt\n",
    "\n",
    "pd.set_option('display.max_rows', 5000)\n",
    "pd.set_option('display.max_columns', 500)\n",
    "pd.set_option('display.max_colwidth', 100)\n",
    "\n",
    "def printmd(string):\n",
    "    display(Markdown(string))"
   ]
  },
  {
   "cell_type": "markdown",
   "metadata": {},
   "source": [
    "## 2. Select groups and get QC files"
   ]
  },
  {
   "cell_type": "code",
   "execution_count": 2,
   "metadata": {},
   "outputs": [
    {
     "name": "stderr",
     "output_type": "stream",
     "text": [
      "/global/common/software/m2650/python-cori/lib/python2.7/site-packages/pymysql/cursors.py:166: Warning: (1287, \"'@@tx_isolation' is deprecated and will be removed in a future release. Please use '@@transaction_isolation' instead\")\n",
      "  result = self._query(query)\n"
     ]
    },
    {
     "name": "stdout",
     "output_type": "stream",
     "text": [
      "1\n",
      "(0, u'20190308_KBL_IG-SS_BETO_Algae_Mono26B_HF_LipV7_47560_FPS_MS1_vrs1_QC', datetime.datetime(2019, 10, 18, 23, 6, 24))\n"
     ]
    }
   ],
   "source": [
    "dp = reload(dp)\n",
    "groups = dp.select_groups_for_analysis(name = '%20190308_KBL_IG-SS_BETO_Algae_Mono26B_HF_LipV7_47560%',\n",
    "                                       most_recent = True,\n",
    "                                       remove_empty = True,\n",
    "                                       include_list = ['QC'], exclude_list = [])  #['QC','Blank']"
   ]
  },
  {
   "cell_type": "code",
   "execution_count": 3,
   "metadata": {},
   "outputs": [
    {
     "name": "stdout",
     "output_type": "stream",
     "text": [
      "20190308_KBL_IG-SS_BETO_Algae_Mono26B_HF_LipV7_47560_FPS_MS1_8_1S-Set1-B_2_-Salt-QC_82.mzML\n",
      "20190308_KBL_IG-SS_BETO_Algae_Mono26B_HF_LipV7_47560_FPS_MS1_59_12-Ctrl-Set2-B_4_-noD2O-QC_304.mzML\n",
      "20190308_KBL_IG-SS_BETO_Algae_Mono26B_HF_LipV7_47560_FPS_MS1_27_4S-Set1-B_3_-Salt-QC_119.mzML\n",
      "20190308_KBL_IG-SS_BETO_Algae_Mono26B_HF_LipV7_47560_FPS_MS1_0_QC_Pre_--QC_6.mzML\n",
      "20190308_KBL_IG-SS_BETO_Algae_Mono26B_HF_LipV7_47560_FPS_MS1_7_1S-Set1-B_1_-Salt-QC_45.mzML\n",
      "20190308_KBL_IG-SS_BETO_Algae_Mono26B_HF_LipV7_47560_FPS_MS1_69_12-ColdwD2O-Set2-B_2_-D2O-QC_230.mzML\n",
      "20190308_KBL_IG-SS_BETO_Algae_Mono26B_HF_LipV7_47560_FPS_MS1_73_24-Ctrl-Set2-B_2_-noD2O-QC_193.mzML\n",
      "20190308_KBL_IG-SS_BETO_Algae_Mono26B_HF_LipV7_47560_FPS_MS1_56_12-Ctrl-Set2-B_1_-noD2O-QC_156.mzML\n",
      "20190308_KBL_IG-SS_BETO_Algae_Mono26B_HF_LipV7_47560_FPS_MS1_202_ExCtrl-Set2-B_3_-ExCtrl-QC_267.mzML\n",
      "20190308_KBL_IG-SS_BETO_Algae_Mono26B_HF_LipV7_47560_FPS_MS1_0_QC_Post_--QC_345.mzML\n"
     ]
    }
   ],
   "source": [
    "for g in groups:\n",
    "    for f in g.items:\n",
    "         print f.name"
   ]
  },
  {
   "cell_type": "markdown",
   "metadata": {},
   "source": [
    "## 3. Get template QC atlas from database"
   ]
  },
  {
   "cell_type": "code",
   "execution_count": 4,
   "metadata": {},
   "outputs": [
    {
     "name": "stdout",
     "output_type": "stream",
     "text": [
      "(0, u'MSMLS_HILICz150mm_Annotation20190824_Template_QCv3_Unlabeled_Positive', Timestamp('2020-02-28 16:14:28'), 72)\n"
     ]
    }
   ],
   "source": [
    "#Atlas File Name \n",
    "LCS = 'MSMLS' # Library Compound Set\n",
    "CTY = 'HILICz150mm' # Chromatography\n",
    "LR = 'Annotation20190824' # Library Run\n",
    "RTS = 'Template' # RT space\n",
    "CPD = 'QCv3' # Set of Compounds\n",
    "LAB = 'Unlabeled' # Isolabeling\n",
    "POL = 'Positive' # Polarity\n",
    "\n",
    "QC_template_filename = \"_\".join((LCS,CTY,LR,RTS,CPD,LAB,POL))\n",
    "\n",
    "atlases = metob.retrieve('Atlas',name=QC_template_filename,\n",
    "                         username='vrsingan')\n",
    "names = []\n",
    "for i,a in enumerate(atlases):\n",
    "    print(i,a.name,pd.to_datetime(a.last_modified,unit='s'),len(a.compound_identifications))"
   ]
  },
  {
   "cell_type": "code",
   "execution_count": 5,
   "metadata": {
    "scrolled": true
   },
   "outputs": [],
   "source": [
    "# #Alternatively use this block to create QC atlas from spreadsheet\n",
    "# import datetime\n",
    "#dp = reload(dp)\n",
    "\n",
    "# LCS = 'MSMLS' # Library Compound Set\n",
    "# CTY = 'HILICz150mm' # Chromatography\n",
    "# LR = 'Annotation20190824' # Library Run\n",
    "# RTS = 'Template' # RT space\n",
    "# CPD = 'QCv3' # Set of Compounds\n",
    "# LAB = 'Unlabeled' # Isolabeling\n",
    "# POL = 'Positive' # Polarity\n",
    "# DT = datetime.datetime.strftime(datetime.datetime.now(),'%Y%m%d')\n",
    "# QC_template_filename = \"_\".join((LCS,CTY,LR,RTS,CPD,LAB,POL,DT))\n",
    "\n",
    "#myAtlas = dp.make_atlas_from_spreadsheet('/global/project/projectdirs/metatlas/projects/1_TemplateAtlases/TemplateAtlas_HILICz150mm_Annotation20190824_QCv3_Unlabeled_Positive.csv',\n",
    "#                                       QC_template_filename,\n",
    "#                                        filetype='csv',\n",
    "#                                        sheetname='',\n",
    "#                                        polarity = 'positive',\n",
    "#                                        store=True,\n",
    "#                                       mz_tolerance = 20)\n",
    "#atlases = dp.get_metatlas_atlas(name=QC_template_filename,do_print = True,most_recent=True)"
   ]
  },
  {
   "cell_type": "code",
   "execution_count": 6,
   "metadata": {},
   "outputs": [
    {
     "name": "stdout",
     "output_type": "stream",
     "text": [
      "((72, 15), 72)\n",
      "MSMLS_HILICz150mm_Annotation20190824_Template_QCv3_Unlabeled_Positive\n",
      "vrsingan\n"
     ]
    }
   ],
   "source": [
    "myAtlas = atlases[-1]\n",
    "atlas_df = ma_data.make_atlas_df(myAtlas)\n",
    "atlas_df['label'] = [cid.name for cid in myAtlas.compound_identifications]\n",
    "print myAtlas.name\n",
    "print myAtlas.username"
   ]
  },
  {
   "cell_type": "markdown",
   "metadata": {},
   "source": [
    "## 3b. Uncomment the block below to adjust RT window"
   ]
  },
  {
   "cell_type": "code",
   "execution_count": 7,
   "metadata": {},
   "outputs": [],
   "source": [
    "# rt_allowance = 0.5\n",
    "# atlas_df['rt_min'] = atlas_df['rt_peak'].apply(lambda rt: rt-rt_allowance)\n",
    "# atlas_df['rt_max'] = atlas_df['rt_peak'].apply(lambda rt: rt+rt_allowance)"
   ]
  },
  {
   "cell_type": "markdown",
   "metadata": {},
   "source": [
    "# 4. Create metatlas dataset from QC files and QC atlas"
   ]
  },
  {
   "cell_type": "code",
   "execution_count": 8,
   "metadata": {},
   "outputs": [
    {
     "name": "stdout",
     "output_type": "stream",
     "text": [
      "6.11699080467\n"
     ]
    }
   ],
   "source": [
    "all_files = []\n",
    "for my_group in groups:\n",
    "    for my_file in my_group.items:\n",
    "        all_files.append((my_file,my_group,atlas_df,myAtlas))\n",
    "        \n",
    "pool = mp.Pool(processes=min(4, len(all_files)))\n",
    "t0 = time.time()\n",
    "metatlas_dataset = pool.map(ma_data.get_data_for_atlas_df_and_file, all_files)\n",
    "pool.close()\n",
    "pool.terminate()\n",
    "#If you're code crashes here, make sure to terminate any processes left open.\n",
    "print time.time() - t0"
   ]
  },
  {
   "cell_type": "markdown",
   "metadata": {},
   "source": [
    "# 5. Create RT adjustment model"
   ]
  },
  {
   "cell_type": "code",
   "execution_count": 10,
   "metadata": {},
   "outputs": [],
   "source": [
    "from sklearn.linear_model import LinearRegression, RANSACRegressor\n",
    "from sklearn.metrics import mean_absolute_error as mae\n",
    "\n",
    "ransac = RANSACRegressor(random_state=42)\n",
    "qc_actual_df = dp.make_output_dataframe(input_dataset = metatlas_dataset, fieldname='rt_peak', use_labels=True) # Peak height filter??\n",
    "maes, coefs, intercepts = [],[],[]\n",
    "actual_rts, pred_rts = [],[]\n",
    "for i in range(qc_actual_df.shape[1]):\n",
    "    current_actual_df = qc_actual_df.loc[:,qc_actual_df.columns[i]]\n",
    "    bad_qc_compounds = np.where(~np.isnan(current_actual_df))\n",
    "    current_actual_df = current_actual_df.iloc[bad_qc_compounds]\n",
    "    current_pred_df = atlas_df.iloc[bad_qc_compounds][['rt_peak']]\n",
    "    actual_rts.append(current_actual_df.values.tolist())\n",
    "    pred_rts.append(current_pred_df.values.tolist())\n",
    "    \n",
    "    rt_model = ransac.fit(current_pred_df, current_actual_df)\n",
    "    \n",
    "    coefs.append(rt_model.estimator_.coef_)\n",
    "    intercepts.append(rt_model.estimator_.intercept_)\n",
    "    maes.append(mae(rt_model.estimator_.coef_*current_pred_df+\n",
    "                   rt_model.estimator_.intercept_, current_actual_df))"
   ]
  },
  {
   "cell_type": "markdown",
   "metadata": {},
   "source": [
    "## 6. Plot MAE (mean absolute error) for all QC files  \n",
    "Index and file name of the QC file with the least MAE is highlighted.<br />\n",
    "Dark Red and Dark Blue lines represent Coeff and Intercept values for each of the QC files.<br /> \n",
    "Light Red and Light Blue lines show the median Coeff and Intercept value."
   ]
  },
  {
   "cell_type": "code",
   "execution_count": 11,
   "metadata": {},
   "outputs": [
    {
     "data": {
      "text/markdown": [
       "__QCFileIndex&emsp;QCFileName__"
      ],
      "text/plain": [
       "<IPython.core.display.Markdown object>"
      ]
     },
     "metadata": {},
     "output_type": "display_data"
    },
    {
     "data": {
      "text/markdown": [
       "0&emsp;&emsp;20190308_KBL_IG-SS_BETO_Algae_Mono26B_HF_LipV7_47560_FPS_MS1_8_1S-Set1-B_2_-Salt-QC_82.h5"
      ],
      "text/plain": [
       "<IPython.core.display.Markdown object>"
      ]
     },
     "metadata": {},
     "output_type": "display_data"
    },
    {
     "data": {
      "text/markdown": [
       "1&emsp;&emsp;20190308_KBL_IG-SS_BETO_Algae_Mono26B_HF_LipV7_47560_FPS_MS1_59_12-Ctrl-Set2-B_4_-noD2O-QC_304.h5"
      ],
      "text/plain": [
       "<IPython.core.display.Markdown object>"
      ]
     },
     "metadata": {},
     "output_type": "display_data"
    },
    {
     "data": {
      "text/markdown": [
       "2&emsp;&emsp;20190308_KBL_IG-SS_BETO_Algae_Mono26B_HF_LipV7_47560_FPS_MS1_27_4S-Set1-B_3_-Salt-QC_119.h5"
      ],
      "text/plain": [
       "<IPython.core.display.Markdown object>"
      ]
     },
     "metadata": {},
     "output_type": "display_data"
    },
    {
     "data": {
      "text/markdown": [
       "3&emsp;&emsp;20190308_KBL_IG-SS_BETO_Algae_Mono26B_HF_LipV7_47560_FPS_MS1_0_QC_Pre_--QC_6.h5"
      ],
      "text/plain": [
       "<IPython.core.display.Markdown object>"
      ]
     },
     "metadata": {},
     "output_type": "display_data"
    },
    {
     "data": {
      "text/markdown": [
       "__4&emsp;&emsp;20190308_KBL_IG-SS_BETO_Algae_Mono26B_HF_LipV7_47560_FPS_MS1_7_1S-Set1-B_1_-Salt-QC_45.h5__"
      ],
      "text/plain": [
       "<IPython.core.display.Markdown object>"
      ]
     },
     "metadata": {},
     "output_type": "display_data"
    },
    {
     "data": {
      "text/markdown": [
       "5&emsp;&emsp;20190308_KBL_IG-SS_BETO_Algae_Mono26B_HF_LipV7_47560_FPS_MS1_69_12-ColdwD2O-Set2-B_2_-D2O-QC_230.h5"
      ],
      "text/plain": [
       "<IPython.core.display.Markdown object>"
      ]
     },
     "metadata": {},
     "output_type": "display_data"
    },
    {
     "data": {
      "text/markdown": [
       "6&emsp;&emsp;20190308_KBL_IG-SS_BETO_Algae_Mono26B_HF_LipV7_47560_FPS_MS1_73_24-Ctrl-Set2-B_2_-noD2O-QC_193.h5"
      ],
      "text/plain": [
       "<IPython.core.display.Markdown object>"
      ]
     },
     "metadata": {},
     "output_type": "display_data"
    },
    {
     "data": {
      "text/markdown": [
       "7&emsp;&emsp;20190308_KBL_IG-SS_BETO_Algae_Mono26B_HF_LipV7_47560_FPS_MS1_56_12-Ctrl-Set2-B_1_-noD2O-QC_156.h5"
      ],
      "text/plain": [
       "<IPython.core.display.Markdown object>"
      ]
     },
     "metadata": {},
     "output_type": "display_data"
    },
    {
     "data": {
      "text/markdown": [
       "8&emsp;&emsp;20190308_KBL_IG-SS_BETO_Algae_Mono26B_HF_LipV7_47560_FPS_MS1_202_ExCtrl-Set2-B_3_-ExCtrl-QC_267.h5"
      ],
      "text/plain": [
       "<IPython.core.display.Markdown object>"
      ]
     },
     "metadata": {},
     "output_type": "display_data"
    },
    {
     "data": {
      "text/markdown": [
       "9&emsp;&emsp;20190308_KBL_IG-SS_BETO_Algae_Mono26B_HF_LipV7_47560_FPS_MS1_0_QC_Post_--QC_345.h5"
      ],
      "text/plain": [
       "<IPython.core.display.Markdown object>"
      ]
     },
     "metadata": {},
     "output_type": "display_data"
    },
    {
     "data": {
      "text/plain": [
       "Text(0.5,0,'QCs')"
      ]
     },
     "execution_count": 11,
     "metadata": {},
     "output_type": "execute_result"
    },
    {
     "data": {
      "image/png": "[encoded data removed]",
      "text/plain": [
       "<Figure size 432x288 with 3 Axes>"
      ]
     },
     "metadata": {},
     "output_type": "display_data"
    }
   ],
   "source": [
    "printmd(\"__QCFileIndex&emsp;QCFileName__\")\n",
    "for i in range(qc_actual_df.shape[1]):\n",
    "    if maes[i] == min(maes):\n",
    "        QCFileIndex = i\n",
    "        printmd(\"__\"+str(i)+\"&emsp;&emsp;\"+qc_actual_df.columns[i][1]+\"__\")\n",
    "    else:\n",
    "        printmd(str(i)+\"&emsp;&emsp;\"+qc_actual_df.columns[i][1])\n",
    "        \n",
    "\n",
    "fig, axes = plt.subplots(2, sharex=True)\n",
    "color = 'tab:red'\n",
    "axes[0].set_ylabel('coef', color=color)\n",
    "axes[0].plot(coefs, color=color)\n",
    "axes[0].tick_params(axis='y', labelcolor=color)\n",
    "axes[0].axhline(y=np.median(coefs),color='orangered')\n",
    "\n",
    "ax2 = axes[0].twinx()\n",
    "color = 'tab:blue'\n",
    "ax2.set_ylabel('intercept', color=color)  \n",
    "ax2.plot(intercepts, color=color)\n",
    "ax2.tick_params(axis='y', labelcolor=color)\n",
    "ax2.axhline(y=np.median(intercepts),color='lightblue')\n",
    "\n",
    "axes[1].plot(maes)\n",
    "axes[1].set_xticks(np.arange(len(maes)))\n",
    "# axes[1].set_xticklabels(qc_actual_df.columns, rotation=90)\n",
    "axes[1].set_ylabel('MAE')\n",
    "axes[1].set_xlabel('QCs')\n"
   ]
  },
  {
   "cell_type": "markdown",
   "metadata": {},
   "source": [
    "## 7. Plot actual vs predict RT values and fit a  median coeff+intercept line"
   ]
  },
  {
   "cell_type": "code",
   "execution_count": 12,
   "metadata": {
    "scrolled": false
   },
   "outputs": [
    {
     "data": {
      "text/plain": [
       "Text(0,0.5,'actual RTs')"
      ]
     },
     "execution_count": 12,
     "metadata": {},
     "output_type": "execute_result"
    },
    {
     "data": {
      "image/png": "[encoded data removed]",
      "text/plain": [
       "<Figure size 432x288 with 1 Axes>"
      ]
     },
     "metadata": {},
     "output_type": "display_data"
    }
   ],
   "source": [
    "#User can change to use particular qc file\n",
    "import itertools\n",
    "x = list(itertools.chain(*pred_rts))\n",
    "y = list(itertools.chain(*actual_rts))\n",
    "\n",
    "coef = np.median(coefs)\n",
    "intercept = np.median(intercepts)\n",
    "\n",
    "plt.scatter(x,y)\n",
    "plt.plot(np.linspace(0, max(x), 100), coef*np.linspace(0, max(x), 100)+intercept)\n",
    "plt.xlabel('predicted RTs')\n",
    "plt.ylabel('actual RTs')"
   ]
  },
  {
   "cell_type": "markdown",
   "metadata": {},
   "source": [
    "## 8. Plot actual vs predict RT values and fit a coeff+intercept line for a specific QC file (optional)"
   ]
  },
  {
   "cell_type": "code",
   "execution_count": 15,
   "metadata": {},
   "outputs": [
    {
     "data": {
      "text/plain": [
       "Text(0,0.5,'actual RTs')"
      ]
     },
     "execution_count": 15,
     "metadata": {},
     "output_type": "execute_result"
    },
    {
     "data": {
      "image/png": "[encoded data removed]",
      "text/plain": [
       "<Figure size 432x288 with 1 Axes>"
      ]
     },
     "metadata": {},
     "output_type": "display_data"
    }
   ],
   "source": [
    "# #QCFileIndex = 1\n",
    "# coef = coefs[QCFileIndex]\n",
    "# intercept = intercepts[QCFileIndex]\n",
    "\n",
    "# x = list(itertools.chain(*pred_rts[QCFileIndex]))\n",
    "# y = actual_rts[QCFileIndex]\n",
    "# #x=qc_pred_df.values\n",
    "# #y=qc_actual_df.iloc[:,QCFileIndex].values\n",
    "\n",
    "# plt.scatter(x, y)\n",
    "# plt.plot(np.linspace(0, max(x),100), coef*np.linspace(0,max(x),100)+intercept)\n",
    "# plt.xlabel('predicted RTs')\n",
    "# plt.ylabel('actual RTs')"
   ]
  },
  {
   "cell_type": "markdown",
   "metadata": {},
   "source": [
    "## 9. Save RT model (optional)"
   ]
  },
  {
   "cell_type": "code",
   "execution_count": null,
   "metadata": {},
   "outputs": [],
   "source": [
    "# Save model\n",
    "#with open('./rt_model', 'w') as f:\n",
    "#    f.write('coef = {}\\nintercept = {}\\nqc_actual_rts = {}\\nqc_predicted_rts = {}'.format(\n",
    "#                                                                                    coef, \n",
    "#                                                                                    intercept, \n",
    "#                                                                                    ', '.join([g.name for g in groups]), \n",
    "#                                                                                    os.path.realpath(qc_predicted_path)))\n",
    "#    f.write('\\n'+repr(rt_model.set_params()))"
   ]
  },
  {
   "cell_type": "markdown",
   "metadata": {},
   "source": [
    "## 10. Auto RT adjust original QC atlas"
   ]
  },
  {
   "cell_type": "code",
   "execution_count": 13,
   "metadata": {},
   "outputs": [],
   "source": [
    "import datetime\n",
    "\n",
    "#Atlas File Name\n",
    "LCS = 'MSMLS' # Library Compound Set\n",
    "CTY = 'HILICz150mm' # Chromatography\n",
    "LR = 'Annotation20190824' # Library Run\n",
    "RTS = 'Predicted' # RT space\n",
    "CPD = 'QCv3' # Set of Compounds\n",
    "LAB = 'Unlabeled' # Isolabeling\n",
    "POL = 'Positive' # Polarity\n",
    "FT = '' # Free Text\n",
    "DT = datetime.datetime.strftime(datetime.datetime.now(),'%Y%m%d')\n",
    "\n",
    "\n",
    "if FT != '':\n",
    "    QC_predicted_filename = \"_\".join((LCS,CTY,LR,RTS,CPD,LAB,POL,FT,DT))\n",
    "else:\n",
    "    QC_predicted_filename = \"_\".join((LCS,CTY,LR,RTS,CPD,LAB,POL,DT))\n",
    "\n",
    "QC_atlas_df = atlas_df\n",
    "QC_atlas_df['rt_peak'] = QC_atlas_df['rt_peak'].apply(lambda rt: coef*rt+intercept)\n",
    "QC_atlas_df['rt_min'] = QC_atlas_df['rt_peak'].apply(lambda rt: rt-.5)\n",
    "QC_atlas_df['rt_max'] = QC_atlas_df['rt_peak'].apply(lambda rt: rt+.5)\n",
    "\n",
    "QC_atlas_df.to_csv(os.path.join('./', QC_predicted_filename), index=False)\n",
    "\n",
    "# Optionally save in database\n",
    "#dp.make_atlas_from_spreadsheet(QC_atlas_df,\n",
    "#                           QC_predicted_filename,\n",
    "#                           filetype='dataframe',\n",
    "#                           sheetname='',\n",
    "#                           polarity = 'positive',\n",
    "#                           store=True,\n",
    "#                           mz_tolerance = 20)"
   ]
  },
  {
   "cell_type": "markdown",
   "metadata": {},
   "source": [
    "## 11. Auto RT adjust template EMA atlas"
   ]
  },
  {
   "cell_type": "code",
   "execution_count": 14,
   "metadata": {},
   "outputs": [
    {
     "name": "stdout",
     "output_type": "stream",
     "text": [
      "((350, 15), 350)\n"
     ]
    }
   ],
   "source": [
    "import datetime\n",
    "\n",
    "#Atlas File Name\n",
    "LCS = 'MSMLS' # Library Compound Set\n",
    "CTY = 'HILICz150mm' # Chromatography\n",
    "LR = 'Annotation20190824' # Library Run\n",
    "RTS = 'Template' # RT space\n",
    "CPD = 'EMA' # Set of Compounds\n",
    "LAB = 'Unlabeled' # Isolabeling\n",
    "POL = 'Positive' # Polarity\n",
    "FT = '' # Free Text\n",
    "DT = datetime.datetime.strftime(datetime.datetime.now(),'%Y%m%d')\n",
    "\n",
    "EMA_template_filename = \"_\".join((LCS,CTY,LR,RTS,CPD,LAB,POL))\n",
    "\n",
    "RTS = 'Predicted' # RT space\n",
    "if FT != '':\n",
    "    EMA_predicted_filename = \"_\".join((LCS,CTY,LR,RTS,CPD,LAB,POL,FT,DT))\n",
    "else:\n",
    "    EMA_predicted_filename = \"_\".join((LCS,CTY,LR,RTS,CPD,LAB,POL,DT))\n",
    "\n",
    "atlases = metob.retrieve('Atlas',name=EMA_template_filename,\n",
    "                         username='vrsingan')\n",
    "myAtlas = atlases[-1]\n",
    "EMA_atlas_df = ma_data.make_atlas_df(myAtlas)\n",
    "EMA_atlas_df['label'] = [cid.name for cid in myAtlas.compound_identifications]\n",
    "\n",
    "EMA_atlas_df['rt_peak'] = EMA_atlas_df['rt_peak'].apply(lambda rt: coef*rt+intercept)\n",
    "EMA_atlas_df['rt_min'] = EMA_atlas_df['rt_peak'].apply(lambda rt: rt-.5)\n",
    "EMA_atlas_df['rt_max'] = EMA_atlas_df['rt_peak'].apply(lambda rt: rt+.5)\n",
    "\n",
    "EMA_atlas_df.to_csv(os.path.join('./',EMA_predicted_filename), index=False)\n",
    "\n",
    "# Optionally save in database\n",
    "#dp.make_atlas_from_spreadsheet(EMA_atlas_df,\n",
    "#                           EMA_predicted_filename,\n",
    "#                           filetype='dataframe',\n",
    "#                           sheetname='',\n",
    "#                           polarity = 'positive',\n",
    "#                           store=True,\n",
    "#                           mz_tolerance = 20)"
   ]
  }
 ],
 "metadata": {
  "anaconda-cloud": {},
  "kernelspec": {
   "display_name": "mass spec cori",
   "language": "python",
   "name": "mass_spec_cori"
  },
  "language_info": {
   "codemirror_mode": {
    "name": "ipython",
    "version": 2
   },
   "file_extension": ".py",
   "mimetype": "text/x-python",
   "name": "python",
   "nbconvert_exporter": "python",
   "pygments_lexer": "ipython2",
   "version": "2.7.14"
  }
 },
 "nbformat": 4,
 "nbformat_minor": 1
}
