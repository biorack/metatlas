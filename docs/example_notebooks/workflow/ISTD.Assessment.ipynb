{
 "cells": [
  {
   "cell_type": "markdown",
   "metadata": {},
   "source": [
    "# Assess and Monitor QCs, Internal Standards, and Common Metabolites\n",
    "\n",
    "## This notebook will guide people to\n",
    "* ## Identify their files\n",
    "* ## Specify the LC/MS method used\n",
    "* ## Specify the text-string used to differentiate blanks, QCs, and experimental injections\n",
    "* ## Populate the run log with the pass/fail outcome for each run\n",
    "\n",
    "## Run each block below.  They will indicate \"ok\" when completed.  Clear all output prior to starting makes it easier to tell when cells are completed."
   ]
  },
  {
   "cell_type": "markdown",
   "metadata": {},
   "source": [
    "# 1. Import required packages"
   ]
  },
  {
   "cell_type": "code",
   "execution_count": 1,
   "metadata": {
    "collapsed": false
   },
   "outputs": [
    {
     "name": "stdout",
     "output_type": "stream",
     "text": [
      "('Metatlas live in ', '/global/project/projectdirs/metatlas/anaconda/lib/python2.7/site-packages/metatlas')\n",
      "you're running on fb89848c8ac0 at 172.17.0.2 \n"
     ]
    }
   ],
   "source": [
    "import sys\n",
    "# sys.path.insert(0,'/global/homes/b/bpb/metatlas/' )\n",
    "sys.path.insert(0,'/global/project/projectdirs/metatlas/anaconda/lib/python2.7/site-packages' )\n",
    "\n",
    "import pandas as pd\n",
    "import warnings\n",
    "warnings.filterwarnings('ignore')\n",
    "from metatlas import ms_monitor_util as mtools\n",
    "%matplotlib inline"
   ]
  },
  {
   "cell_type": "markdown",
   "metadata": {},
   "source": [
    "# 2. Select your experiment. "
   ]
  },
  {
   "cell_type": "code",
   "execution_count": 2,
   "metadata": {
    "collapsed": false
   },
   "outputs": [
    {
     "name": "stdout",
     "output_type": "stream",
     "text": [
      "How many days back to search: 5\n"
     ]
    }
   ],
   "source": [
    "num_days = raw_input('How many days back to search: ')\n",
    "experiment = mtools.get_recent_experiments(num_days = int(num_days))"
   ]
  },
  {
   "cell_type": "markdown",
   "metadata": {},
   "source": [
    "# 3. Get files for that experiment."
   ]
  },
  {
   "cell_type": "code",
   "execution_count": 3,
   "metadata": {
    "collapsed": false
   },
   "outputs": [
    {
     "name": "stdout",
     "output_type": "stream",
     "text": [
      "54\n"
     ]
    }
   ],
   "source": [
    "files = mtools.get_files_for_experiment(experiment.value)\n",
    "print len(files)"
   ]
  },
  {
   "cell_type": "markdown",
   "metadata": {},
   "source": [
    "# 4. Get strings used in your file naming and the method you used.\n"
   ]
  },
  {
   "cell_type": "code",
   "execution_count": 7,
   "metadata": {
    "collapsed": false
   },
   "outputs": [],
   "source": [
    "qc_str,blank_str,neg_str,pos_str = mtools.get_blank_qc_pos_neg_string()\n",
    "method = mtools.get_method_dropdown()"
   ]
  },
  {
   "cell_type": "markdown",
   "metadata": {},
   "source": [
    "# 5. Get Data from Reference\n",
    "### You can also view the source of these references [here](https://docs.google.com/a/lbl.gov/spreadsheets/d/1SCvTvVloqkrsvT5uoCLP4gGaFO_BolptkiT3uAk_exM/edit?usp=sharing \"Title\")."
   ]
  },
  {
   "cell_type": "markdown",
   "metadata": {},
   "source": [
    "## 5a. Get the Data as a Dataframe to Explore on Your Own"
   ]
  },
  {
   "cell_type": "code",
   "execution_count": 8,
   "metadata": {
    "collapsed": false
   },
   "outputs": [
    {
     "name": "stdout",
     "output_type": "stream",
     "text": [
      "('keys', Index([u'label', u'Formula', u'Neutral Mass', u'Old Metacyc based name', u'',\n",
      "       u'name', u'inchi_key', u'Comments', u'mz_POS', u'mz_NEG',\n",
      "       u'Permanent Charge', u'Pos Neg Detected', u'COMMON-HILIC',\n",
      "       u'ISTD-HILIC', u'QC-HILIC', u'SSM-1', u'rt_peak_6550_ZIC-HILIC',\n",
      "       u'rt_min_6550_ZIC-HILIC', u'rt_max_6550_ZIC-HILIC',\n",
      "       u'rt_peak_QE139_ZIC-HILIC', u'rt_min_QE139_ZIC-HILIC',\n",
      "       u'rt_max_QE139_ZIC-HILIC', u'rt_peak_QE144_ZIC-HILIC',\n",
      "       u'rt_min_QE144_ZIC-HILIC', u'rt_max_QE144_ZIC-HILIC',\n",
      "       u'rt_peak_QE119_ZIC-HILIC', u'rt_min_QE119_ZIC-HILIC',\n",
      "       u'rt_max_QE119_ZIC-HILIC', u'rt_peak_6550_pHILIC',\n",
      "       u'rt_min_6550_pHILIC', u'rt_max_6550_pHILIC',\n",
      "       u'rt_peak_6550_pHILIC-noguard', u'rt_peak_QE139_pHILIC',\n",
      "       u'rt_min_QE139_pHILIC', u'rt_max_QE139_pHILIC', u'ISTD_RP', u'QC_RP',\n",
      "       u'rt_peak_6550_RP', u'rt_min_6550_RP', u'rt_max_6550_RP',\n",
      "       u'Pol_6550_RP', u'rt_peak_QE119_RP', u'rt_min_QE119_RP',\n",
      "       u'rt_max_QE119_RP', u'rt_peak_QE139_RP', u'rt_min_QE139_RP',\n",
      "       u'rt_max_QE139_RP', u'rt_peak_QE144_RP', u'rt_min_QE144_RP',\n",
      "       u'rt_max_QE144_RP', u'Peak-Height_6550_pHILIC_Pos',\n",
      "       u'Peak-Height_6550_pHILIC_Neg', u'Peak-Height_6520_pHILIC_Pos',\n",
      "       u'Peak-Height_6520_pHILIC_Neg', u'Peak-Height_QE_pHILIC_Pos',\n",
      "       u'Peak-Height_QE_pHILIC_Neg', u'Peak-Height_6550_RP_Pos',\n",
      "       u'Peak-Height_6550_RP_Neg', u'Peak-Height_6520_RP_Pos',\n",
      "       u'Peak-Height_6520_RP_Neg', u'Peak-Height_QE139_RP_Pos',\n",
      "       u'Peak-Height_QE139_RP_Neg', u'file_rt_6550_pHILIC_POS',\n",
      "       u'file_rt_6520_pHILIC_POS', u'file_rt_QE139_pHILIC_POS',\n",
      "       u'file_mz_QE139_pHILIC_POS', u'file_rt_6550_pHILIC_NEG',\n",
      "       u'file_rt_6520_pHILIC_NEG', u'file_rt_QE139_pHILIC_NEG',\n",
      "       u'file_mz_QE139_pHILIC_NEG', u'file_msms_6550_pHILIC_POS',\n",
      "       u'file_msms_6520_pHILIC_POS', u'file_msms_QE139_pHILIC_POS',\n",
      "       u'file_msms_6550_pHILIC_NEG', u'file_msms_6520_pHILIC_NEG',\n",
      "       u'file_msms_QE139_pHILIC_NEG', u'Source', u'Compound category'],\n",
      "      dtype='object'))\n",
      "('shape', (115, 78))\n"
     ]
    }
   ],
   "source": [
    "df = mtools.get_ms_monitor_reference_data()\n"
   ]
  },
  {
   "cell_type": "code",
   "execution_count": 9,
   "metadata": {
    "collapsed": false
   },
   "outputs": [
    {
     "data": {
      "text/html": [
       "<div>\n",
       "<table border=\"1\" class=\"dataframe\">\n",
       "  <thead>\n",
       "    <tr style=\"text-align: right;\">\n",
       "      <th></th>\n",
       "      <th>label</th>\n",
       "      <th>Formula</th>\n",
       "      <th>Neutral Mass</th>\n",
       "      <th>Old Metacyc based name</th>\n",
       "      <th></th>\n",
       "      <th>name</th>\n",
       "      <th>inchi_key</th>\n",
       "      <th>Comments</th>\n",
       "      <th>mz_POS</th>\n",
       "      <th>mz_NEG</th>\n",
       "      <th>...</th>\n",
       "      <th>file_rt_QE139_pHILIC_NEG</th>\n",
       "      <th>file_mz_QE139_pHILIC_NEG</th>\n",
       "      <th>file_msms_6550_pHILIC_POS</th>\n",
       "      <th>file_msms_6520_pHILIC_POS</th>\n",
       "      <th>file_msms_QE139_pHILIC_POS</th>\n",
       "      <th>file_msms_6550_pHILIC_NEG</th>\n",
       "      <th>file_msms_6520_pHILIC_NEG</th>\n",
       "      <th>file_msms_QE139_pHILIC_NEG</th>\n",
       "      <th>Source</th>\n",
       "      <th>Compound category</th>\n",
       "    </tr>\n",
       "  </thead>\n",
       "  <tbody>\n",
       "    <tr>\n",
       "      <th>0</th>\n",
       "      <td>ABMBA</td>\n",
       "      <td>C8H8BrNO2</td>\n",
       "      <td>228.973846</td>\n",
       "      <td>ABMBA</td>\n",
       "      <td>ABMBA-QC</td>\n",
       "      <td>ABMBA</td>\n",
       "      <td>LCMZECCEEOQWLQ-UHFFFAOYSA-N</td>\n",
       "      <td></td>\n",
       "      <td>229.981122</td>\n",
       "      <td>227.966570</td>\n",
       "      <td>...</td>\n",
       "      <td>20160119_pHILIC___NEG_MSMS_KZ__KBL_QCMix_V2___...</td>\n",
       "      <td>20160119_pHILIC___NEG_MSMS_KZ__KBL_QCMix_V2___...</td>\n",
       "      <td></td>\n",
       "      <td></td>\n",
       "      <td>20160119_pHILIC___POS_MSMS_KZ__KBL_QCMix_V2___...</td>\n",
       "      <td></td>\n",
       "      <td></td>\n",
       "      <td>20160119_pHILIC___NEG_MSMS_KZ__KBL_QCMix_V2___...</td>\n",
       "      <td></td>\n",
       "      <td></td>\n",
       "    </tr>\n",
       "    <tr>\n",
       "      <th>2</th>\n",
       "      <td>Uracil</td>\n",
       "      <td>C4H4N2O2</td>\n",
       "      <td>112.027300</td>\n",
       "      <td>uracil</td>\n",
       "      <td>Uracil</td>\n",
       "      <td>uracil</td>\n",
       "      <td>ISAKRJDGNUQOIC-UHFFFAOYSA-N</td>\n",
       "      <td></td>\n",
       "      <td>113.0346</td>\n",
       "      <td>111.02</td>\n",
       "      <td>...</td>\n",
       "      <td>20160119_pHILIC___NEG_MSMS_KZ_RootCass_8_MeOH_...</td>\n",
       "      <td>20160119_pHILIC___NEG_MSMS_KZ_RootCass_8_MeOH_...</td>\n",
       "      <td></td>\n",
       "      <td></td>\n",
       "      <td>20160119_pHILIC___POS_MSMS_KZ_RootCass_8_MeOH_...</td>\n",
       "      <td></td>\n",
       "      <td></td>\n",
       "      <td>20160119_pHILIC___NEG_MSMS_KZ_RootCass_8_MeOH_...</td>\n",
       "      <td>Standard_KZ_cassettes</td>\n",
       "      <td></td>\n",
       "    </tr>\n",
       "    <tr>\n",
       "      <th>3</th>\n",
       "      <td>pyridoxine</td>\n",
       "      <td>C8H11NO3</td>\n",
       "      <td>169.073898</td>\n",
       "      <td>|pyridoxine|</td>\n",
       "      <td>pyridoxine-QC</td>\n",
       "      <td>|pyridoxine|</td>\n",
       "      <td>LXNHXLLTXMVWPM-UHFFFAOYSA-N</td>\n",
       "      <td></td>\n",
       "      <td>170.081174</td>\n",
       "      <td>168.066622</td>\n",
       "      <td>...</td>\n",
       "      <td>20160119_pHILIC___NEG_MSMS_KZ__KBL_QCMix_V2___...</td>\n",
       "      <td>20160119_pHILIC___NEG_MSMS_KZ__KBL_QCMix_V2___...</td>\n",
       "      <td></td>\n",
       "      <td></td>\n",
       "      <td>20160119_pHILIC___POS_MSMS_KZ__KBL_QCMix_V2___...</td>\n",
       "      <td></td>\n",
       "      <td></td>\n",
       "      <td>20160119_pHILIC___NEG_MSMS_KZ__KBL_QCMix_V2___...</td>\n",
       "      <td></td>\n",
       "      <td></td>\n",
       "    </tr>\n",
       "    <tr>\n",
       "      <th>5</th>\n",
       "      <td>ACA</td>\n",
       "      <td>C15H10O2</td>\n",
       "      <td>222.068085</td>\n",
       "      <td>9-anthracene carboxylic acid</td>\n",
       "      <td>ACA-QC</td>\n",
       "      <td>9-anthracene carboxylic acid</td>\n",
       "      <td>XGWFJBFNAQHLEF-UHFFFAOYSA-N</td>\n",
       "      <td></td>\n",
       "      <td>223.075361</td>\n",
       "      <td>221.060809</td>\n",
       "      <td>...</td>\n",
       "      <td>20160119_pHILIC___NEG_MSMS_KZ__KBL_QCMix_V2___...</td>\n",
       "      <td>20160119_pHILIC___NEG_MSMS_KZ__KBL_QCMix_V2___...</td>\n",
       "      <td></td>\n",
       "      <td></td>\n",
       "      <td>20160119_pHILIC___POS_MSMS_KZ__KBL_QCMix_V2___...</td>\n",
       "      <td></td>\n",
       "      <td></td>\n",
       "      <td>20160119_pHILIC___NEG_MSMS_KZ__KBL_QCMix_V2___...</td>\n",
       "      <td></td>\n",
       "      <td></td>\n",
       "    </tr>\n",
       "    <tr>\n",
       "      <th>7</th>\n",
       "      <td>d5-benzoic acid</td>\n",
       "      <td>C7HD5O2</td>\n",
       "      <td>127.068161</td>\n",
       "      <td>d5-benzoic acid</td>\n",
       "      <td>d5-benzoic acid</td>\n",
       "      <td>d5-benzoic acid</td>\n",
       "      <td>WPYMKLBDIGXBTP-RALIUCGRSA-N</td>\n",
       "      <td></td>\n",
       "      <td>128.075437</td>\n",
       "      <td>126.060885</td>\n",
       "      <td>...</td>\n",
       "      <td>20160119_pHILIC___NEG_MSMS_KZ__KBL_QCMix_V2___...</td>\n",
       "      <td>20160119_pHILIC___NEG_MSMS_KZ__KBL_QCMix_V2___...</td>\n",
       "      <td></td>\n",
       "      <td></td>\n",
       "      <td></td>\n",
       "      <td></td>\n",
       "      <td></td>\n",
       "      <td></td>\n",
       "      <td></td>\n",
       "      <td></td>\n",
       "    </tr>\n",
       "  </tbody>\n",
       "</table>\n",
       "<p>5 rows × 78 columns</p>\n",
       "</div>"
      ],
      "text/plain": [
       "             label    Formula Neutral Mass        Old Metacyc based name  \\\n",
       "0            ABMBA  C8H8BrNO2   228.973846                         ABMBA   \n",
       "2           Uracil   C4H4N2O2   112.027300                        uracil   \n",
       "3       pyridoxine   C8H11NO3   169.073898                  |pyridoxine|   \n",
       "5              ACA   C15H10O2   222.068085  9-anthracene carboxylic acid   \n",
       "7  d5-benzoic acid    C7HD5O2   127.068161               d5-benzoic acid   \n",
       "\n",
       "                                            name                    inchi_key  \\\n",
       "0         ABMBA-QC                         ABMBA  LCMZECCEEOQWLQ-UHFFFAOYSA-N   \n",
       "2           Uracil                        uracil  ISAKRJDGNUQOIC-UHFFFAOYSA-N   \n",
       "3    pyridoxine-QC                  |pyridoxine|  LXNHXLLTXMVWPM-UHFFFAOYSA-N   \n",
       "5           ACA-QC  9-anthracene carboxylic acid  XGWFJBFNAQHLEF-UHFFFAOYSA-N   \n",
       "7  d5-benzoic acid               d5-benzoic acid  WPYMKLBDIGXBTP-RALIUCGRSA-N   \n",
       "\n",
       "  Comments      mz_POS      mz_NEG        ...         \\\n",
       "0           229.981122  227.966570        ...          \n",
       "2             113.0346      111.02        ...          \n",
       "3           170.081174  168.066622        ...          \n",
       "5           223.075361  221.060809        ...          \n",
       "7           128.075437  126.060885        ...          \n",
       "\n",
       "                            file_rt_QE139_pHILIC_NEG  \\\n",
       "0  20160119_pHILIC___NEG_MSMS_KZ__KBL_QCMix_V2___...   \n",
       "2  20160119_pHILIC___NEG_MSMS_KZ_RootCass_8_MeOH_...   \n",
       "3  20160119_pHILIC___NEG_MSMS_KZ__KBL_QCMix_V2___...   \n",
       "5  20160119_pHILIC___NEG_MSMS_KZ__KBL_QCMix_V2___...   \n",
       "7  20160119_pHILIC___NEG_MSMS_KZ__KBL_QCMix_V2___...   \n",
       "\n",
       "                            file_mz_QE139_pHILIC_NEG  \\\n",
       "0  20160119_pHILIC___NEG_MSMS_KZ__KBL_QCMix_V2___...   \n",
       "2  20160119_pHILIC___NEG_MSMS_KZ_RootCass_8_MeOH_...   \n",
       "3  20160119_pHILIC___NEG_MSMS_KZ__KBL_QCMix_V2___...   \n",
       "5  20160119_pHILIC___NEG_MSMS_KZ__KBL_QCMix_V2___...   \n",
       "7  20160119_pHILIC___NEG_MSMS_KZ__KBL_QCMix_V2___...   \n",
       "\n",
       "  file_msms_6550_pHILIC_POS file_msms_6520_pHILIC_POS  \\\n",
       "0                                                       \n",
       "2                                                       \n",
       "3                                                       \n",
       "5                                                       \n",
       "7                                                       \n",
       "\n",
       "                          file_msms_QE139_pHILIC_POS  \\\n",
       "0  20160119_pHILIC___POS_MSMS_KZ__KBL_QCMix_V2___...   \n",
       "2  20160119_pHILIC___POS_MSMS_KZ_RootCass_8_MeOH_...   \n",
       "3  20160119_pHILIC___POS_MSMS_KZ__KBL_QCMix_V2___...   \n",
       "5  20160119_pHILIC___POS_MSMS_KZ__KBL_QCMix_V2___...   \n",
       "7                                                      \n",
       "\n",
       "  file_msms_6550_pHILIC_NEG file_msms_6520_pHILIC_NEG  \\\n",
       "0                                                       \n",
       "2                                                       \n",
       "3                                                       \n",
       "5                                                       \n",
       "7                                                       \n",
       "\n",
       "                          file_msms_QE139_pHILIC_NEG                 Source  \\\n",
       "0  20160119_pHILIC___NEG_MSMS_KZ__KBL_QCMix_V2___...                          \n",
       "2  20160119_pHILIC___NEG_MSMS_KZ_RootCass_8_MeOH_...  Standard_KZ_cassettes   \n",
       "3  20160119_pHILIC___NEG_MSMS_KZ__KBL_QCMix_V2___...                          \n",
       "5  20160119_pHILIC___NEG_MSMS_KZ__KBL_QCMix_V2___...                          \n",
       "7                                                                             \n",
       "\n",
       "  Compound category  \n",
       "0                    \n",
       "2                    \n",
       "3                    \n",
       "5                    \n",
       "7                    \n",
       "\n",
       "[5 rows x 78 columns]"
      ]
     },
     "execution_count": 9,
     "metadata": {},
     "output_type": "execute_result"
    }
   ],
   "source": [
    "df.head()"
   ]
  },
  {
   "cell_type": "markdown",
   "metadata": {},
   "source": [
    "## 5b. Get the data for proceeding onto steps 6 and 7"
   ]
  },
  {
   "cell_type": "code",
   "execution_count": null,
   "metadata": {
    "collapsed": false
   },
   "outputs": [],
   "source": [
    "reference_data"
   ]
  },
  {
   "cell_type": "code",
   "execution_count": null,
   "metadata": {
    "collapsed": false
   },
   "outputs": [],
   "source": [
    "mtools = reload(mtools)\n",
    "\n",
    "reference_data = mtools.filter_istd_qc_by_method(method.value)\n",
    "print \"ok\""
   ]
  },
  {
   "cell_type": "markdown",
   "metadata": {},
   "source": [
    "# 6. Check that you have entered everything correctly by running the next cell"
   ]
  },
  {
   "cell_type": "code",
   "execution_count": null,
   "metadata": {
    "collapsed": false
   },
   "outputs": [],
   "source": [
    "print \"Method = \",method.value\n",
    "print \"Experiment = \",experiment.value\n",
    "print len(files), \" files queued for assessment\"\n",
    "print \"filter strings are: \", qc_str.value, blank_str.value, pos_str.value, neg_str.value\n",
    "print \"parameters: \",reference_data['parameters']"
   ]
  },
  {
   "cell_type": "code",
   "execution_count": null,
   "metadata": {
    "collapsed": true
   },
   "outputs": [],
   "source": [
    "##################################################################\n",
    "##################################################################\n",
    "##### YOU SHOULD NEVER HAVE TO UNCOMMENT AND RUN THIS BLOCK ######\n",
    "# reference_data['parameters']['mz_ppm_tolerance'], reference_data['parameters']['rt_minutes_tolerance'] = mtools.get_rt_mz_tolerance_from_user()\n",
    "##### YOU SHOULD NEVER HAVE TO UNCOMMENT AND RUN THIS BLOCK ######\n",
    "##################################################################\n",
    "##################################################################"
   ]
  },
  {
   "cell_type": "markdown",
   "metadata": {},
   "source": [
    "# 7. Get values and make plots and tables.  This saves an xls and figures to your current folder."
   ]
  },
  {
   "cell_type": "code",
   "execution_count": null,
   "metadata": {
    "collapsed": false,
    "scrolled": false
   },
   "outputs": [],
   "source": [
    "mtools = reload(mtools)\n",
    "df = mtools.construct_result_table_for_files(files,qc_str,blank_str,neg_str,pos_str,method,reference_data,experiment)"
   ]
  },
  {
   "cell_type": "markdown",
   "metadata": {},
   "source": [
    "# 8. Assert for each file if it has passed or failed QC"
   ]
  },
  {
   "cell_type": "code",
   "execution_count": null,
   "metadata": {
    "collapsed": false
   },
   "outputs": [],
   "source": [
    "#TODO"
   ]
  },
  {
   "cell_type": "code",
   "execution_count": null,
   "metadata": {
    "collapsed": true
   },
   "outputs": [],
   "source": []
  }
 ],
 "metadata": {
  "anaconda-cloud": {},
  "kernelspec": {
   "display_name": "MetAtlas 2.7",
   "language": "python",
   "name": "metatlas"
  },
  "language_info": {
   "codemirror_mode": {
    "name": "ipython",
    "version": 2
   },
   "file_extension": ".py",
   "mimetype": "text/x-python",
   "name": "python",
   "nbconvert_exporter": "python",
   "pygments_lexer": "ipython2",
   "version": "2.7.13"
  }
 },
 "nbformat": 4,
 "nbformat_minor": 0
}
