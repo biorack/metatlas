{
 "cells": [
  {
   "cell_type": "markdown",
   "metadata": {},
   "source": [
    "# Rapidly generate figures for atlas and groups\n",
    "\n",
    "To install the kernel used by NERSC-metatlas users, copy the following text to $HOME/.ipython/kernels/mass_spec_cori/kernel.json\n",
    "\n",
    "```\n",
    "{\n",
    " \"argv\": [\n",
    "  \"/global/common/software/m2650/python-cori/bin/python\",\n",
    "  \"-m\",\n",
    "  \"IPython.kernel\",\n",
    "  \"-f\",\n",
    "  \"{connection_file}\"\n",
    " ],\n",
    " \"env\": {\n",
    "    \"PATH\": \"/global/common/software/m2650/python-cori/bin:/usr/local/bin:/usr/bin:/bin:/usr/sbin:/sbin\"\n",
    " },\n",
    " \"display_name\": \"mass_spec_cori\",\n",
    " \"language\": \"python\"\n",
    "}\n",
    "```\n"
   ]
  },
  {
   "cell_type": "code",
   "execution_count": 1,
   "metadata": {},
   "outputs": [
    {
     "data": {
      "text/html": [
       "<style>.container { width:100% !important; }</style>"
      ],
      "text/plain": [
       "<IPython.core.display.HTML object>"
      ]
     },
     "metadata": {},
     "output_type": "display_data"
    }
   ],
   "source": [
    "from IPython.core.display import display, HTML\n",
    "display(HTML(\"<style>.container { width:100% !important; }</style>\"))\n",
    "%matplotlib notebook\n",
    "import sys\n",
    "import os\n",
    "import multiprocessing as mp\n",
    "\n",
    "#### add a path to your private code if not using production code ####\n",
    "sys.path.insert(0,\"/global/homes/b/bpb/repos/metatlas/\") #where your private code is\n",
    "######################################################################\n",
    "\n",
    "from metatlas.helpers import dill2plots as dp\n",
    "from metatlas.helpers import fastanalysis as fa\n",
    "import metatlas.metatlas_objects as metob\n",
    "from metatlas.helpers import metatlas_get_data_helper_fun as ma_data\n",
    "# other data tools you might need\n",
    "import pandas as pd\n",
    "import numpy as np\n",
    "from matplotlib import pyplot as plt"
   ]
  },
  {
   "cell_type": "markdown",
   "metadata": {},
   "source": [
    "# 1. Retrieve atlas by name"
   ]
  },
  {
   "cell_type": "code",
   "execution_count": null,
   "metadata": {
    "scrolled": false
   },
   "outputs": [],
   "source": [
    "atlases = metob.retrieve('Atlas',name='test_atlas_positive_mode',username='*')\n",
    "names = []\n",
    "for i,a in enumerate(atlases):\n",
    "    print(i,a.name,pd.to_datetime(a.last_modified,unit='s'))#len(a.compound_identifications)"
   ]
  },
  {
   "cell_type": "markdown",
   "metadata": {},
   "source": [
    "# 2. Pick which atlas from the list above. \n",
    "\n",
    "For example\n",
    "\n",
    "```\n",
    "atlas = atlases[0]\n",
    "``` \n",
    "\n",
    "will select the first one\n",
    "\n",
    "```\n",
    "atlas = atlases[1] \n",
    "```\n",
    "\n",
    "will select the second one... and so forth."
   ]
  },
  {
   "cell_type": "code",
   "execution_count": null,
   "metadata": {},
   "outputs": [],
   "source": [
    "atlas = atlases[0]\n",
    "print atlas.name\n",
    "print atlas.username"
   ]
  },
  {
   "cell_type": "markdown",
   "metadata": {},
   "source": [
    "# 3. Specify groups and filter by include_list and exclude_list"
   ]
  },
  {
   "cell_type": "code",
   "execution_count": null,
   "metadata": {},
   "outputs": [],
   "source": [
    "groups = dp.select_groups_for_analysis(name = 'test_groups_pos',\n",
    "                                       most_recent = True,\n",
    "                                       remove_empty = True,\n",
    "                                       include_list = [], exclude_list = [])#['QC','Blank'])"
   ]
  },
  {
   "cell_type": "markdown",
   "metadata": {},
   "source": [
    "# 4. Replace 'results' with directory to store your results"
   ]
  },
  {
   "cell_type": "code",
   "execution_count": null,
   "metadata": {},
   "outputs": [],
   "source": [
    "output_dir = '/global/homes/b/bpb/Downloads/test_pos'\n",
    "if not os.path.exists(output_dir):\n",
    "    os.makedirs(output_dir)\n",
    "print('your results will be written to %s'%output_dir)"
   ]
  },
  {
   "cell_type": "markdown",
   "metadata": {},
   "source": [
    "# 5. Make metatlas dataset"
   ]
  },
  {
   "cell_type": "code",
   "execution_count": null,
   "metadata": {},
   "outputs": [],
   "source": [
    "atlas_df = ma_data.make_atlas_df(atlas)\n",
    "atlas_df['label'] = [cid.name for cid in atlas.compound_identifications]\n",
    "\n",
    "all_files = []\n",
    "for my_group in groups:\n",
    "    for my_file in my_group.items:\n",
    "        all_files.append((my_file , my_group, atlas_df, atlas))\n",
    "pool = mp.Pool(processes=min(4, len(all_files)))\n",
    "metatlas_dataset = pool.map(ma_data.get_data_for_atlas_df_and_file, all_files)\n",
    "pool.close()\n",
    "pool.terminate()\n",
    "\n",
    "print 'done making metatlas_dataset'"
   ]
  },
  {
   "cell_type": "markdown",
   "metadata": {},
   "source": [
    "# 6. Select mz, rt, and msms parameters"
   ]
  },
  {
   "cell_type": "code",
   "execution_count": null,
   "metadata": {},
   "outputs": [],
   "source": [
    "###\n",
    "# Parameter meanings:\n",
    "# each parameter is compared to best scoring metric for each compound\n",
    "# across all files\n",
    "###\n",
    "# 'min_intensity' <= highest intensity across all files for given compound\n",
    "# 'rt_tolerance' >= shift of median RT across all files for given compound to reference\n",
    "# 'mz_tolerance' >= ppm of median mz across all files for given compound relative to reference\n",
    "# 'min_msms_score' <= highest compound dot-product score across all files for given compound relative to reference\n",
    "# 'min_num_frag_matches' <= number of matching mzs when calculating max_msms_score\n",
    "# 'min_relative_frag_intensity' <= ratio of second highest to first highest intensity of matching sample mzs\n",
    "\n",
    "\n",
    "###\n",
    "# Custom\n",
    "###\n",
    "# kwargs = {'min_intensity': ,\n",
    "#           'rt_tolerance': ,\n",
    "#           'mz_tolerance': ,\n",
    "#           'min_msms_score': ,\n",
    "#           'allow_no_msms': ,\n",
    "#           'min_num_frag_matches': ,\n",
    "#           'min_relative_frag_intensity': }\n",
    "\n",
    "\n",
    "###\n",
    "# Loose\n",
    "###\n",
    "# kwargs = {'min_intensity': 1e3,\n",
    "#           'rt_tolerance': .25,\n",
    "#           'mz_tolerance': 25,\n",
    "#           'min_msms_score': 0.3, 'allow_no_msms': True,\n",
    "#           'min_num_frag_matches': 1,  'min_relative_frag_intensity': .01}\n",
    "\n",
    "\n",
    "###\n",
    "# Strict\n",
    "###\n",
    "# kwargs = {'min_intensity': 1e5,\n",
    "#           'rt_tolerance': .25,\n",
    "#           'mz_tolerance': 5,\n",
    "#           'min_msms_score': .6, 'allow_no_msms': False,\n",
    "#           'min_num_frag_matches': 3, 'min_relative_frag_intensity': .1}"
   ]
  },
  {
   "cell_type": "markdown",
   "metadata": {},
   "source": [
    "# 7. Filter dataset by mz, rt, and msms parameters and outputs error bars, chromatograms, and identification figures"
   ]
  },
  {
   "cell_type": "code",
   "execution_count": null,
   "metadata": {
    "scrolled": false
   },
   "outputs": [],
   "source": [
    "fa = reload(fa)\n",
    "\n",
    "pass_atlas_df, fail_atlas_df, pass_dataset, fail_dataset = fa.filter_and_output(\n",
    "                                                           atlas_df, metatlas_dataset, output_dir,\n",
    "                                                           output_pass=True, output_fail=True,\n",
    "                                                           **kwargs)"
   ]
  },
  {
   "cell_type": "markdown",
   "metadata": {},
   "source": [
    "# 8. See how many compounds are remaining"
   ]
  },
  {
   "cell_type": "code",
   "execution_count": null,
   "metadata": {},
   "outputs": [],
   "source": [
    "print('%d files and %d compounds in original dataset'%(len(metatlas_dataset),len(metatlas_dataset[0])))\n",
    "print('%d files and %d compounds in pass_dataset'%(len(pass_dataset),len(pass_dataset[0])))\n",
    "print('%d files and %d compounds in fail_dataset'%(len(fail_dataset),len(fail_dataset[0])))"
   ]
  },
  {
   "cell_type": "markdown",
   "metadata": {
    "collapsed": true
   },
   "source": [
    "# Optional: Save filtered atlas"
   ]
  },
  {
   "cell_type": "code",
   "execution_count": null,
   "metadata": {},
   "outputs": [],
   "source": [
    "dp = reload(dp)\n",
    "dp.make_atlas_from_spreadsheet(my_atlas_df,\n",
    "                               filetype='dataframe',\n",
    "                               atlas_name='',\n",
    "                               polarity = #my_polarity,\n",
    "                               store=True,\n",
    "                               mz_tolerance = 20)"
   ]
  },
  {
   "cell_type": "code",
   "execution_count": null,
   "metadata": {},
   "outputs": [],
   "source": []
  }
 ],
 "metadata": {
  "anaconda-cloud": {},
  "kernelspec": {
   "display_name": "mass spec cori",
   "language": "python",
   "name": "mass_spec_cori"
  },
  "language_info": {
   "codemirror_mode": {
    "name": "ipython",
    "version": 2
   },
   "file_extension": ".py",
   "mimetype": "text/x-python",
   "name": "python",
   "nbconvert_exporter": "python",
   "pygments_lexer": "ipython2",
   "version": "2.7.14"
  }
 },
 "nbformat": 4,
 "nbformat_minor": 2
}
