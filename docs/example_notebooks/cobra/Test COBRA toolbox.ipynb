{
 "cells": [
  {
   "cell_type": "code",
   "execution_count": null,
   "metadata": {},
   "outputs": [],
   "source": [
    "import os\n",
    "# os.environ['PATH'] = os.environ['PATH']+':/project/projectdirs/metatlas/bin'\n",
    "# sys.path.insert(0,'/project/projectdirs/metatlas/anaconda/lib/python2.7/site-packages/')"
   ]
  },
  {
   "cell_type": "code",
   "execution_count": null,
   "metadata": {
    "scrolled": false
   },
   "outputs": [],
   "source": [
    "from cobra.test import test_all\n",
    "# from matplotlib import pyplot as plt\n",
    "%matplotlib notebook\n",
    "test_all()"
   ]
  },
  {
   "cell_type": "markdown",
   "metadata": {},
   "source": [
    "# Documentation\n",
    "\n",
    "https://cobrapy.readthedocs.io/en/stable/index.html"
   ]
  },
  {
   "cell_type": "code",
   "execution_count": null,
   "metadata": {
    "scrolled": false
   },
   "outputs": [],
   "source": [
    "help('modules')"
   ]
  },
  {
   "cell_type": "markdown",
   "metadata": {},
   "source": [
    "# Specifying a solver\n",
    "/\n",
    "https://cobrapy.readthedocs.io/en/stable/solvers.html"
   ]
  },
  {
   "cell_type": "code",
   "execution_count": 1,
   "metadata": {},
   "outputs": [
    {
     "data": {
      "text/plain": [
       "{'cone': 33.333333333333336, 'popsicle': 0.0}"
      ]
     },
     "execution_count": 1,
     "metadata": {},
     "output_type": "execute_result"
    }
   ],
   "source": [
    "\n",
    "cone_selling_price = 7.\n",
    "cone_production_cost = 3.\n",
    "popsicle_selling_price = 2.\n",
    "popsicle_production_cost = 1.\n",
    "starting_budget = 100.\n",
    "\n",
    "from cobra import Model, Metabolite, Reaction\n",
    "\n",
    "cone = Reaction(\"cone\")\n",
    "popsicle = Reaction(\"popsicle\")\n",
    "\n",
    "# constrainted to a budget\n",
    "budget = Metabolite(\"budget\")\n",
    "budget._constraint_sense = \"L\"\n",
    "budget._bound = starting_budget\n",
    "cone.add_metabolites({budget: cone_production_cost})\n",
    "popsicle.add_metabolites({budget: popsicle_production_cost})\n",
    "\n",
    "# objective coefficient is the profit to be made from each unit\n",
    "cone.objective_coefficient = \\\n",
    "    cone_selling_price - cone_production_cost\n",
    "popsicle.objective_coefficient = \\\n",
    "    popsicle_selling_price - popsicle_production_cost\n",
    "\n",
    "m = Model(\"lerman_ice_cream_co\")\n",
    "m.add_reactions((cone, popsicle))\n",
    "\n",
    "m.optimize().x_dict"
   ]
  },
  {
   "cell_type": "code",
   "execution_count": 4,
   "metadata": {},
   "outputs": [
    {
     "data": {
      "text/plain": [
       "{'french_fries': 0.0,\n",
       " 'hot_wings': 2.0,\n",
       " 'mixed_fruit': 1.0,\n",
       " 'mozarella_sticks': 0.0,\n",
       " 'sampler_plate': 1.0,\n",
       " 'side_salad': 0.0}"
      ]
     },
     "execution_count": 4,
     "metadata": {},
     "output_type": "execute_result"
    }
   ],
   "source": [
    "\n",
    "cone.variable_kind = \"integer\"\n",
    "popsicle.variable_kind = \"integer\"\n",
    "m.optimize().x_dict\n",
    "total_cost = Metabolite(\"constraint\")\n",
    "total_cost._bound = 15.05\n",
    "\n",
    "costs = {\"mixed_fruit\": 2.15, \"french_fries\": 2.75,\n",
    "         \"side_salad\": 3.35, \"hot_wings\": 3.55,\n",
    "         \"mozarella_sticks\": 4.20, \"sampler_plate\": 5.80}\n",
    "\n",
    "m = Model(\"appetizers\")\n",
    "\n",
    "for item, cost in costs.items():\n",
    "    r = Reaction(item)\n",
    "    r.add_metabolites({total_cost: cost})\n",
    "    r.variable_kind = \"integer\"\n",
    "    m.add_reaction(r)\n",
    "\n",
    "# To add to the problem, suppose we want to\n",
    "# eat as little mixed fruit as possible.\n",
    "m.reactions.mixed_fruit.objective_coefficient = 1\n",
    "\n",
    "m.optimize(objective_sense=\"minimize\").x_dict\n"
   ]
  },
  {
   "cell_type": "code",
   "execution_count": 5,
   "metadata": {},
   "outputs": [
    {
     "data": {
      "text/plain": [
       "{'french_fries': 0.0,\n",
       " 'hot_wings': 0.0,\n",
       " 'mixed_fruit': 7.0,\n",
       " 'mozarella_sticks': 0.0,\n",
       " 'sampler_plate': 0.0,\n",
       " 'side_salad': 0.0}"
      ]
     },
     "execution_count": 5,
     "metadata": {},
     "output_type": "execute_result"
    }
   ],
   "source": [
    "\n",
    "m.optimize(objective_sense=\"maximize\").x_dict\n"
   ]
  }
 ],
 "metadata": {
  "kernelspec": {
   "display_name": "mass spec cori",
   "language": "python",
   "name": "mass_spec_cori"
  },
  "language_info": {
   "codemirror_mode": {
    "name": "ipython",
    "version": 2
   },
   "file_extension": ".py",
   "mimetype": "text/x-python",
   "name": "python",
   "nbconvert_exporter": "python",
   "pygments_lexer": "ipython2",
   "version": "2.7.14"
  }
 },
 "nbformat": 4,
 "nbformat_minor": 1
}
