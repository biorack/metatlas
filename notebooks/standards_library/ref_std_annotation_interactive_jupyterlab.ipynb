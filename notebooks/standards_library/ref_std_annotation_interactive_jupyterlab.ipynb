{
 "cells": [
  {
   "cell_type": "markdown",
   "metadata": {},
   "source": [
    "# Set up metatlas shifter environment"
   ]
  },
  {
   "cell_type": "code",
   "execution_count": 1,
   "metadata": {},
   "outputs": [],
   "source": [
    "in_jupyterlab = False\n",
    "\n",
    "if in_jupyterlab is False:\n",
    "    import numpy as np\n",
    "    import pandas as pd\n",
    "    import sys\n",
    "    from datetime import datetime\n",
    "    import os\n",
    "    from IPython.display import display\n",
    "    import yaml\n",
    "\n",
    "    sys.path.insert(1, '/global/homes/b/bkieft/metatlas')\n",
    "    import notebooks.standards_library.standard_annotation as sta\n",
    "\n",
    "    pd.options.display.max_colwidth = 300\n",
    "    timestamp = datetime.now().strftime(\"%Y%m%d%H%M%S\")\n",
    "    \n",
    "elif in_jupyterlab is True:\n",
    "    import pandas as pd\n",
    "    import sys\n",
    "    from datetime import datetime\n",
    "    from IPython.display import display\n",
    "    import yaml\n",
    "    from pathlib import Path\n",
    "\n",
    "    class StopExecution(Exception):\n",
    "        def _render_traceback_(self):\n",
    "            pass\n",
    "\n",
    "    kernel_def = \"\"\"{\"argv\":[\"shifter\",\"--entrypoint\",\"--image=ghcr.io/biorack/metatlas/metatlas_shifter:latest\",\"/usr/local/bin/python\",\"-m\",\n",
    "                    \"ipykernel_launcher\",\"-f\",\"{connection_file}\"],\"display_name\": \"Metatlas Targeted\",\"language\": \"python\",\n",
    "                    \"metadata\": { \"debugger\": true }}\"\"\"\n",
    "    kernel_file_name = Path.home() / \".local\" / \"share\" / \"jupyter\" / \"kernels\" / \"metatlas-targeted\" / \"kernel.json\"\n",
    "    try:\n",
    "        has_root_kernel = Path(\"/root/.local/share/jupyter/kernels/papermill/kernel.json\").is_file()\n",
    "    except PermissionError:\n",
    "        has_root_kernel = False\n",
    "    if not has_root_kernel and not kernel_file_name.is_file():\n",
    "        kernel_file_name.parent.mkdir(parents=True, exist_ok=True)\n",
    "        with kernel_file_name.open(mode=\"w\", encoding=\"utf-8\") as f:\n",
    "            f.writelines(kernel_def)\n",
    "        print('CRITICAL: Notebook kernel has been installed. Set kernel to \"Metatlas Targeted\" and re-run notebook.')\n",
    "        raise StopExecution\n",
    "    try:\n",
    "        from metatlas.tools import notebook  # noqa: E402\n",
    "    except ImportError as err:\n",
    "        print('CRITICAL: Set notebook kernel to \"Metatlas Targeted\" and re-run notebook.')\n",
    "        raise StopExecution from err\n",
    "\n",
    "    source_code_version_id = \"1909f8f01e385e2a9636b6f17b4c094c5a61cbd5\"\n",
    "    notebook.setup(\"INFO\", source_code_version_id)\n",
    "\n",
    "    try:\n",
    "        import notebooks.standards_library.standard_annotation as sta\n",
    "    except ImportError as err:\n",
    "        print('CRITICAL: Could not import standard annotation tools and notebook modules.')\n",
    "        raise StopExecution from err"
   ]
  },
  {
   "cell_type": "markdown",
   "metadata": {},
   "source": [
    "# Read config file and set notebook options"
   ]
  },
  {
   "cell_type": "code",
   "execution_count": 46,
   "metadata": {},
   "outputs": [],
   "source": [
    "config_path = \"/global/homes/b/bkieft/metatlas_junkdrawer/example_data/metascischeller/scheller_annotation_input.yaml\"\n",
    "with open(config_path, \"r\") as config_file:\n",
    "    config = yaml.safe_load(config_file)\n",
    "\n",
    "pd.options.display.max_colwidth = 300\n",
    "timestamp = datetime.now().strftime(\"%Y%m%d%H%M%S\")"
   ]
  },
  {
   "cell_type": "markdown",
   "metadata": {},
   "source": [
    "# Extract EIC and Spectra information from files in the run table"
   ]
  },
  {
   "cell_type": "code",
   "execution_count": 3,
   "metadata": {},
   "outputs": [
    {
     "name": "stdout",
     "output_type": "stream",
     "text": [
      "Loading most recent pkl file: /global/homes/b/bkieft/metatlas_junkdrawer/example_data/metascischeller/cache/20250506190611_ref_stds_full.pkl\n"
     ]
    }
   ],
   "source": [
    "if config[\"cache\"][\"full_data_from_cache\"] is False:\n",
    "    lcmsruns_table_with_adducts = sta.build_standard_lcmsrun_table(config)\n",
    "    eics_full, top_spectra_full, group_names_full, rt_peaks_full, atlas_full, mols_images = sta.extract_data(lcmsruns_table_with_adducts,config,method=\"find_peaks\")\n",
    "    sta.handle_data(mode=\"save\", config=config, timestamp=timestamp, file_suffix=\"full\", data=(eics_full, top_spectra_full, group_names_full, rt_peaks_full, atlas_full, mols_images))\n",
    "elif config[\"cache\"][\"full_data_from_cache\"] is True:\n",
    "    eics_full, top_spectra_full, group_names_full, rt_peaks_full, atlas_full, mols_images = sta.handle_data(mode=\"load\", config=config, file_suffix=\"full\")"
   ]
  },
  {
   "cell_type": "markdown",
   "metadata": {},
   "source": [
    "# Create interactive plot to choose adduct rt peaks for each standard compound"
   ]
  },
  {
   "cell_type": "code",
   "execution_count": 4,
   "metadata": {},
   "outputs": [
    {
     "name": "stdout",
     "output_type": "stream",
     "text": [
      "Loading most recent pkl file: /global/homes/b/bkieft/metatlas_junkdrawer/example_data/metascischeller/cache/20250507153815_ref_stds_selected.pkl\n"
     ]
    }
   ],
   "source": [
    "if config[\"cache\"][\"selected_data_from_cache\"] is False:\n",
    "    processed_data = sta.process_data_for_plotting(eics_full, top_spectra_full, group_names_full, rt_peaks_full, config)\n",
    "    selected_adducts_dict = {}\n",
    "    ambiguous_adducts_dict = {}\n",
    "    best_adducts_dict = {}\n",
    "    running_notes_dict = {}\n",
    "    sta.create_interactive_plots(processed_data, mols_images, selected_adducts_dict, ambiguous_adducts_dict, best_adducts_dict, running_notes_dict)\n",
    "    # Run next cell after manual selection of adducts\n",
    "\n",
    "elif config[\"cache\"][\"selected_data_from_cache\"] is True:\n",
    "    selected_adducts_dict, ambiguous_adducts_dict, best_adducts_dict, processed_data, running_notes_dict = sta.handle_data(mode=\"load\", config=config, file_suffix=\"selected\")"
   ]
  },
  {
   "cell_type": "code",
   "execution_count": 5,
   "metadata": {},
   "outputs": [],
   "source": [
    "if config[\"cache\"][\"selected_data_from_cache\"] is False: # Save the selections after GUI is completed\n",
    "    sta.handle_data(mode=\"save\", config=config, timestamp=timestamp, file_suffix=\"selected\", \\\n",
    "                    data=(selected_adducts_dict, ambiguous_adducts_dict, best_adducts_dict, processed_data, running_notes_dict))"
   ]
  },
  {
   "cell_type": "markdown",
   "metadata": {},
   "source": [
    "# Filter RT Peak, EICs, and Top Spectra by the selected compounds+adducts"
   ]
  },
  {
   "cell_type": "code",
   "execution_count": 6,
   "metadata": {},
   "outputs": [
    {
     "name": "stdout",
     "output_type": "stream",
     "text": [
      "Loading most recent pkl file: /global/homes/b/bkieft/metatlas_junkdrawer/example_data/metascischeller/cache/20250507160817_ref_stds_filtered.pkl\n"
     ]
    }
   ],
   "source": [
    "if config[\"cache\"][\"filtered_data_from_cache\"] is False:\n",
    "    eics_all, rt_peaks_all, top_spectra_all, eics_best, rt_peaks_best, top_spectra_best = sta.filter_by_selected(eics_full, rt_peaks_full, top_spectra_full, selected_adducts_dict, best_adducts_dict)\n",
    "    rt_peaks_all_formatted, rt_peaks_best_formatted = sta.format_rt_peaks(rt_peaks_all, rt_peaks_best)\n",
    "    #rt_peaks_filtered_all_selected, rt_peaks_filtered_best_selected = sta.format_and_select_best_adducts(rt_peaks_filtered, best_adducts_dict) # Export \"all\" and \"best\"\n",
    "    sta.handle_data(mode=\"save\", config=config, timestamp=timestamp, file_suffix=\"filtered\", \\\n",
    "                    data=(eics_all, rt_peaks_all, top_spectra_all, eics_best, rt_peaks_best, top_spectra_best, rt_peaks_all_formatted, rt_peaks_best_formatted))\n",
    "\n",
    "elif config[\"cache\"][\"filtered_data_from_cache\"] is True:\n",
    "    eics_all, rt_peaks_all, top_spectra_all, eics_best, rt_peaks_best, top_spectra_best, rt_peaks_all_formatted, rt_peaks_best_formatted = sta.handle_data(mode=\"load\", config=config, file_suffix=\"filtered\")"
   ]
  },
  {
   "cell_type": "markdown",
   "metadata": {},
   "source": [
    "# Generate static summary reports for each compound and a combined summary document"
   ]
  },
  {
   "cell_type": "code",
   "execution_count": 7,
   "metadata": {},
   "outputs": [
    {
     "data": {
      "application/vnd.jupyter.widget-view+json": {
       "model_id": "2e231ef386024614b9944be3c2352476",
       "version_major": 2,
       "version_minor": 0
      },
      "text/plain": [
       " Writing summary plots for selected compounds:   0%|          | 0/8 [00:00<?, ? compound group/s]"
      ]
     },
     "metadata": {},
     "output_type": "display_data"
    },
    {
     "name": "stderr",
     "output_type": "stream",
     "text": [
      "[09:07:46] non-ring atom 0 marked aromatic\n",
      "[09:07:46] non-ring atom 0 marked aromatic\n"
     ]
    },
    {
     "data": {
      "application/vnd.jupyter.widget-view+json": {
       "model_id": "0f44e089961b407d988da5703def9039",
       "version_major": 2,
       "version_minor": 0
      },
      "text/plain": [
       " Creating summary table:   0%|          | 0/6 [00:00<?, ? compound/s]"
      ]
     },
     "metadata": {},
     "output_type": "display_data"
    }
   ],
   "source": [
    "if config[\"analysis\"][\"generate_static_summary_pdfs\"] is True:\n",
    "    sta.generate_static_summary_plots(processed_data, selected_adducts_dict, best_adducts_dict, config)\n",
    "    \n",
    "if config[\"analysis\"][\"generate_selection_summary_table\"] is True:\n",
    "    sta.generate_selection_summary_table(rt_peaks_best_formatted, running_notes_dict, config, timestamp)"
   ]
  },
  {
   "cell_type": "markdown",
   "metadata": {},
   "source": [
    "# Identify compounds not in the metatlas database Compounds table and store if necessary"
   ]
  },
  {
   "cell_type": "code",
   "execution_count": 8,
   "metadata": {},
   "outputs": [
    {
     "name": "stdout",
     "output_type": "stream",
     "text": [
      "Loading most recent pkl file: /global/homes/b/bkieft/metatlas_junkdrawer/example_data/metascischeller/cache/20250507160817_ref_stds_metatlas_db.pkl\n",
      "Running double check for compounds in metatlas db Comopunds table...\n",
      "\tAll new entries found in the database.\n",
      "\n"
     ]
    }
   ],
   "source": [
    "if config[\"cache\"]['metatlas_db_data_from_cache'] is False:\n",
    "    in_db, notin_db = sta.search_for_matches_in_metatlas_db(rt_peaks_all_formatted, check_by_flat=True) # Check if selected compounds from ALL are in metatlas DB\n",
    "    if len(notin_db) > 0 and config['compounds']['direct_store_to_compounds_table'] is True: # Store selected compounds+adducts in metatlas db\n",
    "        sta.store_in_metatlas_db(notin_db)\n",
    "    sta.check_db_deposit(rt_peaks_all_formatted)\n",
    "    sta.handle_data(mode=\"save\", config=config, timestamp=timestamp, file_suffix=\"metatlas_db\", \\\n",
    "                    data=(in_db, notin_db, rt_peaks_all_formatted))\n",
    "\n",
    "elif config[\"cache\"]['metatlas_db_data_from_cache'] is True:\n",
    "    in_db, notin_db, rt_peaks_all_formatted = sta.handle_data(mode=\"load\", config=config, file_suffix=\"metatlas_db\")\n",
    "    if len(notin_db) > 0 and config['compounds']['direct_store_to_compounds_table'] is True: # Store selected compounds+adducts in metatlas db\n",
    "        sta.store_in_metatlas_db(notin_db)\n",
    "    sta.check_db_deposit(rt_peaks_all_formatted)"
   ]
  },
  {
   "cell_type": "markdown",
   "metadata": {},
   "source": [
    "# Identify compounds+adducts not in atlases and set up new atlas creation"
   ]
  },
  {
   "cell_type": "code",
   "execution_count": 9,
   "metadata": {},
   "outputs": [
    {
     "name": "stdout",
     "output_type": "stream",
     "text": [
      "Loading most recent pkl file: /global/homes/b/bkieft/metatlas_junkdrawer/example_data/metascischeller/cache/20250507162308_ref_stds_ema_atlases.pkl\n",
      "Total compounds to add to EMA atlases per chromatography: 2\n"
     ]
    }
   ],
   "source": [
    "if config[\"cache\"][\"ema_atlas_data_from_cache\"] is False:\n",
    "    if config[\"atlases\"][\"new_ema_atlas_dtype\"] == \"all\":\n",
    "        rt_peaks_ema_input = rt_peaks_all_formatted\n",
    "    elif config[\"atlases\"][\"new_ema_atlas_dtype\"] == \"best\":\n",
    "        rt_peaks_ema_input = rt_peaks_best_formatted\n",
    "    ema_atlases_data = sta.get_ema_atlas_data(config[\"atlases\"][\"current_ema_atlases\"])\n",
    "    rt_peaks_ema_input_formatted = sta.convert_rt_peaks_to_atlas_format(rt_peaks_ema_input)\n",
    "    matches_to_atlases, nonmatches_to_atlases = sta.search_for_matches_in_atlases(rt_peaks_ema_input_formatted, ema_atlases_data)\n",
    "\n",
    "    if config[\"cache\"][\"rt_correction_data_from_cache\"] is False:\n",
    "        print(\"Setting up RT correction for compounds not yet in atlases using baseline correction method:\\n\")\n",
    "        baseline_qc, experimental_qc, baseline_to_experimental_qc = sta.get_qc_experimental_atlas(nonmatches_to_atlases, config[\"atlases\"][\"current_qc_atlases\"], include_istds=True)\n",
    "        baseline_correction_inputs = sta.create_baseline_correction_input(nonmatches_to_atlases, baseline_to_experimental_qc)\n",
    "        baseline_correction_outputs = sta.rt_correction_from_baseline(baseline_correction_inputs, config)\n",
    "        sta.handle_data(mode=\"save\", config=config, timestamp=timestamp, file_suffix=\"rt_correction\", \\\n",
    "                        data=(baseline_to_experimental_qc, baseline_correction_outputs))\n",
    "\n",
    "    elif config[\"cache\"][\"rt_correction_data_from_cache\"] is True:\n",
    "        baseline_to_experimental_qc, baseline_correction_outputs = sta.handle_data(mode=\"load\",config=config, file_suffix=\"rt_correction\")\n",
    "\n",
    "    nonmatches_to_atlases_rt_corrected = sta.substitute_corrected_rt_values(nonmatches_to_atlases, baseline_correction_outputs)\n",
    "    sta.handle_data(mode=\"save\", config=config, timestamp=timestamp, file_suffix=\"ema_atlases\", \\\n",
    "                    data=(nonmatches_to_atlases_rt_corrected, ema_atlases_data, baseline_to_experimental_qc, baseline_correction_outputs))\n",
    "\n",
    "elif config[\"cache\"][\"ema_atlas_data_from_cache\"] is True:\n",
    "    nonmatches_to_atlases_rt_corrected, ema_atlases_data, baseline_to_experimental_qc, baseline_correction_outputs = sta.handle_data(mode=\"load\", config=config, file_suffix=\"ema_atlases\")\n",
    "    print(f\"Total compounds to add to EMA atlases per chromatography: {nonmatches_to_atlases_rt_corrected['chromatography'].nunique()}\")"
   ]
  },
  {
   "cell_type": "markdown",
   "metadata": {},
   "source": [
    "# Create new EMA atlas with top selected reference standards added"
   ]
  },
  {
   "cell_type": "code",
   "execution_count": 10,
   "metadata": {},
   "outputs": [
    {
     "name": "stdout",
     "output_type": "stream",
     "text": [
      "No new EMA atlases saved to disk, as 'save_new_ema_atlases' is set to False in the config file.\n",
      "Here is the new atlas data in memory:\n"
     ]
    },
    {
     "data": {
      "text/html": [
       "<div>\n",
       "<style scoped>\n",
       "    .dataframe tbody tr th:only-of-type {\n",
       "        vertical-align: middle;\n",
       "    }\n",
       "\n",
       "    .dataframe tbody tr th {\n",
       "        vertical-align: top;\n",
       "    }\n",
       "\n",
       "    .dataframe thead th {\n",
       "        text-align: right;\n",
       "    }\n",
       "</style>\n",
       "<table border=\"1\" class=\"dataframe\">\n",
       "  <thead>\n",
       "    <tr style=\"text-align: right;\">\n",
       "      <th></th>\n",
       "      <th>standard_lcmsrun</th>\n",
       "      <th>chromatography</th>\n",
       "      <th>compound_name</th>\n",
       "      <th>adduct</th>\n",
       "      <th>polarity</th>\n",
       "      <th>rt_peak</th>\n",
       "      <th>mz</th>\n",
       "      <th>smiles</th>\n",
       "      <th>peak_index</th>\n",
       "      <th>inchi</th>\n",
       "      <th>...</th>\n",
       "      <th>permanent_charge</th>\n",
       "      <th>formula</th>\n",
       "      <th>mono_isotopic_molecular_weight</th>\n",
       "      <th>collision_energy</th>\n",
       "      <th>label</th>\n",
       "      <th>rt_min</th>\n",
       "      <th>rt_max</th>\n",
       "      <th>mz_tolerance</th>\n",
       "      <th>mz_tolerance_units</th>\n",
       "      <th>in_metatlas</th>\n",
       "    </tr>\n",
       "  </thead>\n",
       "  <tbody>\n",
       "    <tr>\n",
       "      <th>0</th>\n",
       "      <td>/global/cfs/cdirs/metatlas/raw_data/jgi/20241002_JGI_HS_510060_SorghExu_final1_EXP120B_HILICZ_USHXG02558/20241002_JGI_HS_510060_SorghExu_final1_EXP120B_HILICZ_USHXG02558_POS_MS2_RefStd-1_Sorgoleone_1_Rg70to1050-CE102040norm-200uM-S1_Run375.h5</td>\n",
       "      <td>HILICZ</td>\n",
       "      <td>sorgoleone</td>\n",
       "      <td>[M+H]+</td>\n",
       "      <td>positive</td>\n",
       "      <td>0.645454</td>\n",
       "      <td>359.221685</td>\n",
       "      <td>COC1=CC(=O)C(=C(C1=O)CCCCCCC/C=C\\C/C=C\\CC=C)O</td>\n",
       "      <td>peak1</td>\n",
       "      <td>InChI=1S/C22H30O4/c1-3-4-5-6-7-8-9-10-11-12-13-14-15-16-18-21(24)19(23)17-20(26-2)22(18)25/h3,5-6,8-9,17,24H,1,4,7,10-16H2,2H3/b6-5-,9-8-</td>\n",
       "      <td>...</td>\n",
       "      <td>0</td>\n",
       "      <td>C22H30O4</td>\n",
       "      <td>358.214409</td>\n",
       "      <td>102040norm</td>\n",
       "      <td>sorgoleone</td>\n",
       "      <td>0.145454</td>\n",
       "      <td>1.145454</td>\n",
       "      <td>5</td>\n",
       "      <td>ppm</td>\n",
       "      <td>True</td>\n",
       "    </tr>\n",
       "    <tr>\n",
       "      <th>1</th>\n",
       "      <td>/global/cfs/cdirs/metatlas/raw_data/jgi/20241002_JGI_HS_510060_SorghExu_final1_EXP120B_HILICZ_USHXG02558/20241002_JGI_HS_510060_SorghExu_final1_EXP120B_HILICZ_USHXG02558_POS_MS2_RefStd-1_Sorgoleone_1_Rg70to1050-CE102040norm-200uM-S1_Run375.h5</td>\n",
       "      <td>HILICZ</td>\n",
       "      <td>sorgoleone</td>\n",
       "      <td>[M+NH4]+</td>\n",
       "      <td>positive</td>\n",
       "      <td>0.645454</td>\n",
       "      <td>376.248232</td>\n",
       "      <td>COC1=CC(=O)C(=C(C1=O)CCCCCCC/C=C\\C/C=C\\CC=C)O</td>\n",
       "      <td>peak1</td>\n",
       "      <td>InChI=1S/C22H30O4/c1-3-4-5-6-7-8-9-10-11-12-13-14-15-16-18-21(24)19(23)17-20(26-2)22(18)25/h3,5-6,8-9,17,24H,1,4,7,10-16H2,2H3/b6-5-,9-8-</td>\n",
       "      <td>...</td>\n",
       "      <td>0</td>\n",
       "      <td>C22H30O4</td>\n",
       "      <td>358.214409</td>\n",
       "      <td>102040norm</td>\n",
       "      <td>sorgoleone</td>\n",
       "      <td>0.145454</td>\n",
       "      <td>1.145454</td>\n",
       "      <td>5</td>\n",
       "      <td>ppm</td>\n",
       "      <td>True</td>\n",
       "    </tr>\n",
       "    <tr>\n",
       "      <th>2</th>\n",
       "      <td>/global/cfs/cdirs/metatlas/raw_data/jgi/20241002_JGI_HS_510060_SorghExu_final1_EXP120B_HILICZ_USHXG02558/20241002_JGI_HS_510060_SorghExu_final1_EXP120B_HILICZ_USHXG02558_NEG_MS2_RefStd-1_Sorgoleone_1_Rg70to1050-CE102040norm-200uM-S1_Run377.h5</td>\n",
       "      <td>HILICZ</td>\n",
       "      <td>sorgoleone</td>\n",
       "      <td>[M-H]-</td>\n",
       "      <td>negative</td>\n",
       "      <td>0.648787</td>\n",
       "      <td>357.207133</td>\n",
       "      <td>COC1=CC(=O)C(=C(C1=O)CCCCCCC/C=C\\C/C=C\\CC=C)O</td>\n",
       "      <td>peak1</td>\n",
       "      <td>InChI=1S/C22H30O4/c1-3-4-5-6-7-8-9-10-11-12-13-14-15-16-18-21(24)19(23)17-20(26-2)22(18)25/h3,5-6,8-9,17,24H,1,4,7,10-16H2,2H3/b6-5-,9-8-</td>\n",
       "      <td>...</td>\n",
       "      <td>0</td>\n",
       "      <td>C22H30O4</td>\n",
       "      <td>358.214409</td>\n",
       "      <td>102040norm</td>\n",
       "      <td>sorgoleone</td>\n",
       "      <td>0.148787</td>\n",
       "      <td>1.148787</td>\n",
       "      <td>5</td>\n",
       "      <td>ppm</td>\n",
       "      <td>True</td>\n",
       "    </tr>\n",
       "    <tr>\n",
       "      <th>3</th>\n",
       "      <td>/global/cfs/cdirs/metatlas/raw_data/jgi/20241021_JGI_HS_510060_SorghExu_final1_IQX_C18_USDAY92782/20241021_JGI_HS_510060_SorghExu_final1_IQX_C18_USDAY92782_POS_MS2_RefStd-1_Sorgoleone_1_Rg80to1200-CE205060norm-200uM-S1_Run383.h5</td>\n",
       "      <td>C18</td>\n",
       "      <td>sorgoleone</td>\n",
       "      <td>[M+H]+</td>\n",
       "      <td>positive</td>\n",
       "      <td>7.439548</td>\n",
       "      <td>359.221685</td>\n",
       "      <td>COC1=CC(=O)C(=C(C1=O)CCCCCCC/C=C\\C/C=C\\CC=C)O</td>\n",
       "      <td>peak1</td>\n",
       "      <td>InChI=1S/C22H30O4/c1-3-4-5-6-7-8-9-10-11-12-13-14-15-16-18-21(24)19(23)17-20(26-2)22(18)25/h3,5-6,8-9,17,24H,1,4,7,10-16H2,2H3/b6-5-,9-8-</td>\n",
       "      <td>...</td>\n",
       "      <td>0</td>\n",
       "      <td>C22H30O4</td>\n",
       "      <td>358.214409</td>\n",
       "      <td>205060norm</td>\n",
       "      <td>sorgoleone</td>\n",
       "      <td>6.939548</td>\n",
       "      <td>7.939548</td>\n",
       "      <td>5</td>\n",
       "      <td>ppm</td>\n",
       "      <td>True</td>\n",
       "    </tr>\n",
       "    <tr>\n",
       "      <th>4</th>\n",
       "      <td>/global/cfs/cdirs/metatlas/raw_data/jgi/20241021_JGI_HS_510060_SorghExu_final1_IQX_C18_USDAY92782/20241021_JGI_HS_510060_SorghExu_final1_IQX_C18_USDAY92782_POS_MS2_RefStd-1_Sorgoleone_1_Rg80to1200-CE205060norm-200uM-S1_Run383.h5</td>\n",
       "      <td>C18</td>\n",
       "      <td>sorgoleone</td>\n",
       "      <td>[M+Na]+</td>\n",
       "      <td>positive</td>\n",
       "      <td>7.439548</td>\n",
       "      <td>381.203627</td>\n",
       "      <td>COC1=CC(=O)C(=C(C1=O)CCCCCCC/C=C\\C/C=C\\CC=C)O</td>\n",
       "      <td>peak1</td>\n",
       "      <td>InChI=1S/C22H30O4/c1-3-4-5-6-7-8-9-10-11-12-13-14-15-16-18-21(24)19(23)17-20(26-2)22(18)25/h3,5-6,8-9,17,24H,1,4,7,10-16H2,2H3/b6-5-,9-8-</td>\n",
       "      <td>...</td>\n",
       "      <td>0</td>\n",
       "      <td>C22H30O4</td>\n",
       "      <td>358.214409</td>\n",
       "      <td>205060norm</td>\n",
       "      <td>sorgoleone</td>\n",
       "      <td>6.939548</td>\n",
       "      <td>7.939548</td>\n",
       "      <td>5</td>\n",
       "      <td>ppm</td>\n",
       "      <td>True</td>\n",
       "    </tr>\n",
       "    <tr>\n",
       "      <th>5</th>\n",
       "      <td>/global/cfs/cdirs/metatlas/raw_data/jgi/20241021_JGI_HS_510060_SorghExu_final1_IQX_C18_USDAY92782/20241021_JGI_HS_510060_SorghExu_final1_IQX_C18_USDAY92782_NEG_MS2_RefStd-1_Sorgoleone_1_Rg80to1200-CE102040norm-200uM-S1_Run384.h5</td>\n",
       "      <td>C18</td>\n",
       "      <td>sorgoleone</td>\n",
       "      <td>[M-H]-</td>\n",
       "      <td>negative</td>\n",
       "      <td>7.444448</td>\n",
       "      <td>357.207133</td>\n",
       "      <td>COC1=CC(=O)C(=C(C1=O)CCCCCCC/C=C\\C/C=C\\CC=C)O</td>\n",
       "      <td>peak1</td>\n",
       "      <td>InChI=1S/C22H30O4/c1-3-4-5-6-7-8-9-10-11-12-13-14-15-16-18-21(24)19(23)17-20(26-2)22(18)25/h3,5-6,8-9,17,24H,1,4,7,10-16H2,2H3/b6-5-,9-8-</td>\n",
       "      <td>...</td>\n",
       "      <td>0</td>\n",
       "      <td>C22H30O4</td>\n",
       "      <td>358.214409</td>\n",
       "      <td>102040norm</td>\n",
       "      <td>sorgoleone</td>\n",
       "      <td>6.944448</td>\n",
       "      <td>7.944448</td>\n",
       "      <td>5</td>\n",
       "      <td>ppm</td>\n",
       "      <td>True</td>\n",
       "    </tr>\n",
       "  </tbody>\n",
       "</table>\n",
       "<p>6 rows × 23 columns</p>\n",
       "</div>"
      ],
      "text/plain": [
       "                                                                                                                                                                                                                                     standard_lcmsrun  \\\n",
       "0  /global/cfs/cdirs/metatlas/raw_data/jgi/20241002_JGI_HS_510060_SorghExu_final1_EXP120B_HILICZ_USHXG02558/20241002_JGI_HS_510060_SorghExu_final1_EXP120B_HILICZ_USHXG02558_POS_MS2_RefStd-1_Sorgoleone_1_Rg70to1050-CE102040norm-200uM-S1_Run375.h5   \n",
       "1  /global/cfs/cdirs/metatlas/raw_data/jgi/20241002_JGI_HS_510060_SorghExu_final1_EXP120B_HILICZ_USHXG02558/20241002_JGI_HS_510060_SorghExu_final1_EXP120B_HILICZ_USHXG02558_POS_MS2_RefStd-1_Sorgoleone_1_Rg70to1050-CE102040norm-200uM-S1_Run375.h5   \n",
       "2  /global/cfs/cdirs/metatlas/raw_data/jgi/20241002_JGI_HS_510060_SorghExu_final1_EXP120B_HILICZ_USHXG02558/20241002_JGI_HS_510060_SorghExu_final1_EXP120B_HILICZ_USHXG02558_NEG_MS2_RefStd-1_Sorgoleone_1_Rg70to1050-CE102040norm-200uM-S1_Run377.h5   \n",
       "3                /global/cfs/cdirs/metatlas/raw_data/jgi/20241021_JGI_HS_510060_SorghExu_final1_IQX_C18_USDAY92782/20241021_JGI_HS_510060_SorghExu_final1_IQX_C18_USDAY92782_POS_MS2_RefStd-1_Sorgoleone_1_Rg80to1200-CE205060norm-200uM-S1_Run383.h5   \n",
       "4                /global/cfs/cdirs/metatlas/raw_data/jgi/20241021_JGI_HS_510060_SorghExu_final1_IQX_C18_USDAY92782/20241021_JGI_HS_510060_SorghExu_final1_IQX_C18_USDAY92782_POS_MS2_RefStd-1_Sorgoleone_1_Rg80to1200-CE205060norm-200uM-S1_Run383.h5   \n",
       "5                /global/cfs/cdirs/metatlas/raw_data/jgi/20241021_JGI_HS_510060_SorghExu_final1_IQX_C18_USDAY92782/20241021_JGI_HS_510060_SorghExu_final1_IQX_C18_USDAY92782_NEG_MS2_RefStd-1_Sorgoleone_1_Rg80to1200-CE102040norm-200uM-S1_Run384.h5   \n",
       "\n",
       "  chromatography compound_name    adduct  polarity   rt_peak          mz  \\\n",
       "0         HILICZ    sorgoleone    [M+H]+  positive  0.645454  359.221685   \n",
       "1         HILICZ    sorgoleone  [M+NH4]+  positive  0.645454  376.248232   \n",
       "2         HILICZ    sorgoleone    [M-H]-  negative  0.648787  357.207133   \n",
       "3            C18    sorgoleone    [M+H]+  positive  7.439548  359.221685   \n",
       "4            C18    sorgoleone   [M+Na]+  positive  7.439548  381.203627   \n",
       "5            C18    sorgoleone    [M-H]-  negative  7.444448  357.207133   \n",
       "\n",
       "                                          smiles peak_index  \\\n",
       "0  COC1=CC(=O)C(=C(C1=O)CCCCCCC/C=C\\C/C=C\\CC=C)O      peak1   \n",
       "1  COC1=CC(=O)C(=C(C1=O)CCCCCCC/C=C\\C/C=C\\CC=C)O      peak1   \n",
       "2  COC1=CC(=O)C(=C(C1=O)CCCCCCC/C=C\\C/C=C\\CC=C)O      peak1   \n",
       "3  COC1=CC(=O)C(=C(C1=O)CCCCCCC/C=C\\C/C=C\\CC=C)O      peak1   \n",
       "4  COC1=CC(=O)C(=C(C1=O)CCCCCCC/C=C\\C/C=C\\CC=C)O      peak1   \n",
       "5  COC1=CC(=O)C(=C(C1=O)CCCCCCC/C=C\\C/C=C\\CC=C)O      peak1   \n",
       "\n",
       "                                                                                                                                       inchi  \\\n",
       "0  InChI=1S/C22H30O4/c1-3-4-5-6-7-8-9-10-11-12-13-14-15-16-18-21(24)19(23)17-20(26-2)22(18)25/h3,5-6,8-9,17,24H,1,4,7,10-16H2,2H3/b6-5-,9-8-   \n",
       "1  InChI=1S/C22H30O4/c1-3-4-5-6-7-8-9-10-11-12-13-14-15-16-18-21(24)19(23)17-20(26-2)22(18)25/h3,5-6,8-9,17,24H,1,4,7,10-16H2,2H3/b6-5-,9-8-   \n",
       "2  InChI=1S/C22H30O4/c1-3-4-5-6-7-8-9-10-11-12-13-14-15-16-18-21(24)19(23)17-20(26-2)22(18)25/h3,5-6,8-9,17,24H,1,4,7,10-16H2,2H3/b6-5-,9-8-   \n",
       "3  InChI=1S/C22H30O4/c1-3-4-5-6-7-8-9-10-11-12-13-14-15-16-18-21(24)19(23)17-20(26-2)22(18)25/h3,5-6,8-9,17,24H,1,4,7,10-16H2,2H3/b6-5-,9-8-   \n",
       "4  InChI=1S/C22H30O4/c1-3-4-5-6-7-8-9-10-11-12-13-14-15-16-18-21(24)19(23)17-20(26-2)22(18)25/h3,5-6,8-9,17,24H,1,4,7,10-16H2,2H3/b6-5-,9-8-   \n",
       "5  InChI=1S/C22H30O4/c1-3-4-5-6-7-8-9-10-11-12-13-14-15-16-18-21(24)19(23)17-20(26-2)22(18)25/h3,5-6,8-9,17,24H,1,4,7,10-16H2,2H3/b6-5-,9-8-   \n",
       "\n",
       "   ... permanent_charge   formula mono_isotopic_molecular_weight  \\\n",
       "0  ...                0  C22H30O4                     358.214409   \n",
       "1  ...                0  C22H30O4                     358.214409   \n",
       "2  ...                0  C22H30O4                     358.214409   \n",
       "3  ...                0  C22H30O4                     358.214409   \n",
       "4  ...                0  C22H30O4                     358.214409   \n",
       "5  ...                0  C22H30O4                     358.214409   \n",
       "\n",
       "  collision_energy       label    rt_min    rt_max mz_tolerance  \\\n",
       "0       102040norm  sorgoleone  0.145454  1.145454            5   \n",
       "1       102040norm  sorgoleone  0.145454  1.145454            5   \n",
       "2       102040norm  sorgoleone  0.148787  1.148787            5   \n",
       "3       205060norm  sorgoleone  6.939548  7.939548            5   \n",
       "4       205060norm  sorgoleone  6.939548  7.939548            5   \n",
       "5       102040norm  sorgoleone  6.944448  7.944448            5   \n",
       "\n",
       "  mz_tolerance_units in_metatlas  \n",
       "0                ppm        True  \n",
       "1                ppm        True  \n",
       "2                ppm        True  \n",
       "3                ppm        True  \n",
       "4                ppm        True  \n",
       "5                ppm        True  \n",
       "\n",
       "[6 rows x 23 columns]"
      ]
     },
     "metadata": {},
     "output_type": "display_data"
    }
   ],
   "source": [
    "if config['atlases']['save_new_ema_atlases'] is True:\n",
    "    ema_atlas_ids, ema_atlas_names = sta.update_and_save_ema_atlases(nonmatches_to_atlases_rt_corrected, ema_atlases_data, config, timestamp)\n",
    "    sta.handle_data(mode=\"save\", config=config, timestamp=timestamp, file_suffix=\"new_atlas_ids\", \\\n",
    "                    data=(ema_atlas_ids, ema_atlas_names))\n",
    "    ema_atlas_ids, ema_atlas_names = sta.handle_data(mode=\"load\", config=config, file_suffix=\"new_atlas_ids\")\n",
    "\n",
    "    if config['atlases']['direct_deposit_new_emas'] is True:\n",
    "        print(\"New EMA atlases have been saved to disk and deposited in the metatlas database:\")\n",
    "        display(pd.DataFrame.from_dict(ema_atlas_ids))\n",
    "    print(f\"\\nNew EMA atlas locations:\")\n",
    "    display(pd.DataFrame.from_dict(ema_atlas_names))\n",
    "\n",
    "elif config['atlases']['save_new_ema_atlases'] is False:\n",
    "    print(\"No new EMA atlases saved to disk, as 'save_new_ema_atlases' is set to False in the config file.\")\n",
    "    print(\"Here is the new atlas data in memory:\")\n",
    "    display(nonmatches_to_atlases_rt_corrected)"
   ]
  },
  {
   "cell_type": "markdown",
   "metadata": {},
   "source": [
    "# Identify compounds not in MSMS refs and set up new MSMS refs creation"
   ]
  },
  {
   "cell_type": "code",
   "execution_count": 11,
   "metadata": {},
   "outputs": [
    {
     "name": "stdout",
     "output_type": "stream",
     "text": [
      "Loading most recent pkl file: /global/homes/b/bkieft/metatlas_junkdrawer/example_data/metascischeller/cache/20250507162308_ref_stds_msms_refs.pkl\n"
     ]
    }
   ],
   "source": [
    "if config[\"cache\"][\"msms_refs_data_from_cache\"] is False:\n",
    "    if config[\"msms_refs\"][\"new_msms_refs_dtype\"] == \"all\":\n",
    "        rt_peaks_msms_input = rt_peaks_all_formatted\n",
    "        top_spectra_msms_input = top_spectra_all\n",
    "    elif config[\"msms_refs\"][\"new_msms_refs_dtype\"] == \"best\":\n",
    "        rt_peaks_msms_input = rt_peaks_best_formatted\n",
    "        top_spectra_msms_input = top_spectra_best\n",
    "    msms_refs = sta.get_msms_refs(msms_refs_path=config[\"msms_refs\"][\"current_msms_refs_path\"])\n",
    "    rt_peaks_msms_input_formatted = sta.format_for_msms_refs(rt_peaks_msms_input, top_spectra_msms_input, msms_refs, config)\n",
    "    in_msms_refs, notin_msms_refs = sta.search_for_matches_in_msms_refs(rt_peaks_msms_input_formatted, msms_refs, check_by_flat=True)\n",
    "    sta.handle_data(mode=\"save\", config=config, timestamp=timestamp, file_suffix=\"msms_refs\", \\\n",
    "                    data=(msms_refs, notin_msms_refs, rt_peaks_msms_input_formatted))\n",
    "    \n",
    "elif config[\"cache\"][\"msms_refs_data_from_cache\"] is True:\n",
    "    msms_refs, notin_msms_refs, rt_peaks_msms_input_formatted = sta.handle_data(mode=\"load\", config=config, file_suffix=\"msms_refs\")"
   ]
  },
  {
   "cell_type": "markdown",
   "metadata": {},
   "source": [
    "# Create new MSMS refs table with all selected reference standards added"
   ]
  },
  {
   "cell_type": "code",
   "execution_count": null,
   "metadata": {},
   "outputs": [],
   "source": [
    "if config[\"msms_refs\"]['save_new_msms_refs'] is True:\n",
    "    sta.update_and_save_msms_refs(msms_refs, notin_msms_refs, config, timestamp)\n",
    "\n",
    "elif config[\"msms_refs\"]['save_new_msms_refs'] is False:\n",
    "    print(\"No new MSMS refs saved to disk, as 'save_new_msms_refs' is set to False in the config file.\")\n",
    "    print(\"Here is the new MSMS refs data in memory:\")\n",
    "    display(notin_msms_refs)"
   ]
  },
  {
   "cell_type": "code",
   "execution_count": 18,
   "metadata": {},
   "outputs": [
    {
     "data": {
      "text/plain": [
       "Index(['label', 'spectrum', 'rt', 'precursor_mz', 'precursor_peak_height',\n",
       "       'adduct', 'standard_lcmsrun', 'total_intensity',\n",
       "       'total_intensity_fraction', 'peak_index', 'chromatography',\n",
       "       'compound_name', 'polarity'],\n",
       "      dtype='object')"
      ]
     },
     "execution_count": 18,
     "metadata": {},
     "output_type": "execute_result"
    }
   ],
   "source": [
    "top_spectra_all.columns"
   ]
  },
  {
   "cell_type": "code",
   "execution_count": 19,
   "metadata": {},
   "outputs": [
    {
     "data": {
      "text/plain": [
       "Index(['standard_lcmsrun', 'chromatography', 'compound_name', 'adduct',\n",
       "       'polarity', 'rt_peak', 'intensity', 'mz_observed', 'mz_theoretical',\n",
       "       'ppm_error', 'smiles', 'peak_index', 'inchi', 'inchi_key',\n",
       "       'neutralized_inchi', 'neutralized_inchi_key', 'permanent_charge',\n",
       "       'formula', 'monoisotopic_mass', 'collision_energy'],\n",
       "      dtype='object')"
      ]
     },
     "execution_count": 19,
     "metadata": {},
     "output_type": "execute_result"
    }
   ],
   "source": [
    "rt_peaks_all.columns"
   ]
  },
  {
   "cell_type": "code",
   "execution_count": 29,
   "metadata": {},
   "outputs": [
    {
     "data": {
      "text/plain": [
       "Index(['standard_lcmsrun', 'chromatography', 'compound_name', 'adduct',\n",
       "       'polarity', 'rt_peak', 'intensity', 'mz_observed', 'mz_theoretical',\n",
       "       'ppm_error', 'smiles', 'peak_index', 'inchi', 'inchi_key',\n",
       "       'neutralized_inchi', 'neutralized_inchi_key', 'permanent_charge',\n",
       "       'formula', 'monoisotopic_mass', 'collision_energy', 'rt',\n",
       "       'precursor_mz', 'precursor_peak_height', 'spectrum'],\n",
       "      dtype='object')"
      ]
     },
     "execution_count": 29,
     "metadata": {},
     "output_type": "execute_result"
    }
   ],
   "source": [
    "rt_peaks_and_top_spectra = rt_peaks_all.merge(top_spectra_all[['compound_name', 'adduct', 'polarity', 'standard_lcmsrun', 'peak_index', 'rt', 'precursor_mz', 'precursor_peak_height', 'spectrum']],\n",
    "                                                on=['compound_name', 'adduct', 'polarity', 'standard_lcmsrun', 'peak_index'], how='left')\n",
    "rt_peaks_and_top_spectra.columns"
   ]
  },
  {
   "cell_type": "code",
   "execution_count": 32,
   "metadata": {},
   "outputs": [
    {
     "data": {
      "text/plain": [
       "0    /global/cfs/cdirs/metatlas/raw_data/jgi/20241021_JGI_HS_510060_SorghExu_final1_IQX_C18_USDAY92782/20241021_JGI_HS_510060_SorghExu_final1_IQX_C18_USDAY92782_NEG_MS2_RefStd-1_Sorgoleone_1_Rg80to1200-CE102040norm-200uM-S1_Run384.h5\n",
       "Name: standard_lcmsrun, dtype: object"
      ]
     },
     "execution_count": 32,
     "metadata": {},
     "output_type": "execute_result"
    }
   ],
   "source": [
    "rt_peaks_and_top_spectra['standard_lcmsrun'].head(1)"
   ]
  },
  {
   "cell_type": "code",
   "execution_count": 20,
   "metadata": {},
   "outputs": [
    {
     "data": {
      "text/plain": [
       "{'ce_type': 'ramp',\n",
       " 'msms_refs_prefix': 'metascischeller',\n",
       " 'frag_method': 'HCD',\n",
       " 'instrument_type': 'Orbitrap',\n",
       " 'decimal': 4.0}"
      ]
     },
     "execution_count": 20,
     "metadata": {},
     "output_type": "execute_result"
    }
   ],
   "source": [
    "config['msms_refs']['msms_refs_metadata']"
   ]
  },
  {
   "cell_type": "code",
   "execution_count": null,
   "metadata": {},
   "outputs": [],
   "source": [
    "from pyteomics import mgf\n",
    "import subprocess\n",
    "from typing import Dict, Any\n",
    "import pandas as pd\n",
    "\n",
    "def get_mgf_last_index(mgf_refs_path: str) -> str:\n",
    "    \"\"\"\n",
    "    Index an MGF file and read specific spectra efficiently.\n",
    "\n",
    "    Args:\n",
    "        mgf_refs_path (str): Path to the MGF file.\n",
    "\n",
    "    Returns:\n",
    "        IndexedMGF: An indexed MGF object for efficient access.\n",
    "    \"\"\"\n",
    "    try:\n",
    "        # Create an IndexedMGF object\n",
    "        indexed_mgf = mgf.IndexedMGF(mgf_refs_path, index_by_scans=True)\n",
    "        \n",
    "        # Access the last spectrum in the file\n",
    "        last_spectrum = indexed_mgf[-1]\n",
    "\n",
    "        # Access a spectrum by its SPECTRUMID (if available)\n",
    "        if 'spectrumid' in last_spectrum['params']:\n",
    "            id = last_spectrum['params']['spectrumid']\n",
    "            return id\n",
    "        else:\n",
    "            print(\"Warning: SPECTRUMID parameter not found in the last spectrum. Check MGF file/path/format.\")\n",
    "    \n",
    "    except FileNotFoundError:\n",
    "        print(f\"Error: File not found at {mgf_refs_path}\")\n",
    "    except Exception as e:\n",
    "        print(f\"An error occurred: {e}\")\n",
    "\n",
    "def write_mgf_from_top_spectra(top_spectra_all: pd.DataFrame, \n",
    "                               rt_peaks_all: pd.DataFrame, \n",
    "                               config: Dict[str, Any]\n",
    ") -> None:\n",
    "    \"\"\"\n",
    "    Write an MGF file from the spectra data in top_spectra_all.\n",
    "\n",
    "    Args:\n",
    "        top_spectra_all (pd.DataFrame): DataFrame containing spectra data.\n",
    "        rt_peaks_all (pd.DataFrame): DataFrame containing retention time peak data.\n",
    "        config (Dict[str, Any]): Configuration dictionary containing metadata for the project, including output path.\n",
    "\n",
    "    Returns:\n",
    "        None\n",
    "    \"\"\"\n",
    "    mgf_entries = []\n",
    "\n",
    "    rt_peaks_and_top_spectra = rt_peaks_all.merge(top_spectra_all[['compound_name', 'adduct', 'polarity', 'standard_lcmsrun', 'peak_index', 'rt', 'precursor_mz', 'precursor_peak_height', 'spectrum']],\n",
    "                                                on=['compound_name', 'adduct', 'polarity', 'standard_lcmsrun', 'peak_index'], how='left')\n",
    "\n",
    "    if config['msms_refs']['standalone_mgf'] is True:\n",
    "        current_id = 0\n",
    "    elif config['msms_refs']['standalone_mgf'] is False:\n",
    "        starting_mgf_id = get_mgf_last_index(config['msms_refs']['current_mgf_path'])\n",
    "        print(f\"Last ID from existing file to increment: {starting_mgf_id}\")\n",
    "        if \"CCMSLIB\" in starting_mgf_id:\n",
    "            current_id = int(starting_mgf_id.split(\"CCMSLIB\")[1])\n",
    "\n",
    "    for _, row in rt_peaks_and_top_spectra.iterrows():\n",
    "        # Extract m/z and intensity values\n",
    "        mz_values, intensity_values = row['spectrum']\n",
    "        \n",
    "        # Increment the SPECTRUMID for each entry\n",
    "        if config['msms_refs']['standalone_mgf'] is True:\n",
    "            current_id += 1\n",
    "            new_spectrum_id = f\"{config['msms_refs']['msms_refs_metadata']['msms_refs_prefix'].upper()}{current_id:011d}\"\n",
    "        elif config['msms_refs']['standalone_mgf'] is False:\n",
    "            current_id += 1\n",
    "            new_spectrum_id = f\"CCMSLIB{current_id:011d}\"\n",
    "\n",
    "        # Create an MGF entry\n",
    "        mgf_entry = {\n",
    "            'm/z array': mz_values,\n",
    "            'intensity array': intensity_values,\n",
    "            'params': {\n",
    "                'TITLE': f\"MS/MS scan for {row['compound_name']} at {round(row['rt_peak'], 3)} min with intensity {round(row['intensity'], 3)}\",\n",
    "                'PEPMASS': round(row['precursor_mz'], 3),\n",
    "                'CHARGE': 1,\n",
    "                'MSLEVEL': 2,\n",
    "                'SOURCE_INSTRUMENT': 'LC-ESI-Orbitrap',\n",
    "                'FILENAME': row['standard_lcmsrun'],\n",
    "                'SEQ': \"*..*\",\n",
    "                'IONMODE': \"Positive\" if row['polarity'] == \"POS\" else \"Negative\",\n",
    "                'ORGANISM': 'BERKELEY-LAB',\n",
    "                'NAME': f\"{row['compound_name']} {row['collision_energy']} {row['adduct']}\",\n",
    "                'PI': 'Trent Northen',\n",
    "                'DATACOLLECTOR': 'JGI',\n",
    "                'SMILES': row['smiles'],\n",
    "                'INCHI': row['inchi'],\n",
    "                'FORMULA': row['formula'],\n",
    "                'INCHIAUX': \"N/A\",\n",
    "                'PUBMED': \"N/A\",\n",
    "                'SUBMITUSER': 'bkieft',\n",
    "                'LIBRARYQUALITY': 3,\n",
    "                'SPECTRUMID': new_spectrum_id\n",
    "            }\n",
    "        }\n",
    "        \n",
    "        mgf_entries.append(mgf_entry)\n",
    "\n",
    "    # Write the MGF file\n",
    "    updated_refs_dir = f\"{config['project']['standards_output_path']}/updated_MSMS_refs\"\n",
    "    standalone_tag = \"_standalone\" if config['msms_refs']['standalone_mgf'] else \"\"\n",
    "    if not os.path.exists(updated_refs_dir):\n",
    "        os.makedirs(updated_refs_dir)\n",
    "    fname = f\"{updated_refs_dir}/berkeley_lab_refs_{timestamp}{standalone_tag}.mgf\"\n",
    "    mgf.write(mgf_entries, fname)\n",
    "\n",
    "    if config['msms_refs']['standalone_mgf'] is True:\n",
    "        print(f\"Standalone MGF file created: {fname}\")\n",
    "    elif config['msms_refs']['standalone_mgf'] is False:\n",
    "        temp_fname = f\"{fname}.tmp\"\n",
    "        command = f\"(cat {config['msms_refs']['current_mgf_path']} && echo && cat {fname}) > {temp_fname}\"\n",
    "        subprocess.run(command, shell=True, check=True)\n",
    "        os.replace(temp_fname, fname)\n",
    "        print(f\"Updated MGF file created: {fname}\")"
   ]
  },
  {
   "cell_type": "code",
   "execution_count": 48,
   "metadata": {},
   "outputs": [
    {
     "name": "stdout",
     "output_type": "stream",
     "text": [
      "Starting MGF ID: CCMSLIB00010126999\n",
      "Updated MGF file created: /global/homes/b/bkieft/metatlas_junkdrawer/example_data/metascischeller/updated_MSMS_refs/berkeley_lab_refs_20250508101852.mgf\n"
     ]
    }
   ],
   "source": [
    "write_mgf_from_top_spectra(top_spectra_all, rt_peaks_all, config)"
   ]
  }
 ],
 "metadata": {
  "kernelspec": {
   "display_name": "metatlas",
   "language": "python",
   "name": "python3"
  },
  "language_info": {
   "codemirror_mode": {
    "name": "ipython",
    "version": 3
   },
   "file_extension": ".py",
   "mimetype": "text/x-python",
   "name": "python",
   "nbconvert_exporter": "python",
   "pygments_lexer": "ipython3",
   "version": "3.11.8"
  }
 },
 "nbformat": 4,
 "nbformat_minor": 4
}
