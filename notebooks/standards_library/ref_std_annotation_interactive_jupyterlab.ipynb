{
 "cells": [
  {
   "cell_type": "code",
   "execution_count": 1,
   "metadata": {},
   "outputs": [
    {
     "name": "stdout",
     "output_type": "stream",
     "text": [
      "2025-05-06 19:06:12 \u001b[32mINFO    \u001b[0m Running on git commit: b'f3db7e42d52ed8844421d3124358e0717f0b9a2d' from 2025-05-06 11:32:18 -0700 -- 34 minutes ago\n"
     ]
    },
    {
     "data": {
      "text/html": [
       "<style>.container { width:100% !important; }</style>"
      ],
      "text/plain": [
       "<IPython.core.display.HTML object>"
      ]
     },
     "metadata": {},
     "output_type": "display_data"
    },
    {
     "name": "stdout",
     "output_type": "stream",
     "text": [
      "2025-05-06 19:06:13 \u001b[32mINFO    \u001b[0m NERSC=True\n"
     ]
    }
   ],
   "source": [
    "# pylint: disable=wrong-import-position,import-error,missing-class-docstring\n",
    "import pandas as pd\n",
    "import sys\n",
    "from datetime import datetime\n",
    "from IPython.display import display\n",
    "import yaml\n",
    "from pathlib import Path\n",
    "\n",
    "pd.options.display.max_colwidth = 300\n",
    "timestamp = datetime.now().strftime(\"%Y%m%d%H%M%S\")\n",
    "\n",
    "class StopExecution(Exception):\n",
    "    def _render_traceback_(self):\n",
    "        pass\n",
    "\n",
    "kernel_def = \"\"\"{\"argv\":[\"shifter\",\"--entrypoint\",\"--image=ghcr.io/biorack/metatlas/metatlas_shifter:latest\",\"/usr/local/bin/python\",\"-m\",\n",
    "                 \"ipykernel_launcher\",\"-f\",\"{connection_file}\"],\"display_name\": \"Metatlas Targeted\",\"language\": \"python\",\n",
    "                 \"metadata\": { \"debugger\": true }}\"\"\"\n",
    "kernel_file_name = Path.home() / \".local\" / \"share\" / \"jupyter\" / \"kernels\" / \"metatlas-targeted\" / \"kernel.json\"\n",
    "try:\n",
    "    has_root_kernel = Path(\"/root/.local/share/jupyter/kernels/papermill/kernel.json\").is_file()\n",
    "except PermissionError:\n",
    "    has_root_kernel = False\n",
    "if not has_root_kernel and not kernel_file_name.is_file():\n",
    "    kernel_file_name.parent.mkdir(parents=True, exist_ok=True)\n",
    "    with kernel_file_name.open(mode=\"w\", encoding=\"utf-8\") as f:\n",
    "        f.writelines(kernel_def)\n",
    "    print('CRITICAL: Notebook kernel has been installed. Set kernel to \"Metatlas Targeted\" and re-run notebook.')\n",
    "    raise StopExecution\n",
    "try:\n",
    "    from metatlas.tools import notebook  # noqa: E402\n",
    "except ImportError as err:\n",
    "    print('CRITICAL: Set notebook kernel to \"Metatlas Targeted\" and re-run notebook.')\n",
    "    raise StopExecution from err\n",
    "\n",
    "source_code_version_id = \"f3db7e42d52ed8844421d3124358e0717f0b9a2d\"\n",
    "notebook.setup(\"INFO\", source_code_version_id)\n",
    "\n",
    "import notebooks.standards_library.standard_annotation as sta"
   ]
  },
  {
   "cell_type": "markdown",
   "metadata": {},
   "source": [
    "# Read config file"
   ]
  },
  {
   "cell_type": "code",
   "execution_count": 2,
   "metadata": {},
   "outputs": [],
   "source": [
    "config_path = \"/global/homes/b/bkieft/metatlas/notebooks/standards_library/ref_std_annotation.yaml\"\n",
    "with open(config_path, \"r\") as config_file:\n",
    "    config = yaml.safe_load(config_file)"
   ]
  },
  {
   "cell_type": "markdown",
   "metadata": {},
   "source": [
    "# Extract EIC and Spectra information from files in the run table"
   ]
  },
  {
   "cell_type": "code",
   "execution_count": 3,
   "metadata": {},
   "outputs": [
    {
     "name": "stderr",
     "output_type": "stream",
     "text": [
      "[19:07:40] ERROR: \n",
      "\n",
      "[19:07:40] ERROR: \n",
      "\n",
      "[19:07:40] ERROR: \n",
      "\n",
      "[19:07:40] ERROR: \n",
      "\n",
      "[19:07:40] ERROR: \n",
      "\n",
      "[19:07:40] ERROR: \n",
      "\n",
      "[19:07:40] ERROR: \n",
      "\n",
      "[19:07:40] ERROR: \n",
      "\n",
      "[19:07:40] ERROR: \n",
      "\n",
      "[19:07:40] ERROR: \n",
      "\n",
      "[19:07:40] ERROR: \n",
      "\n",
      "[19:07:40] ERROR: \n",
      "\n",
      "[19:07:40] ERROR: \n",
      "\n",
      "[19:07:40] ERROR: \n",
      "\n",
      "[19:07:40] ERROR: \n",
      "\n"
     ]
    },
    {
     "data": {
      "application/vnd.jupyter.widget-view+json": {
       "model_id": "82268aa7c4d94f1a9e008ad9a5321521",
       "version_major": 2,
       "version_minor": 0
      },
      "text/plain": [
       " Extracting data from lcmsruns:   0%|          | 0/120 [00:00<?, ?compound group/s]"
      ]
     },
     "metadata": {},
     "output_type": "display_data"
    },
    {
     "name": "stdout",
     "output_type": "stream",
     "text": [
      "Saving data to: /global/homes/b/bkieft/metatlas_junkdrawer/example_data/schellermetasci/cache/20250506190611_ref_stds_full.pkl\n"
     ]
    }
   ],
   "source": [
    "if config[\"full_data_from_cache\"] is False:\n",
    "    lcmsruns_table_with_adducts = sta.build_standard_lcmsrun_table(config)\n",
    "    eics_full, top_spectra_full, group_names_full, rt_peaks_full, atlas_full, mols_images = sta.extract_data(lcmsruns_table_with_adducts,config,method=\"find_peaks\")\n",
    "    sta.handle_data(mode=\"save\", config=config, timestamp=timestamp, file_suffix=\"full\", data=(eics_full, top_spectra_full, group_names_full, rt_peaks_full, atlas_full, mols_images))\n",
    "elif config[\"full_data_from_cache\"] is True:\n",
    "    eics_full, top_spectra_full, group_names_full, rt_peaks_full, atlas_full, mols_images = sta.handle_data(mode=\"load\", config=config, file_suffix=\"full\")"
   ]
  },
  {
   "cell_type": "markdown",
   "metadata": {},
   "source": [
    "# Create interactive plot to choose adduct rt peaks for each standard compound"
   ]
  },
  {
   "cell_type": "code",
   "execution_count": 100,
   "metadata": {},
   "outputs": [
    {
     "data": {
      "application/vnd.jupyter.widget-view+json": {
       "model_id": "3baa329cc3b34ae3bf3e4af6e73e9e8c",
       "version_major": 2,
       "version_minor": 0
      },
      "text/plain": [
       "VBox(children=(Output(), Output()))"
      ]
     },
     "metadata": {},
     "output_type": "display_data"
    }
   ],
   "source": [
    "if config[\"selected_data_from_cache\"] is False:\n",
    "    processed_data = sta.process_data_for_plotting(eics_full, top_spectra_full, group_names_full, rt_peaks_full, config)\n",
    "    selected_adducts_dict = {}\n",
    "    ambiguous_adducts_dict = {}\n",
    "    top_adducts_dict = {}\n",
    "    sta.create_interactive_plots_jupyterlab(processed_data, mols_images, selected_adducts_dict, ambiguous_adducts_dict, top_adducts_dict)\n",
    "    # Run next cell after manual selection of adducts\n",
    "\n",
    "elif config[\"selected_data_from_cache\"] is True:\n",
    "    print(\"Not initiating GUI for adduct selection, loading selected adducts from cache below.\")"
   ]
  },
  {
   "cell_type": "code",
   "execution_count": 103,
   "metadata": {},
   "outputs": [
    {
     "data": {
      "text/plain": [
       "{'sorgoleone;;/global/cfs/cdirs/metatlas/raw_data/jgi/20241002_JGI_HS_510060_SorghExu_final1_EXP120B_HILICZ_USHXG02558/20241002_JGI_HS_510060_SorghExu_final1_EXP120B_HILICZ_USHXG02558_POS_MS2_RefStd-1_Sorgoleone_1_Rg70to1050-CE102040norm-200uM-S1_Run375.h5': ['[M+H]+||peak1',\n",
       "  '[M+NH4]+||peak1'],\n",
       " 'sorgoleone;;/global/cfs/cdirs/metatlas/raw_data/jgi/20241002_JGI_HS_510060_SorghExu_final1_EXP120B_HILICZ_USHXG02558/20241002_JGI_HS_510060_SorghExu_final1_EXP120B_HILICZ_USHXG02558_POS_MS2_RefStd-1_Sorgoleone_1_Rg70to1050-CE205060norm-200uM-S1_Run376.h5': ['[M+H]+||peak1',\n",
       "  '[M+NH4]+||peak1'],\n",
       " 'sorgoleone;;/global/cfs/cdirs/metatlas/raw_data/jgi/20241002_JGI_HS_510060_SorghExu_final1_EXP120B_HILICZ_USHXG02558/20241002_JGI_HS_510060_SorghExu_final1_EXP120B_HILICZ_USHXG02558_NEG_MS2_RefStd-1_Sorgoleone_1_Rg70to1050-CE102040norm-200uM-S1_Run377.h5': ['[M-H]-||peak1'],\n",
       " 'sorgoleone;;/global/cfs/cdirs/metatlas/raw_data/jgi/20241002_JGI_HS_510060_SorghExu_final1_EXP120B_HILICZ_USHXG02558/20241002_JGI_HS_510060_SorghExu_final1_EXP120B_HILICZ_USHXG02558_NEG_MS2_RefStd-1_Sorgoleone_1_Rg70to1050-CE205060norm-200uM-S1_Run378.h5': ['[M-H]-||peak1'],\n",
       " 'sorgoleone;;/global/cfs/cdirs/metatlas/raw_data/jgi/20241021_JGI_HS_510060_SorghExu_final1_IQX_C18_USDAY92782/20241021_JGI_HS_510060_SorghExu_final1_IQX_C18_USDAY92782_POS_MS2_RefStd-1_Sorgoleone_1_Rg80to1200-CE102040norm-200uM-S1_Run382.h5': ['[M+Na]+||peak1',\n",
       "  '[M+H]+||peak1'],\n",
       " 'sorgoleone;;/global/cfs/cdirs/metatlas/raw_data/jgi/20241021_JGI_HS_510060_SorghExu_final1_IQX_C18_USDAY92782/20241021_JGI_HS_510060_SorghExu_final1_IQX_C18_USDAY92782_POS_MS2_RefStd-1_Sorgoleone_1_Rg80to1200-CE205060norm-200uM-S1_Run383.h5': ['[M+Na]+||peak1',\n",
       "  '[M+H]+||peak1'],\n",
       " 'sorgoleone;;/global/cfs/cdirs/metatlas/raw_data/jgi/20241021_JGI_HS_510060_SorghExu_final1_IQX_C18_USDAY92782/20241021_JGI_HS_510060_SorghExu_final1_IQX_C18_USDAY92782_NEG_MS2_RefStd-1_Sorgoleone_1_Rg80to1200-CE102040norm-200uM-S1_Run384.h5': ['[M-H]-||peak1'],\n",
       " 'sorgoleone;;/global/cfs/cdirs/metatlas/raw_data/jgi/20241021_JGI_HS_510060_SorghExu_final1_IQX_C18_USDAY92782/20241021_JGI_HS_510060_SorghExu_final1_IQX_C18_USDAY92782_NEG_MS2_RefStd-1_Sorgoleone_1_Rg80to1200-CE205060norm-200uM-S1_Run385.h5': ['[M-H]-||peak1']}"
      ]
     },
     "execution_count": 103,
     "metadata": {},
     "output_type": "execute_result"
    }
   ],
   "source": [
    "selected_adducts_dict"
   ]
  },
  {
   "cell_type": "markdown",
   "metadata": {},
   "source": [
    "# Generate static summary reports for each compound after selections are made"
   ]
  },
  {
   "cell_type": "code",
   "execution_count": 98,
   "metadata": {},
   "outputs": [
    {
     "name": "stdout",
     "output_type": "stream",
     "text": [
      "Saving data to: /global/homes/b/bkieft/metatlas_junkdrawer/example_data/schellermetasci/cache/20250506190611_ref_stds_selected.pkl\n"
     ]
    },
    {
     "data": {
      "application/vnd.jupyter.widget-view+json": {
       "model_id": "756ff06f705641558105b6fce2217e93",
       "version_major": 2,
       "version_minor": 0
      },
      "text/plain": [
       " Writing summary plots for selected compounds:   0%|          | 0/8 [00:00<?, ? compound group/s]"
      ]
     },
     "metadata": {},
     "output_type": "display_data"
    },
    {
     "name": "stdout",
     "output_type": "stream",
     "text": [
      "2025-05-06 21:09:41 \u001b[37m\u001b[41mCRITICAL\u001b[0m Uncaught exception\n",
      "Traceback (most recent call last):\n",
      "  File \"/usr/local/lib/python3.11/site-packages/IPython/core/interactiveshell.py\", line 3577, in run_code\n",
      "    exec(code_obj, self.user_global_ns, self.user_ns)\n",
      "  File \"/tmp/ipykernel_805171/141666826.py\", line 4, in <module>\n",
      "    sta.generate_static_summary_plots(processed_data, selected_adducts_dict, top_adducts_dict, config) # Save summary plots of selected compounds+adducts after completing GUI\n",
      "    ^^^^^^^^^^^^^^^^^^^^^^^^^^^^^^^^^^^^^^^^^^^^^^^^^^^^^^^^^^^^^^^^^^^^^^^^^^^^^^^^^^^^^^^^^^^^^^^^^^\n",
      "  File \"/tmp/metatlas.ety4nerKCN/notebooks/standards_library/standard_annotation.py\", line 3146, in generate_static_summary_plots\n",
      "    fig.write_image(\n",
      "  File \"/usr/local/lib/python3.11/site-packages/plotly/basedatatypes.py\", line 3827, in write_image\n",
      "    return pio.write_image(self, *args, **kwargs)\n",
      "           ^^^^^^^^^^^^^^^^^^^^^^^^^^^^^^^^^^^^^^\n",
      "  File \"/usr/local/lib/python3.11/site-packages/plotly/io/_kaleido.py\", line 266, in write_image\n",
      "    img_data = to_image(\n",
      "               ^^^^^^^^^\n",
      "  File \"/usr/local/lib/python3.11/site-packages/plotly/io/_kaleido.py\", line 132, in to_image\n",
      "    raise ValueError(\n",
      "ValueError: \n",
      "Image export using the \"kaleido\" engine requires the kaleido package,\n",
      "which can be installed using pip:\n",
      "    $ pip install -U kaleido\n",
      "\n"
     ]
    },
    {
     "ename": "SystemExit",
     "evalue": "128",
     "output_type": "error",
     "traceback": [
      "\u001b[0;31m---------------------------------------------------------------------------\u001b[0m",
      "\u001b[0;31mValueError\u001b[0m                                Traceback (most recent call last)",
      "    \u001b[0;31m[... skipping hidden 1 frame]\u001b[0m\n",
      "Cell \u001b[0;32mIn[98], line 4\u001b[0m\n\u001b[1;32m      2\u001b[0m     sta\u001b[38;5;241m.\u001b[39mhandle_data(mode\u001b[38;5;241m=\u001b[39m\u001b[38;5;124m\"\u001b[39m\u001b[38;5;124msave\u001b[39m\u001b[38;5;124m\"\u001b[39m, config\u001b[38;5;241m=\u001b[39mconfig, timestamp\u001b[38;5;241m=\u001b[39mtimestamp, file_suffix\u001b[38;5;241m=\u001b[39m\u001b[38;5;124m\"\u001b[39m\u001b[38;5;124mselected\u001b[39m\u001b[38;5;124m\"\u001b[39m, \\\n\u001b[1;32m      3\u001b[0m                     data\u001b[38;5;241m=\u001b[39m(selected_adducts_dict, ambiguous_adducts_dict, top_adducts_dict, processed_data))\n\u001b[0;32m----> 4\u001b[0m     \u001b[43msta\u001b[49m\u001b[38;5;241;43m.\u001b[39;49m\u001b[43mgenerate_static_summary_plots\u001b[49m\u001b[43m(\u001b[49m\u001b[43mprocessed_data\u001b[49m\u001b[43m,\u001b[49m\u001b[43m \u001b[49m\u001b[43mselected_adducts_dict\u001b[49m\u001b[43m,\u001b[49m\u001b[43m \u001b[49m\u001b[43mtop_adducts_dict\u001b[49m\u001b[43m,\u001b[49m\u001b[43m \u001b[49m\u001b[43mconfig\u001b[49m\u001b[43m)\u001b[49m \u001b[38;5;66;03m# Save summary plots of selected compounds+adducts after completing GUI\u001b[39;00m\n\u001b[1;32m      6\u001b[0m \u001b[38;5;28;01melif\u001b[39;00m config[\u001b[38;5;124m\"\u001b[39m\u001b[38;5;124mselected_data_from_cache\u001b[39m\u001b[38;5;124m\"\u001b[39m] \u001b[38;5;129;01mis\u001b[39;00m \u001b[38;5;28;01mTrue\u001b[39;00m:\n",
      "File \u001b[0;32m/tmp/metatlas.ety4nerKCN/notebooks/standards_library/standard_annotation.py:3146\u001b[0m, in \u001b[0;36mgenerate_static_summary_plots\u001b[0;34m(processed_data, selected_good_adducts, top_adducts, config)\u001b[0m\n\u001b[1;32m   3145\u001b[0m fname\u001b[38;5;241m=\u001b[39m\u001b[38;5;124mf\u001b[39m\u001b[38;5;124m\"\u001b[39m\u001b[38;5;132;01m{\u001b[39;00mexport_dirname\u001b[38;5;132;01m}\u001b[39;00m\u001b[38;5;124m/\u001b[39m\u001b[38;5;132;01m{\u001b[39;00mgroup_id\u001b[38;5;132;01m}\u001b[39;00m\u001b[38;5;124m_summary_plot.png\u001b[39m\u001b[38;5;124m\"\u001b[39m\n\u001b[0;32m-> 3146\u001b[0m \u001b[43mfig\u001b[49m\u001b[38;5;241;43m.\u001b[39;49m\u001b[43mwrite_image\u001b[49m\u001b[43m(\u001b[49m\n\u001b[1;32m   3147\u001b[0m \u001b[43m    \u001b[49m\u001b[43mfname\u001b[49m\u001b[43m,\u001b[49m\n\u001b[1;32m   3148\u001b[0m \u001b[43m    \u001b[49m\u001b[43mengine\u001b[49m\u001b[38;5;241;43m=\u001b[39;49m\u001b[38;5;124;43m\"\u001b[39;49m\u001b[38;5;124;43mkaleido\u001b[39;49m\u001b[38;5;124;43m\"\u001b[39;49m\u001b[43m,\u001b[49m\n\u001b[1;32m   3149\u001b[0m \u001b[43m    \u001b[49m\u001b[43mwidth\u001b[49m\u001b[38;5;241;43m=\u001b[39;49m\u001b[38;5;241;43m1500\u001b[39;49m\u001b[43m,\u001b[49m\n\u001b[1;32m   3150\u001b[0m \u001b[43m    \u001b[49m\u001b[43mheight\u001b[49m\u001b[38;5;241;43m=\u001b[39;49m\u001b[38;5;241;43m1000\u001b[39;49m\u001b[43m,\u001b[49m\n\u001b[1;32m   3151\u001b[0m \u001b[43m    \u001b[49m\u001b[43mscale\u001b[49m\u001b[38;5;241;43m=\u001b[39;49m\u001b[38;5;241;43m2\u001b[39;49m\n\u001b[1;32m   3152\u001b[0m \u001b[43m\u001b[49m\u001b[43m)\u001b[49m\n",
      "File \u001b[0;32m/usr/local/lib/python3.11/site-packages/plotly/basedatatypes.py:3827\u001b[0m, in \u001b[0;36mBaseFigure.write_image\u001b[0;34m(self, *args, **kwargs)\u001b[0m\n\u001b[1;32m   3825\u001b[0m \u001b[38;5;28;01mimport\u001b[39;00m \u001b[38;5;21;01mplotly\u001b[39;00m\u001b[38;5;21;01m.\u001b[39;00m\u001b[38;5;21;01mio\u001b[39;00m \u001b[38;5;28;01mas\u001b[39;00m \u001b[38;5;21;01mpio\u001b[39;00m\n\u001b[0;32m-> 3827\u001b[0m \u001b[38;5;28;01mreturn\u001b[39;00m \u001b[43mpio\u001b[49m\u001b[38;5;241;43m.\u001b[39;49m\u001b[43mwrite_image\u001b[49m\u001b[43m(\u001b[49m\u001b[38;5;28;43mself\u001b[39;49m\u001b[43m,\u001b[49m\u001b[43m \u001b[49m\u001b[38;5;241;43m*\u001b[39;49m\u001b[43margs\u001b[49m\u001b[43m,\u001b[49m\u001b[43m \u001b[49m\u001b[38;5;241;43m*\u001b[39;49m\u001b[38;5;241;43m*\u001b[39;49m\u001b[43mkwargs\u001b[49m\u001b[43m)\u001b[49m\n",
      "File \u001b[0;32m/usr/local/lib/python3.11/site-packages/plotly/io/_kaleido.py:266\u001b[0m, in \u001b[0;36mwrite_image\u001b[0;34m(fig, file, format, scale, width, height, validate, engine)\u001b[0m\n\u001b[1;32m    263\u001b[0m \u001b[38;5;66;03m# Request image\u001b[39;00m\n\u001b[1;32m    264\u001b[0m \u001b[38;5;66;03m# -------------\u001b[39;00m\n\u001b[1;32m    265\u001b[0m \u001b[38;5;66;03m# Do this first so we don't create a file if image conversion fails\u001b[39;00m\n\u001b[0;32m--> 266\u001b[0m img_data \u001b[38;5;241m=\u001b[39m \u001b[43mto_image\u001b[49m\u001b[43m(\u001b[49m\n\u001b[1;32m    267\u001b[0m \u001b[43m    \u001b[49m\u001b[43mfig\u001b[49m\u001b[43m,\u001b[49m\n\u001b[1;32m    268\u001b[0m \u001b[43m    \u001b[49m\u001b[38;5;28;43mformat\u001b[39;49m\u001b[38;5;241;43m=\u001b[39;49m\u001b[38;5;28;43mformat\u001b[39;49m\u001b[43m,\u001b[49m\n\u001b[1;32m    269\u001b[0m \u001b[43m    \u001b[49m\u001b[43mscale\u001b[49m\u001b[38;5;241;43m=\u001b[39;49m\u001b[43mscale\u001b[49m\u001b[43m,\u001b[49m\n\u001b[1;32m    270\u001b[0m \u001b[43m    \u001b[49m\u001b[43mwidth\u001b[49m\u001b[38;5;241;43m=\u001b[39;49m\u001b[43mwidth\u001b[49m\u001b[43m,\u001b[49m\n\u001b[1;32m    271\u001b[0m \u001b[43m    \u001b[49m\u001b[43mheight\u001b[49m\u001b[38;5;241;43m=\u001b[39;49m\u001b[43mheight\u001b[49m\u001b[43m,\u001b[49m\n\u001b[1;32m    272\u001b[0m \u001b[43m    \u001b[49m\u001b[43mvalidate\u001b[49m\u001b[38;5;241;43m=\u001b[39;49m\u001b[43mvalidate\u001b[49m\u001b[43m,\u001b[49m\n\u001b[1;32m    273\u001b[0m \u001b[43m    \u001b[49m\u001b[43mengine\u001b[49m\u001b[38;5;241;43m=\u001b[39;49m\u001b[43mengine\u001b[49m\u001b[43m,\u001b[49m\n\u001b[1;32m    274\u001b[0m \u001b[43m\u001b[49m\u001b[43m)\u001b[49m\n\u001b[1;32m    276\u001b[0m \u001b[38;5;66;03m# Open file\u001b[39;00m\n\u001b[1;32m    277\u001b[0m \u001b[38;5;66;03m# ---------\u001b[39;00m\n",
      "File \u001b[0;32m/usr/local/lib/python3.11/site-packages/plotly/io/_kaleido.py:132\u001b[0m, in \u001b[0;36mto_image\u001b[0;34m(fig, format, width, height, scale, validate, engine)\u001b[0m\n\u001b[1;32m    131\u001b[0m     \u001b[38;5;28;01mif\u001b[39;00m scope \u001b[38;5;129;01mis\u001b[39;00m \u001b[38;5;28;01mNone\u001b[39;00m:\n\u001b[0;32m--> 132\u001b[0m         \u001b[38;5;28;01mraise\u001b[39;00m \u001b[38;5;167;01mValueError\u001b[39;00m(\n\u001b[1;32m    133\u001b[0m \u001b[38;5;250m            \u001b[39m\u001b[38;5;124;03m\"\"\"\u001b[39;00m\n\u001b[1;32m    134\u001b[0m \u001b[38;5;124;03mImage export using the \"kaleido\" engine requires the kaleido package,\u001b[39;00m\n\u001b[1;32m    135\u001b[0m \u001b[38;5;124;03mwhich can be installed using pip:\u001b[39;00m\n\u001b[1;32m    136\u001b[0m \u001b[38;5;124;03m    $ pip install -U kaleido\u001b[39;00m\n\u001b[1;32m    137\u001b[0m \u001b[38;5;124;03m\"\"\"\u001b[39;00m\n\u001b[1;32m    138\u001b[0m         )\n\u001b[1;32m    140\u001b[0m     \u001b[38;5;66;03m# Validate figure\u001b[39;00m\n\u001b[1;32m    141\u001b[0m     \u001b[38;5;66;03m# ---------------\u001b[39;00m\n",
      "\u001b[0;31mValueError\u001b[0m: \nImage export using the \"kaleido\" engine requires the kaleido package,\nwhich can be installed using pip:\n    $ pip install -U kaleido\n",
      "\nDuring handling of the above exception, another exception occurred:\n",
      "\u001b[0;31mSystemExit\u001b[0m                                Traceback (most recent call last)",
      "    \u001b[0;31m[... skipping hidden 1 frame]\u001b[0m\n",
      "File \u001b[0;32m/tmp/metatlas.ety4nerKCN/metatlas/tools/logging.py:149\u001b[0m, in \u001b[0;36m_change_function.<locals>.showtraceback\u001b[0;34m(*args, **kwargs)\u001b[0m\n\u001b[1;32m    147\u001b[0m \u001b[38;5;28;01mif\u001b[39;00m \u001b[38;5;28missubclass\u001b[39m(exc_type, \u001b[38;5;167;01mException\u001b[39;00m):\n\u001b[1;32m    148\u001b[0m     logger\u001b[38;5;241m.\u001b[39mcritical(\u001b[38;5;124m\"\u001b[39m\u001b[38;5;124mUncaught exception\u001b[39m\u001b[38;5;124m\"\u001b[39m, exc_info\u001b[38;5;241m=\u001b[39m(exc_type, exc_value, exc_traceback))\n\u001b[0;32m--> 149\u001b[0m     sys\u001b[38;5;241m.\u001b[39mexit(\u001b[38;5;241m128\u001b[39m)\n\u001b[1;32m    150\u001b[0m \u001b[38;5;28;01melse\u001b[39;00m:\n\u001b[1;32m    151\u001b[0m     \u001b[38;5;66;03m# otherwise run the original hook\u001b[39;00m\n\u001b[1;32m    152\u001b[0m     value \u001b[38;5;241m=\u001b[39m func(\u001b[38;5;241m*\u001b[39margs, \u001b[38;5;241m*\u001b[39m\u001b[38;5;241m*\u001b[39mkwargs)\n",
      "\u001b[0;31mSystemExit\u001b[0m: 128"
     ]
    }
   ],
   "source": [
    "if config[\"selected_data_from_cache\"] is False:\n",
    "    sta.handle_data(mode=\"save\", config=config, timestamp=timestamp, file_suffix=\"selected\", \\\n",
    "                    data=(selected_adducts_dict, ambiguous_adducts_dict, top_adducts_dict, processed_data))\n",
    "    sta.generate_static_summary_plots(processed_data, selected_adducts_dict, top_adducts_dict, config) # Save summary plots of selected compounds+adducts after completing GUI\n",
    "\n",
    "elif config[\"selected_data_from_cache\"] is True:\n",
    "    selected_adducts_dict, ambiguous_adducts_dict, top_adducts_dict, processed_data = sta.handle_data(mode=\"load\", config=config, file_suffix=\"selected\")"
   ]
  },
  {
   "cell_type": "markdown",
   "metadata": {},
   "source": [
    "# Filter RT Peak, EICs, and Top Spectra by the selected compounds+adducts"
   ]
  },
  {
   "cell_type": "code",
   "execution_count": 58,
   "metadata": {},
   "outputs": [
    {
     "name": "stdout",
     "output_type": "stream",
     "text": [
      "\n",
      "Total unique compounds selected: 1\n",
      "Total unique compound+adduct entries selected: 6\n",
      "\n",
      "Total EICs selected: 6\n",
      "Total RT peaks selected: 2\n",
      "Total MS2 spectra selected: 2\n",
      "Saving data to: /global/homes/b/bkieft/metatlas_junkdrawer/example_data/schellermetasci/cache/20250506190611_ref_stds_filtered.pkl\n"
     ]
    }
   ],
   "source": [
    "if config[\"filtered_data_from_cache\"] is False:\n",
    "    eics_filtered, rt_peaks_filtered, top_spectra_filtered = sta.filter_by_selected(eics_full, rt_peaks_full, top_spectra_full, selected_adducts_dict, top_adducts_dict) \n",
    "    sta.handle_data(mode=\"save\", config=config, timestamp=timestamp, file_suffix=\"filtered\", \\\n",
    "                    data=(eics_filtered, top_spectra_filtered, rt_peaks_filtered))\n",
    "\n",
    "elif config[\"filtered_data_from_cache\"] is True:\n",
    "    eics_filtered, top_spectra_filtered, rt_peaks_filtered = sta.handle_data(mode=\"load\", config=config, file_suffix=\"filtered\")\n",
    "    print(f\"\\nTotal unique compounds selected: {eics_filtered['compound_name'].nunique()}\")\n",
    "    print(f\"Total unique compound+adduct entries selected: {eics_filtered['label'].nunique()}\\n\")\n",
    "    print(f\"Total EICs selected: {eics_filtered.shape[0]}\")\n",
    "    print(f\"Total RT peaks selected: {rt_peaks_filtered.shape[0]}\")\n",
    "    print(f\"Total MS2 spectra selected: {top_spectra_filtered.shape[0]}\")"
   ]
  },
  {
   "cell_type": "markdown",
   "metadata": {},
   "source": [
    "# Identify compounds not in the metatlas database Compounds table and store if necessary"
   ]
  },
  {
   "cell_type": "code",
   "execution_count": 59,
   "metadata": {},
   "outputs": [
    {
     "name": "stdout",
     "output_type": "stream",
     "text": [
      "\n",
      "Working on dataset: top\n",
      "\tChecking for differing RTs between CEs and polarities, which are unexpected...\n",
      "\t\tGroup ('HILICZ', 'sorgoleone'): All RT values for ['102040norm'] and ['POS'] are within 0.05 mins of each other (0.0).\n",
      "\n",
      "\tGrouping by monoisotopic_mass and identify isomers in the datasets...\n",
      "\t\tNo isomers found in top data.\n",
      "\n",
      "\tSelecting best collision energy row by intensity for the top adduct(s) per compound...\n",
      "\t\tSelected 1 row and removed 0 row(s) for ('HILICZ', 'POS', 'sorgoleone', '[M+H]+').\n",
      "\t\tSelected 1 row and removed 0 row(s) for ('HILICZ', 'POS', 'sorgoleone', '[M+NH4]+').\n",
      "\n",
      "Working on dataset: all\n",
      "\tChecking for differing RTs between CEs and polarities, which are unexpected...\n",
      "\t\tGroup ('HILICZ', 'sorgoleone'): All RT values for ['102040norm'] and ['POS'] are within 0.05 mins of each other (0.0).\n",
      "\n",
      "\tGrouping by monoisotopic_mass and identify isomers in the datasets...\n",
      "\t\tNo isomers found in all data.\n",
      "\n",
      "'All' peaks dataset (for MSMS refs): 2 total compound peaks.\n",
      "'Top' peaks dataset (for EMA atlases): 2 best compound peaks.\n",
      "\n"
     ]
    },
    {
     "data": {
      "application/vnd.jupyter.widget-view+json": {
       "model_id": "3a5c524f81184fc69e77a479d7b16774",
       "version_major": 2,
       "version_minor": 0
      },
      "text/plain": [
       " Searching for matches in metatlas db:   0%|          | 0/2 [00:00<?, ? compound/s]"
      ]
     },
     "metadata": {},
     "output_type": "display_data"
    },
    {
     "name": "stdout",
     "output_type": "stream",
     "text": [
      "\n",
      "Summary of compounds already in the metatlas database:\n",
      "\n"
     ]
    },
    {
     "data": {
      "text/html": [
       "<div>\n",
       "<style scoped>\n",
       "    .dataframe tbody tr th:only-of-type {\n",
       "        vertical-align: middle;\n",
       "    }\n",
       "\n",
       "    .dataframe tbody tr th {\n",
       "        vertical-align: top;\n",
       "    }\n",
       "\n",
       "    .dataframe thead th {\n",
       "        text-align: right;\n",
       "    }\n",
       "</style>\n",
       "<table border=\"1\" class=\"dataframe\">\n",
       "  <thead>\n",
       "    <tr style=\"text-align: right;\">\n",
       "      <th></th>\n",
       "      <th>query_label</th>\n",
       "      <th>query_matching_criterion</th>\n",
       "      <th>query_to_db</th>\n",
       "      <th>db_match</th>\n",
       "    </tr>\n",
       "  </thead>\n",
       "  <tbody>\n",
       "    <tr>\n",
       "      <th>0</th>\n",
       "      <td>sorgoleone</td>\n",
       "      <td>inchi_key</td>\n",
       "      <td>FGWRUVXUQWGLOX-AFJQJTPPSA-N</td>\n",
       "      <td>[FGWRUVXUQWGLOX-AFJQJTPPSA-N]</td>\n",
       "    </tr>\n",
       "  </tbody>\n",
       "</table>\n",
       "</div>"
      ],
      "text/plain": [
       "  query_label query_matching_criterion                  query_to_db  \\\n",
       "0  sorgoleone                inchi_key  FGWRUVXUQWGLOX-AFJQJTPPSA-N   \n",
       "\n",
       "                        db_match  \n",
       "0  [FGWRUVXUQWGLOX-AFJQJTPPSA-N]  "
      ]
     },
     "metadata": {},
     "output_type": "display_data"
    },
    {
     "name": "stdout",
     "output_type": "stream",
     "text": [
      "\n",
      "All compounds are already in the metatlas database.\n",
      "\n",
      "All new entries found in the database.\n",
      "\n",
      "Saving data to: /global/homes/b/bkieft/metatlas_junkdrawer/example_data/schellermetasci/cache/20250506190611_ref_stds_metatlas_db.pkl\n"
     ]
    }
   ],
   "source": [
    "if config['metatlas_db_data_from_cache'] is False:\n",
    "    rt_peaks_filtered_all_selected, rt_peaks_filtered_top_selected = sta.format_and_select_top_adducts(rt_peaks_filtered, top_adducts_dict) # Export \"all\" for MSMS refs and \"top\" for EMA atlases\n",
    "    in_db, notin_db = sta.search_for_matches_in_metatlas_db(rt_peaks_filtered_all_selected, check_by_flat=True) # Check if selected compounds are in metatlas DB\n",
    "    if len(notin_db) > 0 and config['direct_store_to_compounds_table'] is True: # Store selected compounds+adducts in metatlas db\n",
    "        sta.store_in_metatlas_db(notin_db)\n",
    "    sta.check_db_deposit(rt_peaks_filtered_top_selected)\n",
    "    sta.handle_data(mode=\"save\", config=config, timestamp=timestamp, file_suffix=\"metatlas_db\", \\\n",
    "                    data=(in_db, notin_db, rt_peaks_filtered_all_selected, rt_peaks_filtered_top_selected))\n",
    "\n",
    "elif config['metatlas_db_data_from_cache'] is True:\n",
    "    in_db, notin_db, rt_peaks_filtered_all_selected, rt_peaks_filtered_top_selected = sta.handle_data(mode=\"load\", config=config, file_suffix=\"metatlas_db\")\n",
    "    print(f\"\\n'All' peaks dataset (for MSMS refs): {rt_peaks_filtered_all_selected.shape[0]} total compound peaks.\")\n",
    "    print(f\"'Top' peaks dataset (for EMA atlases): {rt_peaks_filtered_top_selected.shape[0]} best compound peaks.\\n\")"
   ]
  },
  {
   "cell_type": "markdown",
   "metadata": {},
   "source": [
    "# Identify compounds+adducts not in atlases and set up new atlas creation"
   ]
  },
  {
   "cell_type": "code",
   "execution_count": 60,
   "metadata": {},
   "outputs": [
    {
     "data": {
      "application/vnd.jupyter.widget-view+json": {
       "model_id": "bb3dcafcd1f74e3cb8e703c77b2b6a91",
       "version_major": 2,
       "version_minor": 0
      },
      "text/plain": [
       " Searching in HILICZ positive atlas:   0%|          | 0/2 [00:00<?, ? compound/s]"
      ]
     },
     "metadata": {},
     "output_type": "display_data"
    },
    {
     "data": {
      "application/vnd.jupyter.widget-view+json": {
       "model_id": "c24cf55cfdf046ed9e2487ef58824836",
       "version_major": 2,
       "version_minor": 0
      },
      "text/plain": [
       " Searching in HILICZ negative atlas: 0 compound [00:00, ? compound/s]"
      ]
     },
     "metadata": {},
     "output_type": "display_data"
    },
    {
     "data": {
      "application/vnd.jupyter.widget-view+json": {
       "model_id": "1a891dadec3f48e381619bd1d3be90b8",
       "version_major": 2,
       "version_minor": 0
      },
      "text/plain": [
       " Searching in C18 positive atlas: 0 compound [00:00, ? compound/s]"
      ]
     },
     "metadata": {},
     "output_type": "display_data"
    },
    {
     "data": {
      "application/vnd.jupyter.widget-view+json": {
       "model_id": "b5b28072fd5844c88fc8652ff5cb94bb",
       "version_major": 2,
       "version_minor": 0
      },
      "text/plain": [
       " Searching in C18 negative atlas: 0 compound [00:00, ? compound/s]"
      ]
     },
     "metadata": {},
     "output_type": "display_data"
    },
    {
     "name": "stdout",
     "output_type": "stream",
     "text": [
      "\n",
      "None of the compounds+adducts searched were found in the atlases.\n",
      "\n",
      "There are 2 compounds+adducts are not yet in any atlases. View with 'nonmatches_to_atlases'.\n",
      "\n",
      "Setting up RT correction for compounds not yet in atlases using baseline correction method:\n",
      "\n",
      "\tGetting all QC files for project /global/cfs/cdirs/metatlas/raw_data/jgi/20241002_JGI_HS_510060_SorghExu_final1_EXP120B_HILICZ_USHXG02558\n",
      "\n",
      "\tRetrieving baseline HILICZ QC atlas: /global/homes/b/bkieft/metatlas-data/HILIC/HILIC_QCv7_positive.tsv\n",
      "\n",
      "\tCollecting QC MS1 data for HILICZ...\n",
      "\n"
     ]
    },
    {
     "data": {
      "application/vnd.jupyter.widget-view+json": {
       "model_id": "89e44eb70771466d85462319fbf77579",
       "version_major": 2,
       "version_minor": 0
      },
      "text/plain": [
       " Collecting MS1 data for QC compounds:   0%|          | 0/52 [00:00<?, ? file/s]"
      ]
     },
     "metadata": {},
     "output_type": "display_data"
    },
    {
     "name": "stdout",
     "output_type": "stream",
     "text": [
      "\tPerforming RT correction...\n",
      "\n"
     ]
    },
    {
     "data": {
      "application/vnd.jupyter.widget-view+json": {
       "model_id": "0d968425ebd046baa9555d2021f0b5c3",
       "version_major": 2,
       "version_minor": 0
      },
      "text/plain": [
       "Calculating RT correction model:   0%|          | 0/1 [00:00<?, ? chromatography/s]"
      ]
     },
     "metadata": {},
     "output_type": "display_data"
    },
    {
     "name": "stdout",
     "output_type": "stream",
     "text": [
      "\tHILICZ RT correction results:\n"
     ]
    },
    {
     "data": {
      "text/html": [
       "<div>\n",
       "<style scoped>\n",
       "    .dataframe tbody tr th:only-of-type {\n",
       "        vertical-align: middle;\n",
       "    }\n",
       "\n",
       "    .dataframe tbody tr th {\n",
       "        vertical-align: top;\n",
       "    }\n",
       "\n",
       "    .dataframe thead th {\n",
       "        text-align: right;\n",
       "    }\n",
       "</style>\n",
       "<table border=\"1\" class=\"dataframe\">\n",
       "  <thead>\n",
       "    <tr style=\"text-align: right;\">\n",
       "      <th></th>\n",
       "      <th>label</th>\n",
       "      <th>adduct</th>\n",
       "      <th>polarity</th>\n",
       "      <th>rt_peak_baseline</th>\n",
       "      <th>rt_peak_experimental</th>\n",
       "      <th>rt_peak_corrected</th>\n",
       "      <th>rt_min_corrected</th>\n",
       "      <th>rt_max_corrected</th>\n",
       "      <th>rt_diff_experimental_vs_corrected</th>\n",
       "    </tr>\n",
       "  </thead>\n",
       "  <tbody>\n",
       "    <tr>\n",
       "      <th>0</th>\n",
       "      <td>sorgoleone</td>\n",
       "      <td>[M+H]+</td>\n",
       "      <td>positive</td>\n",
       "      <td>NaN</td>\n",
       "      <td>0.801184</td>\n",
       "      <td>0.645454</td>\n",
       "      <td>0.145454</td>\n",
       "      <td>1.145454</td>\n",
       "      <td>0.15573</td>\n",
       "    </tr>\n",
       "    <tr>\n",
       "      <th>1</th>\n",
       "      <td>sorgoleone</td>\n",
       "      <td>[M+NH4]+</td>\n",
       "      <td>positive</td>\n",
       "      <td>NaN</td>\n",
       "      <td>0.801184</td>\n",
       "      <td>0.645454</td>\n",
       "      <td>0.145454</td>\n",
       "      <td>1.145454</td>\n",
       "      <td>0.15573</td>\n",
       "    </tr>\n",
       "    <tr>\n",
       "      <th>2</th>\n",
       "      <td>ABMBA (unlabeled)</td>\n",
       "      <td>NaN</td>\n",
       "      <td>QC</td>\n",
       "      <td>1.093806</td>\n",
       "      <td>1.21834</td>\n",
       "      <td>1.096205</td>\n",
       "      <td>0.596205</td>\n",
       "      <td>1.596205</td>\n",
       "      <td>0.122135</td>\n",
       "    </tr>\n",
       "    <tr>\n",
       "      <th>3</th>\n",
       "      <td>N-acetyl-glucosamine (U - 13C)</td>\n",
       "      <td>NaN</td>\n",
       "      <td>QC</td>\n",
       "      <td>6.707815</td>\n",
       "      <td>6.418233</td>\n",
       "      <td>6.580829</td>\n",
       "      <td>6.080829</td>\n",
       "      <td>7.080829</td>\n",
       "      <td>-0.162596</td>\n",
       "    </tr>\n",
       "    <tr>\n",
       "      <th>4</th>\n",
       "      <td>adenine (U - 15N)</td>\n",
       "      <td>NaN</td>\n",
       "      <td>QC</td>\n",
       "      <td>2.677602</td>\n",
       "      <td>2.834389</td>\n",
       "      <td>2.827321</td>\n",
       "      <td>2.327321</td>\n",
       "      <td>3.327321</td>\n",
       "      <td>0.007068</td>\n",
       "    </tr>\n",
       "    <tr>\n",
       "      <th>5</th>\n",
       "      <td>alanine (U - 13C, 15N)</td>\n",
       "      <td>NaN</td>\n",
       "      <td>QC</td>\n",
       "      <td>13.405091</td>\n",
       "      <td>13.240681</td>\n",
       "      <td>13.400469</td>\n",
       "      <td>12.900469</td>\n",
       "      <td>13.900469</td>\n",
       "      <td>-0.159788</td>\n",
       "    </tr>\n",
       "    <tr>\n",
       "      <th>6</th>\n",
       "      <td>arginine (U - 13C, 15N)</td>\n",
       "      <td>NaN</td>\n",
       "      <td>QC</td>\n",
       "      <td>16.939915</td>\n",
       "      <td>17.013107</td>\n",
       "      <td>16.987934</td>\n",
       "      <td>16.487934</td>\n",
       "      <td>17.487934</td>\n",
       "      <td>0.025173</td>\n",
       "    </tr>\n",
       "    <tr>\n",
       "      <th>7</th>\n",
       "      <td>asparagine (U - 13C, 15N)</td>\n",
       "      <td>NaN</td>\n",
       "      <td>QC</td>\n",
       "      <td>14.368089</td>\n",
       "      <td>14.252848</td>\n",
       "      <td>14.375830</td>\n",
       "      <td>13.875830</td>\n",
       "      <td>14.875830</td>\n",
       "      <td>-0.122982</td>\n",
       "    </tr>\n",
       "    <tr>\n",
       "      <th>8</th>\n",
       "      <td>aspartic acid (U - 13C, 15N)</td>\n",
       "      <td>NaN</td>\n",
       "      <td>QC</td>\n",
       "      <td>16.130360</td>\n",
       "      <td>16.043652</td>\n",
       "      <td>16.078480</td>\n",
       "      <td>15.578480</td>\n",
       "      <td>16.578480</td>\n",
       "      <td>-0.034828</td>\n",
       "    </tr>\n",
       "    <tr>\n",
       "      <th>9</th>\n",
       "      <td>cystine (U - 13C, 15N)</td>\n",
       "      <td>NaN</td>\n",
       "      <td>QC</td>\n",
       "      <td>16.904308</td>\n",
       "      <td>16.930342</td>\n",
       "      <td>16.910628</td>\n",
       "      <td>16.410628</td>\n",
       "      <td>17.410628</td>\n",
       "      <td>0.019714</td>\n",
       "    </tr>\n",
       "    <tr>\n",
       "      <th>10</th>\n",
       "      <td>glutamic acid (U - 13C, 15N)</td>\n",
       "      <td>NaN</td>\n",
       "      <td>QC</td>\n",
       "      <td>15.935390</td>\n",
       "      <td>15.834127</td>\n",
       "      <td>15.880790</td>\n",
       "      <td>15.380790</td>\n",
       "      <td>16.380790</td>\n",
       "      <td>-0.046663</td>\n",
       "    </tr>\n",
       "    <tr>\n",
       "      <th>11</th>\n",
       "      <td>guanine (U - 15N)</td>\n",
       "      <td>NaN</td>\n",
       "      <td>QC</td>\n",
       "      <td>6.265360</td>\n",
       "      <td>6.133224</td>\n",
       "      <td>6.286641</td>\n",
       "      <td>5.786641</td>\n",
       "      <td>6.786641</td>\n",
       "      <td>-0.153417</td>\n",
       "    </tr>\n",
       "    <tr>\n",
       "      <th>12</th>\n",
       "      <td>hypoxanthine (U - 15N)</td>\n",
       "      <td>NaN</td>\n",
       "      <td>QC</td>\n",
       "      <td>3.102967</td>\n",
       "      <td>3.127001</td>\n",
       "      <td>3.138205</td>\n",
       "      <td>2.638205</td>\n",
       "      <td>3.638205</td>\n",
       "      <td>-0.011204</td>\n",
       "    </tr>\n",
       "    <tr>\n",
       "      <th>13</th>\n",
       "      <td>inosine (U - 15N)</td>\n",
       "      <td>NaN</td>\n",
       "      <td>QC</td>\n",
       "      <td>5.434236</td>\n",
       "      <td>5.173415</td>\n",
       "      <td>5.290440</td>\n",
       "      <td>4.790440</td>\n",
       "      <td>5.790440</td>\n",
       "      <td>-0.117025</td>\n",
       "    </tr>\n",
       "    <tr>\n",
       "      <th>14</th>\n",
       "      <td>lysine (U - 13C, 15N)</td>\n",
       "      <td>NaN</td>\n",
       "      <td>QC</td>\n",
       "      <td>17.011310</td>\n",
       "      <td>17.090218</td>\n",
       "      <td>17.059901</td>\n",
       "      <td>16.559901</td>\n",
       "      <td>17.559901</td>\n",
       "      <td>0.030316</td>\n",
       "    </tr>\n",
       "    <tr>\n",
       "      <th>15</th>\n",
       "      <td>methionine (U - 13C, 15N)</td>\n",
       "      <td>NaN</td>\n",
       "      <td>QC</td>\n",
       "      <td>10.440955</td>\n",
       "      <td>10.258733</td>\n",
       "      <td>10.472300</td>\n",
       "      <td>9.972300</td>\n",
       "      <td>10.972300</td>\n",
       "      <td>-0.213567</td>\n",
       "    </tr>\n",
       "    <tr>\n",
       "      <th>16</th>\n",
       "      <td>phenylalanine (U - 13C, 15N)</td>\n",
       "      <td>NaN</td>\n",
       "      <td>QC</td>\n",
       "      <td>8.979306</td>\n",
       "      <td>8.996424</td>\n",
       "      <td>9.208172</td>\n",
       "      <td>8.708172</td>\n",
       "      <td>9.708172</td>\n",
       "      <td>-0.211748</td>\n",
       "    </tr>\n",
       "    <tr>\n",
       "      <th>17</th>\n",
       "      <td>threonine (U - 13C, 15N)</td>\n",
       "      <td>NaN</td>\n",
       "      <td>QC</td>\n",
       "      <td>13.489572</td>\n",
       "      <td>13.292386</td>\n",
       "      <td>13.450522</td>\n",
       "      <td>12.950522</td>\n",
       "      <td>13.950522</td>\n",
       "      <td>-0.158136</td>\n",
       "    </tr>\n",
       "    <tr>\n",
       "      <th>18</th>\n",
       "      <td>thymine (U - 13C, 15N)</td>\n",
       "      <td>NaN</td>\n",
       "      <td>QC</td>\n",
       "      <td>1.255231</td>\n",
       "      <td>1.293718</td>\n",
       "      <td>1.177483</td>\n",
       "      <td>0.677483</td>\n",
       "      <td>1.677483</td>\n",
       "      <td>0.116235</td>\n",
       "    </tr>\n",
       "    <tr>\n",
       "      <th>19</th>\n",
       "      <td>tryptophan (U - 13C, 15N)</td>\n",
       "      <td>NaN</td>\n",
       "      <td>QC</td>\n",
       "      <td>10.156649</td>\n",
       "      <td>9.98646</td>\n",
       "      <td>10.200872</td>\n",
       "      <td>9.700872</td>\n",
       "      <td>10.700872</td>\n",
       "      <td>-0.214412</td>\n",
       "    </tr>\n",
       "    <tr>\n",
       "      <th>20</th>\n",
       "      <td>tyrosine (U - 13C, 15N)</td>\n",
       "      <td>NaN</td>\n",
       "      <td>QC</td>\n",
       "      <td>11.855156</td>\n",
       "      <td>11.571081</td>\n",
       "      <td>11.771035</td>\n",
       "      <td>11.271035</td>\n",
       "      <td>12.271035</td>\n",
       "      <td>-0.199954</td>\n",
       "    </tr>\n",
       "    <tr>\n",
       "      <th>21</th>\n",
       "      <td>valine (U - 13C, 15N)</td>\n",
       "      <td>NaN</td>\n",
       "      <td>QC</td>\n",
       "      <td>11.116009</td>\n",
       "      <td>10.86584</td>\n",
       "      <td>11.075074</td>\n",
       "      <td>10.575074</td>\n",
       "      <td>11.575074</td>\n",
       "      <td>-0.209234</td>\n",
       "    </tr>\n",
       "  </tbody>\n",
       "</table>\n",
       "</div>"
      ],
      "text/plain": [
       "                             label    adduct  polarity  rt_peak_baseline  \\\n",
       "0                       sorgoleone    [M+H]+  positive               NaN   \n",
       "1                       sorgoleone  [M+NH4]+  positive               NaN   \n",
       "2                ABMBA (unlabeled)       NaN        QC          1.093806   \n",
       "3   N-acetyl-glucosamine (U - 13C)       NaN        QC          6.707815   \n",
       "4                adenine (U - 15N)       NaN        QC          2.677602   \n",
       "5           alanine (U - 13C, 15N)       NaN        QC         13.405091   \n",
       "6          arginine (U - 13C, 15N)       NaN        QC         16.939915   \n",
       "7        asparagine (U - 13C, 15N)       NaN        QC         14.368089   \n",
       "8     aspartic acid (U - 13C, 15N)       NaN        QC         16.130360   \n",
       "9           cystine (U - 13C, 15N)       NaN        QC         16.904308   \n",
       "10    glutamic acid (U - 13C, 15N)       NaN        QC         15.935390   \n",
       "11               guanine (U - 15N)       NaN        QC          6.265360   \n",
       "12          hypoxanthine (U - 15N)       NaN        QC          3.102967   \n",
       "13               inosine (U - 15N)       NaN        QC          5.434236   \n",
       "14           lysine (U - 13C, 15N)       NaN        QC         17.011310   \n",
       "15       methionine (U - 13C, 15N)       NaN        QC         10.440955   \n",
       "16    phenylalanine (U - 13C, 15N)       NaN        QC          8.979306   \n",
       "17        threonine (U - 13C, 15N)       NaN        QC         13.489572   \n",
       "18          thymine (U - 13C, 15N)       NaN        QC          1.255231   \n",
       "19       tryptophan (U - 13C, 15N)       NaN        QC         10.156649   \n",
       "20         tyrosine (U - 13C, 15N)       NaN        QC         11.855156   \n",
       "21           valine (U - 13C, 15N)       NaN        QC         11.116009   \n",
       "\n",
       "   rt_peak_experimental  rt_peak_corrected  rt_min_corrected  \\\n",
       "0              0.801184           0.645454          0.145454   \n",
       "1              0.801184           0.645454          0.145454   \n",
       "2               1.21834           1.096205          0.596205   \n",
       "3              6.418233           6.580829          6.080829   \n",
       "4              2.834389           2.827321          2.327321   \n",
       "5             13.240681          13.400469         12.900469   \n",
       "6             17.013107          16.987934         16.487934   \n",
       "7             14.252848          14.375830         13.875830   \n",
       "8             16.043652          16.078480         15.578480   \n",
       "9             16.930342          16.910628         16.410628   \n",
       "10            15.834127          15.880790         15.380790   \n",
       "11             6.133224           6.286641          5.786641   \n",
       "12             3.127001           3.138205          2.638205   \n",
       "13             5.173415           5.290440          4.790440   \n",
       "14            17.090218          17.059901         16.559901   \n",
       "15            10.258733          10.472300          9.972300   \n",
       "16             8.996424           9.208172          8.708172   \n",
       "17            13.292386          13.450522         12.950522   \n",
       "18             1.293718           1.177483          0.677483   \n",
       "19              9.98646          10.200872          9.700872   \n",
       "20            11.571081          11.771035         11.271035   \n",
       "21             10.86584          11.075074         10.575074   \n",
       "\n",
       "    rt_max_corrected rt_diff_experimental_vs_corrected  \n",
       "0           1.145454                           0.15573  \n",
       "1           1.145454                           0.15573  \n",
       "2           1.596205                          0.122135  \n",
       "3           7.080829                         -0.162596  \n",
       "4           3.327321                          0.007068  \n",
       "5          13.900469                         -0.159788  \n",
       "6          17.487934                          0.025173  \n",
       "7          14.875830                         -0.122982  \n",
       "8          16.578480                         -0.034828  \n",
       "9          17.410628                          0.019714  \n",
       "10         16.380790                         -0.046663  \n",
       "11          6.786641                         -0.153417  \n",
       "12          3.638205                         -0.011204  \n",
       "13          5.790440                         -0.117025  \n",
       "14         17.559901                          0.030316  \n",
       "15         10.972300                         -0.213567  \n",
       "16          9.708172                         -0.211748  \n",
       "17         13.950522                         -0.158136  \n",
       "18          1.677483                          0.116235  \n",
       "19         10.700872                         -0.214412  \n",
       "20         12.271035                         -0.199954  \n",
       "21         11.575074                         -0.209234  "
      ]
     },
     "metadata": {},
     "output_type": "display_data"
    },
    {
     "name": "stdout",
     "output_type": "stream",
     "text": [
      "Saving data to: /global/homes/b/bkieft/metatlas_junkdrawer/example_data/schellermetasci/cache/20250506190611_ref_stds_rt_correction.pkl\n",
      "Formatted 2 RT-corrected compounds for insertion into HILICZ atlases.\n",
      "Saving data to: /global/homes/b/bkieft/metatlas_junkdrawer/example_data/schellermetasci/cache/20250506190611_ref_stds_ema_atlases.pkl\n"
     ]
    },
    {
     "name": "stderr",
     "output_type": "stream",
     "text": [
      "/tmp/metatlas.ety4nerKCN/notebooks/standards_library/standard_annotation.py:1976: FutureWarning:\n",
      "\n",
      "The behavior of array concatenation with empty entries is deprecated. In a future version, this will no longer exclude empty items when determining the result dtype. To retain the old behavior, exclude the empty entries before the concat operation.\n",
      "\n",
      "/tmp/metatlas.ety4nerKCN/notebooks/standards_library/standard_annotation.py:1977: FutureWarning:\n",
      "\n",
      "The behavior of array concatenation with empty entries is deprecated. In a future version, this will no longer exclude empty items when determining the result dtype. To retain the old behavior, exclude the empty entries before the concat operation.\n",
      "\n",
      "/tmp/metatlas.ety4nerKCN/notebooks/standards_library/standard_annotation.py:1978: FutureWarning:\n",
      "\n",
      "The behavior of array concatenation with empty entries is deprecated. In a future version, this will no longer exclude empty items when determining the result dtype. To retain the old behavior, exclude the empty entries before the concat operation.\n",
      "\n"
     ]
    }
   ],
   "source": [
    "if config[\"ema_atlas_data_from_cache\"] is False:\n",
    "    ema_atlases_data = sta.get_ema_atlas_data(config[\"current_ema_atlases\"])\n",
    "    rt_peaks_filtered_top_selected_formatted = sta.convert_rt_peaks_to_atlas_format(rt_peaks_filtered_top_selected)\n",
    "    matches_to_atlases, nonmatches_to_atlases = sta.search_for_matches_in_atlases(rt_peaks_filtered_top_selected_formatted, ema_atlases_data)\n",
    "\n",
    "    if config[\"rt_correction_data_from_cache\"] is False:\n",
    "        print(\"Setting up RT correction for compounds not yet in atlases using baseline correction method:\\n\")\n",
    "        baseline_qc, experimental_qc, baseline_to_experimental_qc = sta.get_qc_experimental_atlas(nonmatches_to_atlases, config[\"current_qc_atlases\"], include_istds=True)\n",
    "        baseline_correction_inputs = sta.create_baseline_correction_input(nonmatches_to_atlases, baseline_to_experimental_qc)\n",
    "        baseline_correction_outputs = sta.rt_correction_from_baseline(baseline_correction_inputs, config)\n",
    "        sta.handle_data(mode=\"save\", config=config, timestamp=timestamp, file_suffix=\"rt_correction\", \\\n",
    "                        data=(baseline_to_experimental_qc, baseline_correction_outputs))\n",
    "\n",
    "    elif config[\"rt_correction_data_from_cache\"] is True:\n",
    "        baseline_to_experimental_qc, baseline_correction_outputs = sta.handle_data(mode=\"load\",config=config, file_suffix=\"rt_correction\")\n",
    "\n",
    "    nonmatches_to_atlases_rt_corrected = sta.substitute_corrected_rt_values(nonmatches_to_atlases, baseline_correction_outputs)\n",
    "    sta.handle_data(mode=\"save\", config=config, timestamp=timestamp, file_suffix=\"ema_atlases\", \\\n",
    "                    data=(nonmatches_to_atlases_rt_corrected, ema_atlases_data, baseline_to_experimental_qc, baseline_correction_outputs))\n",
    "\n",
    "elif config[\"ema_atlas_data_from_cache\"] is True:\n",
    "    nonmatches_to_atlases_rt_corrected, ema_atlases_data, baseline_to_experimental_qc, baseline_correction_outputs = sta.handle_data(mode=\"load\", config=config, file_suffix=\"ema_atlases\")\n",
    "    print(f\"Total compounds to add to EMA atlases per chromatography: {nonmatches_to_atlases_rt_corrected['chromatography'].nunique()}\")"
   ]
  },
  {
   "cell_type": "markdown",
   "metadata": {},
   "source": [
    "# Create new EMA atlas with top selected reference standards added"
   ]
  },
  {
   "cell_type": "code",
   "execution_count": 69,
   "metadata": {},
   "outputs": [
    {
     "data": {
      "text/html": [
       "<div>\n",
       "<style scoped>\n",
       "    .dataframe tbody tr th:only-of-type {\n",
       "        vertical-align: middle;\n",
       "    }\n",
       "\n",
       "    .dataframe tbody tr th {\n",
       "        vertical-align: top;\n",
       "    }\n",
       "\n",
       "    .dataframe thead th {\n",
       "        text-align: right;\n",
       "    }\n",
       "</style>\n",
       "<table border=\"1\" class=\"dataframe\">\n",
       "  <thead>\n",
       "    <tr style=\"text-align: right;\">\n",
       "      <th></th>\n",
       "      <th>standard_lcmsrun</th>\n",
       "      <th>chromatography</th>\n",
       "      <th>compound_name</th>\n",
       "      <th>adduct</th>\n",
       "      <th>polarity</th>\n",
       "      <th>rt_peak</th>\n",
       "      <th>mz</th>\n",
       "      <th>smiles</th>\n",
       "      <th>peak_index</th>\n",
       "      <th>inchi</th>\n",
       "      <th>inchi_key</th>\n",
       "      <th>neutralized_inchi</th>\n",
       "      <th>neutralized_inchi_key</th>\n",
       "      <th>permanent_charge</th>\n",
       "      <th>formula</th>\n",
       "      <th>mono_isotopic_molecular_weight</th>\n",
       "      <th>collision_energy</th>\n",
       "      <th>label</th>\n",
       "      <th>rt_min</th>\n",
       "      <th>rt_max</th>\n",
       "      <th>mz_tolerance</th>\n",
       "      <th>mz_tolerance_units</th>\n",
       "      <th>in_metatlas</th>\n",
       "    </tr>\n",
       "  </thead>\n",
       "  <tbody>\n",
       "    <tr>\n",
       "      <th>0</th>\n",
       "      <td>/global/cfs/cdirs/metatlas/raw_data/jgi/20241002_JGI_HS_510060_SorghExu_final1_EXP120B_HILICZ_USHXG02558/20241002_JGI_HS_510060_SorghExu_final1_EXP120B_HILICZ_USHXG02558_POS_MS2_RefStd-1_Sorgoleone_1_Rg70to1050-CE102040norm-200uM-S1_Run375.h5</td>\n",
       "      <td>HILICZ</td>\n",
       "      <td>sorgoleone</td>\n",
       "      <td>[M+H]+</td>\n",
       "      <td>positive</td>\n",
       "      <td>0.645454</td>\n",
       "      <td>359.221685</td>\n",
       "      <td>COC1=CC(=O)C(=C(C1=O)CCCCCCC/C=C\\C/C=C\\CC=C)O</td>\n",
       "      <td>peak1</td>\n",
       "      <td>InChI=1S/C22H30O4/c1-3-4-5-6-7-8-9-10-11-12-13-14-15-16-18-21(24)19(23)17-20(26-2)22(18)25/h3,5-6,8-9,17,24H,1,4,7,10-16H2,2H3/b6-5-,9-8-</td>\n",
       "      <td>FGWRUVXUQWGLOX-AFJQJTPPSA-N</td>\n",
       "      <td>InChI=1S/C22H30O4/c1-3-4-5-6-7-8-9-10-11-12-13-14-15-16-18-21(24)19(23)17-20(26-2)22(18)25/h3,5-6,8-9,17,24H,1,4,7,10-16H2,2H3/b6-5-,9-8-</td>\n",
       "      <td>FGWRUVXUQWGLOX-AFJQJTPPSA-N</td>\n",
       "      <td>0</td>\n",
       "      <td>C22H30O4</td>\n",
       "      <td>358.214409</td>\n",
       "      <td>102040norm</td>\n",
       "      <td>sorgoleone</td>\n",
       "      <td>0.145454</td>\n",
       "      <td>1.145454</td>\n",
       "      <td>5</td>\n",
       "      <td>ppm</td>\n",
       "      <td>True</td>\n",
       "    </tr>\n",
       "    <tr>\n",
       "      <th>1</th>\n",
       "      <td>/global/cfs/cdirs/metatlas/raw_data/jgi/20241002_JGI_HS_510060_SorghExu_final1_EXP120B_HILICZ_USHXG02558/20241002_JGI_HS_510060_SorghExu_final1_EXP120B_HILICZ_USHXG02558_POS_MS2_RefStd-1_Sorgoleone_1_Rg70to1050-CE102040norm-200uM-S1_Run375.h5</td>\n",
       "      <td>HILICZ</td>\n",
       "      <td>sorgoleone</td>\n",
       "      <td>[M+NH4]+</td>\n",
       "      <td>positive</td>\n",
       "      <td>0.645454</td>\n",
       "      <td>376.248232</td>\n",
       "      <td>COC1=CC(=O)C(=C(C1=O)CCCCCCC/C=C\\C/C=C\\CC=C)O</td>\n",
       "      <td>peak1</td>\n",
       "      <td>InChI=1S/C22H30O4/c1-3-4-5-6-7-8-9-10-11-12-13-14-15-16-18-21(24)19(23)17-20(26-2)22(18)25/h3,5-6,8-9,17,24H,1,4,7,10-16H2,2H3/b6-5-,9-8-</td>\n",
       "      <td>FGWRUVXUQWGLOX-AFJQJTPPSA-N</td>\n",
       "      <td>InChI=1S/C22H30O4/c1-3-4-5-6-7-8-9-10-11-12-13-14-15-16-18-21(24)19(23)17-20(26-2)22(18)25/h3,5-6,8-9,17,24H,1,4,7,10-16H2,2H3/b6-5-,9-8-</td>\n",
       "      <td>FGWRUVXUQWGLOX-AFJQJTPPSA-N</td>\n",
       "      <td>0</td>\n",
       "      <td>C22H30O4</td>\n",
       "      <td>358.214409</td>\n",
       "      <td>102040norm</td>\n",
       "      <td>sorgoleone</td>\n",
       "      <td>0.145454</td>\n",
       "      <td>1.145454</td>\n",
       "      <td>5</td>\n",
       "      <td>ppm</td>\n",
       "      <td>True</td>\n",
       "    </tr>\n",
       "  </tbody>\n",
       "</table>\n",
       "</div>"
      ],
      "text/plain": [
       "                                                                                                                                                                                                                                     standard_lcmsrun  \\\n",
       "0  /global/cfs/cdirs/metatlas/raw_data/jgi/20241002_JGI_HS_510060_SorghExu_final1_EXP120B_HILICZ_USHXG02558/20241002_JGI_HS_510060_SorghExu_final1_EXP120B_HILICZ_USHXG02558_POS_MS2_RefStd-1_Sorgoleone_1_Rg70to1050-CE102040norm-200uM-S1_Run375.h5   \n",
       "1  /global/cfs/cdirs/metatlas/raw_data/jgi/20241002_JGI_HS_510060_SorghExu_final1_EXP120B_HILICZ_USHXG02558/20241002_JGI_HS_510060_SorghExu_final1_EXP120B_HILICZ_USHXG02558_POS_MS2_RefStd-1_Sorgoleone_1_Rg70to1050-CE102040norm-200uM-S1_Run375.h5   \n",
       "\n",
       "  chromatography compound_name    adduct  polarity   rt_peak          mz  \\\n",
       "0         HILICZ    sorgoleone    [M+H]+  positive  0.645454  359.221685   \n",
       "1         HILICZ    sorgoleone  [M+NH4]+  positive  0.645454  376.248232   \n",
       "\n",
       "                                          smiles peak_index  \\\n",
       "0  COC1=CC(=O)C(=C(C1=O)CCCCCCC/C=C\\C/C=C\\CC=C)O      peak1   \n",
       "1  COC1=CC(=O)C(=C(C1=O)CCCCCCC/C=C\\C/C=C\\CC=C)O      peak1   \n",
       "\n",
       "                                                                                                                                       inchi  \\\n",
       "0  InChI=1S/C22H30O4/c1-3-4-5-6-7-8-9-10-11-12-13-14-15-16-18-21(24)19(23)17-20(26-2)22(18)25/h3,5-6,8-9,17,24H,1,4,7,10-16H2,2H3/b6-5-,9-8-   \n",
       "1  InChI=1S/C22H30O4/c1-3-4-5-6-7-8-9-10-11-12-13-14-15-16-18-21(24)19(23)17-20(26-2)22(18)25/h3,5-6,8-9,17,24H,1,4,7,10-16H2,2H3/b6-5-,9-8-   \n",
       "\n",
       "                     inchi_key  \\\n",
       "0  FGWRUVXUQWGLOX-AFJQJTPPSA-N   \n",
       "1  FGWRUVXUQWGLOX-AFJQJTPPSA-N   \n",
       "\n",
       "                                                                                                                           neutralized_inchi  \\\n",
       "0  InChI=1S/C22H30O4/c1-3-4-5-6-7-8-9-10-11-12-13-14-15-16-18-21(24)19(23)17-20(26-2)22(18)25/h3,5-6,8-9,17,24H,1,4,7,10-16H2,2H3/b6-5-,9-8-   \n",
       "1  InChI=1S/C22H30O4/c1-3-4-5-6-7-8-9-10-11-12-13-14-15-16-18-21(24)19(23)17-20(26-2)22(18)25/h3,5-6,8-9,17,24H,1,4,7,10-16H2,2H3/b6-5-,9-8-   \n",
       "\n",
       "         neutralized_inchi_key permanent_charge   formula  \\\n",
       "0  FGWRUVXUQWGLOX-AFJQJTPPSA-N                0  C22H30O4   \n",
       "1  FGWRUVXUQWGLOX-AFJQJTPPSA-N                0  C22H30O4   \n",
       "\n",
       "  mono_isotopic_molecular_weight collision_energy       label    rt_min  \\\n",
       "0                     358.214409       102040norm  sorgoleone  0.145454   \n",
       "1                     358.214409       102040norm  sorgoleone  0.145454   \n",
       "\n",
       "     rt_max mz_tolerance mz_tolerance_units in_metatlas  \n",
       "0  1.145454            5                ppm        True  \n",
       "1  1.145454            5                ppm        True  "
      ]
     },
     "execution_count": 69,
     "metadata": {},
     "output_type": "execute_result"
    }
   ],
   "source": [
    "nonmatches_to_atlases_rt_corrected"
   ]
  },
  {
   "cell_type": "code",
   "execution_count": 72,
   "metadata": {},
   "outputs": [
    {
     "name": "stdout",
     "output_type": "stream",
     "text": [
      "2025-05-06 20:39:40 \u001b[37m\u001b[41mCRITICAL\u001b[0m Uncaught exception\n",
      "Traceback (most recent call last):\n",
      "  File \"/usr/local/lib/python3.11/site-packages/IPython/core/interactiveshell.py\", line 3577, in run_code\n",
      "    exec(code_obj, self.user_global_ns, self.user_ns)\n",
      "  File \"/tmp/ipykernel_805171/3518290779.py\", line 2, in <module>\n",
      "    ema_atlas_ids, ema_atlas_names = sta.update_and_save_ema_atlases(nonmatches_to_atlases_rt_corrected, {ema_atlases_data['HILICZ']}, config, timestamp)\n",
      "                                                                                                         ^^^^^^^^^^^^^^^^^^^^^^^^^^^^\n",
      "TypeError: unhashable type: 'dict'\n"
     ]
    },
    {
     "ename": "SystemExit",
     "evalue": "128",
     "output_type": "error",
     "traceback": [
      "\u001b[0;31m---------------------------------------------------------------------------\u001b[0m",
      "\u001b[0;31mTypeError\u001b[0m                                 Traceback (most recent call last)",
      "    \u001b[0;31m[... skipping hidden 1 frame]\u001b[0m\n",
      "Cell \u001b[0;32mIn[72], line 2\u001b[0m\n\u001b[1;32m      1\u001b[0m \u001b[38;5;28;01mif\u001b[39;00m config[\u001b[38;5;124m'\u001b[39m\u001b[38;5;124msave_new_ema_atlases\u001b[39m\u001b[38;5;124m'\u001b[39m] \u001b[38;5;129;01mis\u001b[39;00m \u001b[38;5;28;01mTrue\u001b[39;00m:\n\u001b[0;32m----> 2\u001b[0m     ema_atlas_ids, ema_atlas_names \u001b[38;5;241m=\u001b[39m sta\u001b[38;5;241m.\u001b[39mupdate_and_save_ema_atlases(nonmatches_to_atlases_rt_corrected, {ema_atlases_data[\u001b[38;5;124m'\u001b[39m\u001b[38;5;124mHILICZ\u001b[39m\u001b[38;5;124m'\u001b[39m]}, config, timestamp)\n\u001b[1;32m      3\u001b[0m     sta\u001b[38;5;241m.\u001b[39mhandle_data(mode\u001b[38;5;241m=\u001b[39m\u001b[38;5;124m\"\u001b[39m\u001b[38;5;124msave\u001b[39m\u001b[38;5;124m\"\u001b[39m, config\u001b[38;5;241m=\u001b[39mconfig, timestamp\u001b[38;5;241m=\u001b[39mtimestamp, file_suffix\u001b[38;5;241m=\u001b[39m\u001b[38;5;124m\"\u001b[39m\u001b[38;5;124mnew_atlas_ids\u001b[39m\u001b[38;5;124m\"\u001b[39m, \\\n\u001b[1;32m      4\u001b[0m                     data\u001b[38;5;241m=\u001b[39m(ema_atlas_ids, ema_atlas_names))\n",
      "\u001b[0;31mTypeError\u001b[0m: unhashable type: 'dict'",
      "\nDuring handling of the above exception, another exception occurred:\n",
      "\u001b[0;31mSystemExit\u001b[0m                                Traceback (most recent call last)",
      "    \u001b[0;31m[... skipping hidden 1 frame]\u001b[0m\n",
      "File \u001b[0;32m/tmp/metatlas.ety4nerKCN/metatlas/tools/logging.py:149\u001b[0m, in \u001b[0;36m_change_function.<locals>.showtraceback\u001b[0;34m(*args, **kwargs)\u001b[0m\n\u001b[1;32m    147\u001b[0m \u001b[38;5;28;01mif\u001b[39;00m \u001b[38;5;28missubclass\u001b[39m(exc_type, \u001b[38;5;167;01mException\u001b[39;00m):\n\u001b[1;32m    148\u001b[0m     logger\u001b[38;5;241m.\u001b[39mcritical(\u001b[38;5;124m\"\u001b[39m\u001b[38;5;124mUncaught exception\u001b[39m\u001b[38;5;124m\"\u001b[39m, exc_info\u001b[38;5;241m=\u001b[39m(exc_type, exc_value, exc_traceback))\n\u001b[0;32m--> 149\u001b[0m     sys\u001b[38;5;241m.\u001b[39mexit(\u001b[38;5;241m128\u001b[39m)\n\u001b[1;32m    150\u001b[0m \u001b[38;5;28;01melse\u001b[39;00m:\n\u001b[1;32m    151\u001b[0m     \u001b[38;5;66;03m# otherwise run the original hook\u001b[39;00m\n\u001b[1;32m    152\u001b[0m     value \u001b[38;5;241m=\u001b[39m func(\u001b[38;5;241m*\u001b[39margs, \u001b[38;5;241m*\u001b[39m\u001b[38;5;241m*\u001b[39mkwargs)\n",
      "\u001b[0;31mSystemExit\u001b[0m: 128"
     ]
    }
   ],
   "source": [
    "if config['save_new_ema_atlases'] is True:\n",
    "    ema_atlas_ids, ema_atlas_names = sta.update_and_save_ema_atlases(nonmatches_to_atlases_rt_corrected, ema_atlases_data['HILICZ'], config, timestamp)\n",
    "    sta.handle_data(mode=\"save\", config=config, timestamp=timestamp, file_suffix=\"new_atlas_ids\", \\\n",
    "                    data=(ema_atlas_ids, ema_atlas_names))\n",
    "    ema_atlas_ids, ema_atlas_names = sta.handle_data(mode=\"load\", config=config, file_suffix=\"new_atlas_ids\")\n",
    "\n",
    "    if config['direct_deposit_new_emas'] is True:\n",
    "        print(\"New EMA atlases have been saved to disk and deposited in the metatlas database:\")\n",
    "        display(pd.DataFrame.from_dict(ema_atlas_ids))\n",
    "    print(f\"\\nNew EMA atlas locations:\")\n",
    "    display(pd.DataFrame.from_dict(ema_atlas_names))\n",
    "\n",
    "elif config['save_new_ema_atlases'] is False:\n",
    "    print(\"No new EMA atlases saved to disk, as 'save_new_ema_atlases' is set to False in the config file.\")\n",
    "    print(\"Here is the new atlas data in memory:\")\n",
    "    display(nonmatches_to_atlases_rt_corrected)"
   ]
  },
  {
   "cell_type": "markdown",
   "metadata": {},
   "source": [
    "# Identify compounds not in MSMS refs and set up new MSMS refs creation"
   ]
  },
  {
   "cell_type": "code",
   "execution_count": 11,
   "metadata": {},
   "outputs": [
    {
     "name": "stdout",
     "output_type": "stream",
     "text": [
      "Loaded MSMS refs with 216409 rows and 17 columns.\n"
     ]
    },
    {
     "data": {
      "application/vnd.jupyter.widget-view+json": {
       "model_id": "3716c85304774d118adff266aac1d9c0",
       "version_major": 2,
       "version_minor": 0
      },
      "text/plain": [
       " Searching for matches in MSMS refs:   0%|          | 0/12 [00:00<?, ? compound/s]"
      ]
     },
     "metadata": {},
     "output_type": "display_data"
    },
    {
     "name": "stdout",
     "output_type": "stream",
     "text": [
      "\n",
      "12 compounds+adducts are not yet in MSMS refs. Check notin_msms_refs to view.\n",
      "\n",
      "Saving data to: /global/homes/b/bkieft/metatlas/notebooks/standards_library/example_data/schellermetasci/cache/20250506103111_ref_stds_msms_refs.pkl\n"
     ]
    }
   ],
   "source": [
    "if config[\"msms_refs_data_from_cache\"] is False:\n",
    "    msms_refs = sta.get_msms_refs(msms_refs_path=config[\"current_msms_refs_path\"])\n",
    "    rt_peaks_filtered_all_selected_formatted = sta.format_for_msms_refs(rt_peaks_filtered_all_selected, top_spectra_filtered, msms_refs, config)\n",
    "    in_msms_refs, notin_msms_refs = sta.search_for_matches_in_msms_refs(rt_peaks_filtered_all_selected_formatted, msms_refs, check_by_flat=True)\n",
    "    sta.handle_data(mode=\"save\", config=config, timestamp=timestamp, file_suffix=\"msms_refs\", \\\n",
    "                    data=(msms_refs, notin_msms_refs, rt_peaks_filtered_all_selected_formatted))\n",
    "    \n",
    "elif config[\"msms_refs_data_from_cache\"] is True:\n",
    "    msms_refs, notin_msms_refs, rt_peaks_filtered_all_selected_formatted = sta.handle_data(mode=\"load\", config=config, file_suffix=\"msms_refs\")"
   ]
  },
  {
   "cell_type": "markdown",
   "metadata": {},
   "source": [
    "# Create new MSMS refs table with all selected reference standards added"
   ]
  },
  {
   "cell_type": "code",
   "execution_count": 12,
   "metadata": {},
   "outputs": [
    {
     "name": "stdout",
     "output_type": "stream",
     "text": [
      "Existing MSMS refs went from 216409 to 216421 compounds.\n",
      "\tNew MSMS refs: /global/homes/b/bkieft/metatlas/notebooks/standards_library/example_data/schellermetasci/updated_MSMS_refs/msms_refs_20250506103111.tab\n"
     ]
    }
   ],
   "source": [
    "if config['save_new_msms_refs'] is True:\n",
    "    sta.update_and_save_msms_refs(msms_refs, notin_msms_refs, config, timestamp)\n",
    "\n",
    "elif config['save_new_msms_refs'] is False:\n",
    "    print(\"No new MSMS refs saved to disk, as 'save_new_msms_refs' is set to False in the config file.\")\n",
    "    print(\"Here is the new MSMS refs data in memory:\")\n",
    "    display(notin_msms_refs)"
   ]
  }
 ],
 "metadata": {
  "kernelspec": {
   "display_name": "Metatlas Targeted",
   "language": "python",
   "name": "metatlas-targeted"
  },
  "language_info": {
   "codemirror_mode": {
    "name": "ipython",
    "version": 3
   },
   "file_extension": ".py",
   "mimetype": "text/x-python",
   "name": "python",
   "nbconvert_exporter": "python",
   "pygments_lexer": "ipython3",
   "version": "3.11.12"
  }
 },
 "nbformat": 4,
 "nbformat_minor": 4
}
