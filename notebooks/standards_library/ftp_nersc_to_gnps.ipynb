{
 "cells": [
  {
   "cell_type": "markdown",
   "id": "0e95d4c3-8fd1-4fda-9242-6680c4b8f2a5",
   "metadata": {},
   "source": [
    "# Transfer data from NERSC to GNPS"
   ]
  },
  {
   "cell_type": "code",
   "execution_count": null,
   "id": "da1ec4e4-aff6-4811-b81a-c516fdc23a4e",
   "metadata": {},
   "outputs": [],
   "source": [
    "from ftplib import FTP\n",
    "import os\n",
    "import glob"
   ]
  },
  {
   "cell_type": "markdown",
   "id": "6d300a53-e9f6-4602-ab73-7b7a4fd138a7",
   "metadata": {},
   "source": [
    "JSON contains GNPS sign on information, not really secure - just enough to obscure from shoulder surfers"
   ]
  },
  {
   "cell_type": "code",
   "execution_count": null,
   "id": "2616431b-3e7a-479a-baea-02b5c0684cae",
   "metadata": {},
   "outputs": [],
   "source": [
    "import json\n",
    "\n",
    "with open('gnps_sign.json') as gnps_sign:\n",
    "    data = json.load(gnps_sign)\n",
    "    gnps_user = data['gnps_user']\n",
    "    gnps_passwd = data['gnps_passwd']"
   ]
  },
  {
   "cell_type": "code",
   "execution_count": null,
   "id": "493013cb-1a7e-455f-9ebb-ea78e684ef5c",
   "metadata": {},
   "outputs": [],
   "source": [
    "nersc_data_dir = '/global/cfs/cdirs/metatlas/raw_data/jgi/20220308_JGI-AK-TH_TN_507992_PlantStds_Set1_QE-HF_HILICZ_USHXG01602'\n",
    "polarity_transfered = 'full' #options: 'full', 'positive', 'negative'\n",
    "\n",
    "gnps_host = 'massive.ucsd.edu'\n",
    "gnps_basedir = nersc_data_dir.split('/')[7]+'_'+polarity_transfered\n",
    "gnps_datadir = 'rawdata'\n",
    "\n",
    "gnps_dir = gnps_basedir+'/'+gnps_datadir\n",
    "print(gnps_dir)"
   ]
  },
  {
   "cell_type": "code",
   "execution_count": null,
   "id": "75a88b0a-4592-4300-b0e2-68fd635bb76b",
   "metadata": {},
   "outputs": [],
   "source": [
    "ftp = FTP(gnps_host)"
   ]
  },
  {
   "cell_type": "code",
   "execution_count": null,
   "id": "f5b8aa69-66ca-42c4-8d69-0a67fb979099",
   "metadata": {},
   "outputs": [],
   "source": [
    "ftp.login(user=gnps_user, passwd=gnps_passwd)"
   ]
  },
  {
   "cell_type": "code",
   "execution_count": null,
   "id": "b956615d-75c7-4724-af42-5605979ea959",
   "metadata": {},
   "outputs": [],
   "source": [
    "ftp.nlst()"
   ]
  },
  {
   "cell_type": "code",
   "execution_count": null,
   "id": "8c3bbb03-f750-4d28-9400-ea3eaedb4e17",
   "metadata": {},
   "outputs": [],
   "source": [
    "if gnps_basedir not in ftp.nlst():\n",
    "    ftp.mkd(gnps_basedir)\n",
    "ftp.cwd(gnps_basedir)"
   ]
  },
  {
   "cell_type": "code",
   "execution_count": null,
   "id": "ff7f2e52-c74d-430c-b1d4-e6a2de58558e",
   "metadata": {},
   "outputs": [],
   "source": [
    "if gnps_datadir not in ftp.nlst():\n",
    "    ftp.mkd(gnps_datadir)\n",
    "ftp.cwd(gnps_datadir)\n",
    "ftp.pwd()"
   ]
  },
  {
   "cell_type": "code",
   "execution_count": null,
   "id": "8d22b499-81c3-4890-a6bf-760a2a8decae",
   "metadata": {},
   "outputs": [],
   "source": [
    "nersc_files = glob.glob(os.path.join(nersc_data_dir,'*MSMS*S1*.mzML')) #should only transfer samples (S1 will only work for JGI data!)\n",
    "len(nersc_files)"
   ]
  },
  {
   "cell_type": "code",
   "execution_count": null,
   "id": "98d64865-f6df-4830-b9e4-e61f165c86b2",
   "metadata": {},
   "outputs": [],
   "source": [
    "nersc_files[0]"
   ]
  },
  {
   "cell_type": "markdown",
   "id": "86794a90-b6c7-478a-a5f2-e0f209842713",
   "metadata": {},
   "source": [
    "remember: \"STOR\" FTP command takes filename as parameter, not path. Must open first, or file must be in working directory"
   ]
  },
  {
   "cell_type": "code",
   "execution_count": null,
   "id": "ec3a285d-ac81-40d2-a1a7-f5f1629787bd",
   "metadata": {},
   "outputs": [],
   "source": [
    "for file_path in nersc_files:\n",
    "    with open(file_path), \"rb\") as file:\n",
    "        ftp.storbinary(f\"STOR {os.path.basename(file)}\", file)"
   ]
  }
 ],
 "metadata": {
  "kernelspec": {
   "display_name": "NERSC Python",
   "language": "python",
   "name": "python3"
  },
  "language_info": {
   "codemirror_mode": {
    "name": "ipython",
    "version": 3
   },
   "file_extension": ".py",
   "mimetype": "text/x-python",
   "name": "python",
   "nbconvert_exporter": "python",
   "pygments_lexer": "ipython3",
   "version": "3.9.7"
  }
 },
 "nbformat": 4,
 "nbformat_minor": 5
}
