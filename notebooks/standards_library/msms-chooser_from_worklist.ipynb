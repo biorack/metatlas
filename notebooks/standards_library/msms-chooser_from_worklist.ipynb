{
 "cells": [
  {
   "cell_type": "markdown",
   "id": "cfcfb629-2bd9-46ae-ba96-76adf01bf34a",
   "metadata": {},
   "source": [
    "# Generate MSMS-Chooser Annotation Table"
   ]
  },
  {
   "cell_type": "code",
   "execution_count": 1,
   "id": "bd588d9f",
   "metadata": {},
   "outputs": [],
   "source": [
    "import pandas as pd\n",
    "import os\n",
    "import requests"
   ]
  },
  {
   "cell_type": "markdown",
   "id": "3caff4ae-27a9-4141-ab24-977c2695f465",
   "metadata": {},
   "source": [
    "## Match Filenames with Compounds"
   ]
  },
  {
   "cell_type": "code",
   "execution_count": 23,
   "id": "e38eba24-43ff-4ae1-b227-5d54e63e374c",
   "metadata": {},
   "outputs": [],
   "source": [
    "standards_dir = 'plant_hormones'\n",
    "\n",
    "worklist_dir = os.path.join(standards_dir, '20220308_JGI-AK-TH_TN_507992_PlantStds_Set1_QE-HF_HILICZ_USHXG01602.csv') #worklist used to collect standards data\n",
    "names_dir = os.path.join(standards_dir,'plant-hormones_names_hilic.csv') #where to save .csv with filenames, compound names, and GNPS names\n",
    "inchi_name_map_dir = os.path.join(standards_dir, '20211208_plant-hormones_inchi-smiles.csv') #map of worklist compound_names (group names), inchi keys, smiles, inchis\n",
    "\n",
    "worklist_df = pd.read_csv(worklist_dir, header=1)\n",
    "inchi_name_map = pd.read_csv(inchi_name_map_dir)"
   ]
  },
  {
   "cell_type": "code",
   "execution_count": 24,
   "id": "c8ce7462-afd0-4c33-8a16-7676ac634c2e",
   "metadata": {},
   "outputs": [],
   "source": [
    "filenames_full = worklist_df['File Name'].to_dict()\n",
    "filenames = []\n",
    "\n",
    "for name in filenames_full.values():\n",
    "    ms_level = name.split('_')[10]\n",
    "    group = name.split('_')[12]\n",
    "    \n",
    "    if ms_level=='MSMS' and group!='QC':\n",
    "        filenames.append(name)"
   ]
  },
  {
   "cell_type": "code",
   "execution_count": 25,
   "id": "f49025a4-d3bd-41a5-b403-406eff6062d8",
   "metadata": {},
   "outputs": [],
   "source": [
    "names_df = pd.DataFrame(columns=['filename', 'compound_name', 'gnps_compound_name', 'inchi_key', 'inchi', 'smiles'])\n",
    "names_df['filename'] = filenames\n",
    "for idx, row in names_df.iterrows():\n",
    "    compound_name = row['filename'].split('_')[12]\n",
    "    optional_field = row['filename'].split('_')[14]\n",
    "    collision_energy = optional_field.split('-')[1]\n",
    "    \n",
    "    gnps_compound_name = compound_name+'-'+collision_energy\n",
    "\n",
    "    row['compound_name'] = compound_name\n",
    "    row['gnps_compound_name'] = gnps_compound_name\n",
    "names_df.to_csv(names_dir, index=False)"
   ]
  },
  {
   "cell_type": "code",
   "execution_count": 26,
   "id": "fb070d4c-1c59-4ed8-86fb-2ec3356cc741",
   "metadata": {},
   "outputs": [
    {
     "data": {
      "text/plain": [
       "'CN1C=C(C2=CC=CC=C21)CC(=O)O'"
      ]
     },
     "execution_count": 26,
     "metadata": {},
     "output_type": "execute_result"
    }
   ],
   "source": [
    "inchi_name_map['smiles'].loc[inchi_name_map['worklist_name']=='MethylIndole3AceticAcid-MeIAA'].values[0]"
   ]
  },
  {
   "cell_type": "code",
   "execution_count": 27,
   "id": "d121f94d-a772-4a01-a7ef-fb1bde7fc818",
   "metadata": {},
   "outputs": [
    {
     "data": {
      "text/html": [
       "<div>\n",
       "<style scoped>\n",
       "    .dataframe tbody tr th:only-of-type {\n",
       "        vertical-align: middle;\n",
       "    }\n",
       "\n",
       "    .dataframe tbody tr th {\n",
       "        vertical-align: top;\n",
       "    }\n",
       "\n",
       "    .dataframe thead th {\n",
       "        text-align: right;\n",
       "    }\n",
       "</style>\n",
       "<table border=\"1\" class=\"dataframe\">\n",
       "  <thead>\n",
       "    <tr style=\"text-align: right;\">\n",
       "      <th></th>\n",
       "      <th>name</th>\n",
       "      <th>formatted_name</th>\n",
       "      <th>abbreviation</th>\n",
       "      <th>worklist_name</th>\n",
       "      <th>formula</th>\n",
       "      <th>monoisotopic_mass</th>\n",
       "      <th>inchi_key</th>\n",
       "      <th>smiles</th>\n",
       "      <th>inchi</th>\n",
       "    </tr>\n",
       "  </thead>\n",
       "  <tbody>\n",
       "    <tr>\n",
       "      <th>0</th>\n",
       "      <td>indole-3-acetic acid</td>\n",
       "      <td>Indole-3-Acetic Acid</td>\n",
       "      <td>IAA</td>\n",
       "      <td>Indole3AceticAcid-IAA</td>\n",
       "      <td>C10H9NO2</td>\n",
       "      <td>175.0633</td>\n",
       "      <td>SEOVTRFCIGRIMH-UHFFFAOYSA-N</td>\n",
       "      <td>C1=CC=C2C(=C1)C(=CN2)CC(=O)O</td>\n",
       "      <td>InChI=1S/C10H9NO2/c12-10(13)5-7-6-11-9-4-2-1-3...</td>\n",
       "    </tr>\n",
       "    <tr>\n",
       "      <th>1</th>\n",
       "      <td>methyl indole-3-acetic acid</td>\n",
       "      <td>Methyl Indole-3-Acetic Acid</td>\n",
       "      <td>MeIAA</td>\n",
       "      <td>MethylIndole3AceticAcid-MeIAA</td>\n",
       "      <td>C11H11NO2</td>\n",
       "      <td>189.0790</td>\n",
       "      <td>NAIPEFIYIQFVFC-UHFFFAOYSA-N</td>\n",
       "      <td>CN1C=C(C2=CC=CC=C21)CC(=O)O</td>\n",
       "      <td>InChI=1S/C11H11NO2/c1-12-7-8(6-11(13)14)9-4-2-...</td>\n",
       "    </tr>\n",
       "    <tr>\n",
       "      <th>2</th>\n",
       "      <td>\\nMELATONIN</td>\n",
       "      <td>Melatonin</td>\n",
       "      <td>TRA</td>\n",
       "      <td>Tryptamine-TRA</td>\n",
       "      <td>C13H16N2O2</td>\n",
       "      <td>232.1212</td>\n",
       "      <td>DRLFMBDRBRZALE-UHFFFAOYSA-N</td>\n",
       "      <td>CC(=O)NCCC1=CNC2=C1C=C(C=C2)OC</td>\n",
       "      <td>InChI=1S/C13H16N2O2/c1-9(16)14-6-5-10-8-15-13-...</td>\n",
       "    </tr>\n",
       "    <tr>\n",
       "      <th>3</th>\n",
       "      <td>\\nL-Tryptophan</td>\n",
       "      <td>L-Tryptophan</td>\n",
       "      <td>TRP</td>\n",
       "      <td>Tryptophan-TRP</td>\n",
       "      <td>C11H12N2O2</td>\n",
       "      <td>204.0899</td>\n",
       "      <td>QIVBCDIJIAJPQS-VIFPVBQESA-N</td>\n",
       "      <td>C1=CC=C2C(=C1)C(=CN2)C[C@@H](C(=O)O)N</td>\n",
       "      <td>InChI=1S/C11H12N2O2/c12-9(11(14)15)5-7-6-13-10...</td>\n",
       "    </tr>\n",
       "    <tr>\n",
       "      <th>4</th>\n",
       "      <td>indole-3-acetamide</td>\n",
       "      <td>Indole-3-Acetamide</td>\n",
       "      <td>IAM</td>\n",
       "      <td>Indole3Acetamide-IAM</td>\n",
       "      <td>C10H10N2O</td>\n",
       "      <td>174.0793</td>\n",
       "      <td>ZOAMBXDOGPRZLP-UHFFFAOYSA-N</td>\n",
       "      <td>C1=CC=C2C(=C1)C(=CN2)CC(=O)N</td>\n",
       "      <td>InChI=1S/C10H10N2O/c11-10(13)5-7-6-12-9-4-2-1-...</td>\n",
       "    </tr>\n",
       "  </tbody>\n",
       "</table>\n",
       "</div>"
      ],
      "text/plain": [
       "                          name               formatted_name abbreviation  \\\n",
       "0         indole-3-acetic acid         Indole-3-Acetic Acid          IAA   \n",
       "1  methyl indole-3-acetic acid  Methyl Indole-3-Acetic Acid        MeIAA   \n",
       "2                  \\nMELATONIN                    Melatonin          TRA   \n",
       "3               \\nL-Tryptophan                 L-Tryptophan          TRP   \n",
       "4           indole-3-acetamide           Indole-3-Acetamide          IAM   \n",
       "\n",
       "                   worklist_name     formula  monoisotopic_mass  \\\n",
       "0          Indole3AceticAcid-IAA    C10H9NO2           175.0633   \n",
       "1  MethylIndole3AceticAcid-MeIAA   C11H11NO2           189.0790   \n",
       "2                 Tryptamine-TRA  C13H16N2O2           232.1212   \n",
       "3                 Tryptophan-TRP  C11H12N2O2           204.0899   \n",
       "4           Indole3Acetamide-IAM   C10H10N2O           174.0793   \n",
       "\n",
       "                       inchi_key                                 smiles  \\\n",
       "0  SEOVTRFCIGRIMH-UHFFFAOYSA-N             C1=CC=C2C(=C1)C(=CN2)CC(=O)O   \n",
       "1    NAIPEFIYIQFVFC-UHFFFAOYSA-N            CN1C=C(C2=CC=CC=C21)CC(=O)O   \n",
       "2    DRLFMBDRBRZALE-UHFFFAOYSA-N         CC(=O)NCCC1=CNC2=C1C=C(C=C2)OC   \n",
       "3  QIVBCDIJIAJPQS-VIFPVBQESA-N    C1=CC=C2C(=C1)C(=CN2)C[C@@H](C(=O)O)N   \n",
       "4    ZOAMBXDOGPRZLP-UHFFFAOYSA-N           C1=CC=C2C(=C1)C(=CN2)CC(=O)N   \n",
       "\n",
       "                                               inchi  \n",
       "0  InChI=1S/C10H9NO2/c12-10(13)5-7-6-11-9-4-2-1-3...  \n",
       "1  InChI=1S/C11H11NO2/c1-12-7-8(6-11(13)14)9-4-2-...  \n",
       "2  InChI=1S/C13H16N2O2/c1-9(16)14-6-5-10-8-15-13-...  \n",
       "3  InChI=1S/C11H12N2O2/c12-9(11(14)15)5-7-6-13-10...  \n",
       "4  InChI=1S/C10H10N2O/c11-10(13)5-7-6-12-9-4-2-1-...  "
      ]
     },
     "execution_count": 27,
     "metadata": {},
     "output_type": "execute_result"
    }
   ],
   "source": [
    "inchi_name_map.head()"
   ]
  },
  {
   "cell_type": "code",
   "execution_count": 28,
   "id": "df95c4b9-2e8b-41d8-a23a-ee4eac46e894",
   "metadata": {},
   "outputs": [
    {
     "data": {
      "text/html": [
       "<div>\n",
       "<style scoped>\n",
       "    .dataframe tbody tr th:only-of-type {\n",
       "        vertical-align: middle;\n",
       "    }\n",
       "\n",
       "    .dataframe tbody tr th {\n",
       "        vertical-align: top;\n",
       "    }\n",
       "\n",
       "    .dataframe thead th {\n",
       "        text-align: right;\n",
       "    }\n",
       "</style>\n",
       "<table border=\"1\" class=\"dataframe\">\n",
       "  <thead>\n",
       "    <tr style=\"text-align: right;\">\n",
       "      <th></th>\n",
       "      <th>filename</th>\n",
       "      <th>compound_name</th>\n",
       "      <th>gnps_compound_name</th>\n",
       "      <th>inchi_key</th>\n",
       "      <th>inchi</th>\n",
       "      <th>smiles</th>\n",
       "    </tr>\n",
       "  </thead>\n",
       "  <tbody>\n",
       "    <tr>\n",
       "      <th>0</th>\n",
       "      <td>20220308_JGI-AK-TH_TN_507992_PlantStds_Set1_QE...</td>\n",
       "      <td>Indole3AceticAcid-IAA</td>\n",
       "      <td>Indole3AceticAcid-IAA-CE102040</td>\n",
       "      <td>NaN</td>\n",
       "      <td>NaN</td>\n",
       "      <td>NaN</td>\n",
       "    </tr>\n",
       "    <tr>\n",
       "      <th>1</th>\n",
       "      <td>20220308_JGI-AK-TH_TN_507992_PlantStds_Set1_QE...</td>\n",
       "      <td>Indole3AceticAcid-IAA</td>\n",
       "      <td>Indole3AceticAcid-IAA-CE205060</td>\n",
       "      <td>NaN</td>\n",
       "      <td>NaN</td>\n",
       "      <td>NaN</td>\n",
       "    </tr>\n",
       "    <tr>\n",
       "      <th>2</th>\n",
       "      <td>20220308_JGI-AK-TH_TN_507992_PlantStds_Set1_QE...</td>\n",
       "      <td>Indole3AceticAcid-IAA</td>\n",
       "      <td>Indole3AceticAcid-IAA-CE102040</td>\n",
       "      <td>NaN</td>\n",
       "      <td>NaN</td>\n",
       "      <td>NaN</td>\n",
       "    </tr>\n",
       "    <tr>\n",
       "      <th>3</th>\n",
       "      <td>20220308_JGI-AK-TH_TN_507992_PlantStds_Set1_QE...</td>\n",
       "      <td>Indole3AceticAcid-IAA</td>\n",
       "      <td>Indole3AceticAcid-IAA-CE205060</td>\n",
       "      <td>NaN</td>\n",
       "      <td>NaN</td>\n",
       "      <td>NaN</td>\n",
       "    </tr>\n",
       "    <tr>\n",
       "      <th>4</th>\n",
       "      <td>20220308_JGI-AK-TH_TN_507992_PlantStds_Set1_QE...</td>\n",
       "      <td>MethylIndole3AceticAcid-MeIAA</td>\n",
       "      <td>MethylIndole3AceticAcid-MeIAA-CE102040</td>\n",
       "      <td>NaN</td>\n",
       "      <td>NaN</td>\n",
       "      <td>NaN</td>\n",
       "    </tr>\n",
       "  </tbody>\n",
       "</table>\n",
       "</div>"
      ],
      "text/plain": [
       "                                            filename  \\\n",
       "0  20220308_JGI-AK-TH_TN_507992_PlantStds_Set1_QE...   \n",
       "1  20220308_JGI-AK-TH_TN_507992_PlantStds_Set1_QE...   \n",
       "2  20220308_JGI-AK-TH_TN_507992_PlantStds_Set1_QE...   \n",
       "3  20220308_JGI-AK-TH_TN_507992_PlantStds_Set1_QE...   \n",
       "4  20220308_JGI-AK-TH_TN_507992_PlantStds_Set1_QE...   \n",
       "\n",
       "                   compound_name                      gnps_compound_name  \\\n",
       "0          Indole3AceticAcid-IAA          Indole3AceticAcid-IAA-CE102040   \n",
       "1          Indole3AceticAcid-IAA          Indole3AceticAcid-IAA-CE205060   \n",
       "2          Indole3AceticAcid-IAA          Indole3AceticAcid-IAA-CE102040   \n",
       "3          Indole3AceticAcid-IAA          Indole3AceticAcid-IAA-CE205060   \n",
       "4  MethylIndole3AceticAcid-MeIAA  MethylIndole3AceticAcid-MeIAA-CE102040   \n",
       "\n",
       "  inchi_key inchi smiles  \n",
       "0       NaN   NaN    NaN  \n",
       "1       NaN   NaN    NaN  \n",
       "2       NaN   NaN    NaN  \n",
       "3       NaN   NaN    NaN  \n",
       "4       NaN   NaN    NaN  "
      ]
     },
     "execution_count": 28,
     "metadata": {},
     "output_type": "execute_result"
    }
   ],
   "source": [
    "names_df.head()"
   ]
  },
  {
   "cell_type": "code",
   "execution_count": 31,
   "id": "1b86daf7-bf4c-4508-a5b8-d94fa2ecb8bc",
   "metadata": {},
   "outputs": [
    {
     "name": "stdout",
     "output_type": "stream",
     "text": [
      "unable to find 20220308_JGI-AK-TH_TN_507992_PlantStds_Set1_QE-HF_HILICZ_USHXG01602_POS_MSMS_18_PhenylAceticAcid-PAA_1_Rg70to1050-CE102040-10ugmL-S1_Run99\n",
      "unable to find 20220308_JGI-AK-TH_TN_507992_PlantStds_Set1_QE-HF_HILICZ_USHXG01602_POS_MSMS_18_PhenylAceticAcid-PAA_1_Rg70to1050-CE205060-10ugmL-S1_Run100\n",
      "unable to find 20220308_JGI-AK-TH_TN_507992_PlantStds_Set1_QE-HF_HILICZ_USHXG01602_NEG_MSMS_18_PhenylAceticAcid-PAA_1_Rg70to1050-CE102040-10ugmL-S1_Run101\n",
      "unable to find 20220308_JGI-AK-TH_TN_507992_PlantStds_Set1_QE-HF_HILICZ_USHXG01602_NEG_MSMS_18_PhenylAceticAcid-PAA_1_Rg70to1050-CE205060-10ugmL-S1_Run102\n",
      "unable to find 20220308_JGI-AK-TH_TN_507992_PlantStds_Set1_QE-HF_HILICZ_USHXG01602_POS_MSMS_18_PhenylAceticAcid-PAA_1_Rg70to1050-CE102040-10ugmL-S1_Run99\n",
      "unable to find 20220308_JGI-AK-TH_TN_507992_PlantStds_Set1_QE-HF_HILICZ_USHXG01602_POS_MSMS_18_PhenylAceticAcid-PAA_1_Rg70to1050-CE205060-10ugmL-S1_Run100\n",
      "unable to find 20220308_JGI-AK-TH_TN_507992_PlantStds_Set1_QE-HF_HILICZ_USHXG01602_NEG_MSMS_18_PhenylAceticAcid-PAA_1_Rg70to1050-CE102040-10ugmL-S1_Run101\n",
      "unable to find 20220308_JGI-AK-TH_TN_507992_PlantStds_Set1_QE-HF_HILICZ_USHXG01602_NEG_MSMS_18_PhenylAceticAcid-PAA_1_Rg70to1050-CE205060-10ugmL-S1_Run102\n",
      "unable to find 20220308_JGI-AK-TH_TN_507992_PlantStds_Set1_QE-HF_HILICZ_USHXG01602_POS_MSMS_18_PhenylAceticAcid-PAA_1_Rg70to1050-CE102040-10ugmL-S1_Run99\n",
      "unable to find 20220308_JGI-AK-TH_TN_507992_PlantStds_Set1_QE-HF_HILICZ_USHXG01602_POS_MSMS_18_PhenylAceticAcid-PAA_1_Rg70to1050-CE205060-10ugmL-S1_Run100\n",
      "unable to find 20220308_JGI-AK-TH_TN_507992_PlantStds_Set1_QE-HF_HILICZ_USHXG01602_NEG_MSMS_18_PhenylAceticAcid-PAA_1_Rg70to1050-CE102040-10ugmL-S1_Run101\n",
      "unable to find 20220308_JGI-AK-TH_TN_507992_PlantStds_Set1_QE-HF_HILICZ_USHXG01602_NEG_MSMS_18_PhenylAceticAcid-PAA_1_Rg70to1050-CE205060-10ugmL-S1_Run102\n",
      "unable to find 20220308_JGI-AK-TH_TN_507992_PlantStds_Set1_QE-HF_HILICZ_USHXG01602_POS_MSMS_18_PhenylAceticAcid-PAA_1_Rg70to1050-CE102040-10ugmL-S1_Run99\n",
      "unable to find 20220308_JGI-AK-TH_TN_507992_PlantStds_Set1_QE-HF_HILICZ_USHXG01602_POS_MSMS_18_PhenylAceticAcid-PAA_1_Rg70to1050-CE205060-10ugmL-S1_Run100\n",
      "unable to find 20220308_JGI-AK-TH_TN_507992_PlantStds_Set1_QE-HF_HILICZ_USHXG01602_NEG_MSMS_18_PhenylAceticAcid-PAA_1_Rg70to1050-CE102040-10ugmL-S1_Run101\n",
      "unable to find 20220308_JGI-AK-TH_TN_507992_PlantStds_Set1_QE-HF_HILICZ_USHXG01602_NEG_MSMS_18_PhenylAceticAcid-PAA_1_Rg70to1050-CE205060-10ugmL-S1_Run102\n"
     ]
    }
   ],
   "source": [
    "for idx, row in names_df.iterrows():\n",
    "    for filename in filenames:\n",
    "        if row['compound_name'] in filename:\n",
    "            try:\n",
    "                names_df.at[idx, 'inchi_key'] = inchi_name_map['inchi_key'].loc[inchi_name_map['worklist_name']==row['compound_name']].values[0]\n",
    "                names_df.at[idx, 'inchi'] = inchi_name_map['inchi'].loc[inchi_name_map['worklist_name']==row['compound_name']].values[0]\n",
    "                names_df.at[idx, 'smiles'] = inchi_name_map['smiles'].loc[inchi_name_map['worklist_name']==row['compound_name']].values[0]\n",
    "            except:\n",
    "                print('unable to find ' + str(filename))\n",
    "        else:\n",
    "            continue"
   ]
  },
  {
   "cell_type": "code",
   "execution_count": 32,
   "id": "b9064ef5-186b-454f-9a1e-53766fad0812",
   "metadata": {},
   "outputs": [
    {
     "data": {
      "text/html": [
       "<div>\n",
       "<style scoped>\n",
       "    .dataframe tbody tr th:only-of-type {\n",
       "        vertical-align: middle;\n",
       "    }\n",
       "\n",
       "    .dataframe tbody tr th {\n",
       "        vertical-align: top;\n",
       "    }\n",
       "\n",
       "    .dataframe thead th {\n",
       "        text-align: right;\n",
       "    }\n",
       "</style>\n",
       "<table border=\"1\" class=\"dataframe\">\n",
       "  <thead>\n",
       "    <tr style=\"text-align: right;\">\n",
       "      <th></th>\n",
       "      <th>filename</th>\n",
       "      <th>compound_name</th>\n",
       "      <th>gnps_compound_name</th>\n",
       "      <th>inchi_key</th>\n",
       "      <th>inchi</th>\n",
       "      <th>smiles</th>\n",
       "    </tr>\n",
       "  </thead>\n",
       "  <tbody>\n",
       "    <tr>\n",
       "      <th>0</th>\n",
       "      <td>20220308_JGI-AK-TH_TN_507992_PlantStds_Set1_QE...</td>\n",
       "      <td>Indole3AceticAcid-IAA</td>\n",
       "      <td>Indole3AceticAcid-IAA-CE102040</td>\n",
       "      <td>SEOVTRFCIGRIMH-UHFFFAOYSA-N</td>\n",
       "      <td>InChI=1S/C10H9NO2/c12-10(13)5-7-6-11-9-4-2-1-3...</td>\n",
       "      <td>C1=CC=C2C(=C1)C(=CN2)CC(=O)O</td>\n",
       "    </tr>\n",
       "    <tr>\n",
       "      <th>1</th>\n",
       "      <td>20220308_JGI-AK-TH_TN_507992_PlantStds_Set1_QE...</td>\n",
       "      <td>Indole3AceticAcid-IAA</td>\n",
       "      <td>Indole3AceticAcid-IAA-CE205060</td>\n",
       "      <td>SEOVTRFCIGRIMH-UHFFFAOYSA-N</td>\n",
       "      <td>InChI=1S/C10H9NO2/c12-10(13)5-7-6-11-9-4-2-1-3...</td>\n",
       "      <td>C1=CC=C2C(=C1)C(=CN2)CC(=O)O</td>\n",
       "    </tr>\n",
       "    <tr>\n",
       "      <th>2</th>\n",
       "      <td>20220308_JGI-AK-TH_TN_507992_PlantStds_Set1_QE...</td>\n",
       "      <td>Indole3AceticAcid-IAA</td>\n",
       "      <td>Indole3AceticAcid-IAA-CE102040</td>\n",
       "      <td>SEOVTRFCIGRIMH-UHFFFAOYSA-N</td>\n",
       "      <td>InChI=1S/C10H9NO2/c12-10(13)5-7-6-11-9-4-2-1-3...</td>\n",
       "      <td>C1=CC=C2C(=C1)C(=CN2)CC(=O)O</td>\n",
       "    </tr>\n",
       "    <tr>\n",
       "      <th>3</th>\n",
       "      <td>20220308_JGI-AK-TH_TN_507992_PlantStds_Set1_QE...</td>\n",
       "      <td>Indole3AceticAcid-IAA</td>\n",
       "      <td>Indole3AceticAcid-IAA-CE205060</td>\n",
       "      <td>SEOVTRFCIGRIMH-UHFFFAOYSA-N</td>\n",
       "      <td>InChI=1S/C10H9NO2/c12-10(13)5-7-6-11-9-4-2-1-3...</td>\n",
       "      <td>C1=CC=C2C(=C1)C(=CN2)CC(=O)O</td>\n",
       "    </tr>\n",
       "    <tr>\n",
       "      <th>4</th>\n",
       "      <td>20220308_JGI-AK-TH_TN_507992_PlantStds_Set1_QE...</td>\n",
       "      <td>MethylIndole3AceticAcid-MeIAA</td>\n",
       "      <td>MethylIndole3AceticAcid-MeIAA-CE102040</td>\n",
       "      <td>NAIPEFIYIQFVFC-UHFFFAOYSA-N</td>\n",
       "      <td>InChI=1S/C11H11NO2/c1-12-7-8(6-11(13)14)9-4-2-...</td>\n",
       "      <td>CN1C=C(C2=CC=CC=C21)CC(=O)O</td>\n",
       "    </tr>\n",
       "  </tbody>\n",
       "</table>\n",
       "</div>"
      ],
      "text/plain": [
       "                                            filename  \\\n",
       "0  20220308_JGI-AK-TH_TN_507992_PlantStds_Set1_QE...   \n",
       "1  20220308_JGI-AK-TH_TN_507992_PlantStds_Set1_QE...   \n",
       "2  20220308_JGI-AK-TH_TN_507992_PlantStds_Set1_QE...   \n",
       "3  20220308_JGI-AK-TH_TN_507992_PlantStds_Set1_QE...   \n",
       "4  20220308_JGI-AK-TH_TN_507992_PlantStds_Set1_QE...   \n",
       "\n",
       "                   compound_name                      gnps_compound_name  \\\n",
       "0          Indole3AceticAcid-IAA          Indole3AceticAcid-IAA-CE102040   \n",
       "1          Indole3AceticAcid-IAA          Indole3AceticAcid-IAA-CE205060   \n",
       "2          Indole3AceticAcid-IAA          Indole3AceticAcid-IAA-CE102040   \n",
       "3          Indole3AceticAcid-IAA          Indole3AceticAcid-IAA-CE205060   \n",
       "4  MethylIndole3AceticAcid-MeIAA  MethylIndole3AceticAcid-MeIAA-CE102040   \n",
       "\n",
       "                       inchi_key  \\\n",
       "0  SEOVTRFCIGRIMH-UHFFFAOYSA-N     \n",
       "1  SEOVTRFCIGRIMH-UHFFFAOYSA-N     \n",
       "2  SEOVTRFCIGRIMH-UHFFFAOYSA-N     \n",
       "3  SEOVTRFCIGRIMH-UHFFFAOYSA-N     \n",
       "4    NAIPEFIYIQFVFC-UHFFFAOYSA-N   \n",
       "\n",
       "                                               inchi  \\\n",
       "0  InChI=1S/C10H9NO2/c12-10(13)5-7-6-11-9-4-2-1-3...   \n",
       "1  InChI=1S/C10H9NO2/c12-10(13)5-7-6-11-9-4-2-1-3...   \n",
       "2  InChI=1S/C10H9NO2/c12-10(13)5-7-6-11-9-4-2-1-3...   \n",
       "3  InChI=1S/C10H9NO2/c12-10(13)5-7-6-11-9-4-2-1-3...   \n",
       "4  InChI=1S/C11H11NO2/c1-12-7-8(6-11(13)14)9-4-2-...   \n",
       "\n",
       "                         smiles  \n",
       "0  C1=CC=C2C(=C1)C(=CN2)CC(=O)O  \n",
       "1  C1=CC=C2C(=C1)C(=CN2)CC(=O)O  \n",
       "2  C1=CC=C2C(=C1)C(=CN2)CC(=O)O  \n",
       "3  C1=CC=C2C(=C1)C(=CN2)CC(=O)O  \n",
       "4   CN1C=C(C2=CC=CC=C21)CC(=O)O  "
      ]
     },
     "execution_count": 32,
     "metadata": {},
     "output_type": "execute_result"
    }
   ],
   "source": [
    "names_df.head()"
   ]
  },
  {
   "cell_type": "code",
   "execution_count": 34,
   "id": "23b73e6d-0428-438d-a64a-91df26c2e624",
   "metadata": {},
   "outputs": [],
   "source": [
    "names_df.to_csv(os.path.join(standards_dir, 'matched_names.csv'))"
   ]
  },
  {
   "cell_type": "code",
   "execution_count": null,
   "id": "e1608423-c1e9-4c90-959c-352768a21063",
   "metadata": {},
   "outputs": [],
   "source": [
    "names_df['gnps_compound_name']"
   ]
  },
  {
   "cell_type": "markdown",
   "id": "8075b21c-c269-4e1a-a5e7-37ae9b6c0818",
   "metadata": {},
   "source": [
    "## Generate MSMS-Chooser Submission Sheet"
   ]
  },
  {
   "cell_type": "code",
   "execution_count": null,
   "id": "f028a375-6967-428b-b236-24e75fc39a44",
   "metadata": {},
   "outputs": [],
   "source": [
    "msms_chooser_df = pd.read_csv('plant_hormones/msms_chooser_submission_template.tsv', sep='\\t')"
   ]
  },
  {
   "cell_type": "code",
   "execution_count": null,
   "id": "550b2b64-7ed4-40f2-b8d9-a5e4e5cdb866",
   "metadata": {},
   "outputs": [],
   "source": [
    "compound_names = names_df['gnps_compound_name'].tolist()\n",
    "inchi_keys = names_df['inchi_key'].tolist()\n",
    "inchis = names_df['inchi'].tolist()\n",
    "smiles = names_df['smiles'].tolist()"
   ]
  },
  {
   "cell_type": "code",
   "execution_count": null,
   "id": "341ec134-60a1-45b2-85fe-eb38cbb30d7f",
   "metadata": {},
   "outputs": [],
   "source": [
    "filenames_mzml = []\n",
    "polarities = []\n",
    "for filename in filenames:\n",
    "    polarity = filename.split('_')[9]\n",
    "    filenames_mzml.append(filename+'.mzML')\n",
    "    if polarity == 'POS':\n",
    "        polarities.append('Positive')\n",
    "    if polarity == 'NEG':\n",
    "        polarities.append('Negative')"
   ]
  },
  {
   "cell_type": "code",
   "execution_count": null,
   "id": "ce281bb5-0fc4-4e34-b0c2-0d11eb7fc6cd",
   "metadata": {},
   "outputs": [],
   "source": [
    "msms_chooser_df['FILENAME'] = filenames_mzml\n",
    "msms_chooser_df['IONMODE'] = polarities\n",
    "msms_chooser_df['COMPOUND_NAME'] = compound_names\n",
    "msms_chooser_df['SMILES'] = smiles\n",
    "msms_chooser_df['INCHI'] = inchis"
   ]
  },
  {
   "cell_type": "code",
   "execution_count": null,
   "id": "30f4ddb9-79d3-42a0-9c03-84bf31f357b0",
   "metadata": {},
   "outputs": [],
   "source": [
    "msms_chooser_df.head()"
   ]
  },
  {
   "cell_type": "code",
   "execution_count": null,
   "id": "868ac9fc-568d-4ac2-aec1-66059ea3a67c",
   "metadata": {},
   "outputs": [],
   "source": [
    "msms_chooser_df.to_csv('plant_hormones/MSMS-Chooser Submission.tsv', sep='\\t')"
   ]
  },
  {
   "cell_type": "code",
   "execution_count": null,
   "id": "17dc5c12-84bf-43df-bffb-14c957c988ad",
   "metadata": {},
   "outputs": [],
   "source": []
  }
 ],
 "metadata": {
  "kernelspec": {
   "display_name": "Python 3 (ipykernel)",
   "language": "python",
   "name": "python3"
  },
  "language_info": {
   "codemirror_mode": {
    "name": "ipython",
    "version": 3
   },
   "file_extension": ".py",
   "mimetype": "text/x-python",
   "name": "python",
   "nbconvert_exporter": "python",
   "pygments_lexer": "ipython3",
   "version": "3.9.10"
  }
 },
 "nbformat": 4,
 "nbformat_minor": 5
}
