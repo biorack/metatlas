{
 "cells": [
  {
   "cell_type": "markdown",
   "id": "cfcfb629-2bd9-46ae-ba96-76adf01bf34a",
   "metadata": {},
   "source": [
    "# Generate MSMS-Chooser Annotation Table"
   ]
  },
  {
   "cell_type": "code",
   "execution_count": null,
   "id": "bd588d9f",
   "metadata": {},
   "outputs": [],
   "source": [
    "import pandas as pd\n",
    "import os\n",
    "import requests"
   ]
  },
  {
   "cell_type": "markdown",
   "id": "3caff4ae-27a9-4141-ab24-977c2695f465",
   "metadata": {},
   "source": [
    "## Match Filenames with Compounds"
   ]
  },
  {
   "cell_type": "code",
   "execution_count": null,
   "id": "e38eba24-43ff-4ae1-b227-5d54e63e374c",
   "metadata": {},
   "outputs": [],
   "source": [
    "standards_dir = 'plant_hormones'\n",
    "\n",
    "worklist_dir = os.path.join(standards_dir, '20220308_JGI-AK-TH_TN_507992_PlantStds_Set1_QE-HF_HILICZ_USHXG01602.csv') #worklist used to collect standards data\n",
    "names_dir = os.path.join(standards_dir,'plant-hormones_names_hilic.csv') #where to save .csv with filenames, compound names, and GNPS names\n",
    "inchi_name_map_dir = os.path.join(standards_dir, '20211208_plant-hormones_inchi-smiles.csv') #map of worklist compound_names (group names), inchi keys, smiles, inchis\n",
    "\n",
    "worklist_df = pd.read_csv(worklist_dir, header=1)\n",
    "inchi_name_map = pd.read_csv(inchi_name_map_dir)"
   ]
  },
  {
   "cell_type": "code",
   "execution_count": null,
   "id": "c8ce7462-afd0-4c33-8a16-7676ac634c2e",
   "metadata": {},
   "outputs": [],
   "source": [
    "filenames_full = worklist_df['File Name'].to_dict()\n",
    "filenames = []\n",
    "\n",
    "for name in filenames_full.values():\n",
    "    ms_level = name.split('_')[10]\n",
    "    group = name.split('_')[12]\n",
    "    \n",
    "    if ms_level=='MSMS' and group!='QC':\n",
    "        filenames.append(name)"
   ]
  },
  {
   "cell_type": "code",
   "execution_count": null,
   "id": "f49025a4-d3bd-41a5-b403-406eff6062d8",
   "metadata": {},
   "outputs": [],
   "source": [
    "names_df = pd.DataFrame(columns=['filename', 'compound_name', 'gnps_compound_name', 'inchi_key', 'inchi', 'smiles'])\n",
    "names_df['filename'] = filenames\n",
    "for idx, row in names_df.iterrows():\n",
    "    compound_name = row['filename'].split('_')[12]\n",
    "    optional_field = row['filename'].split('_')[14]\n",
    "    collision_energy = optional_field.split('-')[1]\n",
    "    \n",
    "    gnps_compound_name = compound_name+'-'+collision_energy\n",
    "\n",
    "    row['compound_name'] = compound_name\n",
    "    row['gnps_compound_name'] = gnps_compound_name\n",
    "names_df.to_csv(names_dir, index=False)"
   ]
  },
  {
   "cell_type": "code",
   "execution_count": null,
   "id": "fb070d4c-1c59-4ed8-86fb-2ec3356cc741",
   "metadata": {},
   "outputs": [],
   "source": [
    "inchi_name_map['smiles'].loc[inchi_name_map['worklist_name']=='MethylIndole3AceticAcid-MeIAA'].values[0]"
   ]
  },
  {
   "cell_type": "code",
   "execution_count": null,
   "id": "d121f94d-a772-4a01-a7ef-fb1bde7fc818",
   "metadata": {},
   "outputs": [],
   "source": [
    "inchi_name_map.head()"
   ]
  },
  {
   "cell_type": "code",
   "execution_count": null,
   "id": "df95c4b9-2e8b-41d8-a23a-ee4eac46e894",
   "metadata": {},
   "outputs": [],
   "source": [
    "names_df.head()"
   ]
  },
  {
   "cell_type": "code",
   "execution_count": null,
   "id": "1b86daf7-bf4c-4508-a5b8-d94fa2ecb8bc",
   "metadata": {},
   "outputs": [],
   "source": [
    "for idx, row in names_df.iterrows():\n",
    "    for filename in filenames:\n",
    "        if row['compound_name'] in filename:\n",
    "            try:\n",
    "                names_df.at[idx, 'inchi_key'] = inchi_name_map['inchi_key'].loc[inchi_name_map['worklist_name']==row['compound_name']].values[0]\n",
    "                names_df.at[idx, 'inchi'] = inchi_name_map['inchi'].loc[inchi_name_map['worklist_name']==row['compound_name']].values[0]\n",
    "                names_df.at[idx, 'smiles'] = inchi_name_map['smiles'].loc[inchi_name_map['worklist_name']==row['compound_name']].values[0]\n",
    "            except:\n",
    "                print('unable to find ' + str(filename))\n",
    "        else:\n",
    "            continue"
   ]
  },
  {
   "cell_type": "code",
   "execution_count": null,
   "id": "b9064ef5-186b-454f-9a1e-53766fad0812",
   "metadata": {},
   "outputs": [],
   "source": [
    "names_df.head()"
   ]
  },
  {
   "cell_type": "code",
   "execution_count": null,
   "id": "23b73e6d-0428-438d-a64a-91df26c2e624",
   "metadata": {},
   "outputs": [],
   "source": [
    "names_df.to_csv(os.path.join(standards_dir, 'matched_names.csv'))"
   ]
  },
  {
   "cell_type": "markdown",
   "id": "8075b21c-c269-4e1a-a5e7-37ae9b6c0818",
   "metadata": {},
   "source": [
    "## Generate MSMS-Chooser Submission Sheet"
   ]
  },
  {
   "cell_type": "code",
   "execution_count": null,
   "id": "f028a375-6967-428b-b236-24e75fc39a44",
   "metadata": {},
   "outputs": [],
   "source": [
    "msms_chooser_df = pd.read_csv('plant_hormones/msms_chooser_submission_template.tsv', sep='\\t')"
   ]
  },
  {
   "cell_type": "code",
   "execution_count": null,
   "id": "550b2b64-7ed4-40f2-b8d9-a5e4e5cdb866",
   "metadata": {},
   "outputs": [],
   "source": [
    "compound_names = names_df['gnps_compound_name'].tolist()\n",
    "inchi_keys = names_df['inchi_key'].tolist()\n",
    "inchis = names_df['inchi'].tolist()\n",
    "smiles = names_df['smiles'].tolist()"
   ]
  },
  {
   "cell_type": "code",
   "execution_count": null,
   "id": "341ec134-60a1-45b2-85fe-eb38cbb30d7f",
   "metadata": {},
   "outputs": [],
   "source": [
    "filenames_mzml = []\n",
    "polarities = []\n",
    "for filename in filenames:\n",
    "    polarity = filename.split('_')[9]\n",
    "    filenames_mzml.append(filename+'.mzML')\n",
    "    if polarity == 'POS':\n",
    "        polarities.append('Positive')\n",
    "    if polarity == 'NEG':\n",
    "        polarities.append('Negative')"
   ]
  },
  {
   "cell_type": "code",
   "execution_count": null,
   "id": "ce281bb5-0fc4-4e34-b0c2-0d11eb7fc6cd",
   "metadata": {},
   "outputs": [],
   "source": [
    "msms_chooser_df['FILENAME'] = filenames_mzml\n",
    "msms_chooser_df['IONMODE'] = polarities\n",
    "msms_chooser_df['COMPOUND_NAME'] = compound_names\n",
    "msms_chooser_df['SMILES'] = smiles\n",
    "msms_chooser_df['INCHI'] = inchis"
   ]
  },
  {
   "cell_type": "code",
   "execution_count": null,
   "id": "30f4ddb9-79d3-42a0-9c03-84bf31f357b0",
   "metadata": {},
   "outputs": [],
   "source": [
    "msms_chooser_df.head()"
   ]
  },
  {
   "cell_type": "code",
   "execution_count": null,
   "id": "868ac9fc-568d-4ac2-aec1-66059ea3a67c",
   "metadata": {},
   "outputs": [],
   "source": [
    "msms_chooser_df.to_csv(os.path.join(standards_dir, 'MSMS-Chooser Submission.tsv'), sep='\\t')"
   ]
  },
  {
   "cell_type": "code",
   "execution_count": null,
   "id": "17dc5c12-84bf-43df-bffb-14c957c988ad",
   "metadata": {},
   "outputs": [],
   "source": []
  }
 ],
 "metadata": {
  "kernelspec": {
   "display_name": "Python 3 (ipykernel)",
   "language": "python",
   "name": "python3"
  },
  "language_info": {
   "codemirror_mode": {
    "name": "ipython",
    "version": 3
   },
   "file_extension": ".py",
   "mimetype": "text/x-python",
   "name": "python",
   "nbconvert_exporter": "python",
   "pygments_lexer": "ipython3",
   "version": "3.9.10"
  }
 },
 "nbformat": 4,
 "nbformat_minor": 5
}
