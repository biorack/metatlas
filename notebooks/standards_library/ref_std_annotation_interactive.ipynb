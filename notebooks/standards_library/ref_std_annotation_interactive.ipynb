{
 "cells": [
  {
   "cell_type": "code",
   "execution_count": 10,
   "metadata": {},
   "outputs": [],
   "source": [
    "import numpy as np\n",
    "import pandas as pd\n",
    "import sys\n",
    "from datetime import datetime\n",
    "import os\n",
    "from IPython.display import display\n",
    "import yaml\n",
    "\n",
    "sys.path.insert(1, '/global/homes/b/bkieft/metatlas')\n",
    "import notebooks.standards_library.standard_annotation as sta\n",
    "\n",
    "pd.options.display.max_colwidth = 300\n",
    "timestamp = datetime.now().strftime(\"%Y%m%d%H%M%S\")"
   ]
  },
  {
   "cell_type": "markdown",
   "metadata": {},
   "source": [
    "# Read config file"
   ]
  },
  {
   "cell_type": "code",
   "execution_count": 11,
   "metadata": {},
   "outputs": [],
   "source": [
    "config_path = \"/global/homes/b/bkieft/metatlas_junkdrawer/example_data/metascischeller/scheller_annotation_input.yaml\"\n",
    "with open(config_path, \"r\") as config_file:\n",
    "    config = yaml.safe_load(config_file)"
   ]
  },
  {
   "cell_type": "markdown",
   "metadata": {},
   "source": [
    "# Extract EIC and Spectra information from files in the run table"
   ]
  },
  {
   "cell_type": "code",
   "execution_count": 12,
   "metadata": {},
   "outputs": [
    {
     "name": "stdout",
     "output_type": "stream",
     "text": [
      "Loading most recent pkl file: /global/homes/b/bkieft/metatlas_junkdrawer/example_data/metascischeller/cache/20250506190611_ref_stds_full.pkl\n"
     ]
    }
   ],
   "source": [
    "if config[\"full_data_from_cache\"] is False:\n",
    "    lcmsruns_table_with_adducts = sta.build_standard_lcmsrun_table(config)\n",
    "    eics_full, top_spectra_full, group_names_full, rt_peaks_full, atlas_full, mols_images = sta.extract_data(lcmsruns_table_with_adducts,config,method=\"find_peaks\")\n",
    "    sta.handle_data(mode=\"save\", config=config, timestamp=timestamp, file_suffix=\"full\", data=(eics_full, top_spectra_full, group_names_full, rt_peaks_full, atlas_full, mols_images))\n",
    "elif config[\"full_data_from_cache\"] is True:\n",
    "    eics_full, top_spectra_full, group_names_full, rt_peaks_full, atlas_full, mols_images = sta.handle_data(mode=\"load\", config=config, file_suffix=\"full\")"
   ]
  },
  {
   "cell_type": "markdown",
   "metadata": {},
   "source": [
    "# Create interactive plot to choose adduct rt peaks for each standard compound"
   ]
  },
  {
   "cell_type": "code",
   "execution_count": 8,
   "metadata": {},
   "outputs": [
    {
     "data": {
      "application/vnd.jupyter.widget-view+json": {
       "model_id": "5ab6091a30154e24b28a37d70a084017",
       "version_major": 2,
       "version_minor": 0
      },
      "text/plain": [
       "VBox(children=(VBox(children=(Label(value='', layout=Layout(margin='0 0 0 0')), HBox(children=(VBox(children=(…"
      ]
     },
     "metadata": {},
     "output_type": "display_data"
    },
    {
     "data": {
      "application/vnd.jupyter.widget-view+json": {
       "model_id": "d182992af9594728977f4f3994fb528d",
       "version_major": 2,
       "version_minor": 0
      },
      "text/plain": [
       "Output()"
      ]
     },
     "metadata": {},
     "output_type": "display_data"
    }
   ],
   "source": [
    "if config[\"selected_data_from_cache\"] is False:\n",
    "    processed_data = sta.process_data_for_plotting(eics_full, top_spectra_full, group_names_full, rt_peaks_full, config)\n",
    "    selected_adducts_dict = {}\n",
    "    ambiguous_adducts_dict = {}\n",
    "    top_adducts_dict = {}\n",
    "    sta.create_interactive_plots_vscode(processed_data, mols_images, selected_adducts_dict, ambiguous_adducts_dict, top_adducts_dict)\n",
    "    # Run next cell after manual selection of adducts\n",
    "\n",
    "elif config[\"selected_data_from_cache\"] is True:\n",
    "    print(\"Not initiating GUI for adduct selection, loading selected adducts from cache below.\")"
   ]
  },
  {
   "cell_type": "markdown",
   "metadata": {},
   "source": [
    "# Generate static summary reports for each compound after selections are made"
   ]
  },
  {
   "cell_type": "code",
   "execution_count": 11,
   "metadata": {},
   "outputs": [
    {
     "name": "stdout",
     "output_type": "stream",
     "text": [
      "Saving data to: /global/homes/b/bkieft/metatlas_junkdrawer/example_data/metascischeller/cache/20250507092440_ref_stds_selected.pkl\n"
     ]
    },
    {
     "data": {
      "application/vnd.jupyter.widget-view+json": {
       "model_id": "dc44089c83144deb8a05221ac1e17dc4",
       "version_major": 2,
       "version_minor": 0
      },
      "text/plain": [
       " Writing summary plots for selected compounds:   0%|          | 0/8 [00:00<?, ? compound group/s]"
      ]
     },
     "metadata": {},
     "output_type": "display_data"
    },
    {
     "name": "stderr",
     "output_type": "stream",
     "text": [
      "[09:28:09] non-ring atom 0 marked aromatic\n",
      "[09:28:09] non-ring atom 0 marked aromatic\n"
     ]
    }
   ],
   "source": [
    "if config[\"selected_data_from_cache\"] is False:\n",
    "    sta.handle_data(mode=\"save\", config=config, timestamp=timestamp, file_suffix=\"selected\", \\\n",
    "                    data=(selected_adducts_dict, ambiguous_adducts_dict, top_adducts_dict, processed_data))\n",
    "    sta.generate_static_summary_plots(processed_data, selected_adducts_dict, top_adducts_dict, config) # Save summary plots of selected compounds+adducts after completing GUI\n",
    "\n",
    "elif config[\"selected_data_from_cache\"] is True:\n",
    "    selected_adducts_dict, ambiguous_adducts_dict, top_adducts_dict, processed_data = sta.handle_data(mode=\"load\", config=config, file_suffix=\"selected\")"
   ]
  },
  {
   "cell_type": "markdown",
   "metadata": {},
   "source": [
    "# Filter RT Peak, EICs, and Top Spectra by the selected compounds+adducts"
   ]
  },
  {
   "cell_type": "code",
   "execution_count": 12,
   "metadata": {},
   "outputs": [
    {
     "name": "stdout",
     "output_type": "stream",
     "text": [
      "\n",
      "Total unique compounds selected: 1\n",
      "Total unique compound+adduct entries selected: 10\n",
      "\n",
      "Total EICs selected: 31\n",
      "Total RT peaks selected: 12\n",
      "Total MS2 spectra selected: 12\n",
      "\n",
      "Working on dataset: top\n",
      "\tChecking for differing RTs between CEs and polarities, which are unexpected...\n",
      "\t\tGroup ('C18', 'sorgoleone'): All RT values for ['102040norm' '205060norm'] and ['NEG' 'POS'] are within 0.05 mins of each other (0.0057).\n",
      "\t\tGroup ('HILICZ', 'sorgoleone'): All RT values for ['102040norm' '205060norm'] and ['NEG' 'POS'] are within 0.05 mins of each other (0.0107).\n",
      "\n",
      "\tGrouping by monoisotopic_mass and identify isomers in the datasets...\n",
      "\t\tNo isomers found in top data.\n",
      "\n",
      "\tSelecting best collision energy row by intensity for the top adduct(s) per compound...\n",
      "\t\tSelected 1 row and removed 1 row(s) for ('C18', 'NEG', 'sorgoleone', '[M-H]-').\n",
      "\t\tSelected 1 row and removed 1 row(s) for ('C18', 'POS', 'sorgoleone', '[M+H]+').\n",
      "\t\tSelected 1 row and removed 1 row(s) for ('C18', 'POS', 'sorgoleone', '[M+Na]+').\n",
      "\t\tSelected 1 row and removed 1 row(s) for ('HILICZ', 'NEG', 'sorgoleone', '[M-H]-').\n",
      "\t\tSelected 1 row and removed 1 row(s) for ('HILICZ', 'POS', 'sorgoleone', '[M+H]+').\n",
      "\n",
      "Working on dataset: all\n",
      "\tChecking for differing RTs between CEs and polarities, which are unexpected...\n",
      "\t\tGroup ('C18', 'sorgoleone'): All RT values for ['102040norm' '205060norm'] and ['NEG' 'POS'] are within 0.05 mins of each other (0.0057).\n",
      "\t\tGroup ('HILICZ', 'sorgoleone'): All RT values for ['102040norm' '205060norm'] and ['NEG' 'POS'] are within 0.05 mins of each other (0.0107).\n",
      "\n",
      "\tGrouping by monoisotopic_mass and identify isomers in the datasets...\n",
      "\t\tNo isomers found in all data.\n",
      "\n",
      "'All' peaks dataset (for MSMS refs): 12 total compound peaks.\n",
      "'Top' peaks dataset (for EMA atlases): 5 best compound peaks.\n",
      "\n",
      "Saving data to: /global/homes/b/bkieft/metatlas_junkdrawer/example_data/metascischeller/cache/20250507092440_ref_stds_filtered.pkl\n"
     ]
    }
   ],
   "source": [
    "if config[\"filtered_data_from_cache\"] is False:\n",
    "    eics_filtered, rt_peaks_filtered, top_spectra_filtered = sta.filter_by_selected(eics_full, rt_peaks_full, top_spectra_full, selected_adducts_dict, top_adducts_dict)\n",
    "    rt_peaks_filtered_all_selected, rt_peaks_filtered_top_selected = sta.format_and_select_top_adducts(rt_peaks_filtered, top_adducts_dict) # Export \"all\" for MSMS refs and \"top\" for EMA atlases\n",
    "    sta.handle_data(mode=\"save\", config=config, timestamp=timestamp, file_suffix=\"filtered\", \\\n",
    "                    data=(eics_filtered, top_spectra_filtered, rt_peaks_filtered, rt_peaks_filtered_all_selected, rt_peaks_filtered_top_selected))\n",
    "\n",
    "elif config[\"filtered_data_from_cache\"] is True:\n",
    "    eics_filtered, top_spectra_filtered, rt_peaks_filtered, rt_peaks_filtered_all_selected, rt_peaks_filtered_top_selected = sta.handle_data(mode=\"load\", config=config, file_suffix=\"filtered\")\n",
    "    print(f\"\\nTotal unique compounds selected: {eics_filtered['compound_name'].nunique()}\")\n",
    "    print(f\"Total unique compound+adduct entries selected: {eics_filtered['label'].nunique()}\\n\")\n",
    "    print(f\"Total EICs selected: {eics_filtered.shape[0]}\")\n",
    "    print(f\"Total RT peaks selected: {rt_peaks_filtered.shape[0]}\")\n",
    "    print(f\"Total MS2 spectra selected: {top_spectra_filtered.shape[0]}\")"
   ]
  },
  {
   "cell_type": "markdown",
   "metadata": {},
   "source": [
    "# Identify compounds not in the metatlas database Compounds table and store if necessary"
   ]
  },
  {
   "cell_type": "code",
   "execution_count": 13,
   "metadata": {},
   "outputs": [
    {
     "data": {
      "application/vnd.jupyter.widget-view+json": {
       "model_id": "0403bb2e8bdb4df7bccc8c6099d00241",
       "version_major": 2,
       "version_minor": 0
      },
      "text/plain": [
       " Searching for matches in metatlas db:   0%|          | 0/12 [00:00<?, ? compound/s]"
      ]
     },
     "metadata": {},
     "output_type": "display_data"
    },
    {
     "name": "stdout",
     "output_type": "stream",
     "text": [
      "\n",
      "Summary of compounds already in the metatlas database:\n",
      "\n"
     ]
    },
    {
     "data": {
      "text/html": [
       "<div>\n",
       "<style scoped>\n",
       "    .dataframe tbody tr th:only-of-type {\n",
       "        vertical-align: middle;\n",
       "    }\n",
       "\n",
       "    .dataframe tbody tr th {\n",
       "        vertical-align: top;\n",
       "    }\n",
       "\n",
       "    .dataframe thead th {\n",
       "        text-align: right;\n",
       "    }\n",
       "</style>\n",
       "<table border=\"1\" class=\"dataframe\">\n",
       "  <thead>\n",
       "    <tr style=\"text-align: right;\">\n",
       "      <th></th>\n",
       "      <th>query_label</th>\n",
       "      <th>query_matching_criterion</th>\n",
       "      <th>query_to_db</th>\n",
       "      <th>db_match</th>\n",
       "    </tr>\n",
       "  </thead>\n",
       "  <tbody>\n",
       "    <tr>\n",
       "      <th>0</th>\n",
       "      <td>sorgoleone</td>\n",
       "      <td>inchi_key</td>\n",
       "      <td>FGWRUVXUQWGLOX-AFJQJTPPSA-N</td>\n",
       "      <td>[FGWRUVXUQWGLOX-AFJQJTPPSA-N]</td>\n",
       "    </tr>\n",
       "  </tbody>\n",
       "</table>\n",
       "</div>"
      ],
      "text/plain": [
       "  query_label query_matching_criterion                  query_to_db  \\\n",
       "0  sorgoleone                inchi_key  FGWRUVXUQWGLOX-AFJQJTPPSA-N   \n",
       "\n",
       "                        db_match  \n",
       "0  [FGWRUVXUQWGLOX-AFJQJTPPSA-N]  "
      ]
     },
     "metadata": {},
     "output_type": "display_data"
    },
    {
     "name": "stdout",
     "output_type": "stream",
     "text": [
      "\n",
      "All compounds are already in the metatlas database.\n",
      "\n",
      "All new entries found in the database.\n",
      "\n",
      "Saving data to: /global/homes/b/bkieft/metatlas_junkdrawer/example_data/metascischeller/cache/20250507092440_ref_stds_metatlas_db.pkl\n"
     ]
    }
   ],
   "source": [
    "if config['metatlas_db_data_from_cache'] is False:\n",
    "    in_db, notin_db = sta.search_for_matches_in_metatlas_db(rt_peaks_filtered_all_selected, check_by_flat=True) # Check if selected compounds are in metatlas DB\n",
    "    if len(notin_db) > 0 and config['direct_store_to_compounds_table'] is True: # Store selected compounds+adducts in metatlas db\n",
    "        sta.store_in_metatlas_db(notin_db)\n",
    "    sta.check_db_deposit(rt_peaks_filtered_top_selected)\n",
    "    sta.handle_data(mode=\"save\", config=config, timestamp=timestamp, file_suffix=\"metatlas_db\", \\\n",
    "                    data=(in_db, notin_db, rt_peaks_filtered_all_selected, rt_peaks_filtered_top_selected))\n",
    "\n",
    "elif config['metatlas_db_data_from_cache'] is True:\n",
    "    in_db, notin_db, rt_peaks_filtered_all_selected, rt_peaks_filtered_top_selected = sta.handle_data(mode=\"load\", config=config, file_suffix=\"metatlas_db\")\n",
    "    print(f\"\\n'All' peaks dataset (for MSMS refs): {rt_peaks_filtered_all_selected.shape[0]} total compound peaks.\")\n",
    "    print(f\"'Top' peaks dataset (for EMA atlases): {rt_peaks_filtered_top_selected.shape[0]} best compound peaks.\\n\")"
   ]
  },
  {
   "cell_type": "markdown",
   "metadata": {},
   "source": [
    "# Identify compounds+adducts not in atlases and set up new atlas creation"
   ]
  },
  {
   "cell_type": "code",
   "execution_count": 14,
   "metadata": {},
   "outputs": [
    {
     "data": {
      "application/vnd.jupyter.widget-view+json": {
       "model_id": "0f6f505afeef4d3f91fd425b3952fca0",
       "version_major": 2,
       "version_minor": 0
      },
      "text/plain": [
       " Searching in HILICZ positive atlas:   0%|          | 0/1 [00:00<?, ? compound/s]"
      ]
     },
     "metadata": {},
     "output_type": "display_data"
    },
    {
     "data": {
      "application/vnd.jupyter.widget-view+json": {
       "model_id": "6dfad215a4954745bce3b5810ac81d6a",
       "version_major": 2,
       "version_minor": 0
      },
      "text/plain": [
       " Searching in HILICZ negative atlas:   0%|          | 0/1 [00:00<?, ? compound/s]"
      ]
     },
     "metadata": {},
     "output_type": "display_data"
    },
    {
     "data": {
      "application/vnd.jupyter.widget-view+json": {
       "model_id": "ce8101529c3f4225964918131fa904ac",
       "version_major": 2,
       "version_minor": 0
      },
      "text/plain": [
       " Searching in C18 positive atlas:   0%|          | 0/2 [00:00<?, ? compound/s]"
      ]
     },
     "metadata": {},
     "output_type": "display_data"
    },
    {
     "data": {
      "application/vnd.jupyter.widget-view+json": {
       "model_id": "51901bcd6580455e81e3f12ed85279ca",
       "version_major": 2,
       "version_minor": 0
      },
      "text/plain": [
       " Searching in C18 negative atlas:   0%|          | 0/1 [00:00<?, ? compound/s]"
      ]
     },
     "metadata": {},
     "output_type": "display_data"
    },
    {
     "name": "stdout",
     "output_type": "stream",
     "text": [
      "\n",
      "None of the compounds+adducts searched were found in the atlases.\n",
      "\n",
      "There are 5 compounds+adducts are not yet in any atlases. View with 'nonmatches_to_atlases'.\n",
      "\n",
      "Setting up RT correction for compounds not yet in atlases using baseline correction method:\n",
      "\n",
      "\tGetting all QC files for project /global/cfs/cdirs/metatlas/raw_data/jgi/20241002_JGI_HS_510060_SorghExu_final1_EXP120B_HILICZ_USHXG02558\n",
      "\n",
      "\tRetrieving baseline HILICZ QC atlas: /global/homes/b/bkieft/metatlas-data/HILIC/HILIC_QCv7_positive.tsv\n",
      "\n",
      "\tCollecting QC MS1 data for HILICZ...\n",
      "\n"
     ]
    },
    {
     "data": {
      "application/vnd.jupyter.widget-view+json": {
       "model_id": "74004a1153d243f4a73b1b5f17194e4a",
       "version_major": 2,
       "version_minor": 0
      },
      "text/plain": [
       " Collecting MS1 data for QC compounds:   0%|          | 0/52 [00:00<?, ? file/s]"
      ]
     },
     "metadata": {},
     "output_type": "display_data"
    },
    {
     "name": "stdout",
     "output_type": "stream",
     "text": [
      "\tGetting all QC files for project /global/cfs/cdirs/metatlas/raw_data/jgi/20241021_JGI_HS_510060_SorghExu_final1_IQX_C18_USDAY92782\n",
      "\n",
      "\tRetrieving baseline C18 QC atlas: /global/homes/b/bkieft/metatlas-data/C18/C18_QCv7_positive.tsv\n",
      "\n",
      "\tCollecting QC MS1 data for C18...\n",
      "\n"
     ]
    },
    {
     "data": {
      "application/vnd.jupyter.widget-view+json": {
       "model_id": "03577cb164a2497d8e770d2212297b2a",
       "version_major": 2,
       "version_minor": 0
      },
      "text/plain": [
       " Collecting MS1 data for QC compounds:   0%|          | 0/53 [00:00<?, ? file/s]"
      ]
     },
     "metadata": {},
     "output_type": "display_data"
    },
    {
     "name": "stdout",
     "output_type": "stream",
     "text": [
      "\tPerforming RT correction...\n",
      "\n"
     ]
    },
    {
     "data": {
      "application/vnd.jupyter.widget-view+json": {
       "model_id": "0c6ec9bf32374666bb019e749d6a6065",
       "version_major": 2,
       "version_minor": 0
      },
      "text/plain": [
       "Calculating RT correction model:   0%|          | 0/2 [00:00<?, ? chromatography/s]"
      ]
     },
     "metadata": {},
     "output_type": "display_data"
    },
    {
     "name": "stdout",
     "output_type": "stream",
     "text": [
      "\tHILICZ RT correction results:\n"
     ]
    },
    {
     "data": {
      "text/html": [
       "<div>\n",
       "<style scoped>\n",
       "    .dataframe tbody tr th:only-of-type {\n",
       "        vertical-align: middle;\n",
       "    }\n",
       "\n",
       "    .dataframe tbody tr th {\n",
       "        vertical-align: top;\n",
       "    }\n",
       "\n",
       "    .dataframe thead th {\n",
       "        text-align: right;\n",
       "    }\n",
       "</style>\n",
       "<table border=\"1\" class=\"dataframe\">\n",
       "  <thead>\n",
       "    <tr style=\"text-align: right;\">\n",
       "      <th></th>\n",
       "      <th>label</th>\n",
       "      <th>adduct</th>\n",
       "      <th>polarity</th>\n",
       "      <th>rt_peak_baseline</th>\n",
       "      <th>rt_peak_experimental</th>\n",
       "      <th>rt_peak_corrected</th>\n",
       "      <th>rt_min_corrected</th>\n",
       "      <th>rt_max_corrected</th>\n",
       "      <th>rt_diff_experimental_vs_corrected</th>\n",
       "    </tr>\n",
       "  </thead>\n",
       "  <tbody>\n",
       "    <tr>\n",
       "      <th>0</th>\n",
       "      <td>sorgoleone</td>\n",
       "      <td>[M+H]+</td>\n",
       "      <td>positive</td>\n",
       "      <td>NaN</td>\n",
       "      <td>0.801184</td>\n",
       "      <td>0.645454</td>\n",
       "      <td>0.145454</td>\n",
       "      <td>1.145454</td>\n",
       "      <td>0.15573</td>\n",
       "    </tr>\n",
       "    <tr>\n",
       "      <th>1</th>\n",
       "      <td>sorgoleone</td>\n",
       "      <td>[M-H]-</td>\n",
       "      <td>negative</td>\n",
       "      <td>NaN</td>\n",
       "      <td>0.804263</td>\n",
       "      <td>0.648787</td>\n",
       "      <td>0.148787</td>\n",
       "      <td>1.148787</td>\n",
       "      <td>0.155476</td>\n",
       "    </tr>\n",
       "    <tr>\n",
       "      <th>2</th>\n",
       "      <td>ABMBA (unlabeled)</td>\n",
       "      <td>NaN</td>\n",
       "      <td>QC</td>\n",
       "      <td>1.093806</td>\n",
       "      <td>1.21834</td>\n",
       "      <td>1.096205</td>\n",
       "      <td>0.596205</td>\n",
       "      <td>1.596205</td>\n",
       "      <td>0.122135</td>\n",
       "    </tr>\n",
       "    <tr>\n",
       "      <th>3</th>\n",
       "      <td>N-acetyl-glucosamine (U - 13C)</td>\n",
       "      <td>NaN</td>\n",
       "      <td>QC</td>\n",
       "      <td>6.707815</td>\n",
       "      <td>6.418233</td>\n",
       "      <td>6.580829</td>\n",
       "      <td>6.080829</td>\n",
       "      <td>7.080829</td>\n",
       "      <td>-0.162596</td>\n",
       "    </tr>\n",
       "    <tr>\n",
       "      <th>4</th>\n",
       "      <td>adenine (U - 15N)</td>\n",
       "      <td>NaN</td>\n",
       "      <td>QC</td>\n",
       "      <td>2.677602</td>\n",
       "      <td>2.834389</td>\n",
       "      <td>2.827321</td>\n",
       "      <td>2.327321</td>\n",
       "      <td>3.327321</td>\n",
       "      <td>0.007068</td>\n",
       "    </tr>\n",
       "    <tr>\n",
       "      <th>5</th>\n",
       "      <td>alanine (U - 13C, 15N)</td>\n",
       "      <td>NaN</td>\n",
       "      <td>QC</td>\n",
       "      <td>13.405091</td>\n",
       "      <td>13.240681</td>\n",
       "      <td>13.400469</td>\n",
       "      <td>12.900469</td>\n",
       "      <td>13.900469</td>\n",
       "      <td>-0.159788</td>\n",
       "    </tr>\n",
       "    <tr>\n",
       "      <th>6</th>\n",
       "      <td>arginine (U - 13C, 15N)</td>\n",
       "      <td>NaN</td>\n",
       "      <td>QC</td>\n",
       "      <td>16.939915</td>\n",
       "      <td>17.013107</td>\n",
       "      <td>16.987934</td>\n",
       "      <td>16.487934</td>\n",
       "      <td>17.487934</td>\n",
       "      <td>0.025173</td>\n",
       "    </tr>\n",
       "    <tr>\n",
       "      <th>7</th>\n",
       "      <td>asparagine (U - 13C, 15N)</td>\n",
       "      <td>NaN</td>\n",
       "      <td>QC</td>\n",
       "      <td>14.368089</td>\n",
       "      <td>14.252848</td>\n",
       "      <td>14.375830</td>\n",
       "      <td>13.875830</td>\n",
       "      <td>14.875830</td>\n",
       "      <td>-0.122982</td>\n",
       "    </tr>\n",
       "    <tr>\n",
       "      <th>8</th>\n",
       "      <td>aspartic acid (U - 13C, 15N)</td>\n",
       "      <td>NaN</td>\n",
       "      <td>QC</td>\n",
       "      <td>16.130360</td>\n",
       "      <td>16.043652</td>\n",
       "      <td>16.078480</td>\n",
       "      <td>15.578480</td>\n",
       "      <td>16.578480</td>\n",
       "      <td>-0.034828</td>\n",
       "    </tr>\n",
       "    <tr>\n",
       "      <th>9</th>\n",
       "      <td>cystine (U - 13C, 15N)</td>\n",
       "      <td>NaN</td>\n",
       "      <td>QC</td>\n",
       "      <td>16.904308</td>\n",
       "      <td>16.930342</td>\n",
       "      <td>16.910628</td>\n",
       "      <td>16.410628</td>\n",
       "      <td>17.410628</td>\n",
       "      <td>0.019714</td>\n",
       "    </tr>\n",
       "    <tr>\n",
       "      <th>10</th>\n",
       "      <td>glutamic acid (U - 13C, 15N)</td>\n",
       "      <td>NaN</td>\n",
       "      <td>QC</td>\n",
       "      <td>15.935390</td>\n",
       "      <td>15.834127</td>\n",
       "      <td>15.880790</td>\n",
       "      <td>15.380790</td>\n",
       "      <td>16.380790</td>\n",
       "      <td>-0.046663</td>\n",
       "    </tr>\n",
       "    <tr>\n",
       "      <th>11</th>\n",
       "      <td>guanine (U - 15N)</td>\n",
       "      <td>NaN</td>\n",
       "      <td>QC</td>\n",
       "      <td>6.265360</td>\n",
       "      <td>6.133224</td>\n",
       "      <td>6.286641</td>\n",
       "      <td>5.786641</td>\n",
       "      <td>6.786641</td>\n",
       "      <td>-0.153417</td>\n",
       "    </tr>\n",
       "    <tr>\n",
       "      <th>12</th>\n",
       "      <td>hypoxanthine (U - 15N)</td>\n",
       "      <td>NaN</td>\n",
       "      <td>QC</td>\n",
       "      <td>3.102967</td>\n",
       "      <td>3.127001</td>\n",
       "      <td>3.138205</td>\n",
       "      <td>2.638205</td>\n",
       "      <td>3.638205</td>\n",
       "      <td>-0.011204</td>\n",
       "    </tr>\n",
       "    <tr>\n",
       "      <th>13</th>\n",
       "      <td>inosine (U - 15N)</td>\n",
       "      <td>NaN</td>\n",
       "      <td>QC</td>\n",
       "      <td>5.434236</td>\n",
       "      <td>5.173415</td>\n",
       "      <td>5.290440</td>\n",
       "      <td>4.790440</td>\n",
       "      <td>5.790440</td>\n",
       "      <td>-0.117025</td>\n",
       "    </tr>\n",
       "    <tr>\n",
       "      <th>14</th>\n",
       "      <td>lysine (U - 13C, 15N)</td>\n",
       "      <td>NaN</td>\n",
       "      <td>QC</td>\n",
       "      <td>17.011310</td>\n",
       "      <td>17.090218</td>\n",
       "      <td>17.059901</td>\n",
       "      <td>16.559901</td>\n",
       "      <td>17.559901</td>\n",
       "      <td>0.030316</td>\n",
       "    </tr>\n",
       "    <tr>\n",
       "      <th>15</th>\n",
       "      <td>methionine (U - 13C, 15N)</td>\n",
       "      <td>NaN</td>\n",
       "      <td>QC</td>\n",
       "      <td>10.440955</td>\n",
       "      <td>10.258733</td>\n",
       "      <td>10.472300</td>\n",
       "      <td>9.972300</td>\n",
       "      <td>10.972300</td>\n",
       "      <td>-0.213567</td>\n",
       "    </tr>\n",
       "    <tr>\n",
       "      <th>16</th>\n",
       "      <td>phenylalanine (U - 13C, 15N)</td>\n",
       "      <td>NaN</td>\n",
       "      <td>QC</td>\n",
       "      <td>8.979306</td>\n",
       "      <td>8.996424</td>\n",
       "      <td>9.208172</td>\n",
       "      <td>8.708172</td>\n",
       "      <td>9.708172</td>\n",
       "      <td>-0.211748</td>\n",
       "    </tr>\n",
       "    <tr>\n",
       "      <th>17</th>\n",
       "      <td>threonine (U - 13C, 15N)</td>\n",
       "      <td>NaN</td>\n",
       "      <td>QC</td>\n",
       "      <td>13.489572</td>\n",
       "      <td>13.292386</td>\n",
       "      <td>13.450522</td>\n",
       "      <td>12.950522</td>\n",
       "      <td>13.950522</td>\n",
       "      <td>-0.158136</td>\n",
       "    </tr>\n",
       "    <tr>\n",
       "      <th>18</th>\n",
       "      <td>thymine (U - 13C, 15N)</td>\n",
       "      <td>NaN</td>\n",
       "      <td>QC</td>\n",
       "      <td>1.255231</td>\n",
       "      <td>1.293718</td>\n",
       "      <td>1.177483</td>\n",
       "      <td>0.677483</td>\n",
       "      <td>1.677483</td>\n",
       "      <td>0.116235</td>\n",
       "    </tr>\n",
       "    <tr>\n",
       "      <th>19</th>\n",
       "      <td>tryptophan (U - 13C, 15N)</td>\n",
       "      <td>NaN</td>\n",
       "      <td>QC</td>\n",
       "      <td>10.156649</td>\n",
       "      <td>9.98646</td>\n",
       "      <td>10.200872</td>\n",
       "      <td>9.700872</td>\n",
       "      <td>10.700872</td>\n",
       "      <td>-0.214412</td>\n",
       "    </tr>\n",
       "    <tr>\n",
       "      <th>20</th>\n",
       "      <td>tyrosine (U - 13C, 15N)</td>\n",
       "      <td>NaN</td>\n",
       "      <td>QC</td>\n",
       "      <td>11.855156</td>\n",
       "      <td>11.571081</td>\n",
       "      <td>11.771035</td>\n",
       "      <td>11.271035</td>\n",
       "      <td>12.271035</td>\n",
       "      <td>-0.199954</td>\n",
       "    </tr>\n",
       "    <tr>\n",
       "      <th>21</th>\n",
       "      <td>valine (U - 13C, 15N)</td>\n",
       "      <td>NaN</td>\n",
       "      <td>QC</td>\n",
       "      <td>11.116009</td>\n",
       "      <td>10.86584</td>\n",
       "      <td>11.075074</td>\n",
       "      <td>10.575074</td>\n",
       "      <td>11.575074</td>\n",
       "      <td>-0.209234</td>\n",
       "    </tr>\n",
       "  </tbody>\n",
       "</table>\n",
       "</div>"
      ],
      "text/plain": [
       "                             label  adduct  polarity  rt_peak_baseline  \\\n",
       "0                       sorgoleone  [M+H]+  positive               NaN   \n",
       "1                       sorgoleone  [M-H]-  negative               NaN   \n",
       "2                ABMBA (unlabeled)     NaN        QC          1.093806   \n",
       "3   N-acetyl-glucosamine (U - 13C)     NaN        QC          6.707815   \n",
       "4                adenine (U - 15N)     NaN        QC          2.677602   \n",
       "5           alanine (U - 13C, 15N)     NaN        QC         13.405091   \n",
       "6          arginine (U - 13C, 15N)     NaN        QC         16.939915   \n",
       "7        asparagine (U - 13C, 15N)     NaN        QC         14.368089   \n",
       "8     aspartic acid (U - 13C, 15N)     NaN        QC         16.130360   \n",
       "9           cystine (U - 13C, 15N)     NaN        QC         16.904308   \n",
       "10    glutamic acid (U - 13C, 15N)     NaN        QC         15.935390   \n",
       "11               guanine (U - 15N)     NaN        QC          6.265360   \n",
       "12          hypoxanthine (U - 15N)     NaN        QC          3.102967   \n",
       "13               inosine (U - 15N)     NaN        QC          5.434236   \n",
       "14           lysine (U - 13C, 15N)     NaN        QC         17.011310   \n",
       "15       methionine (U - 13C, 15N)     NaN        QC         10.440955   \n",
       "16    phenylalanine (U - 13C, 15N)     NaN        QC          8.979306   \n",
       "17        threonine (U - 13C, 15N)     NaN        QC         13.489572   \n",
       "18          thymine (U - 13C, 15N)     NaN        QC          1.255231   \n",
       "19       tryptophan (U - 13C, 15N)     NaN        QC         10.156649   \n",
       "20         tyrosine (U - 13C, 15N)     NaN        QC         11.855156   \n",
       "21           valine (U - 13C, 15N)     NaN        QC         11.116009   \n",
       "\n",
       "   rt_peak_experimental  rt_peak_corrected  rt_min_corrected  \\\n",
       "0              0.801184           0.645454          0.145454   \n",
       "1              0.804263           0.648787          0.148787   \n",
       "2               1.21834           1.096205          0.596205   \n",
       "3              6.418233           6.580829          6.080829   \n",
       "4              2.834389           2.827321          2.327321   \n",
       "5             13.240681          13.400469         12.900469   \n",
       "6             17.013107          16.987934         16.487934   \n",
       "7             14.252848          14.375830         13.875830   \n",
       "8             16.043652          16.078480         15.578480   \n",
       "9             16.930342          16.910628         16.410628   \n",
       "10            15.834127          15.880790         15.380790   \n",
       "11             6.133224           6.286641          5.786641   \n",
       "12             3.127001           3.138205          2.638205   \n",
       "13             5.173415           5.290440          4.790440   \n",
       "14            17.090218          17.059901         16.559901   \n",
       "15            10.258733          10.472300          9.972300   \n",
       "16             8.996424           9.208172          8.708172   \n",
       "17            13.292386          13.450522         12.950522   \n",
       "18             1.293718           1.177483          0.677483   \n",
       "19              9.98646          10.200872          9.700872   \n",
       "20            11.571081          11.771035         11.271035   \n",
       "21             10.86584          11.075074         10.575074   \n",
       "\n",
       "    rt_max_corrected rt_diff_experimental_vs_corrected  \n",
       "0           1.145454                           0.15573  \n",
       "1           1.148787                          0.155476  \n",
       "2           1.596205                          0.122135  \n",
       "3           7.080829                         -0.162596  \n",
       "4           3.327321                          0.007068  \n",
       "5          13.900469                         -0.159788  \n",
       "6          17.487934                          0.025173  \n",
       "7          14.875830                         -0.122982  \n",
       "8          16.578480                         -0.034828  \n",
       "9          17.410628                          0.019714  \n",
       "10         16.380790                         -0.046663  \n",
       "11          6.786641                         -0.153417  \n",
       "12          3.638205                         -0.011204  \n",
       "13          5.790440                         -0.117025  \n",
       "14         17.559901                          0.030316  \n",
       "15         10.972300                         -0.213567  \n",
       "16          9.708172                         -0.211748  \n",
       "17         13.950522                         -0.158136  \n",
       "18          1.677483                          0.116235  \n",
       "19         10.700872                         -0.214412  \n",
       "20         12.271035                         -0.199954  \n",
       "21         11.575074                         -0.209234  "
      ]
     },
     "metadata": {},
     "output_type": "display_data"
    },
    {
     "name": "stdout",
     "output_type": "stream",
     "text": [
      "\tC18 RT correction results:\n"
     ]
    },
    {
     "data": {
      "text/html": [
       "<div>\n",
       "<style scoped>\n",
       "    .dataframe tbody tr th:only-of-type {\n",
       "        vertical-align: middle;\n",
       "    }\n",
       "\n",
       "    .dataframe tbody tr th {\n",
       "        vertical-align: top;\n",
       "    }\n",
       "\n",
       "    .dataframe thead th {\n",
       "        text-align: right;\n",
       "    }\n",
       "</style>\n",
       "<table border=\"1\" class=\"dataframe\">\n",
       "  <thead>\n",
       "    <tr style=\"text-align: right;\">\n",
       "      <th></th>\n",
       "      <th>label</th>\n",
       "      <th>adduct</th>\n",
       "      <th>polarity</th>\n",
       "      <th>rt_peak_baseline</th>\n",
       "      <th>rt_peak_experimental</th>\n",
       "      <th>rt_peak_corrected</th>\n",
       "      <th>rt_min_corrected</th>\n",
       "      <th>rt_max_corrected</th>\n",
       "      <th>rt_diff_experimental_vs_corrected</th>\n",
       "    </tr>\n",
       "  </thead>\n",
       "  <tbody>\n",
       "    <tr>\n",
       "      <th>0</th>\n",
       "      <td>sorgoleone</td>\n",
       "      <td>[M+H]+</td>\n",
       "      <td>positive</td>\n",
       "      <td>NaN</td>\n",
       "      <td>7.543334</td>\n",
       "      <td>7.438575</td>\n",
       "      <td>6.938575</td>\n",
       "      <td>7.938575</td>\n",
       "      <td>0.104759</td>\n",
       "    </tr>\n",
       "    <tr>\n",
       "      <th>1</th>\n",
       "      <td>sorgoleone</td>\n",
       "      <td>[M+Na]+</td>\n",
       "      <td>positive</td>\n",
       "      <td>NaN</td>\n",
       "      <td>7.544277</td>\n",
       "      <td>7.439548</td>\n",
       "      <td>6.939548</td>\n",
       "      <td>7.939548</td>\n",
       "      <td>0.104729</td>\n",
       "    </tr>\n",
       "    <tr>\n",
       "      <th>2</th>\n",
       "      <td>sorgoleone</td>\n",
       "      <td>[M-H]-</td>\n",
       "      <td>negative</td>\n",
       "      <td>NaN</td>\n",
       "      <td>7.547524</td>\n",
       "      <td>7.442898</td>\n",
       "      <td>6.942898</td>\n",
       "      <td>7.942898</td>\n",
       "      <td>0.104627</td>\n",
       "    </tr>\n",
       "    <tr>\n",
       "      <th>3</th>\n",
       "      <td>9-cis-retinoic acid</td>\n",
       "      <td>NaN</td>\n",
       "      <td>QC</td>\n",
       "      <td>7.372778</td>\n",
       "      <td>7.322109</td>\n",
       "      <td>7.210608</td>\n",
       "      <td>6.710608</td>\n",
       "      <td>7.710608</td>\n",
       "      <td>0.111501</td>\n",
       "    </tr>\n",
       "    <tr>\n",
       "      <th>4</th>\n",
       "      <td>ABMBA (unlabeled)</td>\n",
       "      <td>NaN</td>\n",
       "      <td>QC</td>\n",
       "      <td>4.700000</td>\n",
       "      <td>4.892107</td>\n",
       "      <td>4.738610</td>\n",
       "      <td>4.238610</td>\n",
       "      <td>5.238610</td>\n",
       "      <td>0.153496</td>\n",
       "    </tr>\n",
       "    <tr>\n",
       "      <th>5</th>\n",
       "      <td>caffeine</td>\n",
       "      <td>NaN</td>\n",
       "      <td>QC</td>\n",
       "      <td>2.652537</td>\n",
       "      <td>2.833037</td>\n",
       "      <td>2.689957</td>\n",
       "      <td>2.189957</td>\n",
       "      <td>3.189957</td>\n",
       "      <td>0.14308</td>\n",
       "    </tr>\n",
       "    <tr>\n",
       "      <th>6</th>\n",
       "      <td>enoxolone</td>\n",
       "      <td>NaN</td>\n",
       "      <td>QC</td>\n",
       "      <td>6.605928</td>\n",
       "      <td>6.792058</td>\n",
       "      <td>6.666384</td>\n",
       "      <td>6.166384</td>\n",
       "      <td>7.166384</td>\n",
       "      <td>0.125674</td>\n",
       "    </tr>\n",
       "    <tr>\n",
       "      <th>7</th>\n",
       "      <td>inosine (U - 15N)</td>\n",
       "      <td>NaN</td>\n",
       "      <td>QC</td>\n",
       "      <td>1.020000</td>\n",
       "      <td>1.13626</td>\n",
       "      <td>1.033480</td>\n",
       "      <td>0.533480</td>\n",
       "      <td>1.533480</td>\n",
       "      <td>0.10278</td>\n",
       "    </tr>\n",
       "    <tr>\n",
       "      <th>8</th>\n",
       "      <td>nigericin</td>\n",
       "      <td>NaN</td>\n",
       "      <td>QC</td>\n",
       "      <td>8.559813</td>\n",
       "      <td>8.749709</td>\n",
       "      <td>8.690287</td>\n",
       "      <td>8.190287</td>\n",
       "      <td>9.190287</td>\n",
       "      <td>0.059422</td>\n",
       "    </tr>\n",
       "    <tr>\n",
       "      <th>9</th>\n",
       "      <td>phenylalanine (U - 13C, 15N)</td>\n",
       "      <td>NaN</td>\n",
       "      <td>QC</td>\n",
       "      <td>1.452954</td>\n",
       "      <td>1.481643</td>\n",
       "      <td>1.368337</td>\n",
       "      <td>0.868337</td>\n",
       "      <td>1.868337</td>\n",
       "      <td>0.113306</td>\n",
       "    </tr>\n",
       "    <tr>\n",
       "      <th>10</th>\n",
       "      <td>sarsasapogenin</td>\n",
       "      <td>NaN</td>\n",
       "      <td>QC</td>\n",
       "      <td>8.155101</td>\n",
       "      <td>8.157297</td>\n",
       "      <td>8.073801</td>\n",
       "      <td>7.573801</td>\n",
       "      <td>8.573801</td>\n",
       "      <td>0.083496</td>\n",
       "    </tr>\n",
       "    <tr>\n",
       "      <th>11</th>\n",
       "      <td>tryptophan (U - 13C, 15N)</td>\n",
       "      <td>NaN</td>\n",
       "      <td>QC</td>\n",
       "      <td>2.200267</td>\n",
       "      <td>2.383098</td>\n",
       "      <td>2.247913</td>\n",
       "      <td>1.747913</td>\n",
       "      <td>2.747913</td>\n",
       "      <td>0.135185</td>\n",
       "    </tr>\n",
       "  </tbody>\n",
       "</table>\n",
       "</div>"
      ],
      "text/plain": [
       "                           label   adduct  polarity  rt_peak_baseline  \\\n",
       "0                     sorgoleone   [M+H]+  positive               NaN   \n",
       "1                     sorgoleone  [M+Na]+  positive               NaN   \n",
       "2                     sorgoleone   [M-H]-  negative               NaN   \n",
       "3            9-cis-retinoic acid      NaN        QC          7.372778   \n",
       "4              ABMBA (unlabeled)      NaN        QC          4.700000   \n",
       "5                       caffeine      NaN        QC          2.652537   \n",
       "6                      enoxolone      NaN        QC          6.605928   \n",
       "7              inosine (U - 15N)      NaN        QC          1.020000   \n",
       "8                      nigericin      NaN        QC          8.559813   \n",
       "9   phenylalanine (U - 13C, 15N)      NaN        QC          1.452954   \n",
       "10                sarsasapogenin      NaN        QC          8.155101   \n",
       "11     tryptophan (U - 13C, 15N)      NaN        QC          2.200267   \n",
       "\n",
       "   rt_peak_experimental  rt_peak_corrected  rt_min_corrected  \\\n",
       "0              7.543334           7.438575          6.938575   \n",
       "1              7.544277           7.439548          6.939548   \n",
       "2              7.547524           7.442898          6.942898   \n",
       "3              7.322109           7.210608          6.710608   \n",
       "4              4.892107           4.738610          4.238610   \n",
       "5              2.833037           2.689957          2.189957   \n",
       "6              6.792058           6.666384          6.166384   \n",
       "7               1.13626           1.033480          0.533480   \n",
       "8              8.749709           8.690287          8.190287   \n",
       "9              1.481643           1.368337          0.868337   \n",
       "10             8.157297           8.073801          7.573801   \n",
       "11             2.383098           2.247913          1.747913   \n",
       "\n",
       "    rt_max_corrected rt_diff_experimental_vs_corrected  \n",
       "0           7.938575                          0.104759  \n",
       "1           7.939548                          0.104729  \n",
       "2           7.942898                          0.104627  \n",
       "3           7.710608                          0.111501  \n",
       "4           5.238610                          0.153496  \n",
       "5           3.189957                           0.14308  \n",
       "6           7.166384                          0.125674  \n",
       "7           1.533480                           0.10278  \n",
       "8           9.190287                          0.059422  \n",
       "9           1.868337                          0.113306  \n",
       "10          8.573801                          0.083496  \n",
       "11          2.747913                          0.135185  "
      ]
     },
     "metadata": {},
     "output_type": "display_data"
    },
    {
     "name": "stdout",
     "output_type": "stream",
     "text": [
      "Saving data to: /global/homes/b/bkieft/metatlas_junkdrawer/example_data/metascischeller/cache/20250507092440_ref_stds_rt_correction.pkl\n",
      "Formatted 5 RT-corrected compounds for insertion into HILICZ atlases.\n",
      "Formatted 5 RT-corrected compounds for insertion into C18 atlases.\n",
      "Saving data to: /global/homes/b/bkieft/metatlas_junkdrawer/example_data/metascischeller/cache/20250507092440_ref_stds_ema_atlases.pkl\n"
     ]
    }
   ],
   "source": [
    "if config[\"ema_atlas_data_from_cache\"] is False:\n",
    "    ema_atlases_data = sta.get_ema_atlas_data(config[\"current_ema_atlases\"])\n",
    "    rt_peaks_filtered_top_selected_formatted = sta.convert_rt_peaks_to_atlas_format(rt_peaks_filtered_top_selected)\n",
    "    matches_to_atlases, nonmatches_to_atlases = sta.search_for_matches_in_atlases(rt_peaks_filtered_top_selected_formatted, ema_atlases_data)\n",
    "\n",
    "    if config[\"rt_correction_data_from_cache\"] is False:\n",
    "        print(\"Setting up RT correction for compounds not yet in atlases using baseline correction method:\\n\")\n",
    "        baseline_qc, experimental_qc, baseline_to_experimental_qc = sta.get_qc_experimental_atlas(nonmatches_to_atlases, config[\"current_qc_atlases\"], include_istds=True)\n",
    "        baseline_correction_inputs = sta.create_baseline_correction_input(nonmatches_to_atlases, baseline_to_experimental_qc)\n",
    "        baseline_correction_outputs = sta.rt_correction_from_baseline(baseline_correction_inputs, config)\n",
    "        sta.handle_data(mode=\"save\", config=config, timestamp=timestamp, file_suffix=\"rt_correction\", \\\n",
    "                        data=(baseline_to_experimental_qc, baseline_correction_outputs))\n",
    "\n",
    "    elif config[\"rt_correction_data_from_cache\"] is True:\n",
    "        baseline_to_experimental_qc, baseline_correction_outputs = sta.handle_data(mode=\"load\",config=config, file_suffix=\"rt_correction\")\n",
    "\n",
    "    nonmatches_to_atlases_rt_corrected = sta.substitute_corrected_rt_values(nonmatches_to_atlases, baseline_correction_outputs)\n",
    "    sta.handle_data(mode=\"save\", config=config, timestamp=timestamp, file_suffix=\"ema_atlases\", \\\n",
    "                    data=(nonmatches_to_atlases_rt_corrected, ema_atlases_data, baseline_to_experimental_qc, baseline_correction_outputs))\n",
    "\n",
    "elif config[\"ema_atlas_data_from_cache\"] is True:\n",
    "    nonmatches_to_atlases_rt_corrected, ema_atlases_data, baseline_to_experimental_qc, baseline_correction_outputs = sta.handle_data(mode=\"load\", config=config, file_suffix=\"ema_atlases\")\n",
    "    print(f\"Total compounds to add to EMA atlases per chromatography: {nonmatches_to_atlases_rt_corrected['chromatography'].nunique()}\")"
   ]
  },
  {
   "cell_type": "markdown",
   "metadata": {},
   "source": [
    "# Create new EMA atlas with top selected reference standards added"
   ]
  },
  {
   "cell_type": "code",
   "execution_count": 15,
   "metadata": {},
   "outputs": [
    {
     "name": "stdout",
     "output_type": "stream",
     "text": [
      "\n",
      "Current HILICZ positive EMA atlas: HILIC_EMA-standards_positive.tsv\n",
      "373 current compounds updated with 1 new compounds for a total of 374 compounds.\n",
      "Updated HILICZ positive EMA atlas saved to: /global/homes/b/bkieft/metatlas_junkdrawer/example_data/metascischeller/updated_EMA_atlases/HILIC_EMA-standards_positive_20250507092440.tsv\n",
      "\n",
      "\n",
      "Current HILICZ negative EMA atlas: HILIC_EMA-standards_negative.tsv\n",
      "418 current compounds updated with 1 new compounds for a total of 419 compounds.\n",
      "Updated HILICZ negative EMA atlas saved to: /global/homes/b/bkieft/metatlas_junkdrawer/example_data/metascischeller/updated_EMA_atlases/HILIC_EMA-standards_negative_20250507092440.tsv\n",
      "\n",
      "\n",
      "Current C18 positive EMA atlas: C18_EMA-standards_positive.tsv\n",
      "3791 current compounds updated with 2 new compounds for a total of 3793 compounds.\n",
      "Updated C18 positive EMA atlas saved to: /global/homes/b/bkieft/metatlas_junkdrawer/example_data/metascischeller/updated_EMA_atlases/C18_EMA-standards_positive_20250507092440.tsv\n",
      "\n",
      "\n",
      "Current C18 negative EMA atlas: C18_EMA-standards_negative.tsv\n",
      "2696 current compounds updated with 1 new compounds for a total of 2697 compounds.\n",
      "Updated C18 negative EMA atlas saved to: /global/homes/b/bkieft/metatlas_junkdrawer/example_data/metascischeller/updated_EMA_atlases/C18_EMA-standards_negative_20250507092440.tsv\n",
      "\n",
      "Saving data to: /global/homes/b/bkieft/metatlas_junkdrawer/example_data/metascischeller/cache/20250507092440_ref_stds_new_atlas_ids.pkl\n",
      "Loading most recent pkl file: /global/homes/b/bkieft/metatlas_junkdrawer/example_data/metascischeller/cache/20250507092440_ref_stds_new_atlas_ids.pkl\n",
      "\n",
      "New EMA atlas locations:\n"
     ]
    },
    {
     "data": {
      "text/html": [
       "<div>\n",
       "<style scoped>\n",
       "    .dataframe tbody tr th:only-of-type {\n",
       "        vertical-align: middle;\n",
       "    }\n",
       "\n",
       "    .dataframe tbody tr th {\n",
       "        vertical-align: top;\n",
       "    }\n",
       "\n",
       "    .dataframe thead th {\n",
       "        text-align: right;\n",
       "    }\n",
       "</style>\n",
       "<table border=\"1\" class=\"dataframe\">\n",
       "  <thead>\n",
       "    <tr style=\"text-align: right;\">\n",
       "      <th></th>\n",
       "      <th>HILICZ</th>\n",
       "      <th>C18</th>\n",
       "    </tr>\n",
       "  </thead>\n",
       "  <tbody>\n",
       "    <tr>\n",
       "      <th>positive</th>\n",
       "      <td>/global/homes/b/bkieft/metatlas_junkdrawer/example_data/metascischeller/updated_EMA_atlases/HILIC_EMA-standards_positive_20250507092440.tsv</td>\n",
       "      <td>/global/homes/b/bkieft/metatlas_junkdrawer/example_data/metascischeller/updated_EMA_atlases/C18_EMA-standards_positive_20250507092440.tsv</td>\n",
       "    </tr>\n",
       "    <tr>\n",
       "      <th>negative</th>\n",
       "      <td>/global/homes/b/bkieft/metatlas_junkdrawer/example_data/metascischeller/updated_EMA_atlases/HILIC_EMA-standards_negative_20250507092440.tsv</td>\n",
       "      <td>/global/homes/b/bkieft/metatlas_junkdrawer/example_data/metascischeller/updated_EMA_atlases/C18_EMA-standards_negative_20250507092440.tsv</td>\n",
       "    </tr>\n",
       "  </tbody>\n",
       "</table>\n",
       "</div>"
      ],
      "text/plain": [
       "                                                                                                                                               HILICZ  \\\n",
       "positive  /global/homes/b/bkieft/metatlas_junkdrawer/example_data/metascischeller/updated_EMA_atlases/HILIC_EMA-standards_positive_20250507092440.tsv   \n",
       "negative  /global/homes/b/bkieft/metatlas_junkdrawer/example_data/metascischeller/updated_EMA_atlases/HILIC_EMA-standards_negative_20250507092440.tsv   \n",
       "\n",
       "                                                                                                                                                C18  \n",
       "positive  /global/homes/b/bkieft/metatlas_junkdrawer/example_data/metascischeller/updated_EMA_atlases/C18_EMA-standards_positive_20250507092440.tsv  \n",
       "negative  /global/homes/b/bkieft/metatlas_junkdrawer/example_data/metascischeller/updated_EMA_atlases/C18_EMA-standards_negative_20250507092440.tsv  "
      ]
     },
     "metadata": {},
     "output_type": "display_data"
    }
   ],
   "source": [
    "if config['save_new_ema_atlases'] is True:\n",
    "    ema_atlas_ids, ema_atlas_names = sta.update_and_save_ema_atlases(nonmatches_to_atlases_rt_corrected, ema_atlases_data, config, timestamp)\n",
    "    sta.handle_data(mode=\"save\", config=config, timestamp=timestamp, file_suffix=\"new_atlas_ids\", \\\n",
    "                    data=(ema_atlas_ids, ema_atlas_names))\n",
    "    ema_atlas_ids, ema_atlas_names = sta.handle_data(mode=\"load\", config=config, file_suffix=\"new_atlas_ids\")\n",
    "\n",
    "    if config['direct_deposit_new_emas'] is True:\n",
    "        print(\"New EMA atlases have been saved to disk and deposited in the metatlas database:\")\n",
    "        display(pd.DataFrame.from_dict(ema_atlas_ids))\n",
    "    print(f\"\\nNew EMA atlas locations:\")\n",
    "    display(pd.DataFrame.from_dict(ema_atlas_names))\n",
    "\n",
    "elif config['save_new_ema_atlases'] is False:\n",
    "    print(\"No new EMA atlases saved to disk, as 'save_new_ema_atlases' is set to False in the config file.\")\n",
    "    print(\"Here is the new atlas data in memory:\")\n",
    "    display(nonmatches_to_atlases_rt_corrected)"
   ]
  },
  {
   "cell_type": "markdown",
   "metadata": {},
   "source": [
    "# Identify compounds not in MSMS refs and set up new MSMS refs creation"
   ]
  },
  {
   "cell_type": "code",
   "execution_count": 16,
   "metadata": {},
   "outputs": [
    {
     "name": "stdout",
     "output_type": "stream",
     "text": [
      "Loaded MSMS refs with 216409 rows and 17 columns.\n"
     ]
    },
    {
     "data": {
      "application/vnd.jupyter.widget-view+json": {
       "model_id": "d9778dbd7aba403c90fef5caf9197733",
       "version_major": 2,
       "version_minor": 0
      },
      "text/plain": [
       " Searching for matches in MSMS refs:   0%|          | 0/12 [00:00<?, ? compound/s]"
      ]
     },
     "metadata": {},
     "output_type": "display_data"
    },
    {
     "name": "stdout",
     "output_type": "stream",
     "text": [
      "\n",
      "12 compounds+adducts are not yet in MSMS refs. Check notin_msms_refs to view.\n",
      "\n",
      "Saving data to: /global/homes/b/bkieft/metatlas_junkdrawer/example_data/metascischeller/cache/20250507092440_ref_stds_msms_refs.pkl\n"
     ]
    }
   ],
   "source": [
    "if config[\"msms_refs_data_from_cache\"] is False:\n",
    "    msms_refs = sta.get_msms_refs(msms_refs_path=config[\"current_msms_refs_path\"])\n",
    "    rt_peaks_filtered_all_selected_formatted = sta.format_for_msms_refs(rt_peaks_filtered_all_selected, top_spectra_filtered, msms_refs, config)\n",
    "    in_msms_refs, notin_msms_refs = sta.search_for_matches_in_msms_refs(rt_peaks_filtered_all_selected_formatted, msms_refs, check_by_flat=True)\n",
    "    sta.handle_data(mode=\"save\", config=config, timestamp=timestamp, file_suffix=\"msms_refs\", \\\n",
    "                    data=(msms_refs, notin_msms_refs, rt_peaks_filtered_all_selected_formatted))\n",
    "    \n",
    "elif config[\"msms_refs_data_from_cache\"] is True:\n",
    "    msms_refs, notin_msms_refs, rt_peaks_filtered_all_selected_formatted = sta.handle_data(mode=\"load\", config=config, file_suffix=\"msms_refs\")"
   ]
  },
  {
   "cell_type": "markdown",
   "metadata": {},
   "source": [
    "# Create new MSMS refs table with all selected reference standards added"
   ]
  },
  {
   "cell_type": "code",
   "execution_count": 17,
   "metadata": {},
   "outputs": [
    {
     "name": "stdout",
     "output_type": "stream",
     "text": [
      "Existing MSMS refs went from 216409 to 216421 compounds.\n",
      "\tNew MSMS refs: /global/homes/b/bkieft/metatlas_junkdrawer/example_data/metascischeller/updated_MSMS_refs/msms_refs_20250507092440.tab\n"
     ]
    }
   ],
   "source": [
    "if config['save_new_msms_refs'] is True:\n",
    "    sta.update_and_save_msms_refs(msms_refs, notin_msms_refs, config, timestamp)\n",
    "\n",
    "elif config['save_new_msms_refs'] is False:\n",
    "    print(\"No new MSMS refs saved to disk, as 'save_new_msms_refs' is set to False in the config file.\")\n",
    "    print(\"Here is the new MSMS refs data in memory:\")\n",
    "    display(notin_msms_refs)"
   ]
  }
 ],
 "metadata": {
  "kernelspec": {
   "display_name": "metatlas",
   "language": "python",
   "name": "python3"
  },
  "language_info": {
   "codemirror_mode": {
    "name": "ipython",
    "version": 3
   },
   "file_extension": ".py",
   "mimetype": "text/x-python",
   "name": "python",
   "nbconvert_exporter": "python",
   "pygments_lexer": "ipython3",
   "version": "3.11.8"
  }
 },
 "nbformat": 4,
 "nbformat_minor": 2
}
