{
 "cells": [
  {
   "cell_type": "code",
   "execution_count": null,
   "metadata": {},
   "outputs": [],
   "source": [
    "import numpy as np\n",
    "import pandas as pd\n",
    "import sys\n",
    "from datetime import datetime\n",
    "import os\n",
    "from IPython.display import display\n",
    "import yaml\n",
    "\n",
    "sys.path.insert(1, '/global/homes/b/bkieft/metatlas')\n",
    "import notebooks.standards_library.standard_annotation as sta\n",
    "\n",
    "pd.options.display.max_colwidth = 300\n",
    "timestamp = datetime.now().strftime(\"%Y%m%d%H%M%S\")"
   ]
  },
  {
   "cell_type": "markdown",
   "metadata": {},
   "source": [
    "# Enter Reference Standard information"
   ]
  },
  {
   "cell_type": "code",
   "execution_count": null,
   "metadata": {},
   "outputs": [],
   "source": [
    "config_path = \"/global/homes/b/bkieft/metatlas/notebooks/standards_library/msms_set_config.yaml\"\n",
    "with open(config_path, \"r\") as config_file:\n",
    "    config = yaml.safe_load(config_file)"
   ]
  },
  {
   "cell_type": "markdown",
   "metadata": {},
   "source": [
    "# Get EIC and Spectra information from run table"
   ]
  },
  {
   "cell_type": "code",
   "execution_count": null,
   "metadata": {},
   "outputs": [],
   "source": [
    "if config[\"raw_data_from_cache\"] is False:\n",
    "    lcmsruns_table_with_adducts = sta.build_standard_lcmsrun_table(config['standards_input_file'], include_polarities=config[\"include_polarities\"], \n",
    "                                                                   include_chromatographies=config[\"include_chromatographies\"], include_adducts=config[\"include_adducts\"])\n",
    "\n",
    "    eics_full, top_spectra_full, group_names_full, rt_peaks_full, atlas_full, mols_images = sta.extract_data(lcmsruns_table=lcmsruns_table_with_adducts,\n",
    "                                                                                                            ppm_tolerance=config[\"ppm_tolerance\"],\n",
    "                                                                                                            method=\"find_peaks\")\n",
    "    sta.handle_data(\n",
    "        mode=\"save\",\n",
    "        save_path=config['standards_output_path'],\n",
    "        timestamp=timestamp,\n",
    "        data=(eics_full, top_spectra_full, group_names_full, rt_peaks_full, atlas_full, mols_images),\n",
    "        file_suffix=\"full\"\n",
    "    )\n",
    "    \n",
    "elif config[\"raw_data_from_cache\"] is True:\n",
    "    eics_full, top_spectra_full, group_names_full, rt_peaks_full, atlas_full, mols_images = sta.handle_data(mode=\"load\",\n",
    "                                                                                                            save_path=config['standards_output_path'],\n",
    "                                                                                                            file_suffix=\"full\")"
   ]
  },
  {
   "cell_type": "markdown",
   "metadata": {},
   "source": [
    "# Create interactive plot and choose adducts"
   ]
  },
  {
   "cell_type": "code",
   "execution_count": null,
   "metadata": {},
   "outputs": [],
   "source": [
    "if config[\"selected_data_from_cache\"] is False:\n",
    "\n",
    "    processed_data = sta.process_data_for_plotting(eics_full, top_spectra_full, group_names_full, rt_peaks_full, config[\"include_adducts\"], sort_by='run', # 'run', 'specs'\n",
    "                                                   subset_by_compound=\"sorgoleone\", subset_by_run=None) # Use these to subset by compound (str) or run number (int)\n",
    "\n",
    "    selected_adducts_dict = {}\n",
    "    ambiguous_adducts_dict = {}\n",
    "    top_adducts_dict = {}\n",
    "    sta.create_interactive_plots(processed_data, mols_images, selected_adducts_dict, ambiguous_adducts_dict, top_adducts_dict) # Run this to create the interactive plots\n",
    "    # Run next cell after manual selection of adducts"
   ]
  },
  {
   "cell_type": "code",
   "execution_count": null,
   "metadata": {},
   "outputs": [],
   "source": [
    "if config[\"selected_data_from_cache\"] is False:\n",
    "    sta.handle_data(\n",
    "        mode=\"save\",\n",
    "        save_path=config['standards_output_path'],\n",
    "        timestamp=timestamp,\n",
    "        data=(selected_adducts_dict, ambiguous_adducts_dict, top_adducts_dict, processed_data),\n",
    "        file_suffix=\"selected\"\n",
    "    )\n",
    "    sta.generate_static_summary_plots(processed_data, selected_adducts_dict, top_adducts_dict, config[\"standards_output_path\"]) # Save summary plots of selected compounds+adducts after completing GUI\n",
    "    \n",
    "elif config[\"selected_data_from_cache\"] is True:\n",
    "    selected_adducts_dict, ambiguous_adducts_dict, top_adducts_dict, processed_data = sta.handle_data(mode=\"load\",\n",
    "                                                                                                        save_path=config['standards_output_path'],\n",
    "                                                                                                        file_suffix=\"selected\")"
   ]
  },
  {
   "cell_type": "markdown",
   "metadata": {},
   "source": [
    "# Filter RT Peak, EICs, and Top Spectra by selected compounds+adducts"
   ]
  },
  {
   "cell_type": "code",
   "execution_count": null,
   "metadata": {},
   "outputs": [],
   "source": [
    "if config[\"filtered_data_from_cache\"] is False:\n",
    "    eics_filtered, rt_peaks_filtered, top_spectra_filtered = sta.filter_by_selected(eics_full, rt_peaks_full, top_spectra_full, selected_adducts_dict, top_adducts_dict) \n",
    "    sta.handle_data(\n",
    "        mode=\"save\",\n",
    "        save_path=config['standards_output_path'],\n",
    "        timestamp=timestamp,\n",
    "        data=(eics_filtered, top_spectra_filtered, rt_peaks_filtered),\n",
    "        file_suffix=\"filtered\"\n",
    "    )\n",
    "\n",
    "elif config[\"filtered_data_from_cache\"] is True:\n",
    "    eics_filtered, top_spectra_filtered, rt_peaks_filtered = sta.handle_data(mode=\"load\",\n",
    "                                                                             save_path=config['standards_output_path'],\n",
    "                                                                             file_suffix=\"filtered\")\n",
    "    rt_peaks_filtered_all_selected, rt_peaks_filtered_top_selected = sta.format_and_select_top_adducts(rt_peaks_filtered, top_adducts_dict) # Format RT peaks data for adding to metatlas DB, atlases, and MSMS refs. Export \"all\" for MSMS refs and \"top\" for EMA atlases\n",
    "    in_db, notin_db = sta.search_for_matches_in_metatlas_db(rt_peaks_filtered_all_selected, check_by_flat=True) # Check if selected compounds are in metatlas DB\n",
    "    if len(notin_db) > 0 and config['direct_store_to_compounds_table'] is True: # Store selected compounds+adducts in metatlas db\n",
    "        sta.store_in_metatlas_db(notin_db)\n",
    "    sta.check_db_deposit(rt_peaks_filtered_top_selected)"
   ]
  },
  {
   "cell_type": "markdown",
   "metadata": {},
   "source": [
    "# Identify compounds not in atlases and set up new atlas creation"
   ]
  },
  {
   "cell_type": "code",
   "execution_count": null,
   "metadata": {},
   "outputs": [],
   "source": [
    "if config[\"ema_atlas_data_from_cache\"] is False:\n",
    "    ema_atlases = sta.get_ema_atlas_data(config[\"current_ema_atlases\"])\n",
    "    rt_peaks_filtered_top_selected_formatted = sta.convert_rt_peaks_to_atlas_format(rt_peaks_filtered_top_selected)\n",
    "    matches_to_atlases, nonmatches_to_atlases = sta.search_for_matches_in_atlases(rt_peaks_filtered_top_selected_formatted, ema_atlases)\n",
    "\n",
    "    if config[\"rt_correction_data_from_cache\"] is False:\n",
    "        baseline_qc, experimental_qc, baseline_to_experimental_qc = sta.get_qc_experimental_atlas(nonmatches_to_atlases, config[\"current_qc_atlases\"], include_istds=True)\n",
    "        baseline_correction_inputs = sta.create_baseline_correction_input(nonmatches_to_atlases, baseline_to_experimental_qc)\n",
    "        baseline_correction_outputs = sta.rt_correction_from_baseline(baseline_correction_inputs, config[\"include_chromatographies\"])\n",
    "        sta.handle_data(\n",
    "            mode=\"save\",\n",
    "            save_path=config['standards_output_path'],\n",
    "            timestamp=timestamp,\n",
    "            data=(baseline_to_experimental_qc, baseline_correction_outputs),\n",
    "            file_suffix=\"rt_correction\"\n",
    "        )\n",
    "\n",
    "    elif config[\"rt_correction_data_from_cache\"] is True:\n",
    "        baseline_to_experimental_qc, baseline_correction_outputs = sta.handle_data(mode=\"load\",save_path=config['standards_output_path'], file_suffix=\"rt_correction\")\n",
    "\n",
    "    nonmatches_to_atlases_rt_corrected = sta.substitute_corrected_rt_values(nonmatches_to_atlases, baseline_correction_outputs)\n",
    "    sta.handle_data(\n",
    "        mode=\"save\",\n",
    "        save_path=config['standards_output_path'],\n",
    "        timestamp=timestamp,\n",
    "        data=(nonmatches_to_atlases_rt_corrected, ema_atlases),\n",
    "        file_suffix=\"ema_atlases\"\n",
    "    )\n",
    "\n",
    "elif config[\"ema_atlas_data_from_cache\"] is True:\n",
    "    nonmatches_to_atlases_rt_corrected, ema_atlases = sta.handle_data(mode=\"load\",\n",
    "                                                                        save_path=config['standards_output_path'],\n",
    "                                                                        file_suffix=\"ema_atlases\")"
   ]
  },
  {
   "cell_type": "markdown",
   "metadata": {},
   "source": [
    "# Create new EMA atlas with top selected reference standards added"
   ]
  },
  {
   "cell_type": "code",
   "execution_count": null,
   "metadata": {},
   "outputs": [],
   "source": [
    "ema_atlas_id, ema_atlas_name = sta.update_and_save_ema_atlases(nonmatches_to_atlases_rt_corrected, ema_atlases, config, timestamp)\n",
    "sta.handle_data(\n",
    "    mode=\"save\",\n",
    "    save_path=config['standards_output_path'],\n",
    "    timestamp=timestamp,\n",
    "    data=(ema_atlas_id, ema_atlas_name),\n",
    "    file_suffix=\"update_atlas_ids\"\n",
    ")"
   ]
  },
  {
   "cell_type": "markdown",
   "metadata": {},
   "source": [
    "# Identify compounds not in MSMS refs and set up new MSMS refs creation"
   ]
  },
  {
   "cell_type": "code",
   "execution_count": null,
   "metadata": {},
   "outputs": [],
   "source": [
    "if config[\"msms_refs_data_from_cache\"] is False:\n",
    "\n",
    "    msms_refs = sta.get_msms_refs(msms_refs_path=config[\"current_msms_refs_path\"])\n",
    "    rt_peaks_filtered_all_selected_formatted = sta.format_for_msms_refs(rt_peaks_filtered_all_selected, top_spectra_filtered, msms_refs, config[\"msms_refs_metadata\"])\n",
    "    in_msms_refs, notin_msms_refs = sta.search_for_matches_in_msms_refs(rt_peaks_filtered_all_selected_formatted, msms_refs, check_by_flat=True)\n",
    "    sta.handle_data(\n",
    "        mode=\"save\",\n",
    "        save_path=config['standards_output_path'],\n",
    "        timestamp=timestamp,\n",
    "        data=(msms_refs, notin_msms_refs),\n",
    "        file_suffix=\"msms_refs\"\n",
    "    )\n",
    "    \n",
    "elif config[\"msms_refs_data_from_cache\"] is True:\n",
    "    msms_refs, notin_msms_refs = sta.handle_data(mode=\"load\",\n",
    "                                                  save_path=config['standards_output_path'],\n",
    "                                                  file_suffix=\"msms_refs\")"
   ]
  },
  {
   "cell_type": "markdown",
   "metadata": {},
   "source": [
    "# Create new MSMS refs table with all selected reference standards added"
   ]
  },
  {
   "cell_type": "code",
   "execution_count": null,
   "metadata": {},
   "outputs": [],
   "source": [
    "sta.update_and_save_msms_refs(msms_refs, notin_msms_refs, config[\"standards_output_path\"], timestamp, save_refs=True)"
   ]
  }
 ],
 "metadata": {
  "kernelspec": {
   "display_name": "metatlas",
   "language": "python",
   "name": "python3"
  },
  "language_info": {
   "codemirror_mode": {
    "name": "ipython",
    "version": 3
   },
   "file_extension": ".py",
   "mimetype": "text/x-python",
   "name": "python",
   "nbconvert_exporter": "python",
   "pygments_lexer": "ipython3",
   "version": "3.11.8"
  }
 },
 "nbformat": 4,
 "nbformat_minor": 2
}
