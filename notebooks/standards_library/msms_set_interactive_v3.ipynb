{
 "cells": [
  {
   "cell_type": "code",
   "execution_count": 1,
   "metadata": {},
   "outputs": [],
   "source": [
    "import plotly.graph_objects as go\n",
    "from plotly.subplots import make_subplots\n",
    "import numpy as np\n",
    "import pandas as pd\n",
    "import sys\n",
    "import ipywidgets as widgets\n",
    "from IPython.display import display, clear_output\n",
    "import pickle\n",
    "from datetime import datetime\n",
    "import math\n",
    "import glob\n",
    "import os\n",
    "import base64\n",
    "\n",
    "sys.path.insert(1, '/global/homes/b/bkieft/metatlas')\n",
    "import notebooks.standards_library.standard_annotation as sta\n",
    "pd.options.display.max_colwidth = 300"
   ]
  },
  {
   "cell_type": "markdown",
   "metadata": {},
   "source": [
    "# Enter Reference Standard information"
   ]
  },
  {
   "cell_type": "code",
   "execution_count": 2,
   "metadata": {},
   "outputs": [],
   "source": [
    "ppm_tolerance = 5\n",
    "include_polarities = ['POS', 'NEG']\n",
    "#include_chromatographies = ['C18', 'HILIC'] # 'C18' and/or 'HILIC'\n",
    "include_chromatographies = ['C18']\n",
    "include_adducts = ['[M+H]+', '[M+Na]+', '[M-H2O+H]+', '[M+K]+', '[M+NH4]+', '[M]+', '[M+2H]2+','[M-H]-', '[M+Cl]-', '[M]-', '[M-2H]2-']\n",
    "\n",
    "# path_to_standards_files = '/global/homes/b/bkieft/metabolomics_standards_annotation/standard_library_annotation/metasci-flavanoids_output'\n",
    "# csv_standard_info_path = f'{path_to_standards_files}/metasci_flav_annotation_input.csv'\n",
    "path_to_standards_files = '/global/homes/b/bkieft/metabolomics_standards_annotation/standard_library_annotation/'\n",
    "csv_standard_info_path = f'{path_to_standards_files}/scheller_test.csv'\n",
    "\n",
    "input_compounds = pd.read_csv(csv_standard_info_path)\n",
    "new_analysis = False"
   ]
  },
  {
   "cell_type": "markdown",
   "metadata": {},
   "source": [
    "# Build run table with adducts"
   ]
  },
  {
   "cell_type": "code",
   "execution_count": 3,
   "metadata": {},
   "outputs": [
    {
     "name": "stderr",
     "output_type": "stream",
     "text": [
      "[16:33:24] ERROR: \n",
      "\n",
      "[16:33:24] ERROR: \n",
      "\n",
      "[16:33:24] ERROR: \n",
      "\n",
      "[16:33:24] ERROR: \n",
      "\n",
      "[16:33:24] ERROR: \n",
      "\n",
      "[16:33:24] ERROR: \n",
      "\n",
      "[16:33:24] ERROR: \n",
      "\n",
      "[16:33:24] ERROR: \n",
      "\n",
      "[16:33:24] ERROR: \n",
      "\n",
      "[16:33:24] ERROR: \n",
      "\n",
      "[16:33:24] ERROR: \n",
      "\n",
      "[16:33:24] ERROR: \n",
      "\n",
      "[16:33:24] ERROR: \n",
      "\n",
      "[16:33:24] ERROR: \n",
      "\n",
      "[16:33:24] ERROR: \n",
      "\n"
     ]
    }
   ],
   "source": [
    "standard_lcmsruns_table = sta.build_standard_lcmsrun_table(csv_standard_info_path, include_polarities=include_polarities, include_chromatographies=include_chromatographies)\n",
    "standard_lcmsruns_table_with_adducts = sta.build_adduct_annotated_table(standard_lcmsruns_table, include_adducts=include_adducts)"
   ]
  },
  {
   "cell_type": "markdown",
   "metadata": {},
   "source": [
    "# Get EIC and Spectra information from run table"
   ]
  },
  {
   "cell_type": "code",
   "execution_count": 4,
   "metadata": {},
   "outputs": [],
   "source": [
    "# test = standard_lcmsruns_table_with_adducts[standard_lcmsruns_table_with_adducts['standard_lcmsrun'].str.contains('Sorgoleone')]\n",
    "# test = test[test['standard_lcmsrun'].str.contains('C18')]\n",
    "# test = test[test['standard_lcmsrun'].str.contains('POS')]\n",
    "# test = test[test['standard_lcmsrun'].str.contains('205060')]\n",
    "# test.shape"
   ]
  },
  {
   "cell_type": "code",
   "execution_count": 5,
   "metadata": {},
   "outputs": [],
   "source": [
    "if new_analysis is True:\n",
    "    eics_list, top_spectra_list, group_name_list, rt_peak_list = sta.extract_data(lcmsruns_table=standard_lcmsruns_table_with_adducts, \n",
    "                                                                                    ppm_tolerance=ppm_tolerance,\n",
    "                                                                                    method=\"find_peaks\")\n",
    "    runnum_to_structure_image_grid = sta.generate_gridded_molecular_images(standard_lcmsruns_table_with_adducts)"
   ]
  },
  {
   "cell_type": "markdown",
   "metadata": {},
   "source": [
    "# Save and/or read data"
   ]
  },
  {
   "cell_type": "code",
   "execution_count": 6,
   "metadata": {},
   "outputs": [
    {
     "name": "stdout",
     "output_type": "stream",
     "text": [
      "Loading most recent pkl file: /global/homes/b/bkieft/metabolomics_standards_annotation/standard_library_annotation/scheller_test_20250411_154752_standards_data.pkl\n"
     ]
    }
   ],
   "source": [
    "if new_analysis is True:\n",
    "    current_time = datetime.now().strftime(\"%Y%m%d_%H%M%S\")\n",
    "    standards_data_filename = csv_standard_info_path.replace(\".csv\", f\"_{current_time}_standards_data.pkl\")\n",
    "    print(f\"Saving standards data to: {standards_data_filename}\")\n",
    "    with open(standards_data_filename, 'wb') as f:\n",
    "        pickle.dump((eics_list, top_spectra_list, group_name_list, rt_peak_list, runnum_to_structure_image_grid), f)\n",
    "elif new_analysis is False:\n",
    "    pkl_files = glob.glob(f\"{path_to_standards_files}/*_standards_data.pkl\")\n",
    "    most_recent_pkl = max(pkl_files, key=os.path.getmtime)\n",
    "    print(f\"Loading most recent pkl file: {most_recent_pkl}\")\n",
    "    with open(most_recent_pkl, 'rb') as f:\n",
    "        eics_list, top_spectra_list, group_name_list, rt_peak_list, runnum_to_structure_image_grid = pickle.load(f)"
   ]
  },
  {
   "cell_type": "markdown",
   "metadata": {},
   "source": [
    "# Format EIC and Spectra information for plotting"
   ]
  },
  {
   "cell_type": "code",
   "execution_count": 7,
   "metadata": {},
   "outputs": [],
   "source": [
    "processed_data = []\n",
    "adduct_color = sta.generate_adduct_colors(include_adducts)\n",
    "obj_lengths = [len(eics_list), len(top_spectra_list), len(group_name_list), len(rt_peak_list)]\n",
    "\n",
    "if len(set(obj_lengths)) != 1:\n",
    "    print(f\"Warning: Lists have inconsistent lengths: {obj_lengths}\")\n",
    "number_of_groups = obj_lengths[0]\n",
    "\n",
    "for i in range(number_of_groups):\n",
    "    eics = eics_list[i]\n",
    "    top_spectra = top_spectra_list[i]\n",
    "    group_name = group_name_list[i]\n",
    "    rt_peaks = rt_peak_list[i]\n",
    "\n",
    "    # Extract group-specific information\n",
    "    compound_name = group_name[0]\n",
    "    group_file = group_name[1]\n",
    "    compound_smiles = group_name[2]\n",
    "    group_run_number = sta.get_run_num(group_file)\n",
    "    group_chrom = sta.get_chromatography(group_file)\n",
    "    group_pol = sta.get_file_polarity(group_file)\n",
    "    group_params = sta.get_lcmsrun_params(group_file)\n",
    "\n",
    "    # Unique identifier for the group\n",
    "    group_id = f\"{compound_name}_{group_chrom}_{group_pol}_{group_params}_{group_run_number}\"\n",
    "    unique_id = f\"{compound_name};;{group_file}\"\n",
    "    \n",
    "    # Extract unique adducts from EICs\n",
    "    eic_adducts = sta.extract_adducts(eics)\n",
    "\n",
    "    # Append processed data for further use\n",
    "    processed_data.append({\n",
    "        \"group_id\": group_id,\n",
    "        \"eics\": eics,\n",
    "        \"top_spectra\": top_spectra,\n",
    "        \"rt_peaks\": rt_peaks,\n",
    "        \"compound_name\": compound_name,\n",
    "        \"compound_smiles\": compound_smiles,\n",
    "        \"group_file\": group_file,\n",
    "        \"unique_id\": unique_id,\n",
    "        \"group_run_number\": group_run_number,\n",
    "        \"group_chrom\": group_chrom,\n",
    "        \"group_pol\": group_pol,\n",
    "        \"group_params\": group_params,\n",
    "        \"adduct_color\": adduct_color\n",
    "    })\n",
    "\n",
    "processed_data.sort(key=lambda x: x['group_run_number'])"
   ]
  },
  {
   "cell_type": "markdown",
   "metadata": {},
   "source": [
    "# Create interactive plot and choose adducts"
   ]
  },
  {
   "cell_type": "code",
   "execution_count": 8,
   "metadata": {},
   "outputs": [
    {
     "data": {
      "application/vnd.jupyter.widget-view+json": {
       "model_id": "b2b2b93839fa4c9a9a29ba10a21523a2",
       "version_major": 2,
       "version_minor": 0
      },
      "text/plain": [
       "VBox(children=(HBox(children=(VBox(children=(Checkbox(value=False, description='[M-H]- (peak1)'), Checkbox(val…"
      ]
     },
     "metadata": {},
     "output_type": "display_data"
    },
    {
     "data": {
      "application/vnd.jupyter.widget-view+json": {
       "model_id": "9eeee81e3dfc4dc1b9679e3911a96e4f",
       "version_major": 2,
       "version_minor": 0
      },
      "text/plain": [
       "Output()"
      ]
     },
     "metadata": {},
     "output_type": "display_data"
    }
   ],
   "source": [
    "selected_good_adducts = {}\n",
    "ambiguous_adducts = {}\n",
    "\n",
    "def create_interactive_plots(processed_data, runnum_to_structure_image_grid):\n",
    "    global selected_good_adducts\n",
    "\n",
    "    # Widget Creation\n",
    "    image_toggle = widgets.ToggleButton(\n",
    "        value=False,  # Default to hidden\n",
    "        description='Show Structures',\n",
    "        tooltip='Toggle to show/hide the compound structure image',\n",
    "        layout=widgets.Layout(width='150px', margin='30px 0 0 0')\n",
    "    )\n",
    "    yaxis_toggle = widgets.ToggleButton(\n",
    "        value=False,  # Default to unique y-axis\n",
    "        description='Shared Y-Axis',  # Description when toggled to shared y-axis\n",
    "        tooltip='Toggle between unique and shared y-axes for non-log EIC plots',\n",
    "        layout=widgets.Layout(width='150px', margin='30px 0 0 0')\n",
    "    )\n",
    "    next_button = widgets.Button(\n",
    "        description=\"Next Group\"\n",
    "        )\n",
    "    previous_button = widgets.Button(\n",
    "        description=\"Previous Group\"\n",
    "        )\n",
    "    progress_label = widgets.Label(\n",
    "        value=f\"1/{len(processed_data)} Groups Completed\"\n",
    "        )\n",
    "    navigate_textbox = widgets.Text(\n",
    "        placeholder='Index...',\n",
    "        description='Go to:',\n",
    "        layout=widgets.Layout(width='50px')\n",
    "    )\n",
    "    navigate_button = widgets.Button(\n",
    "        description=\"Go\",\n",
    "        layout=widgets.Layout(width='50px')\n",
    "    )\n",
    "    compound_image_widget = widgets.Image(\n",
    "        format='png',\n",
    "        layout=widgets.Layout(\n",
    "            width='400px',\n",
    "            height='400px',\n",
    "            margin='0 0 0 50px',\n",
    "        )\n",
    "    )\n",
    "    output_container = widgets.Output()\n",
    "\n",
    "    # Event Handlers\n",
    "    def on_image_toggle_change(change):\n",
    "        if image_toggle.value:\n",
    "            image_toggle.description = 'Hide Structures'\n",
    "            compound_image_widget.layout.display = 'block'\n",
    "        else:\n",
    "            image_toggle.description = 'Show Structures'\n",
    "            compound_image_widget.layout.display = 'none'\n",
    "\n",
    "    def update_progress_text():\n",
    "        progress_label.value = f\"{current_index + 1}/{len(processed_data)} Groups Completed\"\n",
    "\n",
    "    def on_toggle_change(change):\n",
    "        yaxis_toggle.description = 'Shared Y-Axis' if not yaxis_toggle.value else 'Unique Y-Axis'\n",
    "        update_plot(current_index)\n",
    "\n",
    "    def navigate_to_group(b):\n",
    "        nonlocal current_index\n",
    "        try:\n",
    "            target_index = int(navigate_textbox.value) - 1\n",
    "            if 0 <= target_index < len(processed_data):\n",
    "                current_index = target_index\n",
    "                update_plot(current_index)\n",
    "            else:\n",
    "                output_container.clear_output(wait=True)\n",
    "                with output_container:\n",
    "                    print(f\"Invalid index. Please enter a number between 1 and {len(processed_data)}.\")\n",
    "        except ValueError:\n",
    "            output_container.clear_output(wait=True)\n",
    "            with output_container:\n",
    "                print(\"Invalid input. Please enter a valid integer.\")\n",
    "\n",
    "    def previous_group(b):\n",
    "        nonlocal current_index\n",
    "        if current_index > 0:\n",
    "            current_index -= 1\n",
    "            update_plot(current_index)\n",
    "            # Reset the image toggle state\n",
    "            image_toggle.value = False\n",
    "            image_toggle.description = 'Show Structures'\n",
    "        else:\n",
    "            output_container.clear_output(wait=True)\n",
    "\n",
    "    def next_group(b):\n",
    "        nonlocal current_index\n",
    "        if current_index < len(processed_data) - 1:\n",
    "            current_index += 1\n",
    "            update_plot(current_index)\n",
    "            # Reset the image toggle state\n",
    "            image_toggle.value = False\n",
    "            image_toggle.description = 'Show Structures'\n",
    "        else:\n",
    "            output_container.clear_output(wait=True)\n",
    "            with output_container:\n",
    "                print(\"Analysis completed!\")\n",
    "\n",
    "    # Attach Event Handlers\n",
    "    image_toggle.observe(on_image_toggle_change, names='value')\n",
    "    yaxis_toggle.observe(on_toggle_change, names='value')\n",
    "    next_button.on_click(next_group)\n",
    "    previous_button.on_click(previous_group)\n",
    "    navigate_button.on_click(navigate_to_group)\n",
    "\n",
    "    # Layout Definitions\n",
    "    def create_layout(checkboxes):\n",
    "        checkbox_layout = widgets.VBox(\n",
    "            checkboxes,\n",
    "            layout=widgets.Layout(\n",
    "                border='1px solid black',\n",
    "                padding='5px',\n",
    "                margin='5px',\n",
    "                width='250px',\n",
    "                align_items='flex-start'\n",
    "            )\n",
    "        )\n",
    "        # Layout of the \"Go To:\" widget\n",
    "        go_to_label = widgets.Label(value=\"Go To:\")\n",
    "        go_to_layout = widgets.HBox(\n",
    "            [go_to_label, navigate_textbox, navigate_button],\n",
    "            layout=widgets.Layout(\n",
    "                justify_content='flex-start',  # Align to the far left\n",
    "                spacing='5px',\n",
    "                margin='30px 0 0 0'  # Add space above the widget\n",
    "            )\n",
    "        )\n",
    "        # Update the size of the search box\n",
    "        navigate_textbox.description = \"\"\n",
    "        navigate_textbox.layout = widgets.Layout(width='150px')  # Decrease the size of the search box\n",
    "\n",
    "        compound_image_widget.layout.display = 'none'\n",
    "        image_toggle.layout.margin = '0 0 0 50px'\n",
    "\n",
    "        navigation_buttons_layout = widgets.HBox(\n",
    "            [\n",
    "                widgets.VBox([next_button, previous_button]),  # Stack Previous and Next buttons vertically\n",
    "                image_toggle  # Place the Image Toggle button to the right\n",
    "            ],\n",
    "            layout=widgets.Layout(\n",
    "                justify_content='flex-start',  # Align items to the left\n",
    "                spacing='10px',  # Add spacing between elements\n",
    "                margin='0 0 0 0'  # No margin for the navigation buttons\n",
    "            )\n",
    "        )\n",
    "        button_layout = widgets.VBox(\n",
    "            [navigation_buttons_layout, progress_label, go_to_layout, yaxis_toggle],\n",
    "            layout=widgets.Layout(\n",
    "                align_items='flex-start',\n",
    "                spacing='5px'\n",
    "            )\n",
    "        )\n",
    "        top_layout = widgets.HBox(\n",
    "            [checkbox_layout, button_layout, compound_image_widget],\n",
    "            layout=widgets.Layout(\n",
    "                align_items='flex-start',\n",
    "                justify_content='flex-start',\n",
    "                spacing='10px'\n",
    "            )\n",
    "        )\n",
    "        return top_layout\n",
    "\n",
    "    # Plot Update Logic\n",
    "    def update_plot(index):\n",
    "        nonlocal current_index\n",
    "        data = processed_data[index]\n",
    "    \n",
    "        eics = data['eics']\n",
    "        top_spectra = data['top_spectra']\n",
    "        rt_peaks = data['rt_peaks']\n",
    "        adduct_color = data['adduct_color']\n",
    "        group_id = data['group_id']\n",
    "        unique_id = data['unique_id']\n",
    "        group_run_number = data['group_run_number']\n",
    "\n",
    "        # Extract adduct-peak combinations from rt_peaks and top_spectra\n",
    "        adduct_peak_combinations = []\n",
    "        if isinstance(rt_peaks, pd.DataFrame) and not rt_peaks.empty:\n",
    "            # Create a mapping from adducts to peak indices and intensities\n",
    "            adduct_to_peaks = {}\n",
    "            for _, peak_row in rt_peaks.iterrows():\n",
    "                adduct = peak_row['adduct'] if 'adduct' in peak_row else None\n",
    "                if adduct:\n",
    "                    if adduct not in adduct_to_peaks:\n",
    "                        adduct_to_peaks[adduct] = []\n",
    "                    adduct_to_peaks[adduct].append({\n",
    "                        'peak_index': peak_row['peak_index'],\n",
    "                        'intensity': peak_row['intensity']\n",
    "                    })\n",
    "\n",
    "            # Create unique identifiers for each adduct-peak combination\n",
    "            for adduct, peaks in adduct_to_peaks.items():\n",
    "                max_intensity = max(peak['intensity'] for peak in peaks)\n",
    "                for peak in peaks:\n",
    "                    adduct_peak_combinations.append({\n",
    "                        'adduct': adduct,\n",
    "                        'peak_index': peak['peak_index'],\n",
    "                        'description': f\"{adduct} ({peak['peak_index']})\",\n",
    "                        'max_intensity': max_intensity\n",
    "                    })\n",
    "        # Sort adduct_peak_combinations by max_intensity in descending order\n",
    "        adduct_peak_combinations.sort(key=lambda x: x['max_intensity'], reverse=True)\n",
    "\n",
    "        # Create the summary EIC plot data\n",
    "        group_run_eics = [\n",
    "            eic for pdata in processed_data if pdata['group_run_number'] == group_run_number\n",
    "            for eic in pdata['eics'].values()\n",
    "        ]\n",
    "        summary_traces = []\n",
    "        summary_xmin_list = []\n",
    "        summary_xmax_list = []\n",
    "        for eic in group_run_eics:\n",
    "            # Loop through each row in the eic DataFrame\n",
    "            for _, eic_row in eic.iterrows():\n",
    "                # Filter data where intensity is above 1e5\n",
    "                valid_indices = eic_row['i'] > 1e5\n",
    "                filtered_rt = eic_row['rt'][valid_indices]\n",
    "                filtered_i = eic_row['i'][valid_indices]\n",
    "\n",
    "                if len(filtered_rt) > 0:  # Ensure there are valid points\n",
    "                    # Sort retention times\n",
    "                    rt_sort = np.argsort(filtered_rt)\n",
    "                    adduct = sta.get_adduct(eic_row['label'])  # Extract adduct from the label\n",
    "                    color = adduct_color.get(adduct, 'gray')  # Default to gray if adduct color is missing\n",
    "                    label = eic_row['label']\n",
    "\n",
    "                    # Update x_min and x_max based on filtered data\n",
    "                    summary_xmin_list.append(filtered_rt.min())\n",
    "                    summary_xmax_list.append(filtered_rt.max())\n",
    "\n",
    "                    # Add a trace for the current adduct\n",
    "                    summary_traces.append(\n",
    "                        go.Scatter(\n",
    "                            x=filtered_rt[rt_sort],\n",
    "                            y=filtered_i[rt_sort],\n",
    "                            mode='lines',\n",
    "                            name=f\"{label}\",\n",
    "                            line=dict(color=color),\n",
    "                            showlegend=False\n",
    "                        )\n",
    "                    )\n",
    "        x_min = min(summary_xmin_list) if summary_xmin_list else None\n",
    "        x_max = max(summary_xmax_list) if summary_xmax_list else None\n",
    "\n",
    "        eic_adducts = set()\n",
    "        for eic in eics.values():\n",
    "            eic['adduct'] = eic.label.apply(lambda x: x.split('_')[-1])\n",
    "            eic_adducts.update(eic.adduct.tolist())\n",
    "\n",
    "        num_spectra = len(top_spectra)\n",
    "        num_columns = 4  # Increase columns to 3 to accommodate the summary plot\n",
    "        num_spectra_rows = math.ceil(num_spectra / num_columns)\n",
    "\n",
    "        # Create the figure with subplots\n",
    "        fig = make_subplots(\n",
    "            rows=2 + num_spectra_rows,  # Adjust rows dynamically\n",
    "            cols=4,  # Number of columns\n",
    "            shared_xaxes=False,\n",
    "            shared_yaxes=yaxis_toggle.value,\n",
    "            vertical_spacing=0.3 / (2 + num_spectra_rows),\n",
    "            horizontal_spacing=0.1,\n",
    "            subplot_titles=[\n",
    "                \"Sample\",  # Row 1, Col 1\n",
    "                \"Blank\",  # Row 1, Col 2\n",
    "                \"EIC Summary\",  # Row 1-2, Col 3-4\n",
    "                \"Sample (Log)\",  # Row 2, Col 1\n",
    "                \"Blank (Log)\",  # Row 2, Col 2\n",
    "                *(f\"{row['adduct']} @ {round(row['rt'], 2)} mins\" for _, row in top_spectra.iterrows())  # Spectra titles\n",
    "            ],\n",
    "            specs=[\n",
    "                [{\"type\": \"scatter\"}, {\"type\": \"scatter\"}, {\"type\": \"scatter\", \"rowspan\": 2, \"colspan\": 2}, None],  # Row 1\n",
    "                [{\"type\": \"scatter\"}, {\"type\": \"scatter\"}, None, None],  # Row 2\n",
    "                *[[{\"type\": \"scatter\"} for _ in range(4)] for _ in range(num_spectra_rows)]  # Spectra rows\n",
    "            ]\n",
    "        )\n",
    "        fig.update_xaxes(range=[x_min, x_max], row=1, col=3)  # Set x-axis bounds for the summary graph\n",
    "\n",
    "        # Add the summary traces to the spanning subplot\n",
    "        for trace in summary_traces:\n",
    "            fig.add_trace(trace, row=1, col=3)  # Add to row 1, col 3\n",
    "\n",
    "        # Add EIC traces for each adduct/peak\n",
    "        for idx, (lcmsrun_path, eic) in enumerate(eics.items()):\n",
    "            for i, eic_row in eic.iterrows():\n",
    "                rt_sort = np.argsort(eic_row['rt'])\n",
    "                adduct = sta.get_adduct(eic_row['label'])\n",
    "                color = adduct_color[adduct]\n",
    "                \n",
    "                # Determine row and column for the current trace\n",
    "                row = 1 if idx < 2 else 2\n",
    "                col = (idx % 2) + 1\n",
    "                \n",
    "                # Dynamic facet_name determination \n",
    "                if row == 1 and col == 1:\n",
    "                    facet_name = \"Sample\"\n",
    "                elif row == 1 and col == 2:\n",
    "                    facet_name = \"Blank\"\n",
    "                elif row == 2 and col == 1:\n",
    "                    facet_name = \"Sample (Log)\"\n",
    "                elif row == 2 and col == 2:\n",
    "                    facet_name = \"Blank (Log)\"\n",
    "\n",
    "                # Add line traces for raw intensity\n",
    "                trace_index = len(fig.data)\n",
    "                fig.add_trace(\n",
    "                    go.Scatter(\n",
    "                        x=eic_row['rt'][rt_sort],\n",
    "                        y=eic_row['i'][rt_sort],\n",
    "                        mode='lines',\n",
    "                        name=f\"{adduct} {facet_name}\",  # Include facet_name in legend\n",
    "                        line=dict(color=color),\n",
    "                        showlegend=True\n",
    "                    ),\n",
    "                    row=row,\n",
    "                    col=col\n",
    "                )\n",
    "\n",
    "                # Recalculate facet_name for log-transformed traces\n",
    "                if row + 1 == 2 and col == 1:\n",
    "                    facet_name = \"Sample (Log)\"\n",
    "                elif row + 1 == 2 and col == 2:\n",
    "                    facet_name = \"Blank (Log)\"\n",
    "\n",
    "                # Add line traces for log-transformed intensity\n",
    "                trace_index = len(fig.data)\n",
    "                fig.add_trace(\n",
    "                    go.Scatter(\n",
    "                        x=eic_row['rt'][rt_sort],\n",
    "                        y=np.log10(eic_row['i'][rt_sort].astype(float)),\n",
    "                        mode='lines',\n",
    "                        name=f\"{adduct} {facet_name}\",  # Include updated facet_name in legend\n",
    "                        line=dict(color=color),\n",
    "                        showlegend=True\n",
    "                    ),\n",
    "                    row=row + 1,  # Log traces go to the next row\n",
    "                    col=col\n",
    "                )\n",
    "\n",
    "                # Add peak markers for each peak associated with this adduct\n",
    "                if not rt_peaks.empty:\n",
    "                    if facet_name == \"Sample\" or facet_name == \"Sample (Log)\":\n",
    "                        adduct_peaks = rt_peaks[rt_peaks['adduct'] == adduct]\n",
    "                        for _, peak_info in adduct_peaks.iterrows():\n",
    "                            peak_rt = peak_info['rt_peak']\n",
    "                            peak_index = peak_info['peak_index']\n",
    "                            peak_intensity = peak_info['intensity']\n",
    "\n",
    "                            # Add marker for raw intensity\n",
    "                            fig.add_trace(\n",
    "                                go.Scatter(\n",
    "                                    x=[peak_rt],\n",
    "                                    y=[peak_intensity],\n",
    "                                    mode='markers',\n",
    "                                    marker=dict(color=color, size=10),\n",
    "                                    name=f\"{adduct} {peak_index}\",\n",
    "                                    showlegend=False\n",
    "                                ),\n",
    "                                row=row,\n",
    "                                col=col\n",
    "                            )\n",
    "\n",
    "                            # Add marker for log-transformed intensity\n",
    "                            fig.add_trace(\n",
    "                                go.Scatter(\n",
    "                                    x=[peak_rt],\n",
    "                                    y=[np.log10(peak_intensity)],\n",
    "                                    mode='markers',\n",
    "                                    marker=dict(color=color, size=10),\n",
    "                                    name=f\"{adduct} {peak_index}\",\n",
    "                                    showlegend=False\n",
    "                                ),\n",
    "                                row=row + 1,  # Log traces go to the next row\n",
    "                                col=col\n",
    "                            )\n",
    "\n",
    "                # Add MS2 spectra markers\n",
    "                if not top_spectra.empty:\n",
    "                    if facet_name == \"Sample\" or facet_name == \"Sample (Log)\":\n",
    "                        adduct_spectra = top_spectra[top_spectra['adduct'] == adduct]\n",
    "                        # Remove adduct filtering to show all MS2 spectra\n",
    "                        for _, spectrum_row in adduct_spectra.iterrows():\n",
    "                            spectrum_adduct = spectrum_row['adduct']\n",
    "                            spectrum_peak_index = spectrum_row['peak_index']\n",
    "                            rounded_rt = round(spectrum_row['rt'], 2)\n",
    "                            marker_color = adduct_color.get(spectrum_adduct, 'gray')\n",
    "\n",
    "                            # Find closest point in the current EIC\n",
    "                            sorted_rt = eic_row['rt'][rt_sort]\n",
    "                            sorted_intensity = eic_row['i'][rt_sort]\n",
    "                            \n",
    "                            # Skip if no intensity data available\n",
    "                            if len(sorted_rt) == 0 or len(sorted_intensity) == 0:\n",
    "                                continue\n",
    "                                \n",
    "                            # Find the closest RT point in the EIC\n",
    "                            closest_idx = np.argmin(np.abs(sorted_rt - spectrum_row['rt']))\n",
    "                            \n",
    "                            if closest_idx >= len(sorted_rt):\n",
    "                                # If the index is out of bounds, skip this spectrum\n",
    "                                print(f\"Warning: RT {spectrum_row['rt']} is out of bounds for EIC RT range.\")\n",
    "                                continue\n",
    "                            \n",
    "                            raw_intensity = sorted_intensity[closest_idx]\n",
    "                            log_intensity = np.log10(raw_intensity)\n",
    "                            \n",
    "                            # Display marker for all spectra on the raw intensity plot\n",
    "                            fig.add_trace(\n",
    "                                go.Scatter(\n",
    "                                    x=[spectrum_row['rt']],\n",
    "                                    y=[raw_intensity],\n",
    "                                    mode='markers',\n",
    "                                    marker=dict(color=marker_color, symbol='x', size=10),\n",
    "                                    name=f\"MS2: {spectrum_adduct} ({spectrum_peak_index}) @ {rounded_rt}\",\n",
    "                                    showlegend=False\n",
    "                                ),\n",
    "                                row=row,\n",
    "                                col=col\n",
    "                            )\n",
    "                            \n",
    "                            # Display marker for all spectra on the log-transformed plot\n",
    "                            fig.add_trace(\n",
    "                                go.Scatter(\n",
    "                                    x=[spectrum_row['rt']],\n",
    "                                    y=[log_intensity],\n",
    "                                    mode='markers',\n",
    "                                    marker=dict(color=marker_color, symbol='x', size=10),\n",
    "                                    name=f\"MS2: {spectrum_adduct} ({spectrum_peak_index}) @ {rounded_rt}\",\n",
    "                                    showlegend=False\n",
    "                                ),\n",
    "                                row=row + 1,\n",
    "                                col=col\n",
    "                            )\n",
    "\n",
    "        # Add traces for Spectra plots\n",
    "        top_spectra_sorted = top_spectra.sort_values(['adduct', 'peak_index'])\n",
    "\n",
    "        mz_list = [lst[0] for lst in top_spectra_sorted['spectrum'] if isinstance(lst, (list, np.ndarray)) and len(lst) > 0]\n",
    "        mz_list_flattened = np.concatenate([np.ravel(arr) if isinstance(arr, np.ndarray) else np.array([arr]) for arr in mz_list])\n",
    "        lowest_mz = np.min(mz_list_flattened)*0.9\n",
    "        highest_mz = np.max(mz_list_flattened)*1.1\n",
    "\n",
    "        for i, spectrum_row in enumerate(top_spectra_sorted.iterrows()):\n",
    "            mz_values = spectrum_row[1]['spectrum'][0]\n",
    "            i_values = spectrum_row[1]['spectrum'][1]\n",
    "            adduct = spectrum_row[1]['adduct']\n",
    "            color = adduct_color[adduct]\n",
    "            precursor_mz = spectrum_row[1]['precursor_mz']\n",
    "            peak_index = spectrum_row[1]['peak_index']\n",
    "            spectrum_title = f\"{adduct} ({peak_index}) @ {round(spectrum_row[1]['rt'], 2)} mins\"\n",
    "\n",
    "            # Determine the row and column for this spectrum\n",
    "            spectrum_row_idx = 3 + (i // num_columns)  # Start after EIC rows\n",
    "            spectrum_col = (i % num_columns) + 1\n",
    "\n",
    "            # Update the x-axis range for the current subplot\n",
    "            fig.update_xaxes(\n",
    "                range=[lowest_mz, highest_mz],  # Set x-axis limits\n",
    "                row=spectrum_row_idx,\n",
    "                col=spectrum_col\n",
    "            )\n",
    "\n",
    "            # Add vertical lines for each point\n",
    "            for mz, intensity in zip(mz_values, i_values):\n",
    "                fig.add_trace(\n",
    "                    go.Scatter(\n",
    "                        x=[mz, mz],\n",
    "                        y=[0, intensity],\n",
    "                        mode='lines',\n",
    "                        line=dict(color=color),\n",
    "                        showlegend=False\n",
    "                    ),\n",
    "                    row=spectrum_row_idx,\n",
    "                    col=spectrum_col\n",
    "                )\n",
    "\n",
    "            # Add markers for each point\n",
    "            fig.add_trace(\n",
    "                go.Scatter(\n",
    "                    x=mz_values,\n",
    "                    y=i_values,\n",
    "                    mode='markers',\n",
    "                    marker=dict(color=color, size=6),\n",
    "                    name=f\"Spectrum {i+1}: {adduct}\",\n",
    "                    showlegend=False\n",
    "                ),\n",
    "                row=spectrum_row_idx,\n",
    "                col=spectrum_col\n",
    "            )\n",
    "\n",
    "            # Add a black circle at precursor_mz (y=0)\n",
    "            fig.add_trace(\n",
    "                go.Scatter(\n",
    "                    x=[precursor_mz],\n",
    "                    y=[0],\n",
    "                    mode='markers',\n",
    "                    marker=dict(color='black', symbol='circle', size=20),\n",
    "                    name=f\"Precursor MZ: {precursor_mz}\",\n",
    "                    showlegend=False\n",
    "                ),\n",
    "                row=spectrum_row_idx,\n",
    "                col=spectrum_col\n",
    "            )\n",
    "            \n",
    "            fig.layout.annotations[5 + i].text = spectrum_title\n",
    "\n",
    "        # Update layout\n",
    "        fig_title = (group_id.replace('_', '  |  '))\n",
    "        fig.update_layout(\n",
    "            hoverlabel=dict(\n",
    "                font_size=11,  # Increase font size for better readability\n",
    "                namelength=-1  # Show the full name without truncation\n",
    "            ),\n",
    "            title=dict(text=fig_title, font=dict(size=14), x=0.5, xanchor=\"center\"),\n",
    "            height=700 + 300 * num_spectra_rows,  # Adjust height to fit all plots\n",
    "            width=1500,  # Increase width to fit the new column\n",
    "            plot_bgcolor=\"white\",  # Set the plotting area background to white\n",
    "            paper_bgcolor=\"white\",  # Set the figure background to white\n",
    "            legend=dict(\n",
    "                    orientation=\"h\",  # Horizontal legend\n",
    "                    xanchor=\"center\",\n",
    "                    yanchor=\"top\",\n",
    "                    x=0.5,  # Center the legend horizontally\n",
    "                    y=-0.2,  # Position the legend below the EIC Summary\n",
    "            )\n",
    "        )\n",
    "\n",
    "        # Add black borders and keep gridlines\n",
    "        fig.update_xaxes(\n",
    "            showline=True,  # Show axis line\n",
    "            linewidth=1,  # Set line width\n",
    "            linecolor=\"black\",  # Set line color to black\n",
    "            showgrid=True,  # Keep gridlines\n",
    "            gridcolor=\"lightgray\"  # Set gridline color\n",
    "        )\n",
    "        fig.update_yaxes(\n",
    "            showline=True,  # Show axis line\n",
    "            linewidth=1,  # Set line width\n",
    "            linecolor=\"black\",  # Set line color to black\n",
    "            showgrid=True,  # Keep gridlines\n",
    "            gridcolor=\"lightgray\"  # Set gridline color\n",
    "        )\n",
    "\n",
    "        # Update the compound image based on group_run_number\n",
    "        if group_run_number in runnum_to_structure_image_grid:\n",
    "            compound_image_widget.value = base64.b64decode(runnum_to_structure_image_grid[group_run_number])\n",
    "        else:\n",
    "            compound_image_widget.value = b''  # Clear the image if not found\n",
    "\n",
    "        # Create checkboxes for selecting good adducts with peak indices\n",
    "        checkboxes = [\n",
    "            widgets.Checkbox(\n",
    "                value=False,\n",
    "                description=combo['description'],\n",
    "                disabled=False\n",
    "            )\n",
    "            for combo in adduct_peak_combinations\n",
    "        ]\n",
    "        ambiguous_checkbox = widgets.Checkbox(\n",
    "            value=False,\n",
    "            description=\"Ambiguous\",\n",
    "            disabled=False\n",
    "        )\n",
    "        checkboxes.append(ambiguous_checkbox)\n",
    "        checkbox_dict = {checkbox.description: checkbox for checkbox in checkboxes}\n",
    "\n",
    "        def on_checkbox_change(change):\n",
    "            if ambiguous_checkbox.value:\n",
    "                ambiguous_adducts[unique_id] = unique_id\n",
    "                selected_good_adducts.pop(unique_id, None)\n",
    "            else:\n",
    "                selected_good_adducts[unique_id] = [\n",
    "                    combo['adduct'] + \"||\" + str(combo['peak_index'])\n",
    "                    for combo in adduct_peak_combinations \n",
    "                    if checkbox_dict[combo['description']].value\n",
    "                ]\n",
    "                ambiguous_adducts.pop(unique_id, None)\n",
    "\n",
    "        for checkbox in checkboxes:\n",
    "            checkbox.observe(on_checkbox_change, names='value')\n",
    "\n",
    "        # Set previously selected values\n",
    "        if unique_id in selected_good_adducts:\n",
    "            for selected_combo in selected_good_adducts[unique_id]:\n",
    "                adduct, peak_index = selected_combo.split(\"||\")\n",
    "                for combo in adduct_peak_combinations:\n",
    "                    if combo['adduct'] == adduct and str(combo['peak_index']) == peak_index:\n",
    "                        combo_description = combo['description']\n",
    "                        if combo_description in checkbox_dict:\n",
    "                            checkbox_dict[combo_description].value = True\n",
    "        elif unique_id in ambiguous_adducts:\n",
    "            ambiguous_checkbox.value = True\n",
    "\n",
    "        # Create the layout with checkboxes\n",
    "        top_layout = create_layout(checkboxes)\n",
    "        plot_and_checkboxes = widgets.VBox(\n",
    "            [top_layout, widgets.Output()],\n",
    "            layout=widgets.Layout(align_items='flex-start')\n",
    "        )\n",
    "\n",
    "        clear_output(wait=True)\n",
    "        update_progress_text()\n",
    "        display(plot_and_checkboxes)\n",
    "        with plot_and_checkboxes.children[1]:\n",
    "            display(fig)\n",
    "        display(output_container)\n",
    "\n",
    "    # Initialize\n",
    "    current_index = 0\n",
    "    update_plot(current_index)\n",
    "\n",
    "create_interactive_plots(processed_data, runnum_to_structure_image_grid)"
   ]
  },
  {
   "cell_type": "markdown",
   "metadata": {},
   "source": [
    "# Preview selections"
   ]
  },
  {
   "cell_type": "code",
   "execution_count": 9,
   "metadata": {},
   "outputs": [
    {
     "data": {
      "text/html": [
       "<div>\n",
       "<style scoped>\n",
       "    .dataframe tbody tr th:only-of-type {\n",
       "        vertical-align: middle;\n",
       "    }\n",
       "\n",
       "    .dataframe tbody tr th {\n",
       "        vertical-align: top;\n",
       "    }\n",
       "\n",
       "    .dataframe thead th {\n",
       "        text-align: right;\n",
       "    }\n",
       "</style>\n",
       "<table border=\"1\" class=\"dataframe\">\n",
       "  <thead>\n",
       "    <tr style=\"text-align: right;\">\n",
       "      <th></th>\n",
       "      <th>compound_name</th>\n",
       "      <th>standard_lcmsrun</th>\n",
       "      <th>selected_adducts</th>\n",
       "      <th>selected_peak_indices</th>\n",
       "    </tr>\n",
       "  </thead>\n",
       "  <tbody>\n",
       "    <tr>\n",
       "      <th>0</th>\n",
       "      <td>sorgoleone</td>\n",
       "      <td>/global/cfs/cdirs/metatlas/raw_data/jgi/20241021_JGI_HS_510060_SorghExu_final1_IQX_C18_USDAY92782/20241021_JGI_HS_510060_SorghExu_final1_IQX_C18_USDAY92782_POS_MS2_RefStd-1_Sorgoleone_1_Rg80to1200-CE102040norm-200uM-S1_Run382.h5</td>\n",
       "      <td>[[M+Na]+, [M+H]+]</td>\n",
       "      <td>[peak1, peak1]</td>\n",
       "    </tr>\n",
       "    <tr>\n",
       "      <th>1</th>\n",
       "      <td>sorgoleone</td>\n",
       "      <td>/global/cfs/cdirs/metatlas/raw_data/jgi/20241021_JGI_HS_510060_SorghExu_final1_IQX_C18_USDAY92782/20241021_JGI_HS_510060_SorghExu_final1_IQX_C18_USDAY92782_POS_MS2_RefStd-1_Sorgoleone_1_Rg80to1200-CE205060norm-200uM-S1_Run383.h5</td>\n",
       "      <td>[[M+Na]+, [M+H]+]</td>\n",
       "      <td>[peak1, peak1]</td>\n",
       "    </tr>\n",
       "    <tr>\n",
       "      <th>2</th>\n",
       "      <td>sorgoleone</td>\n",
       "      <td>/global/cfs/cdirs/metatlas/raw_data/jgi/20241021_JGI_HS_510060_SorghExu_final1_IQX_C18_USDAY92782/20241021_JGI_HS_510060_SorghExu_final1_IQX_C18_USDAY92782_NEG_MS2_RefStd-1_Sorgoleone_1_Rg80to1200-CE102040norm-200uM-S1_Run384.h5</td>\n",
       "      <td>[[M-H]-]</td>\n",
       "      <td>[peak1]</td>\n",
       "    </tr>\n",
       "    <tr>\n",
       "      <th>3</th>\n",
       "      <td>sorgoleone</td>\n",
       "      <td>/global/cfs/cdirs/metatlas/raw_data/jgi/20241021_JGI_HS_510060_SorghExu_final1_IQX_C18_USDAY92782/20241021_JGI_HS_510060_SorghExu_final1_IQX_C18_USDAY92782_NEG_MS2_RefStd-1_Sorgoleone_1_Rg80to1200-CE205060norm-200uM-S1_Run385.h5</td>\n",
       "      <td>[[M-H]-]</td>\n",
       "      <td>[peak1]</td>\n",
       "    </tr>\n",
       "    <tr>\n",
       "      <th>4</th>\n",
       "      <td>cis-aconitic acid</td>\n",
       "      <td>/global/cfs/cdirs/metatlas/raw_data/jgi/20241021_JGI_HS_510060_SorghExu_final1_IQX_C18_USDAY92782/20241021_JGI_HS_510060_SorghExu_final1_IQX_C18_USDAY92782_POS_MS2_RefStd-2_cis-AconiticAcid_1_Rg80to1200-CE102040norm-10ugmL-S1_Run387.h5</td>\n",
       "      <td>[[M+Na]+, [M-H2O+H]+, [M-H2O+H]+, [M+H]+, [M+H]+]</td>\n",
       "      <td>[peak1, peak1, peak2, peak1, peak2]</td>\n",
       "    </tr>\n",
       "    <tr>\n",
       "      <th>5</th>\n",
       "      <td>cis-aconitic acid</td>\n",
       "      <td>/global/cfs/cdirs/metatlas/raw_data/jgi/20241021_JGI_HS_510060_SorghExu_final1_IQX_C18_USDAY92782/20241021_JGI_HS_510060_SorghExu_final1_IQX_C18_USDAY92782_POS_MS2_RefStd-2_cis-AconiticAcid_1_Rg80to1200-CE205060norm-10ugmL-S1_Run388.h5</td>\n",
       "      <td>[[M+Na]+, [M-H2O+H]+, [M-H2O+H]+, [M+H]+, [M+H]+]</td>\n",
       "      <td>[peak1, peak1, peak2, peak1, peak2]</td>\n",
       "    </tr>\n",
       "    <tr>\n",
       "      <th>6</th>\n",
       "      <td>cis-aconitic acid</td>\n",
       "      <td>/global/cfs/cdirs/metatlas/raw_data/jgi/20241021_JGI_HS_510060_SorghExu_final1_IQX_C18_USDAY92782/20241021_JGI_HS_510060_SorghExu_final1_IQX_C18_USDAY92782_NEG_MS2_RefStd-2_cis-AconiticAcid_1_Rg80to1200-CE102040norm-10ugmL-S1_Run389.h5</td>\n",
       "      <td>[[M-H]-, [M-H]-]</td>\n",
       "      <td>[peak1, peak2]</td>\n",
       "    </tr>\n",
       "    <tr>\n",
       "      <th>7</th>\n",
       "      <td>cis-aconitic acid</td>\n",
       "      <td>/global/cfs/cdirs/metatlas/raw_data/jgi/20241021_JGI_HS_510060_SorghExu_final1_IQX_C18_USDAY92782/20241021_JGI_HS_510060_SorghExu_final1_IQX_C18_USDAY92782_NEG_MS2_RefStd-2_cis-AconiticAcid_1_Rg80to1200-CE205060norm-10ugmL-S1_Run390.h5</td>\n",
       "      <td>[[M-H]-, [M-H]-]</td>\n",
       "      <td>[peak1, peak2]</td>\n",
       "    </tr>\n",
       "    <tr>\n",
       "      <th>8</th>\n",
       "      <td>trans-aconitic acid</td>\n",
       "      <td>/global/cfs/cdirs/metatlas/raw_data/jgi/20241021_JGI_HS_510060_SorghExu_final1_IQX_C18_USDAY92782/20241021_JGI_HS_510060_SorghExu_final1_IQX_C18_USDAY92782_POS_MS2_RefStd-3_trans-AconiticAcid_1_Rg80to1200-CE102040norm-10ugmL-S1_Run394.h5</td>\n",
       "      <td>[[M+Na]+, [M-H2O+H]+]</td>\n",
       "      <td>[peak1, peak1]</td>\n",
       "    </tr>\n",
       "    <tr>\n",
       "      <th>9</th>\n",
       "      <td>trans-aconitic acid</td>\n",
       "      <td>/global/cfs/cdirs/metatlas/raw_data/jgi/20241021_JGI_HS_510060_SorghExu_final1_IQX_C18_USDAY92782/20241021_JGI_HS_510060_SorghExu_final1_IQX_C18_USDAY92782_POS_MS2_RefStd-3_trans-AconiticAcid_1_Rg80to1200-CE205060norm-10ugmL-S1_Run395.h5</td>\n",
       "      <td>[[M+Na]+, [M-H2O+H]+, [M-H2O+H]+]</td>\n",
       "      <td>[peak1, peak1, peak2]</td>\n",
       "    </tr>\n",
       "    <tr>\n",
       "      <th>10</th>\n",
       "      <td>trans-aconitic acid</td>\n",
       "      <td>/global/cfs/cdirs/metatlas/raw_data/jgi/20241021_JGI_HS_510060_SorghExu_final1_IQX_C18_USDAY92782/20241021_JGI_HS_510060_SorghExu_final1_IQX_C18_USDAY92782_NEG_MS2_RefStd-3_trans-AconiticAcid_1_Rg80to1200-CE102040norm-10ugmL-S1_Run396.h5</td>\n",
       "      <td>[[M-H]-]</td>\n",
       "      <td>[peak1]</td>\n",
       "    </tr>\n",
       "  </tbody>\n",
       "</table>\n",
       "</div>"
      ],
      "text/plain": [
       "          compound_name  \\\n",
       "0            sorgoleone   \n",
       "1            sorgoleone   \n",
       "2            sorgoleone   \n",
       "3            sorgoleone   \n",
       "4     cis-aconitic acid   \n",
       "5     cis-aconitic acid   \n",
       "6     cis-aconitic acid   \n",
       "7     cis-aconitic acid   \n",
       "8   trans-aconitic acid   \n",
       "9   trans-aconitic acid   \n",
       "10  trans-aconitic acid   \n",
       "\n",
       "                                                                                                                                                                                                                                 standard_lcmsrun  \\\n",
       "0            /global/cfs/cdirs/metatlas/raw_data/jgi/20241021_JGI_HS_510060_SorghExu_final1_IQX_C18_USDAY92782/20241021_JGI_HS_510060_SorghExu_final1_IQX_C18_USDAY92782_POS_MS2_RefStd-1_Sorgoleone_1_Rg80to1200-CE102040norm-200uM-S1_Run382.h5   \n",
       "1            /global/cfs/cdirs/metatlas/raw_data/jgi/20241021_JGI_HS_510060_SorghExu_final1_IQX_C18_USDAY92782/20241021_JGI_HS_510060_SorghExu_final1_IQX_C18_USDAY92782_POS_MS2_RefStd-1_Sorgoleone_1_Rg80to1200-CE205060norm-200uM-S1_Run383.h5   \n",
       "2            /global/cfs/cdirs/metatlas/raw_data/jgi/20241021_JGI_HS_510060_SorghExu_final1_IQX_C18_USDAY92782/20241021_JGI_HS_510060_SorghExu_final1_IQX_C18_USDAY92782_NEG_MS2_RefStd-1_Sorgoleone_1_Rg80to1200-CE102040norm-200uM-S1_Run384.h5   \n",
       "3            /global/cfs/cdirs/metatlas/raw_data/jgi/20241021_JGI_HS_510060_SorghExu_final1_IQX_C18_USDAY92782/20241021_JGI_HS_510060_SorghExu_final1_IQX_C18_USDAY92782_NEG_MS2_RefStd-1_Sorgoleone_1_Rg80to1200-CE205060norm-200uM-S1_Run385.h5   \n",
       "4     /global/cfs/cdirs/metatlas/raw_data/jgi/20241021_JGI_HS_510060_SorghExu_final1_IQX_C18_USDAY92782/20241021_JGI_HS_510060_SorghExu_final1_IQX_C18_USDAY92782_POS_MS2_RefStd-2_cis-AconiticAcid_1_Rg80to1200-CE102040norm-10ugmL-S1_Run387.h5   \n",
       "5     /global/cfs/cdirs/metatlas/raw_data/jgi/20241021_JGI_HS_510060_SorghExu_final1_IQX_C18_USDAY92782/20241021_JGI_HS_510060_SorghExu_final1_IQX_C18_USDAY92782_POS_MS2_RefStd-2_cis-AconiticAcid_1_Rg80to1200-CE205060norm-10ugmL-S1_Run388.h5   \n",
       "6     /global/cfs/cdirs/metatlas/raw_data/jgi/20241021_JGI_HS_510060_SorghExu_final1_IQX_C18_USDAY92782/20241021_JGI_HS_510060_SorghExu_final1_IQX_C18_USDAY92782_NEG_MS2_RefStd-2_cis-AconiticAcid_1_Rg80to1200-CE102040norm-10ugmL-S1_Run389.h5   \n",
       "7     /global/cfs/cdirs/metatlas/raw_data/jgi/20241021_JGI_HS_510060_SorghExu_final1_IQX_C18_USDAY92782/20241021_JGI_HS_510060_SorghExu_final1_IQX_C18_USDAY92782_NEG_MS2_RefStd-2_cis-AconiticAcid_1_Rg80to1200-CE205060norm-10ugmL-S1_Run390.h5   \n",
       "8   /global/cfs/cdirs/metatlas/raw_data/jgi/20241021_JGI_HS_510060_SorghExu_final1_IQX_C18_USDAY92782/20241021_JGI_HS_510060_SorghExu_final1_IQX_C18_USDAY92782_POS_MS2_RefStd-3_trans-AconiticAcid_1_Rg80to1200-CE102040norm-10ugmL-S1_Run394.h5   \n",
       "9   /global/cfs/cdirs/metatlas/raw_data/jgi/20241021_JGI_HS_510060_SorghExu_final1_IQX_C18_USDAY92782/20241021_JGI_HS_510060_SorghExu_final1_IQX_C18_USDAY92782_POS_MS2_RefStd-3_trans-AconiticAcid_1_Rg80to1200-CE205060norm-10ugmL-S1_Run395.h5   \n",
       "10  /global/cfs/cdirs/metatlas/raw_data/jgi/20241021_JGI_HS_510060_SorghExu_final1_IQX_C18_USDAY92782/20241021_JGI_HS_510060_SorghExu_final1_IQX_C18_USDAY92782_NEG_MS2_RefStd-3_trans-AconiticAcid_1_Rg80to1200-CE102040norm-10ugmL-S1_Run396.h5   \n",
       "\n",
       "                                     selected_adducts  \\\n",
       "0                                   [[M+Na]+, [M+H]+]   \n",
       "1                                   [[M+Na]+, [M+H]+]   \n",
       "2                                            [[M-H]-]   \n",
       "3                                            [[M-H]-]   \n",
       "4   [[M+Na]+, [M-H2O+H]+, [M-H2O+H]+, [M+H]+, [M+H]+]   \n",
       "5   [[M+Na]+, [M-H2O+H]+, [M-H2O+H]+, [M+H]+, [M+H]+]   \n",
       "6                                    [[M-H]-, [M-H]-]   \n",
       "7                                    [[M-H]-, [M-H]-]   \n",
       "8                               [[M+Na]+, [M-H2O+H]+]   \n",
       "9                   [[M+Na]+, [M-H2O+H]+, [M-H2O+H]+]   \n",
       "10                                           [[M-H]-]   \n",
       "\n",
       "                  selected_peak_indices  \n",
       "0                        [peak1, peak1]  \n",
       "1                        [peak1, peak1]  \n",
       "2                               [peak1]  \n",
       "3                               [peak1]  \n",
       "4   [peak1, peak1, peak2, peak1, peak2]  \n",
       "5   [peak1, peak1, peak2, peak1, peak2]  \n",
       "6                        [peak1, peak2]  \n",
       "7                        [peak1, peak2]  \n",
       "8                        [peak1, peak1]  \n",
       "9                 [peak1, peak1, peak2]  \n",
       "10                              [peak1]  "
      ]
     },
     "execution_count": 9,
     "metadata": {},
     "output_type": "execute_result"
    }
   ],
   "source": [
    "if len(selected_good_adducts) == 0:\n",
    "    print(\"No good adducts selected.\")\n",
    "    selected_compounds_table = pd.DataFrame()\n",
    "else:\n",
    "    selected_compounds_table = pd.DataFrame({\n",
    "        'index': selected_good_adducts.keys(),\n",
    "        'selected_adduct_peaks': selected_good_adducts.values()\n",
    "    }).reset_index(drop=True)\n",
    "\n",
    "    selected_compounds_table[['compound_name', 'standard_lcmsrun']] = selected_compounds_table['index'].str.split(';;', expand=True)\n",
    "\n",
    "    selected_compounds_table['selected_adducts'] = selected_compounds_table['selected_adduct_peaks'].apply(\n",
    "        lambda x: [item.split('||')[0] for item in x]\n",
    "    )\n",
    "    selected_compounds_table['selected_peak_indices'] = selected_compounds_table['selected_adduct_peaks'].apply(\n",
    "        lambda x: [item.split('||')[1] for item in x]\n",
    "    )\n",
    "\n",
    "    selected_compounds_table = selected_compounds_table.drop(columns=['index', 'selected_adduct_peaks'])\n",
    "    \n",
    "selected_compounds_table"
   ]
  },
  {
   "cell_type": "code",
   "execution_count": 10,
   "metadata": {},
   "outputs": [
    {
     "name": "stdout",
     "output_type": "stream",
     "text": [
      "No ambiguous adducts selected.\n"
     ]
    },
    {
     "data": {
      "text/html": [
       "<div>\n",
       "<style scoped>\n",
       "    .dataframe tbody tr th:only-of-type {\n",
       "        vertical-align: middle;\n",
       "    }\n",
       "\n",
       "    .dataframe tbody tr th {\n",
       "        vertical-align: top;\n",
       "    }\n",
       "\n",
       "    .dataframe thead th {\n",
       "        text-align: right;\n",
       "    }\n",
       "</style>\n",
       "<table border=\"1\" class=\"dataframe\">\n",
       "  <thead>\n",
       "    <tr style=\"text-align: right;\">\n",
       "      <th></th>\n",
       "    </tr>\n",
       "  </thead>\n",
       "  <tbody>\n",
       "  </tbody>\n",
       "</table>\n",
       "</div>"
      ],
      "text/plain": [
       "Empty DataFrame\n",
       "Columns: []\n",
       "Index: []"
      ]
     },
     "execution_count": 10,
     "metadata": {},
     "output_type": "execute_result"
    }
   ],
   "source": [
    "if len(ambiguous_adducts) == 0:\n",
    "    print(\"No ambiguous adducts selected.\")\n",
    "    ambiguous_adducts_table = pd.DataFrame()\n",
    "else:\n",
    "    ambiguous_adducts_table = pd.DataFrame({\n",
    "        'unique_id': ambiguous_adducts.keys(),\n",
    "        'combined': ambiguous_adducts.values()\n",
    "    }).reset_index(drop=True)\n",
    "\n",
    "    ambiguous_adducts_table[['compound_name', 'standard_lcmsrun']] = ambiguous_adducts_table['unique_id'].str.split(';;', expand=True)\n",
    "\n",
    "    ambiguous_adducts_table = ambiguous_adducts_table.drop(columns=['unique_id', 'combined'])\n",
    "\n",
    "ambiguous_adducts_table"
   ]
  },
  {
   "cell_type": "markdown",
   "metadata": {},
   "source": [
    "# Subset Run Table, RT Peak, EICs, and Top Spectra by selected adducts"
   ]
  },
  {
   "cell_type": "code",
   "execution_count": 11,
   "metadata": {},
   "outputs": [
    {
     "data": {
      "text/plain": [
       "(19, 12)"
      ]
     },
     "execution_count": 11,
     "metadata": {},
     "output_type": "execute_result"
    }
   ],
   "source": [
    "standard_lcmsruns_table_with_adducts_subset = sta.select_compounds_from_gui(standard_lcmsruns_table_with_adducts, selected_compounds_table)\n",
    "standard_lcmsruns_table_with_adducts_subset.shape"
   ]
  },
  {
   "cell_type": "code",
   "execution_count": 12,
   "metadata": {},
   "outputs": [
    {
     "data": {
      "text/plain": [
       "(26, 12)"
      ]
     },
     "execution_count": 12,
     "metadata": {},
     "output_type": "execute_result"
    }
   ],
   "source": [
    "rt_peak_annotations = pd.concat(rt_peak_list).rename(columns={'lcmsrun': 'standard_lcmsrun'})\n",
    "rt_peak_annotations_subset = sta.select_compounds_from_gui(rt_peak_annotations, selected_compounds_table)\n",
    "rt_peak_annotations_subset.shape"
   ]
  },
  {
   "cell_type": "code",
   "execution_count": 13,
   "metadata": {},
   "outputs": [
    {
     "data": {
      "text/plain": [
       "(22, 13)"
      ]
     },
     "execution_count": 13,
     "metadata": {},
     "output_type": "execute_result"
    }
   ],
   "source": [
    "top_spectra_annotations = pd.concat(top_spectra_list, ignore_index=True).rename(columns={'lcmsrun': 'standard_lcmsrun'})\n",
    "top_spectra_annotations['compound_name'] = top_spectra_annotations['label'].apply(lambda x: x.split('_')[0])\n",
    "top_spectra_annotations_subset = sta.select_compounds_from_gui(top_spectra_annotations, selected_compounds_table)\n",
    "top_spectra_annotations_subset.shape"
   ]
  },
  {
   "cell_type": "code",
   "execution_count": 14,
   "metadata": {},
   "outputs": [
    {
     "data": {
      "text/plain": [
       "(19, 8)"
      ]
     },
     "execution_count": 14,
     "metadata": {},
     "output_type": "execute_result"
    }
   ],
   "source": [
    "eics_annotations = pd.concat([df.assign(key=key) for d in eics_list for key, df in d.items()],ignore_index=True).rename(columns={'key': 'standard_lcmsrun'})\n",
    "eics_annotations['compound_name'] = eics_annotations['label'].apply(lambda x: x.split('_')[0])\n",
    "eics_annotations_subset = sta.select_compounds_from_gui(eics_annotations, selected_compounds_table)\n",
    "eics_annotations_subset.shape"
   ]
  },
  {
   "cell_type": "markdown",
   "metadata": {},
   "source": [
    "# Save and/or read filtered data"
   ]
  },
  {
   "cell_type": "code",
   "execution_count": 15,
   "metadata": {},
   "outputs": [],
   "source": [
    "new_analysis = True"
   ]
  },
  {
   "cell_type": "code",
   "execution_count": 16,
   "metadata": {},
   "outputs": [
    {
     "name": "stdout",
     "output_type": "stream",
     "text": [
      "Saving standards data to: /global/homes/b/bkieft/metabolomics_standards_annotation/standard_library_annotation//scheller_test_20250411_163437_standards_data_subset.pkl\n"
     ]
    }
   ],
   "source": [
    "if new_analysis is True:\n",
    "    current_time = datetime.now().strftime(\"%Y%m%d_%H%M%S\")\n",
    "    subset_standards_data_filename = csv_standard_info_path.replace(\".csv\", f\"_{current_time}_standards_data_subset.pkl\")\n",
    "    print(f\"Saving standards data to: {subset_standards_data_filename}\")\n",
    "    with open(subset_standards_data_filename, 'wb') as f:\n",
    "        pickle.dump((rt_peak_annotations_subset, top_spectra_annotations_subset, eics_annotations_subset, standard_lcmsruns_table_with_adducts_subset), f)\n",
    "elif new_analysis is False:\n",
    "    pkl_files = glob.glob(f\"{path_to_standards_files}/*_standards_data_subset.pkl\")\n",
    "    most_recent_pkl = max(pkl_files, key=os.path.getmtime)\n",
    "    print(f\"Loading most recent pkl file: {most_recent_pkl}\")\n",
    "    with open(most_recent_pkl, 'rb') as f:\n",
    "        rt_peak_annotations_subset, top_spectra_annotations_subset, eics_annotations_subset, standard_lcmsruns_table_with_adducts_subset = pickle.load(f)"
   ]
  },
  {
   "cell_type": "markdown",
   "metadata": {},
   "source": [
    "# Sort RT Peak annotations by intensity and choose best adduct"
   ]
  },
  {
   "cell_type": "code",
   "execution_count": 21,
   "metadata": {},
   "outputs": [
    {
     "data": {
      "text/html": [
       "<div>\n",
       "<style scoped>\n",
       "    .dataframe tbody tr th:only-of-type {\n",
       "        vertical-align: middle;\n",
       "    }\n",
       "\n",
       "    .dataframe tbody tr th {\n",
       "        vertical-align: top;\n",
       "    }\n",
       "\n",
       "    .dataframe thead th {\n",
       "        text-align: right;\n",
       "    }\n",
       "</style>\n",
       "<table border=\"1\" class=\"dataframe\">\n",
       "  <thead>\n",
       "    <tr style=\"text-align: right;\">\n",
       "      <th></th>\n",
       "      <th>standard_lcmsrun</th>\n",
       "      <th>chromatography</th>\n",
       "      <th>compound_name</th>\n",
       "      <th>adduct</th>\n",
       "      <th>polarity</th>\n",
       "      <th>rt_peak</th>\n",
       "      <th>intensity</th>\n",
       "      <th>mz_observed</th>\n",
       "      <th>mz_theoretical</th>\n",
       "      <th>ppm_error</th>\n",
       "      <th>smiles</th>\n",
       "      <th>peak_index</th>\n",
       "    </tr>\n",
       "  </thead>\n",
       "  <tbody>\n",
       "    <tr>\n",
       "      <th>5</th>\n",
       "      <td>/global/cfs/cdirs/metatlas/raw_data/jgi/20241021_JGI_HS_510060_SorghExu_final1_IQX_C18_USDAY92782/20241021_JGI_HS_510060_SorghExu_final1_IQX_C18_USDAY92782_NEG_MS2_RefStd-1_Sorgoleone_1_Rg80to1200-CE205060norm-200uM-S1_Run385.h5</td>\n",
       "      <td>C18</td>\n",
       "      <td>sorgoleone</td>\n",
       "      <td>[M-H]-</td>\n",
       "      <td>NEG</td>\n",
       "      <td>7.547524</td>\n",
       "      <td>159076656.0</td>\n",
       "      <td>357.207306</td>\n",
       "      <td>357.207133</td>\n",
       "      <td>-0.482824</td>\n",
       "      <td>COC1=CC(=O)C(=C(C1=O)CCCCCCC/C=C\\C/C=C\\CC=C)O</td>\n",
       "      <td>peak1</td>\n",
       "    </tr>\n",
       "    <tr>\n",
       "      <th>3</th>\n",
       "      <td>/global/cfs/cdirs/metatlas/raw_data/jgi/20241021_JGI_HS_510060_SorghExu_final1_IQX_C18_USDAY92782/20241021_JGI_HS_510060_SorghExu_final1_IQX_C18_USDAY92782_POS_MS2_RefStd-1_Sorgoleone_1_Rg80to1200-CE205060norm-200uM-S1_Run383.h5</td>\n",
       "      <td>C18</td>\n",
       "      <td>sorgoleone</td>\n",
       "      <td>[M+Na]+</td>\n",
       "      <td>POS</td>\n",
       "      <td>7.544277</td>\n",
       "      <td>155523216.0</td>\n",
       "      <td>381.203949</td>\n",
       "      <td>381.203627</td>\n",
       "      <td>-0.843472</td>\n",
       "      <td>COC1=CC(=O)C(=C(C1=O)CCCCCCC/C=C\\C/C=C\\CC=C)O</td>\n",
       "      <td>peak1</td>\n",
       "    </tr>\n",
       "  </tbody>\n",
       "</table>\n",
       "</div>"
      ],
      "text/plain": [
       "                                                                                                                                                                                                                       standard_lcmsrun  \\\n",
       "5  /global/cfs/cdirs/metatlas/raw_data/jgi/20241021_JGI_HS_510060_SorghExu_final1_IQX_C18_USDAY92782/20241021_JGI_HS_510060_SorghExu_final1_IQX_C18_USDAY92782_NEG_MS2_RefStd-1_Sorgoleone_1_Rg80to1200-CE205060norm-200uM-S1_Run385.h5   \n",
       "3  /global/cfs/cdirs/metatlas/raw_data/jgi/20241021_JGI_HS_510060_SorghExu_final1_IQX_C18_USDAY92782/20241021_JGI_HS_510060_SorghExu_final1_IQX_C18_USDAY92782_POS_MS2_RefStd-1_Sorgoleone_1_Rg80to1200-CE205060norm-200uM-S1_Run383.h5   \n",
       "\n",
       "  chromatography compound_name   adduct polarity   rt_peak    intensity  \\\n",
       "5            C18    sorgoleone   [M-H]-      NEG  7.547524  159076656.0   \n",
       "3            C18    sorgoleone  [M+Na]+      POS  7.544277  155523216.0   \n",
       "\n",
       "   mz_observed  mz_theoretical  ppm_error  \\\n",
       "5   357.207306      357.207133  -0.482824   \n",
       "3   381.203949      381.203627  -0.843472   \n",
       "\n",
       "                                          smiles peak_index  \n",
       "5  COC1=CC(=O)C(=C(C1=O)CCCCCCC/C=C\\C/C=C\\CC=C)O      peak1  \n",
       "3  COC1=CC(=O)C(=C(C1=O)CCCCCCC/C=C\\C/C=C\\CC=C)O      peak1  "
      ]
     },
     "execution_count": 21,
     "metadata": {},
     "output_type": "execute_result"
    }
   ],
   "source": [
    "test = rt_peak_annotations_subset[rt_peak_annotations_subset['compound_name'].str.contains(\"sorgoleone\")]\n",
    "idx_max_intensity = test.groupby(['chromatography', 'polarity', 'compound_name'])['intensity'].idxmax()\n",
    "highest_intensity_row = test.loc[idx_max_intensity]\n",
    "highest_intensity_row"
   ]
  },
  {
   "cell_type": "code",
   "execution_count": 20,
   "metadata": {},
   "outputs": [
    {
     "data": {
      "text/html": [
       "<div>\n",
       "<style scoped>\n",
       "    .dataframe tbody tr th:only-of-type {\n",
       "        vertical-align: middle;\n",
       "    }\n",
       "\n",
       "    .dataframe tbody tr th {\n",
       "        vertical-align: top;\n",
       "    }\n",
       "\n",
       "    .dataframe thead th {\n",
       "        text-align: right;\n",
       "    }\n",
       "</style>\n",
       "<table border=\"1\" class=\"dataframe\">\n",
       "  <thead>\n",
       "    <tr style=\"text-align: right;\">\n",
       "      <th></th>\n",
       "      <th>chromatography</th>\n",
       "      <th>compound_name</th>\n",
       "      <th>adduct</th>\n",
       "      <th>polarity</th>\n",
       "      <th>rt_peak</th>\n",
       "      <th>mz_theoretical</th>\n",
       "      <th>smiles</th>\n",
       "      <th>rt_min</th>\n",
       "      <th>rt_max</th>\n",
       "      <th>label</th>\n",
       "      <th>mz_tolerance</th>\n",
       "      <th>inchi</th>\n",
       "      <th>inchi_key</th>\n",
       "    </tr>\n",
       "  </thead>\n",
       "  <tbody>\n",
       "    <tr>\n",
       "      <th>4</th>\n",
       "      <td>C18</td>\n",
       "      <td>sorgoleone peak1</td>\n",
       "      <td>[M+Na]+</td>\n",
       "      <td>positive</td>\n",
       "      <td>7.543334</td>\n",
       "      <td>381.203627</td>\n",
       "      <td>COC1=CC(=O)C(=C(C1=O)CCCCCCC/C=C\\C/C=C\\CC=C)O</td>\n",
       "      <td>7.043334</td>\n",
       "      <td>8.043334</td>\n",
       "      <td>sorgoleone peak1</td>\n",
       "      <td>5</td>\n",
       "      <td>InChI=1S/C22H30O4/c1-3-4-5-6-7-8-9-10-11-12-13-14-15-16-18-21(24)19(23)17-20(26-2)22(18)25/h3,5-6,8-9,17,24H,1,4,7,10-16H2,2H3/b6-5-,9-8-</td>\n",
       "      <td>FGWRUVXUQWGLOX-AFJQJTPPSA-N</td>\n",
       "    </tr>\n",
       "    <tr>\n",
       "      <th>5</th>\n",
       "      <td>C18</td>\n",
       "      <td>sorgoleone peak1</td>\n",
       "      <td>[M+Na]+</td>\n",
       "      <td>positive</td>\n",
       "      <td>7.544277</td>\n",
       "      <td>381.203627</td>\n",
       "      <td>COC1=CC(=O)C(=C(C1=O)CCCCCCC/C=C\\C/C=C\\CC=C)O</td>\n",
       "      <td>7.044277</td>\n",
       "      <td>8.044277</td>\n",
       "      <td>sorgoleone peak1</td>\n",
       "      <td>5</td>\n",
       "      <td>InChI=1S/C22H30O4/c1-3-4-5-6-7-8-9-10-11-12-13-14-15-16-18-21(24)19(23)17-20(26-2)22(18)25/h3,5-6,8-9,17,24H,1,4,7,10-16H2,2H3/b6-5-,9-8-</td>\n",
       "      <td>FGWRUVXUQWGLOX-AFJQJTPPSA-N</td>\n",
       "    </tr>\n",
       "    <tr>\n",
       "      <th>11</th>\n",
       "      <td>C18</td>\n",
       "      <td>sorgoleone peak1</td>\n",
       "      <td>[M-H]-</td>\n",
       "      <td>negative</td>\n",
       "      <td>7.547524</td>\n",
       "      <td>357.207133</td>\n",
       "      <td>COC1=CC(=O)C(=C(C1=O)CCCCCCC/C=C\\C/C=C\\CC=C)O</td>\n",
       "      <td>7.047524</td>\n",
       "      <td>8.047524</td>\n",
       "      <td>sorgoleone peak1</td>\n",
       "      <td>5</td>\n",
       "      <td>InChI=1S/C22H30O4/c1-3-4-5-6-7-8-9-10-11-12-13-14-15-16-18-21(24)19(23)17-20(26-2)22(18)25/h3,5-6,8-9,17,24H,1,4,7,10-16H2,2H3/b6-5-,9-8-</td>\n",
       "      <td>FGWRUVXUQWGLOX-AFJQJTPPSA-N</td>\n",
       "    </tr>\n",
       "    <tr>\n",
       "      <th>12</th>\n",
       "      <td>C18</td>\n",
       "      <td>sorgoleone peak1</td>\n",
       "      <td>[M-H]-</td>\n",
       "      <td>negative</td>\n",
       "      <td>7.549027</td>\n",
       "      <td>357.207133</td>\n",
       "      <td>COC1=CC(=O)C(=C(C1=O)CCCCCCC/C=C\\C/C=C\\CC=C)O</td>\n",
       "      <td>7.049027</td>\n",
       "      <td>8.049027</td>\n",
       "      <td>sorgoleone peak1</td>\n",
       "      <td>5</td>\n",
       "      <td>InChI=1S/C22H30O4/c1-3-4-5-6-7-8-9-10-11-12-13-14-15-16-18-21(24)19(23)17-20(26-2)22(18)25/h3,5-6,8-9,17,24H,1,4,7,10-16H2,2H3/b6-5-,9-8-</td>\n",
       "      <td>FGWRUVXUQWGLOX-AFJQJTPPSA-N</td>\n",
       "    </tr>\n",
       "  </tbody>\n",
       "</table>\n",
       "</div>"
      ],
      "text/plain": [
       "   chromatography     compound_name   adduct  polarity   rt_peak  \\\n",
       "4             C18  sorgoleone peak1  [M+Na]+  positive  7.543334   \n",
       "5             C18  sorgoleone peak1  [M+Na]+  positive  7.544277   \n",
       "11            C18  sorgoleone peak1   [M-H]-  negative  7.547524   \n",
       "12            C18  sorgoleone peak1   [M-H]-  negative  7.549027   \n",
       "\n",
       "    mz_theoretical                                         smiles    rt_min  \\\n",
       "4       381.203627  COC1=CC(=O)C(=C(C1=O)CCCCCCC/C=C\\C/C=C\\CC=C)O  7.043334   \n",
       "5       381.203627  COC1=CC(=O)C(=C(C1=O)CCCCCCC/C=C\\C/C=C\\CC=C)O  7.044277   \n",
       "11      357.207133  COC1=CC(=O)C(=C(C1=O)CCCCCCC/C=C\\C/C=C\\CC=C)O  7.047524   \n",
       "12      357.207133  COC1=CC(=O)C(=C(C1=O)CCCCCCC/C=C\\C/C=C\\CC=C)O  7.049027   \n",
       "\n",
       "      rt_max             label  mz_tolerance  \\\n",
       "4   8.043334  sorgoleone peak1             5   \n",
       "5   8.044277  sorgoleone peak1             5   \n",
       "11  8.047524  sorgoleone peak1             5   \n",
       "12  8.049027  sorgoleone peak1             5   \n",
       "\n",
       "                                                                                                                                        inchi  \\\n",
       "4   InChI=1S/C22H30O4/c1-3-4-5-6-7-8-9-10-11-12-13-14-15-16-18-21(24)19(23)17-20(26-2)22(18)25/h3,5-6,8-9,17,24H,1,4,7,10-16H2,2H3/b6-5-,9-8-   \n",
       "5   InChI=1S/C22H30O4/c1-3-4-5-6-7-8-9-10-11-12-13-14-15-16-18-21(24)19(23)17-20(26-2)22(18)25/h3,5-6,8-9,17,24H,1,4,7,10-16H2,2H3/b6-5-,9-8-   \n",
       "11  InChI=1S/C22H30O4/c1-3-4-5-6-7-8-9-10-11-12-13-14-15-16-18-21(24)19(23)17-20(26-2)22(18)25/h3,5-6,8-9,17,24H,1,4,7,10-16H2,2H3/b6-5-,9-8-   \n",
       "12  InChI=1S/C22H30O4/c1-3-4-5-6-7-8-9-10-11-12-13-14-15-16-18-21(24)19(23)17-20(26-2)22(18)25/h3,5-6,8-9,17,24H,1,4,7,10-16H2,2H3/b6-5-,9-8-   \n",
       "\n",
       "                      inchi_key  \n",
       "4   FGWRUVXUQWGLOX-AFJQJTPPSA-N  \n",
       "5   FGWRUVXUQWGLOX-AFJQJTPPSA-N  \n",
       "11  FGWRUVXUQWGLOX-AFJQJTPPSA-N  \n",
       "12  FGWRUVXUQWGLOX-AFJQJTPPSA-N  "
      ]
     },
     "execution_count": 20,
     "metadata": {},
     "output_type": "execute_result"
    }
   ],
   "source": [
    "c18_pos, c18_neg, hilic_pos, hilic_neg = sta.save_rt_peaks_to_atlas_format(rt_peak_annotations_subset)\n",
    "final_atlases = pd.concat([c18_pos, c18_neg, hilic_pos, hilic_neg], ignore_index=True)\n",
    "final_atlases[final_atlases['compound_name'].str.contains(\"sorgoleone\")]"
   ]
  },
  {
   "cell_type": "code",
   "execution_count": null,
   "metadata": {},
   "outputs": [],
   "source": [
    "## TO DO: Add a check on final_atlases to make sure the adduct is consistent for a given compound across rows"
   ]
  },
  {
   "cell_type": "markdown",
   "metadata": {},
   "source": [
    "# Check if selected compounds/adducts are in metatlas DB"
   ]
  },
  {
   "cell_type": "code",
   "execution_count": 27,
   "metadata": {},
   "outputs": [
    {
     "data": {
      "application/vnd.jupyter.widget-view+json": {
       "model_id": "002957bd19a14697a43f935fdc4ea6df",
       "version_major": 2,
       "version_minor": 0
      },
      "text/plain": [
       "0it [00:00, ?it/s]"
      ]
     },
     "metadata": {},
     "output_type": "display_data"
    },
    {
     "name": "stdout",
     "output_type": "stream",
     "text": [
      "\n",
      "Searching metatlas db for (+)-catechin (PFTAWBLQPZVEMU-DZGCQCFKSA-N)\n",
      "Found 48 entries in metatlas db.\n",
      "\n",
      "These compounds are not in the metatlas Compounds database table:\n"
     ]
    },
    {
     "data": {
      "text/html": [
       "<div>\n",
       "<style scoped>\n",
       "    .dataframe tbody tr th:only-of-type {\n",
       "        vertical-align: middle;\n",
       "    }\n",
       "\n",
       "    .dataframe tbody tr th {\n",
       "        vertical-align: top;\n",
       "    }\n",
       "\n",
       "    .dataframe thead th {\n",
       "        text-align: right;\n",
       "    }\n",
       "</style>\n",
       "<table border=\"1\" class=\"dataframe\">\n",
       "  <thead>\n",
       "    <tr style=\"text-align: right;\">\n",
       "      <th></th>\n",
       "      <th>Label</th>\n",
       "      <th>InChIKey</th>\n",
       "    </tr>\n",
       "  </thead>\n",
       "  <tbody>\n",
       "  </tbody>\n",
       "</table>\n",
       "</div>"
      ],
      "text/plain": [
       "Empty DataFrame\n",
       "Columns: [Label, InChIKey]\n",
       "Index: []"
      ]
     },
     "execution_count": 27,
     "metadata": {},
     "output_type": "execute_result"
    }
   ],
   "source": [
    "final_atlases_compounds = final_atlases[['label', 'inchi', 'inchi_key']].drop_duplicates()\n",
    "final_atlases_compounds = final_atlases_compounds[pd.notna(final_atlases_compounds['inchi_key'])]\n",
    "in_db, notin_db, flat_in_db = sta.search_for_matches_in_metatlas_db(final_atlases_compounds)\n",
    "print(\"\\nThese compounds are not in the metatlas Compounds database table:\")\n",
    "pd.DataFrame(list(notin_db.items()), columns=['Label', 'InChIKey'])\n"
   ]
  },
  {
   "cell_type": "code",
   "execution_count": 28,
   "metadata": {},
   "outputs": [
    {
     "data": {
      "text/html": [
       "<div>\n",
       "<style scoped>\n",
       "    .dataframe tbody tr th:only-of-type {\n",
       "        vertical-align: middle;\n",
       "    }\n",
       "\n",
       "    .dataframe tbody tr th {\n",
       "        vertical-align: top;\n",
       "    }\n",
       "\n",
       "    .dataframe thead th {\n",
       "        text-align: right;\n",
       "    }\n",
       "</style>\n",
       "<table border=\"1\" class=\"dataframe\">\n",
       "  <thead>\n",
       "    <tr style=\"text-align: right;\">\n",
       "      <th></th>\n",
       "      <th>label</th>\n",
       "      <th>inchi</th>\n",
       "      <th>inchi_key</th>\n",
       "    </tr>\n",
       "  </thead>\n",
       "  <tbody>\n",
       "  </tbody>\n",
       "</table>\n",
       "</div>"
      ],
      "text/plain": [
       "Empty DataFrame\n",
       "Columns: [label, inchi, inchi_key]\n",
       "Index: []"
      ]
     },
     "execution_count": 28,
     "metadata": {},
     "output_type": "execute_result"
    }
   ],
   "source": [
    "# Filter the DataFrame to include only rows missing from the database\n",
    "final_atlases_compounds_not_in_db = final_atlases_compounds[\n",
    "    final_atlases_compounds['inchi_key'].isin(list(notin_db.values()))\n",
    "]\n",
    "final_atlases_compounds_not_in_db"
   ]
  },
  {
   "cell_type": "markdown",
   "metadata": {},
   "source": [
    "# Store selected compounds in metatlas db"
   ]
  },
  {
   "cell_type": "code",
   "execution_count": 29,
   "metadata": {},
   "outputs": [],
   "source": [
    "# Add attributes before storing\n",
    "final_atlases_compounds_add_to_db = final_atlases_compounds_not_in_db.copy()\n",
    "final_atlases_compounds_add_to_db['neutralized_inchi'] = final_atlases_compounds_add_to_db['inchi'].apply(sta.neutralize_inchi)\n",
    "final_atlases_compounds_add_to_db['neutralized_inchi_key'] = final_atlases_compounds_add_to_db['neutralized_inchi'].apply(sta.inchi_to_inchikey)\n",
    "final_atlases_compounds_add_to_db['permanent_charge'] = final_atlases_compounds_add_to_db['neutralized_inchi'].apply(sta.charge_from_inchi)\n",
    "final_atlases_compounds_add_to_db['formula'] = final_atlases_compounds_add_to_db['neutralized_inchi'].apply(sta.formula_from_inchi)\n",
    "final_atlases_compounds_add_to_db['monoisotopic_mass'] = final_atlases_compounds_add_to_db['neutralized_inchi'].apply(sta.monoisotopic_mass_from_inchi)\n",
    "final_atlases_compounds_add_to_db.rename(columns={'label': 'compound_name'}, inplace=True)"
   ]
  },
  {
   "cell_type": "code",
   "execution_count": 30,
   "metadata": {},
   "outputs": [
    {
     "name": "stdout",
     "output_type": "stream",
     "text": [
      "\n",
      "Note! These compounds have different InchiKey and Nueutralized InchiKey:\n"
     ]
    },
    {
     "data": {
      "text/html": [
       "<div>\n",
       "<style scoped>\n",
       "    .dataframe tbody tr th:only-of-type {\n",
       "        vertical-align: middle;\n",
       "    }\n",
       "\n",
       "    .dataframe tbody tr th {\n",
       "        vertical-align: top;\n",
       "    }\n",
       "\n",
       "    .dataframe thead th {\n",
       "        text-align: right;\n",
       "    }\n",
       "</style>\n",
       "<table border=\"1\" class=\"dataframe\">\n",
       "  <thead>\n",
       "    <tr style=\"text-align: right;\">\n",
       "      <th></th>\n",
       "      <th>compound_name</th>\n",
       "      <th>inchi</th>\n",
       "      <th>inchi_key</th>\n",
       "      <th>neutralized_inchi</th>\n",
       "      <th>neutralized_inchi_key</th>\n",
       "      <th>permanent_charge</th>\n",
       "      <th>formula</th>\n",
       "      <th>monoisotopic_mass</th>\n",
       "    </tr>\n",
       "  </thead>\n",
       "  <tbody>\n",
       "  </tbody>\n",
       "</table>\n",
       "</div>"
      ],
      "text/plain": [
       "Empty DataFrame\n",
       "Columns: [compound_name, inchi, inchi_key, neutralized_inchi, neutralized_inchi_key, permanent_charge, formula, monoisotopic_mass]\n",
       "Index: []"
      ]
     },
     "execution_count": 30,
     "metadata": {},
     "output_type": "execute_result"
    }
   ],
   "source": [
    "print(\"\\nNote! These compounds have different InchiKey and Nueutralized InchiKey:\")\n",
    "final_atlases_compounds_add_to_db[final_atlases_compounds_add_to_db['inchi_key'] != final_atlases_compounds_add_to_db['neutralized_inchi_key']]"
   ]
  },
  {
   "cell_type": "code",
   "execution_count": 25,
   "metadata": {},
   "outputs": [
    {
     "data": {
      "text/plain": [
       "[{'chebi_id': '',\n",
       "  'chebi_url': '',\n",
       "  'creation_time': '2025-04-08T15:14:04',\n",
       "  'description': '',\n",
       "  'formula': 'C16H20O9',\n",
       "  'head_id': '7a58c33d81ff413f9b7668eaa4335127',\n",
       "  'hmdb_id': '',\n",
       "  'hmdb_url': '',\n",
       "  'img_abc_id': '',\n",
       "  'inchi': 'InChI=1S/C16H20O9/c1-23-10-6-8(2-4-9(10)18)3-5-12(19)25-16-15(22)14(21)13(20)11(7-17)24-16/h2-6,11,13-18,20-22H,7H2,1H3/b5-3+/t11-,13-,14+,15-,16+/m1/s1',\n",
       "  'inchi_key': 'JWRQVQWBNRGGPK-PMQCXRHVSA-N',\n",
       "  'iupac_name': '',\n",
       "  'kegg_id': '',\n",
       "  'kegg_url': '',\n",
       "  'last_modified': '2025-04-08T15:14:04',\n",
       "  'lipidmaps_id': '',\n",
       "  'lipidmaps_url': '',\n",
       "  'metacyc_id': '',\n",
       "  'mono_isotopic_molecular_weight': 356.1107322199999,\n",
       "  'name': '1-O-feruloyl-glucose',\n",
       "  'neutralized_2d_inchi': '',\n",
       "  'neutralized_2d_inchi_key': '',\n",
       "  'neutralized_inchi': 'InChI=1S/C16H20O9/c1-23-10-6-8(2-4-9(10)18)3-5-12(19)25-16-15(22)14(21)13(20)11(7-17)24-16/h2-6,11,13-18,20-22H,7H2,1H3/b5-3+/t11-,13-,14+,15-,16+/m1/s1',\n",
       "  'neutralized_inchi_key': 'JWRQVQWBNRGGPK-PMQCXRHVSA-N',\n",
       "  'num_free_radicals': 0,\n",
       "  'number_components': 0,\n",
       "  'permanent_charge': 0,\n",
       "  'prev_uid': '',\n",
       "  'pubchem_compound_id': '',\n",
       "  'pubchem_url': '',\n",
       "  'source': '',\n",
       "  'synonyms': '',\n",
       "  'unique_id': '7a58c33d81ff413f9b7668eaa4335127',\n",
       "  'username': 'bkieft',\n",
       "  'wikipedia_url': ''}]"
      ]
     },
     "execution_count": 25,
     "metadata": {},
     "output_type": "execute_result"
    }
   ],
   "source": [
    "metatlas_store_input = sta.format_for_atlas_store(final_atlases_compounds_add_to_db)\n",
    "metatlas_store_input"
   ]
  },
  {
   "cell_type": "code",
   "execution_count": 25,
   "metadata": {},
   "outputs": [],
   "source": [
    "# metob.store(metatlas_store_input)"
   ]
  },
  {
   "cell_type": "markdown",
   "metadata": {},
   "source": [
    "# Check if selected compounds/adducts are in the atlases"
   ]
  },
  {
   "cell_type": "code",
   "execution_count": 26,
   "metadata": {},
   "outputs": [],
   "source": [
    "all_atlases = glob.glob('/global/homes/b/bkieft/metatlas-data/*/*.tsv')\n",
    "atlas_dfs = []\n",
    "\n",
    "for df_path in all_atlases:\n",
    "    df = pd.read_csv(df_path, sep='\\t')\n",
    "    df['source_file'] = os.path.basename(df_path)  # Add the file name as a new column\n",
    "    atlas_dfs.append(df)\n",
    "\n",
    "atlas_df = pd.concat(atlas_dfs)"
   ]
  },
  {
   "cell_type": "code",
   "execution_count": 27,
   "metadata": {},
   "outputs": [
    {
     "name": "stdout",
     "output_type": "stream",
     "text": [
      "No match found for 1-O-feruloyl-glucose in any atlas field.\n",
      "No match found for 1-O-feruloyl-glucose in any atlas field.\n",
      "No match found for 1-O-feruloyl-glucose in any atlas field.\n"
     ]
    }
   ],
   "source": [
    "matches_to_atlases, nonmatches_to_atlases = sta.find_atlas_matches(atlas_df, final_atlases)"
   ]
  },
  {
   "cell_type": "code",
   "execution_count": 28,
   "metadata": {},
   "outputs": [
    {
     "data": {
      "text/html": [
       "<div>\n",
       "<style scoped>\n",
       "    .dataframe tbody tr th:only-of-type {\n",
       "        vertical-align: middle;\n",
       "    }\n",
       "\n",
       "    .dataframe tbody tr th {\n",
       "        vertical-align: top;\n",
       "    }\n",
       "\n",
       "    .dataframe thead th {\n",
       "        text-align: right;\n",
       "    }\n",
       "</style>\n",
       "<table border=\"1\" class=\"dataframe\">\n",
       "  <thead>\n",
       "    <tr style=\"text-align: right;\">\n",
       "      <th></th>\n",
       "      <th>new_label</th>\n",
       "      <th>attempted_matching_values</th>\n",
       "      <th>atlas_source_files</th>\n",
       "    </tr>\n",
       "  </thead>\n",
       "  <tbody>\n",
       "    <tr>\n",
       "      <th>0</th>\n",
       "      <td>1-O-feruloyl-glucose</td>\n",
       "      <td>[JWRQVQWBNRGGPK-PMQCXRHVSA-N, InChI=1S/C16H20O9/c1-23-10-6-8(2-4-9(10)18)3-5-12(19)25-16-15(22)14(21)13(20)11(7-17)24-16/h2-6,11,13-18,20-22H,7H2,1H3/b5-3+/t11-,13-,14+,15-,16+/m1/s1, 1-O-feruloyl-glucose, 1-O-feruloyl-glucose]</td>\n",
       "      <td></td>\n",
       "    </tr>\n",
       "  </tbody>\n",
       "</table>\n",
       "</div>"
      ],
      "text/plain": [
       "              new_label  \\\n",
       "0  1-O-feruloyl-glucose   \n",
       "\n",
       "                                                                                                                                                                                                             attempted_matching_values  \\\n",
       "0  [JWRQVQWBNRGGPK-PMQCXRHVSA-N, InChI=1S/C16H20O9/c1-23-10-6-8(2-4-9(10)18)3-5-12(19)25-16-15(22)14(21)13(20)11(7-17)24-16/h2-6,11,13-18,20-22H,7H2,1H3/b5-3+/t11-,13-,14+,15-,16+/m1/s1, 1-O-feruloyl-glucose, 1-O-feruloyl-glucose]   \n",
       "\n",
       "  atlas_source_files  \n",
       "0                     "
      ]
     },
     "execution_count": 28,
     "metadata": {},
     "output_type": "execute_result"
    }
   ],
   "source": [
    "nonmatches_to_atlases"
   ]
  },
  {
   "cell_type": "markdown",
   "metadata": {},
   "source": [
    "# Store selected compound/adduct in metatlas atlases"
   ]
  },
  {
   "cell_type": "code",
   "execution_count": null,
   "metadata": {},
   "outputs": [],
   "source": [
    "# TO DO (maybe by hand?)\n",
    "# RT correction here first"
   ]
  },
  {
   "cell_type": "markdown",
   "metadata": {},
   "source": [
    "# Check if selected compounds/adducts are in MSMS refs"
   ]
  },
  {
   "cell_type": "code",
   "execution_count": 29,
   "metadata": {},
   "outputs": [
    {
     "name": "stderr",
     "output_type": "stream",
     "text": [
      "/tmp/ipykernel_1802006/2583348144.py:2: DtypeWarning:\n",
      "\n",
      "Columns (2,12) have mixed types. Specify dtype option on import or set low_memory=False.\n",
      "\n"
     ]
    },
    {
     "data": {
      "text/plain": [
       "(15661, 3)"
      ]
     },
     "execution_count": 29,
     "metadata": {},
     "output_type": "execute_result"
    }
   ],
   "source": [
    "msms_refs_path = '/global/cfs/cdirs/metatlas/projects/spectral_libraries/20240430_istdv7-addition_msms_refs.tab'\n",
    "msms_refs = pd.read_csv(msms_refs_path, sep='\\t', index_col=0)\n",
    "msms_refs_compounds = msms_refs[['name', 'inchi', 'inchi_key']].drop_duplicates()\n",
    "msms_refs_compounds.shape"
   ]
  },
  {
   "cell_type": "code",
   "execution_count": 30,
   "metadata": {},
   "outputs": [
    {
     "data": {
      "application/vnd.jupyter.widget-view+json": {
       "model_id": "70210bd89f36486493e3bffa108aa897",
       "version_major": 2,
       "version_minor": 0
      },
      "text/plain": [
       "0it [00:00, ?it/s]"
      ]
     },
     "metadata": {},
     "output_type": "display_data"
    },
    {
     "name": "stdout",
     "output_type": "stream",
     "text": [
      "Searching MSMS refs for 1-O-feruloyl-glucose (JWRQVQWBNRGGPK-PMQCXRHVSA-N)\n",
      "1-O-feruloyl-glucose (JWRQVQWBNRGGPK-PMQCXRHVSA-N) not found in MSMS refs. Trying flat inchi key (JWRQVQWBNRGGPK-%-N)\n",
      "1-O-feruloyl-glucose (JWRQVQWBNRGGPK-PMQCXRHVSA-N) not found in MSMS refs.\n",
      "\n",
      "These compounds are not in the MSMS refs table:\n"
     ]
    },
    {
     "data": {
      "text/html": [
       "<div>\n",
       "<style scoped>\n",
       "    .dataframe tbody tr th:only-of-type {\n",
       "        vertical-align: middle;\n",
       "    }\n",
       "\n",
       "    .dataframe tbody tr th {\n",
       "        vertical-align: top;\n",
       "    }\n",
       "\n",
       "    .dataframe thead th {\n",
       "        text-align: right;\n",
       "    }\n",
       "</style>\n",
       "<table border=\"1\" class=\"dataframe\">\n",
       "  <thead>\n",
       "    <tr style=\"text-align: right;\">\n",
       "      <th></th>\n",
       "      <th>Label</th>\n",
       "      <th>InChIKey</th>\n",
       "    </tr>\n",
       "  </thead>\n",
       "  <tbody>\n",
       "    <tr>\n",
       "      <th>0</th>\n",
       "      <td>1-O-feruloyl-glucose</td>\n",
       "      <td>JWRQVQWBNRGGPK-PMQCXRHVSA-N</td>\n",
       "    </tr>\n",
       "  </tbody>\n",
       "</table>\n",
       "</div>"
      ],
      "text/plain": [
       "                  Label                     InChIKey\n",
       "0  1-O-feruloyl-glucose  JWRQVQWBNRGGPK-PMQCXRHVSA-N"
      ]
     },
     "execution_count": 30,
     "metadata": {},
     "output_type": "execute_result"
    }
   ],
   "source": [
    "in_msms_refs, notin_msms_refs, flat_in_msms_refs = sta.search_for_matches_in_msms_refs(final_atlases_compounds, msms_refs)\n",
    "print(\"\\nThese compounds are not in the MSMS refs table:\")\n",
    "pd.DataFrame(list(notin_msms_refs.items()), columns=['Label', 'InChIKey'])"
   ]
  },
  {
   "cell_type": "markdown",
   "metadata": {},
   "source": [
    "# Store selected compound/adduct in MSMS refs"
   ]
  },
  {
   "cell_type": "code",
   "execution_count": 31,
   "metadata": {},
   "outputs": [],
   "source": [
    "# Make sure RTs agree\n",
    "final_atlases_slim = final_atlases[['label', 'adduct', 'rt_peak', 'mz_theoretical', 'inchi', 'inchi_key']].reset_index(drop=True)\n",
    "final_atlases_slim['label_adduct'] = final_atlases_slim.apply(lambda row: f\"{row.label}_{row.adduct}\", axis=1)\n",
    "\n",
    "combined_top_spectra = pd.merge(top_spectra_annotations_subset.rename(columns={'label': 'label_adduct'}), \\\n",
    "                                final_atlases_slim[['label_adduct', 'rt_peak', 'mz_theoretical', 'inchi', 'inchi_key']], on='label_adduct')\n",
    "combined_top_spectra['label'] = combined_top_spectra['label_adduct'].apply(lambda x: x.split('_')[0])\n",
    "combined_top_spectra['rt_diff'] = combined_top_spectra['rt'] - combined_top_spectra['rt_peak']\n",
    "combined_top_spectra = combined_top_spectra[combined_top_spectra['rt_diff'] < 0.3]"
   ]
  },
  {
   "cell_type": "code",
   "execution_count": 32,
   "metadata": {},
   "outputs": [],
   "source": [
    "# Subset by compounds that need to be added\n",
    "combined_top_spectra_subset = combined_top_spectra[combined_top_spectra['inchi_key'].isin(list(notin_msms_refs.values()))]"
   ]
  },
  {
   "cell_type": "code",
   "execution_count": 33,
   "metadata": {},
   "outputs": [],
   "source": [
    "# Add all required columns for MSMS refs\n",
    "combined_top_spectra_add_to_msms_refs = combined_top_spectra_subset.copy()\n",
    "combined_top_spectra_add_to_msms_refs['ce_type'] = 'ramped'\n",
    "combined_top_spectra_add_to_msms_refs['ce'] = combined_top_spectra_add_to_msms_refs['lcmsrun'].apply(sta.get_collision_energy)\n",
    "combined_top_spectra_add_to_msms_refs['file'] = combined_top_spectra_add_to_msms_refs['lcmsrun'].apply(os.path.basename)\n",
    "combined_top_spectra_add_to_msms_refs.rename(columns={'mz_theoretical': 'mz'}, inplace=True)\n",
    "combined_top_spectra_add_to_msms_refs = sta.enrich_metadata(combined_top_spectra_add_to_msms_refs)\n",
    "combined_top_spectra_add_to_msms_refs['spectrum'] = combined_top_spectra_add_to_msms_refs['spectrum'].apply(sta.make_text_spectrum)\n",
    "combined_top_spectra_add_to_msms_refs = combined_top_spectra_add_to_msms_refs[msms_refs.columns.intersection(combined_top_spectra_add_to_msms_refs.columns)]"
   ]
  },
  {
   "cell_type": "code",
   "execution_count": 34,
   "metadata": {},
   "outputs": [],
   "source": [
    "# Combine existing and new MSMS refs\n",
    "new_msms_refs = pd.concat([msms_refs, combined_top_spectra_add_to_msms_refs])"
   ]
  },
  {
   "cell_type": "code",
   "execution_count": 35,
   "metadata": {},
   "outputs": [
    {
     "name": "stdout",
     "output_type": "stream",
     "text": [
      "Existing MSMS refs: (216409, 17)\n",
      "New MSMS refs: (216417, 17)\n"
     ]
    }
   ],
   "source": [
    "print(f\"Existing MSMS refs: {msms_refs.shape}\")\n",
    "print(f\"New MSMS refs: {new_msms_refs.shape}\")"
   ]
  },
  {
   "cell_type": "code",
   "execution_count": null,
   "metadata": {},
   "outputs": [],
   "source": [
    "# Export new MSMS refs file"
   ]
  }
 ],
 "metadata": {
  "kernelspec": {
   "display_name": "metatlas",
   "language": "python",
   "name": "python3"
  },
  "language_info": {
   "codemirror_mode": {
    "name": "ipython",
    "version": 3
   },
   "file_extension": ".py",
   "mimetype": "text/x-python",
   "name": "python",
   "nbconvert_exporter": "python",
   "pygments_lexer": "ipython3",
   "version": "3.11.8"
  }
 },
 "nbformat": 4,
 "nbformat_minor": 2
}
