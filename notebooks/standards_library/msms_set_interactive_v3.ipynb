{
 "cells": [
  {
   "cell_type": "code",
   "execution_count": null,
   "metadata": {},
   "outputs": [],
   "source": [
    "import numpy as np\n",
    "import pandas as pd\n",
    "import sys\n",
    "from datetime import datetime\n",
    "import os\n",
    "from IPython.display import display, SVG\n",
    "import json\n",
    "\n",
    "sys.path.insert(1, '/global/homes/b/bkieft/metatlas')\n",
    "import notebooks.standards_library.standard_annotation as sta\n",
    "pd.options.display.max_colwidth = 300\n",
    "\n",
    "current_time = datetime.now().strftime(\"%Y%m%d%H%M%S\")"
   ]
  },
  {
   "cell_type": "markdown",
   "metadata": {},
   "source": [
    "# Enter Reference Standard information"
   ]
  },
  {
   "cell_type": "code",
   "execution_count": null,
   "metadata": {},
   "outputs": [],
   "source": [
    "# Load configuration\n",
    "config_path = \"/global/homes/b/bkieft/metatlas/notebooks/standards_library/msms_set_config.json\"\n",
    "with open(config_path, \"r\") as config_file:\n",
    "    config = json.load(config_file)\n",
    "\n",
    "# Access values from the config\n",
    "ppm_tolerance = config[\"ppm_tolerance\"]\n",
    "include_polarities = config[\"include_polarities\"]\n",
    "include_chromatographies = config[\"include_chromatographies\"]\n",
    "include_adducts = config[\"include_adducts\"]\n",
    "msms_refs_prefix = config[\"msms_refs_prefix\"]\n",
    "path_to_standards_file = config[\"path_to_standards_file\"]\n",
    "standards_file = config[\"standards_file\"]\n",
    "standards_info_path = f\"{path_to_standards_file}/{standards_file}\"\n",
    "current_ema_atlases = config[\"current_ema_atlases\"]\n",
    "current_qc_atlases = config[\"current_qc_atlases\"]\n",
    "current_msms_refs_path = config[\"current_msms_refs_path\"]\n",
    "new_full_data = config[\"new_full_data\"]\n",
    "new_selected_data = config[\"new_selected_data\"]\n",
    "new_filtered_data = config[\"new_filtered_data\"]\n",
    "new_rt_correction_data = config[\"new_rt_correction_data\"]\n",
    "new_full_data = False\n",
    "new_selected_data = False\n",
    "new_filtered_data = False\n",
    "new_rt_correction_data = False"
   ]
  },
  {
   "cell_type": "markdown",
   "metadata": {},
   "source": [
    "# Get EIC and Spectra information from run table"
   ]
  },
  {
   "cell_type": "code",
   "execution_count": 3,
   "metadata": {},
   "outputs": [],
   "source": [
    "if new_full_data is True:\n",
    "    standard_lcmsruns_table = sta.build_standard_lcmsrun_table(standards_info_path, include_polarities=include_polarities, include_chromatographies=include_chromatographies)\n",
    "    standard_lcmsruns_table_with_adducts = sta.build_adduct_annotated_table(standard_lcmsruns_table, include_adducts=include_adducts)\n",
    "    eics_full, top_spectra_full, group_names_full, rt_peaks_full, atlas_full = sta.extract_data(lcmsruns_table=standard_lcmsruns_table_with_adducts,\n",
    "                                                                                                            ppm_tolerance=ppm_tolerance,\n",
    "                                                                                                            method=\"find_peaks\")\n",
    "    runnum_to_structure_image_grid = sta.generate_gridded_molecular_images(standard_lcmsruns_table_with_adducts)"
   ]
  },
  {
   "cell_type": "markdown",
   "metadata": {},
   "source": [
    "# Save and/or read full data"
   ]
  },
  {
   "cell_type": "code",
   "execution_count": 4,
   "metadata": {},
   "outputs": [
    {
     "name": "stdout",
     "output_type": "stream",
     "text": [
      "Loading most recent pkl file: /global/homes/b/bkieft/metabolomics_standards_annotation/standard_library_annotation/scheller_test_20250422133530_ref_stds_data_full.pkl\n"
     ]
    }
   ],
   "source": [
    "if new_full_data is True:\n",
    "    sta.save_full_data(eics_full, top_spectra_full, group_names_full, rt_peaks_full, atlas_full, runnum_to_structure_image_grid, standards_info_path, current_time)\n",
    "    \n",
    "elif new_full_data is False:\n",
    "    eics_full, top_spectra_full, group_names_full, rt_peaks_full, atlas_full, runnum_to_structure_image_grid = sta.load_full_data(standards_info_path)"
   ]
  },
  {
   "cell_type": "markdown",
   "metadata": {},
   "source": [
    "# Create interactive plot and choose adducts"
   ]
  },
  {
   "cell_type": "code",
   "execution_count": 5,
   "metadata": {},
   "outputs": [],
   "source": [
    "processed_data = sta.process_data_for_plotting(eics_full, top_spectra_full, group_names_full, rt_peaks_full, include_adducts, sort_by='run') # or 'run'\n",
    "processed_data = [\n",
    "    entry for entry in processed_data\n",
    "    if entry.get('compound_name') == \"sorgoleone\"\n",
    "]"
   ]
  },
  {
   "cell_type": "code",
   "execution_count": 6,
   "metadata": {},
   "outputs": [],
   "source": [
    "if new_selected_data is True:\n",
    "\n",
    "    selected_good_adducts = {}\n",
    "    ambiguous_adducts = {}\n",
    "    top_adducts = {}\n",
    "    sta.create_interactive_plots(processed_data, runnum_to_structure_image_grid, selected_good_adducts, ambiguous_adducts, top_adducts)"
   ]
  },
  {
   "cell_type": "markdown",
   "metadata": {},
   "source": [
    "# Save and/or read selected data"
   ]
  },
  {
   "cell_type": "code",
   "execution_count": 7,
   "metadata": {},
   "outputs": [
    {
     "name": "stdout",
     "output_type": "stream",
     "text": [
      "Loading most recent pkl file: /global/homes/b/bkieft/metabolomics_standards_annotation/standard_library_annotation/scheller_test_20250429085323_ref_stds_data_selected.pkl\n"
     ]
    }
   ],
   "source": [
    "if new_selected_data is True:\n",
    "    sta.save_selected_data(selected_good_adducts, ambiguous_adducts, top_adducts, standards_info_path, current_time)\n",
    "    \n",
    "elif new_selected_data is False:\n",
    "    selected_good_adducts, ambiguous_adducts, top_adducts = sta.load_selected_data(standards_info_path)"
   ]
  },
  {
   "cell_type": "markdown",
   "metadata": {},
   "source": [
    "# Preview compounds+adducts selections"
   ]
  },
  {
   "cell_type": "code",
   "execution_count": 8,
   "metadata": {},
   "outputs": [
    {
     "name": "stdout",
     "output_type": "stream",
     "text": [
      "Selected compounds:\n",
      "\n"
     ]
    },
    {
     "data": {
      "text/html": [
       "<div>\n",
       "<style scoped>\n",
       "    .dataframe tbody tr th:only-of-type {\n",
       "        vertical-align: middle;\n",
       "    }\n",
       "\n",
       "    .dataframe tbody tr th {\n",
       "        vertical-align: top;\n",
       "    }\n",
       "\n",
       "    .dataframe thead th {\n",
       "        text-align: right;\n",
       "    }\n",
       "</style>\n",
       "<table border=\"1\" class=\"dataframe\">\n",
       "  <thead>\n",
       "    <tr style=\"text-align: right;\">\n",
       "      <th></th>\n",
       "      <th>compound_name</th>\n",
       "      <th>standard_lcmsrun</th>\n",
       "      <th>selected_adducts</th>\n",
       "      <th>selected_peak_indices</th>\n",
       "      <th>top_adduct</th>\n",
       "    </tr>\n",
       "  </thead>\n",
       "  <tbody>\n",
       "    <tr>\n",
       "      <th>0</th>\n",
       "      <td>sorgoleone</td>\n",
       "      <td>/global/cfs/cdirs/metatlas/raw_data/jgi/20241002_JGI_HS_510060_SorghExu_final1_EXP120B_HILICZ_USHXG02558/20241002_JGI_HS_510060_SorghExu_final1_EXP120B_HILICZ_USHXG02558_POS_MS2_RefStd-1_Sorgoleone_1_Rg70to1050-CE102040norm-200uM-S1_Run375.h5</td>\n",
       "      <td>[[M+H]+, [M+NH4]+, [M-H2O+H]+]</td>\n",
       "      <td>[peak1, peak1, peak1]</td>\n",
       "      <td>[[M+H]+]</td>\n",
       "    </tr>\n",
       "    <tr>\n",
       "      <th>1</th>\n",
       "      <td>sorgoleone</td>\n",
       "      <td>/global/cfs/cdirs/metatlas/raw_data/jgi/20241002_JGI_HS_510060_SorghExu_final1_EXP120B_HILICZ_USHXG02558/20241002_JGI_HS_510060_SorghExu_final1_EXP120B_HILICZ_USHXG02558_POS_MS2_RefStd-1_Sorgoleone_1_Rg70to1050-CE205060norm-200uM-S1_Run376.h5</td>\n",
       "      <td>[[M+H]+, [M+NH4]+, [M-H2O+H]+]</td>\n",
       "      <td>[peak1, peak1, peak1]</td>\n",
       "      <td>[[M+H]+]</td>\n",
       "    </tr>\n",
       "    <tr>\n",
       "      <th>2</th>\n",
       "      <td>sorgoleone</td>\n",
       "      <td>/global/cfs/cdirs/metatlas/raw_data/jgi/20241002_JGI_HS_510060_SorghExu_final1_EXP120B_HILICZ_USHXG02558/20241002_JGI_HS_510060_SorghExu_final1_EXP120B_HILICZ_USHXG02558_NEG_MS2_RefStd-1_Sorgoleone_1_Rg70to1050-CE102040norm-200uM-S1_Run377.h5</td>\n",
       "      <td>[[M-H]-]</td>\n",
       "      <td>[peak1]</td>\n",
       "      <td>[[M-H]-]</td>\n",
       "    </tr>\n",
       "    <tr>\n",
       "      <th>3</th>\n",
       "      <td>sorgoleone</td>\n",
       "      <td>/global/cfs/cdirs/metatlas/raw_data/jgi/20241002_JGI_HS_510060_SorghExu_final1_EXP120B_HILICZ_USHXG02558/20241002_JGI_HS_510060_SorghExu_final1_EXP120B_HILICZ_USHXG02558_NEG_MS2_RefStd-1_Sorgoleone_1_Rg70to1050-CE205060norm-200uM-S1_Run378.h5</td>\n",
       "      <td>[[M-H]-]</td>\n",
       "      <td>[peak1]</td>\n",
       "      <td>[[M-H]-]</td>\n",
       "    </tr>\n",
       "    <tr>\n",
       "      <th>4</th>\n",
       "      <td>sorgoleone</td>\n",
       "      <td>/global/cfs/cdirs/metatlas/raw_data/jgi/20241021_JGI_HS_510060_SorghExu_final1_IQX_C18_USDAY92782/20241021_JGI_HS_510060_SorghExu_final1_IQX_C18_USDAY92782_POS_MS2_RefStd-1_Sorgoleone_1_Rg80to1200-CE102040norm-200uM-S1_Run382.h5</td>\n",
       "      <td>[[M+Na]+, [M+H]+, [M-H2O+H]+]</td>\n",
       "      <td>[peak1, peak1, peak1]</td>\n",
       "      <td>[[M+Na]+, [M+H]+]</td>\n",
       "    </tr>\n",
       "    <tr>\n",
       "      <th>5</th>\n",
       "      <td>sorgoleone</td>\n",
       "      <td>/global/cfs/cdirs/metatlas/raw_data/jgi/20241021_JGI_HS_510060_SorghExu_final1_IQX_C18_USDAY92782/20241021_JGI_HS_510060_SorghExu_final1_IQX_C18_USDAY92782_POS_MS2_RefStd-1_Sorgoleone_1_Rg80to1200-CE205060norm-200uM-S1_Run383.h5</td>\n",
       "      <td>[[M+Na]+, [M+H]+]</td>\n",
       "      <td>[peak1, peak1]</td>\n",
       "      <td>[[M+Na]+, [M+H]+]</td>\n",
       "    </tr>\n",
       "    <tr>\n",
       "      <th>6</th>\n",
       "      <td>sorgoleone</td>\n",
       "      <td>/global/cfs/cdirs/metatlas/raw_data/jgi/20241021_JGI_HS_510060_SorghExu_final1_IQX_C18_USDAY92782/20241021_JGI_HS_510060_SorghExu_final1_IQX_C18_USDAY92782_NEG_MS2_RefStd-1_Sorgoleone_1_Rg80to1200-CE102040norm-200uM-S1_Run384.h5</td>\n",
       "      <td>[[M-H]-]</td>\n",
       "      <td>[peak1]</td>\n",
       "      <td>[[M-H]-]</td>\n",
       "    </tr>\n",
       "    <tr>\n",
       "      <th>7</th>\n",
       "      <td>sorgoleone</td>\n",
       "      <td>/global/cfs/cdirs/metatlas/raw_data/jgi/20241021_JGI_HS_510060_SorghExu_final1_IQX_C18_USDAY92782/20241021_JGI_HS_510060_SorghExu_final1_IQX_C18_USDAY92782_NEG_MS2_RefStd-1_Sorgoleone_1_Rg80to1200-CE205060norm-200uM-S1_Run385.h5</td>\n",
       "      <td>[[M-H]-]</td>\n",
       "      <td>[peak1]</td>\n",
       "      <td>[[M-H]-]</td>\n",
       "    </tr>\n",
       "  </tbody>\n",
       "</table>\n",
       "</div>"
      ],
      "text/plain": [
       "  compound_name  \\\n",
       "0    sorgoleone   \n",
       "1    sorgoleone   \n",
       "2    sorgoleone   \n",
       "3    sorgoleone   \n",
       "4    sorgoleone   \n",
       "5    sorgoleone   \n",
       "6    sorgoleone   \n",
       "7    sorgoleone   \n",
       "\n",
       "                                                                                                                                                                                                                                     standard_lcmsrun  \\\n",
       "0  /global/cfs/cdirs/metatlas/raw_data/jgi/20241002_JGI_HS_510060_SorghExu_final1_EXP120B_HILICZ_USHXG02558/20241002_JGI_HS_510060_SorghExu_final1_EXP120B_HILICZ_USHXG02558_POS_MS2_RefStd-1_Sorgoleone_1_Rg70to1050-CE102040norm-200uM-S1_Run375.h5   \n",
       "1  /global/cfs/cdirs/metatlas/raw_data/jgi/20241002_JGI_HS_510060_SorghExu_final1_EXP120B_HILICZ_USHXG02558/20241002_JGI_HS_510060_SorghExu_final1_EXP120B_HILICZ_USHXG02558_POS_MS2_RefStd-1_Sorgoleone_1_Rg70to1050-CE205060norm-200uM-S1_Run376.h5   \n",
       "2  /global/cfs/cdirs/metatlas/raw_data/jgi/20241002_JGI_HS_510060_SorghExu_final1_EXP120B_HILICZ_USHXG02558/20241002_JGI_HS_510060_SorghExu_final1_EXP120B_HILICZ_USHXG02558_NEG_MS2_RefStd-1_Sorgoleone_1_Rg70to1050-CE102040norm-200uM-S1_Run377.h5   \n",
       "3  /global/cfs/cdirs/metatlas/raw_data/jgi/20241002_JGI_HS_510060_SorghExu_final1_EXP120B_HILICZ_USHXG02558/20241002_JGI_HS_510060_SorghExu_final1_EXP120B_HILICZ_USHXG02558_NEG_MS2_RefStd-1_Sorgoleone_1_Rg70to1050-CE205060norm-200uM-S1_Run378.h5   \n",
       "4                /global/cfs/cdirs/metatlas/raw_data/jgi/20241021_JGI_HS_510060_SorghExu_final1_IQX_C18_USDAY92782/20241021_JGI_HS_510060_SorghExu_final1_IQX_C18_USDAY92782_POS_MS2_RefStd-1_Sorgoleone_1_Rg80to1200-CE102040norm-200uM-S1_Run382.h5   \n",
       "5                /global/cfs/cdirs/metatlas/raw_data/jgi/20241021_JGI_HS_510060_SorghExu_final1_IQX_C18_USDAY92782/20241021_JGI_HS_510060_SorghExu_final1_IQX_C18_USDAY92782_POS_MS2_RefStd-1_Sorgoleone_1_Rg80to1200-CE205060norm-200uM-S1_Run383.h5   \n",
       "6                /global/cfs/cdirs/metatlas/raw_data/jgi/20241021_JGI_HS_510060_SorghExu_final1_IQX_C18_USDAY92782/20241021_JGI_HS_510060_SorghExu_final1_IQX_C18_USDAY92782_NEG_MS2_RefStd-1_Sorgoleone_1_Rg80to1200-CE102040norm-200uM-S1_Run384.h5   \n",
       "7                /global/cfs/cdirs/metatlas/raw_data/jgi/20241021_JGI_HS_510060_SorghExu_final1_IQX_C18_USDAY92782/20241021_JGI_HS_510060_SorghExu_final1_IQX_C18_USDAY92782_NEG_MS2_RefStd-1_Sorgoleone_1_Rg80to1200-CE205060norm-200uM-S1_Run385.h5   \n",
       "\n",
       "                 selected_adducts  selected_peak_indices         top_adduct  \n",
       "0  [[M+H]+, [M+NH4]+, [M-H2O+H]+]  [peak1, peak1, peak1]           [[M+H]+]  \n",
       "1  [[M+H]+, [M+NH4]+, [M-H2O+H]+]  [peak1, peak1, peak1]           [[M+H]+]  \n",
       "2                        [[M-H]-]                [peak1]           [[M-H]-]  \n",
       "3                        [[M-H]-]                [peak1]           [[M-H]-]  \n",
       "4   [[M+Na]+, [M+H]+, [M-H2O+H]+]  [peak1, peak1, peak1]  [[M+Na]+, [M+H]+]  \n",
       "5               [[M+Na]+, [M+H]+]         [peak1, peak1]  [[M+Na]+, [M+H]+]  \n",
       "6                        [[M-H]-]                [peak1]           [[M-H]-]  \n",
       "7                        [[M-H]-]                [peak1]           [[M-H]-]  "
      ]
     },
     "metadata": {},
     "output_type": "display_data"
    },
    {
     "name": "stdout",
     "output_type": "stream",
     "text": [
      "\n",
      "Ambiguous compounds (to return to for scrutiny):\n",
      "\n"
     ]
    },
    {
     "data": {
      "text/html": [
       "<div>\n",
       "<style scoped>\n",
       "    .dataframe tbody tr th:only-of-type {\n",
       "        vertical-align: middle;\n",
       "    }\n",
       "\n",
       "    .dataframe tbody tr th {\n",
       "        vertical-align: top;\n",
       "    }\n",
       "\n",
       "    .dataframe thead th {\n",
       "        text-align: right;\n",
       "    }\n",
       "</style>\n",
       "<table border=\"1\" class=\"dataframe\">\n",
       "  <thead>\n",
       "    <tr style=\"text-align: right;\">\n",
       "      <th></th>\n",
       "    </tr>\n",
       "  </thead>\n",
       "  <tbody>\n",
       "  </tbody>\n",
       "</table>\n",
       "</div>"
      ],
      "text/plain": [
       "Empty DataFrame\n",
       "Columns: []\n",
       "Index: []"
      ]
     },
     "metadata": {},
     "output_type": "display_data"
    }
   ],
   "source": [
    "selected_compounds_table = sta.extract_selected_compounds(selected_good_adducts, top_adducts)\n",
    "ambiguous_compounds_table = sta.extract_ambiguous_compounds(ambiguous_adducts)\n",
    "\n",
    "print(\"Selected compounds:\\n\")\n",
    "display(selected_compounds_table)\n",
    "print(\"\\nAmbiguous compounds (to return to for scrutiny):\\n\")\n",
    "display(ambiguous_compounds_table)"
   ]
  },
  {
   "cell_type": "markdown",
   "metadata": {},
   "source": [
    "# Filter RT Peak, EICs, and Top Spectra by selected compounds+adducts"
   ]
  },
  {
   "cell_type": "code",
   "execution_count": 9,
   "metadata": {},
   "outputs": [],
   "source": [
    "if new_filtered_data is True:\n",
    "    eics_filtered, rt_peaks_filtered, top_spectra_filtered = sta.filter_by_selected(eics_full, rt_peaks_full, top_spectra_full, selected_compounds_table)"
   ]
  },
  {
   "cell_type": "markdown",
   "metadata": {},
   "source": [
    "# Save and/or read filtered data"
   ]
  },
  {
   "cell_type": "code",
   "execution_count": 10,
   "metadata": {},
   "outputs": [
    {
     "name": "stdout",
     "output_type": "stream",
     "text": [
      "Loading most recent pkl file: /global/homes/b/bkieft/metabolomics_standards_annotation/standard_library_annotation/scheller_test_20250429085323_ref_stds_data_filtered.pkl\n"
     ]
    }
   ],
   "source": [
    "if new_filtered_data is True:\n",
    "    sta.save_filtered_data(eics_filtered, top_spectra_filtered, rt_peaks_filtered, standards_info_path, current_time)\n",
    "    \n",
    "elif new_filtered_data is False:\n",
    "    eics_filtered, top_spectra_filtered, rt_peaks_filtered = sta.load_filtered_data(standards_info_path)"
   ]
  },
  {
   "cell_type": "markdown",
   "metadata": {},
   "source": [
    "# Choose only the top adduct per compound to add to DB, Atlases, and MSMS Refs"
   ]
  },
  {
   "cell_type": "code",
   "execution_count": 11,
   "metadata": {},
   "outputs": [
    {
     "name": "stdout",
     "output_type": "stream",
     "text": [
      "Group ('C18', 'sorgoleone'): All RT values for ['102040norm' '205060norm'] and ['POS' 'NEG'] are within 0.05 mins of each other (0.0057).\n",
      "\n",
      "Group ('HILICZ', 'sorgoleone'): All RT values for ['102040norm' '205060norm'] and ['POS' 'NEG'] are within 0.05 mins of each other (0.0107).\n",
      "\n",
      "No isomers found in selected top adducts.\n",
      "\n",
      "Filtered 15 compound peaks to 5 peaks by best adduct. Here are the compounds+adducts retained:\n",
      "\n"
     ]
    },
    {
     "data": {
      "text/html": [
       "<div>\n",
       "<style scoped>\n",
       "    .dataframe tbody tr th:only-of-type {\n",
       "        vertical-align: middle;\n",
       "    }\n",
       "\n",
       "    .dataframe tbody tr th {\n",
       "        vertical-align: top;\n",
       "    }\n",
       "\n",
       "    .dataframe thead th {\n",
       "        text-align: right;\n",
       "    }\n",
       "</style>\n",
       "<table border=\"1\" class=\"dataframe\">\n",
       "  <thead>\n",
       "    <tr style=\"text-align: right;\">\n",
       "      <th></th>\n",
       "      <th>label</th>\n",
       "      <th>adduct</th>\n",
       "      <th>polarity</th>\n",
       "      <th>chromatography</th>\n",
       "      <th>inchi_key</th>\n",
       "      <th>monoisotopic_mass</th>\n",
       "      <th>collision_energy</th>\n",
       "    </tr>\n",
       "  </thead>\n",
       "  <tbody>\n",
       "    <tr>\n",
       "      <th>4</th>\n",
       "      <td>sorgoleone</td>\n",
       "      <td>[M+H]+</td>\n",
       "      <td>POS</td>\n",
       "      <td>C18</td>\n",
       "      <td>FGWRUVXUQWGLOX-AFJQJTPPSA-N</td>\n",
       "      <td>358.214409</td>\n",
       "      <td>102040norm</td>\n",
       "    </tr>\n",
       "    <tr>\n",
       "      <th>0</th>\n",
       "      <td>sorgoleone</td>\n",
       "      <td>[M+H]+</td>\n",
       "      <td>POS</td>\n",
       "      <td>HILICZ</td>\n",
       "      <td>FGWRUVXUQWGLOX-AFJQJTPPSA-N</td>\n",
       "      <td>358.214409</td>\n",
       "      <td>102040norm</td>\n",
       "    </tr>\n",
       "    <tr>\n",
       "      <th>7</th>\n",
       "      <td>sorgoleone</td>\n",
       "      <td>[M+Na]+</td>\n",
       "      <td>POS</td>\n",
       "      <td>C18</td>\n",
       "      <td>FGWRUVXUQWGLOX-AFJQJTPPSA-N</td>\n",
       "      <td>358.214409</td>\n",
       "      <td>205060norm</td>\n",
       "    </tr>\n",
       "    <tr>\n",
       "      <th>9</th>\n",
       "      <td>sorgoleone</td>\n",
       "      <td>[M-H]-</td>\n",
       "      <td>NEG</td>\n",
       "      <td>C18</td>\n",
       "      <td>FGWRUVXUQWGLOX-AFJQJTPPSA-N</td>\n",
       "      <td>358.214409</td>\n",
       "      <td>205060norm</td>\n",
       "    </tr>\n",
       "    <tr>\n",
       "      <th>2</th>\n",
       "      <td>sorgoleone</td>\n",
       "      <td>[M-H]-</td>\n",
       "      <td>NEG</td>\n",
       "      <td>HILICZ</td>\n",
       "      <td>FGWRUVXUQWGLOX-AFJQJTPPSA-N</td>\n",
       "      <td>358.214409</td>\n",
       "      <td>102040norm</td>\n",
       "    </tr>\n",
       "  </tbody>\n",
       "</table>\n",
       "</div>"
      ],
      "text/plain": [
       "        label   adduct polarity chromatography                    inchi_key  \\\n",
       "4  sorgoleone   [M+H]+      POS            C18  FGWRUVXUQWGLOX-AFJQJTPPSA-N   \n",
       "0  sorgoleone   [M+H]+      POS         HILICZ  FGWRUVXUQWGLOX-AFJQJTPPSA-N   \n",
       "7  sorgoleone  [M+Na]+      POS            C18  FGWRUVXUQWGLOX-AFJQJTPPSA-N   \n",
       "9  sorgoleone   [M-H]-      NEG            C18  FGWRUVXUQWGLOX-AFJQJTPPSA-N   \n",
       "2  sorgoleone   [M-H]-      NEG         HILICZ  FGWRUVXUQWGLOX-AFJQJTPPSA-N   \n",
       "\n",
       "   monoisotopic_mass collision_energy  \n",
       "4         358.214409       102040norm  \n",
       "0         358.214409       102040norm  \n",
       "7         358.214409       205060norm  \n",
       "9         358.214409       205060norm  \n",
       "2         358.214409       102040norm  "
      ]
     },
     "metadata": {},
     "output_type": "display_data"
    }
   ],
   "source": [
    "rt_peaks_filtered_top_adduct = sta.filter_by_selected_top_adduct(rt_peaks_filtered, top_adducts)"
   ]
  },
  {
   "cell_type": "markdown",
   "metadata": {},
   "source": [
    "# Save summary plots of selected compounds+adducts after completing"
   ]
  },
  {
   "cell_type": "code",
   "execution_count": 12,
   "metadata": {},
   "outputs": [
    {
     "name": "stderr",
     "output_type": "stream",
     "text": [
      "[10:09:02] non-ring atom 0 marked aromatic\n",
      "[10:09:02] non-ring atom 0 marked aromatic\n"
     ]
    }
   ],
   "source": [
    "sta.generate_static_summary_plots(processed_data, selected_good_adducts, top_adducts, path_to_standards_file)"
   ]
  },
  {
   "cell_type": "markdown",
   "metadata": {},
   "source": [
    "# Check if selected compounds are in metatlas DB"
   ]
  },
  {
   "cell_type": "code",
   "execution_count": 13,
   "metadata": {},
   "outputs": [
    {
     "data": {
      "application/vnd.jupyter.widget-view+json": {
       "model_id": "5e44fc4e567547219c683b38b34a30cc",
       "version_major": 2,
       "version_minor": 0
      },
      "text/plain": [
       "Searching for matches in MSMS refs:   0%|          | 0/5 [00:00<?, ?it/s]"
      ]
     },
     "metadata": {},
     "output_type": "display_data"
    },
    {
     "name": "stdout",
     "output_type": "stream",
     "text": [
      "\n",
      "Summary of compounds already in the metatlas database:\n",
      "\n"
     ]
    },
    {
     "data": {
      "text/html": [
       "<div>\n",
       "<style scoped>\n",
       "    .dataframe tbody tr th:only-of-type {\n",
       "        vertical-align: middle;\n",
       "    }\n",
       "\n",
       "    .dataframe tbody tr th {\n",
       "        vertical-align: top;\n",
       "    }\n",
       "\n",
       "    .dataframe thead th {\n",
       "        text-align: right;\n",
       "    }\n",
       "</style>\n",
       "<table border=\"1\" class=\"dataframe\">\n",
       "  <thead>\n",
       "    <tr style=\"text-align: right;\">\n",
       "      <th></th>\n",
       "      <th>query_label</th>\n",
       "      <th>query_matching_criterion</th>\n",
       "      <th>query_to_db</th>\n",
       "      <th>db_match</th>\n",
       "    </tr>\n",
       "  </thead>\n",
       "  <tbody>\n",
       "    <tr>\n",
       "      <th>0</th>\n",
       "      <td>sorgoleone</td>\n",
       "      <td>inchi_key</td>\n",
       "      <td>FGWRUVXUQWGLOX-AFJQJTPPSA-N</td>\n",
       "      <td>[FGWRUVXUQWGLOX-AFJQJTPPSA-N]</td>\n",
       "    </tr>\n",
       "  </tbody>\n",
       "</table>\n",
       "</div>"
      ],
      "text/plain": [
       "  query_label query_matching_criterion                  query_to_db  \\\n",
       "0  sorgoleone                inchi_key  FGWRUVXUQWGLOX-AFJQJTPPSA-N   \n",
       "\n",
       "                        db_match  \n",
       "0  [FGWRUVXUQWGLOX-AFJQJTPPSA-N]  "
      ]
     },
     "metadata": {},
     "output_type": "display_data"
    },
    {
     "name": "stdout",
     "output_type": "stream",
     "text": [
      "\n",
      "All compounds are already in the metatlas database.\n",
      "\n"
     ]
    }
   ],
   "source": [
    "in_db, notin_db = sta.search_for_matches_in_metatlas_db(rt_peaks_filtered_top_adduct, check_by_flat=True)"
   ]
  },
  {
   "cell_type": "markdown",
   "metadata": {},
   "source": [
    "# Store selected compounds+adducts in metatlas db"
   ]
  },
  {
   "cell_type": "code",
   "execution_count": 14,
   "metadata": {},
   "outputs": [],
   "source": [
    "# if len(notin_db) > 0:\n",
    "#     sta.store_in_metatlas_db(notin_db)"
   ]
  },
  {
   "cell_type": "markdown",
   "metadata": {},
   "source": [
    "# Check if selected compounds/adducts are in the atlases"
   ]
  },
  {
   "cell_type": "code",
   "execution_count": 15,
   "metadata": {},
   "outputs": [],
   "source": [
    "ema_atlases_data = sta.get_ema_atlas_data(current_ema_atlases)"
   ]
  },
  {
   "cell_type": "code",
   "execution_count": 16,
   "metadata": {},
   "outputs": [],
   "source": [
    "rt_peaks_filtered_top_adduct_formatted = sta.convert_rt_peaks_to_atlas_format(rt_peaks_filtered_top_adduct)"
   ]
  },
  {
   "cell_type": "code",
   "execution_count": 17,
   "metadata": {},
   "outputs": [
    {
     "data": {
      "application/vnd.jupyter.widget-view+json": {
       "model_id": "00a2e4e59e8b40aebc2bbb5ce0f19b23",
       "version_major": 2,
       "version_minor": 0
      },
      "text/plain": [
       "Searching for matches in existing atlases:   0%|          | 0/5 [00:00<?, ?it/s]"
      ]
     },
     "metadata": {},
     "output_type": "display_data"
    },
    {
     "name": "stdout",
     "output_type": "stream",
     "text": [
      "\n",
      "None of these compounds+adducts were found in the atlases.\n",
      "\n",
      "\n",
      "These compounds+adducts are not yet in any atlases:\n",
      "\n"
     ]
    },
    {
     "data": {
      "text/html": [
       "<div>\n",
       "<style scoped>\n",
       "    .dataframe tbody tr th:only-of-type {\n",
       "        vertical-align: middle;\n",
       "    }\n",
       "\n",
       "    .dataframe tbody tr th {\n",
       "        vertical-align: top;\n",
       "    }\n",
       "\n",
       "    .dataframe thead th {\n",
       "        text-align: right;\n",
       "    }\n",
       "</style>\n",
       "<table border=\"1\" class=\"dataframe\">\n",
       "  <thead>\n",
       "    <tr style=\"text-align: right;\">\n",
       "      <th></th>\n",
       "      <th>standard_lcmsrun</th>\n",
       "      <th>chromatography</th>\n",
       "      <th>compound_name</th>\n",
       "      <th>adduct</th>\n",
       "      <th>polarity</th>\n",
       "      <th>rt_peak</th>\n",
       "      <th>mz</th>\n",
       "      <th>smiles</th>\n",
       "      <th>peak_index</th>\n",
       "      <th>inchi</th>\n",
       "      <th>...</th>\n",
       "      <th>permanent_charge</th>\n",
       "      <th>formula</th>\n",
       "      <th>mono_isotopic_molecular_weight</th>\n",
       "      <th>collision_energy</th>\n",
       "      <th>label</th>\n",
       "      <th>rt_min</th>\n",
       "      <th>rt_max</th>\n",
       "      <th>mz_tolerance</th>\n",
       "      <th>mz_tolerance_units</th>\n",
       "      <th>in_metatlas</th>\n",
       "    </tr>\n",
       "  </thead>\n",
       "  <tbody>\n",
       "    <tr>\n",
       "      <th>0</th>\n",
       "      <td>/global/cfs/cdirs/metatlas/raw_data/jgi/20241021_JGI_HS_510060_SorghExu_final1_IQX_C18_USDAY92782/20241021_JGI_HS_510060_SorghExu_final1_IQX_C18_USDAY92782_POS_MS2_RefStd-1_Sorgoleone_1_Rg80to1200-CE102040norm-200uM-S1_Run382.h5</td>\n",
       "      <td>C18</td>\n",
       "      <td>sorgoleone</td>\n",
       "      <td>[M+H]+</td>\n",
       "      <td>positive</td>\n",
       "      <td>7.543334</td>\n",
       "      <td>359.221685</td>\n",
       "      <td>COC1=CC(=O)C(=C(C1=O)CCCCCCC/C=C\\C/C=C\\CC=C)O</td>\n",
       "      <td>peak1</td>\n",
       "      <td>InChI=1S/C22H30O4/c1-3-4-5-6-7-8-9-10-11-12-13-14-15-16-18-21(24)19(23)17-20(26-2)22(18)25/h3,5-6,8-9,17,24H,1,4,7,10-16H2,2H3/b6-5-,9-8-</td>\n",
       "      <td>...</td>\n",
       "      <td>0</td>\n",
       "      <td>C22H30O4</td>\n",
       "      <td>358.214409</td>\n",
       "      <td>102040norm</td>\n",
       "      <td>sorgoleone</td>\n",
       "      <td>7.043334</td>\n",
       "      <td>8.043334</td>\n",
       "      <td>5</td>\n",
       "      <td>ppm</td>\n",
       "      <td>True</td>\n",
       "    </tr>\n",
       "    <tr>\n",
       "      <th>1</th>\n",
       "      <td>/global/cfs/cdirs/metatlas/raw_data/jgi/20241021_JGI_HS_510060_SorghExu_final1_IQX_C18_USDAY92782/20241021_JGI_HS_510060_SorghExu_final1_IQX_C18_USDAY92782_POS_MS2_RefStd-1_Sorgoleone_1_Rg80to1200-CE205060norm-200uM-S1_Run383.h5</td>\n",
       "      <td>C18</td>\n",
       "      <td>sorgoleone</td>\n",
       "      <td>[M+Na]+</td>\n",
       "      <td>positive</td>\n",
       "      <td>7.544277</td>\n",
       "      <td>381.203627</td>\n",
       "      <td>COC1=CC(=O)C(=C(C1=O)CCCCCCC/C=C\\C/C=C\\CC=C)O</td>\n",
       "      <td>peak1</td>\n",
       "      <td>InChI=1S/C22H30O4/c1-3-4-5-6-7-8-9-10-11-12-13-14-15-16-18-21(24)19(23)17-20(26-2)22(18)25/h3,5-6,8-9,17,24H,1,4,7,10-16H2,2H3/b6-5-,9-8-</td>\n",
       "      <td>...</td>\n",
       "      <td>0</td>\n",
       "      <td>C22H30O4</td>\n",
       "      <td>358.214409</td>\n",
       "      <td>205060norm</td>\n",
       "      <td>sorgoleone</td>\n",
       "      <td>7.044277</td>\n",
       "      <td>8.044277</td>\n",
       "      <td>5</td>\n",
       "      <td>ppm</td>\n",
       "      <td>True</td>\n",
       "    </tr>\n",
       "    <tr>\n",
       "      <th>2</th>\n",
       "      <td>/global/cfs/cdirs/metatlas/raw_data/jgi/20241021_JGI_HS_510060_SorghExu_final1_IQX_C18_USDAY92782/20241021_JGI_HS_510060_SorghExu_final1_IQX_C18_USDAY92782_NEG_MS2_RefStd-1_Sorgoleone_1_Rg80to1200-CE205060norm-200uM-S1_Run385.h5</td>\n",
       "      <td>C18</td>\n",
       "      <td>sorgoleone</td>\n",
       "      <td>[M-H]-</td>\n",
       "      <td>negative</td>\n",
       "      <td>7.547524</td>\n",
       "      <td>357.207133</td>\n",
       "      <td>COC1=CC(=O)C(=C(C1=O)CCCCCCC/C=C\\C/C=C\\CC=C)O</td>\n",
       "      <td>peak1</td>\n",
       "      <td>InChI=1S/C22H30O4/c1-3-4-5-6-7-8-9-10-11-12-13-14-15-16-18-21(24)19(23)17-20(26-2)22(18)25/h3,5-6,8-9,17,24H,1,4,7,10-16H2,2H3/b6-5-,9-8-</td>\n",
       "      <td>...</td>\n",
       "      <td>0</td>\n",
       "      <td>C22H30O4</td>\n",
       "      <td>358.214409</td>\n",
       "      <td>205060norm</td>\n",
       "      <td>sorgoleone</td>\n",
       "      <td>7.047524</td>\n",
       "      <td>8.047524</td>\n",
       "      <td>5</td>\n",
       "      <td>ppm</td>\n",
       "      <td>True</td>\n",
       "    </tr>\n",
       "    <tr>\n",
       "      <th>3</th>\n",
       "      <td>/global/cfs/cdirs/metatlas/raw_data/jgi/20241002_JGI_HS_510060_SorghExu_final1_EXP120B_HILICZ_USHXG02558/20241002_JGI_HS_510060_SorghExu_final1_EXP120B_HILICZ_USHXG02558_POS_MS2_RefStd-1_Sorgoleone_1_Rg70to1050-CE102040norm-200uM-S1_Run375.h5</td>\n",
       "      <td>HILICZ</td>\n",
       "      <td>sorgoleone</td>\n",
       "      <td>[M+H]+</td>\n",
       "      <td>positive</td>\n",
       "      <td>0.801184</td>\n",
       "      <td>359.221685</td>\n",
       "      <td>COC1=CC(=O)C(=C(C1=O)CCCCCCC/C=C\\C/C=C\\CC=C)O</td>\n",
       "      <td>peak1</td>\n",
       "      <td>InChI=1S/C22H30O4/c1-3-4-5-6-7-8-9-10-11-12-13-14-15-16-18-21(24)19(23)17-20(26-2)22(18)25/h3,5-6,8-9,17,24H,1,4,7,10-16H2,2H3/b6-5-,9-8-</td>\n",
       "      <td>...</td>\n",
       "      <td>0</td>\n",
       "      <td>C22H30O4</td>\n",
       "      <td>358.214409</td>\n",
       "      <td>102040norm</td>\n",
       "      <td>sorgoleone</td>\n",
       "      <td>0.301184</td>\n",
       "      <td>1.301184</td>\n",
       "      <td>5</td>\n",
       "      <td>ppm</td>\n",
       "      <td>True</td>\n",
       "    </tr>\n",
       "    <tr>\n",
       "      <th>4</th>\n",
       "      <td>/global/cfs/cdirs/metatlas/raw_data/jgi/20241002_JGI_HS_510060_SorghExu_final1_EXP120B_HILICZ_USHXG02558/20241002_JGI_HS_510060_SorghExu_final1_EXP120B_HILICZ_USHXG02558_NEG_MS2_RefStd-1_Sorgoleone_1_Rg70to1050-CE102040norm-200uM-S1_Run377.h5</td>\n",
       "      <td>HILICZ</td>\n",
       "      <td>sorgoleone</td>\n",
       "      <td>[M-H]-</td>\n",
       "      <td>negative</td>\n",
       "      <td>0.804263</td>\n",
       "      <td>357.207133</td>\n",
       "      <td>COC1=CC(=O)C(=C(C1=O)CCCCCCC/C=C\\C/C=C\\CC=C)O</td>\n",
       "      <td>peak1</td>\n",
       "      <td>InChI=1S/C22H30O4/c1-3-4-5-6-7-8-9-10-11-12-13-14-15-16-18-21(24)19(23)17-20(26-2)22(18)25/h3,5-6,8-9,17,24H,1,4,7,10-16H2,2H3/b6-5-,9-8-</td>\n",
       "      <td>...</td>\n",
       "      <td>0</td>\n",
       "      <td>C22H30O4</td>\n",
       "      <td>358.214409</td>\n",
       "      <td>102040norm</td>\n",
       "      <td>sorgoleone</td>\n",
       "      <td>0.304263</td>\n",
       "      <td>1.304263</td>\n",
       "      <td>5</td>\n",
       "      <td>ppm</td>\n",
       "      <td>True</td>\n",
       "    </tr>\n",
       "  </tbody>\n",
       "</table>\n",
       "<p>5 rows × 23 columns</p>\n",
       "</div>"
      ],
      "text/plain": [
       "                                                                                                                                                                                                                                     standard_lcmsrun  \\\n",
       "0                /global/cfs/cdirs/metatlas/raw_data/jgi/20241021_JGI_HS_510060_SorghExu_final1_IQX_C18_USDAY92782/20241021_JGI_HS_510060_SorghExu_final1_IQX_C18_USDAY92782_POS_MS2_RefStd-1_Sorgoleone_1_Rg80to1200-CE102040norm-200uM-S1_Run382.h5   \n",
       "1                /global/cfs/cdirs/metatlas/raw_data/jgi/20241021_JGI_HS_510060_SorghExu_final1_IQX_C18_USDAY92782/20241021_JGI_HS_510060_SorghExu_final1_IQX_C18_USDAY92782_POS_MS2_RefStd-1_Sorgoleone_1_Rg80to1200-CE205060norm-200uM-S1_Run383.h5   \n",
       "2                /global/cfs/cdirs/metatlas/raw_data/jgi/20241021_JGI_HS_510060_SorghExu_final1_IQX_C18_USDAY92782/20241021_JGI_HS_510060_SorghExu_final1_IQX_C18_USDAY92782_NEG_MS2_RefStd-1_Sorgoleone_1_Rg80to1200-CE205060norm-200uM-S1_Run385.h5   \n",
       "3  /global/cfs/cdirs/metatlas/raw_data/jgi/20241002_JGI_HS_510060_SorghExu_final1_EXP120B_HILICZ_USHXG02558/20241002_JGI_HS_510060_SorghExu_final1_EXP120B_HILICZ_USHXG02558_POS_MS2_RefStd-1_Sorgoleone_1_Rg70to1050-CE102040norm-200uM-S1_Run375.h5   \n",
       "4  /global/cfs/cdirs/metatlas/raw_data/jgi/20241002_JGI_HS_510060_SorghExu_final1_EXP120B_HILICZ_USHXG02558/20241002_JGI_HS_510060_SorghExu_final1_EXP120B_HILICZ_USHXG02558_NEG_MS2_RefStd-1_Sorgoleone_1_Rg70to1050-CE102040norm-200uM-S1_Run377.h5   \n",
       "\n",
       "  chromatography compound_name   adduct  polarity   rt_peak          mz  \\\n",
       "0            C18    sorgoleone   [M+H]+  positive  7.543334  359.221685   \n",
       "1            C18    sorgoleone  [M+Na]+  positive  7.544277  381.203627   \n",
       "2            C18    sorgoleone   [M-H]-  negative  7.547524  357.207133   \n",
       "3         HILICZ    sorgoleone   [M+H]+  positive  0.801184  359.221685   \n",
       "4         HILICZ    sorgoleone   [M-H]-  negative  0.804263  357.207133   \n",
       "\n",
       "                                          smiles peak_index  \\\n",
       "0  COC1=CC(=O)C(=C(C1=O)CCCCCCC/C=C\\C/C=C\\CC=C)O      peak1   \n",
       "1  COC1=CC(=O)C(=C(C1=O)CCCCCCC/C=C\\C/C=C\\CC=C)O      peak1   \n",
       "2  COC1=CC(=O)C(=C(C1=O)CCCCCCC/C=C\\C/C=C\\CC=C)O      peak1   \n",
       "3  COC1=CC(=O)C(=C(C1=O)CCCCCCC/C=C\\C/C=C\\CC=C)O      peak1   \n",
       "4  COC1=CC(=O)C(=C(C1=O)CCCCCCC/C=C\\C/C=C\\CC=C)O      peak1   \n",
       "\n",
       "                                                                                                                                       inchi  \\\n",
       "0  InChI=1S/C22H30O4/c1-3-4-5-6-7-8-9-10-11-12-13-14-15-16-18-21(24)19(23)17-20(26-2)22(18)25/h3,5-6,8-9,17,24H,1,4,7,10-16H2,2H3/b6-5-,9-8-   \n",
       "1  InChI=1S/C22H30O4/c1-3-4-5-6-7-8-9-10-11-12-13-14-15-16-18-21(24)19(23)17-20(26-2)22(18)25/h3,5-6,8-9,17,24H,1,4,7,10-16H2,2H3/b6-5-,9-8-   \n",
       "2  InChI=1S/C22H30O4/c1-3-4-5-6-7-8-9-10-11-12-13-14-15-16-18-21(24)19(23)17-20(26-2)22(18)25/h3,5-6,8-9,17,24H,1,4,7,10-16H2,2H3/b6-5-,9-8-   \n",
       "3  InChI=1S/C22H30O4/c1-3-4-5-6-7-8-9-10-11-12-13-14-15-16-18-21(24)19(23)17-20(26-2)22(18)25/h3,5-6,8-9,17,24H,1,4,7,10-16H2,2H3/b6-5-,9-8-   \n",
       "4  InChI=1S/C22H30O4/c1-3-4-5-6-7-8-9-10-11-12-13-14-15-16-18-21(24)19(23)17-20(26-2)22(18)25/h3,5-6,8-9,17,24H,1,4,7,10-16H2,2H3/b6-5-,9-8-   \n",
       "\n",
       "   ... permanent_charge   formula mono_isotopic_molecular_weight  \\\n",
       "0  ...                0  C22H30O4                     358.214409   \n",
       "1  ...                0  C22H30O4                     358.214409   \n",
       "2  ...                0  C22H30O4                     358.214409   \n",
       "3  ...                0  C22H30O4                     358.214409   \n",
       "4  ...                0  C22H30O4                     358.214409   \n",
       "\n",
       "  collision_energy       label    rt_min    rt_max mz_tolerance  \\\n",
       "0       102040norm  sorgoleone  7.043334  8.043334            5   \n",
       "1       205060norm  sorgoleone  7.044277  8.044277            5   \n",
       "2       205060norm  sorgoleone  7.047524  8.047524            5   \n",
       "3       102040norm  sorgoleone  0.301184  1.301184            5   \n",
       "4       102040norm  sorgoleone  0.304263  1.304263            5   \n",
       "\n",
       "  mz_tolerance_units in_metatlas  \n",
       "0                ppm        True  \n",
       "1                ppm        True  \n",
       "2                ppm        True  \n",
       "3                ppm        True  \n",
       "4                ppm        True  \n",
       "\n",
       "[5 rows x 23 columns]"
      ]
     },
     "metadata": {},
     "output_type": "display_data"
    }
   ],
   "source": [
    "matches_to_atlases, nonmatches_to_atlases = sta.search_for_matches_in_atlases(rt_peaks_filtered_top_adduct_formatted, ema_atlases_data)"
   ]
  },
  {
   "cell_type": "code",
   "execution_count": 18,
   "metadata": {},
   "outputs": [],
   "source": [
    "if new_rt_correction_data is True:\n",
    "\n",
    "    baseline_to_experimental_qc = sta.get_qc_experimental_atlas(nonmatches_to_atlases, current_qc_atlases, include_istds=True)"
   ]
  },
  {
   "cell_type": "code",
   "execution_count": 19,
   "metadata": {},
   "outputs": [
    {
     "name": "stdout",
     "output_type": "stream",
     "text": [
      "Loading most recent pkl file: /global/homes/b/bkieft/metabolomics_standards_annotation/standard_library_annotation/scheller_test_20250429095538_rt_correction_data.pkl\n"
     ]
    }
   ],
   "source": [
    "if new_rt_correction_data is True:\n",
    "    sta.save_rt_correction_data(baseline_to_experimental_qc, standards_info_path, current_time)\n",
    "    \n",
    "elif new_rt_correction_data is False:\n",
    "    baseline_to_experimental_qc = sta.load_rt_correction_data(standards_info_path)"
   ]
  },
  {
   "cell_type": "code",
   "execution_count": 20,
   "metadata": {},
   "outputs": [
    {
     "name": "stdout",
     "output_type": "stream",
     "text": [
      "Backward RT correction data for C18:\n"
     ]
    },
    {
     "data": {
      "text/html": [
       "<div>\n",
       "<style scoped>\n",
       "    .dataframe tbody tr th:only-of-type {\n",
       "        vertical-align: middle;\n",
       "    }\n",
       "\n",
       "    .dataframe tbody tr th {\n",
       "        vertical-align: top;\n",
       "    }\n",
       "\n",
       "    .dataframe thead th {\n",
       "        text-align: right;\n",
       "    }\n",
       "</style>\n",
       "<table border=\"1\" class=\"dataframe\">\n",
       "  <thead>\n",
       "    <tr style=\"text-align: right;\">\n",
       "      <th></th>\n",
       "      <th>label</th>\n",
       "      <th>polarity</th>\n",
       "      <th>rt_peak_baseline</th>\n",
       "      <th>rt_peak_experimental</th>\n",
       "      <th>rt_peak_corrected</th>\n",
       "      <th>rt_min_corrected</th>\n",
       "      <th>rt_max_corrected</th>\n",
       "      <th>rt_diff_experimental_vs_corrected</th>\n",
       "    </tr>\n",
       "  </thead>\n",
       "  <tbody>\n",
       "    <tr>\n",
       "      <th>0</th>\n",
       "      <td>sorgoleone</td>\n",
       "      <td>positive</td>\n",
       "      <td>NaN</td>\n",
       "      <td>7.543334</td>\n",
       "      <td>7.438575</td>\n",
       "      <td>6.938575</td>\n",
       "      <td>7.938575</td>\n",
       "      <td>0.104759</td>\n",
       "    </tr>\n",
       "    <tr>\n",
       "      <th>1</th>\n",
       "      <td>sorgoleone</td>\n",
       "      <td>positive</td>\n",
       "      <td>NaN</td>\n",
       "      <td>7.544277</td>\n",
       "      <td>7.439548</td>\n",
       "      <td>6.939548</td>\n",
       "      <td>7.939548</td>\n",
       "      <td>0.104729</td>\n",
       "    </tr>\n",
       "    <tr>\n",
       "      <th>2</th>\n",
       "      <td>sorgoleone</td>\n",
       "      <td>negative</td>\n",
       "      <td>NaN</td>\n",
       "      <td>7.547524</td>\n",
       "      <td>7.442898</td>\n",
       "      <td>6.942898</td>\n",
       "      <td>7.942898</td>\n",
       "      <td>0.104627</td>\n",
       "    </tr>\n",
       "    <tr>\n",
       "      <th>3</th>\n",
       "      <td>9-cis-retinoic acid</td>\n",
       "      <td>QC</td>\n",
       "      <td>7.372778</td>\n",
       "      <td>7.322109</td>\n",
       "      <td>7.210608</td>\n",
       "      <td>6.710608</td>\n",
       "      <td>7.710608</td>\n",
       "      <td>0.111501</td>\n",
       "    </tr>\n",
       "    <tr>\n",
       "      <th>4</th>\n",
       "      <td>ABMBA (unlabeled)</td>\n",
       "      <td>QC</td>\n",
       "      <td>4.700000</td>\n",
       "      <td>4.892107</td>\n",
       "      <td>4.738610</td>\n",
       "      <td>4.238610</td>\n",
       "      <td>5.238610</td>\n",
       "      <td>0.153496</td>\n",
       "    </tr>\n",
       "    <tr>\n",
       "      <th>5</th>\n",
       "      <td>caffeine</td>\n",
       "      <td>QC</td>\n",
       "      <td>2.652537</td>\n",
       "      <td>2.833037</td>\n",
       "      <td>2.689957</td>\n",
       "      <td>2.189957</td>\n",
       "      <td>3.189957</td>\n",
       "      <td>0.14308</td>\n",
       "    </tr>\n",
       "    <tr>\n",
       "      <th>6</th>\n",
       "      <td>enoxolone</td>\n",
       "      <td>QC</td>\n",
       "      <td>6.605928</td>\n",
       "      <td>6.792058</td>\n",
       "      <td>6.666384</td>\n",
       "      <td>6.166384</td>\n",
       "      <td>7.166384</td>\n",
       "      <td>0.125674</td>\n",
       "    </tr>\n",
       "    <tr>\n",
       "      <th>7</th>\n",
       "      <td>inosine (U - 15N)</td>\n",
       "      <td>QC</td>\n",
       "      <td>1.020000</td>\n",
       "      <td>1.13626</td>\n",
       "      <td>1.033480</td>\n",
       "      <td>0.533480</td>\n",
       "      <td>1.533480</td>\n",
       "      <td>0.10278</td>\n",
       "    </tr>\n",
       "    <tr>\n",
       "      <th>8</th>\n",
       "      <td>nigericin</td>\n",
       "      <td>QC</td>\n",
       "      <td>8.559813</td>\n",
       "      <td>8.749709</td>\n",
       "      <td>8.690287</td>\n",
       "      <td>8.190287</td>\n",
       "      <td>9.190287</td>\n",
       "      <td>0.059422</td>\n",
       "    </tr>\n",
       "    <tr>\n",
       "      <th>9</th>\n",
       "      <td>phenylalanine (U - 13C, 15N)</td>\n",
       "      <td>QC</td>\n",
       "      <td>1.452954</td>\n",
       "      <td>1.481643</td>\n",
       "      <td>1.368337</td>\n",
       "      <td>0.868337</td>\n",
       "      <td>1.868337</td>\n",
       "      <td>0.113306</td>\n",
       "    </tr>\n",
       "    <tr>\n",
       "      <th>10</th>\n",
       "      <td>sarsasapogenin</td>\n",
       "      <td>QC</td>\n",
       "      <td>8.155101</td>\n",
       "      <td>8.157297</td>\n",
       "      <td>8.073801</td>\n",
       "      <td>7.573801</td>\n",
       "      <td>8.573801</td>\n",
       "      <td>0.083496</td>\n",
       "    </tr>\n",
       "    <tr>\n",
       "      <th>11</th>\n",
       "      <td>tryptophan (U - 13C, 15N)</td>\n",
       "      <td>QC</td>\n",
       "      <td>2.200267</td>\n",
       "      <td>2.383098</td>\n",
       "      <td>2.247913</td>\n",
       "      <td>1.747913</td>\n",
       "      <td>2.747913</td>\n",
       "      <td>0.135185</td>\n",
       "    </tr>\n",
       "  </tbody>\n",
       "</table>\n",
       "</div>"
      ],
      "text/plain": [
       "                           label  polarity  rt_peak_baseline  \\\n",
       "0                     sorgoleone  positive               NaN   \n",
       "1                     sorgoleone  positive               NaN   \n",
       "2                     sorgoleone  negative               NaN   \n",
       "3            9-cis-retinoic acid        QC          7.372778   \n",
       "4              ABMBA (unlabeled)        QC          4.700000   \n",
       "5                       caffeine        QC          2.652537   \n",
       "6                      enoxolone        QC          6.605928   \n",
       "7              inosine (U - 15N)        QC          1.020000   \n",
       "8                      nigericin        QC          8.559813   \n",
       "9   phenylalanine (U - 13C, 15N)        QC          1.452954   \n",
       "10                sarsasapogenin        QC          8.155101   \n",
       "11     tryptophan (U - 13C, 15N)        QC          2.200267   \n",
       "\n",
       "   rt_peak_experimental  rt_peak_corrected  rt_min_corrected  \\\n",
       "0              7.543334           7.438575          6.938575   \n",
       "1              7.544277           7.439548          6.939548   \n",
       "2              7.547524           7.442898          6.942898   \n",
       "3              7.322109           7.210608          6.710608   \n",
       "4              4.892107           4.738610          4.238610   \n",
       "5              2.833037           2.689957          2.189957   \n",
       "6              6.792058           6.666384          6.166384   \n",
       "7               1.13626           1.033480          0.533480   \n",
       "8              8.749709           8.690287          8.190287   \n",
       "9              1.481643           1.368337          0.868337   \n",
       "10             8.157297           8.073801          7.573801   \n",
       "11             2.383098           2.247913          1.747913   \n",
       "\n",
       "    rt_max_corrected rt_diff_experimental_vs_corrected  \n",
       "0           7.938575                          0.104759  \n",
       "1           7.939548                          0.104729  \n",
       "2           7.942898                          0.104627  \n",
       "3           7.710608                          0.111501  \n",
       "4           5.238610                          0.153496  \n",
       "5           3.189957                           0.14308  \n",
       "6           7.166384                          0.125674  \n",
       "7           1.533480                           0.10278  \n",
       "8           9.190287                          0.059422  \n",
       "9           1.868337                          0.113306  \n",
       "10          8.573801                          0.083496  \n",
       "11          2.747913                          0.135185  "
      ]
     },
     "metadata": {},
     "output_type": "display_data"
    },
    {
     "name": "stdout",
     "output_type": "stream",
     "text": [
      "Backward RT correction data for HILICZ:\n"
     ]
    },
    {
     "data": {
      "text/html": [
       "<div>\n",
       "<style scoped>\n",
       "    .dataframe tbody tr th:only-of-type {\n",
       "        vertical-align: middle;\n",
       "    }\n",
       "\n",
       "    .dataframe tbody tr th {\n",
       "        vertical-align: top;\n",
       "    }\n",
       "\n",
       "    .dataframe thead th {\n",
       "        text-align: right;\n",
       "    }\n",
       "</style>\n",
       "<table border=\"1\" class=\"dataframe\">\n",
       "  <thead>\n",
       "    <tr style=\"text-align: right;\">\n",
       "      <th></th>\n",
       "      <th>label</th>\n",
       "      <th>polarity</th>\n",
       "      <th>rt_peak_baseline</th>\n",
       "      <th>rt_peak_experimental</th>\n",
       "      <th>rt_peak_corrected</th>\n",
       "      <th>rt_min_corrected</th>\n",
       "      <th>rt_max_corrected</th>\n",
       "      <th>rt_diff_experimental_vs_corrected</th>\n",
       "    </tr>\n",
       "  </thead>\n",
       "  <tbody>\n",
       "    <tr>\n",
       "      <th>0</th>\n",
       "      <td>sorgoleone</td>\n",
       "      <td>positive</td>\n",
       "      <td>NaN</td>\n",
       "      <td>0.801184</td>\n",
       "      <td>0.618179</td>\n",
       "      <td>0.118179</td>\n",
       "      <td>1.118179</td>\n",
       "      <td>0.183005</td>\n",
       "    </tr>\n",
       "    <tr>\n",
       "      <th>1</th>\n",
       "      <td>sorgoleone</td>\n",
       "      <td>negative</td>\n",
       "      <td>NaN</td>\n",
       "      <td>0.804263</td>\n",
       "      <td>0.621525</td>\n",
       "      <td>0.121525</td>\n",
       "      <td>1.121525</td>\n",
       "      <td>0.182738</td>\n",
       "    </tr>\n",
       "    <tr>\n",
       "      <th>2</th>\n",
       "      <td>ABMBA (unlabeled)</td>\n",
       "      <td>QC</td>\n",
       "      <td>1.093806</td>\n",
       "      <td>1.21834</td>\n",
       "      <td>1.070658</td>\n",
       "      <td>0.570658</td>\n",
       "      <td>1.570658</td>\n",
       "      <td>0.147682</td>\n",
       "    </tr>\n",
       "    <tr>\n",
       "      <th>3</th>\n",
       "      <td>N-acetyl-glucosamine (U - 13C)</td>\n",
       "      <td>QC</td>\n",
       "      <td>6.707815</td>\n",
       "      <td>6.418233</td>\n",
       "      <td>6.572290</td>\n",
       "      <td>6.072290</td>\n",
       "      <td>7.072290</td>\n",
       "      <td>-0.154056</td>\n",
       "    </tr>\n",
       "    <tr>\n",
       "      <th>4</th>\n",
       "      <td>adenine (U - 15N)</td>\n",
       "      <td>QC</td>\n",
       "      <td>2.557602</td>\n",
       "      <td>2.834223</td>\n",
       "      <td>2.807783</td>\n",
       "      <td>2.307783</td>\n",
       "      <td>3.307783</td>\n",
       "      <td>0.02644</td>\n",
       "    </tr>\n",
       "    <tr>\n",
       "      <th>5</th>\n",
       "      <td>alanine (U - 13C, 15N)</td>\n",
       "      <td>QC</td>\n",
       "      <td>13.405091</td>\n",
       "      <td>13.240681</td>\n",
       "      <td>13.401497</td>\n",
       "      <td>12.901497</td>\n",
       "      <td>13.901497</td>\n",
       "      <td>-0.160816</td>\n",
       "    </tr>\n",
       "    <tr>\n",
       "      <th>6</th>\n",
       "      <td>arginine (U - 13C, 15N)</td>\n",
       "      <td>QC</td>\n",
       "      <td>16.939915</td>\n",
       "      <td>17.013107</td>\n",
       "      <td>16.988042</td>\n",
       "      <td>16.488042</td>\n",
       "      <td>17.488042</td>\n",
       "      <td>0.025065</td>\n",
       "    </tr>\n",
       "    <tr>\n",
       "      <th>7</th>\n",
       "      <td>asparagine (U - 13C, 15N)</td>\n",
       "      <td>QC</td>\n",
       "      <td>14.368089</td>\n",
       "      <td>14.252848</td>\n",
       "      <td>14.377046</td>\n",
       "      <td>13.877046</td>\n",
       "      <td>14.877046</td>\n",
       "      <td>-0.124198</td>\n",
       "    </tr>\n",
       "    <tr>\n",
       "      <th>8</th>\n",
       "      <td>aspartic acid (U - 13C, 15N)</td>\n",
       "      <td>QC</td>\n",
       "      <td>16.130360</td>\n",
       "      <td>16.043652</td>\n",
       "      <td>16.079247</td>\n",
       "      <td>15.579247</td>\n",
       "      <td>16.579247</td>\n",
       "      <td>-0.035595</td>\n",
       "    </tr>\n",
       "    <tr>\n",
       "      <th>9</th>\n",
       "      <td>cystine (U - 13C, 15N)</td>\n",
       "      <td>QC</td>\n",
       "      <td>16.904308</td>\n",
       "      <td>16.930342</td>\n",
       "      <td>16.910804</td>\n",
       "      <td>16.410804</td>\n",
       "      <td>17.410804</td>\n",
       "      <td>0.019538</td>\n",
       "    </tr>\n",
       "    <tr>\n",
       "      <th>10</th>\n",
       "      <td>glutamic acid (U - 13C, 15N)</td>\n",
       "      <td>QC</td>\n",
       "      <td>15.935390</td>\n",
       "      <td>15.834127</td>\n",
       "      <td>15.881661</td>\n",
       "      <td>15.381661</td>\n",
       "      <td>16.381661</td>\n",
       "      <td>-0.047534</td>\n",
       "    </tr>\n",
       "    <tr>\n",
       "      <th>11</th>\n",
       "      <td>guanine (U - 15N)</td>\n",
       "      <td>QC</td>\n",
       "      <td>6.265360</td>\n",
       "      <td>6.133224</td>\n",
       "      <td>6.277387</td>\n",
       "      <td>5.777387</td>\n",
       "      <td>6.777387</td>\n",
       "      <td>-0.144163</td>\n",
       "    </tr>\n",
       "    <tr>\n",
       "      <th>12</th>\n",
       "      <td>hypoxanthine (U - 15N)</td>\n",
       "      <td>QC</td>\n",
       "      <td>3.102967</td>\n",
       "      <td>3.127001</td>\n",
       "      <td>3.119877</td>\n",
       "      <td>2.619877</td>\n",
       "      <td>3.619877</td>\n",
       "      <td>0.007124</td>\n",
       "    </tr>\n",
       "    <tr>\n",
       "      <th>13</th>\n",
       "      <td>inosine (U - 15N)</td>\n",
       "      <td>QC</td>\n",
       "      <td>5.434236</td>\n",
       "      <td>5.173415</td>\n",
       "      <td>5.278594</td>\n",
       "      <td>4.778594</td>\n",
       "      <td>5.778594</td>\n",
       "      <td>-0.10518</td>\n",
       "    </tr>\n",
       "    <tr>\n",
       "      <th>14</th>\n",
       "      <td>lysine (U - 13C, 15N)</td>\n",
       "      <td>QC</td>\n",
       "      <td>17.011310</td>\n",
       "      <td>17.090218</td>\n",
       "      <td>17.059945</td>\n",
       "      <td>16.559945</td>\n",
       "      <td>17.559945</td>\n",
       "      <td>0.030273</td>\n",
       "    </tr>\n",
       "    <tr>\n",
       "      <th>15</th>\n",
       "      <td>methionine (U - 13C, 15N)</td>\n",
       "      <td>QC</td>\n",
       "      <td>10.440955</td>\n",
       "      <td>10.258733</td>\n",
       "      <td>10.470926</td>\n",
       "      <td>9.970926</td>\n",
       "      <td>10.970926</td>\n",
       "      <td>-0.212193</td>\n",
       "    </tr>\n",
       "    <tr>\n",
       "      <th>16</th>\n",
       "      <td>phenylalanine (U - 13C, 15N)</td>\n",
       "      <td>QC</td>\n",
       "      <td>8.979306</td>\n",
       "      <td>8.996424</td>\n",
       "      <td>9.204948</td>\n",
       "      <td>8.704948</td>\n",
       "      <td>9.704948</td>\n",
       "      <td>-0.208525</td>\n",
       "    </tr>\n",
       "    <tr>\n",
       "      <th>17</th>\n",
       "      <td>threonine (U - 13C, 15N)</td>\n",
       "      <td>QC</td>\n",
       "      <td>13.489572</td>\n",
       "      <td>13.292386</td>\n",
       "      <td>13.451567</td>\n",
       "      <td>12.951567</td>\n",
       "      <td>13.951567</td>\n",
       "      <td>-0.159181</td>\n",
       "    </tr>\n",
       "    <tr>\n",
       "      <th>18</th>\n",
       "      <td>thymine (U - 13C, 15N)</td>\n",
       "      <td>QC</td>\n",
       "      <td>1.255231</td>\n",
       "      <td>1.293718</td>\n",
       "      <td>1.152243</td>\n",
       "      <td>0.652243</td>\n",
       "      <td>1.652243</td>\n",
       "      <td>0.141475</td>\n",
       "    </tr>\n",
       "    <tr>\n",
       "      <th>19</th>\n",
       "      <td>tryptophan (U - 13C, 15N)</td>\n",
       "      <td>QC</td>\n",
       "      <td>10.156649</td>\n",
       "      <td>9.98646</td>\n",
       "      <td>10.199141</td>\n",
       "      <td>9.699141</td>\n",
       "      <td>10.699141</td>\n",
       "      <td>-0.212681</td>\n",
       "    </tr>\n",
       "    <tr>\n",
       "      <th>20</th>\n",
       "      <td>tyrosine (U - 13C, 15N)</td>\n",
       "      <td>QC</td>\n",
       "      <td>11.855156</td>\n",
       "      <td>11.571081</td>\n",
       "      <td>11.771059</td>\n",
       "      <td>11.271059</td>\n",
       "      <td>12.271059</td>\n",
       "      <td>-0.199978</td>\n",
       "    </tr>\n",
       "    <tr>\n",
       "      <th>21</th>\n",
       "      <td>valine (U - 13C, 15N)</td>\n",
       "      <td>QC</td>\n",
       "      <td>11.116009</td>\n",
       "      <td>10.86584</td>\n",
       "      <td>11.074413</td>\n",
       "      <td>10.574413</td>\n",
       "      <td>11.574413</td>\n",
       "      <td>-0.208574</td>\n",
       "    </tr>\n",
       "  </tbody>\n",
       "</table>\n",
       "</div>"
      ],
      "text/plain": [
       "                             label  polarity  rt_peak_baseline  \\\n",
       "0                       sorgoleone  positive               NaN   \n",
       "1                       sorgoleone  negative               NaN   \n",
       "2                ABMBA (unlabeled)        QC          1.093806   \n",
       "3   N-acetyl-glucosamine (U - 13C)        QC          6.707815   \n",
       "4                adenine (U - 15N)        QC          2.557602   \n",
       "5           alanine (U - 13C, 15N)        QC         13.405091   \n",
       "6          arginine (U - 13C, 15N)        QC         16.939915   \n",
       "7        asparagine (U - 13C, 15N)        QC         14.368089   \n",
       "8     aspartic acid (U - 13C, 15N)        QC         16.130360   \n",
       "9           cystine (U - 13C, 15N)        QC         16.904308   \n",
       "10    glutamic acid (U - 13C, 15N)        QC         15.935390   \n",
       "11               guanine (U - 15N)        QC          6.265360   \n",
       "12          hypoxanthine (U - 15N)        QC          3.102967   \n",
       "13               inosine (U - 15N)        QC          5.434236   \n",
       "14           lysine (U - 13C, 15N)        QC         17.011310   \n",
       "15       methionine (U - 13C, 15N)        QC         10.440955   \n",
       "16    phenylalanine (U - 13C, 15N)        QC          8.979306   \n",
       "17        threonine (U - 13C, 15N)        QC         13.489572   \n",
       "18          thymine (U - 13C, 15N)        QC          1.255231   \n",
       "19       tryptophan (U - 13C, 15N)        QC         10.156649   \n",
       "20         tyrosine (U - 13C, 15N)        QC         11.855156   \n",
       "21           valine (U - 13C, 15N)        QC         11.116009   \n",
       "\n",
       "   rt_peak_experimental  rt_peak_corrected  rt_min_corrected  \\\n",
       "0              0.801184           0.618179          0.118179   \n",
       "1              0.804263           0.621525          0.121525   \n",
       "2               1.21834           1.070658          0.570658   \n",
       "3              6.418233           6.572290          6.072290   \n",
       "4              2.834223           2.807783          2.307783   \n",
       "5             13.240681          13.401497         12.901497   \n",
       "6             17.013107          16.988042         16.488042   \n",
       "7             14.252848          14.377046         13.877046   \n",
       "8             16.043652          16.079247         15.579247   \n",
       "9             16.930342          16.910804         16.410804   \n",
       "10            15.834127          15.881661         15.381661   \n",
       "11             6.133224           6.277387          5.777387   \n",
       "12             3.127001           3.119877          2.619877   \n",
       "13             5.173415           5.278594          4.778594   \n",
       "14            17.090218          17.059945         16.559945   \n",
       "15            10.258733          10.470926          9.970926   \n",
       "16             8.996424           9.204948          8.704948   \n",
       "17            13.292386          13.451567         12.951567   \n",
       "18             1.293718           1.152243          0.652243   \n",
       "19              9.98646          10.199141          9.699141   \n",
       "20            11.571081          11.771059         11.271059   \n",
       "21             10.86584          11.074413         10.574413   \n",
       "\n",
       "    rt_max_corrected rt_diff_experimental_vs_corrected  \n",
       "0           1.118179                          0.183005  \n",
       "1           1.121525                          0.182738  \n",
       "2           1.570658                          0.147682  \n",
       "3           7.072290                         -0.154056  \n",
       "4           3.307783                           0.02644  \n",
       "5          13.901497                         -0.160816  \n",
       "6          17.488042                          0.025065  \n",
       "7          14.877046                         -0.124198  \n",
       "8          16.579247                         -0.035595  \n",
       "9          17.410804                          0.019538  \n",
       "10         16.381661                         -0.047534  \n",
       "11          6.777387                         -0.144163  \n",
       "12          3.619877                          0.007124  \n",
       "13          5.778594                          -0.10518  \n",
       "14         17.559945                          0.030273  \n",
       "15         10.970926                         -0.212193  \n",
       "16          9.704948                         -0.208525  \n",
       "17         13.951567                         -0.159181  \n",
       "18          1.652243                          0.141475  \n",
       "19         10.699141                         -0.212681  \n",
       "20         12.271059                         -0.199978  \n",
       "21         11.574413                         -0.208574  "
      ]
     },
     "metadata": {},
     "output_type": "display_data"
    }
   ],
   "source": [
    "baseline_correction_inputs = sta.create_baseline_correction_input(nonmatches_to_atlases, baseline_to_experimental_qc)\n",
    "baseline_correction_outputs = sta.rt_correction_from_baseline(baseline_correction_inputs, include_chromatographies)"
   ]
  },
  {
   "cell_type": "code",
   "execution_count": 21,
   "metadata": {},
   "outputs": [
    {
     "name": "stdout",
     "output_type": "stream",
     "text": [
      "Formatted 7 RT-corrected compounds to be inserted into atlases.\n"
     ]
    }
   ],
   "source": [
    "nonmatches_to_atlases_rt_corrected = sta.substitute_corrected_rt_values(nonmatches_to_atlases, baseline_correction_outputs)\n",
    "print(f\"Formatted {nonmatches_to_atlases_rt_corrected.shape[0]} RT-corrected compounds to be inserted into atlases.\")"
   ]
  },
  {
   "cell_type": "markdown",
   "metadata": {},
   "source": [
    "# Store selected compound/adduct in metatlas atlases"
   ]
  },
  {
   "cell_type": "code",
   "execution_count": 22,
   "metadata": {},
   "outputs": [
    {
     "name": "stdout",
     "output_type": "stream",
     "text": [
      "For HILIC_EMA-standards_positive.tsv, new atlas has 374 rows and old atlas has 373 rows.\n",
      "For HILIC_EMA-standards_negative.tsv, new atlas has 419 rows and old atlas has 418 rows.\n",
      "For C18_EMA-standards_positive.tsv, new atlas has 3796 rows and old atlas has 3792 rows.\n",
      "For C18_EMA-standards_negative.tsv, new atlas has 2698 rows and old atlas has 2697 rows.\n"
     ]
    }
   ],
   "source": [
    "sta.update_and_save_atlases(ema_atlases_data, nonmatches_to_atlases_rt_corrected, current_time, path_to_standards_file, save_atlas=True)"
   ]
  },
  {
   "cell_type": "markdown",
   "metadata": {},
   "source": [
    "# Check if selected compounds/adducts are in MSMS refs"
   ]
  },
  {
   "cell_type": "code",
   "execution_count": 23,
   "metadata": {},
   "outputs": [
    {
     "data": {
      "text/plain": [
       "(216409, 17)"
      ]
     },
     "execution_count": 23,
     "metadata": {},
     "output_type": "execute_result"
    }
   ],
   "source": [
    "msms_refs = sta.get_msms_refs(msms_refs_path=current_msms_refs_path)\n",
    "msms_refs.shape"
   ]
  },
  {
   "cell_type": "code",
   "execution_count": 35,
   "metadata": {},
   "outputs": [
    {
     "data": {
      "text/plain": [
       "Index(['database', 'id', 'name', 'spectrum', 'decimal', 'precursor_mz',\n",
       "       'polarity', 'adduct', 'fragmentation_method', 'collision_energy',\n",
       "       'instrument', 'instrument_type', 'formula', 'exact_mass', 'inchi_key',\n",
       "       'inchi', 'smiles'],\n",
       "      dtype='object')"
      ]
     },
     "execution_count": 35,
     "metadata": {},
     "output_type": "execute_result"
    }
   ],
   "source": [
    "msms_refs.columns"
   ]
  },
  {
   "cell_type": "code",
   "execution_count": 37,
   "metadata": {},
   "outputs": [
    {
     "data": {
      "text/plain": [
       "decimal\n",
       "4.0    118440\n",
       "1.0     40081\n",
       "2.0     32571\n",
       "3.0     16835\n",
       "0.0      6408\n",
       "6.0      2064\n",
       "5.0        10\n",
       "Name: count, dtype: int64"
      ]
     },
     "metadata": {},
     "output_type": "display_data"
    }
   ],
   "source": [
    "display(msms_refs['decimal'].value_counts())"
   ]
  },
  {
   "cell_type": "code",
   "execution_count": 45,
   "metadata": {},
   "outputs": [
    {
     "data": {
      "text/plain": [
       "collision_energy\n",
       "Ramp 19.8-29.6 eV    1\n",
       "Ramp 22.0-33.0 eV    1\n",
       "Ramp 26.8-40.2 eV    1\n",
       "Ramp 20.3-30.5 eV    1\n",
       "RAMP 15.6-23.4 eV    1\n",
       "289                  1\n",
       "Ramp 28.5-42.8 eV    1\n",
       "28 eV                1\n",
       "Ramp 20.8-31.3 eV    1\n",
       "RAMP 20.9-31.4 eV    1\n",
       "Name: count, dtype: int64"
      ]
     },
     "metadata": {},
     "output_type": "display_data"
    }
   ],
   "source": [
    "display(msms_refs['collision_energy'].value_counts().tail(10))"
   ]
  },
  {
   "cell_type": "code",
   "execution_count": 49,
   "metadata": {},
   "outputs": [
    {
     "data": {
      "text/plain": [
       "array([nan, 'ramp-102040', 'ramp-205060', 'absolute-102040',\n",
       "       'absolute-205060', 'normalized-102040', 'normalized-205060'],\n",
       "      dtype=object)"
      ]
     },
     "execution_count": 49,
     "metadata": {},
     "output_type": "execute_result"
    }
   ],
   "source": [
    "msms_refs[msms_refs['database'] == 'metatlas']['collision_energy'].unique()"
   ]
  },
  {
   "cell_type": "code",
   "execution_count": null,
   "metadata": {},
   "outputs": [],
   "source": []
  },
  {
   "cell_type": "code",
   "execution_count": 50,
   "metadata": {},
   "outputs": [
    {
     "data": {
      "text/plain": [
       "'102040norm'"
      ]
     },
     "execution_count": 50,
     "metadata": {},
     "output_type": "execute_result"
    }
   ],
   "source": [
    "sta.get_collision_energy('/global/cfs/cdirs/metatlas/raw_data/jgi/20241021_JGI_HS_510060_SorghExu_final1_IQX_C18_USDAY92782/20241021_JGI_HS_510060_SorghExu_final1_IQX_C18_USDAY92782_POS_MS2_RefStd-1_Sorgoleone_1_Rg80to1200-CE102040norm-200uM-S1_Run382.h5')"
   ]
  },
  {
   "cell_type": "code",
   "execution_count": 38,
   "metadata": {},
   "outputs": [
    {
     "data": {
      "text/html": [
       "<div>\n",
       "<style scoped>\n",
       "    .dataframe tbody tr th:only-of-type {\n",
       "        vertical-align: middle;\n",
       "    }\n",
       "\n",
       "    .dataframe tbody tr th {\n",
       "        vertical-align: top;\n",
       "    }\n",
       "\n",
       "    .dataframe thead th {\n",
       "        text-align: right;\n",
       "    }\n",
       "</style>\n",
       "<table border=\"1\" class=\"dataframe\">\n",
       "  <thead>\n",
       "    <tr style=\"text-align: right;\">\n",
       "      <th></th>\n",
       "      <th>standard_lcmsrun</th>\n",
       "      <th>chromatography</th>\n",
       "      <th>compound_name</th>\n",
       "      <th>adduct</th>\n",
       "      <th>polarity</th>\n",
       "      <th>rt_peak</th>\n",
       "      <th>mz</th>\n",
       "      <th>smiles</th>\n",
       "      <th>peak_index</th>\n",
       "      <th>inchi</th>\n",
       "      <th>...</th>\n",
       "      <th>permanent_charge</th>\n",
       "      <th>formula</th>\n",
       "      <th>mono_isotopic_molecular_weight</th>\n",
       "      <th>collision_energy</th>\n",
       "      <th>label</th>\n",
       "      <th>rt_min</th>\n",
       "      <th>rt_max</th>\n",
       "      <th>mz_tolerance</th>\n",
       "      <th>mz_tolerance_units</th>\n",
       "      <th>in_metatlas</th>\n",
       "    </tr>\n",
       "  </thead>\n",
       "  <tbody>\n",
       "    <tr>\n",
       "      <th>0</th>\n",
       "      <td>/global/cfs/cdirs/metatlas/raw_data/jgi/20241021_JGI_HS_510060_SorghExu_final1_IQX_C18_USDAY92782/20241021_JGI_HS_510060_SorghExu_final1_IQX_C18_USDAY92782_POS_MS2_RefStd-1_Sorgoleone_1_Rg80to1200-CE102040norm-200uM-S1_Run382.h5</td>\n",
       "      <td>C18</td>\n",
       "      <td>sorgoleone</td>\n",
       "      <td>[M+H]+</td>\n",
       "      <td>positive</td>\n",
       "      <td>7.543334</td>\n",
       "      <td>359.221685</td>\n",
       "      <td>COC1=CC(=O)C(=C(C1=O)CCCCCCC/C=C\\C/C=C\\CC=C)O</td>\n",
       "      <td>peak1</td>\n",
       "      <td>InChI=1S/C22H30O4/c1-3-4-5-6-7-8-9-10-11-12-13-14-15-16-18-21(24)19(23)17-20(26-2)22(18)25/h3,5-6,8-9,17,24H,1,4,7,10-16H2,2H3/b6-5-,9-8-</td>\n",
       "      <td>...</td>\n",
       "      <td>0</td>\n",
       "      <td>C22H30O4</td>\n",
       "      <td>358.214409</td>\n",
       "      <td>102040norm</td>\n",
       "      <td>sorgoleone</td>\n",
       "      <td>7.043334</td>\n",
       "      <td>8.043334</td>\n",
       "      <td>5</td>\n",
       "      <td>ppm</td>\n",
       "      <td>True</td>\n",
       "    </tr>\n",
       "    <tr>\n",
       "      <th>1</th>\n",
       "      <td>/global/cfs/cdirs/metatlas/raw_data/jgi/20241021_JGI_HS_510060_SorghExu_final1_IQX_C18_USDAY92782/20241021_JGI_HS_510060_SorghExu_final1_IQX_C18_USDAY92782_POS_MS2_RefStd-1_Sorgoleone_1_Rg80to1200-CE205060norm-200uM-S1_Run383.h5</td>\n",
       "      <td>C18</td>\n",
       "      <td>sorgoleone</td>\n",
       "      <td>[M+Na]+</td>\n",
       "      <td>positive</td>\n",
       "      <td>7.544277</td>\n",
       "      <td>381.203627</td>\n",
       "      <td>COC1=CC(=O)C(=C(C1=O)CCCCCCC/C=C\\C/C=C\\CC=C)O</td>\n",
       "      <td>peak1</td>\n",
       "      <td>InChI=1S/C22H30O4/c1-3-4-5-6-7-8-9-10-11-12-13-14-15-16-18-21(24)19(23)17-20(26-2)22(18)25/h3,5-6,8-9,17,24H,1,4,7,10-16H2,2H3/b6-5-,9-8-</td>\n",
       "      <td>...</td>\n",
       "      <td>0</td>\n",
       "      <td>C22H30O4</td>\n",
       "      <td>358.214409</td>\n",
       "      <td>205060norm</td>\n",
       "      <td>sorgoleone</td>\n",
       "      <td>7.044277</td>\n",
       "      <td>8.044277</td>\n",
       "      <td>5</td>\n",
       "      <td>ppm</td>\n",
       "      <td>True</td>\n",
       "    </tr>\n",
       "    <tr>\n",
       "      <th>2</th>\n",
       "      <td>/global/cfs/cdirs/metatlas/raw_data/jgi/20241021_JGI_HS_510060_SorghExu_final1_IQX_C18_USDAY92782/20241021_JGI_HS_510060_SorghExu_final1_IQX_C18_USDAY92782_NEG_MS2_RefStd-1_Sorgoleone_1_Rg80to1200-CE205060norm-200uM-S1_Run385.h5</td>\n",
       "      <td>C18</td>\n",
       "      <td>sorgoleone</td>\n",
       "      <td>[M-H]-</td>\n",
       "      <td>negative</td>\n",
       "      <td>7.547524</td>\n",
       "      <td>357.207133</td>\n",
       "      <td>COC1=CC(=O)C(=C(C1=O)CCCCCCC/C=C\\C/C=C\\CC=C)O</td>\n",
       "      <td>peak1</td>\n",
       "      <td>InChI=1S/C22H30O4/c1-3-4-5-6-7-8-9-10-11-12-13-14-15-16-18-21(24)19(23)17-20(26-2)22(18)25/h3,5-6,8-9,17,24H,1,4,7,10-16H2,2H3/b6-5-,9-8-</td>\n",
       "      <td>...</td>\n",
       "      <td>0</td>\n",
       "      <td>C22H30O4</td>\n",
       "      <td>358.214409</td>\n",
       "      <td>205060norm</td>\n",
       "      <td>sorgoleone</td>\n",
       "      <td>7.047524</td>\n",
       "      <td>8.047524</td>\n",
       "      <td>5</td>\n",
       "      <td>ppm</td>\n",
       "      <td>True</td>\n",
       "    </tr>\n",
       "    <tr>\n",
       "      <th>3</th>\n",
       "      <td>/global/cfs/cdirs/metatlas/raw_data/jgi/20241002_JGI_HS_510060_SorghExu_final1_EXP120B_HILICZ_USHXG02558/20241002_JGI_HS_510060_SorghExu_final1_EXP120B_HILICZ_USHXG02558_POS_MS2_RefStd-1_Sorgoleone_1_Rg70to1050-CE102040norm-200uM-S1_Run375.h5</td>\n",
       "      <td>HILICZ</td>\n",
       "      <td>sorgoleone</td>\n",
       "      <td>[M+H]+</td>\n",
       "      <td>positive</td>\n",
       "      <td>0.801184</td>\n",
       "      <td>359.221685</td>\n",
       "      <td>COC1=CC(=O)C(=C(C1=O)CCCCCCC/C=C\\C/C=C\\CC=C)O</td>\n",
       "      <td>peak1</td>\n",
       "      <td>InChI=1S/C22H30O4/c1-3-4-5-6-7-8-9-10-11-12-13-14-15-16-18-21(24)19(23)17-20(26-2)22(18)25/h3,5-6,8-9,17,24H,1,4,7,10-16H2,2H3/b6-5-,9-8-</td>\n",
       "      <td>...</td>\n",
       "      <td>0</td>\n",
       "      <td>C22H30O4</td>\n",
       "      <td>358.214409</td>\n",
       "      <td>102040norm</td>\n",
       "      <td>sorgoleone</td>\n",
       "      <td>0.301184</td>\n",
       "      <td>1.301184</td>\n",
       "      <td>5</td>\n",
       "      <td>ppm</td>\n",
       "      <td>True</td>\n",
       "    </tr>\n",
       "    <tr>\n",
       "      <th>4</th>\n",
       "      <td>/global/cfs/cdirs/metatlas/raw_data/jgi/20241002_JGI_HS_510060_SorghExu_final1_EXP120B_HILICZ_USHXG02558/20241002_JGI_HS_510060_SorghExu_final1_EXP120B_HILICZ_USHXG02558_NEG_MS2_RefStd-1_Sorgoleone_1_Rg70to1050-CE102040norm-200uM-S1_Run377.h5</td>\n",
       "      <td>HILICZ</td>\n",
       "      <td>sorgoleone</td>\n",
       "      <td>[M-H]-</td>\n",
       "      <td>negative</td>\n",
       "      <td>0.804263</td>\n",
       "      <td>357.207133</td>\n",
       "      <td>COC1=CC(=O)C(=C(C1=O)CCCCCCC/C=C\\C/C=C\\CC=C)O</td>\n",
       "      <td>peak1</td>\n",
       "      <td>InChI=1S/C22H30O4/c1-3-4-5-6-7-8-9-10-11-12-13-14-15-16-18-21(24)19(23)17-20(26-2)22(18)25/h3,5-6,8-9,17,24H,1,4,7,10-16H2,2H3/b6-5-,9-8-</td>\n",
       "      <td>...</td>\n",
       "      <td>0</td>\n",
       "      <td>C22H30O4</td>\n",
       "      <td>358.214409</td>\n",
       "      <td>102040norm</td>\n",
       "      <td>sorgoleone</td>\n",
       "      <td>0.304263</td>\n",
       "      <td>1.304263</td>\n",
       "      <td>5</td>\n",
       "      <td>ppm</td>\n",
       "      <td>True</td>\n",
       "    </tr>\n",
       "  </tbody>\n",
       "</table>\n",
       "<p>5 rows × 23 columns</p>\n",
       "</div>"
      ],
      "text/plain": [
       "                                                                                                                                                                                                                                     standard_lcmsrun  \\\n",
       "0                /global/cfs/cdirs/metatlas/raw_data/jgi/20241021_JGI_HS_510060_SorghExu_final1_IQX_C18_USDAY92782/20241021_JGI_HS_510060_SorghExu_final1_IQX_C18_USDAY92782_POS_MS2_RefStd-1_Sorgoleone_1_Rg80to1200-CE102040norm-200uM-S1_Run382.h5   \n",
       "1                /global/cfs/cdirs/metatlas/raw_data/jgi/20241021_JGI_HS_510060_SorghExu_final1_IQX_C18_USDAY92782/20241021_JGI_HS_510060_SorghExu_final1_IQX_C18_USDAY92782_POS_MS2_RefStd-1_Sorgoleone_1_Rg80to1200-CE205060norm-200uM-S1_Run383.h5   \n",
       "2                /global/cfs/cdirs/metatlas/raw_data/jgi/20241021_JGI_HS_510060_SorghExu_final1_IQX_C18_USDAY92782/20241021_JGI_HS_510060_SorghExu_final1_IQX_C18_USDAY92782_NEG_MS2_RefStd-1_Sorgoleone_1_Rg80to1200-CE205060norm-200uM-S1_Run385.h5   \n",
       "3  /global/cfs/cdirs/metatlas/raw_data/jgi/20241002_JGI_HS_510060_SorghExu_final1_EXP120B_HILICZ_USHXG02558/20241002_JGI_HS_510060_SorghExu_final1_EXP120B_HILICZ_USHXG02558_POS_MS2_RefStd-1_Sorgoleone_1_Rg70to1050-CE102040norm-200uM-S1_Run375.h5   \n",
       "4  /global/cfs/cdirs/metatlas/raw_data/jgi/20241002_JGI_HS_510060_SorghExu_final1_EXP120B_HILICZ_USHXG02558/20241002_JGI_HS_510060_SorghExu_final1_EXP120B_HILICZ_USHXG02558_NEG_MS2_RefStd-1_Sorgoleone_1_Rg70to1050-CE102040norm-200uM-S1_Run377.h5   \n",
       "\n",
       "  chromatography compound_name   adduct  polarity   rt_peak          mz  \\\n",
       "0            C18    sorgoleone   [M+H]+  positive  7.543334  359.221685   \n",
       "1            C18    sorgoleone  [M+Na]+  positive  7.544277  381.203627   \n",
       "2            C18    sorgoleone   [M-H]-  negative  7.547524  357.207133   \n",
       "3         HILICZ    sorgoleone   [M+H]+  positive  0.801184  359.221685   \n",
       "4         HILICZ    sorgoleone   [M-H]-  negative  0.804263  357.207133   \n",
       "\n",
       "                                          smiles peak_index  \\\n",
       "0  COC1=CC(=O)C(=C(C1=O)CCCCCCC/C=C\\C/C=C\\CC=C)O      peak1   \n",
       "1  COC1=CC(=O)C(=C(C1=O)CCCCCCC/C=C\\C/C=C\\CC=C)O      peak1   \n",
       "2  COC1=CC(=O)C(=C(C1=O)CCCCCCC/C=C\\C/C=C\\CC=C)O      peak1   \n",
       "3  COC1=CC(=O)C(=C(C1=O)CCCCCCC/C=C\\C/C=C\\CC=C)O      peak1   \n",
       "4  COC1=CC(=O)C(=C(C1=O)CCCCCCC/C=C\\C/C=C\\CC=C)O      peak1   \n",
       "\n",
       "                                                                                                                                       inchi  \\\n",
       "0  InChI=1S/C22H30O4/c1-3-4-5-6-7-8-9-10-11-12-13-14-15-16-18-21(24)19(23)17-20(26-2)22(18)25/h3,5-6,8-9,17,24H,1,4,7,10-16H2,2H3/b6-5-,9-8-   \n",
       "1  InChI=1S/C22H30O4/c1-3-4-5-6-7-8-9-10-11-12-13-14-15-16-18-21(24)19(23)17-20(26-2)22(18)25/h3,5-6,8-9,17,24H,1,4,7,10-16H2,2H3/b6-5-,9-8-   \n",
       "2  InChI=1S/C22H30O4/c1-3-4-5-6-7-8-9-10-11-12-13-14-15-16-18-21(24)19(23)17-20(26-2)22(18)25/h3,5-6,8-9,17,24H,1,4,7,10-16H2,2H3/b6-5-,9-8-   \n",
       "3  InChI=1S/C22H30O4/c1-3-4-5-6-7-8-9-10-11-12-13-14-15-16-18-21(24)19(23)17-20(26-2)22(18)25/h3,5-6,8-9,17,24H,1,4,7,10-16H2,2H3/b6-5-,9-8-   \n",
       "4  InChI=1S/C22H30O4/c1-3-4-5-6-7-8-9-10-11-12-13-14-15-16-18-21(24)19(23)17-20(26-2)22(18)25/h3,5-6,8-9,17,24H,1,4,7,10-16H2,2H3/b6-5-,9-8-   \n",
       "\n",
       "   ... permanent_charge   formula mono_isotopic_molecular_weight  \\\n",
       "0  ...                0  C22H30O4                     358.214409   \n",
       "1  ...                0  C22H30O4                     358.214409   \n",
       "2  ...                0  C22H30O4                     358.214409   \n",
       "3  ...                0  C22H30O4                     358.214409   \n",
       "4  ...                0  C22H30O4                     358.214409   \n",
       "\n",
       "   collision_energy       label    rt_min    rt_max mz_tolerance  \\\n",
       "0        102040norm  sorgoleone  7.043334  8.043334            5   \n",
       "1        205060norm  sorgoleone  7.044277  8.044277            5   \n",
       "2        205060norm  sorgoleone  7.047524  8.047524            5   \n",
       "3        102040norm  sorgoleone  0.301184  1.301184            5   \n",
       "4        102040norm  sorgoleone  0.304263  1.304263            5   \n",
       "\n",
       "   mz_tolerance_units  in_metatlas  \n",
       "0                 ppm         True  \n",
       "1                 ppm         True  \n",
       "2                 ppm         True  \n",
       "3                 ppm         True  \n",
       "4                 ppm         True  \n",
       "\n",
       "[5 rows x 23 columns]"
      ]
     },
     "execution_count": 38,
     "metadata": {},
     "output_type": "execute_result"
    }
   ],
   "source": [
    "rt_peaks_filtered_top_adduct_formatted.head()"
   ]
  },
  {
   "cell_type": "code",
   "execution_count": null,
   "metadata": {},
   "outputs": [],
   "source": [
    "in_msms_refs, notin_msms_refs = sta.search_for_matches_in_msms_refs(rt_peaks_filtered_top_adduct_formatted, msms_refs, check_by_flat=True)"
   ]
  },
  {
   "cell_type": "code",
   "execution_count": null,
   "metadata": {},
   "outputs": [],
   "source": [
    "rt_peaks_filtered_with_top_spectra = sta.merge_selected_peaks_with_top_spectra(notin_msms_refs, top_spectra_filtered)"
   ]
  },
  {
   "cell_type": "code",
   "execution_count": null,
   "metadata": {},
   "outputs": [],
   "source": [
    "msms_refs_metadata = {\n",
    "    \"ce_type\": 'ramp',\n",
    "    \"msms_refs_prefix\": msms_refs_prefix,\n",
    "    \"frag_method\": \"HCD\",\n",
    "    \"instrument_type\": 'Orbitrap',\n",
    "    \"decimal\": 4.0,\n",
    "    \n",
    "}\n",
    "rt_peaks_filtered_with_top_spectra_formatted = sta.format_for_msms_refs(rt_peaks_filtered_with_top_spectra, msms_refs, msms_refs_metadata)"
   ]
  },
  {
   "cell_type": "markdown",
   "metadata": {},
   "source": [
    "# Store selected compound/adduct in MSMS refs"
   ]
  },
  {
   "cell_type": "code",
   "execution_count": null,
   "metadata": {},
   "outputs": [],
   "source": [
    "sta.update_and_save_msms_refs(msms_refs, rt_peaks_filtered_with_top_spectra_formatted, path_to_standards_file, current_time, save_refs=True)"
   ]
  },
  {
   "cell_type": "markdown",
   "metadata": {},
   "source": [
    "# Check to verify that compounds were added to database, atlases, and refs correctly"
   ]
  },
  {
   "cell_type": "code",
   "execution_count": null,
   "metadata": {},
   "outputs": [],
   "source": [
    "# TO DO: Add a checker"
   ]
  }
 ],
 "metadata": {
  "kernelspec": {
   "display_name": "metatlas",
   "language": "python",
   "name": "python3"
  },
  "language_info": {
   "codemirror_mode": {
    "name": "ipython",
    "version": 3
   },
   "file_extension": ".py",
   "mimetype": "text/x-python",
   "name": "python",
   "nbconvert_exporter": "python",
   "pygments_lexer": "ipython3",
   "version": "3.11.8"
  }
 },
 "nbformat": 4,
 "nbformat_minor": 2
}
