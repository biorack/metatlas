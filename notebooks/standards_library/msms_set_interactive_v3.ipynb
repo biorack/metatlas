{
 "cells": [
  {
   "cell_type": "code",
   "execution_count": 1,
   "metadata": {},
   "outputs": [],
   "source": [
    "import numpy as np\n",
    "import pandas as pd\n",
    "import sys\n",
    "from datetime import datetime\n",
    "import os\n",
    "from IPython.display import display\n",
    "\n",
    "sys.path.insert(1, '/global/homes/b/bkieft/metatlas')\n",
    "import notebooks.standards_library.standard_annotation as sta\n",
    "pd.options.display.max_colwidth = 300\n",
    "\n",
    "current_time = datetime.now().strftime(\"%Y%m%d%H%M%S\")"
   ]
  },
  {
   "cell_type": "markdown",
   "metadata": {},
   "source": [
    "# Enter Reference Standard information"
   ]
  },
  {
   "cell_type": "code",
   "execution_count": 2,
   "metadata": {},
   "outputs": [],
   "source": [
    "ppm_tolerance = 5\n",
    "include_polarities = ['POS', 'NEG']\n",
    "include_chromatographies = ['C18', 'HILIC'] # 'C18' and/or 'HILIC'\n",
    "include_adducts = ['[M+H]+', '[M+Na]+', '[M-H2O+H]+', '[M+K]+', '[M+NH4]+', '[M]+', '[M+2H]2+','[M-H]-', '[M+Cl]-', '[M]-', '[M-2H]2-']\n",
    "\n",
    "path_to_standards_file = '/global/homes/b/bkieft/metabolomics_standards_annotation/standard_library_annotation'\n",
    "standards_file = 'scheller_test.csv' # scheller_test.csv   metasci_flav_annotation_input.csv\n",
    "standards_info_path = f'{path_to_standards_file}/{standards_file}'\n",
    "input_compounds = pd.read_csv(standards_info_path)\n",
    "\n",
    "metatlas_data_path = '/global/homes/b/bkieft/metatlas-data'\n",
    "ema_atlases = sta.get_existing_atlases(existing_atlases_path=f'{metatlas_data_path}/*/*EMA*.tsv')\n",
    "qc_atlases = sta.get_existing_atlases(existing_atlases_path=f'{metatlas_data_path}/*/*QCv7*.tsv')\n",
    "\n",
    "new_full_data = False\n",
    "new_selected_data = False\n",
    "new_filtered_data = False"
   ]
  },
  {
   "cell_type": "markdown",
   "metadata": {},
   "source": [
    "# Get EIC and Spectra information from run table"
   ]
  },
  {
   "cell_type": "code",
   "execution_count": 3,
   "metadata": {},
   "outputs": [
    {
     "name": "stderr",
     "output_type": "stream",
     "text": [
      "[16:54:15] ERROR: \n",
      "\n",
      "[16:54:15] ERROR: \n",
      "\n",
      "[16:54:15] ERROR: \n",
      "\n",
      "[16:54:15] ERROR: \n",
      "\n",
      "[16:54:15] ERROR: \n",
      "\n",
      "[16:54:15] ERROR: \n",
      "\n",
      "[16:54:15] ERROR: \n",
      "\n",
      "[16:54:15] ERROR: \n",
      "\n",
      "[16:54:15] ERROR: \n",
      "\n",
      "[16:54:15] ERROR: \n",
      "\n",
      "[16:54:15] ERROR: \n",
      "\n",
      "[16:54:15] ERROR: \n",
      "\n",
      "[16:54:15] ERROR: \n",
      "\n",
      "[16:54:15] ERROR: \n",
      "\n",
      "[16:54:15] ERROR: \n",
      "\n"
     ]
    }
   ],
   "source": [
    "standard_lcmsruns_table = sta.build_standard_lcmsrun_table(standards_info_path, include_polarities=include_polarities, include_chromatographies=include_chromatographies)\n",
    "standard_lcmsruns_table_with_adducts = sta.build_adduct_annotated_table(standard_lcmsruns_table, include_adducts=include_adducts)\n",
    "#standard_lcmsruns_table_with_adducts = standard_lcmsruns_table_with_adducts[standard_lcmsruns_table_with_adducts['compound_name'] == \"sorgoleone\"].head(1)"
   ]
  },
  {
   "cell_type": "code",
   "execution_count": 4,
   "metadata": {},
   "outputs": [],
   "source": [
    "if new_full_data is True:\n",
    "\n",
    "    eics_full, top_spectra_full, group_names_full, rt_peaks_full, atlas_full = sta.extract_data(lcmsruns_table=standard_lcmsruns_table_with_adducts,\n",
    "                                                                                                            ppm_tolerance=ppm_tolerance,\n",
    "                                                                                                            method=\"find_peaks\")\n",
    "    \n",
    "    runnum_to_structure_image_grid = sta.generate_gridded_molecular_images(standard_lcmsruns_table_with_adducts)"
   ]
  },
  {
   "cell_type": "markdown",
   "metadata": {},
   "source": [
    "# Save and/or read full data"
   ]
  },
  {
   "cell_type": "code",
   "execution_count": 5,
   "metadata": {},
   "outputs": [
    {
     "name": "stdout",
     "output_type": "stream",
     "text": [
      "Loading most recent pkl file: /global/homes/b/bkieft/metabolomics_standards_annotation/standard_library_annotation/scheller_test_20250422133530_ref_stds_data_full.pkl\n"
     ]
    }
   ],
   "source": [
    "if new_full_data is True:\n",
    "    sta.save_full_data(eics_full, top_spectra_full, group_names_full, rt_peaks_full, atlas_full, runnum_to_structure_image_grid, standards_info_path, current_time)\n",
    "elif new_full_data is False:\n",
    "    eics_full, top_spectra_full, group_names_full, rt_peaks_full, atlas_full, runnum_to_structure_image_grid = sta.load_full_data(standards_info_path)"
   ]
  },
  {
   "cell_type": "markdown",
   "metadata": {},
   "source": [
    "# Create interactive plot and choose adducts"
   ]
  },
  {
   "cell_type": "code",
   "execution_count": 21,
   "metadata": {},
   "outputs": [],
   "source": [
    "processed_data = sta.process_data_for_plotting(eics_full, top_spectra_full, group_names_full, rt_peaks_full, include_adducts)\n",
    "\n",
    "processed_data = [\n",
    "    entry for entry in processed_data\n",
    "    if entry.get('compound_name') == \"sorgoleone\"\n",
    "]"
   ]
  },
  {
   "cell_type": "code",
   "execution_count": 22,
   "metadata": {},
   "outputs": [
    {
     "data": {
      "application/vnd.jupyter.widget-view+json": {
       "model_id": "3d5e33996c4942af9ac45513994bf427",
       "version_major": 2,
       "version_minor": 0
      },
      "text/plain": [
       "VBox(children=(HBox(children=(VBox(children=(Checkbox(value=False, description='[M+H]+ (peak1) *'), Checkbox(v…"
      ]
     },
     "metadata": {},
     "output_type": "display_data"
    },
    {
     "data": {
      "application/vnd.jupyter.widget-view+json": {
       "model_id": "970ef706ee7a4e6181a247f87b43004b",
       "version_major": 2,
       "version_minor": 0
      },
      "text/plain": [
       "Output()"
      ]
     },
     "metadata": {},
     "output_type": "display_data"
    }
   ],
   "source": [
    "selected_good_adducts = {}\n",
    "ambiguous_adducts = {}\n",
    "\n",
    "sta.create_interactive_plots(processed_data, runnum_to_structure_image_grid, selected_good_adducts, ambiguous_adducts)"
   ]
  },
  {
   "cell_type": "markdown",
   "metadata": {},
   "source": [
    "# Save and/or read selected data"
   ]
  },
  {
   "cell_type": "code",
   "execution_count": 6,
   "metadata": {},
   "outputs": [
    {
     "name": "stdout",
     "output_type": "stream",
     "text": [
      "Loading most recent pkl file: /global/homes/b/bkieft/metabolomics_standards_annotation/standard_library_annotation/scheller_test_20250422133530_ref_stds_data_selected.pkl\n"
     ]
    }
   ],
   "source": [
    "if new_selected_data is True:\n",
    "    sta.save_selected_data(selected_good_adducts, ambiguous_adducts, standards_info_path, current_time)\n",
    "elif new_selected_data is False:\n",
    "    selected_good_adducts, ambiguous_adducts = sta.load_selected_data(standards_info_path)"
   ]
  },
  {
   "cell_type": "markdown",
   "metadata": {},
   "source": [
    "# Preview compounds+adducts selections"
   ]
  },
  {
   "cell_type": "code",
   "execution_count": 9,
   "metadata": {},
   "outputs": [
    {
     "name": "stdout",
     "output_type": "stream",
     "text": [
      "Selected compounds:\n",
      "\n"
     ]
    },
    {
     "data": {
      "text/html": [
       "<div>\n",
       "<style scoped>\n",
       "    .dataframe tbody tr th:only-of-type {\n",
       "        vertical-align: middle;\n",
       "    }\n",
       "\n",
       "    .dataframe tbody tr th {\n",
       "        vertical-align: top;\n",
       "    }\n",
       "\n",
       "    .dataframe thead th {\n",
       "        text-align: right;\n",
       "    }\n",
       "</style>\n",
       "<table border=\"1\" class=\"dataframe\">\n",
       "  <thead>\n",
       "    <tr style=\"text-align: right;\">\n",
       "      <th></th>\n",
       "      <th>compound_name</th>\n",
       "      <th>standard_lcmsrun</th>\n",
       "      <th>selected_adducts</th>\n",
       "      <th>selected_peak_indices</th>\n",
       "    </tr>\n",
       "  </thead>\n",
       "  <tbody>\n",
       "    <tr>\n",
       "      <th>0</th>\n",
       "      <td>sorgoleone</td>\n",
       "      <td>/global/cfs/cdirs/metatlas/raw_data/jgi/20241002_JGI_HS_510060_SorghExu_final1_EXP120B_HILICZ_USHXG02558/20241002_JGI_HS_510060_SorghExu_final1_EXP120B_HILICZ_USHXG02558_POS_MS2_RefStd-1_Sorgoleone_1_Rg70to1050-CE102040norm-200uM-S1_Run375.h5</td>\n",
       "      <td>[[M+H]+, [M+NH4]+]</td>\n",
       "      <td>[peak1, peak1]</td>\n",
       "    </tr>\n",
       "    <tr>\n",
       "      <th>1</th>\n",
       "      <td>sorgoleone</td>\n",
       "      <td>/global/cfs/cdirs/metatlas/raw_data/jgi/20241002_JGI_HS_510060_SorghExu_final1_EXP120B_HILICZ_USHXG02558/20241002_JGI_HS_510060_SorghExu_final1_EXP120B_HILICZ_USHXG02558_POS_MS2_RefStd-1_Sorgoleone_1_Rg70to1050-CE205060norm-200uM-S1_Run376.h5</td>\n",
       "      <td>[[M+H]+, [M+NH4]+]</td>\n",
       "      <td>[peak1, peak1]</td>\n",
       "    </tr>\n",
       "    <tr>\n",
       "      <th>2</th>\n",
       "      <td>sorgoleone</td>\n",
       "      <td>/global/cfs/cdirs/metatlas/raw_data/jgi/20241002_JGI_HS_510060_SorghExu_final1_EXP120B_HILICZ_USHXG02558/20241002_JGI_HS_510060_SorghExu_final1_EXP120B_HILICZ_USHXG02558_NEG_MS2_RefStd-1_Sorgoleone_1_Rg70to1050-CE102040norm-200uM-S1_Run377.h5</td>\n",
       "      <td>[[M-H]-]</td>\n",
       "      <td>[peak1]</td>\n",
       "    </tr>\n",
       "    <tr>\n",
       "      <th>3</th>\n",
       "      <td>sorgoleone</td>\n",
       "      <td>/global/cfs/cdirs/metatlas/raw_data/jgi/20241002_JGI_HS_510060_SorghExu_final1_EXP120B_HILICZ_USHXG02558/20241002_JGI_HS_510060_SorghExu_final1_EXP120B_HILICZ_USHXG02558_NEG_MS2_RefStd-1_Sorgoleone_1_Rg70to1050-CE205060norm-200uM-S1_Run378.h5</td>\n",
       "      <td>[[M-H]-]</td>\n",
       "      <td>[peak1]</td>\n",
       "    </tr>\n",
       "    <tr>\n",
       "      <th>4</th>\n",
       "      <td>sorgoleone</td>\n",
       "      <td>/global/cfs/cdirs/metatlas/raw_data/jgi/20241021_JGI_HS_510060_SorghExu_final1_IQX_C18_USDAY92782/20241021_JGI_HS_510060_SorghExu_final1_IQX_C18_USDAY92782_POS_MS2_RefStd-1_Sorgoleone_1_Rg80to1200-CE102040norm-200uM-S1_Run382.h5</td>\n",
       "      <td>[[M+Na]+, [M+H]+]</td>\n",
       "      <td>[peak1, peak1]</td>\n",
       "    </tr>\n",
       "    <tr>\n",
       "      <th>5</th>\n",
       "      <td>sorgoleone</td>\n",
       "      <td>/global/cfs/cdirs/metatlas/raw_data/jgi/20241021_JGI_HS_510060_SorghExu_final1_IQX_C18_USDAY92782/20241021_JGI_HS_510060_SorghExu_final1_IQX_C18_USDAY92782_POS_MS2_RefStd-1_Sorgoleone_1_Rg80to1200-CE205060norm-200uM-S1_Run383.h5</td>\n",
       "      <td>[[M+Na]+, [M+H]+, [M-H2O+H]+]</td>\n",
       "      <td>[peak1, peak1, peak1]</td>\n",
       "    </tr>\n",
       "    <tr>\n",
       "      <th>6</th>\n",
       "      <td>sorgoleone</td>\n",
       "      <td>/global/cfs/cdirs/metatlas/raw_data/jgi/20241021_JGI_HS_510060_SorghExu_final1_IQX_C18_USDAY92782/20241021_JGI_HS_510060_SorghExu_final1_IQX_C18_USDAY92782_NEG_MS2_RefStd-1_Sorgoleone_1_Rg80to1200-CE102040norm-200uM-S1_Run384.h5</td>\n",
       "      <td>[[M-H]-, [M+Cl]-]</td>\n",
       "      <td>[peak1, peak1]</td>\n",
       "    </tr>\n",
       "    <tr>\n",
       "      <th>7</th>\n",
       "      <td>sorgoleone</td>\n",
       "      <td>/global/cfs/cdirs/metatlas/raw_data/jgi/20241021_JGI_HS_510060_SorghExu_final1_IQX_C18_USDAY92782/20241021_JGI_HS_510060_SorghExu_final1_IQX_C18_USDAY92782_NEG_MS2_RefStd-1_Sorgoleone_1_Rg80to1200-CE205060norm-200uM-S1_Run385.h5</td>\n",
       "      <td>[[M-H]-]</td>\n",
       "      <td>[peak1]</td>\n",
       "    </tr>\n",
       "  </tbody>\n",
       "</table>\n",
       "</div>"
      ],
      "text/plain": [
       "  compound_name  \\\n",
       "0    sorgoleone   \n",
       "1    sorgoleone   \n",
       "2    sorgoleone   \n",
       "3    sorgoleone   \n",
       "4    sorgoleone   \n",
       "5    sorgoleone   \n",
       "6    sorgoleone   \n",
       "7    sorgoleone   \n",
       "\n",
       "                                                                                                                                                                                                                                     standard_lcmsrun  \\\n",
       "0  /global/cfs/cdirs/metatlas/raw_data/jgi/20241002_JGI_HS_510060_SorghExu_final1_EXP120B_HILICZ_USHXG02558/20241002_JGI_HS_510060_SorghExu_final1_EXP120B_HILICZ_USHXG02558_POS_MS2_RefStd-1_Sorgoleone_1_Rg70to1050-CE102040norm-200uM-S1_Run375.h5   \n",
       "1  /global/cfs/cdirs/metatlas/raw_data/jgi/20241002_JGI_HS_510060_SorghExu_final1_EXP120B_HILICZ_USHXG02558/20241002_JGI_HS_510060_SorghExu_final1_EXP120B_HILICZ_USHXG02558_POS_MS2_RefStd-1_Sorgoleone_1_Rg70to1050-CE205060norm-200uM-S1_Run376.h5   \n",
       "2  /global/cfs/cdirs/metatlas/raw_data/jgi/20241002_JGI_HS_510060_SorghExu_final1_EXP120B_HILICZ_USHXG02558/20241002_JGI_HS_510060_SorghExu_final1_EXP120B_HILICZ_USHXG02558_NEG_MS2_RefStd-1_Sorgoleone_1_Rg70to1050-CE102040norm-200uM-S1_Run377.h5   \n",
       "3  /global/cfs/cdirs/metatlas/raw_data/jgi/20241002_JGI_HS_510060_SorghExu_final1_EXP120B_HILICZ_USHXG02558/20241002_JGI_HS_510060_SorghExu_final1_EXP120B_HILICZ_USHXG02558_NEG_MS2_RefStd-1_Sorgoleone_1_Rg70to1050-CE205060norm-200uM-S1_Run378.h5   \n",
       "4                /global/cfs/cdirs/metatlas/raw_data/jgi/20241021_JGI_HS_510060_SorghExu_final1_IQX_C18_USDAY92782/20241021_JGI_HS_510060_SorghExu_final1_IQX_C18_USDAY92782_POS_MS2_RefStd-1_Sorgoleone_1_Rg80to1200-CE102040norm-200uM-S1_Run382.h5   \n",
       "5                /global/cfs/cdirs/metatlas/raw_data/jgi/20241021_JGI_HS_510060_SorghExu_final1_IQX_C18_USDAY92782/20241021_JGI_HS_510060_SorghExu_final1_IQX_C18_USDAY92782_POS_MS2_RefStd-1_Sorgoleone_1_Rg80to1200-CE205060norm-200uM-S1_Run383.h5   \n",
       "6                /global/cfs/cdirs/metatlas/raw_data/jgi/20241021_JGI_HS_510060_SorghExu_final1_IQX_C18_USDAY92782/20241021_JGI_HS_510060_SorghExu_final1_IQX_C18_USDAY92782_NEG_MS2_RefStd-1_Sorgoleone_1_Rg80to1200-CE102040norm-200uM-S1_Run384.h5   \n",
       "7                /global/cfs/cdirs/metatlas/raw_data/jgi/20241021_JGI_HS_510060_SorghExu_final1_IQX_C18_USDAY92782/20241021_JGI_HS_510060_SorghExu_final1_IQX_C18_USDAY92782_NEG_MS2_RefStd-1_Sorgoleone_1_Rg80to1200-CE205060norm-200uM-S1_Run385.h5   \n",
       "\n",
       "                selected_adducts  selected_peak_indices  \n",
       "0             [[M+H]+, [M+NH4]+]         [peak1, peak1]  \n",
       "1             [[M+H]+, [M+NH4]+]         [peak1, peak1]  \n",
       "2                       [[M-H]-]                [peak1]  \n",
       "3                       [[M-H]-]                [peak1]  \n",
       "4              [[M+Na]+, [M+H]+]         [peak1, peak1]  \n",
       "5  [[M+Na]+, [M+H]+, [M-H2O+H]+]  [peak1, peak1, peak1]  \n",
       "6              [[M-H]-, [M+Cl]-]         [peak1, peak1]  \n",
       "7                       [[M-H]-]                [peak1]  "
      ]
     },
     "metadata": {},
     "output_type": "display_data"
    },
    {
     "name": "stdout",
     "output_type": "stream",
     "text": [
      "\n",
      "Ambiguous compounds (to return to for scrutiny):\n",
      "\n"
     ]
    },
    {
     "data": {
      "text/html": [
       "<div>\n",
       "<style scoped>\n",
       "    .dataframe tbody tr th:only-of-type {\n",
       "        vertical-align: middle;\n",
       "    }\n",
       "\n",
       "    .dataframe tbody tr th {\n",
       "        vertical-align: top;\n",
       "    }\n",
       "\n",
       "    .dataframe thead th {\n",
       "        text-align: right;\n",
       "    }\n",
       "</style>\n",
       "<table border=\"1\" class=\"dataframe\">\n",
       "  <thead>\n",
       "    <tr style=\"text-align: right;\">\n",
       "      <th></th>\n",
       "    </tr>\n",
       "  </thead>\n",
       "  <tbody>\n",
       "  </tbody>\n",
       "</table>\n",
       "</div>"
      ],
      "text/plain": [
       "Empty DataFrame\n",
       "Columns: []\n",
       "Index: []"
      ]
     },
     "metadata": {},
     "output_type": "display_data"
    }
   ],
   "source": [
    "selected_compounds_table = sta.extract_selected_compounds(selected_good_adducts)\n",
    "ambiguous_compounds_table = sta.extract_ambiguous_compounds(ambiguous_adducts)\n",
    "\n",
    "print(\"Selected compounds:\\n\")\n",
    "display(selected_compounds_table)\n",
    "print(\"\\nAmbiguous compounds (to return to for scrutiny):\\n\")\n",
    "display(ambiguous_compounds_table)"
   ]
  },
  {
   "cell_type": "markdown",
   "metadata": {},
   "source": [
    "# Filter RT Peak, EICs, and Top Spectra by selected compounds+adducts"
   ]
  },
  {
   "cell_type": "code",
   "execution_count": 10,
   "metadata": {},
   "outputs": [
    {
     "name": "stderr",
     "output_type": "stream",
     "text": [
      "[13:46:44] non-ring atom 0 marked aromatic\n",
      "[13:46:44] non-ring atom 0 marked aromatic\n"
     ]
    },
    {
     "name": "stdout",
     "output_type": "stream",
     "text": [
      "\n",
      "Total unique compounds retained: 1\n",
      "Total unique compound+adduct entries retained: 10\n",
      "\n",
      "Total EICs selected: 31\n",
      "Total RT peaks selected: 14\n",
      "Total MS2 spectra selected: 13\n"
     ]
    }
   ],
   "source": [
    "eics_filtered, rt_peaks_filtered, top_spectra_filtered = sta.filter_by_selected(eics_full, rt_peaks_full, top_spectra_full, selected_compounds_table)\n",
    "\n",
    "print(f\"\\nTotal unique compounds retained: {eics_filtered['compound_name'].nunique()}\")\n",
    "print(f\"Total unique compound+adduct entries retained: {eics_filtered['label'].nunique()}\\n\")\n",
    "print(f\"Total EICs selected: {eics_filtered.shape[0]}\")\n",
    "print(f\"Total RT peaks selected: {rt_peaks_filtered.shape[0]}\")\n",
    "print(f\"Total MS2 spectra selected: {top_spectra_filtered.shape[0]}\")"
   ]
  },
  {
   "cell_type": "markdown",
   "metadata": {},
   "source": [
    "# Save and/or read filtered data"
   ]
  },
  {
   "cell_type": "code",
   "execution_count": 6,
   "metadata": {},
   "outputs": [
    {
     "name": "stdout",
     "output_type": "stream",
     "text": [
      "Loading most recent pkl file: /global/homes/b/bkieft/metabolomics_standards_annotation/standard_library_annotation/scheller_test_20250422133530_ref_stds_data_filtered.pkl\n"
     ]
    }
   ],
   "source": [
    "if new_filtered_data is True:\n",
    "    sta.save_filtered_data(eics_filtered, top_spectra_filtered, rt_peaks_filtered, standards_info_path, current_time)\n",
    "elif new_filtered_data is False:\n",
    "    eics_filtered, top_spectra_filtered, rt_peaks_filtered = sta.load_filtered_data(standards_info_path)"
   ]
  },
  {
   "cell_type": "markdown",
   "metadata": {},
   "source": [
    "# Save summary plots of selected compounds+adducts"
   ]
  },
  {
   "cell_type": "code",
   "execution_count": 7,
   "metadata": {},
   "outputs": [],
   "source": [
    "# TO DO:\n",
    "# For each compound (group_id in the GUI), export the full EIC (log/normal) and indicate which peak+msms was chosen - same format as mirror plots (ish)\n",
    "# Inlude an image of the compound and a table of other information like mz, formula, mass\n",
    "# And mark which peaks were chosen for each adduct"
   ]
  },
  {
   "cell_type": "markdown",
   "metadata": {},
   "source": [
    "# Choose only the top adduct per compound to add to DB, Atlases, and MSMS Refs"
   ]
  },
  {
   "cell_type": "code",
   "execution_count": 8,
   "metadata": {},
   "outputs": [
    {
     "name": "stdout",
     "output_type": "stream",
     "text": [
      "\n",
      "Filtered 14 compound peaks to 4 peaks by best adduct. Here are the compounds+adducts retained:\n",
      "\n"
     ]
    },
    {
     "data": {
      "text/html": [
       "<div>\n",
       "<style scoped>\n",
       "    .dataframe tbody tr th:only-of-type {\n",
       "        vertical-align: middle;\n",
       "    }\n",
       "\n",
       "    .dataframe tbody tr th {\n",
       "        vertical-align: top;\n",
       "    }\n",
       "\n",
       "    .dataframe thead th {\n",
       "        text-align: right;\n",
       "    }\n",
       "</style>\n",
       "<table border=\"1\" class=\"dataframe\">\n",
       "  <thead>\n",
       "    <tr style=\"text-align: right;\">\n",
       "      <th></th>\n",
       "      <th>label</th>\n",
       "      <th>adduct</th>\n",
       "      <th>polarity</th>\n",
       "      <th>chromatography</th>\n",
       "      <th>inchi_key</th>\n",
       "      <th>monoisotopic_mass</th>\n",
       "    </tr>\n",
       "  </thead>\n",
       "  <tbody>\n",
       "    <tr>\n",
       "      <th>3</th>\n",
       "      <td>sorgoleone</td>\n",
       "      <td>[M+H]+</td>\n",
       "      <td>POS</td>\n",
       "      <td>HILICZ</td>\n",
       "      <td>FGWRUVXUQWGLOX-AFJQJTPPSA-N</td>\n",
       "      <td>358.214409</td>\n",
       "    </tr>\n",
       "    <tr>\n",
       "      <th>1</th>\n",
       "      <td>sorgoleone</td>\n",
       "      <td>[M+Na]+</td>\n",
       "      <td>POS</td>\n",
       "      <td>C18</td>\n",
       "      <td>FGWRUVXUQWGLOX-AFJQJTPPSA-N</td>\n",
       "      <td>358.214409</td>\n",
       "    </tr>\n",
       "    <tr>\n",
       "      <th>0</th>\n",
       "      <td>sorgoleone</td>\n",
       "      <td>[M-H]-</td>\n",
       "      <td>NEG</td>\n",
       "      <td>C18</td>\n",
       "      <td>FGWRUVXUQWGLOX-AFJQJTPPSA-N</td>\n",
       "      <td>358.214409</td>\n",
       "    </tr>\n",
       "    <tr>\n",
       "      <th>2</th>\n",
       "      <td>sorgoleone</td>\n",
       "      <td>[M-H]-</td>\n",
       "      <td>NEG</td>\n",
       "      <td>HILICZ</td>\n",
       "      <td>FGWRUVXUQWGLOX-AFJQJTPPSA-N</td>\n",
       "      <td>358.214409</td>\n",
       "    </tr>\n",
       "  </tbody>\n",
       "</table>\n",
       "</div>"
      ],
      "text/plain": [
       "        label   adduct polarity chromatography                    inchi_key  \\\n",
       "3  sorgoleone   [M+H]+      POS         HILICZ  FGWRUVXUQWGLOX-AFJQJTPPSA-N   \n",
       "1  sorgoleone  [M+Na]+      POS            C18  FGWRUVXUQWGLOX-AFJQJTPPSA-N   \n",
       "0  sorgoleone   [M-H]-      NEG            C18  FGWRUVXUQWGLOX-AFJQJTPPSA-N   \n",
       "2  sorgoleone   [M-H]-      NEG         HILICZ  FGWRUVXUQWGLOX-AFJQJTPPSA-N   \n",
       "\n",
       "   monoisotopic_mass  \n",
       "3         358.214409  \n",
       "1         358.214409  \n",
       "0         358.214409  \n",
       "2         358.214409  "
      ]
     },
     "metadata": {},
     "output_type": "display_data"
    }
   ],
   "source": [
    "rt_peaks_filtered_top_adduct = sta.filter_top_compounds(rt_peaks_filtered)"
   ]
  },
  {
   "cell_type": "markdown",
   "metadata": {},
   "source": [
    "# Check if selected compounds are in metatlas DB"
   ]
  },
  {
   "cell_type": "code",
   "execution_count": 10,
   "metadata": {},
   "outputs": [
    {
     "data": {
      "application/vnd.jupyter.widget-view+json": {
       "model_id": "5d5e351f743a41bead36f8c478379484",
       "version_major": 2,
       "version_minor": 0
      },
      "text/plain": [
       "Searching for matches in MSMS refs:   0%|          | 0/4 [00:00<?, ?it/s]"
      ]
     },
     "metadata": {},
     "output_type": "display_data"
    },
    {
     "name": "stdout",
     "output_type": "stream",
     "text": [
      "\n",
      "These compounds are not yet in the metatlas database:\n",
      "\n"
     ]
    },
    {
     "data": {
      "text/html": [
       "<div>\n",
       "<style scoped>\n",
       "    .dataframe tbody tr th:only-of-type {\n",
       "        vertical-align: middle;\n",
       "    }\n",
       "\n",
       "    .dataframe tbody tr th {\n",
       "        vertical-align: top;\n",
       "    }\n",
       "\n",
       "    .dataframe thead th {\n",
       "        text-align: right;\n",
       "    }\n",
       "</style>\n",
       "<table border=\"1\" class=\"dataframe\">\n",
       "  <thead>\n",
       "    <tr style=\"text-align: right;\">\n",
       "      <th></th>\n",
       "      <th>label</th>\n",
       "      <th>inchi</th>\n",
       "      <th>inchi_key</th>\n",
       "      <th>neutralized_inchi</th>\n",
       "      <th>neutralized_inchi_key</th>\n",
       "      <th>permanent_charge</th>\n",
       "      <th>formula</th>\n",
       "      <th>monoisotopic_mass</th>\n",
       "    </tr>\n",
       "  </thead>\n",
       "  <tbody>\n",
       "    <tr>\n",
       "      <th>0</th>\n",
       "      <td>sorgoleone</td>\n",
       "      <td>InChI=1S/C22H30O4/c1-3-4-5-6-7-8-9-10-11-12-13-14-15-16-18-21(24)19(23)17-20(26-2)22(18)25/h3,5-6,8-9,17,24H,1,4,7,10-16H2,2H3/b6-5-,9-8-</td>\n",
       "      <td>FGWRUVXUQWGLOX-AFJQJTPPSA-N</td>\n",
       "      <td>InChI=1S/C22H30O4/c1-3-4-5-6-7-8-9-10-11-12-13-14-15-16-18-21(24)19(23)17-20(26-2)22(18)25/h3,5-6,8-9,17,24H,1,4,7,10-16H2,2H3/b6-5-,9-8-</td>\n",
       "      <td>FGWRUVXUQWGLOX-AFJQJTPPSA-N</td>\n",
       "      <td>0</td>\n",
       "      <td>C22H30O4</td>\n",
       "      <td>358.214409</td>\n",
       "    </tr>\n",
       "  </tbody>\n",
       "</table>\n",
       "</div>"
      ],
      "text/plain": [
       "        label  \\\n",
       "0  sorgoleone   \n",
       "\n",
       "                                                                                                                                       inchi  \\\n",
       "0  InChI=1S/C22H30O4/c1-3-4-5-6-7-8-9-10-11-12-13-14-15-16-18-21(24)19(23)17-20(26-2)22(18)25/h3,5-6,8-9,17,24H,1,4,7,10-16H2,2H3/b6-5-,9-8-   \n",
       "\n",
       "                     inchi_key  \\\n",
       "0  FGWRUVXUQWGLOX-AFJQJTPPSA-N   \n",
       "\n",
       "                                                                                                                           neutralized_inchi  \\\n",
       "0  InChI=1S/C22H30O4/c1-3-4-5-6-7-8-9-10-11-12-13-14-15-16-18-21(24)19(23)17-20(26-2)22(18)25/h3,5-6,8-9,17,24H,1,4,7,10-16H2,2H3/b6-5-,9-8-   \n",
       "\n",
       "         neutralized_inchi_key permanent_charge   formula monoisotopic_mass  \n",
       "0  FGWRUVXUQWGLOX-AFJQJTPPSA-N                0  C22H30O4        358.214409  "
      ]
     },
     "metadata": {},
     "output_type": "display_data"
    }
   ],
   "source": [
    "in_db, notin_db = sta.search_for_matches_in_metatlas_db(rt_peaks_filtered_top_adduct, check_by_flat=True)"
   ]
  },
  {
   "cell_type": "markdown",
   "metadata": {},
   "source": [
    "# Store selected compounds+adducts in metatlas db"
   ]
  },
  {
   "cell_type": "code",
   "execution_count": 11,
   "metadata": {},
   "outputs": [],
   "source": [
    "#sta.store_in_metatlas_db(notin_db)"
   ]
  },
  {
   "cell_type": "markdown",
   "metadata": {},
   "source": [
    "# Check if selected compounds/adducts are in the atlases"
   ]
  },
  {
   "cell_type": "code",
   "execution_count": 9,
   "metadata": {},
   "outputs": [],
   "source": [
    "rt_peaks_filtered_top_adduct_formatted = sta.convert_rt_peaks_to_atlas_format(rt_peaks_filtered_top_adduct)"
   ]
  },
  {
   "cell_type": "code",
   "execution_count": 10,
   "metadata": {},
   "outputs": [
    {
     "data": {
      "application/vnd.jupyter.widget-view+json": {
       "model_id": "96d7b5401c2c4b74b22e95bad4fae8cf",
       "version_major": 2,
       "version_minor": 0
      },
      "text/plain": [
       "Searching for matches in existing atlases:   0%|          | 0/4 [00:00<?, ?it/s]"
      ]
     },
     "metadata": {},
     "output_type": "display_data"
    },
    {
     "name": "stdout",
     "output_type": "stream",
     "text": [
      "\n",
      "These compounds+adducts are not yet in any atlases:\n",
      "\n"
     ]
    },
    {
     "data": {
      "text/html": [
       "<div>\n",
       "<style scoped>\n",
       "    .dataframe tbody tr th:only-of-type {\n",
       "        vertical-align: middle;\n",
       "    }\n",
       "\n",
       "    .dataframe tbody tr th {\n",
       "        vertical-align: top;\n",
       "    }\n",
       "\n",
       "    .dataframe thead th {\n",
       "        text-align: right;\n",
       "    }\n",
       "</style>\n",
       "<table border=\"1\" class=\"dataframe\">\n",
       "  <thead>\n",
       "    <tr style=\"text-align: right;\">\n",
       "      <th></th>\n",
       "      <th>standard_lcmsrun</th>\n",
       "      <th>chromatography</th>\n",
       "      <th>compound_name</th>\n",
       "      <th>adduct</th>\n",
       "      <th>polarity</th>\n",
       "      <th>rt_peak</th>\n",
       "      <th>mz_theoretical</th>\n",
       "      <th>smiles</th>\n",
       "      <th>peak_index</th>\n",
       "      <th>inchi</th>\n",
       "      <th>...</th>\n",
       "      <th>neutralized_inchi</th>\n",
       "      <th>neutralized_inchi_key</th>\n",
       "      <th>permanent_charge</th>\n",
       "      <th>formula</th>\n",
       "      <th>monoisotopic_mass</th>\n",
       "      <th>collision_energy</th>\n",
       "      <th>label</th>\n",
       "      <th>rt_min</th>\n",
       "      <th>rt_max</th>\n",
       "      <th>mz_tolerance</th>\n",
       "    </tr>\n",
       "  </thead>\n",
       "  <tbody>\n",
       "    <tr>\n",
       "      <th>0</th>\n",
       "      <td>/global/cfs/cdirs/metatlas/raw_data/jgi/20241021_JGI_HS_510060_SorghExu_final1_IQX_C18_USDAY92782/20241021_JGI_HS_510060_SorghExu_final1_IQX_C18_USDAY92782_POS_MS2_RefStd-1_Sorgoleone_1_Rg80to1200-CE205060norm-200uM-S1_Run383.h5</td>\n",
       "      <td>C18</td>\n",
       "      <td>sorgoleone</td>\n",
       "      <td>[M+Na]+</td>\n",
       "      <td>positive</td>\n",
       "      <td>7.544277</td>\n",
       "      <td>381.203627</td>\n",
       "      <td>COC1=CC(=O)C(=C(C1=O)CCCCCCC/C=C\\C/C=C\\CC=C)O</td>\n",
       "      <td>peak1</td>\n",
       "      <td>InChI=1S/C22H30O4/c1-3-4-5-6-7-8-9-10-11-12-13-14-15-16-18-21(24)19(23)17-20(26-2)22(18)25/h3,5-6,8-9,17,24H,1,4,7,10-16H2,2H3/b6-5-,9-8-</td>\n",
       "      <td>...</td>\n",
       "      <td>InChI=1S/C22H30O4/c1-3-4-5-6-7-8-9-10-11-12-13-14-15-16-18-21(24)19(23)17-20(26-2)22(18)25/h3,5-6,8-9,17,24H,1,4,7,10-16H2,2H3/b6-5-,9-8-</td>\n",
       "      <td>FGWRUVXUQWGLOX-AFJQJTPPSA-N</td>\n",
       "      <td>0</td>\n",
       "      <td>C22H30O4</td>\n",
       "      <td>358.214409</td>\n",
       "      <td>205060norm</td>\n",
       "      <td>sorgoleone</td>\n",
       "      <td>7.044277</td>\n",
       "      <td>8.044277</td>\n",
       "      <td>5</td>\n",
       "    </tr>\n",
       "    <tr>\n",
       "      <th>1</th>\n",
       "      <td>/global/cfs/cdirs/metatlas/raw_data/jgi/20241002_JGI_HS_510060_SorghExu_final1_EXP120B_HILICZ_USHXG02558/20241002_JGI_HS_510060_SorghExu_final1_EXP120B_HILICZ_USHXG02558_NEG_MS2_RefStd-1_Sorgoleone_1_Rg70to1050-CE102040norm-200uM-S1_Run377.h5</td>\n",
       "      <td>HILICZ</td>\n",
       "      <td>sorgoleone</td>\n",
       "      <td>[M-H]-</td>\n",
       "      <td>negative</td>\n",
       "      <td>0.804263</td>\n",
       "      <td>357.207133</td>\n",
       "      <td>COC1=CC(=O)C(=C(C1=O)CCCCCCC/C=C\\C/C=C\\CC=C)O</td>\n",
       "      <td>peak1</td>\n",
       "      <td>InChI=1S/C22H30O4/c1-3-4-5-6-7-8-9-10-11-12-13-14-15-16-18-21(24)19(23)17-20(26-2)22(18)25/h3,5-6,8-9,17,24H,1,4,7,10-16H2,2H3/b6-5-,9-8-</td>\n",
       "      <td>...</td>\n",
       "      <td>InChI=1S/C22H30O4/c1-3-4-5-6-7-8-9-10-11-12-13-14-15-16-18-21(24)19(23)17-20(26-2)22(18)25/h3,5-6,8-9,17,24H,1,4,7,10-16H2,2H3/b6-5-,9-8-</td>\n",
       "      <td>FGWRUVXUQWGLOX-AFJQJTPPSA-N</td>\n",
       "      <td>0</td>\n",
       "      <td>C22H30O4</td>\n",
       "      <td>358.214409</td>\n",
       "      <td>102040norm</td>\n",
       "      <td>sorgoleone</td>\n",
       "      <td>0.304263</td>\n",
       "      <td>1.304263</td>\n",
       "      <td>5</td>\n",
       "    </tr>\n",
       "    <tr>\n",
       "      <th>2</th>\n",
       "      <td>/global/cfs/cdirs/metatlas/raw_data/jgi/20241002_JGI_HS_510060_SorghExu_final1_EXP120B_HILICZ_USHXG02558/20241002_JGI_HS_510060_SorghExu_final1_EXP120B_HILICZ_USHXG02558_POS_MS2_RefStd-1_Sorgoleone_1_Rg70to1050-CE102040norm-200uM-S1_Run375.h5</td>\n",
       "      <td>HILICZ</td>\n",
       "      <td>sorgoleone</td>\n",
       "      <td>[M+H]+</td>\n",
       "      <td>positive</td>\n",
       "      <td>0.801184</td>\n",
       "      <td>359.221685</td>\n",
       "      <td>COC1=CC(=O)C(=C(C1=O)CCCCCCC/C=C\\C/C=C\\CC=C)O</td>\n",
       "      <td>peak1</td>\n",
       "      <td>InChI=1S/C22H30O4/c1-3-4-5-6-7-8-9-10-11-12-13-14-15-16-18-21(24)19(23)17-20(26-2)22(18)25/h3,5-6,8-9,17,24H,1,4,7,10-16H2,2H3/b6-5-,9-8-</td>\n",
       "      <td>...</td>\n",
       "      <td>InChI=1S/C22H30O4/c1-3-4-5-6-7-8-9-10-11-12-13-14-15-16-18-21(24)19(23)17-20(26-2)22(18)25/h3,5-6,8-9,17,24H,1,4,7,10-16H2,2H3/b6-5-,9-8-</td>\n",
       "      <td>FGWRUVXUQWGLOX-AFJQJTPPSA-N</td>\n",
       "      <td>0</td>\n",
       "      <td>C22H30O4</td>\n",
       "      <td>358.214409</td>\n",
       "      <td>102040norm</td>\n",
       "      <td>sorgoleone</td>\n",
       "      <td>0.301184</td>\n",
       "      <td>1.301184</td>\n",
       "      <td>5</td>\n",
       "    </tr>\n",
       "  </tbody>\n",
       "</table>\n",
       "<p>3 rows × 21 columns</p>\n",
       "</div>"
      ],
      "text/plain": [
       "                                                                                                                                                                                                                                     standard_lcmsrun  \\\n",
       "0                /global/cfs/cdirs/metatlas/raw_data/jgi/20241021_JGI_HS_510060_SorghExu_final1_IQX_C18_USDAY92782/20241021_JGI_HS_510060_SorghExu_final1_IQX_C18_USDAY92782_POS_MS2_RefStd-1_Sorgoleone_1_Rg80to1200-CE205060norm-200uM-S1_Run383.h5   \n",
       "1  /global/cfs/cdirs/metatlas/raw_data/jgi/20241002_JGI_HS_510060_SorghExu_final1_EXP120B_HILICZ_USHXG02558/20241002_JGI_HS_510060_SorghExu_final1_EXP120B_HILICZ_USHXG02558_NEG_MS2_RefStd-1_Sorgoleone_1_Rg70to1050-CE102040norm-200uM-S1_Run377.h5   \n",
       "2  /global/cfs/cdirs/metatlas/raw_data/jgi/20241002_JGI_HS_510060_SorghExu_final1_EXP120B_HILICZ_USHXG02558/20241002_JGI_HS_510060_SorghExu_final1_EXP120B_HILICZ_USHXG02558_POS_MS2_RefStd-1_Sorgoleone_1_Rg70to1050-CE102040norm-200uM-S1_Run375.h5   \n",
       "\n",
       "  chromatography compound_name   adduct  polarity   rt_peak mz_theoretical  \\\n",
       "0            C18    sorgoleone  [M+Na]+  positive  7.544277     381.203627   \n",
       "1         HILICZ    sorgoleone   [M-H]-  negative  0.804263     357.207133   \n",
       "2         HILICZ    sorgoleone   [M+H]+  positive  0.801184     359.221685   \n",
       "\n",
       "                                          smiles peak_index  \\\n",
       "0  COC1=CC(=O)C(=C(C1=O)CCCCCCC/C=C\\C/C=C\\CC=C)O      peak1   \n",
       "1  COC1=CC(=O)C(=C(C1=O)CCCCCCC/C=C\\C/C=C\\CC=C)O      peak1   \n",
       "2  COC1=CC(=O)C(=C(C1=O)CCCCCCC/C=C\\C/C=C\\CC=C)O      peak1   \n",
       "\n",
       "                                                                                                                                       inchi  \\\n",
       "0  InChI=1S/C22H30O4/c1-3-4-5-6-7-8-9-10-11-12-13-14-15-16-18-21(24)19(23)17-20(26-2)22(18)25/h3,5-6,8-9,17,24H,1,4,7,10-16H2,2H3/b6-5-,9-8-   \n",
       "1  InChI=1S/C22H30O4/c1-3-4-5-6-7-8-9-10-11-12-13-14-15-16-18-21(24)19(23)17-20(26-2)22(18)25/h3,5-6,8-9,17,24H,1,4,7,10-16H2,2H3/b6-5-,9-8-   \n",
       "2  InChI=1S/C22H30O4/c1-3-4-5-6-7-8-9-10-11-12-13-14-15-16-18-21(24)19(23)17-20(26-2)22(18)25/h3,5-6,8-9,17,24H,1,4,7,10-16H2,2H3/b6-5-,9-8-   \n",
       "\n",
       "   ...  \\\n",
       "0  ...   \n",
       "1  ...   \n",
       "2  ...   \n",
       "\n",
       "                                                                                                                           neutralized_inchi  \\\n",
       "0  InChI=1S/C22H30O4/c1-3-4-5-6-7-8-9-10-11-12-13-14-15-16-18-21(24)19(23)17-20(26-2)22(18)25/h3,5-6,8-9,17,24H,1,4,7,10-16H2,2H3/b6-5-,9-8-   \n",
       "1  InChI=1S/C22H30O4/c1-3-4-5-6-7-8-9-10-11-12-13-14-15-16-18-21(24)19(23)17-20(26-2)22(18)25/h3,5-6,8-9,17,24H,1,4,7,10-16H2,2H3/b6-5-,9-8-   \n",
       "2  InChI=1S/C22H30O4/c1-3-4-5-6-7-8-9-10-11-12-13-14-15-16-18-21(24)19(23)17-20(26-2)22(18)25/h3,5-6,8-9,17,24H,1,4,7,10-16H2,2H3/b6-5-,9-8-   \n",
       "\n",
       "         neutralized_inchi_key permanent_charge   formula monoisotopic_mass  \\\n",
       "0  FGWRUVXUQWGLOX-AFJQJTPPSA-N                0  C22H30O4        358.214409   \n",
       "1  FGWRUVXUQWGLOX-AFJQJTPPSA-N                0  C22H30O4        358.214409   \n",
       "2  FGWRUVXUQWGLOX-AFJQJTPPSA-N                0  C22H30O4        358.214409   \n",
       "\n",
       "  collision_energy       label    rt_min    rt_max mz_tolerance  \n",
       "0       205060norm  sorgoleone  7.044277  8.044277            5  \n",
       "1       102040norm  sorgoleone  0.304263  1.304263            5  \n",
       "2       102040norm  sorgoleone  0.301184  1.301184            5  \n",
       "\n",
       "[3 rows x 21 columns]"
      ]
     },
     "metadata": {},
     "output_type": "display_data"
    }
   ],
   "source": [
    "matches_to_atlases, nonmatches_to_atlases = sta.search_for_matches_in_atlases(rt_peaks_filtered_top_adduct_formatted, ema_atlases)"
   ]
  },
  {
   "cell_type": "code",
   "execution_count": 16,
   "metadata": {},
   "outputs": [],
   "source": [
    "def get_qc_measured_atlas(nonmatches_to_atlases, current_atlases):\n",
    "    chromatographies = nonmatches_to_atlases['chromatography'].unique()\n",
    "\n",
    "    measured_qc = {}\n",
    "    baseline_qc = {}\n",
    "    combined_qc = {}\n",
    "\n",
    "    for chrom in chromatographies:\n",
    "        projects = nonmatches_to_atlases['standard_lcmsrun'].apply(os.path.dirname).unique()\n",
    "        project = [p for p in projects if chrom.lower() in os.path.basename(p).split('_')[7].lower()]\n",
    "        if len(project) == 1:\n",
    "            project = project[0]\n",
    "        elif len(project) == 0:\n",
    "            print(f\"Warning: no project found for {chrom}\")\n",
    "            continue\n",
    "        elif len(project) > 1:\n",
    "            print(f\"Warning: more than one project found for {chrom}: {project}\")\n",
    "            continue\n",
    "        print(f\"Getting raw QC files for {project}...\\n\")\n",
    "        qc_files = sta.get_qc_files(project, chrom)\n",
    "        \n",
    "        print(f\"Retrieving baseline {chrom} QC atlas...\\n\")\n",
    "        baseline_atlas_df = sta.atlas_id_to_df(current_atlases[chrom.lower()])\n",
    "        baseline_qc[chrom] = baseline_atlas_df\n",
    "\n",
    "        print(f\"Collecting QC MS1 data for {chrom}...\\n\")\n",
    "        ms1_summary = sta.collect_qc_ms1_data(baseline_atlas_df, qc_files=qc_files, polarity=\"pos\")\n",
    "        ms1_summary_median = ms1_summary.groupby('label', as_index=False).agg({'rt_peak': 'median'})\n",
    "        ms1_summary_median['rt_min'] = ms1_summary_median['rt_peak'] - 0.5\n",
    "        ms1_summary_median['rt_max'] = ms1_summary_median['rt_peak'] + 0.5\n",
    "        measured_qc[chrom] = ms1_summary_median\n",
    "\n",
    "        formatted = ms1_summary_median.copy()\n",
    "        formatted.rename(columns={'rt_peak': 'rt_peak_measured', 'rt_min': 'rt_min_measured', 'rt_max': 'rt_max_measured'}, inplace=True)\n",
    "        formatted = pd.merge(formatted, baseline_atlas_df[['label', 'rt_peak', 'rt_min', 'rt_max']], on='label', how='left')\n",
    "        formatted.rename(columns={'rt_peak': 'rt_peak_baseline', 'rt_min': 'rt_min_baseline', 'rt_max': 'rt_max_baseline'}, inplace=True)\n",
    "        combined_qc[chrom] = formatted\n",
    "\n",
    "    return baseline_qc, measured_qc, combined_qc"
   ]
  },
  {
   "cell_type": "code",
   "execution_count": null,
   "metadata": {},
   "outputs": [
    {
     "name": "stdout",
     "output_type": "stream",
     "text": [
      "Getting raw QC files for /global/cfs/cdirs/metatlas/raw_data/jgi/20241021_JGI_HS_510060_SorghExu_final1_IQX_C18_USDAY92782...\n",
      "\n",
      "Retrieving baseline C18 QC atlas...\n",
      "\n",
      "Collecting QC MS1 data for C18...\n",
      "\n"
     ]
    },
    {
     "data": {
      "application/vnd.jupyter.widget-view+json": {
       "model_id": "7cf050c067bf4bd484243dbe7e55425a",
       "version_major": 2,
       "version_minor": 0
      },
      "text/plain": [
       "  0%|          | 0/451 [00:00<?, ?file/s]"
      ]
     },
     "metadata": {},
     "output_type": "display_data"
    },
    {
     "name": "stdout",
     "output_type": "stream",
     "text": [
      "Getting raw QC files for /global/cfs/cdirs/metatlas/raw_data/jgi/20241002_JGI_HS_510060_SorghExu_final1_EXP120B_HILICZ_USHXG02558...\n",
      "\n",
      "Retrieving baseline HILICZ QC atlas...\n",
      "\n",
      "Collecting QC MS1 data for HILICZ...\n",
      "\n"
     ]
    },
    {
     "data": {
      "application/vnd.jupyter.widget-view+json": {
       "model_id": "3b5cc0d0765040bf8eaf277c61447c6e",
       "version_major": 2,
       "version_minor": 0
      },
      "text/plain": [
       "  0%|          | 0/437 [00:00<?, ?file/s]"
      ]
     },
     "metadata": {},
     "output_type": "display_data"
    }
   ],
   "source": [
    "current_qc_atlases = {\"hilicz\": '0e0a13a57c434b258bf8ab33ab357961',\n",
    "                    \"c18\": '20459fe5e4e14ab4a22168027b2bacda'}\n",
    "\n",
    "baseline_qc, measured_qc, combined_qc = get_qc_measured_atlas(nonmatches_to_atlases, current_qc_atlases)"
   ]
  },
  {
   "cell_type": "code",
   "execution_count": 40,
   "metadata": {},
   "outputs": [
    {
     "data": {
      "text/html": [
       "<div>\n",
       "<style scoped>\n",
       "    .dataframe tbody tr th:only-of-type {\n",
       "        vertical-align: middle;\n",
       "    }\n",
       "\n",
       "    .dataframe tbody tr th {\n",
       "        vertical-align: top;\n",
       "    }\n",
       "\n",
       "    .dataframe thead th {\n",
       "        text-align: right;\n",
       "    }\n",
       "</style>\n",
       "<table border=\"1\" class=\"dataframe\">\n",
       "  <thead>\n",
       "    <tr style=\"text-align: right;\">\n",
       "      <th></th>\n",
       "      <th>label</th>\n",
       "      <th>rt_peak_measured</th>\n",
       "      <th>rt_min_measured</th>\n",
       "      <th>rt_max_measured</th>\n",
       "      <th>rt_peak_baseline</th>\n",
       "      <th>rt_min_baseline</th>\n",
       "      <th>rt_max_baseline</th>\n",
       "    </tr>\n",
       "  </thead>\n",
       "  <tbody>\n",
       "    <tr>\n",
       "      <th>0</th>\n",
       "      <td>9-cis-retinoic acid</td>\n",
       "      <td>7.296129</td>\n",
       "      <td>6.796129</td>\n",
       "      <td>7.796129</td>\n",
       "      <td>7.372778</td>\n",
       "      <td>7.172778</td>\n",
       "      <td>7.572778</td>\n",
       "    </tr>\n",
       "    <tr>\n",
       "      <th>1</th>\n",
       "      <td>ABMBA (unlabeled)</td>\n",
       "      <td>4.591682</td>\n",
       "      <td>4.091682</td>\n",
       "      <td>5.091682</td>\n",
       "      <td>4.700000</td>\n",
       "      <td>4.500000</td>\n",
       "      <td>4.900000</td>\n",
       "    </tr>\n",
       "    <tr>\n",
       "      <th>2</th>\n",
       "      <td>caffeine</td>\n",
       "      <td>2.833037</td>\n",
       "      <td>2.333037</td>\n",
       "      <td>3.333037</td>\n",
       "      <td>2.652537</td>\n",
       "      <td>2.452537</td>\n",
       "      <td>2.852537</td>\n",
       "    </tr>\n",
       "    <tr>\n",
       "      <th>3</th>\n",
       "      <td>enoxolone</td>\n",
       "      <td>6.794633</td>\n",
       "      <td>6.294633</td>\n",
       "      <td>7.294633</td>\n",
       "      <td>6.605928</td>\n",
       "      <td>6.405928</td>\n",
       "      <td>6.805928</td>\n",
       "    </tr>\n",
       "    <tr>\n",
       "      <th>4</th>\n",
       "      <td>nigericin</td>\n",
       "      <td>8.749709</td>\n",
       "      <td>8.249709</td>\n",
       "      <td>9.249709</td>\n",
       "      <td>8.559813</td>\n",
       "      <td>8.359813</td>\n",
       "      <td>8.759813</td>\n",
       "    </tr>\n",
       "    <tr>\n",
       "      <th>5</th>\n",
       "      <td>sarsasapogenin</td>\n",
       "      <td>8.142401</td>\n",
       "      <td>7.642401</td>\n",
       "      <td>8.642401</td>\n",
       "      <td>8.155101</td>\n",
       "      <td>7.955101</td>\n",
       "      <td>8.355101</td>\n",
       "    </tr>\n",
       "  </tbody>\n",
       "</table>\n",
       "</div>"
      ],
      "text/plain": [
       "                 label  rt_peak_measured  rt_min_measured  rt_max_measured  \\\n",
       "0  9-cis-retinoic acid          7.296129         6.796129         7.796129   \n",
       "1    ABMBA (unlabeled)          4.591682         4.091682         5.091682   \n",
       "2             caffeine          2.833037         2.333037         3.333037   \n",
       "3            enoxolone          6.794633         6.294633         7.294633   \n",
       "4            nigericin          8.749709         8.249709         9.249709   \n",
       "5       sarsasapogenin          8.142401         7.642401         8.642401   \n",
       "\n",
       "   rt_peak_baseline  rt_min_baseline  rt_max_baseline  \n",
       "0          7.372778         7.172778         7.572778  \n",
       "1          4.700000         4.500000         4.900000  \n",
       "2          2.652537         2.452537         2.852537  \n",
       "3          6.605928         6.405928         6.805928  \n",
       "4          8.559813         8.359813         8.759813  \n",
       "5          8.155101         7.955101         8.355101  "
      ]
     },
     "execution_count": 40,
     "metadata": {},
     "output_type": "execute_result"
    }
   ],
   "source": [
    "combined_qc['C18']"
   ]
  },
  {
   "cell_type": "code",
   "execution_count": 41,
   "metadata": {},
   "outputs": [
    {
     "data": {
      "text/html": [
       "<div>\n",
       "<style scoped>\n",
       "    .dataframe tbody tr th:only-of-type {\n",
       "        vertical-align: middle;\n",
       "    }\n",
       "\n",
       "    .dataframe tbody tr th {\n",
       "        vertical-align: top;\n",
       "    }\n",
       "\n",
       "    .dataframe thead th {\n",
       "        text-align: right;\n",
       "    }\n",
       "</style>\n",
       "<table border=\"1\" class=\"dataframe\">\n",
       "  <thead>\n",
       "    <tr style=\"text-align: right;\">\n",
       "      <th></th>\n",
       "      <th>label</th>\n",
       "      <th>rt_peak_measured</th>\n",
       "      <th>rt_min_measured</th>\n",
       "      <th>rt_max_measured</th>\n",
       "      <th>rt_peak_baseline</th>\n",
       "      <th>rt_min_baseline</th>\n",
       "      <th>rt_max_baseline</th>\n",
       "    </tr>\n",
       "  </thead>\n",
       "  <tbody>\n",
       "    <tr>\n",
       "      <th>0</th>\n",
       "      <td>N-acetyl-glucosamine (U - 13C)</td>\n",
       "      <td>6.557076</td>\n",
       "      <td>6.057076</td>\n",
       "      <td>7.057076</td>\n",
       "      <td>6.707815</td>\n",
       "      <td>6.407815</td>\n",
       "      <td>7.007815</td>\n",
       "    </tr>\n",
       "    <tr>\n",
       "      <th>1</th>\n",
       "      <td>adenine (U - 15N)</td>\n",
       "      <td>2.817952</td>\n",
       "      <td>2.317952</td>\n",
       "      <td>3.317952</td>\n",
       "      <td>2.557602</td>\n",
       "      <td>2.257602</td>\n",
       "      <td>2.857602</td>\n",
       "    </tr>\n",
       "    <tr>\n",
       "      <th>2</th>\n",
       "      <td>alanine (U - 13C, 15N)</td>\n",
       "      <td>13.331715</td>\n",
       "      <td>12.831715</td>\n",
       "      <td>13.831715</td>\n",
       "      <td>13.405091</td>\n",
       "      <td>13.105091</td>\n",
       "      <td>13.705091</td>\n",
       "    </tr>\n",
       "    <tr>\n",
       "      <th>3</th>\n",
       "      <td>arginine (U - 13C, 15N)</td>\n",
       "      <td>17.012125</td>\n",
       "      <td>16.512125</td>\n",
       "      <td>17.512125</td>\n",
       "      <td>16.939915</td>\n",
       "      <td>16.639915</td>\n",
       "      <td>17.239915</td>\n",
       "    </tr>\n",
       "    <tr>\n",
       "      <th>4</th>\n",
       "      <td>asparagine (U - 13C, 15N)</td>\n",
       "      <td>14.388398</td>\n",
       "      <td>13.888398</td>\n",
       "      <td>14.888398</td>\n",
       "      <td>14.368089</td>\n",
       "      <td>14.068089</td>\n",
       "      <td>14.668089</td>\n",
       "    </tr>\n",
       "    <tr>\n",
       "      <th>5</th>\n",
       "      <td>aspartic acid (U - 13C, 15N)</td>\n",
       "      <td>16.020525</td>\n",
       "      <td>15.520525</td>\n",
       "      <td>16.520525</td>\n",
       "      <td>16.130360</td>\n",
       "      <td>15.830360</td>\n",
       "      <td>16.430360</td>\n",
       "    </tr>\n",
       "    <tr>\n",
       "      <th>6</th>\n",
       "      <td>cystine (U - 13C, 15N)</td>\n",
       "      <td>16.947710</td>\n",
       "      <td>16.447710</td>\n",
       "      <td>17.447710</td>\n",
       "      <td>16.904308</td>\n",
       "      <td>16.604308</td>\n",
       "      <td>17.204308</td>\n",
       "    </tr>\n",
       "    <tr>\n",
       "      <th>7</th>\n",
       "      <td>glutamic acid (U - 13C, 15N)</td>\n",
       "      <td>15.842234</td>\n",
       "      <td>15.342234</td>\n",
       "      <td>16.342234</td>\n",
       "      <td>15.935390</td>\n",
       "      <td>15.635390</td>\n",
       "      <td>16.235390</td>\n",
       "    </tr>\n",
       "    <tr>\n",
       "      <th>8</th>\n",
       "      <td>guanine (U - 15N)</td>\n",
       "      <td>6.129878</td>\n",
       "      <td>5.629878</td>\n",
       "      <td>6.629878</td>\n",
       "      <td>6.265360</td>\n",
       "      <td>5.965360</td>\n",
       "      <td>6.565360</td>\n",
       "    </tr>\n",
       "    <tr>\n",
       "      <th>9</th>\n",
       "      <td>hypoxanthine (U - 15N)</td>\n",
       "      <td>3.402596</td>\n",
       "      <td>2.902596</td>\n",
       "      <td>3.902596</td>\n",
       "      <td>3.102967</td>\n",
       "      <td>2.802967</td>\n",
       "      <td>3.402967</td>\n",
       "    </tr>\n",
       "    <tr>\n",
       "      <th>10</th>\n",
       "      <td>lysine (U - 13C, 15N)</td>\n",
       "      <td>17.092978</td>\n",
       "      <td>16.592978</td>\n",
       "      <td>17.592978</td>\n",
       "      <td>17.011310</td>\n",
       "      <td>16.711310</td>\n",
       "      <td>17.311310</td>\n",
       "    </tr>\n",
       "    <tr>\n",
       "      <th>11</th>\n",
       "      <td>methionine (U - 13C, 15N)</td>\n",
       "      <td>10.266962</td>\n",
       "      <td>9.766962</td>\n",
       "      <td>10.766962</td>\n",
       "      <td>10.440955</td>\n",
       "      <td>10.140955</td>\n",
       "      <td>10.740955</td>\n",
       "    </tr>\n",
       "    <tr>\n",
       "      <th>12</th>\n",
       "      <td>phenylalanine (U - 13C, 15N)</td>\n",
       "      <td>8.908382</td>\n",
       "      <td>8.408382</td>\n",
       "      <td>9.408382</td>\n",
       "      <td>8.979306</td>\n",
       "      <td>8.679306</td>\n",
       "      <td>9.279306</td>\n",
       "    </tr>\n",
       "    <tr>\n",
       "      <th>13</th>\n",
       "      <td>threonine (U - 13C, 15N)</td>\n",
       "      <td>13.422815</td>\n",
       "      <td>12.922815</td>\n",
       "      <td>13.922815</td>\n",
       "      <td>13.489572</td>\n",
       "      <td>13.189572</td>\n",
       "      <td>13.789572</td>\n",
       "    </tr>\n",
       "    <tr>\n",
       "      <th>14</th>\n",
       "      <td>thymine (U - 13C, 15N)</td>\n",
       "      <td>1.292448</td>\n",
       "      <td>0.792448</td>\n",
       "      <td>1.792448</td>\n",
       "      <td>1.255231</td>\n",
       "      <td>0.955231</td>\n",
       "      <td>1.555231</td>\n",
       "    </tr>\n",
       "    <tr>\n",
       "      <th>15</th>\n",
       "      <td>tryptophan (U - 13C, 15N)</td>\n",
       "      <td>10.422268</td>\n",
       "      <td>9.922268</td>\n",
       "      <td>10.922268</td>\n",
       "      <td>10.156649</td>\n",
       "      <td>9.856649</td>\n",
       "      <td>10.456649</td>\n",
       "    </tr>\n",
       "    <tr>\n",
       "      <th>16</th>\n",
       "      <td>valine (U - 13C, 15N)</td>\n",
       "      <td>10.831545</td>\n",
       "      <td>10.331545</td>\n",
       "      <td>11.331545</td>\n",
       "      <td>11.116009</td>\n",
       "      <td>10.816009</td>\n",
       "      <td>11.416009</td>\n",
       "    </tr>\n",
       "  </tbody>\n",
       "</table>\n",
       "</div>"
      ],
      "text/plain": [
       "                             label  rt_peak_measured  rt_min_measured  \\\n",
       "0   N-acetyl-glucosamine (U - 13C)          6.557076         6.057076   \n",
       "1                adenine (U - 15N)          2.817952         2.317952   \n",
       "2           alanine (U - 13C, 15N)         13.331715        12.831715   \n",
       "3          arginine (U - 13C, 15N)         17.012125        16.512125   \n",
       "4        asparagine (U - 13C, 15N)         14.388398        13.888398   \n",
       "5     aspartic acid (U - 13C, 15N)         16.020525        15.520525   \n",
       "6           cystine (U - 13C, 15N)         16.947710        16.447710   \n",
       "7     glutamic acid (U - 13C, 15N)         15.842234        15.342234   \n",
       "8                guanine (U - 15N)          6.129878         5.629878   \n",
       "9           hypoxanthine (U - 15N)          3.402596         2.902596   \n",
       "10           lysine (U - 13C, 15N)         17.092978        16.592978   \n",
       "11       methionine (U - 13C, 15N)         10.266962         9.766962   \n",
       "12    phenylalanine (U - 13C, 15N)          8.908382         8.408382   \n",
       "13        threonine (U - 13C, 15N)         13.422815        12.922815   \n",
       "14          thymine (U - 13C, 15N)          1.292448         0.792448   \n",
       "15       tryptophan (U - 13C, 15N)         10.422268         9.922268   \n",
       "16           valine (U - 13C, 15N)         10.831545        10.331545   \n",
       "\n",
       "    rt_max_measured  rt_peak_baseline  rt_min_baseline  rt_max_baseline  \n",
       "0          7.057076          6.707815         6.407815         7.007815  \n",
       "1          3.317952          2.557602         2.257602         2.857602  \n",
       "2         13.831715         13.405091        13.105091        13.705091  \n",
       "3         17.512125         16.939915        16.639915        17.239915  \n",
       "4         14.888398         14.368089        14.068089        14.668089  \n",
       "5         16.520525         16.130360        15.830360        16.430360  \n",
       "6         17.447710         16.904308        16.604308        17.204308  \n",
       "7         16.342234         15.935390        15.635390        16.235390  \n",
       "8          6.629878          6.265360         5.965360         6.565360  \n",
       "9          3.902596          3.102967         2.802967         3.402967  \n",
       "10        17.592978         17.011310        16.711310        17.311310  \n",
       "11        10.766962         10.440955        10.140955        10.740955  \n",
       "12         9.408382          8.979306         8.679306         9.279306  \n",
       "13        13.922815         13.489572        13.189572        13.789572  \n",
       "14         1.792448          1.255231         0.955231         1.555231  \n",
       "15        10.922268         10.156649         9.856649        10.456649  \n",
       "16        11.331545         11.116009        10.816009        11.416009  "
      ]
     },
     "execution_count": 41,
     "metadata": {},
     "output_type": "execute_result"
    }
   ],
   "source": [
    "combined_qc['HILICZ']"
   ]
  },
  {
   "cell_type": "markdown",
   "metadata": {},
   "source": [
    "# Store selected compound/adduct in metatlas atlases"
   ]
  },
  {
   "cell_type": "code",
   "execution_count": null,
   "metadata": {},
   "outputs": [],
   "source": [
    "# TO DO (maybe by hand?)\n",
    "# RT correction here first"
   ]
  },
  {
   "cell_type": "markdown",
   "metadata": {},
   "source": [
    "# Check if selected compounds/adducts are in MSMS refs"
   ]
  },
  {
   "cell_type": "code",
   "execution_count": null,
   "metadata": {},
   "outputs": [],
   "source": [
    "existing_msms_refs_path = '/global/cfs/cdirs/metatlas/projects/spectral_libraries/20240430_istdv7-addition_msms_refs.tab'\n",
    "msms_refs = sta.get_msms_refs(msms_refs_path=existing_msms_refs_path)\n",
    "msms_refs.shape"
   ]
  },
  {
   "cell_type": "code",
   "execution_count": null,
   "metadata": {},
   "outputs": [],
   "source": [
    "in_msms_refs, notin_msms_refs = sta.search_for_matches_in_msms_refs(rt_peaks_filtered_top_adduct_formatted, msms_refs, check_by_flat=True)"
   ]
  },
  {
   "cell_type": "code",
   "execution_count": null,
   "metadata": {},
   "outputs": [],
   "source": [
    "rt_peaks_filtered_with_top_spectra = sta.merge_selected_peaks_with_top_spectra(notin_msms_refs, top_spectra_filtered)"
   ]
  },
  {
   "cell_type": "code",
   "execution_count": null,
   "metadata": {},
   "outputs": [],
   "source": [
    "rt_peaks_filtered_with_top_spectra_formatted = sta.format_for_msms_refs(rt_peaks_filtered_with_top_spectra, msms_refs)"
   ]
  },
  {
   "cell_type": "markdown",
   "metadata": {},
   "source": [
    "# Store selected compound/adduct in MSMS refs"
   ]
  },
  {
   "cell_type": "code",
   "execution_count": null,
   "metadata": {},
   "outputs": [],
   "source": [
    "# Combine existing and new MSMS refs\n",
    "new_msms_refs = pd.concat([msms_refs, rt_peaks_filtered_with_top_spectra_formatted])\n",
    "print(f\"Existing MSMS refs: {msms_refs.shape}\")\n",
    "print(f\"New MSMS refs: {new_msms_refs.shape}\")\n",
    "if new_msms_refs.shape[0] != msms_refs.shape[0] + rt_peaks_filtered_with_top_spectra_formatted.shape[0]:\n",
    "    print(\"Warning! Some new MSMS refs may not have been added correctly.\")"
   ]
  },
  {
   "cell_type": "code",
   "execution_count": null,
   "metadata": {},
   "outputs": [],
   "source": [
    "# Export new MSMS refs file\n",
    "new_msms_refs_dir = os.path.dirname(existing_msms_refs_path)\n",
    "new_msms_refs_fname = f\"{datetime.now().strftime('%Y%m%d')}_msms_refs.tab\"\n",
    "if os.path.exists(os.path.join(new_msms_refs_dir, new_msms_refs_fname)):\n",
    "    print(f\"Warning! {new_msms_refs_fname} already exists! Not overwriting.\")\n",
    "else:\n",
    "    new_msms_refs.to_csv(os.path.join(new_msms_refs_dir, new_msms_refs_fname), sep='\\t')"
   ]
  },
  {
   "cell_type": "markdown",
   "metadata": {},
   "source": [
    "# Check to verify that compounds were added to database, atlases, and refs correctly"
   ]
  },
  {
   "cell_type": "code",
   "execution_count": null,
   "metadata": {},
   "outputs": [],
   "source": [
    "# TO DO: Add a checker"
   ]
  }
 ],
 "metadata": {
  "kernelspec": {
   "display_name": "metatlas",
   "language": "python",
   "name": "python3"
  },
  "language_info": {
   "codemirror_mode": {
    "name": "ipython",
    "version": 3
   },
   "file_extension": ".py",
   "mimetype": "text/x-python",
   "name": "python",
   "nbconvert_exporter": "python",
   "pygments_lexer": "ipython3",
   "version": "3.11.8"
  }
 },
 "nbformat": 4,
 "nbformat_minor": 2
}
