{
 "cells": [
  {
   "cell_type": "code",
   "execution_count": 1,
   "metadata": {},
   "outputs": [],
   "source": [
    "import numpy as np\n",
    "import pandas as pd\n",
    "import sys\n",
    "from datetime import datetime\n",
    "import os\n",
    "from IPython.display import display\n",
    "\n",
    "sys.path.insert(1, '/global/homes/b/bkieft/metatlas')\n",
    "import notebooks.standards_library.standard_annotation as sta\n",
    "pd.options.display.max_colwidth = 300\n",
    "\n",
    "current_time = datetime.now().strftime(\"%Y%m%d%H%M%S\")"
   ]
  },
  {
   "cell_type": "markdown",
   "metadata": {},
   "source": [
    "# Enter Reference Standard information"
   ]
  },
  {
   "cell_type": "code",
   "execution_count": 2,
   "metadata": {},
   "outputs": [],
   "source": [
    "ppm_tolerance = 5\n",
    "include_polarities = ['POS', 'NEG']\n",
    "include_chromatographies = ['C18', 'HILIC'] # 'C18' and/or 'HILIC'\n",
    "include_adducts = ['[M+H]+', '[M+Na]+', '[M-H2O+H]+', '[M+K]+', '[M+NH4]+', '[M]+', '[M+2H]2+','[M-H]-', '[M+Cl]-', '[M]-', '[M-2H]2-']\n",
    "\n",
    "path_to_standards_file = '/global/homes/b/bkieft/metabolomics_standards_annotation/standard_library_annotation'\n",
    "standards_file = 'scheller_test.csv' # scheller_test.csv   metasci_flav_annotation_input.csv\n",
    "standards_info_path = f'{path_to_standards_file}/{standards_file}'\n",
    "input_compounds = pd.read_csv(standards_info_path)\n",
    "\n",
    "current_ema_atlases = {\"hilicz\": {\"pos\": '/global/homes/b/bkieft/metatlas-data/HILIC/HILIC_EMA-standards_positive.tsv',\n",
    "                                  \"neg\": '/global/homes/b/bkieft/metatlas-data/HILIC/HILIC_EMA-standards_negative.tsv'},\n",
    "                        \"c18\": {\"pos\": '/global/homes/b/bkieft/metatlas-data/C18/C18_EMA-standards_positive.tsv',\n",
    "                                  \"neg\": '/global/homes/b/bkieft/metatlas-data/C18/C18_EMA-standards_negative.tsv'}}\n",
    "current_qc_atlases = {\"hilicz\": '/global/homes/b/bkieft/metatlas-data/HILIC/HILIC_QCv7_positive.tsv', # 0e0a13a57c434b258bf8ab33ab357961\n",
    "                    \"c18\": '/global/homes/b/bkieft/metatlas-data/C18/C18_QCv7_positive.tsv'} # 20459fe5e4e14ab4a22168027b2bacda\n",
    "\n",
    "current_msms_refs_path = '/global/cfs/cdirs/metatlas/projects/spectral_libraries/20240430_istdv7-addition_msms_refs.tab'\n",
    "\n",
    "new_full_data = False\n",
    "new_selected_data = True\n",
    "new_filtered_data = True\n",
    "new_rt_correction_data = True"
   ]
  },
  {
   "cell_type": "markdown",
   "metadata": {},
   "source": [
    "# Get EIC and Spectra information from run table"
   ]
  },
  {
   "cell_type": "code",
   "execution_count": 3,
   "metadata": {},
   "outputs": [],
   "source": [
    "if new_full_data is True:\n",
    "    standard_lcmsruns_table = sta.build_standard_lcmsrun_table(standards_info_path, include_polarities=include_polarities, include_chromatographies=include_chromatographies)\n",
    "    standard_lcmsruns_table_with_adducts = sta.build_adduct_annotated_table(standard_lcmsruns_table, include_adducts=include_adducts)\n",
    "    eics_full, top_spectra_full, group_names_full, rt_peaks_full, atlas_full = sta.extract_data(lcmsruns_table=standard_lcmsruns_table_with_adducts,\n",
    "                                                                                                            ppm_tolerance=ppm_tolerance,\n",
    "                                                                                                            method=\"find_peaks\")\n",
    "    runnum_to_structure_image_grid = sta.generate_gridded_molecular_images(standard_lcmsruns_table_with_adducts)"
   ]
  },
  {
   "cell_type": "markdown",
   "metadata": {},
   "source": [
    "# Save and/or read full data"
   ]
  },
  {
   "cell_type": "code",
   "execution_count": 4,
   "metadata": {},
   "outputs": [
    {
     "name": "stdout",
     "output_type": "stream",
     "text": [
      "Loading most recent pkl file: /global/homes/b/bkieft/metabolomics_standards_annotation/standard_library_annotation/scheller_test_20250422133530_ref_stds_data_full.pkl\n"
     ]
    }
   ],
   "source": [
    "if new_full_data is True:\n",
    "    sta.save_full_data(eics_full, top_spectra_full, group_names_full, rt_peaks_full, atlas_full, runnum_to_structure_image_grid, standards_info_path, current_time)\n",
    "    \n",
    "elif new_full_data is False:\n",
    "    eics_full, top_spectra_full, group_names_full, rt_peaks_full, atlas_full, runnum_to_structure_image_grid = sta.load_full_data(standards_info_path)"
   ]
  },
  {
   "cell_type": "markdown",
   "metadata": {},
   "source": [
    "# Create interactive plot and choose adducts"
   ]
  },
  {
   "cell_type": "code",
   "execution_count": 5,
   "metadata": {},
   "outputs": [
    {
     "data": {
      "application/vnd.jupyter.widget-view+json": {
       "model_id": "7fc98ab8f3904b95b6109b3e874c6e32",
       "version_major": 2,
       "version_minor": 0
      },
      "text/plain": [
       "VBox(children=(HBox(children=(VBox(children=(Label(value='Select all good adducts:'), Checkbox(value=False, de…"
      ]
     },
     "metadata": {},
     "output_type": "display_data"
    },
    {
     "data": {
      "application/vnd.jupyter.widget-view+json": {
       "model_id": "847e0bae33504e94906e234cabed322a",
       "version_major": 2,
       "version_minor": 0
      },
      "text/plain": [
       "Output()"
      ]
     },
     "metadata": {},
     "output_type": "display_data"
    }
   ],
   "source": [
    "if new_selected_data is True:\n",
    "    processed_data = sta.process_data_for_plotting(eics_full, top_spectra_full, group_names_full, rt_peaks_full, include_adducts)\n",
    "    processed_data = [\n",
    "        entry for entry in processed_data\n",
    "        if entry.get('compound_name') == \"sorgoleone\"\n",
    "    ]\n",
    "\n",
    "    selected_good_adducts = {}\n",
    "    ambiguous_adducts = {}\n",
    "    top_adducts = {}\n",
    "    sta.create_interactive_plots(processed_data, runnum_to_structure_image_grid, selected_good_adducts, ambiguous_adducts, top_adducts)"
   ]
  },
  {
   "cell_type": "markdown",
   "metadata": {},
   "source": [
    "# Save and/or read selected data"
   ]
  },
  {
   "cell_type": "code",
   "execution_count": 9,
   "metadata": {},
   "outputs": [
    {
     "name": "stdout",
     "output_type": "stream",
     "text": [
      "Saving data to: /global/homes/b/bkieft/metabolomics_standards_annotation/standard_library_annotation/scheller_test_20250425163322_ref_stds_data_selected.pkl\n"
     ]
    }
   ],
   "source": [
    "if new_selected_data is True:\n",
    "    sta.save_selected_data(selected_good_adducts, ambiguous_adducts, standards_info_path, current_time)\n",
    "    \n",
    "elif new_selected_data is False:\n",
    "    selected_good_adducts, ambiguous_adducts = sta.load_selected_data(standards_info_path)"
   ]
  },
  {
   "cell_type": "markdown",
   "metadata": {},
   "source": [
    "# Preview compounds+adducts selections"
   ]
  },
  {
   "cell_type": "code",
   "execution_count": 10,
   "metadata": {},
   "outputs": [
    {
     "name": "stdout",
     "output_type": "stream",
     "text": [
      "Selected compounds:\n",
      "\n"
     ]
    },
    {
     "data": {
      "text/html": [
       "<div>\n",
       "<style scoped>\n",
       "    .dataframe tbody tr th:only-of-type {\n",
       "        vertical-align: middle;\n",
       "    }\n",
       "\n",
       "    .dataframe tbody tr th {\n",
       "        vertical-align: top;\n",
       "    }\n",
       "\n",
       "    .dataframe thead th {\n",
       "        text-align: right;\n",
       "    }\n",
       "</style>\n",
       "<table border=\"1\" class=\"dataframe\">\n",
       "  <thead>\n",
       "    <tr style=\"text-align: right;\">\n",
       "      <th></th>\n",
       "      <th>compound_name</th>\n",
       "      <th>standard_lcmsrun</th>\n",
       "      <th>selected_adducts</th>\n",
       "      <th>selected_peak_indices</th>\n",
       "    </tr>\n",
       "  </thead>\n",
       "  <tbody>\n",
       "    <tr>\n",
       "      <th>0</th>\n",
       "      <td>sorgoleone</td>\n",
       "      <td>/global/cfs/cdirs/metatlas/raw_data/jgi/20241002_JGI_HS_510060_SorghExu_final1_EXP120B_HILICZ_USHXG02558/20241002_JGI_HS_510060_SorghExu_final1_EXP120B_HILICZ_USHXG02558_POS_MS2_RefStd-1_Sorgoleone_1_Rg70to1050-CE102040norm-200uM-S1_Run375.h5</td>\n",
       "      <td>[[M+H]+, [M+NH4]+]</td>\n",
       "      <td>[peak1, peak1]</td>\n",
       "    </tr>\n",
       "    <tr>\n",
       "      <th>1</th>\n",
       "      <td>sorgoleone</td>\n",
       "      <td>/global/cfs/cdirs/metatlas/raw_data/jgi/20241002_JGI_HS_510060_SorghExu_final1_EXP120B_HILICZ_USHXG02558/20241002_JGI_HS_510060_SorghExu_final1_EXP120B_HILICZ_USHXG02558_POS_MS2_RefStd-1_Sorgoleone_1_Rg70to1050-CE205060norm-200uM-S1_Run376.h5</td>\n",
       "      <td>[[M+H]+, [M+NH4]+]</td>\n",
       "      <td>[peak1, peak1]</td>\n",
       "    </tr>\n",
       "    <tr>\n",
       "      <th>2</th>\n",
       "      <td>sorgoleone</td>\n",
       "      <td>/global/cfs/cdirs/metatlas/raw_data/jgi/20241002_JGI_HS_510060_SorghExu_final1_EXP120B_HILICZ_USHXG02558/20241002_JGI_HS_510060_SorghExu_final1_EXP120B_HILICZ_USHXG02558_NEG_MS2_RefStd-1_Sorgoleone_1_Rg70to1050-CE102040norm-200uM-S1_Run377.h5</td>\n",
       "      <td>[[M-H]-]</td>\n",
       "      <td>[peak1]</td>\n",
       "    </tr>\n",
       "    <tr>\n",
       "      <th>3</th>\n",
       "      <td>sorgoleone</td>\n",
       "      <td>/global/cfs/cdirs/metatlas/raw_data/jgi/20241002_JGI_HS_510060_SorghExu_final1_EXP120B_HILICZ_USHXG02558/20241002_JGI_HS_510060_SorghExu_final1_EXP120B_HILICZ_USHXG02558_NEG_MS2_RefStd-1_Sorgoleone_1_Rg70to1050-CE205060norm-200uM-S1_Run378.h5</td>\n",
       "      <td>[[M-H]-]</td>\n",
       "      <td>[peak1]</td>\n",
       "    </tr>\n",
       "    <tr>\n",
       "      <th>4</th>\n",
       "      <td>sorgoleone</td>\n",
       "      <td>/global/cfs/cdirs/metatlas/raw_data/jgi/20241021_JGI_HS_510060_SorghExu_final1_IQX_C18_USDAY92782/20241021_JGI_HS_510060_SorghExu_final1_IQX_C18_USDAY92782_POS_MS2_RefStd-1_Sorgoleone_1_Rg80to1200-CE102040norm-200uM-S1_Run382.h5</td>\n",
       "      <td>[[M+Na]+, [M+H]+]</td>\n",
       "      <td>[peak1, peak1]</td>\n",
       "    </tr>\n",
       "    <tr>\n",
       "      <th>5</th>\n",
       "      <td>sorgoleone</td>\n",
       "      <td>/global/cfs/cdirs/metatlas/raw_data/jgi/20241021_JGI_HS_510060_SorghExu_final1_IQX_C18_USDAY92782/20241021_JGI_HS_510060_SorghExu_final1_IQX_C18_USDAY92782_POS_MS2_RefStd-1_Sorgoleone_1_Rg80to1200-CE205060norm-200uM-S1_Run383.h5</td>\n",
       "      <td>[[M+Na]+, [M+H]+]</td>\n",
       "      <td>[peak1, peak1]</td>\n",
       "    </tr>\n",
       "  </tbody>\n",
       "</table>\n",
       "</div>"
      ],
      "text/plain": [
       "  compound_name  \\\n",
       "0    sorgoleone   \n",
       "1    sorgoleone   \n",
       "2    sorgoleone   \n",
       "3    sorgoleone   \n",
       "4    sorgoleone   \n",
       "5    sorgoleone   \n",
       "\n",
       "                                                                                                                                                                                                                                     standard_lcmsrun  \\\n",
       "0  /global/cfs/cdirs/metatlas/raw_data/jgi/20241002_JGI_HS_510060_SorghExu_final1_EXP120B_HILICZ_USHXG02558/20241002_JGI_HS_510060_SorghExu_final1_EXP120B_HILICZ_USHXG02558_POS_MS2_RefStd-1_Sorgoleone_1_Rg70to1050-CE102040norm-200uM-S1_Run375.h5   \n",
       "1  /global/cfs/cdirs/metatlas/raw_data/jgi/20241002_JGI_HS_510060_SorghExu_final1_EXP120B_HILICZ_USHXG02558/20241002_JGI_HS_510060_SorghExu_final1_EXP120B_HILICZ_USHXG02558_POS_MS2_RefStd-1_Sorgoleone_1_Rg70to1050-CE205060norm-200uM-S1_Run376.h5   \n",
       "2  /global/cfs/cdirs/metatlas/raw_data/jgi/20241002_JGI_HS_510060_SorghExu_final1_EXP120B_HILICZ_USHXG02558/20241002_JGI_HS_510060_SorghExu_final1_EXP120B_HILICZ_USHXG02558_NEG_MS2_RefStd-1_Sorgoleone_1_Rg70to1050-CE102040norm-200uM-S1_Run377.h5   \n",
       "3  /global/cfs/cdirs/metatlas/raw_data/jgi/20241002_JGI_HS_510060_SorghExu_final1_EXP120B_HILICZ_USHXG02558/20241002_JGI_HS_510060_SorghExu_final1_EXP120B_HILICZ_USHXG02558_NEG_MS2_RefStd-1_Sorgoleone_1_Rg70to1050-CE205060norm-200uM-S1_Run378.h5   \n",
       "4                /global/cfs/cdirs/metatlas/raw_data/jgi/20241021_JGI_HS_510060_SorghExu_final1_IQX_C18_USDAY92782/20241021_JGI_HS_510060_SorghExu_final1_IQX_C18_USDAY92782_POS_MS2_RefStd-1_Sorgoleone_1_Rg80to1200-CE102040norm-200uM-S1_Run382.h5   \n",
       "5                /global/cfs/cdirs/metatlas/raw_data/jgi/20241021_JGI_HS_510060_SorghExu_final1_IQX_C18_USDAY92782/20241021_JGI_HS_510060_SorghExu_final1_IQX_C18_USDAY92782_POS_MS2_RefStd-1_Sorgoleone_1_Rg80to1200-CE205060norm-200uM-S1_Run383.h5   \n",
       "\n",
       "     selected_adducts selected_peak_indices  \n",
       "0  [[M+H]+, [M+NH4]+]        [peak1, peak1]  \n",
       "1  [[M+H]+, [M+NH4]+]        [peak1, peak1]  \n",
       "2            [[M-H]-]               [peak1]  \n",
       "3            [[M-H]-]               [peak1]  \n",
       "4   [[M+Na]+, [M+H]+]        [peak1, peak1]  \n",
       "5   [[M+Na]+, [M+H]+]        [peak1, peak1]  "
      ]
     },
     "metadata": {},
     "output_type": "display_data"
    },
    {
     "name": "stdout",
     "output_type": "stream",
     "text": [
      "\n",
      "Ambiguous compounds (to return to for scrutiny):\n",
      "\n"
     ]
    },
    {
     "data": {
      "text/html": [
       "<div>\n",
       "<style scoped>\n",
       "    .dataframe tbody tr th:only-of-type {\n",
       "        vertical-align: middle;\n",
       "    }\n",
       "\n",
       "    .dataframe tbody tr th {\n",
       "        vertical-align: top;\n",
       "    }\n",
       "\n",
       "    .dataframe thead th {\n",
       "        text-align: right;\n",
       "    }\n",
       "</style>\n",
       "<table border=\"1\" class=\"dataframe\">\n",
       "  <thead>\n",
       "    <tr style=\"text-align: right;\">\n",
       "      <th></th>\n",
       "      <th>compound_name</th>\n",
       "      <th>standard_lcmsrun</th>\n",
       "    </tr>\n",
       "  </thead>\n",
       "  <tbody>\n",
       "    <tr>\n",
       "      <th>0</th>\n",
       "      <td>sorgoleone</td>\n",
       "      <td>/global/cfs/cdirs/metatlas/raw_data/jgi/20241021_JGI_HS_510060_SorghExu_final1_IQX_C18_USDAY92782/20241021_JGI_HS_510060_SorghExu_final1_IQX_C18_USDAY92782_NEG_MS2_RefStd-1_Sorgoleone_1_Rg80to1200-CE102040norm-200uM-S1_Run384.h5</td>\n",
       "    </tr>\n",
       "    <tr>\n",
       "      <th>1</th>\n",
       "      <td>sorgoleone</td>\n",
       "      <td>/global/cfs/cdirs/metatlas/raw_data/jgi/20241021_JGI_HS_510060_SorghExu_final1_IQX_C18_USDAY92782/20241021_JGI_HS_510060_SorghExu_final1_IQX_C18_USDAY92782_NEG_MS2_RefStd-1_Sorgoleone_1_Rg80to1200-CE205060norm-200uM-S1_Run385.h5</td>\n",
       "    </tr>\n",
       "  </tbody>\n",
       "</table>\n",
       "</div>"
      ],
      "text/plain": [
       "  compound_name  \\\n",
       "0    sorgoleone   \n",
       "1    sorgoleone   \n",
       "\n",
       "                                                                                                                                                                                                                       standard_lcmsrun  \n",
       "0  /global/cfs/cdirs/metatlas/raw_data/jgi/20241021_JGI_HS_510060_SorghExu_final1_IQX_C18_USDAY92782/20241021_JGI_HS_510060_SorghExu_final1_IQX_C18_USDAY92782_NEG_MS2_RefStd-1_Sorgoleone_1_Rg80to1200-CE102040norm-200uM-S1_Run384.h5  \n",
       "1  /global/cfs/cdirs/metatlas/raw_data/jgi/20241021_JGI_HS_510060_SorghExu_final1_IQX_C18_USDAY92782/20241021_JGI_HS_510060_SorghExu_final1_IQX_C18_USDAY92782_NEG_MS2_RefStd-1_Sorgoleone_1_Rg80to1200-CE205060norm-200uM-S1_Run385.h5  "
      ]
     },
     "metadata": {},
     "output_type": "display_data"
    }
   ],
   "source": [
    "selected_compounds_table = sta.extract_selected_compounds(selected_good_adducts)\n",
    "ambiguous_compounds_table = sta.extract_ambiguous_compounds(ambiguous_adducts)\n",
    "\n",
    "print(\"Selected compounds:\\n\")\n",
    "display(selected_compounds_table)\n",
    "print(\"\\nAmbiguous compounds (to return to for scrutiny):\\n\")\n",
    "display(ambiguous_compounds_table)"
   ]
  },
  {
   "cell_type": "markdown",
   "metadata": {},
   "source": [
    "# Filter RT Peak, EICs, and Top Spectra by selected compounds+adducts"
   ]
  },
  {
   "cell_type": "code",
   "execution_count": 11,
   "metadata": {},
   "outputs": [
    {
     "name": "stderr",
     "output_type": "stream",
     "text": [
      "[16:34:27] non-ring atom 0 marked aromatic\n",
      "[16:34:27] non-ring atom 0 marked aromatic\n"
     ]
    },
    {
     "name": "stdout",
     "output_type": "stream",
     "text": [
      "\n",
      "Total unique compounds retained: 1\n",
      "Total unique compound+adduct entries retained: 8\n",
      "\n",
      "Total EICs selected: 25\n",
      "Total RT peaks selected: 10\n",
      "Total MS2 spectra selected: 10\n"
     ]
    }
   ],
   "source": [
    "eics_filtered, rt_peaks_filtered, top_spectra_filtered = sta.filter_by_selected(eics_full, rt_peaks_full, top_spectra_full, selected_compounds_table)\n",
    "\n",
    "print(f\"\\nTotal unique compounds retained: {eics_filtered['compound_name'].nunique()}\")\n",
    "print(f\"Total unique compound+adduct entries retained: {eics_filtered['label'].nunique()}\\n\")\n",
    "print(f\"Total EICs selected: {eics_filtered.shape[0]}\")\n",
    "print(f\"Total RT peaks selected: {rt_peaks_filtered.shape[0]}\")\n",
    "print(f\"Total MS2 spectra selected: {top_spectra_filtered.shape[0]}\")"
   ]
  },
  {
   "cell_type": "markdown",
   "metadata": {},
   "source": [
    "# Save and/or read filtered data"
   ]
  },
  {
   "cell_type": "code",
   "execution_count": 12,
   "metadata": {},
   "outputs": [
    {
     "name": "stdout",
     "output_type": "stream",
     "text": [
      "Saving data to: /global/homes/b/bkieft/metabolomics_standards_annotation/standard_library_annotation/scheller_test_20250425163322_ref_stds_data_filtered.pkl\n"
     ]
    }
   ],
   "source": [
    "if new_filtered_data is True:\n",
    "    sta.save_filtered_data(eics_filtered, top_spectra_filtered, rt_peaks_filtered, standards_info_path, current_time)\n",
    "    \n",
    "elif new_filtered_data is False:\n",
    "    eics_filtered, top_spectra_filtered, rt_peaks_filtered = sta.load_filtered_data(standards_info_path)"
   ]
  },
  {
   "cell_type": "markdown",
   "metadata": {},
   "source": [
    "# Save summary plots of selected compounds+adducts"
   ]
  },
  {
   "cell_type": "code",
   "execution_count": 13,
   "metadata": {},
   "outputs": [],
   "source": [
    "sta.generate_static_summary_plots(processed_data, selected_good_adducts, export_dir=path_to_standards_file)"
   ]
  },
  {
   "cell_type": "markdown",
   "metadata": {},
   "source": [
    "# Choose only the top adduct per compound to add to DB, Atlases, and MSMS Refs"
   ]
  },
  {
   "cell_type": "code",
   "execution_count": null,
   "metadata": {},
   "outputs": [],
   "source": [
    "def filter_by_selected_top_adduct(rt_peaks, top_adducts):\n",
    "    \n",
    "    unfiltered_rt_peaks = rt_peaks.copy()\n",
    "    unfiltered_rt_peaks['label'] = unfiltered_rt_peaks['compound_name']\n",
    "\n",
    "    # Find the row that matches the top_adducts dict keys\n",
    "    for key, value in top_adducts.items():\n",
    "        label = key.split(';;')[0]\n",
    "        standard_lcmsrun = key.split(';;')[1]\n",
    "        selected_row = unfiltered_rt_peaks[(unfiltered_rt_peaks['standard_lcmsrun'] == standard_lcmsrun) &\n",
    "                                           (unfiltered_rt_peaks['label'] == label)]\n",
    "        \n",
    "    # Find the row with the highest intensity for each group\n",
    "    unfiltered_rt_peaks['label'] = unfiltered_rt_peaks['compound_name']\n",
    "    group_list = ['chromatography', 'polarity', 'label']\n",
    "    idx_max_intensity = unfiltered_rt_peaks.groupby(group_list)['intensity'].idxmax()\n",
    "    highest_intensity_row = unfiltered_rt_peaks.loc[idx_max_intensity]\n",
    "\n",
    "        # # Filter rows to keep only those with the same adduct as the highest intensity row\n",
    "        group_list.extend(['adduct', 'collision_energy'])\n",
    "        top_adducts_per_pol = unfiltered_rt_peaks.merge(\n",
    "            highest_intensity_row[group_list],\n",
    "            on=group_list,\n",
    "            how='inner'\n",
    "        )\n",
    "\n",
    "        # Find all other peaks for the selected adduct\n",
    "        top_adducts_per_pol_grouped = top_adducts_per_pol.groupby(group_list)\n",
    "        unfiltered_rt_peaks_grouped = unfiltered_rt_peaks.groupby(group_list)\n",
    "        all_peaks = []\n",
    "\n",
    "        for group_key, _ in top_adducts_per_pol_grouped:\n",
    "            # Check if the group_key exists in rt_peaks_grouped\n",
    "            if group_key in unfiltered_rt_peaks_grouped.groups:\n",
    "                # Retrieve all rows for the matching group\n",
    "                matching_rows = unfiltered_rt_peaks_grouped.get_group(group_key)\n",
    "                if matching_rows.shape[0] > 1: # Are there multiple peaks per chrom+polarity+compound+adduct+collision_energy?\n",
    "                    matching_rows.loc[:,'label'] = matching_rows.apply(lambda row: f\"{row['label']} ({row['peak_index']})\", axis=1)\n",
    "                all_peaks.append(matching_rows)\n",
    "\n",
    "        top_adducts_per_pol_allpeaks = pd.concat(all_peaks, ignore_index=True) if all_peaks else pd.DataFrame()\n",
    "\n",
    "        # Group by monoisotopic_mass and identify isomers if present\n",
    "        top_adducts_per_pol_allpeaks_isomer_grouping = top_adducts_per_pol_allpeaks.groupby(['monoisotopic_mass','polarity','chromatography'])\n",
    "        grouped_compounds = top_adducts_per_pol_allpeaks_isomer_grouping['compound_name'].nunique()\n",
    "        multiple_compounds_per_mim = grouped_compounds[grouped_compounds > 1]\n",
    "\n",
    "        if not multiple_compounds_per_mim.empty:\n",
    "            # Iterate over each monoisotopic mass with multiple compounds\n",
    "            for isomer_mim in multiple_compounds_per_mim.index:\n",
    "                isomer_data = top_adducts_per_pol_allpeaks[\n",
    "                    (top_adducts_per_pol_allpeaks['monoisotopic_mass'] == isomer_mim[0]) &\n",
    "                    (top_adducts_per_pol_allpeaks['polarity'] == isomer_mim[1]) &\n",
    "                    (top_adducts_per_pol_allpeaks['chromatography'] == isomer_mim[2])\n",
    "                ]\n",
    "                \n",
    "                # Check if all adducts are the same\n",
    "                unique_adducts = isomer_data['adduct'].unique()\n",
    "                if len(unique_adducts) == 1:\n",
    "                    # All adducts are the same, do nothing\n",
    "                    print(f\"Note: Found isomers in {isomer_mim[2]} {isomer_mim[1]} mode at {isomer_mim[0]} ({list(isomer_data['label'])}) but they had matching selected adducts {unique_adducts[0]}.\")\n",
    "                    continue\n",
    "                else: # Adducts for isomers do not agree\n",
    "                    print(f\"Warning! Adducts for isomers do not agree. See data for monoisotopic mass {isomer_mim[0]}:\\n\")\n",
    "                    display(isomer_data[['label', 'adduct', 'inchi', 'monoisotopic_mass']])\n",
    "                    print(\"\\nPlease return to the GUI to select a matching adduct for isomers.\")\n",
    "                    return\n",
    "        \n",
    "        print(f\"\\nFiltered {unfiltered_rt_peaks.shape[0]} compound peaks to {top_adducts_per_pol_allpeaks.shape[0]} peaks by best adduct. Here are the compounds+adducts retained:\\n\")\n",
    "        display(top_adducts_per_pol_allpeaks[['label', 'adduct', 'polarity', 'chromatography', 'inchi_key', 'monoisotopic_mass']].sort_values(by=['label','adduct']))\n",
    "\n",
    "        return top_adducts_per_pol_allpeaks"
   ]
  },
  {
   "cell_type": "code",
   "execution_count": 15,
   "metadata": {},
   "outputs": [
    {
     "data": {
      "text/plain": [
       "{'sorgoleone;;/global/cfs/cdirs/metatlas/raw_data/jgi/20241002_JGI_HS_510060_SorghExu_final1_EXP120B_HILICZ_USHXG02558/20241002_JGI_HS_510060_SorghExu_final1_EXP120B_HILICZ_USHXG02558_POS_MS2_RefStd-1_Sorgoleone_1_Rg70to1050-CE102040norm-200uM-S1_Run375.h5': '[M+H]+',\n",
       " 'sorgoleone;;/global/cfs/cdirs/metatlas/raw_data/jgi/20241002_JGI_HS_510060_SorghExu_final1_EXP120B_HILICZ_USHXG02558/20241002_JGI_HS_510060_SorghExu_final1_EXP120B_HILICZ_USHXG02558_POS_MS2_RefStd-1_Sorgoleone_1_Rg70to1050-CE205060norm-200uM-S1_Run376.h5': '[M+H]+',\n",
       " 'sorgoleone;;/global/cfs/cdirs/metatlas/raw_data/jgi/20241002_JGI_HS_510060_SorghExu_final1_EXP120B_HILICZ_USHXG02558/20241002_JGI_HS_510060_SorghExu_final1_EXP120B_HILICZ_USHXG02558_NEG_MS2_RefStd-1_Sorgoleone_1_Rg70to1050-CE102040norm-200uM-S1_Run377.h5': '[M-H]-',\n",
       " 'sorgoleone;;/global/cfs/cdirs/metatlas/raw_data/jgi/20241002_JGI_HS_510060_SorghExu_final1_EXP120B_HILICZ_USHXG02558/20241002_JGI_HS_510060_SorghExu_final1_EXP120B_HILICZ_USHXG02558_NEG_MS2_RefStd-1_Sorgoleone_1_Rg70to1050-CE205060norm-200uM-S1_Run378.h5': '[M-H]-',\n",
       " 'sorgoleone;;/global/cfs/cdirs/metatlas/raw_data/jgi/20241021_JGI_HS_510060_SorghExu_final1_IQX_C18_USDAY92782/20241021_JGI_HS_510060_SorghExu_final1_IQX_C18_USDAY92782_POS_MS2_RefStd-1_Sorgoleone_1_Rg80to1200-CE102040norm-200uM-S1_Run382.h5': '[M+H]+',\n",
       " 'sorgoleone;;/global/cfs/cdirs/metatlas/raw_data/jgi/20241021_JGI_HS_510060_SorghExu_final1_IQX_C18_USDAY92782/20241021_JGI_HS_510060_SorghExu_final1_IQX_C18_USDAY92782_POS_MS2_RefStd-1_Sorgoleone_1_Rg80to1200-CE205060norm-200uM-S1_Run383.h5': '[M+H]+'}"
      ]
     },
     "execution_count": 15,
     "metadata": {},
     "output_type": "execute_result"
    }
   ],
   "source": [
    "top_adducts"
   ]
  },
  {
   "cell_type": "code",
   "execution_count": 18,
   "metadata": {},
   "outputs": [
    {
     "data": {
      "text/html": [
       "<div>\n",
       "<style scoped>\n",
       "    .dataframe tbody tr th:only-of-type {\n",
       "        vertical-align: middle;\n",
       "    }\n",
       "\n",
       "    .dataframe tbody tr th {\n",
       "        vertical-align: top;\n",
       "    }\n",
       "\n",
       "    .dataframe thead th {\n",
       "        text-align: right;\n",
       "    }\n",
       "</style>\n",
       "<table border=\"1\" class=\"dataframe\">\n",
       "  <thead>\n",
       "    <tr style=\"text-align: right;\">\n",
       "      <th></th>\n",
       "      <th>standard_lcmsrun</th>\n",
       "      <th>chromatography</th>\n",
       "      <th>compound_name</th>\n",
       "      <th>adduct</th>\n",
       "      <th>polarity</th>\n",
       "      <th>rt_peak</th>\n",
       "      <th>intensity</th>\n",
       "      <th>mz_observed</th>\n",
       "      <th>mz_theoretical</th>\n",
       "      <th>ppm_error</th>\n",
       "      <th>smiles</th>\n",
       "      <th>peak_index</th>\n",
       "      <th>inchi</th>\n",
       "      <th>inchi_key</th>\n",
       "      <th>neutralized_inchi</th>\n",
       "      <th>neutralized_inchi_key</th>\n",
       "      <th>permanent_charge</th>\n",
       "      <th>formula</th>\n",
       "      <th>monoisotopic_mass</th>\n",
       "      <th>collision_energy</th>\n",
       "    </tr>\n",
       "  </thead>\n",
       "  <tbody>\n",
       "    <tr>\n",
       "      <th>0</th>\n",
       "      <td>/global/cfs/cdirs/metatlas/raw_data/jgi/20241002_JGI_HS_510060_SorghExu_final1_EXP120B_HILICZ_USHXG02558/20241002_JGI_HS_510060_SorghExu_final1_EXP120B_HILICZ_USHXG02558_POS_MS2_RefStd-1_Sorgoleone_1_Rg70to1050-CE102040norm-200uM-S1_Run375.h5</td>\n",
       "      <td>HILICZ</td>\n",
       "      <td>sorgoleone</td>\n",
       "      <td>[M+H]+</td>\n",
       "      <td>POS</td>\n",
       "      <td>0.801184</td>\n",
       "      <td>2.382908e+08</td>\n",
       "      <td>359.221771</td>\n",
       "      <td>359.221685</td>\n",
       "      <td>-0.238850</td>\n",
       "      <td>COC1=CC(=O)C(=C(C1=O)CCCCCCC/C=C\\C/C=C\\CC=C)O</td>\n",
       "      <td>peak1</td>\n",
       "      <td>InChI=1S/C22H30O4/c1-3-4-5-6-7-8-9-10-11-12-13-14-15-16-18-21(24)19(23)17-20(26-2)22(18)25/h3,5-6,8-9,17,24H,1,4,7,10-16H2,2H3/b6-5-,9-8-</td>\n",
       "      <td>FGWRUVXUQWGLOX-AFJQJTPPSA-N</td>\n",
       "      <td>InChI=1S/C22H30O4/c1-3-4-5-6-7-8-9-10-11-12-13-14-15-16-18-21(24)19(23)17-20(26-2)22(18)25/h3,5-6,8-9,17,24H,1,4,7,10-16H2,2H3/b6-5-,9-8-</td>\n",
       "      <td>FGWRUVXUQWGLOX-AFJQJTPPSA-N</td>\n",
       "      <td>0</td>\n",
       "      <td>C22H30O4</td>\n",
       "      <td>358.214409</td>\n",
       "      <td>102040norm</td>\n",
       "    </tr>\n",
       "    <tr>\n",
       "      <th>1</th>\n",
       "      <td>/global/cfs/cdirs/metatlas/raw_data/jgi/20241002_JGI_HS_510060_SorghExu_final1_EXP120B_HILICZ_USHXG02558/20241002_JGI_HS_510060_SorghExu_final1_EXP120B_HILICZ_USHXG02558_POS_MS2_RefStd-1_Sorgoleone_1_Rg70to1050-CE102040norm-200uM-S1_Run375.h5</td>\n",
       "      <td>HILICZ</td>\n",
       "      <td>sorgoleone</td>\n",
       "      <td>[M+NH4]+</td>\n",
       "      <td>POS</td>\n",
       "      <td>0.801184</td>\n",
       "      <td>7.645002e+07</td>\n",
       "      <td>376.248230</td>\n",
       "      <td>376.248232</td>\n",
       "      <td>0.006537</td>\n",
       "      <td>COC1=CC(=O)C(=C(C1=O)CCCCCCC/C=C\\C/C=C\\CC=C)O</td>\n",
       "      <td>peak1</td>\n",
       "      <td>InChI=1S/C22H30O4/c1-3-4-5-6-7-8-9-10-11-12-13-14-15-16-18-21(24)19(23)17-20(26-2)22(18)25/h3,5-6,8-9,17,24H,1,4,7,10-16H2,2H3/b6-5-,9-8-</td>\n",
       "      <td>FGWRUVXUQWGLOX-AFJQJTPPSA-N</td>\n",
       "      <td>InChI=1S/C22H30O4/c1-3-4-5-6-7-8-9-10-11-12-13-14-15-16-18-21(24)19(23)17-20(26-2)22(18)25/h3,5-6,8-9,17,24H,1,4,7,10-16H2,2H3/b6-5-,9-8-</td>\n",
       "      <td>FGWRUVXUQWGLOX-AFJQJTPPSA-N</td>\n",
       "      <td>0</td>\n",
       "      <td>C22H30O4</td>\n",
       "      <td>358.214409</td>\n",
       "      <td>102040norm</td>\n",
       "    </tr>\n",
       "    <tr>\n",
       "      <th>2</th>\n",
       "      <td>/global/cfs/cdirs/metatlas/raw_data/jgi/20241002_JGI_HS_510060_SorghExu_final1_EXP120B_HILICZ_USHXG02558/20241002_JGI_HS_510060_SorghExu_final1_EXP120B_HILICZ_USHXG02558_POS_MS2_RefStd-1_Sorgoleone_1_Rg70to1050-CE205060norm-200uM-S1_Run376.h5</td>\n",
       "      <td>HILICZ</td>\n",
       "      <td>sorgoleone</td>\n",
       "      <td>[M+H]+</td>\n",
       "      <td>POS</td>\n",
       "      <td>0.793515</td>\n",
       "      <td>2.200155e+08</td>\n",
       "      <td>359.221771</td>\n",
       "      <td>359.221685</td>\n",
       "      <td>-0.238850</td>\n",
       "      <td>COC1=CC(=O)C(=C(C1=O)CCCCCCC/C=C\\C/C=C\\CC=C)O</td>\n",
       "      <td>peak1</td>\n",
       "      <td>InChI=1S/C22H30O4/c1-3-4-5-6-7-8-9-10-11-12-13-14-15-16-18-21(24)19(23)17-20(26-2)22(18)25/h3,5-6,8-9,17,24H,1,4,7,10-16H2,2H3/b6-5-,9-8-</td>\n",
       "      <td>FGWRUVXUQWGLOX-AFJQJTPPSA-N</td>\n",
       "      <td>InChI=1S/C22H30O4/c1-3-4-5-6-7-8-9-10-11-12-13-14-15-16-18-21(24)19(23)17-20(26-2)22(18)25/h3,5-6,8-9,17,24H,1,4,7,10-16H2,2H3/b6-5-,9-8-</td>\n",
       "      <td>FGWRUVXUQWGLOX-AFJQJTPPSA-N</td>\n",
       "      <td>0</td>\n",
       "      <td>C22H30O4</td>\n",
       "      <td>358.214409</td>\n",
       "      <td>205060norm</td>\n",
       "    </tr>\n",
       "    <tr>\n",
       "      <th>3</th>\n",
       "      <td>/global/cfs/cdirs/metatlas/raw_data/jgi/20241002_JGI_HS_510060_SorghExu_final1_EXP120B_HILICZ_USHXG02558/20241002_JGI_HS_510060_SorghExu_final1_EXP120B_HILICZ_USHXG02558_POS_MS2_RefStd-1_Sorgoleone_1_Rg70to1050-CE205060norm-200uM-S1_Run376.h5</td>\n",
       "      <td>HILICZ</td>\n",
       "      <td>sorgoleone</td>\n",
       "      <td>[M+NH4]+</td>\n",
       "      <td>POS</td>\n",
       "      <td>0.793515</td>\n",
       "      <td>7.433064e+07</td>\n",
       "      <td>376.248230</td>\n",
       "      <td>376.248232</td>\n",
       "      <td>0.006537</td>\n",
       "      <td>COC1=CC(=O)C(=C(C1=O)CCCCCCC/C=C\\C/C=C\\CC=C)O</td>\n",
       "      <td>peak1</td>\n",
       "      <td>InChI=1S/C22H30O4/c1-3-4-5-6-7-8-9-10-11-12-13-14-15-16-18-21(24)19(23)17-20(26-2)22(18)25/h3,5-6,8-9,17,24H,1,4,7,10-16H2,2H3/b6-5-,9-8-</td>\n",
       "      <td>FGWRUVXUQWGLOX-AFJQJTPPSA-N</td>\n",
       "      <td>InChI=1S/C22H30O4/c1-3-4-5-6-7-8-9-10-11-12-13-14-15-16-18-21(24)19(23)17-20(26-2)22(18)25/h3,5-6,8-9,17,24H,1,4,7,10-16H2,2H3/b6-5-,9-8-</td>\n",
       "      <td>FGWRUVXUQWGLOX-AFJQJTPPSA-N</td>\n",
       "      <td>0</td>\n",
       "      <td>C22H30O4</td>\n",
       "      <td>358.214409</td>\n",
       "      <td>205060norm</td>\n",
       "    </tr>\n",
       "    <tr>\n",
       "      <th>4</th>\n",
       "      <td>/global/cfs/cdirs/metatlas/raw_data/jgi/20241002_JGI_HS_510060_SorghExu_final1_EXP120B_HILICZ_USHXG02558/20241002_JGI_HS_510060_SorghExu_final1_EXP120B_HILICZ_USHXG02558_NEG_MS2_RefStd-1_Sorgoleone_1_Rg70to1050-CE102040norm-200uM-S1_Run377.h5</td>\n",
       "      <td>HILICZ</td>\n",
       "      <td>sorgoleone</td>\n",
       "      <td>[M-H]-</td>\n",
       "      <td>NEG</td>\n",
       "      <td>0.804263</td>\n",
       "      <td>1.073812e+09</td>\n",
       "      <td>357.207184</td>\n",
       "      <td>357.207133</td>\n",
       "      <td>-0.141089</td>\n",
       "      <td>COC1=CC(=O)C(=C(C1=O)CCCCCCC/C=C\\C/C=C\\CC=C)O</td>\n",
       "      <td>peak1</td>\n",
       "      <td>InChI=1S/C22H30O4/c1-3-4-5-6-7-8-9-10-11-12-13-14-15-16-18-21(24)19(23)17-20(26-2)22(18)25/h3,5-6,8-9,17,24H,1,4,7,10-16H2,2H3/b6-5-,9-8-</td>\n",
       "      <td>FGWRUVXUQWGLOX-AFJQJTPPSA-N</td>\n",
       "      <td>InChI=1S/C22H30O4/c1-3-4-5-6-7-8-9-10-11-12-13-14-15-16-18-21(24)19(23)17-20(26-2)22(18)25/h3,5-6,8-9,17,24H,1,4,7,10-16H2,2H3/b6-5-,9-8-</td>\n",
       "      <td>FGWRUVXUQWGLOX-AFJQJTPPSA-N</td>\n",
       "      <td>0</td>\n",
       "      <td>C22H30O4</td>\n",
       "      <td>358.214409</td>\n",
       "      <td>102040norm</td>\n",
       "    </tr>\n",
       "    <tr>\n",
       "      <th>5</th>\n",
       "      <td>/global/cfs/cdirs/metatlas/raw_data/jgi/20241002_JGI_HS_510060_SorghExu_final1_EXP120B_HILICZ_USHXG02558/20241002_JGI_HS_510060_SorghExu_final1_EXP120B_HILICZ_USHXG02558_NEG_MS2_RefStd-1_Sorgoleone_1_Rg70to1050-CE205060norm-200uM-S1_Run378.h5</td>\n",
       "      <td>HILICZ</td>\n",
       "      <td>sorgoleone</td>\n",
       "      <td>[M-H]-</td>\n",
       "      <td>NEG</td>\n",
       "      <td>0.803481</td>\n",
       "      <td>1.008106e+09</td>\n",
       "      <td>357.207153</td>\n",
       "      <td>357.207133</td>\n",
       "      <td>-0.055655</td>\n",
       "      <td>COC1=CC(=O)C(=C(C1=O)CCCCCCC/C=C\\C/C=C\\CC=C)O</td>\n",
       "      <td>peak1</td>\n",
       "      <td>InChI=1S/C22H30O4/c1-3-4-5-6-7-8-9-10-11-12-13-14-15-16-18-21(24)19(23)17-20(26-2)22(18)25/h3,5-6,8-9,17,24H,1,4,7,10-16H2,2H3/b6-5-,9-8-</td>\n",
       "      <td>FGWRUVXUQWGLOX-AFJQJTPPSA-N</td>\n",
       "      <td>InChI=1S/C22H30O4/c1-3-4-5-6-7-8-9-10-11-12-13-14-15-16-18-21(24)19(23)17-20(26-2)22(18)25/h3,5-6,8-9,17,24H,1,4,7,10-16H2,2H3/b6-5-,9-8-</td>\n",
       "      <td>FGWRUVXUQWGLOX-AFJQJTPPSA-N</td>\n",
       "      <td>0</td>\n",
       "      <td>C22H30O4</td>\n",
       "      <td>358.214409</td>\n",
       "      <td>205060norm</td>\n",
       "    </tr>\n",
       "    <tr>\n",
       "      <th>6</th>\n",
       "      <td>/global/cfs/cdirs/metatlas/raw_data/jgi/20241021_JGI_HS_510060_SorghExu_final1_IQX_C18_USDAY92782/20241021_JGI_HS_510060_SorghExu_final1_IQX_C18_USDAY92782_POS_MS2_RefStd-1_Sorgoleone_1_Rg80to1200-CE102040norm-200uM-S1_Run382.h5</td>\n",
       "      <td>C18</td>\n",
       "      <td>sorgoleone</td>\n",
       "      <td>[M+H]+</td>\n",
       "      <td>POS</td>\n",
       "      <td>7.543334</td>\n",
       "      <td>8.512912e+07</td>\n",
       "      <td>359.222168</td>\n",
       "      <td>359.221685</td>\n",
       "      <td>-1.343262</td>\n",
       "      <td>COC1=CC(=O)C(=C(C1=O)CCCCCCC/C=C\\C/C=C\\CC=C)O</td>\n",
       "      <td>peak1</td>\n",
       "      <td>InChI=1S/C22H30O4/c1-3-4-5-6-7-8-9-10-11-12-13-14-15-16-18-21(24)19(23)17-20(26-2)22(18)25/h3,5-6,8-9,17,24H,1,4,7,10-16H2,2H3/b6-5-,9-8-</td>\n",
       "      <td>FGWRUVXUQWGLOX-AFJQJTPPSA-N</td>\n",
       "      <td>InChI=1S/C22H30O4/c1-3-4-5-6-7-8-9-10-11-12-13-14-15-16-18-21(24)19(23)17-20(26-2)22(18)25/h3,5-6,8-9,17,24H,1,4,7,10-16H2,2H3/b6-5-,9-8-</td>\n",
       "      <td>FGWRUVXUQWGLOX-AFJQJTPPSA-N</td>\n",
       "      <td>0</td>\n",
       "      <td>C22H30O4</td>\n",
       "      <td>358.214409</td>\n",
       "      <td>102040norm</td>\n",
       "    </tr>\n",
       "    <tr>\n",
       "      <th>7</th>\n",
       "      <td>/global/cfs/cdirs/metatlas/raw_data/jgi/20241021_JGI_HS_510060_SorghExu_final1_IQX_C18_USDAY92782/20241021_JGI_HS_510060_SorghExu_final1_IQX_C18_USDAY92782_POS_MS2_RefStd-1_Sorgoleone_1_Rg80to1200-CE102040norm-200uM-S1_Run382.h5</td>\n",
       "      <td>C18</td>\n",
       "      <td>sorgoleone</td>\n",
       "      <td>[M+Na]+</td>\n",
       "      <td>POS</td>\n",
       "      <td>7.543334</td>\n",
       "      <td>1.420423e+08</td>\n",
       "      <td>381.204132</td>\n",
       "      <td>381.203627</td>\n",
       "      <td>-1.323807</td>\n",
       "      <td>COC1=CC(=O)C(=C(C1=O)CCCCCCC/C=C\\C/C=C\\CC=C)O</td>\n",
       "      <td>peak1</td>\n",
       "      <td>InChI=1S/C22H30O4/c1-3-4-5-6-7-8-9-10-11-12-13-14-15-16-18-21(24)19(23)17-20(26-2)22(18)25/h3,5-6,8-9,17,24H,1,4,7,10-16H2,2H3/b6-5-,9-8-</td>\n",
       "      <td>FGWRUVXUQWGLOX-AFJQJTPPSA-N</td>\n",
       "      <td>InChI=1S/C22H30O4/c1-3-4-5-6-7-8-9-10-11-12-13-14-15-16-18-21(24)19(23)17-20(26-2)22(18)25/h3,5-6,8-9,17,24H,1,4,7,10-16H2,2H3/b6-5-,9-8-</td>\n",
       "      <td>FGWRUVXUQWGLOX-AFJQJTPPSA-N</td>\n",
       "      <td>0</td>\n",
       "      <td>C22H30O4</td>\n",
       "      <td>358.214409</td>\n",
       "      <td>102040norm</td>\n",
       "    </tr>\n",
       "    <tr>\n",
       "      <th>8</th>\n",
       "      <td>/global/cfs/cdirs/metatlas/raw_data/jgi/20241021_JGI_HS_510060_SorghExu_final1_IQX_C18_USDAY92782/20241021_JGI_HS_510060_SorghExu_final1_IQX_C18_USDAY92782_POS_MS2_RefStd-1_Sorgoleone_1_Rg80to1200-CE205060norm-200uM-S1_Run383.h5</td>\n",
       "      <td>C18</td>\n",
       "      <td>sorgoleone</td>\n",
       "      <td>[M+H]+</td>\n",
       "      <td>POS</td>\n",
       "      <td>7.544277</td>\n",
       "      <td>7.317146e+07</td>\n",
       "      <td>359.221954</td>\n",
       "      <td>359.221685</td>\n",
       "      <td>-0.748579</td>\n",
       "      <td>COC1=CC(=O)C(=C(C1=O)CCCCCCC/C=C\\C/C=C\\CC=C)O</td>\n",
       "      <td>peak1</td>\n",
       "      <td>InChI=1S/C22H30O4/c1-3-4-5-6-7-8-9-10-11-12-13-14-15-16-18-21(24)19(23)17-20(26-2)22(18)25/h3,5-6,8-9,17,24H,1,4,7,10-16H2,2H3/b6-5-,9-8-</td>\n",
       "      <td>FGWRUVXUQWGLOX-AFJQJTPPSA-N</td>\n",
       "      <td>InChI=1S/C22H30O4/c1-3-4-5-6-7-8-9-10-11-12-13-14-15-16-18-21(24)19(23)17-20(26-2)22(18)25/h3,5-6,8-9,17,24H,1,4,7,10-16H2,2H3/b6-5-,9-8-</td>\n",
       "      <td>FGWRUVXUQWGLOX-AFJQJTPPSA-N</td>\n",
       "      <td>0</td>\n",
       "      <td>C22H30O4</td>\n",
       "      <td>358.214409</td>\n",
       "      <td>205060norm</td>\n",
       "    </tr>\n",
       "    <tr>\n",
       "      <th>9</th>\n",
       "      <td>/global/cfs/cdirs/metatlas/raw_data/jgi/20241021_JGI_HS_510060_SorghExu_final1_IQX_C18_USDAY92782/20241021_JGI_HS_510060_SorghExu_final1_IQX_C18_USDAY92782_POS_MS2_RefStd-1_Sorgoleone_1_Rg80to1200-CE205060norm-200uM-S1_Run383.h5</td>\n",
       "      <td>C18</td>\n",
       "      <td>sorgoleone</td>\n",
       "      <td>[M+Na]+</td>\n",
       "      <td>POS</td>\n",
       "      <td>7.544277</td>\n",
       "      <td>1.555232e+08</td>\n",
       "      <td>381.203949</td>\n",
       "      <td>381.203627</td>\n",
       "      <td>-0.843472</td>\n",
       "      <td>COC1=CC(=O)C(=C(C1=O)CCCCCCC/C=C\\C/C=C\\CC=C)O</td>\n",
       "      <td>peak1</td>\n",
       "      <td>InChI=1S/C22H30O4/c1-3-4-5-6-7-8-9-10-11-12-13-14-15-16-18-21(24)19(23)17-20(26-2)22(18)25/h3,5-6,8-9,17,24H,1,4,7,10-16H2,2H3/b6-5-,9-8-</td>\n",
       "      <td>FGWRUVXUQWGLOX-AFJQJTPPSA-N</td>\n",
       "      <td>InChI=1S/C22H30O4/c1-3-4-5-6-7-8-9-10-11-12-13-14-15-16-18-21(24)19(23)17-20(26-2)22(18)25/h3,5-6,8-9,17,24H,1,4,7,10-16H2,2H3/b6-5-,9-8-</td>\n",
       "      <td>FGWRUVXUQWGLOX-AFJQJTPPSA-N</td>\n",
       "      <td>0</td>\n",
       "      <td>C22H30O4</td>\n",
       "      <td>358.214409</td>\n",
       "      <td>205060norm</td>\n",
       "    </tr>\n",
       "  </tbody>\n",
       "</table>\n",
       "</div>"
      ],
      "text/plain": [
       "                                                                                                                                                                                                                                     standard_lcmsrun  \\\n",
       "0  /global/cfs/cdirs/metatlas/raw_data/jgi/20241002_JGI_HS_510060_SorghExu_final1_EXP120B_HILICZ_USHXG02558/20241002_JGI_HS_510060_SorghExu_final1_EXP120B_HILICZ_USHXG02558_POS_MS2_RefStd-1_Sorgoleone_1_Rg70to1050-CE102040norm-200uM-S1_Run375.h5   \n",
       "1  /global/cfs/cdirs/metatlas/raw_data/jgi/20241002_JGI_HS_510060_SorghExu_final1_EXP120B_HILICZ_USHXG02558/20241002_JGI_HS_510060_SorghExu_final1_EXP120B_HILICZ_USHXG02558_POS_MS2_RefStd-1_Sorgoleone_1_Rg70to1050-CE102040norm-200uM-S1_Run375.h5   \n",
       "2  /global/cfs/cdirs/metatlas/raw_data/jgi/20241002_JGI_HS_510060_SorghExu_final1_EXP120B_HILICZ_USHXG02558/20241002_JGI_HS_510060_SorghExu_final1_EXP120B_HILICZ_USHXG02558_POS_MS2_RefStd-1_Sorgoleone_1_Rg70to1050-CE205060norm-200uM-S1_Run376.h5   \n",
       "3  /global/cfs/cdirs/metatlas/raw_data/jgi/20241002_JGI_HS_510060_SorghExu_final1_EXP120B_HILICZ_USHXG02558/20241002_JGI_HS_510060_SorghExu_final1_EXP120B_HILICZ_USHXG02558_POS_MS2_RefStd-1_Sorgoleone_1_Rg70to1050-CE205060norm-200uM-S1_Run376.h5   \n",
       "4  /global/cfs/cdirs/metatlas/raw_data/jgi/20241002_JGI_HS_510060_SorghExu_final1_EXP120B_HILICZ_USHXG02558/20241002_JGI_HS_510060_SorghExu_final1_EXP120B_HILICZ_USHXG02558_NEG_MS2_RefStd-1_Sorgoleone_1_Rg70to1050-CE102040norm-200uM-S1_Run377.h5   \n",
       "5  /global/cfs/cdirs/metatlas/raw_data/jgi/20241002_JGI_HS_510060_SorghExu_final1_EXP120B_HILICZ_USHXG02558/20241002_JGI_HS_510060_SorghExu_final1_EXP120B_HILICZ_USHXG02558_NEG_MS2_RefStd-1_Sorgoleone_1_Rg70to1050-CE205060norm-200uM-S1_Run378.h5   \n",
       "6                /global/cfs/cdirs/metatlas/raw_data/jgi/20241021_JGI_HS_510060_SorghExu_final1_IQX_C18_USDAY92782/20241021_JGI_HS_510060_SorghExu_final1_IQX_C18_USDAY92782_POS_MS2_RefStd-1_Sorgoleone_1_Rg80to1200-CE102040norm-200uM-S1_Run382.h5   \n",
       "7                /global/cfs/cdirs/metatlas/raw_data/jgi/20241021_JGI_HS_510060_SorghExu_final1_IQX_C18_USDAY92782/20241021_JGI_HS_510060_SorghExu_final1_IQX_C18_USDAY92782_POS_MS2_RefStd-1_Sorgoleone_1_Rg80to1200-CE102040norm-200uM-S1_Run382.h5   \n",
       "8                /global/cfs/cdirs/metatlas/raw_data/jgi/20241021_JGI_HS_510060_SorghExu_final1_IQX_C18_USDAY92782/20241021_JGI_HS_510060_SorghExu_final1_IQX_C18_USDAY92782_POS_MS2_RefStd-1_Sorgoleone_1_Rg80to1200-CE205060norm-200uM-S1_Run383.h5   \n",
       "9                /global/cfs/cdirs/metatlas/raw_data/jgi/20241021_JGI_HS_510060_SorghExu_final1_IQX_C18_USDAY92782/20241021_JGI_HS_510060_SorghExu_final1_IQX_C18_USDAY92782_POS_MS2_RefStd-1_Sorgoleone_1_Rg80to1200-CE205060norm-200uM-S1_Run383.h5   \n",
       "\n",
       "  chromatography compound_name    adduct polarity   rt_peak     intensity  \\\n",
       "0         HILICZ    sorgoleone    [M+H]+      POS  0.801184  2.382908e+08   \n",
       "1         HILICZ    sorgoleone  [M+NH4]+      POS  0.801184  7.645002e+07   \n",
       "2         HILICZ    sorgoleone    [M+H]+      POS  0.793515  2.200155e+08   \n",
       "3         HILICZ    sorgoleone  [M+NH4]+      POS  0.793515  7.433064e+07   \n",
       "4         HILICZ    sorgoleone    [M-H]-      NEG  0.804263  1.073812e+09   \n",
       "5         HILICZ    sorgoleone    [M-H]-      NEG  0.803481  1.008106e+09   \n",
       "6            C18    sorgoleone    [M+H]+      POS  7.543334  8.512912e+07   \n",
       "7            C18    sorgoleone   [M+Na]+      POS  7.543334  1.420423e+08   \n",
       "8            C18    sorgoleone    [M+H]+      POS  7.544277  7.317146e+07   \n",
       "9            C18    sorgoleone   [M+Na]+      POS  7.544277  1.555232e+08   \n",
       "\n",
       "   mz_observed  mz_theoretical  ppm_error  \\\n",
       "0   359.221771      359.221685  -0.238850   \n",
       "1   376.248230      376.248232   0.006537   \n",
       "2   359.221771      359.221685  -0.238850   \n",
       "3   376.248230      376.248232   0.006537   \n",
       "4   357.207184      357.207133  -0.141089   \n",
       "5   357.207153      357.207133  -0.055655   \n",
       "6   359.222168      359.221685  -1.343262   \n",
       "7   381.204132      381.203627  -1.323807   \n",
       "8   359.221954      359.221685  -0.748579   \n",
       "9   381.203949      381.203627  -0.843472   \n",
       "\n",
       "                                          smiles peak_index  \\\n",
       "0  COC1=CC(=O)C(=C(C1=O)CCCCCCC/C=C\\C/C=C\\CC=C)O      peak1   \n",
       "1  COC1=CC(=O)C(=C(C1=O)CCCCCCC/C=C\\C/C=C\\CC=C)O      peak1   \n",
       "2  COC1=CC(=O)C(=C(C1=O)CCCCCCC/C=C\\C/C=C\\CC=C)O      peak1   \n",
       "3  COC1=CC(=O)C(=C(C1=O)CCCCCCC/C=C\\C/C=C\\CC=C)O      peak1   \n",
       "4  COC1=CC(=O)C(=C(C1=O)CCCCCCC/C=C\\C/C=C\\CC=C)O      peak1   \n",
       "5  COC1=CC(=O)C(=C(C1=O)CCCCCCC/C=C\\C/C=C\\CC=C)O      peak1   \n",
       "6  COC1=CC(=O)C(=C(C1=O)CCCCCCC/C=C\\C/C=C\\CC=C)O      peak1   \n",
       "7  COC1=CC(=O)C(=C(C1=O)CCCCCCC/C=C\\C/C=C\\CC=C)O      peak1   \n",
       "8  COC1=CC(=O)C(=C(C1=O)CCCCCCC/C=C\\C/C=C\\CC=C)O      peak1   \n",
       "9  COC1=CC(=O)C(=C(C1=O)CCCCCCC/C=C\\C/C=C\\CC=C)O      peak1   \n",
       "\n",
       "                                                                                                                                       inchi  \\\n",
       "0  InChI=1S/C22H30O4/c1-3-4-5-6-7-8-9-10-11-12-13-14-15-16-18-21(24)19(23)17-20(26-2)22(18)25/h3,5-6,8-9,17,24H,1,4,7,10-16H2,2H3/b6-5-,9-8-   \n",
       "1  InChI=1S/C22H30O4/c1-3-4-5-6-7-8-9-10-11-12-13-14-15-16-18-21(24)19(23)17-20(26-2)22(18)25/h3,5-6,8-9,17,24H,1,4,7,10-16H2,2H3/b6-5-,9-8-   \n",
       "2  InChI=1S/C22H30O4/c1-3-4-5-6-7-8-9-10-11-12-13-14-15-16-18-21(24)19(23)17-20(26-2)22(18)25/h3,5-6,8-9,17,24H,1,4,7,10-16H2,2H3/b6-5-,9-8-   \n",
       "3  InChI=1S/C22H30O4/c1-3-4-5-6-7-8-9-10-11-12-13-14-15-16-18-21(24)19(23)17-20(26-2)22(18)25/h3,5-6,8-9,17,24H,1,4,7,10-16H2,2H3/b6-5-,9-8-   \n",
       "4  InChI=1S/C22H30O4/c1-3-4-5-6-7-8-9-10-11-12-13-14-15-16-18-21(24)19(23)17-20(26-2)22(18)25/h3,5-6,8-9,17,24H,1,4,7,10-16H2,2H3/b6-5-,9-8-   \n",
       "5  InChI=1S/C22H30O4/c1-3-4-5-6-7-8-9-10-11-12-13-14-15-16-18-21(24)19(23)17-20(26-2)22(18)25/h3,5-6,8-9,17,24H,1,4,7,10-16H2,2H3/b6-5-,9-8-   \n",
       "6  InChI=1S/C22H30O4/c1-3-4-5-6-7-8-9-10-11-12-13-14-15-16-18-21(24)19(23)17-20(26-2)22(18)25/h3,5-6,8-9,17,24H,1,4,7,10-16H2,2H3/b6-5-,9-8-   \n",
       "7  InChI=1S/C22H30O4/c1-3-4-5-6-7-8-9-10-11-12-13-14-15-16-18-21(24)19(23)17-20(26-2)22(18)25/h3,5-6,8-9,17,24H,1,4,7,10-16H2,2H3/b6-5-,9-8-   \n",
       "8  InChI=1S/C22H30O4/c1-3-4-5-6-7-8-9-10-11-12-13-14-15-16-18-21(24)19(23)17-20(26-2)22(18)25/h3,5-6,8-9,17,24H,1,4,7,10-16H2,2H3/b6-5-,9-8-   \n",
       "9  InChI=1S/C22H30O4/c1-3-4-5-6-7-8-9-10-11-12-13-14-15-16-18-21(24)19(23)17-20(26-2)22(18)25/h3,5-6,8-9,17,24H,1,4,7,10-16H2,2H3/b6-5-,9-8-   \n",
       "\n",
       "                     inchi_key  \\\n",
       "0  FGWRUVXUQWGLOX-AFJQJTPPSA-N   \n",
       "1  FGWRUVXUQWGLOX-AFJQJTPPSA-N   \n",
       "2  FGWRUVXUQWGLOX-AFJQJTPPSA-N   \n",
       "3  FGWRUVXUQWGLOX-AFJQJTPPSA-N   \n",
       "4  FGWRUVXUQWGLOX-AFJQJTPPSA-N   \n",
       "5  FGWRUVXUQWGLOX-AFJQJTPPSA-N   \n",
       "6  FGWRUVXUQWGLOX-AFJQJTPPSA-N   \n",
       "7  FGWRUVXUQWGLOX-AFJQJTPPSA-N   \n",
       "8  FGWRUVXUQWGLOX-AFJQJTPPSA-N   \n",
       "9  FGWRUVXUQWGLOX-AFJQJTPPSA-N   \n",
       "\n",
       "                                                                                                                           neutralized_inchi  \\\n",
       "0  InChI=1S/C22H30O4/c1-3-4-5-6-7-8-9-10-11-12-13-14-15-16-18-21(24)19(23)17-20(26-2)22(18)25/h3,5-6,8-9,17,24H,1,4,7,10-16H2,2H3/b6-5-,9-8-   \n",
       "1  InChI=1S/C22H30O4/c1-3-4-5-6-7-8-9-10-11-12-13-14-15-16-18-21(24)19(23)17-20(26-2)22(18)25/h3,5-6,8-9,17,24H,1,4,7,10-16H2,2H3/b6-5-,9-8-   \n",
       "2  InChI=1S/C22H30O4/c1-3-4-5-6-7-8-9-10-11-12-13-14-15-16-18-21(24)19(23)17-20(26-2)22(18)25/h3,5-6,8-9,17,24H,1,4,7,10-16H2,2H3/b6-5-,9-8-   \n",
       "3  InChI=1S/C22H30O4/c1-3-4-5-6-7-8-9-10-11-12-13-14-15-16-18-21(24)19(23)17-20(26-2)22(18)25/h3,5-6,8-9,17,24H,1,4,7,10-16H2,2H3/b6-5-,9-8-   \n",
       "4  InChI=1S/C22H30O4/c1-3-4-5-6-7-8-9-10-11-12-13-14-15-16-18-21(24)19(23)17-20(26-2)22(18)25/h3,5-6,8-9,17,24H,1,4,7,10-16H2,2H3/b6-5-,9-8-   \n",
       "5  InChI=1S/C22H30O4/c1-3-4-5-6-7-8-9-10-11-12-13-14-15-16-18-21(24)19(23)17-20(26-2)22(18)25/h3,5-6,8-9,17,24H,1,4,7,10-16H2,2H3/b6-5-,9-8-   \n",
       "6  InChI=1S/C22H30O4/c1-3-4-5-6-7-8-9-10-11-12-13-14-15-16-18-21(24)19(23)17-20(26-2)22(18)25/h3,5-6,8-9,17,24H,1,4,7,10-16H2,2H3/b6-5-,9-8-   \n",
       "7  InChI=1S/C22H30O4/c1-3-4-5-6-7-8-9-10-11-12-13-14-15-16-18-21(24)19(23)17-20(26-2)22(18)25/h3,5-6,8-9,17,24H,1,4,7,10-16H2,2H3/b6-5-,9-8-   \n",
       "8  InChI=1S/C22H30O4/c1-3-4-5-6-7-8-9-10-11-12-13-14-15-16-18-21(24)19(23)17-20(26-2)22(18)25/h3,5-6,8-9,17,24H,1,4,7,10-16H2,2H3/b6-5-,9-8-   \n",
       "9  InChI=1S/C22H30O4/c1-3-4-5-6-7-8-9-10-11-12-13-14-15-16-18-21(24)19(23)17-20(26-2)22(18)25/h3,5-6,8-9,17,24H,1,4,7,10-16H2,2H3/b6-5-,9-8-   \n",
       "\n",
       "         neutralized_inchi_key  permanent_charge   formula  monoisotopic_mass  \\\n",
       "0  FGWRUVXUQWGLOX-AFJQJTPPSA-N                 0  C22H30O4         358.214409   \n",
       "1  FGWRUVXUQWGLOX-AFJQJTPPSA-N                 0  C22H30O4         358.214409   \n",
       "2  FGWRUVXUQWGLOX-AFJQJTPPSA-N                 0  C22H30O4         358.214409   \n",
       "3  FGWRUVXUQWGLOX-AFJQJTPPSA-N                 0  C22H30O4         358.214409   \n",
       "4  FGWRUVXUQWGLOX-AFJQJTPPSA-N                 0  C22H30O4         358.214409   \n",
       "5  FGWRUVXUQWGLOX-AFJQJTPPSA-N                 0  C22H30O4         358.214409   \n",
       "6  FGWRUVXUQWGLOX-AFJQJTPPSA-N                 0  C22H30O4         358.214409   \n",
       "7  FGWRUVXUQWGLOX-AFJQJTPPSA-N                 0  C22H30O4         358.214409   \n",
       "8  FGWRUVXUQWGLOX-AFJQJTPPSA-N                 0  C22H30O4         358.214409   \n",
       "9  FGWRUVXUQWGLOX-AFJQJTPPSA-N                 0  C22H30O4         358.214409   \n",
       "\n",
       "  collision_energy  \n",
       "0       102040norm  \n",
       "1       102040norm  \n",
       "2       205060norm  \n",
       "3       205060norm  \n",
       "4       102040norm  \n",
       "5       205060norm  \n",
       "6       102040norm  \n",
       "7       102040norm  \n",
       "8       205060norm  \n",
       "9       205060norm  "
      ]
     },
     "execution_count": 18,
     "metadata": {},
     "output_type": "execute_result"
    }
   ],
   "source": [
    "rt_peaks_filtered"
   ]
  },
  {
   "cell_type": "code",
   "execution_count": null,
   "metadata": {},
   "outputs": [],
   "source": []
  },
  {
   "cell_type": "code",
   "execution_count": null,
   "metadata": {},
   "outputs": [],
   "source": [
    "rt_peaks_filtered_top_adduct = filter_by_selected_top_adduct(rt_peaks_filtered, top_adducts)\n",
    "# rt_peaks_filtered_top_adduct = sta.filter_by_top_adduct(rt_peaks_filtered)"
   ]
  },
  {
   "cell_type": "markdown",
   "metadata": {},
   "source": [
    "# Check if selected compounds are in metatlas DB"
   ]
  },
  {
   "cell_type": "code",
   "execution_count": null,
   "metadata": {},
   "outputs": [],
   "source": [
    "in_db, notin_db = sta.search_for_matches_in_metatlas_db(rt_peaks_filtered_top_adduct, check_by_flat=True)"
   ]
  },
  {
   "cell_type": "markdown",
   "metadata": {},
   "source": [
    "# Store selected compounds+adducts in metatlas db"
   ]
  },
  {
   "cell_type": "code",
   "execution_count": null,
   "metadata": {},
   "outputs": [],
   "source": [
    "#sta.store_in_metatlas_db(notin_db)"
   ]
  },
  {
   "cell_type": "markdown",
   "metadata": {},
   "source": [
    "# Check if selected compounds/adducts are in the atlases"
   ]
  },
  {
   "cell_type": "code",
   "execution_count": null,
   "metadata": {},
   "outputs": [],
   "source": [
    "ema_atlases_data = sta.get_ema_atlas_data(current_ema_atlases)"
   ]
  },
  {
   "cell_type": "code",
   "execution_count": null,
   "metadata": {},
   "outputs": [],
   "source": [
    "rt_peaks_filtered_top_adduct_formatted = sta.convert_rt_peaks_to_atlas_format(rt_peaks_filtered_top_adduct)"
   ]
  },
  {
   "cell_type": "code",
   "execution_count": null,
   "metadata": {},
   "outputs": [],
   "source": [
    "matches_to_atlases, nonmatches_to_atlases = sta.search_for_matches_in_atlases(rt_peaks_filtered_top_adduct_formatted, ema_atlases_data)"
   ]
  },
  {
   "cell_type": "code",
   "execution_count": null,
   "metadata": {},
   "outputs": [],
   "source": [
    "if new_rt_correction_data is True:\n",
    "\n",
    "    baseline_to_experimental_qc = sta.get_qc_experimental_atlas(nonmatches_to_atlases, current_qc_atlases, include_istds=True)"
   ]
  },
  {
   "cell_type": "code",
   "execution_count": null,
   "metadata": {},
   "outputs": [],
   "source": [
    "if new_rt_correction_data is True:\n",
    "    sta.save_rt_correction_data(baseline_to_experimental_qc, standards_info_path, current_time)\n",
    "    \n",
    "elif new_rt_correction_data is False:\n",
    "    baseline_to_experimental_qc = sta.load_rt_correction_data(standards_info_path)"
   ]
  },
  {
   "cell_type": "code",
   "execution_count": null,
   "metadata": {},
   "outputs": [],
   "source": [
    "baseline_correction_inputs = sta.create_baseline_correction_input(nonmatches_to_atlases, baseline_to_experimental_qc)\n",
    "baseline_correction_outputs = sta.rt_correction_from_baseline(baseline_correction_inputs)"
   ]
  },
  {
   "cell_type": "code",
   "execution_count": null,
   "metadata": {},
   "outputs": [],
   "source": [
    "nonmatches_to_atlases_rt_corrected = sta.substitute_corrected_rt_values(nonmatches_to_atlases, baseline_correction_outputs)\n",
    "print(f\"Inserting {nonmatches_to_atlases_rt_corrected.shape[0]} RT-corrected compounds into the database\")"
   ]
  },
  {
   "cell_type": "markdown",
   "metadata": {},
   "source": [
    "# Store selected compound/adduct in metatlas atlases"
   ]
  },
  {
   "cell_type": "code",
   "execution_count": null,
   "metadata": {},
   "outputs": [],
   "source": [
    "sta.update_and_save_atlases(ema_atlases_data, nonmatches_to_atlases_rt_corrected, current_time, path_to_standards_file, save_atlas=True)"
   ]
  },
  {
   "cell_type": "markdown",
   "metadata": {},
   "source": [
    "# Check if selected compounds/adducts are in MSMS refs"
   ]
  },
  {
   "cell_type": "code",
   "execution_count": null,
   "metadata": {},
   "outputs": [],
   "source": [
    "msms_refs = sta.get_msms_refs(msms_refs_path=current_msms_refs_path)\n",
    "msms_refs.shape"
   ]
  },
  {
   "cell_type": "code",
   "execution_count": null,
   "metadata": {},
   "outputs": [],
   "source": [
    "in_msms_refs, notin_msms_refs = sta.search_for_matches_in_msms_refs(rt_peaks_filtered_top_adduct_formatted, msms_refs, check_by_flat=True)"
   ]
  },
  {
   "cell_type": "code",
   "execution_count": null,
   "metadata": {},
   "outputs": [],
   "source": [
    "rt_peaks_filtered_with_top_spectra = sta.merge_selected_peaks_with_top_spectra(notin_msms_refs, top_spectra_filtered)"
   ]
  },
  {
   "cell_type": "code",
   "execution_count": null,
   "metadata": {},
   "outputs": [],
   "source": [
    "rt_peaks_filtered_with_top_spectra_formatted = sta.format_for_msms_refs(rt_peaks_filtered_with_top_spectra, msms_refs)"
   ]
  },
  {
   "cell_type": "markdown",
   "metadata": {},
   "source": [
    "# Store selected compound/adduct in MSMS refs"
   ]
  },
  {
   "cell_type": "code",
   "execution_count": null,
   "metadata": {},
   "outputs": [],
   "source": [
    "sta.update_and_save_msms_refs(msms_refs, rt_peaks_filtered_with_top_spectra_formatted, path_to_standards_file, current_time, save_refs=True)"
   ]
  },
  {
   "cell_type": "markdown",
   "metadata": {},
   "source": [
    "# Check to verify that compounds were added to database, atlases, and refs correctly"
   ]
  },
  {
   "cell_type": "code",
   "execution_count": null,
   "metadata": {},
   "outputs": [],
   "source": [
    "# TO DO: Add a checker"
   ]
  }
 ],
 "metadata": {
  "kernelspec": {
   "display_name": "metatlas",
   "language": "python",
   "name": "python3"
  },
  "language_info": {
   "codemirror_mode": {
    "name": "ipython",
    "version": 3
   },
   "file_extension": ".py",
   "mimetype": "text/x-python",
   "name": "python",
   "nbconvert_exporter": "python",
   "pygments_lexer": "ipython3",
   "version": "3.11.8"
  }
 },
 "nbformat": 4,
 "nbformat_minor": 2
}
