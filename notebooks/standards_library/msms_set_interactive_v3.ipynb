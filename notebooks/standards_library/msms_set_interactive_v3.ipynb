{
 "cells": [
  {
   "cell_type": "code",
   "execution_count": null,
   "metadata": {},
   "outputs": [],
   "source": [
    "import numpy as np\n",
    "import pandas as pd\n",
    "import sys\n",
    "from datetime import datetime\n",
    "import os\n",
    "from IPython.display import display\n",
    "import yaml\n",
    "\n",
    "sys.path.insert(1, '/global/homes/b/bkieft/metatlas')\n",
    "import notebooks.standards_library.standard_annotation as sta\n",
    "\n",
    "pd.options.display.max_colwidth = 300\n",
    "timestamp = datetime.now().strftime(\"%Y%m%d%H%M%S\")"
   ]
  },
  {
   "cell_type": "markdown",
   "metadata": {},
   "source": [
    "# Enter Reference Standard information"
   ]
  },
  {
   "cell_type": "code",
   "execution_count": null,
   "metadata": {},
   "outputs": [],
   "source": [
    "# Load configuration\n",
    "config_path = \"/global/homes/b/bkieft/metatlas/notebooks/standards_library/msms_set_config.yaml\"\n",
    "with open(config_path, \"r\") as config_file:\n",
    "    config = yaml.safe_load(config_file)"
   ]
  },
  {
   "cell_type": "markdown",
   "metadata": {},
   "source": [
    "# Get EIC and Spectra information from run table"
   ]
  },
  {
   "cell_type": "code",
   "execution_count": null,
   "metadata": {},
   "outputs": [],
   "source": [
    "if config[\"new_full_data\"] is True:\n",
    "    lcmsruns_table_with_adducts = sta.build_standard_lcmsrun_table(config['standards_input_file'], include_polarities=config[\"include_polarities\"], \n",
    "                                                                   include_chromatographies=config[\"include_chromatographies\"], include_adducts=config[\"include_adducts\"])\n",
    "\n",
    "    eics_full, top_spectra_full, group_names_full, rt_peaks_full, atlas_full, mols_images = sta.extract_data(lcmsruns_table=lcmsruns_table_with_adducts,\n",
    "                                                                                                            ppm_tolerance=config[\"ppm_tolerance\"],\n",
    "                                                                                                            method=\"find_peaks\")"
   ]
  },
  {
   "cell_type": "markdown",
   "metadata": {},
   "source": [
    "# Save and/or read full data"
   ]
  },
  {
   "cell_type": "code",
   "execution_count": null,
   "metadata": {},
   "outputs": [],
   "source": [
    "if config[\"new_full_data\"] is True:\n",
    "    sta.handle_data(\n",
    "        mode=\"save\",\n",
    "        save_path=config['standards_output_path'],\n",
    "        timestamp=timestamp,\n",
    "        data=(eics_full, top_spectra_full, group_names_full, rt_peaks_full, atlas_full, mols_images),\n",
    "        file_suffix=\"full\"\n",
    "    )\n",
    "\n",
    "elif config[\"new_full_data\"] is False:\n",
    "    eics_full, top_spectra_full, group_names_full, rt_peaks_full, atlas_full, mols_images = sta.handle_data(mode=\"load\",\n",
    "                                                                                                            save_path=config['standards_output_path'],\n",
    "                                                                                                            file_suffix=\"full\")"
   ]
  },
  {
   "cell_type": "markdown",
   "metadata": {},
   "source": [
    "# Create interactive plot and choose adducts"
   ]
  },
  {
   "cell_type": "code",
   "execution_count": null,
   "metadata": {},
   "outputs": [],
   "source": [
    "if config[\"new_selected_data\"] is True:\n",
    "\n",
    "    processed_data = sta.process_data_for_plotting(eics_full, top_spectra_full, group_names_full, rt_peaks_full, config[\"include_adducts\"], sort_by='run', # 'run', 'specs'\n",
    "                                                   subset_by_compound=\"sorgoleone\", subset_by_run=None) # Use these to subset by compound (str) or run number (int)\n",
    "\n",
    "    selected_adducts_dict = {}\n",
    "    ambiguous_adducts_dict = {}\n",
    "    top_adducts_dict = {}\n",
    "    sta.create_interactive_plots(processed_data, mols_images, selected_adducts_dict, ambiguous_adducts_dict, top_adducts_dict)"
   ]
  },
  {
   "cell_type": "markdown",
   "metadata": {},
   "source": [
    "# Save and/or read selected data"
   ]
  },
  {
   "cell_type": "code",
   "execution_count": null,
   "metadata": {},
   "outputs": [],
   "source": [
    "if config[\"new_selected_data\"] is True:\n",
    "    sta.handle_data(\n",
    "        mode=\"save\",\n",
    "        save_path=config['standards_output_path'],\n",
    "        timestamp=timestamp,\n",
    "        data=(selected_adducts_dict, ambiguous_adducts_dict, top_adducts_dict, processed_data),\n",
    "        file_suffix=\"selected\"\n",
    "    )\n",
    "    \n",
    "elif config[\"new_selected_data\"] is False:\n",
    "    selected_adducts_dict, ambiguous_adducts_dict, top_adducts_dict, processed_data = sta.handle_data(mode=\"load\",\n",
    "                                                                                                        save_path=config['standards_output_path'],\n",
    "                                                                                                        file_suffix=\"selected\")"
   ]
  },
  {
   "cell_type": "markdown",
   "metadata": {},
   "source": [
    "# Save summary plots of selected compounds+adducts after completing GUI"
   ]
  },
  {
   "cell_type": "code",
   "execution_count": null,
   "metadata": {},
   "outputs": [],
   "source": [
    "if config[\"new_selected_data\"] is True:\n",
    "    sta.generate_static_summary_plots(processed_data, selected_adducts_dict, top_adducts_dict, config[\"standards_output_path\"])"
   ]
  },
  {
   "cell_type": "markdown",
   "metadata": {},
   "source": [
    "# Filter RT Peak, EICs, and Top Spectra by selected compounds+adducts"
   ]
  },
  {
   "cell_type": "code",
   "execution_count": null,
   "metadata": {},
   "outputs": [],
   "source": [
    "if config[\"new_filtered_data\"] is True:\n",
    "    eics_filtered, rt_peaks_filtered, top_spectra_filtered = sta.filter_by_selected(eics_full, rt_peaks_full, top_spectra_full, \n",
    "                                                                                    selected_adducts_dict, top_adducts_dict)"
   ]
  },
  {
   "cell_type": "markdown",
   "metadata": {},
   "source": [
    "# Save and/or read filtered data"
   ]
  },
  {
   "cell_type": "code",
   "execution_count": null,
   "metadata": {},
   "outputs": [],
   "source": [
    "if config[\"new_filtered_data\"] is True:\n",
    "    sta.handle_data(\n",
    "        mode=\"save\",\n",
    "        save_path=config['standards_output_path'],\n",
    "        timestamp=timestamp,\n",
    "        data=(eics_filtered, top_spectra_filtered, rt_peaks_filtered),\n",
    "        file_suffix=\"filtered\"\n",
    "    )\n",
    "    \n",
    "elif config[\"new_filtered_data\"] is False:\n",
    "    eics_filtered, top_spectra_filtered, rt_peaks_filtered = sta.handle_data(mode=\"load\",\n",
    "                                                                             save_path=config['standards_output_path'],\n",
    "                                                                             file_suffix=\"filtered\")"
   ]
  },
  {
   "cell_type": "markdown",
   "metadata": {},
   "source": [
    "# Format RT peaks data for adding to metatlas DB, atlases, and MSMS refs"
   ]
  },
  {
   "cell_type": "code",
   "execution_count": null,
   "metadata": {},
   "outputs": [],
   "source": [
    "rt_peaks_filtered_all_selected, rt_peaks_filtered_top_selected = sta.format_and_select_top_adducts(rt_peaks_filtered, top_adducts_dict) # Export \"all\" for MSMS refs and \"top\" for EMA atlases"
   ]
  },
  {
   "cell_type": "markdown",
   "metadata": {},
   "source": [
    "# Check if selected compounds are in metatlas DB"
   ]
  },
  {
   "cell_type": "code",
   "execution_count": null,
   "metadata": {},
   "outputs": [],
   "source": [
    "in_db, notin_db = sta.search_for_matches_in_metatlas_db(rt_peaks_filtered_top_selected, check_by_flat=True)"
   ]
  },
  {
   "cell_type": "markdown",
   "metadata": {},
   "source": [
    "# Store selected compounds+adducts in metatlas db"
   ]
  },
  {
   "cell_type": "code",
   "execution_count": null,
   "metadata": {},
   "outputs": [],
   "source": [
    "# if len(notin_db) > 0:\n",
    "#     sta.store_in_metatlas_db(notin_db)"
   ]
  },
  {
   "cell_type": "code",
   "execution_count": null,
   "metadata": {},
   "outputs": [],
   "source": [
    "# sta.test_metatlas_db_insertion(inchi_key=\"FGWRUVXUQWGLOX-AFJQJTPPSA-N\", table=\"Compounds\")"
   ]
  },
  {
   "cell_type": "markdown",
   "metadata": {},
   "source": [
    "# Check if selected compounds/adducts are in the atlases"
   ]
  },
  {
   "cell_type": "code",
   "execution_count": null,
   "metadata": {},
   "outputs": [],
   "source": [
    "ema_atlases_data = sta.get_ema_atlas_data(config[\"current_ema_atlases\"])"
   ]
  },
  {
   "cell_type": "code",
   "execution_count": null,
   "metadata": {},
   "outputs": [],
   "source": [
    "rt_peaks_filtered_top_selected_formatted = sta.convert_rt_peaks_to_atlas_format(rt_peaks_filtered_top_selected)"
   ]
  },
  {
   "cell_type": "code",
   "execution_count": null,
   "metadata": {},
   "outputs": [],
   "source": [
    "matches_to_atlases, nonmatches_to_atlases = sta.search_for_matches_in_atlases(rt_peaks_filtered_top_selected_formatted, ema_atlases_data)"
   ]
  },
  {
   "cell_type": "markdown",
   "metadata": {},
   "source": [
    "# Perform backward RT correction on compound data to align with baseline RTs"
   ]
  },
  {
   "cell_type": "code",
   "execution_count": null,
   "metadata": {},
   "outputs": [],
   "source": [
    "if config[\"new_rt_correction_data\"] is True:\n",
    "    baseline_to_experimental_qc = sta.get_qc_experimental_atlas(nonmatches_to_atlases, config[\"current_qc_atlases\"], include_istds=True)"
   ]
  },
  {
   "cell_type": "markdown",
   "metadata": {},
   "source": [
    "# Save/load RT correction data"
   ]
  },
  {
   "cell_type": "code",
   "execution_count": null,
   "metadata": {},
   "outputs": [],
   "source": [
    "if config[\"new_rt_correction_data\"] is True:\n",
    "    sta.handle_data(\n",
    "        mode=\"save\",\n",
    "        save_path=config['standards_output_path'],\n",
    "        timestamp=timestamp,\n",
    "        data=(baseline_to_experimental_qc),\n",
    "        file_suffix=\"rt_correction\"\n",
    "    )\n",
    "    \n",
    "elif config[\"new_rt_correction_data\"] is False:\n",
    "    baseline_to_experimental_qc = sta.handle_data(mode=\"load\",\n",
    "                                                  save_path=config['standards_output_path'],\n",
    "                                                  file_suffix=\"rt_correction\")"
   ]
  },
  {
   "cell_type": "code",
   "execution_count": null,
   "metadata": {},
   "outputs": [],
   "source": [
    "baseline_correction_inputs = sta.create_baseline_correction_input(nonmatches_to_atlases, baseline_to_experimental_qc)\n",
    "baseline_correction_outputs = sta.rt_correction_from_baseline(baseline_correction_inputs, config[\"include_chromatographies\"])"
   ]
  },
  {
   "cell_type": "code",
   "execution_count": null,
   "metadata": {},
   "outputs": [],
   "source": [
    "nonmatches_to_atlases_rt_corrected = sta.substitute_corrected_rt_values(nonmatches_to_atlases, baseline_correction_outputs)"
   ]
  },
  {
   "cell_type": "markdown",
   "metadata": {},
   "source": [
    "# Store selected compound/adduct in metatlas atlases"
   ]
  },
  {
   "cell_type": "code",
   "execution_count": null,
   "metadata": {},
   "outputs": [],
   "source": [
    "sta.update_and_save_atlases(ema_atlases_data, nonmatches_to_atlases_rt_corrected, timestamp, config[\"standards_output_path\"], save_atlas=True)"
   ]
  },
  {
   "cell_type": "markdown",
   "metadata": {},
   "source": [
    "# Check if selected compounds/adducts are in MSMS refs"
   ]
  },
  {
   "cell_type": "code",
   "execution_count": null,
   "metadata": {},
   "outputs": [],
   "source": [
    "msms_refs = sta.get_msms_refs(msms_refs_path=config[\"current_msms_refs_path\"])"
   ]
  },
  {
   "cell_type": "code",
   "execution_count": null,
   "metadata": {},
   "outputs": [],
   "source": [
    "rt_peaks_filtered_all_selected_formatted = sta.format_for_msms_refs(rt_peaks_filtered_all_selected, top_spectra_filtered, msms_refs, config[\"msms_refs_metadata\"])"
   ]
  },
  {
   "cell_type": "code",
   "execution_count": null,
   "metadata": {},
   "outputs": [],
   "source": [
    "in_msms_refs, notin_msms_refs = sta.search_for_matches_in_msms_refs(rt_peaks_filtered_all_selected_formatted, msms_refs, check_by_flat=True)"
   ]
  },
  {
   "cell_type": "markdown",
   "metadata": {},
   "source": [
    "# Store selected compound/adduct in MSMS refs"
   ]
  },
  {
   "cell_type": "code",
   "execution_count": null,
   "metadata": {},
   "outputs": [],
   "source": [
    "sta.update_and_save_msms_refs(msms_refs, notin_msms_refs, config[\"standards_output_path\"], timestamp, save_refs=True)"
   ]
  }
 ],
 "metadata": {
  "kernelspec": {
   "display_name": "metatlas",
   "language": "python",
   "name": "python3"
  },
  "language_info": {
   "codemirror_mode": {
    "name": "ipython",
    "version": 3
   },
   "file_extension": ".py",
   "mimetype": "text/x-python",
   "name": "python",
   "nbconvert_exporter": "python",
   "pygments_lexer": "ipython3",
   "version": "3.11.8"
  }
 },
 "nbformat": 4,
 "nbformat_minor": 2
}
