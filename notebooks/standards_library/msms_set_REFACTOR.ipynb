{
 "cells": [
  {
   "cell_type": "markdown",
   "id": "24e3f3bb-cfdb-4120-8e45-7ba3d7441586",
   "metadata": {},
   "source": [
    "# MSMS Standard Evaluation Tool (MSMS-SET)"
   ]
  },
  {
   "cell_type": "code",
   "execution_count": 1,
   "id": "9748887e-c4df-40c7-9da3-7567d38bdd57",
   "metadata": {
    "tags": []
   },
   "outputs": [],
   "source": [
    "from standard_annotation import build_standard_lcmsrun_table, build_adduct_annotated_table, extract_and_plot"
   ]
  },
  {
   "cell_type": "markdown",
   "id": "2490b62b-77d1-4c41-baad-5c1f84ad9b9e",
   "metadata": {},
   "source": [
    "## Set parameters"
   ]
  },
  {
   "cell_type": "code",
   "execution_count": 432,
   "id": "b8551e8b-3a4c-4f39-986b-beabdede07bc",
   "metadata": {
    "tags": []
   },
   "outputs": [],
   "source": [
    "ppm_tolerance = 5\n",
    "include_polarities = ['POS', 'NEG']\n",
    "include_chromatographies = ['C18', 'HILIC'] # 'C18' and/or 'HILIC'\n",
    "include_adducts = ['[M+H]+', '[M+Na]+', '[M-H2O+H]+', '[M+K]+', '[M+NH4]+', '[M]+', '[M+2H]2+',\n",
    "                    '[M-H]-', '[M+Cl]-', '[M]-', '[M-2H]2-']\n",
    "csv_standard_info_path = './scheller_output/scheller_test.csv'"
   ]
  },
  {
   "cell_type": "markdown",
   "id": "7c248d0a-82c3-4007-bd2c-546751747fcb",
   "metadata": {},
   "source": [
    "## Get all matching LCMS runs"
   ]
  },
  {
   "cell_type": "code",
   "execution_count": 9,
   "id": "2fe1bac8-cace-4eec-9350-3e65fecc34f5",
   "metadata": {
    "tags": []
   },
   "outputs": [],
   "source": [
    "standard_lcmsruns_table = build_standard_lcmsrun_table(csv_standard_info_path, include_polarities=include_polarities, include_chromatographies=include_chromatographies)"
   ]
  },
  {
   "cell_type": "code",
   "execution_count": 10,
   "id": "20598443-13b7-41d6-9ccb-3a4f931d00f8",
   "metadata": {
    "tags": []
   },
   "outputs": [
    {
     "data": {
      "text/html": [
       "<div>\n",
       "<style scoped>\n",
       "    .dataframe tbody tr th:only-of-type {\n",
       "        vertical-align: middle;\n",
       "    }\n",
       "\n",
       "    .dataframe tbody tr th {\n",
       "        vertical-align: top;\n",
       "    }\n",
       "\n",
       "    .dataframe thead th {\n",
       "        text-align: right;\n",
       "    }\n",
       "</style>\n",
       "<table border=\"1\" class=\"dataframe\">\n",
       "  <thead>\n",
       "    <tr style=\"text-align: right;\">\n",
       "      <th></th>\n",
       "      <th>compound_name</th>\n",
       "      <th>smiles</th>\n",
       "      <th>c18_experiment</th>\n",
       "      <th>hilic_experiment</th>\n",
       "      <th>c18_group</th>\n",
       "      <th>hilic_group</th>\n",
       "      <th>standard_lcmsrun</th>\n",
       "    </tr>\n",
       "  </thead>\n",
       "  <tbody>\n",
       "    <tr>\n",
       "      <th>0</th>\n",
       "      <td>sorgoleone</td>\n",
       "      <td>COC1=CC(=O)C(=C(C1=O)CCCCCCC/C=C\\C/C=C\\CC=C)O</td>\n",
       "      <td>20241021_JGI_HS_510060_SorghExu_final1_IQX_C18...</td>\n",
       "      <td>20241002_JGI_HS_510060_SorghExu_final1_EXP120B...</td>\n",
       "      <td>Sorgoleone</td>\n",
       "      <td>Sorgoleone</td>\n",
       "      <td>/global/cfs/cdirs/metatlas/raw_data/jgi/202410...</td>\n",
       "    </tr>\n",
       "    <tr>\n",
       "      <th>1</th>\n",
       "      <td>sorgoleone</td>\n",
       "      <td>COC1=CC(=O)C(=C(C1=O)CCCCCCC/C=C\\C/C=C\\CC=C)O</td>\n",
       "      <td>20241021_JGI_HS_510060_SorghExu_final1_IQX_C18...</td>\n",
       "      <td>20241002_JGI_HS_510060_SorghExu_final1_EXP120B...</td>\n",
       "      <td>Sorgoleone</td>\n",
       "      <td>Sorgoleone</td>\n",
       "      <td>/global/cfs/cdirs/metatlas/raw_data/jgi/202410...</td>\n",
       "    </tr>\n",
       "    <tr>\n",
       "      <th>2</th>\n",
       "      <td>sorgoleone</td>\n",
       "      <td>COC1=CC(=O)C(=C(C1=O)CCCCCCC/C=C\\C/C=C\\CC=C)O</td>\n",
       "      <td>20241021_JGI_HS_510060_SorghExu_final1_IQX_C18...</td>\n",
       "      <td>20241002_JGI_HS_510060_SorghExu_final1_EXP120B...</td>\n",
       "      <td>Sorgoleone</td>\n",
       "      <td>Sorgoleone</td>\n",
       "      <td>/global/cfs/cdirs/metatlas/raw_data/jgi/202410...</td>\n",
       "    </tr>\n",
       "    <tr>\n",
       "      <th>3</th>\n",
       "      <td>sorgoleone</td>\n",
       "      <td>COC1=CC(=O)C(=C(C1=O)CCCCCCC/C=C\\C/C=C\\CC=C)O</td>\n",
       "      <td>20241021_JGI_HS_510060_SorghExu_final1_IQX_C18...</td>\n",
       "      <td>20241002_JGI_HS_510060_SorghExu_final1_EXP120B...</td>\n",
       "      <td>Sorgoleone</td>\n",
       "      <td>Sorgoleone</td>\n",
       "      <td>/global/cfs/cdirs/metatlas/raw_data/jgi/202410...</td>\n",
       "    </tr>\n",
       "    <tr>\n",
       "      <th>4</th>\n",
       "      <td>sorgoleone</td>\n",
       "      <td>COC1=CC(=O)C(=C(C1=O)CCCCCCC/C=C\\C/C=C\\CC=C)O</td>\n",
       "      <td>20241021_JGI_HS_510060_SorghExu_final1_IQX_C18...</td>\n",
       "      <td>20241002_JGI_HS_510060_SorghExu_final1_EXP120B...</td>\n",
       "      <td>Sorgoleone</td>\n",
       "      <td>Sorgoleone</td>\n",
       "      <td>/global/cfs/cdirs/metatlas/raw_data/jgi/202410...</td>\n",
       "    </tr>\n",
       "  </tbody>\n",
       "</table>\n",
       "</div>"
      ],
      "text/plain": [
       "  compound_name                                         smiles  \\\n",
       "0    sorgoleone  COC1=CC(=O)C(=C(C1=O)CCCCCCC/C=C\\C/C=C\\CC=C)O   \n",
       "1    sorgoleone  COC1=CC(=O)C(=C(C1=O)CCCCCCC/C=C\\C/C=C\\CC=C)O   \n",
       "2    sorgoleone  COC1=CC(=O)C(=C(C1=O)CCCCCCC/C=C\\C/C=C\\CC=C)O   \n",
       "3    sorgoleone  COC1=CC(=O)C(=C(C1=O)CCCCCCC/C=C\\C/C=C\\CC=C)O   \n",
       "4    sorgoleone  COC1=CC(=O)C(=C(C1=O)CCCCCCC/C=C\\C/C=C\\CC=C)O   \n",
       "\n",
       "                                      c18_experiment  \\\n",
       "0  20241021_JGI_HS_510060_SorghExu_final1_IQX_C18...   \n",
       "1  20241021_JGI_HS_510060_SorghExu_final1_IQX_C18...   \n",
       "2  20241021_JGI_HS_510060_SorghExu_final1_IQX_C18...   \n",
       "3  20241021_JGI_HS_510060_SorghExu_final1_IQX_C18...   \n",
       "4  20241021_JGI_HS_510060_SorghExu_final1_IQX_C18...   \n",
       "\n",
       "                                    hilic_experiment   c18_group hilic_group  \\\n",
       "0  20241002_JGI_HS_510060_SorghExu_final1_EXP120B...  Sorgoleone  Sorgoleone   \n",
       "1  20241002_JGI_HS_510060_SorghExu_final1_EXP120B...  Sorgoleone  Sorgoleone   \n",
       "2  20241002_JGI_HS_510060_SorghExu_final1_EXP120B...  Sorgoleone  Sorgoleone   \n",
       "3  20241002_JGI_HS_510060_SorghExu_final1_EXP120B...  Sorgoleone  Sorgoleone   \n",
       "4  20241002_JGI_HS_510060_SorghExu_final1_EXP120B...  Sorgoleone  Sorgoleone   \n",
       "\n",
       "                                    standard_lcmsrun  \n",
       "0  /global/cfs/cdirs/metatlas/raw_data/jgi/202410...  \n",
       "1  /global/cfs/cdirs/metatlas/raw_data/jgi/202410...  \n",
       "2  /global/cfs/cdirs/metatlas/raw_data/jgi/202410...  \n",
       "3  /global/cfs/cdirs/metatlas/raw_data/jgi/202410...  \n",
       "4  /global/cfs/cdirs/metatlas/raw_data/jgi/202410...  "
      ]
     },
     "execution_count": 10,
     "metadata": {},
     "output_type": "execute_result"
    }
   ],
   "source": [
    "standard_lcmsruns_table.head()"
   ]
  },
  {
   "cell_type": "markdown",
   "id": "927e9e95-564b-4937-a174-74730899bb75",
   "metadata": {},
   "source": [
    "### Calculate adduct masses for each entry"
   ]
  },
  {
   "cell_type": "code",
   "execution_count": 11,
   "id": "e26974bb-e6f3-4737-84a8-39a6fa84fa8d",
   "metadata": {
    "collapsed": true,
    "jupyter": {
     "outputs_hidden": true
    },
    "tags": []
   },
   "outputs": [
    {
     "name": "stderr",
     "output_type": "stream",
     "text": [
      "[20:00:21] ERROR: \n",
      "\n",
      "[20:00:21] ERROR: \n",
      "\n",
      "[20:00:21] ERROR: \n",
      "\n",
      "[20:00:21] ERROR: \n",
      "\n",
      "[20:00:21] ERROR: \n",
      "\n",
      "[20:00:21] ERROR: \n",
      "\n",
      "[20:00:21] ERROR: \n",
      "\n",
      "[20:00:21] ERROR: \n",
      "\n",
      "[20:00:21] ERROR: \n",
      "\n",
      "[20:00:21] ERROR: \n",
      "\n",
      "[20:00:21] ERROR: \n",
      "\n",
      "[20:00:21] ERROR: \n",
      "\n",
      "[20:00:21] ERROR: \n",
      "\n",
      "[20:00:21] ERROR: \n",
      "\n",
      "[20:00:21] ERROR: \n",
      "\n"
     ]
    }
   ],
   "source": [
    "standard_lcmsruns_table = build_adduct_annotated_table(standard_lcmsruns_table, include_adducts=include_adducts)"
   ]
  },
  {
   "cell_type": "code",
   "execution_count": 12,
   "id": "9ff4f28f-3ef6-42d3-be0f-e0ac9588f0e1",
   "metadata": {
    "tags": []
   },
   "outputs": [
    {
     "data": {
      "text/html": [
       "<div>\n",
       "<style scoped>\n",
       "    .dataframe tbody tr th:only-of-type {\n",
       "        vertical-align: middle;\n",
       "    }\n",
       "\n",
       "    .dataframe tbody tr th {\n",
       "        vertical-align: top;\n",
       "    }\n",
       "\n",
       "    .dataframe thead th {\n",
       "        text-align: right;\n",
       "    }\n",
       "</style>\n",
       "<table border=\"1\" class=\"dataframe\">\n",
       "  <thead>\n",
       "    <tr style=\"text-align: right;\">\n",
       "      <th></th>\n",
       "      <th>compound_name</th>\n",
       "      <th>smiles</th>\n",
       "      <th>c18_experiment</th>\n",
       "      <th>hilic_experiment</th>\n",
       "      <th>c18_group</th>\n",
       "      <th>hilic_group</th>\n",
       "      <th>standard_lcmsrun</th>\n",
       "      <th>polarity</th>\n",
       "      <th>exact_mass</th>\n",
       "      <th>adduct_data</th>\n",
       "      <th>adduct</th>\n",
       "      <th>precursor_mz</th>\n",
       "    </tr>\n",
       "  </thead>\n",
       "  <tbody>\n",
       "    <tr>\n",
       "      <th>0</th>\n",
       "      <td>sorgoleone</td>\n",
       "      <td>COC1=CC(=O)C(=C(C1=O)CCCCCCC/C=C\\C/C=C\\CC=C)O</td>\n",
       "      <td>20241021_JGI_HS_510060_SorghExu_final1_IQX_C18...</td>\n",
       "      <td>20241002_JGI_HS_510060_SorghExu_final1_EXP120B...</td>\n",
       "      <td>Sorgoleone</td>\n",
       "      <td>Sorgoleone</td>\n",
       "      <td>/global/cfs/cdirs/metatlas/raw_data/jgi/202410...</td>\n",
       "      <td>POS</td>\n",
       "      <td>358.214409</td>\n",
       "      <td>([M+H]+, 359.22168543999993)</td>\n",
       "      <td>[M+H]+</td>\n",
       "      <td>359.221685</td>\n",
       "    </tr>\n",
       "    <tr>\n",
       "      <th>1</th>\n",
       "      <td>sorgoleone</td>\n",
       "      <td>COC1=CC(=O)C(=C(C1=O)CCCCCCC/C=C\\C/C=C\\CC=C)O</td>\n",
       "      <td>20241021_JGI_HS_510060_SorghExu_final1_IQX_C18...</td>\n",
       "      <td>20241002_JGI_HS_510060_SorghExu_final1_EXP120B...</td>\n",
       "      <td>Sorgoleone</td>\n",
       "      <td>Sorgoleone</td>\n",
       "      <td>/global/cfs/cdirs/metatlas/raw_data/jgi/202410...</td>\n",
       "      <td>POS</td>\n",
       "      <td>358.214409</td>\n",
       "      <td>([M+Na]+, 381.20362743999993)</td>\n",
       "      <td>[M+Na]+</td>\n",
       "      <td>381.203627</td>\n",
       "    </tr>\n",
       "    <tr>\n",
       "      <th>2</th>\n",
       "      <td>sorgoleone</td>\n",
       "      <td>COC1=CC(=O)C(=C(C1=O)CCCCCCC/C=C\\C/C=C\\CC=C)O</td>\n",
       "      <td>20241021_JGI_HS_510060_SorghExu_final1_IQX_C18...</td>\n",
       "      <td>20241002_JGI_HS_510060_SorghExu_final1_EXP120B...</td>\n",
       "      <td>Sorgoleone</td>\n",
       "      <td>Sorgoleone</td>\n",
       "      <td>/global/cfs/cdirs/metatlas/raw_data/jgi/202410...</td>\n",
       "      <td>POS</td>\n",
       "      <td>358.214409</td>\n",
       "      <td>([M-H2O+H]+, 341.21112043999995)</td>\n",
       "      <td>[M-H2O+H]+</td>\n",
       "      <td>341.211120</td>\n",
       "    </tr>\n",
       "    <tr>\n",
       "      <th>3</th>\n",
       "      <td>sorgoleone</td>\n",
       "      <td>COC1=CC(=O)C(=C(C1=O)CCCCCCC/C=C\\C/C=C\\CC=C)O</td>\n",
       "      <td>20241021_JGI_HS_510060_SorghExu_final1_IQX_C18...</td>\n",
       "      <td>20241002_JGI_HS_510060_SorghExu_final1_EXP120B...</td>\n",
       "      <td>Sorgoleone</td>\n",
       "      <td>Sorgoleone</td>\n",
       "      <td>/global/cfs/cdirs/metatlas/raw_data/jgi/202410...</td>\n",
       "      <td>POS</td>\n",
       "      <td>358.214409</td>\n",
       "      <td>([M+K]+, 397.17756743999996)</td>\n",
       "      <td>[M+K]+</td>\n",
       "      <td>397.177567</td>\n",
       "    </tr>\n",
       "    <tr>\n",
       "      <th>4</th>\n",
       "      <td>sorgoleone</td>\n",
       "      <td>COC1=CC(=O)C(=C(C1=O)CCCCCCC/C=C\\C/C=C\\CC=C)O</td>\n",
       "      <td>20241021_JGI_HS_510060_SorghExu_final1_IQX_C18...</td>\n",
       "      <td>20241002_JGI_HS_510060_SorghExu_final1_EXP120B...</td>\n",
       "      <td>Sorgoleone</td>\n",
       "      <td>Sorgoleone</td>\n",
       "      <td>/global/cfs/cdirs/metatlas/raw_data/jgi/202410...</td>\n",
       "      <td>POS</td>\n",
       "      <td>358.214409</td>\n",
       "      <td>([M+NH4]+, 376.2482324399999)</td>\n",
       "      <td>[M+NH4]+</td>\n",
       "      <td>376.248232</td>\n",
       "    </tr>\n",
       "  </tbody>\n",
       "</table>\n",
       "</div>"
      ],
      "text/plain": [
       "  compound_name                                         smiles  \\\n",
       "0    sorgoleone  COC1=CC(=O)C(=C(C1=O)CCCCCCC/C=C\\C/C=C\\CC=C)O   \n",
       "1    sorgoleone  COC1=CC(=O)C(=C(C1=O)CCCCCCC/C=C\\C/C=C\\CC=C)O   \n",
       "2    sorgoleone  COC1=CC(=O)C(=C(C1=O)CCCCCCC/C=C\\C/C=C\\CC=C)O   \n",
       "3    sorgoleone  COC1=CC(=O)C(=C(C1=O)CCCCCCC/C=C\\C/C=C\\CC=C)O   \n",
       "4    sorgoleone  COC1=CC(=O)C(=C(C1=O)CCCCCCC/C=C\\C/C=C\\CC=C)O   \n",
       "\n",
       "                                      c18_experiment  \\\n",
       "0  20241021_JGI_HS_510060_SorghExu_final1_IQX_C18...   \n",
       "1  20241021_JGI_HS_510060_SorghExu_final1_IQX_C18...   \n",
       "2  20241021_JGI_HS_510060_SorghExu_final1_IQX_C18...   \n",
       "3  20241021_JGI_HS_510060_SorghExu_final1_IQX_C18...   \n",
       "4  20241021_JGI_HS_510060_SorghExu_final1_IQX_C18...   \n",
       "\n",
       "                                    hilic_experiment   c18_group hilic_group  \\\n",
       "0  20241002_JGI_HS_510060_SorghExu_final1_EXP120B...  Sorgoleone  Sorgoleone   \n",
       "1  20241002_JGI_HS_510060_SorghExu_final1_EXP120B...  Sorgoleone  Sorgoleone   \n",
       "2  20241002_JGI_HS_510060_SorghExu_final1_EXP120B...  Sorgoleone  Sorgoleone   \n",
       "3  20241002_JGI_HS_510060_SorghExu_final1_EXP120B...  Sorgoleone  Sorgoleone   \n",
       "4  20241002_JGI_HS_510060_SorghExu_final1_EXP120B...  Sorgoleone  Sorgoleone   \n",
       "\n",
       "                                    standard_lcmsrun polarity  exact_mass  \\\n",
       "0  /global/cfs/cdirs/metatlas/raw_data/jgi/202410...      POS  358.214409   \n",
       "1  /global/cfs/cdirs/metatlas/raw_data/jgi/202410...      POS  358.214409   \n",
       "2  /global/cfs/cdirs/metatlas/raw_data/jgi/202410...      POS  358.214409   \n",
       "3  /global/cfs/cdirs/metatlas/raw_data/jgi/202410...      POS  358.214409   \n",
       "4  /global/cfs/cdirs/metatlas/raw_data/jgi/202410...      POS  358.214409   \n",
       "\n",
       "                        adduct_data      adduct  precursor_mz  \n",
       "0      ([M+H]+, 359.22168543999993)      [M+H]+    359.221685  \n",
       "1     ([M+Na]+, 381.20362743999993)     [M+Na]+    381.203627  \n",
       "2  ([M-H2O+H]+, 341.21112043999995)  [M-H2O+H]+    341.211120  \n",
       "3      ([M+K]+, 397.17756743999996)      [M+K]+    397.177567  \n",
       "4     ([M+NH4]+, 376.2482324399999)    [M+NH4]+    376.248232  "
      ]
     },
     "execution_count": 12,
     "metadata": {},
     "output_type": "execute_result"
    }
   ],
   "source": [
    "standard_lcmsruns_table.head()"
   ]
  },
  {
   "cell_type": "markdown",
   "id": "c93c498e-5258-442e-9949-4a907481febf",
   "metadata": {},
   "source": [
    "### Extract data and plot"
   ]
  },
  {
   "cell_type": "code",
   "execution_count": 13,
   "id": "2322b51f-fe23-4704-9e0a-d3fc68786d39",
   "metadata": {
    "tags": []
   },
   "outputs": [
    {
     "data": {
      "application/vnd.jupyter.widget-view+json": {
       "model_id": "5150b1efa1ef4018ab1b46474fc86a79",
       "version_major": 2,
       "version_minor": 0
      },
      "text/plain": [
       "  0%|          | 0/120 [00:00<?, ? Compound LCMSRun Group/s]"
      ]
     },
     "metadata": {},
     "output_type": "display_data"
    }
   ],
   "source": [
    "# TODO: add theoretical precursor mz, structure (inchi, inchi_key, smiles) to top spectra tables\n",
    "all_rt_peaks, all_top_spectra = extract_and_plot(standard_lcmsruns_table, ppm_tolerance=ppm_tolerance, generate_plots=False)"
   ]
  },
  {
   "cell_type": "markdown",
   "id": "48a2c914-68f9-4713-b8d0-b0e24006adac",
   "metadata": {},
   "source": [
    "## Workspace"
   ]
  },
  {
   "cell_type": "markdown",
   "id": "7ed50abe-37d5-4fa7-99fa-7c5d25d3bf01",
   "metadata": {},
   "source": [
    "### Convert peak annotations to atlas\n",
    "### The idea here is that the preannotation plots have been filtered already"
   ]
  },
  {
   "cell_type": "code",
   "execution_count": null,
   "id": "f395460c-d216-4352-a652-0f40a3cfd8e7",
   "metadata": {
    "tags": []
   },
   "outputs": [],
   "source": [
    "# Notes:\n",
    "# potentially remove things from the solvent front and under a certain intensity"
   ]
  },
  {
   "cell_type": "code",
   "execution_count": null,
   "id": "7f33266e-ca55-4981-a528-2b5b94937bd6",
   "metadata": {
    "tags": []
   },
   "outputs": [],
   "source": [
    "import pandas as pd\n",
    "from rdkit.Chem import AllChem"
   ]
  },
  {
   "cell_type": "code",
   "execution_count": null,
   "id": "5ed772d8-7648-4492-a993-6e654408005e",
   "metadata": {
    "tags": []
   },
   "outputs": [],
   "source": [
    "rt_peak_annotations = pd.read_csv('/global/homes/t/tharwood/standard_library_annotation/annotation_data/rt_peak_annotations.csv', index_col=0)"
   ]
  },
  {
   "cell_type": "code",
   "execution_count": null,
   "id": "6725a27f-94ba-4de1-85bd-f8faaeb9b893",
   "metadata": {
    "tags": []
   },
   "outputs": [],
   "source": [
    "top_adducts_per_pol = (\n",
    "    rt_peak_annotations\n",
    "    .sort_values('intensity', ascending=False)\n",
    "    .groupby(['polarity', 'chromatography'])\n",
    "    .apply(lambda pol_group: pol_group.groupby('compound_name').head(1))\n",
    "    .reset_index(drop=True) \n",
    ")\n",
    "\n",
    "# enrich for atlas related metadata\n",
    "top_adducts_per_pol['rt_min'] = top_adducts_per_pol['rt_peak'] - 0.5\n",
    "top_adducts_per_pol['rt_max'] = top_adducts_per_pol['rt_peak'] + 0.5\n",
    "top_adducts_per_pol['label'] = top_adducts_per_pol['compound_name']\n",
    "top_adducts_per_pol['mz_tolerance'] = 5\n",
    "top_adducts_per_pol['inchi'] = top_adducts_per_pol['smiles'].apply(lambda row: AllChem.MolToInchi(AllChem.MolFromSmiles(row)))\n",
    "top_adducts_per_pol['inchi_key'] = top_adducts_per_pol['inchi'].apply(AllChem.InchiToInchiKey)\n",
    "\n",
    "# rename and drop columns to match metatlas atlas convenction\n",
    "top_adducts_per_pol.rename({'mz_theoretical': 'mz'})\n",
    "top_adducts_per_pol['polarity'] = top_adducts_per_pol['polarity'].apply(lambda pol: 'positive' if pol == 'POS' else 'negative')\n",
    "top_adducts_per_pol.drop(columns=['lcmsrun', 'intensity', 'mz_observed', 'ppm_error'], inplace=True)\n",
    "\n",
    "pos_annotations = top_adducts_per_pol[top_adducts_per_pol['polarity'] == 'positive']\n",
    "neg_annotations = top_adducts_per_pol[top_adducts_per_pol['polarity'] == 'negative']\n",
    "\n",
    "c18_pos_annotations = pos_annotations[pos_annotations['chromatography'] == 'C18'].drop(columns=['chromatography']).sort_values('rt_peak')\n",
    "c18_neg_annotations = neg_annotations[neg_annotations['chromatography'] == 'C18'].drop(columns=['chromatography']).sort_values('rt_peak')\n",
    "\n",
    "hilic_pos_annotations = pos_annotations[pos_annotations['chromatography'] == 'HILICZ'].drop(columns=['chromatography']).sort_values('rt_peak')\n",
    "hilic_neg_annotations = neg_annotations[neg_annotations['chromatography'] == 'HILICZ'].drop(columns=['chromatography']).sort_values('rt_peak')"
   ]
  },
  {
   "cell_type": "code",
   "execution_count": null,
   "id": "734c8b2f-295c-4076-a03f-654becdf92f7",
   "metadata": {
    "tags": []
   },
   "outputs": [],
   "source": [
    "c18_pos_annotations.to_csv('metasci_phenolics_c18_pos_annotations.csv')\n",
    "c18_neg_annotations.to_csv('metasci_phenolics_c18_neg_annotations.csv')\n",
    "\n",
    "# hilic_pos_annotations.to_csv('scheller_hilic_pos_annotations.csv')\n",
    "# hilic_neg_annotations.to_csv('scheller_hilic_neg_annotations.csv')"
   ]
  },
  {
   "cell_type": "markdown",
   "id": "52918b99-1ecb-49db-b2cc-e49efc418fd5",
   "metadata": {},
   "source": [
    "### Use pubchempy to get smiles from Inchi Key"
   ]
  },
  {
   "cell_type": "code",
   "execution_count": null,
   "id": "ffb48418-a08b-451a-b47c-d08987e4e356",
   "metadata": {
    "tags": []
   },
   "outputs": [],
   "source": [
    "import pubchempy as pcp\n",
    "import pandas as pd\n",
    "from rdkit.Chem import AllChem, Draw\n",
    "\n",
    "from tqdm.notebook import tqdm\n",
    "tqdm.pandas()\n",
    "\n",
    "def smiles_from_inchi_key(inchi_key):\n",
    "    compound = pcp.get_compounds(inchi_key, 'inchikey')\n",
    "    return compound[0].canonical_smiles if compound else None\n",
    "\n",
    "\n",
    "def display_smiles(smiles):\n",
    "    mol = AllChem.MolFromSmiles(smiles)\n",
    "    if mol:\n",
    "        return Draw.MolToImage(mol)\n",
    "    else:\n",
    "        print(\"Invalid SMILES string.\")\n",
    "        return None\n",
    "\n",
    "# Example usage\n",
    "inchikey = \"BSYNRYMUTXBXSQ-UHFFFAOYSA-N\"\n",
    "name = \"glucose\"\n",
    "\n",
    "print(smiles_from_inchi_key(inchikey))\n"
   ]
  },
  {
   "cell_type": "code",
   "execution_count": null,
   "id": "99099f93-cb65-4a46-9330-f925ab473101",
   "metadata": {
    "tags": []
   },
   "outputs": [],
   "source": [
    "inchi_key_sheet = pd.read_csv('metasci_phenolics_annotation_input.csv')"
   ]
  },
  {
   "cell_type": "code",
   "execution_count": null,
   "id": "b0278f73-3405-492f-a657-bf7f8c9a892f",
   "metadata": {
    "tags": []
   },
   "outputs": [],
   "source": [
    "inchi_key_sheet['smiles'] = inchi_key_sheet['inchi_key'].progress_apply(smiles_from_inchi_key)"
   ]
  },
  {
   "cell_type": "code",
   "execution_count": null,
   "id": "8e764349-d8b3-45fa-bcc3-589b4ff62b05",
   "metadata": {
    "tags": []
   },
   "outputs": [],
   "source": [
    "for idx, row in inchi_key_sheet[['smiles', 'compound_name']].iterrows():\n",
    "    print('-----------------------------------------------')\n",
    "    print(row.compound_name)\n",
    "    \n",
    "    img = display_smiles(row.smiles)\n",
    "    if img:\n",
    "        img.show()"
   ]
  },
  {
   "cell_type": "code",
   "execution_count": null,
   "id": "ad875bd3-7f0d-4999-b075-b620f751e2f6",
   "metadata": {
    "tags": []
   },
   "outputs": [],
   "source": [
    "inchi_key_sheet.to_csv('metasci_phenolics_annotation_input.csv', index=False)"
   ]
  },
  {
   "cell_type": "markdown",
   "id": "c48d6335-220d-4664-8905-78f777cccdd7",
   "metadata": {},
   "source": [
    "### Check if standard compounds are in production atlases"
   ]
  },
  {
   "cell_type": "code",
   "execution_count": null,
   "id": "e0a1aef3-91da-49f7-866d-b9f546e2b4bd",
   "metadata": {
    "tags": []
   },
   "outputs": [],
   "source": [
    "from difflib import get_close_matches\n",
    "import pandas as pd\n",
    "import glob\n",
    "import os\n",
    "import numpy as np"
   ]
  },
  {
   "cell_type": "code",
   "execution_count": null,
   "id": "8f2d4677-81a4-40bf-859e-1490befa555c",
   "metadata": {
    "tags": []
   },
   "outputs": [],
   "source": [
    "all_standards = glob.glob(os.path.join('../repos/metatlas-data/*/', '*.tsv'))"
   ]
  },
  {
   "cell_type": "code",
   "execution_count": null,
   "id": "7376a153-021b-46b1-9b02-1d5d31d2f683",
   "metadata": {
    "tags": []
   },
   "outputs": [],
   "source": [
    "stds_dfs = []\n",
    "for df_path in all_standards:\n",
    "    stds_dfs.append(pd.read_csv(df_path, sep='\\t'))\n",
    "    \n",
    "stds_df = pd.concat(stds_dfs)"
   ]
  },
  {
   "cell_type": "code",
   "execution_count": null,
   "id": "dd707ba9-112f-4c9e-8580-b5c59b914985",
   "metadata": {
    "tags": []
   },
   "outputs": [],
   "source": [
    "scehller_stds = pd.read_csv('scheller_test.csv')"
   ]
  },
  {
   "cell_type": "code",
   "execution_count": null,
   "id": "45ee0fa7-2d02-4eed-9b96-bfe56bf0855e",
   "metadata": {
    "tags": []
   },
   "outputs": [],
   "source": [
    "scehller_stds['compound_name']"
   ]
  },
  {
   "cell_type": "code",
   "execution_count": null,
   "id": "b5a78fdd-7378-48ee-8e6b-1ce13d037efe",
   "metadata": {
    "tags": []
   },
   "outputs": [],
   "source": [
    "stds_df.columns"
   ]
  },
  {
   "cell_type": "code",
   "execution_count": null,
   "id": "1585dacd-f971-4755-8ee5-c4595c884e29",
   "metadata": {
    "tags": []
   },
   "outputs": [],
   "source": [
    "def find_similarities(df_column, target_list, cutoff=0.8):\n",
    "    \"\"\"\n",
    "    Finds matches in a DataFrame column for a list of target strings based on string similarity.\n",
    "    Args:\n",
    "        df_column (pd.Series): DataFrame column to search.\n",
    "        target_list (list): List of strings to match against.\n",
    "        cutoff (float): Minimum similarity ratio to consider (0.0 to 1.0).\n",
    "    Returns:\n",
    "        pd.DataFrame: DataFrame with the best matches and their scores.\n",
    "    \"\"\"\n",
    "    results = []\n",
    "    for target in target_list:\n",
    "        matches = get_close_matches(target, df_column.tolist(), n=1, cutoff=cutoff)\n",
    "        if matches:\n",
    "            results.append({'target': target, 'match': matches[0]})\n",
    "    return pd.DataFrame(results)\n",
    "\n",
    "# Find matches\n",
    "matches_df = find_similarities(stds_df['label'], scehller_stds['compound_name'].tolist())"
   ]
  },
  {
   "cell_type": "code",
   "execution_count": null,
   "id": "eafeaba4-71a7-4777-bf0f-cb19d94cfb6d",
   "metadata": {
    "tags": []
   },
   "outputs": [],
   "source": [
    "matches_df"
   ]
  },
  {
   "cell_type": "code",
   "execution_count": null,
   "id": "04637b92-31dd-454b-b768-7429a8b98c37",
   "metadata": {},
   "outputs": [],
   "source": [
    "stds_df[stds_df['label'].str.contains('4-hydroxybenzoic acid')]"
   ]
  },
  {
   "cell_type": "markdown",
   "id": "693b2ac3-8a4c-4891-9791-4efbd7b732a4",
   "metadata": {},
   "source": [
    "### Check if compounds from atlases are in DB and MS/MS Refs"
   ]
  },
  {
   "cell_type": "code",
   "execution_count": 433,
   "id": "36bb7bc7-8edd-4655-9b3e-28ad1be892b4",
   "metadata": {
    "tags": []
   },
   "outputs": [],
   "source": [
    "import pandas as pd\n",
    "import glob\n",
    "import os\n",
    "from rdkit.Chem import AllChem\n",
    "from rdkit.Chem import rdMolDescriptors as Descriptors\n",
    "\n",
    "from metatlas.datastructures import metatlas_objects as metob\n",
    "from metatlas.tools import cheminfo\n",
    "\n",
    "from tqdm.notebook import tqdm\n",
    "\n",
    "\n",
    "def neutralize_inchi(inchi):\n",
    "    mol = AllChem.MolFromInchi(inchi)\n",
    "    neutral_mol = cheminfo.normalize_molecule(mol)\n",
    "    neutralized_inchi = AllChem.MolToInchi(neutral_mol)\n",
    "    \n",
    "    return neutralized_inchi\n",
    "\n",
    "\n",
    "def charge_from_inchi(inchi):\n",
    "    mol = AllChem.MolFromInchi(inchi)\n",
    "    charge = AllChem.GetFormalCharge(mol)\n",
    "    \n",
    "    return charge\n",
    "\n",
    "\n",
    "def formula_from_inchi(inchi):\n",
    "    mol = AllChem.MolFromInchi(inchi)\n",
    "    formula = Descriptors.CalcMolFormula(mol)\n",
    "    \n",
    "    return formula\n",
    "\n",
    "\n",
    "def monoisotopic_mass_from_inchi(inchi):\n",
    "    mol = AllChem.MolFromInchi(inchi)\n",
    "    monoisotopic_mass = Descriptors.CalcExactMolWt(mol)\n",
    "    \n",
    "    return monoisotopic_mass"
   ]
  },
  {
   "cell_type": "code",
   "execution_count": 437,
   "id": "d225c6aa-56e2-4e45-a33b-213675de4906",
   "metadata": {
    "tags": []
   },
   "outputs": [],
   "source": [
    "final_atlas_paths = glob.glob(os.path.join('./final_atlases', '*.csv'))\n",
    "final_atlas_paths = [atlas_path for atlas_path in final_atlas_paths if '_PRE' not in atlas_path and 'ema' not in atlas_path.lower() and 'putative' not in atlas_path]\n",
    "msms_refs_path = '/global/cfs/cdirs/metatlas/projects/spectral_libraries/20240430_istdv7-addition_msms_refs.tab'"
   ]
  },
  {
   "cell_type": "code",
   "execution_count": 438,
   "id": "f3a494cf-db94-41e4-9e6e-f8b910d6fc47",
   "metadata": {
    "tags": []
   },
   "outputs": [],
   "source": [
    "final_atlases = [pd.read_csv(atlas_path) for atlas_path in final_atlas_paths]"
   ]
  },
  {
   "cell_type": "code",
   "execution_count": 439,
   "id": "8c7c9f5e-0660-4f1d-913b-9c50268da1f6",
   "metadata": {
    "tags": []
   },
   "outputs": [
    {
     "data": {
      "text/plain": [
       "['./final_atlases/scheller_hilic_neg_annotations.csv',\n",
       " './final_atlases/scheller_c18_neg_annotations.csv',\n",
       " './final_atlases/metasci_phenolics_c18_pos_annotations.csv',\n",
       " './final_atlases/scheller_c18_pos_annotations_sorted.csv',\n",
       " './final_atlases/scheller_hilic_neg_annotations_sorted.csv',\n",
       " './final_atlases/metasci_flavanoids_c18_pos_annotations.csv',\n",
       " './final_atlases/metasci_phenolics_c18_neg_annotations.csv',\n",
       " './final_atlases/metasci_flavanoids_c18_neg_annotations.csv',\n",
       " './final_atlases/scheller_c18_neg_annotations_sorted.csv',\n",
       " './final_atlases/scheller_c18_pos_annotations.csv']"
      ]
     },
     "execution_count": 439,
     "metadata": {},
     "output_type": "execute_result"
    }
   ],
   "source": [
    "final_atlas_paths"
   ]
  },
  {
   "cell_type": "code",
   "execution_count": 440,
   "id": "b437dc4a-54a6-43f9-862a-fd174eac5359",
   "metadata": {
    "tags": []
   },
   "outputs": [],
   "source": [
    "all_molecules = pd.concat(final_atlases)[['label', 'inchi', 'inchi_key']].drop_duplicates()"
   ]
  },
  {
   "cell_type": "code",
   "execution_count": 441,
   "id": "b5cb88d9-82ff-449e-8d16-4ff9ce041ef5",
   "metadata": {
    "tags": []
   },
   "outputs": [],
   "source": [
    "all_molecules = all_molecules[pd.notna(all_molecules['inchi_key'])]"
   ]
  },
  {
   "cell_type": "code",
   "execution_count": 442,
   "id": "9106b38a-0d85-4197-8a8a-7667360d407e",
   "metadata": {
    "tags": []
   },
   "outputs": [
    {
     "data": {
      "application/vnd.jupyter.widget-view+json": {
       "model_id": "659631482b5c4593916dca2bad8826ea",
       "version_major": 2,
       "version_minor": 0
      },
      "text/plain": [
       "0it [00:00, ?it/s]"
      ]
     },
     "metadata": {},
     "output_type": "display_data"
    }
   ],
   "source": [
    "notin_db = []\n",
    "flat_in_db = []\n",
    "for _, molecule in tqdm(all_molecules.iterrows()):\n",
    "    inchi_key_parts = molecule.inchi_key.split('-')\n",
    "    inchi_key_parts[1] = '%'\n",
    "    flat_inchi_key = '-'.join(inchi_key_parts)\n",
    "    \n",
    "    db_entry = metob.retrieve('compound', inchi_key=molecule.inchi_key)\n",
    "    \n",
    "    if db_entry == []:\n",
    "        flat_entry = metob.retrieve('compound', inchi_key=flat_inchi_key)\n",
    "        \n",
    "        if flat_entry == []:\n",
    "            notin_db.append((molecule.label, molecule.inchi_key))\n",
    "        else:\n",
    "            flat_in_db.append((molecule.label, flat_entry[0].inchi_key))"
   ]
  },
  {
   "cell_type": "code",
   "execution_count": 443,
   "id": "ced68e07-5d94-472f-b538-37993f9426b1",
   "metadata": {
    "tags": []
   },
   "outputs": [
    {
     "data": {
      "text/plain": [
       "[]"
      ]
     },
     "execution_count": 443,
     "metadata": {},
     "output_type": "execute_result"
    }
   ],
   "source": [
    "notin_db"
   ]
  },
  {
   "cell_type": "code",
   "execution_count": 444,
   "id": "8dcf12ab-e9ac-4a30-aaa0-affa0a83d6b8",
   "metadata": {
    "tags": []
   },
   "outputs": [
    {
     "data": {
      "text/plain": [
       "[]"
      ]
     },
     "execution_count": 444,
     "metadata": {},
     "output_type": "execute_result"
    }
   ],
   "source": [
    "flat_in_db"
   ]
  },
  {
   "cell_type": "code",
   "execution_count": 445,
   "id": "ddfafeff-87ae-4e4a-b86a-0817478769bd",
   "metadata": {
    "tags": []
   },
   "outputs": [],
   "source": [
    "db_inchi_key = dict(flat_in_db)\n",
    "\n",
    "# reconcile inchi keys in atlases\n",
    "for atlas_path in final_atlas_paths:\n",
    "    atlas_df = pd.read_csv(atlas_path)\n",
    "    \n",
    "    atlas_df['inchi_key'] = atlas_df.apply(lambda row: db_inchi_key[row.label] if row.label in db_inchi_key.keys() else row.inchi_key, axis=1)\n",
    "    atlas_df.to_csv(atlas_path, index=False)"
   ]
  },
  {
   "cell_type": "code",
   "execution_count": 133,
   "id": "b7ae7765-7903-41e3-9ef3-b326814c16c6",
   "metadata": {
    "tags": []
   },
   "outputs": [],
   "source": [
    "all_molecules['neutralized_inchi'] = all_molecules['inchi'].apply(neutralize_inchi)\n",
    "all_molecules['neutralized_inchi_key'] = all_molecules['neutralized_inchi'].apply(AllChem.InchiToInchiKey)\n",
    "all_molecules['permanent_charge'] = all_molecules['neutralized_inchi'].apply(charge_from_inchi)\n",
    "all_molecules['formula'] = all_molecules['neutralized_inchi'].apply(formula_from_inchi)\n",
    "all_molecules['monoisotopic_mass'] = all_molecules['neutralized_inchi'].apply(monoisotopic_mass_from_inchi)"
   ]
  },
  {
   "cell_type": "code",
   "execution_count": 134,
   "id": "01670162-86ca-449e-bd7d-2d6afaf5e58f",
   "metadata": {
    "tags": []
   },
   "outputs": [],
   "source": [
    "all_molecules.rename(columns={'label': 'compound_name'}, inplace=True)"
   ]
  },
  {
   "cell_type": "code",
   "execution_count": 135,
   "id": "fbab9d9d-994d-4aea-8865-70698caab90b",
   "metadata": {
    "tags": []
   },
   "outputs": [
    {
     "data": {
      "text/html": [
       "<div>\n",
       "<style scoped>\n",
       "    .dataframe tbody tr th:only-of-type {\n",
       "        vertical-align: middle;\n",
       "    }\n",
       "\n",
       "    .dataframe tbody tr th {\n",
       "        vertical-align: top;\n",
       "    }\n",
       "\n",
       "    .dataframe thead th {\n",
       "        text-align: right;\n",
       "    }\n",
       "</style>\n",
       "<table border=\"1\" class=\"dataframe\">\n",
       "  <thead>\n",
       "    <tr style=\"text-align: right;\">\n",
       "      <th></th>\n",
       "      <th>compound_name</th>\n",
       "      <th>inchi</th>\n",
       "      <th>inchi_key</th>\n",
       "      <th>neutralized_inchi</th>\n",
       "      <th>neutralized_inchi_key</th>\n",
       "      <th>permanent_charge</th>\n",
       "      <th>formula</th>\n",
       "      <th>monoisotopic_mass</th>\n",
       "    </tr>\n",
       "  </thead>\n",
       "  <tbody>\n",
       "    <tr>\n",
       "      <th>6</th>\n",
       "      <td>cis-aconitic acid</td>\n",
       "      <td>InChI=1S/C6H6O6/c7-4(8)1-3(6(11)12)2-5(9)10/h1...</td>\n",
       "      <td>GTZCVFVGUGFEME-HNQUOIGGSA-N</td>\n",
       "      <td>InChI=1S/C6H6O6/c7-4(8)1-3(6(11)12)2-5(9)10/h1...</td>\n",
       "      <td>GTZCVFVGUGFEME-IWQZZHSRSA-N</td>\n",
       "      <td>0</td>\n",
       "      <td>C6H6O6</td>\n",
       "      <td>174.016438</td>\n",
       "    </tr>\n",
       "    <tr>\n",
       "      <th>11</th>\n",
       "      <td>chlorogenic acid</td>\n",
       "      <td>InChI=1S/C16H18O9/c17-9-3-1-8(5-10(9)18)2-4-13...</td>\n",
       "      <td>CWVRJTMFETXNAD-JUHZACGLSA-N</td>\n",
       "      <td>InChI=1S/C16H18O9/c17-9-3-1-8(5-10(9)18)2-4-13...</td>\n",
       "      <td>CWVRJTMFETXNAD-UHFFFAOYSA-N</td>\n",
       "      <td>0</td>\n",
       "      <td>C16H18O9</td>\n",
       "      <td>354.095082</td>\n",
       "    </tr>\n",
       "    <tr>\n",
       "      <th>17</th>\n",
       "      <td>p-coumaric acid</td>\n",
       "      <td>InChI=1S/C9H8O3/c10-8-4-1-7(2-5-8)3-6-9(11)12/...</td>\n",
       "      <td>NGSWKAQJJWESNS-ZZXKWVIFSA-N</td>\n",
       "      <td>InChI=1S/C9H8O3/c10-8-4-1-7(2-5-8)3-6-9(11)12/...</td>\n",
       "      <td>NGSWKAQJJWESNS-UHFFFAOYSA-N</td>\n",
       "      <td>0</td>\n",
       "      <td>C9H8O3</td>\n",
       "      <td>164.047344</td>\n",
       "    </tr>\n",
       "    <tr>\n",
       "      <th>18</th>\n",
       "      <td>alpha-methyl-cinnamic acid</td>\n",
       "      <td>InChI=1S/C10H10O2/c1-8(10(11)12)7-9-5-3-2-4-6-...</td>\n",
       "      <td>XNCRUNXWPDJHGV-BQYQJAHWSA-N</td>\n",
       "      <td>InChI=1S/C10H10O2/c1-8(10(11)12)7-9-5-3-2-4-6-...</td>\n",
       "      <td>XNCRUNXWPDJHGV-UHFFFAOYSA-N</td>\n",
       "      <td>0</td>\n",
       "      <td>C10H10O2</td>\n",
       "      <td>162.068080</td>\n",
       "    </tr>\n",
       "    <tr>\n",
       "      <th>19</th>\n",
       "      <td>coniferyl alcohol</td>\n",
       "      <td>InChI=1S/C10H12O3/c1-13-10-7-8(3-2-6-11)4-5-9(...</td>\n",
       "      <td>JMFRWRFFLBVWSI-NSCUHMNNSA-N</td>\n",
       "      <td>InChI=1S/C10H12O3/c1-13-10-7-8(3-2-6-11)4-5-9(...</td>\n",
       "      <td>JMFRWRFFLBVWSI-UHFFFAOYSA-N</td>\n",
       "      <td>0</td>\n",
       "      <td>C10H12O3</td>\n",
       "      <td>180.078644</td>\n",
       "    </tr>\n",
       "    <tr>\n",
       "      <th>20</th>\n",
       "      <td>caffeic acid</td>\n",
       "      <td>InChI=1S/C9H8O4/c10-7-3-1-6(5-8(7)11)2-4-9(12)...</td>\n",
       "      <td>QAIPRVGONGVQAS-RQOWECAXSA-N</td>\n",
       "      <td>InChI=1S/C9H8O4/c10-7-3-1-6(5-8(7)11)2-4-9(12)...</td>\n",
       "      <td>QAIPRVGONGVQAS-UHFFFAOYSA-N</td>\n",
       "      <td>0</td>\n",
       "      <td>C9H8O4</td>\n",
       "      <td>180.042259</td>\n",
       "    </tr>\n",
       "    <tr>\n",
       "      <th>22</th>\n",
       "      <td>ferulic acid</td>\n",
       "      <td>InChI=1S/C10H10O4/c1-14-9-6-7(2-4-8(9)11)3-5-1...</td>\n",
       "      <td>KSEBMYQBYZTDHS-HWKANZROSA-N</td>\n",
       "      <td>InChI=1S/C10H10O4/c1-14-9-6-7(2-4-8(9)11)3-5-1...</td>\n",
       "      <td>KSEBMYQBYZTDHS-UHFFFAOYSA-N</td>\n",
       "      <td>0</td>\n",
       "      <td>C10H10O4</td>\n",
       "      <td>194.057909</td>\n",
       "    </tr>\n",
       "    <tr>\n",
       "      <th>24</th>\n",
       "      <td>sinapic acid</td>\n",
       "      <td>InChI=1S/C11H12O5/c1-15-8-5-7(3-4-10(12)13)6-9...</td>\n",
       "      <td>PCMORTLOPMLEFB-ONEGZZNKSA-N</td>\n",
       "      <td>InChI=1S/C11H12O5/c1-15-8-5-7(3-4-10(12)13)6-9...</td>\n",
       "      <td>PCMORTLOPMLEFB-UHFFFAOYSA-N</td>\n",
       "      <td>0</td>\n",
       "      <td>C11H12O5</td>\n",
       "      <td>224.068473</td>\n",
       "    </tr>\n",
       "    <tr>\n",
       "      <th>29</th>\n",
       "      <td>resveratrol</td>\n",
       "      <td>InChI=1S/C14H12O3/c15-12-5-3-10(4-6-12)1-2-11-...</td>\n",
       "      <td>LUKBXSAWLPMMSZ-OWOJBTEDSA-N</td>\n",
       "      <td>InChI=1S/C14H12O3/c15-12-5-3-10(4-6-12)1-2-11-...</td>\n",
       "      <td>LUKBXSAWLPMMSZ-UHFFFAOYSA-N</td>\n",
       "      <td>0</td>\n",
       "      <td>C14H12O3</td>\n",
       "      <td>228.078644</td>\n",
       "    </tr>\n",
       "    <tr>\n",
       "      <th>36</th>\n",
       "      <td>trans-cinnamic acid</td>\n",
       "      <td>InChI=1S/C9H8O2/c10-9(11)7-6-8-4-2-1-3-5-8/h1-...</td>\n",
       "      <td>WBYWAXJHAXSJNI-VOTSOKGWSA-N</td>\n",
       "      <td>InChI=1S/C9H8O2/c10-9(11)7-6-8-4-2-1-3-5-8/h1-...</td>\n",
       "      <td>WBYWAXJHAXSJNI-UHFFFAOYSA-N</td>\n",
       "      <td>0</td>\n",
       "      <td>C9H8O2</td>\n",
       "      <td>148.052429</td>\n",
       "    </tr>\n",
       "    <tr>\n",
       "      <th>7</th>\n",
       "      <td>neohesperidin</td>\n",
       "      <td>InChI=1S/C28H34O15/c1-10-21(33)23(35)25(37)27(...</td>\n",
       "      <td>ARGKVCXINMKCAZ-QGFYHPQASA-N</td>\n",
       "      <td>InChI=1S/C28H34O15/c1-10-21(33)23(35)25(37)27(...</td>\n",
       "      <td>ARGKVCXINMKCAZ-UZRWAPQLSA-N</td>\n",
       "      <td>0</td>\n",
       "      <td>C28H34O15</td>\n",
       "      <td>610.189770</td>\n",
       "    </tr>\n",
       "    <tr>\n",
       "      <th>20</th>\n",
       "      <td>puerarin</td>\n",
       "      <td>InChI=1S/C21H20O9/c22-7-14-17(26)18(27)19(28)2...</td>\n",
       "      <td>HKEAFJYKMMKDOR-UHFFFAOYSA-N</td>\n",
       "      <td>InChI=1S/C21H20O9/c22-7-14-17(26)18(27)19(28)2...</td>\n",
       "      <td>HKEAFJYKMMKDOR-VPRICQMDSA-N</td>\n",
       "      <td>0</td>\n",
       "      <td>C21H20O9</td>\n",
       "      <td>416.110732</td>\n",
       "    </tr>\n",
       "  </tbody>\n",
       "</table>\n",
       "</div>"
      ],
      "text/plain": [
       "                 compound_name  \\\n",
       "6            cis-aconitic acid   \n",
       "11            chlorogenic acid   \n",
       "17             p-coumaric acid   \n",
       "18  alpha-methyl-cinnamic acid   \n",
       "19           coniferyl alcohol   \n",
       "20                caffeic acid   \n",
       "22                ferulic acid   \n",
       "24                sinapic acid   \n",
       "29                 resveratrol   \n",
       "36         trans-cinnamic acid   \n",
       "7                neohesperidin   \n",
       "20                    puerarin   \n",
       "\n",
       "                                                inchi  \\\n",
       "6   InChI=1S/C6H6O6/c7-4(8)1-3(6(11)12)2-5(9)10/h1...   \n",
       "11  InChI=1S/C16H18O9/c17-9-3-1-8(5-10(9)18)2-4-13...   \n",
       "17  InChI=1S/C9H8O3/c10-8-4-1-7(2-5-8)3-6-9(11)12/...   \n",
       "18  InChI=1S/C10H10O2/c1-8(10(11)12)7-9-5-3-2-4-6-...   \n",
       "19  InChI=1S/C10H12O3/c1-13-10-7-8(3-2-6-11)4-5-9(...   \n",
       "20  InChI=1S/C9H8O4/c10-7-3-1-6(5-8(7)11)2-4-9(12)...   \n",
       "22  InChI=1S/C10H10O4/c1-14-9-6-7(2-4-8(9)11)3-5-1...   \n",
       "24  InChI=1S/C11H12O5/c1-15-8-5-7(3-4-10(12)13)6-9...   \n",
       "29  InChI=1S/C14H12O3/c15-12-5-3-10(4-6-12)1-2-11-...   \n",
       "36  InChI=1S/C9H8O2/c10-9(11)7-6-8-4-2-1-3-5-8/h1-...   \n",
       "7   InChI=1S/C28H34O15/c1-10-21(33)23(35)25(37)27(...   \n",
       "20  InChI=1S/C21H20O9/c22-7-14-17(26)18(27)19(28)2...   \n",
       "\n",
       "                      inchi_key  \\\n",
       "6   GTZCVFVGUGFEME-HNQUOIGGSA-N   \n",
       "11  CWVRJTMFETXNAD-JUHZACGLSA-N   \n",
       "17  NGSWKAQJJWESNS-ZZXKWVIFSA-N   \n",
       "18  XNCRUNXWPDJHGV-BQYQJAHWSA-N   \n",
       "19  JMFRWRFFLBVWSI-NSCUHMNNSA-N   \n",
       "20  QAIPRVGONGVQAS-RQOWECAXSA-N   \n",
       "22  KSEBMYQBYZTDHS-HWKANZROSA-N   \n",
       "24  PCMORTLOPMLEFB-ONEGZZNKSA-N   \n",
       "29  LUKBXSAWLPMMSZ-OWOJBTEDSA-N   \n",
       "36  WBYWAXJHAXSJNI-VOTSOKGWSA-N   \n",
       "7   ARGKVCXINMKCAZ-QGFYHPQASA-N   \n",
       "20  HKEAFJYKMMKDOR-UHFFFAOYSA-N   \n",
       "\n",
       "                                    neutralized_inchi  \\\n",
       "6   InChI=1S/C6H6O6/c7-4(8)1-3(6(11)12)2-5(9)10/h1...   \n",
       "11  InChI=1S/C16H18O9/c17-9-3-1-8(5-10(9)18)2-4-13...   \n",
       "17  InChI=1S/C9H8O3/c10-8-4-1-7(2-5-8)3-6-9(11)12/...   \n",
       "18  InChI=1S/C10H10O2/c1-8(10(11)12)7-9-5-3-2-4-6-...   \n",
       "19  InChI=1S/C10H12O3/c1-13-10-7-8(3-2-6-11)4-5-9(...   \n",
       "20  InChI=1S/C9H8O4/c10-7-3-1-6(5-8(7)11)2-4-9(12)...   \n",
       "22  InChI=1S/C10H10O4/c1-14-9-6-7(2-4-8(9)11)3-5-1...   \n",
       "24  InChI=1S/C11H12O5/c1-15-8-5-7(3-4-10(12)13)6-9...   \n",
       "29  InChI=1S/C14H12O3/c15-12-5-3-10(4-6-12)1-2-11-...   \n",
       "36  InChI=1S/C9H8O2/c10-9(11)7-6-8-4-2-1-3-5-8/h1-...   \n",
       "7   InChI=1S/C28H34O15/c1-10-21(33)23(35)25(37)27(...   \n",
       "20  InChI=1S/C21H20O9/c22-7-14-17(26)18(27)19(28)2...   \n",
       "\n",
       "          neutralized_inchi_key  permanent_charge    formula  \\\n",
       "6   GTZCVFVGUGFEME-IWQZZHSRSA-N                 0     C6H6O6   \n",
       "11  CWVRJTMFETXNAD-UHFFFAOYSA-N                 0   C16H18O9   \n",
       "17  NGSWKAQJJWESNS-UHFFFAOYSA-N                 0     C9H8O3   \n",
       "18  XNCRUNXWPDJHGV-UHFFFAOYSA-N                 0   C10H10O2   \n",
       "19  JMFRWRFFLBVWSI-UHFFFAOYSA-N                 0   C10H12O3   \n",
       "20  QAIPRVGONGVQAS-UHFFFAOYSA-N                 0     C9H8O4   \n",
       "22  KSEBMYQBYZTDHS-UHFFFAOYSA-N                 0   C10H10O4   \n",
       "24  PCMORTLOPMLEFB-UHFFFAOYSA-N                 0   C11H12O5   \n",
       "29  LUKBXSAWLPMMSZ-UHFFFAOYSA-N                 0   C14H12O3   \n",
       "36  WBYWAXJHAXSJNI-UHFFFAOYSA-N                 0     C9H8O2   \n",
       "7   ARGKVCXINMKCAZ-UZRWAPQLSA-N                 0  C28H34O15   \n",
       "20  HKEAFJYKMMKDOR-VPRICQMDSA-N                 0   C21H20O9   \n",
       "\n",
       "    monoisotopic_mass  \n",
       "6          174.016438  \n",
       "11         354.095082  \n",
       "17         164.047344  \n",
       "18         162.068080  \n",
       "19         180.078644  \n",
       "20         180.042259  \n",
       "22         194.057909  \n",
       "24         224.068473  \n",
       "29         228.078644  \n",
       "36         148.052429  \n",
       "7          610.189770  \n",
       "20         416.110732  "
      ]
     },
     "execution_count": 135,
     "metadata": {},
     "output_type": "execute_result"
    }
   ],
   "source": [
    "all_molecules[all_molecules['inchi_key'] != all_molecules['neutralized_inchi_key']]"
   ]
  },
  {
   "cell_type": "code",
   "execution_count": 136,
   "id": "d42ec4eb-2df7-49f8-a5a3-adbb1ce70a8a",
   "metadata": {
    "tags": []
   },
   "outputs": [],
   "source": [
    "all_molecules.reset_index(drop=True, inplace=True)\n",
    "\n",
    "metatlas_compounds = []\n",
    "for idx, row in all_molecules.iterrows():\n",
    "    cpd = metob.Compound()\n",
    "    \n",
    "    cpd.name = row.compound_name\n",
    "    cpd.inchi = row.inchi\n",
    "    cpd.inchi_key = row.inchi_key\n",
    "    cpd.neutralized_inchi = row.neutralized_inchi\n",
    "    cpd.neutralized_inchi_key = row.neutralized_inchi_key\n",
    "    cpd.formula = row.formula\n",
    "    cpd.mono_isotopic_molecular_weight = row.monoisotopic_mass\n",
    "    cpd.permanent_charge = row.permanent_charge\n",
    "    \n",
    "    cpd.description = ''\n",
    "    \n",
    "    metatlas_compounds.append(cpd)"
   ]
  },
  {
   "cell_type": "code",
   "execution_count": 137,
   "id": "bbae7f23-4a47-48fb-a876-6f84e0e8104c",
   "metadata": {
    "tags": []
   },
   "outputs": [],
   "source": [
    "# metob.store(metatlas_compounds)"
   ]
  },
  {
   "cell_type": "code",
   "execution_count": 138,
   "id": "5a370a78-0f06-4762-bd46-26620cb6b47a",
   "metadata": {
    "tags": []
   },
   "outputs": [],
   "source": [
    "# after adding to DB, check msms refs"
   ]
  },
  {
   "cell_type": "code",
   "execution_count": 446,
   "id": "483aec3a-e42d-4cbb-be81-6ec173296ea5",
   "metadata": {
    "tags": []
   },
   "outputs": [
    {
     "name": "stderr",
     "output_type": "stream",
     "text": [
      "/tmp/ipykernel_1466893/1958213435.py:1: DtypeWarning: Columns (2,12) have mixed types. Specify dtype option on import or set low_memory=False.\n",
      "  msms_refs = pd.read_csv(msms_refs_path, sep='\\t', index_col=0)\n"
     ]
    }
   ],
   "source": [
    "msms_refs = pd.read_csv(msms_refs_path, sep='\\t', index_col=0)"
   ]
  },
  {
   "cell_type": "code",
   "execution_count": 447,
   "id": "71776a5f-8657-4317-a798-622e503e7054",
   "metadata": {
    "tags": []
   },
   "outputs": [],
   "source": [
    "msms_refs_molecules = msms_refs[['name', 'inchi', 'inchi_key']].drop_duplicates()"
   ]
  },
  {
   "cell_type": "code",
   "execution_count": 448,
   "id": "37d40db9-3645-4efe-acc3-c0e3784c35a4",
   "metadata": {
    "tags": []
   },
   "outputs": [
    {
     "data": {
      "text/html": [
       "<div>\n",
       "<style scoped>\n",
       "    .dataframe tbody tr th:only-of-type {\n",
       "        vertical-align: middle;\n",
       "    }\n",
       "\n",
       "    .dataframe tbody tr th {\n",
       "        vertical-align: top;\n",
       "    }\n",
       "\n",
       "    .dataframe thead th {\n",
       "        text-align: right;\n",
       "    }\n",
       "</style>\n",
       "<table border=\"1\" class=\"dataframe\">\n",
       "  <thead>\n",
       "    <tr style=\"text-align: right;\">\n",
       "      <th></th>\n",
       "      <th>name</th>\n",
       "      <th>inchi</th>\n",
       "      <th>inchi_key</th>\n",
       "    </tr>\n",
       "  </thead>\n",
       "  <tbody>\n",
       "    <tr>\n",
       "      <th>0</th>\n",
       "      <td>L-threonic acid</td>\n",
       "      <td>InChI=1S/C4H8O5/c5-1-2(6)3(7)4(8)9/h2-3,5-7H,1...</td>\n",
       "      <td>JPIJQSOTBSSVTP-STHAYSLISA-N</td>\n",
       "    </tr>\n",
       "    <tr>\n",
       "      <th>1</th>\n",
       "      <td>Udp-glucuronic acid</td>\n",
       "      <td>InChI=1S/C15H22N2O18P2/c18-5-1-2-17(15(26)16-5...</td>\n",
       "      <td>HDYANYHVCAPMJV-LXQIFKJMSA-N</td>\n",
       "    </tr>\n",
       "    <tr>\n",
       "      <th>2</th>\n",
       "      <td>Guanidinosuccinic acid</td>\n",
       "      <td>InChI=1S/C5H9N3O4/c6-5(7)8-2(4(11)12)1-3(9)10/...</td>\n",
       "      <td>VVHOUVWJCQOYGG-REOHCLBHSA-N</td>\n",
       "    </tr>\n",
       "    <tr>\n",
       "      <th>3</th>\n",
       "      <td>cytosine</td>\n",
       "      <td>InChI=1S/C4H5N3O/c5-3-1-2-6-4(8)7-3/h1-2H,(H3,...</td>\n",
       "      <td>OPTASPLRGRRNAP-UHFFFAOYSA-N</td>\n",
       "    </tr>\n",
       "    <tr>\n",
       "      <th>4</th>\n",
       "      <td>anthranilic acid</td>\n",
       "      <td>InChI=1S/C7H7NO2/c8-6-4-2-1-3-5(6)7(9)10/h1-4H...</td>\n",
       "      <td>RWZYAGGXGHYGMB-UHFFFAOYSA-N</td>\n",
       "    </tr>\n",
       "    <tr>\n",
       "      <th>...</th>\n",
       "      <td>...</td>\n",
       "      <td>...</td>\n",
       "      <td>...</td>\n",
       "    </tr>\n",
       "    <tr>\n",
       "      <th>216408</th>\n",
       "      <td>aspartic acid</td>\n",
       "      <td>InChI=1S/C4H7NO4/c5-2(4(8)9)1-3(6)7/h2H,1,5H2,...</td>\n",
       "      <td>CKLJMWTZIZZHCS-NYTNKSBQSA-N</td>\n",
       "    </tr>\n",
       "    <tr>\n",
       "      <th>216416</th>\n",
       "      <td>Fumaric acid</td>\n",
       "      <td>InChI=1S/C4H4O4/c5-3(6)1-2-4(7)8/h1-2H,(H,5,6)...</td>\n",
       "      <td>VZCYOOQTPOCHFL-BHBLSLFXSA-N</td>\n",
       "    </tr>\n",
       "    <tr>\n",
       "      <th>216420</th>\n",
       "      <td>cystine</td>\n",
       "      <td>InChI=1S/C6H12N2O4S2/c7-3(5(9)10)1-13-14-2-4(8...</td>\n",
       "      <td>LEVWYRKDKASIDU-OGYFDXEDSA-N</td>\n",
       "    </tr>\n",
       "    <tr>\n",
       "      <th>216428</th>\n",
       "      <td>arginine</td>\n",
       "      <td>InChI=1S/C6H14N4O2/c7-4(5(11)12)2-1-3-10-6(8)9...</td>\n",
       "      <td>ODKSFYDXXFIFQN-GZYYCROJSA-N</td>\n",
       "    </tr>\n",
       "    <tr>\n",
       "      <th>216436</th>\n",
       "      <td>lysine</td>\n",
       "      <td>InChI=1S/C6H14N2O2/c7-4-2-1-3-5(8)6(9)10/h5H,1...</td>\n",
       "      <td>KDXKERNSBIXSRK-JMKXWGMHSA-N</td>\n",
       "    </tr>\n",
       "  </tbody>\n",
       "</table>\n",
       "<p>15666 rows × 3 columns</p>\n",
       "</div>"
      ],
      "text/plain": [
       "                          name  \\\n",
       "0              L-threonic acid   \n",
       "1          Udp-glucuronic acid   \n",
       "2       Guanidinosuccinic acid   \n",
       "3                     cytosine   \n",
       "4             anthranilic acid   \n",
       "...                        ...   \n",
       "216408           aspartic acid   \n",
       "216416            Fumaric acid   \n",
       "216420                 cystine   \n",
       "216428                arginine   \n",
       "216436                  lysine   \n",
       "\n",
       "                                                    inchi  \\\n",
       "0       InChI=1S/C4H8O5/c5-1-2(6)3(7)4(8)9/h2-3,5-7H,1...   \n",
       "1       InChI=1S/C15H22N2O18P2/c18-5-1-2-17(15(26)16-5...   \n",
       "2       InChI=1S/C5H9N3O4/c6-5(7)8-2(4(11)12)1-3(9)10/...   \n",
       "3       InChI=1S/C4H5N3O/c5-3-1-2-6-4(8)7-3/h1-2H,(H3,...   \n",
       "4       InChI=1S/C7H7NO2/c8-6-4-2-1-3-5(6)7(9)10/h1-4H...   \n",
       "...                                                   ...   \n",
       "216408  InChI=1S/C4H7NO4/c5-2(4(8)9)1-3(6)7/h2H,1,5H2,...   \n",
       "216416  InChI=1S/C4H4O4/c5-3(6)1-2-4(7)8/h1-2H,(H,5,6)...   \n",
       "216420  InChI=1S/C6H12N2O4S2/c7-3(5(9)10)1-13-14-2-4(8...   \n",
       "216428  InChI=1S/C6H14N4O2/c7-4(5(11)12)2-1-3-10-6(8)9...   \n",
       "216436  InChI=1S/C6H14N2O2/c7-4-2-1-3-5(8)6(9)10/h5H,1...   \n",
       "\n",
       "                          inchi_key  \n",
       "0       JPIJQSOTBSSVTP-STHAYSLISA-N  \n",
       "1       HDYANYHVCAPMJV-LXQIFKJMSA-N  \n",
       "2       VVHOUVWJCQOYGG-REOHCLBHSA-N  \n",
       "3       OPTASPLRGRRNAP-UHFFFAOYSA-N  \n",
       "4       RWZYAGGXGHYGMB-UHFFFAOYSA-N  \n",
       "...                             ...  \n",
       "216408  CKLJMWTZIZZHCS-NYTNKSBQSA-N  \n",
       "216416  VZCYOOQTPOCHFL-BHBLSLFXSA-N  \n",
       "216420  LEVWYRKDKASIDU-OGYFDXEDSA-N  \n",
       "216428  ODKSFYDXXFIFQN-GZYYCROJSA-N  \n",
       "216436  KDXKERNSBIXSRK-JMKXWGMHSA-N  \n",
       "\n",
       "[15666 rows x 3 columns]"
      ]
     },
     "execution_count": 448,
     "metadata": {},
     "output_type": "execute_result"
    }
   ],
   "source": [
    "msms_refs_molecules"
   ]
  },
  {
   "cell_type": "code",
   "execution_count": 452,
   "id": "a0caacd8-9a74-4545-97f7-25ec101c996f",
   "metadata": {
    "tags": []
   },
   "outputs": [
    {
     "data": {
      "application/vnd.jupyter.widget-view+json": {
       "model_id": "fe702beef7464fcd8f505a74c4b47f95",
       "version_major": 2,
       "version_minor": 0
      },
      "text/plain": [
       "0it [00:00, ?it/s]"
      ]
     },
     "metadata": {},
     "output_type": "display_data"
    }
   ],
   "source": [
    "notin_msms_refs = []\n",
    "flatin_msms_refs = []\n",
    "for _, molecule in tqdm(all_molecules.iterrows()):\n",
    "    inchi_key_parts = molecule.inchi_key.split('-')\n",
    "    inchi_key_parts[1] = '%'\n",
    "    flat_inchi_key = '-'.join(inchi_key_parts)\n",
    "    \n",
    "    matching_refs = msms_refs.loc[msms_refs['inchi_key']==molecule.inchi_key]\n",
    "    \n",
    "    if matching_refs.empty:\n",
    "        flat_matching_refs = msms_refs.loc[msms_refs['inchi_key']==flat_inchi_key]\n",
    "        \n",
    "        if flat_matching_refs.empty:\n",
    "            notin_msms_refs.append((molecule.label, molecule.inchi_key))\n",
    "        else:\n",
    "            flatin_msms_refs.append((molecule.label, flat_matching_refs.iloc[0].inchi_key))"
   ]
  },
  {
   "cell_type": "code",
   "execution_count": 453,
   "id": "1ef90db6-0e06-4b1f-b6f9-359c41741f1d",
   "metadata": {
    "tags": []
   },
   "outputs": [
    {
     "data": {
      "text/plain": [
       "[('1-O-feruloyl-glucose', 'JWRQVQWBNRGGPK-PMQCXRHVSA-N'),\n",
       " ('sinapoylaldehyde', 'CDICDSOGTRCHMG-ONEGZZNKSA-N'),\n",
       " ('sorgoleone', 'FGWRUVXUQWGLOX-AFJQJTPPSA-N'),\n",
       " ('2,3,4-trihydroxybenzoic acid', 'BRRSNXCXLSVPFC-UHFFFAOYSA-N'),\n",
       " ('acetylphloroglucinol', 'XLEYFDVVXLMULC-UHFFFAOYSA-N'),\n",
       " ('4-acetocatechol', 'UCQUAMAQHHEXGD-UHFFFAOYSA-N'),\n",
       " ('4-ethylguaiacol', 'CHWNEIVBYREQRF-UHFFFAOYSA-N'),\n",
       " ('4-methylguaiacol', 'PETRWTHZSKVLRE-UHFFFAOYSA-N'),\n",
       " ('3,4,5-trimethoxycinnamic acid', 'YTFVRYKNXDADBI-UHFFFAOYSA-N'),\n",
       " ('3-methoxyhydrocinnamic acid', 'BJJQJLOZWBZEGA-UHFFFAOYSA-N'),\n",
       " ('4-ethylphenol', 'HXDOZKJGKXYMEW-UHFFFAOYSA-N'),\n",
       " ('trans-pterostilbene', 'VLEUZFDZJKSGMX-UHFFFAOYSA-N'),\n",
       " ('polydatin', 'HSTZMXCBWJGKHG-CUYWLFDKSA-N'),\n",
       " ('baicalin', 'IKIIZLYTISPENI-UNJWAJPSSA-N'),\n",
       " ('equol', 'ADFCQWZHKCXPAJ-GFCCVEGCSA-N'),\n",
       " ('naringin dihydrochalcone', 'CWBZAESOUBENAP-QVNVHUMTSA-N')]"
      ]
     },
     "execution_count": 453,
     "metadata": {},
     "output_type": "execute_result"
    }
   ],
   "source": [
    "notin_msms_refs"
   ]
  },
  {
   "cell_type": "code",
   "execution_count": 255,
   "id": "ea9357bc-99a5-4610-8996-8c9e06583bc6",
   "metadata": {
    "tags": []
   },
   "outputs": [
    {
     "data": {
      "text/plain": [
       "[]"
      ]
     },
     "execution_count": 255,
     "metadata": {},
     "output_type": "execute_result"
    }
   ],
   "source": [
    "flatin_msms_refs"
   ]
  },
  {
   "cell_type": "code",
   "execution_count": 256,
   "id": "cecf992d-3c15-4865-b0d0-823e4950b69c",
   "metadata": {},
   "outputs": [],
   "source": [
    "# grab top spectra for each compound adduct pair. having redundant spectra is not a problem, so I will just add everything"
   ]
  },
  {
   "cell_type": "code",
   "execution_count": 257,
   "id": "d0176074-a4b3-433e-b0f8-5aba08097a7d",
   "metadata": {
    "tags": []
   },
   "outputs": [],
   "source": [
    "combined_atlas = pd.concat(final_atlases)"
   ]
  },
  {
   "cell_type": "code",
   "execution_count": 258,
   "id": "a5bef9bd-0bcd-48a4-9df3-7c1304f49292",
   "metadata": {
    "tags": []
   },
   "outputs": [
    {
     "data": {
      "text/html": [
       "<div>\n",
       "<style scoped>\n",
       "    .dataframe tbody tr th:only-of-type {\n",
       "        vertical-align: middle;\n",
       "    }\n",
       "\n",
       "    .dataframe tbody tr th {\n",
       "        vertical-align: top;\n",
       "    }\n",
       "\n",
       "    .dataframe thead th {\n",
       "        text-align: right;\n",
       "    }\n",
       "</style>\n",
       "<table border=\"1\" class=\"dataframe\">\n",
       "  <thead>\n",
       "    <tr style=\"text-align: right;\">\n",
       "      <th></th>\n",
       "      <th>Unnamed: 0.1</th>\n",
       "      <th>Unnamed: 0</th>\n",
       "      <th>compound_name</th>\n",
       "      <th>adduct</th>\n",
       "      <th>polarity</th>\n",
       "      <th>rt_peak</th>\n",
       "      <th>mz_theoretical</th>\n",
       "      <th>smiles</th>\n",
       "      <th>rt_min</th>\n",
       "      <th>rt_max</th>\n",
       "      <th>label</th>\n",
       "      <th>mz_tolerance</th>\n",
       "      <th>inchi</th>\n",
       "      <th>inchi_key</th>\n",
       "    </tr>\n",
       "  </thead>\n",
       "  <tbody>\n",
       "    <tr>\n",
       "      <th>0</th>\n",
       "      <td>0</td>\n",
       "      <td>0</td>\n",
       "      <td>ferulic acid</td>\n",
       "      <td>[M-H]-</td>\n",
       "      <td>negative</td>\n",
       "      <td>1.38</td>\n",
       "      <td>193.050633</td>\n",
       "      <td>COC1=C(C=CC(=C1)/C=C/C(=O)O)O</td>\n",
       "      <td>0.88</td>\n",
       "      <td>1.88</td>\n",
       "      <td>ferulic acid</td>\n",
       "      <td>5</td>\n",
       "      <td>InChI=1S/C10H10O4/c1-14-9-6-7(2-4-8(9)11)3-5-1...</td>\n",
       "      <td>KSEBMYQBYZTDHS-HWKANZROSA-N</td>\n",
       "    </tr>\n",
       "    <tr>\n",
       "      <th>1</th>\n",
       "      <td>1</td>\n",
       "      <td>1</td>\n",
       "      <td>p-coumaric acid</td>\n",
       "      <td>[M-H]-</td>\n",
       "      <td>negative</td>\n",
       "      <td>1.57</td>\n",
       "      <td>163.040068</td>\n",
       "      <td>C1=CC(=CC=C1/C=C/C(=O)O)O</td>\n",
       "      <td>1.07</td>\n",
       "      <td>2.07</td>\n",
       "      <td>p-coumaric acid</td>\n",
       "      <td>5</td>\n",
       "      <td>InChI=1S/C9H8O3/c10-8-4-1-7(2-5-8)3-6-9(11)12/...</td>\n",
       "      <td>NGSWKAQJJWESNS-ZZXKWVIFSA-N</td>\n",
       "    </tr>\n",
       "    <tr>\n",
       "      <th>2</th>\n",
       "      <td>2</td>\n",
       "      <td>2</td>\n",
       "      <td>p-hydroxybenzoic acid</td>\n",
       "      <td>[M-H]-</td>\n",
       "      <td>negative</td>\n",
       "      <td>1.69</td>\n",
       "      <td>137.024418</td>\n",
       "      <td>C1=CC(=CC=C1C(=O)O)O</td>\n",
       "      <td>1.19</td>\n",
       "      <td>2.19</td>\n",
       "      <td>p-hydroxybenzoic acid</td>\n",
       "      <td>5</td>\n",
       "      <td>InChI=1S/C7H6O3/c8-6-3-1-5(2-4-6)7(9)10/h1-4,8...</td>\n",
       "      <td>FJKROLUGYXJWQN-UHFFFAOYSA-N</td>\n",
       "    </tr>\n",
       "    <tr>\n",
       "      <th>3</th>\n",
       "      <td>3</td>\n",
       "      <td>3</td>\n",
       "      <td>1-O-feruloyl-glucose</td>\n",
       "      <td>[M-H]-</td>\n",
       "      <td>negative</td>\n",
       "      <td>2.57</td>\n",
       "      <td>355.103456</td>\n",
       "      <td>COC1=C(C=CC(=C1)/C=C/C(=O)O[C@H]2[C@@H]([C@H](...</td>\n",
       "      <td>2.07</td>\n",
       "      <td>3.07</td>\n",
       "      <td>1-O-feruloyl-glucose</td>\n",
       "      <td>5</td>\n",
       "      <td>InChI=1S/C16H20O9/c1-23-10-6-8(2-4-9(10)18)3-5...</td>\n",
       "      <td>JWRQVQWBNRGGPK-PMQCXRHVSA-N</td>\n",
       "    </tr>\n",
       "    <tr>\n",
       "      <th>4</th>\n",
       "      <td>4</td>\n",
       "      <td>4</td>\n",
       "      <td>protocatechuic acid</td>\n",
       "      <td>[M-H]-</td>\n",
       "      <td>negative</td>\n",
       "      <td>3.29</td>\n",
       "      <td>153.019333</td>\n",
       "      <td>C1=CC(=C(C=C1C(=O)O)O)O</td>\n",
       "      <td>2.79</td>\n",
       "      <td>3.79</td>\n",
       "      <td>protocatechuic acid</td>\n",
       "      <td>5</td>\n",
       "      <td>InChI=1S/C7H6O4/c8-5-2-1-4(7(10)11)3-6(5)9/h1-...</td>\n",
       "      <td>YQUVCSBJEUQKSH-UHFFFAOYSA-N</td>\n",
       "    </tr>\n",
       "    <tr>\n",
       "      <th>...</th>\n",
       "      <td>...</td>\n",
       "      <td>...</td>\n",
       "      <td>...</td>\n",
       "      <td>...</td>\n",
       "      <td>...</td>\n",
       "      <td>...</td>\n",
       "      <td>...</td>\n",
       "      <td>...</td>\n",
       "      <td>...</td>\n",
       "      <td>...</td>\n",
       "      <td>...</td>\n",
       "      <td>...</td>\n",
       "      <td>...</td>\n",
       "      <td>...</td>\n",
       "    </tr>\n",
       "    <tr>\n",
       "      <th>7</th>\n",
       "      <td>7</td>\n",
       "      <td>7</td>\n",
       "      <td>ferulic acid</td>\n",
       "      <td>[M+H]+</td>\n",
       "      <td>positive</td>\n",
       "      <td>3.40</td>\n",
       "      <td>195.065185</td>\n",
       "      <td>COC1=C(C=CC(=C1)/C=C/C(=O)O)O</td>\n",
       "      <td>2.90</td>\n",
       "      <td>3.90</td>\n",
       "      <td>ferulic acid</td>\n",
       "      <td>5</td>\n",
       "      <td>InChI=1S/C10H10O4/c1-14-9-6-7(2-4-8(9)11)3-5-1...</td>\n",
       "      <td>KSEBMYQBYZTDHS-HWKANZROSA-N</td>\n",
       "    </tr>\n",
       "    <tr>\n",
       "      <th>8</th>\n",
       "      <td>8</td>\n",
       "      <td>8</td>\n",
       "      <td>coniferyl aldehyde</td>\n",
       "      <td>[M+H]+</td>\n",
       "      <td>positive</td>\n",
       "      <td>3.70</td>\n",
       "      <td>179.070270</td>\n",
       "      <td>COC1=C(C=CC(=C1)/C=C/C=O)O</td>\n",
       "      <td>3.20</td>\n",
       "      <td>4.20</td>\n",
       "      <td>coniferyl aldehyde</td>\n",
       "      <td>5</td>\n",
       "      <td>InChI=1S/C10H10O3/c1-13-10-7-8(3-2-6-11)4-5-9(...</td>\n",
       "      <td>DKZBBWMURDFHNE-NSCUHMNNSA-N</td>\n",
       "    </tr>\n",
       "    <tr>\n",
       "      <th>9</th>\n",
       "      <td>9</td>\n",
       "      <td>9</td>\n",
       "      <td>sinapoylaldehyde</td>\n",
       "      <td>[M+H]+</td>\n",
       "      <td>positive</td>\n",
       "      <td>3.74</td>\n",
       "      <td>209.080835</td>\n",
       "      <td>COC1=CC(=CC(=C1O)OC)/C=C/C=O</td>\n",
       "      <td>3.24</td>\n",
       "      <td>4.24</td>\n",
       "      <td>sinapoylaldehyde</td>\n",
       "      <td>5</td>\n",
       "      <td>InChI=1S/C11H12O4/c1-14-9-6-8(4-3-5-12)7-10(15...</td>\n",
       "      <td>CDICDSOGTRCHMG-ONEGZZNKSA-N</td>\n",
       "    </tr>\n",
       "    <tr>\n",
       "      <th>10</th>\n",
       "      <td>10</td>\n",
       "      <td>10</td>\n",
       "      <td>tricin</td>\n",
       "      <td>[M+H]+</td>\n",
       "      <td>positive</td>\n",
       "      <td>4.47</td>\n",
       "      <td>331.081229</td>\n",
       "      <td>COC1=CC(=CC(=C1O)OC)C2=CC(=O)C3=C(C=C(C=C3O2)O)O</td>\n",
       "      <td>3.97</td>\n",
       "      <td>4.97</td>\n",
       "      <td>tricin</td>\n",
       "      <td>5</td>\n",
       "      <td>InChI=1S/C17H14O7/c1-22-14-3-8(4-15(23-2)17(14...</td>\n",
       "      <td>HRGUSFBJBOKSML-UHFFFAOYSA-N</td>\n",
       "    </tr>\n",
       "    <tr>\n",
       "      <th>11</th>\n",
       "      <td>11</td>\n",
       "      <td>11</td>\n",
       "      <td>sorgoleone</td>\n",
       "      <td>[M+Na]+</td>\n",
       "      <td>positive</td>\n",
       "      <td>7.54</td>\n",
       "      <td>381.203627</td>\n",
       "      <td>COC1=CC(=O)C(=C(C1=O)CCCCCCC/C=C\\C/C=C\\CC=C)O</td>\n",
       "      <td>7.04</td>\n",
       "      <td>8.04</td>\n",
       "      <td>sorgoleone</td>\n",
       "      <td>5</td>\n",
       "      <td>InChI=1S/C22H30O4/c1-3-4-5-6-7-8-9-10-11-12-13...</td>\n",
       "      <td>FGWRUVXUQWGLOX-AFJQJTPPSA-N</td>\n",
       "    </tr>\n",
       "  </tbody>\n",
       "</table>\n",
       "<p>192 rows × 14 columns</p>\n",
       "</div>"
      ],
      "text/plain": [
       "    Unnamed: 0.1  Unnamed: 0          compound_name   adduct  polarity  \\\n",
       "0              0           0           ferulic acid   [M-H]-  negative   \n",
       "1              1           1        p-coumaric acid   [M-H]-  negative   \n",
       "2              2           2  p-hydroxybenzoic acid   [M-H]-  negative   \n",
       "3              3           3   1-O-feruloyl-glucose   [M-H]-  negative   \n",
       "4              4           4    protocatechuic acid   [M-H]-  negative   \n",
       "..           ...         ...                    ...      ...       ...   \n",
       "7              7           7           ferulic acid   [M+H]+  positive   \n",
       "8              8           8     coniferyl aldehyde   [M+H]+  positive   \n",
       "9              9           9       sinapoylaldehyde   [M+H]+  positive   \n",
       "10            10          10                 tricin   [M+H]+  positive   \n",
       "11            11          11             sorgoleone  [M+Na]+  positive   \n",
       "\n",
       "    rt_peak  mz_theoretical  \\\n",
       "0      1.38      193.050633   \n",
       "1      1.57      163.040068   \n",
       "2      1.69      137.024418   \n",
       "3      2.57      355.103456   \n",
       "4      3.29      153.019333   \n",
       "..      ...             ...   \n",
       "7      3.40      195.065185   \n",
       "8      3.70      179.070270   \n",
       "9      3.74      209.080835   \n",
       "10     4.47      331.081229   \n",
       "11     7.54      381.203627   \n",
       "\n",
       "                                               smiles  rt_min  rt_max  \\\n",
       "0                       COC1=C(C=CC(=C1)/C=C/C(=O)O)O    0.88    1.88   \n",
       "1                           C1=CC(=CC=C1/C=C/C(=O)O)O    1.07    2.07   \n",
       "2                                C1=CC(=CC=C1C(=O)O)O    1.19    2.19   \n",
       "3   COC1=C(C=CC(=C1)/C=C/C(=O)O[C@H]2[C@@H]([C@H](...    2.07    3.07   \n",
       "4                             C1=CC(=C(C=C1C(=O)O)O)O    2.79    3.79   \n",
       "..                                                ...     ...     ...   \n",
       "7                       COC1=C(C=CC(=C1)/C=C/C(=O)O)O    2.90    3.90   \n",
       "8                          COC1=C(C=CC(=C1)/C=C/C=O)O    3.20    4.20   \n",
       "9                        COC1=CC(=CC(=C1O)OC)/C=C/C=O    3.24    4.24   \n",
       "10   COC1=CC(=CC(=C1O)OC)C2=CC(=O)C3=C(C=C(C=C3O2)O)O    3.97    4.97   \n",
       "11      COC1=CC(=O)C(=C(C1=O)CCCCCCC/C=C\\C/C=C\\CC=C)O    7.04    8.04   \n",
       "\n",
       "                    label  mz_tolerance  \\\n",
       "0            ferulic acid             5   \n",
       "1         p-coumaric acid             5   \n",
       "2   p-hydroxybenzoic acid             5   \n",
       "3    1-O-feruloyl-glucose             5   \n",
       "4     protocatechuic acid             5   \n",
       "..                    ...           ...   \n",
       "7            ferulic acid             5   \n",
       "8      coniferyl aldehyde             5   \n",
       "9        sinapoylaldehyde             5   \n",
       "10                 tricin             5   \n",
       "11             sorgoleone             5   \n",
       "\n",
       "                                                inchi  \\\n",
       "0   InChI=1S/C10H10O4/c1-14-9-6-7(2-4-8(9)11)3-5-1...   \n",
       "1   InChI=1S/C9H8O3/c10-8-4-1-7(2-5-8)3-6-9(11)12/...   \n",
       "2   InChI=1S/C7H6O3/c8-6-3-1-5(2-4-6)7(9)10/h1-4,8...   \n",
       "3   InChI=1S/C16H20O9/c1-23-10-6-8(2-4-9(10)18)3-5...   \n",
       "4   InChI=1S/C7H6O4/c8-5-2-1-4(7(10)11)3-6(5)9/h1-...   \n",
       "..                                                ...   \n",
       "7   InChI=1S/C10H10O4/c1-14-9-6-7(2-4-8(9)11)3-5-1...   \n",
       "8   InChI=1S/C10H10O3/c1-13-10-7-8(3-2-6-11)4-5-9(...   \n",
       "9   InChI=1S/C11H12O4/c1-14-9-6-8(4-3-5-12)7-10(15...   \n",
       "10  InChI=1S/C17H14O7/c1-22-14-3-8(4-15(23-2)17(14...   \n",
       "11  InChI=1S/C22H30O4/c1-3-4-5-6-7-8-9-10-11-12-13...   \n",
       "\n",
       "                      inchi_key  \n",
       "0   KSEBMYQBYZTDHS-HWKANZROSA-N  \n",
       "1   NGSWKAQJJWESNS-ZZXKWVIFSA-N  \n",
       "2   FJKROLUGYXJWQN-UHFFFAOYSA-N  \n",
       "3   JWRQVQWBNRGGPK-PMQCXRHVSA-N  \n",
       "4   YQUVCSBJEUQKSH-UHFFFAOYSA-N  \n",
       "..                          ...  \n",
       "7   KSEBMYQBYZTDHS-HWKANZROSA-N  \n",
       "8   DKZBBWMURDFHNE-NSCUHMNNSA-N  \n",
       "9   CDICDSOGTRCHMG-ONEGZZNKSA-N  \n",
       "10  HRGUSFBJBOKSML-UHFFFAOYSA-N  \n",
       "11  FGWRUVXUQWGLOX-AFJQJTPPSA-N  \n",
       "\n",
       "[192 rows x 14 columns]"
      ]
     },
     "execution_count": 258,
     "metadata": {},
     "output_type": "execute_result"
    }
   ],
   "source": [
    "combined_atlas"
   ]
  },
  {
   "cell_type": "code",
   "execution_count": 259,
   "id": "852c6032-e51d-478c-a1c8-ba36fb220e9a",
   "metadata": {
    "tags": []
   },
   "outputs": [],
   "source": [
    "final_compound_adducts = combined_atlas[['label', 'adduct', 'rt_peak', 'mz_theoretical', 'inchi', 'inchi_key']].reset_index(drop=True)"
   ]
  },
  {
   "cell_type": "code",
   "execution_count": null,
   "id": "f984c70e-75ce-4669-b7a7-8e29ef961291",
   "metadata": {},
   "outputs": [],
   "source": []
  },
  {
   "cell_type": "code",
   "execution_count": 260,
   "id": "43485d71-d865-4779-a692-981e2f961fdb",
   "metadata": {
    "tags": []
   },
   "outputs": [],
   "source": [
    "top_spectra_paths = glob.glob(os.path.join('./final_atlases/', '*.json'))"
   ]
  },
  {
   "cell_type": "code",
   "execution_count": 261,
   "id": "d9267e4a-3a2f-40f9-b21c-2764b6302e9c",
   "metadata": {
    "tags": []
   },
   "outputs": [],
   "source": [
    "top_spectra_dfs = [pd.read_json(spectra_path) for spectra_path in top_spectra_paths]"
   ]
  },
  {
   "cell_type": "code",
   "execution_count": 262,
   "id": "e6624d37-c0ba-4443-9f8d-9cbfcb272036",
   "metadata": {
    "tags": []
   },
   "outputs": [],
   "source": [
    "combined_top_spectra = pd.concat(top_spectra_dfs)"
   ]
  },
  {
   "cell_type": "code",
   "execution_count": 263,
   "id": "4d5a221e-489e-4121-a323-3988d28098a9",
   "metadata": {
    "tags": []
   },
   "outputs": [],
   "source": [
    "final_compound_adducts['label_adduct'] = final_compound_adducts.apply(lambda row: f\"{row.label}_{row.adduct}\", axis=1)"
   ]
  },
  {
   "cell_type": "code",
   "execution_count": 264,
   "id": "bd79785a-c6e4-4ee9-b7b7-b3df893ffb8d",
   "metadata": {
    "tags": []
   },
   "outputs": [
    {
     "data": {
      "text/plain": [
       "(484, 8)"
      ]
     },
     "execution_count": 264,
     "metadata": {},
     "output_type": "execute_result"
    }
   ],
   "source": [
    "combined_top_spectra.shape"
   ]
  },
  {
   "cell_type": "code",
   "execution_count": 265,
   "id": "773e7aa9-9534-4d4b-8d5f-b7ac5581cdd1",
   "metadata": {
    "tags": []
   },
   "outputs": [],
   "source": [
    "combined_top_spectra = combined_top_spectra[combined_top_spectra['label'].isin(final_compound_adducts['label_adduct'].tolist())]"
   ]
  },
  {
   "cell_type": "code",
   "execution_count": 266,
   "id": "970cd07a-0481-4925-a12c-acb51ab331c5",
   "metadata": {
    "tags": []
   },
   "outputs": [
    {
     "data": {
      "text/plain": [
       "(252, 8)"
      ]
     },
     "execution_count": 266,
     "metadata": {},
     "output_type": "execute_result"
    }
   ],
   "source": [
    "combined_top_spectra.shape"
   ]
  },
  {
   "cell_type": "code",
   "execution_count": 267,
   "id": "02060f02-420a-4d8e-9422-e8a2f680dbff",
   "metadata": {
    "tags": []
   },
   "outputs": [
    {
     "data": {
      "text/html": [
       "<div>\n",
       "<style scoped>\n",
       "    .dataframe tbody tr th:only-of-type {\n",
       "        vertical-align: middle;\n",
       "    }\n",
       "\n",
       "    .dataframe tbody tr th {\n",
       "        vertical-align: top;\n",
       "    }\n",
       "\n",
       "    .dataframe thead th {\n",
       "        text-align: right;\n",
       "    }\n",
       "</style>\n",
       "<table border=\"1\" class=\"dataframe\">\n",
       "  <thead>\n",
       "    <tr style=\"text-align: right;\">\n",
       "      <th></th>\n",
       "      <th>label</th>\n",
       "      <th>adduct</th>\n",
       "      <th>rt_peak</th>\n",
       "      <th>mz_theoretical</th>\n",
       "      <th>inchi</th>\n",
       "      <th>inchi_key</th>\n",
       "      <th>label_adduct</th>\n",
       "    </tr>\n",
       "  </thead>\n",
       "  <tbody>\n",
       "    <tr>\n",
       "      <th>0</th>\n",
       "      <td>ferulic acid</td>\n",
       "      <td>[M-H]-</td>\n",
       "      <td>1.38</td>\n",
       "      <td>193.050633</td>\n",
       "      <td>InChI=1S/C10H10O4/c1-14-9-6-7(2-4-8(9)11)3-5-1...</td>\n",
       "      <td>KSEBMYQBYZTDHS-HWKANZROSA-N</td>\n",
       "      <td>ferulic acid_[M-H]-</td>\n",
       "    </tr>\n",
       "    <tr>\n",
       "      <th>1</th>\n",
       "      <td>p-coumaric acid</td>\n",
       "      <td>[M-H]-</td>\n",
       "      <td>1.57</td>\n",
       "      <td>163.040068</td>\n",
       "      <td>InChI=1S/C9H8O3/c10-8-4-1-7(2-5-8)3-6-9(11)12/...</td>\n",
       "      <td>NGSWKAQJJWESNS-ZZXKWVIFSA-N</td>\n",
       "      <td>p-coumaric acid_[M-H]-</td>\n",
       "    </tr>\n",
       "    <tr>\n",
       "      <th>2</th>\n",
       "      <td>p-hydroxybenzoic acid</td>\n",
       "      <td>[M-H]-</td>\n",
       "      <td>1.69</td>\n",
       "      <td>137.024418</td>\n",
       "      <td>InChI=1S/C7H6O3/c8-6-3-1-5(2-4-6)7(9)10/h1-4,8...</td>\n",
       "      <td>FJKROLUGYXJWQN-UHFFFAOYSA-N</td>\n",
       "      <td>p-hydroxybenzoic acid_[M-H]-</td>\n",
       "    </tr>\n",
       "    <tr>\n",
       "      <th>3</th>\n",
       "      <td>1-O-feruloyl-glucose</td>\n",
       "      <td>[M-H]-</td>\n",
       "      <td>2.57</td>\n",
       "      <td>355.103456</td>\n",
       "      <td>InChI=1S/C16H20O9/c1-23-10-6-8(2-4-9(10)18)3-5...</td>\n",
       "      <td>JWRQVQWBNRGGPK-PMQCXRHVSA-N</td>\n",
       "      <td>1-O-feruloyl-glucose_[M-H]-</td>\n",
       "    </tr>\n",
       "    <tr>\n",
       "      <th>4</th>\n",
       "      <td>protocatechuic acid</td>\n",
       "      <td>[M-H]-</td>\n",
       "      <td>3.29</td>\n",
       "      <td>153.019333</td>\n",
       "      <td>InChI=1S/C7H6O4/c8-5-2-1-4(7(10)11)3-6(5)9/h1-...</td>\n",
       "      <td>YQUVCSBJEUQKSH-UHFFFAOYSA-N</td>\n",
       "      <td>protocatechuic acid_[M-H]-</td>\n",
       "    </tr>\n",
       "    <tr>\n",
       "      <th>...</th>\n",
       "      <td>...</td>\n",
       "      <td>...</td>\n",
       "      <td>...</td>\n",
       "      <td>...</td>\n",
       "      <td>...</td>\n",
       "      <td>...</td>\n",
       "      <td>...</td>\n",
       "    </tr>\n",
       "    <tr>\n",
       "      <th>187</th>\n",
       "      <td>ferulic acid</td>\n",
       "      <td>[M+H]+</td>\n",
       "      <td>3.40</td>\n",
       "      <td>195.065185</td>\n",
       "      <td>InChI=1S/C10H10O4/c1-14-9-6-7(2-4-8(9)11)3-5-1...</td>\n",
       "      <td>KSEBMYQBYZTDHS-HWKANZROSA-N</td>\n",
       "      <td>ferulic acid_[M+H]+</td>\n",
       "    </tr>\n",
       "    <tr>\n",
       "      <th>188</th>\n",
       "      <td>coniferyl aldehyde</td>\n",
       "      <td>[M+H]+</td>\n",
       "      <td>3.70</td>\n",
       "      <td>179.070270</td>\n",
       "      <td>InChI=1S/C10H10O3/c1-13-10-7-8(3-2-6-11)4-5-9(...</td>\n",
       "      <td>DKZBBWMURDFHNE-NSCUHMNNSA-N</td>\n",
       "      <td>coniferyl aldehyde_[M+H]+</td>\n",
       "    </tr>\n",
       "    <tr>\n",
       "      <th>189</th>\n",
       "      <td>sinapoylaldehyde</td>\n",
       "      <td>[M+H]+</td>\n",
       "      <td>3.74</td>\n",
       "      <td>209.080835</td>\n",
       "      <td>InChI=1S/C11H12O4/c1-14-9-6-8(4-3-5-12)7-10(15...</td>\n",
       "      <td>CDICDSOGTRCHMG-ONEGZZNKSA-N</td>\n",
       "      <td>sinapoylaldehyde_[M+H]+</td>\n",
       "    </tr>\n",
       "    <tr>\n",
       "      <th>190</th>\n",
       "      <td>tricin</td>\n",
       "      <td>[M+H]+</td>\n",
       "      <td>4.47</td>\n",
       "      <td>331.081229</td>\n",
       "      <td>InChI=1S/C17H14O7/c1-22-14-3-8(4-15(23-2)17(14...</td>\n",
       "      <td>HRGUSFBJBOKSML-UHFFFAOYSA-N</td>\n",
       "      <td>tricin_[M+H]+</td>\n",
       "    </tr>\n",
       "    <tr>\n",
       "      <th>191</th>\n",
       "      <td>sorgoleone</td>\n",
       "      <td>[M+Na]+</td>\n",
       "      <td>7.54</td>\n",
       "      <td>381.203627</td>\n",
       "      <td>InChI=1S/C22H30O4/c1-3-4-5-6-7-8-9-10-11-12-13...</td>\n",
       "      <td>FGWRUVXUQWGLOX-AFJQJTPPSA-N</td>\n",
       "      <td>sorgoleone_[M+Na]+</td>\n",
       "    </tr>\n",
       "  </tbody>\n",
       "</table>\n",
       "<p>192 rows × 7 columns</p>\n",
       "</div>"
      ],
      "text/plain": [
       "                     label   adduct  rt_peak  mz_theoretical  \\\n",
       "0             ferulic acid   [M-H]-     1.38      193.050633   \n",
       "1          p-coumaric acid   [M-H]-     1.57      163.040068   \n",
       "2    p-hydroxybenzoic acid   [M-H]-     1.69      137.024418   \n",
       "3     1-O-feruloyl-glucose   [M-H]-     2.57      355.103456   \n",
       "4      protocatechuic acid   [M-H]-     3.29      153.019333   \n",
       "..                     ...      ...      ...             ...   \n",
       "187           ferulic acid   [M+H]+     3.40      195.065185   \n",
       "188     coniferyl aldehyde   [M+H]+     3.70      179.070270   \n",
       "189       sinapoylaldehyde   [M+H]+     3.74      209.080835   \n",
       "190                 tricin   [M+H]+     4.47      331.081229   \n",
       "191             sorgoleone  [M+Na]+     7.54      381.203627   \n",
       "\n",
       "                                                 inchi  \\\n",
       "0    InChI=1S/C10H10O4/c1-14-9-6-7(2-4-8(9)11)3-5-1...   \n",
       "1    InChI=1S/C9H8O3/c10-8-4-1-7(2-5-8)3-6-9(11)12/...   \n",
       "2    InChI=1S/C7H6O3/c8-6-3-1-5(2-4-6)7(9)10/h1-4,8...   \n",
       "3    InChI=1S/C16H20O9/c1-23-10-6-8(2-4-9(10)18)3-5...   \n",
       "4    InChI=1S/C7H6O4/c8-5-2-1-4(7(10)11)3-6(5)9/h1-...   \n",
       "..                                                 ...   \n",
       "187  InChI=1S/C10H10O4/c1-14-9-6-7(2-4-8(9)11)3-5-1...   \n",
       "188  InChI=1S/C10H10O3/c1-13-10-7-8(3-2-6-11)4-5-9(...   \n",
       "189  InChI=1S/C11H12O4/c1-14-9-6-8(4-3-5-12)7-10(15...   \n",
       "190  InChI=1S/C17H14O7/c1-22-14-3-8(4-15(23-2)17(14...   \n",
       "191  InChI=1S/C22H30O4/c1-3-4-5-6-7-8-9-10-11-12-13...   \n",
       "\n",
       "                       inchi_key                  label_adduct  \n",
       "0    KSEBMYQBYZTDHS-HWKANZROSA-N           ferulic acid_[M-H]-  \n",
       "1    NGSWKAQJJWESNS-ZZXKWVIFSA-N        p-coumaric acid_[M-H]-  \n",
       "2    FJKROLUGYXJWQN-UHFFFAOYSA-N  p-hydroxybenzoic acid_[M-H]-  \n",
       "3    JWRQVQWBNRGGPK-PMQCXRHVSA-N   1-O-feruloyl-glucose_[M-H]-  \n",
       "4    YQUVCSBJEUQKSH-UHFFFAOYSA-N    protocatechuic acid_[M-H]-  \n",
       "..                           ...                           ...  \n",
       "187  KSEBMYQBYZTDHS-HWKANZROSA-N           ferulic acid_[M+H]+  \n",
       "188  DKZBBWMURDFHNE-NSCUHMNNSA-N     coniferyl aldehyde_[M+H]+  \n",
       "189  CDICDSOGTRCHMG-ONEGZZNKSA-N       sinapoylaldehyde_[M+H]+  \n",
       "190  HRGUSFBJBOKSML-UHFFFAOYSA-N                 tricin_[M+H]+  \n",
       "191  FGWRUVXUQWGLOX-AFJQJTPPSA-N            sorgoleone_[M+Na]+  \n",
       "\n",
       "[192 rows x 7 columns]"
      ]
     },
     "execution_count": 267,
     "metadata": {},
     "output_type": "execute_result"
    }
   ],
   "source": [
    "final_compound_adducts"
   ]
  },
  {
   "cell_type": "code",
   "execution_count": 268,
   "id": "e728238d-f79f-4449-89bc-13542797cb69",
   "metadata": {
    "tags": []
   },
   "outputs": [],
   "source": [
    "# make sure all spectra are close to annotated RT peak\n",
    "combined_top_spectra = pd.merge(combined_top_spectra.rename(columns={'label': 'label_adduct'}), final_compound_adducts[['label_adduct', 'rt_peak', 'mz_theoretical', 'inchi', 'inchi_key']], on='label_adduct')"
   ]
  },
  {
   "cell_type": "code",
   "execution_count": 269,
   "id": "080b882f-85d8-489d-b421-50fa169359f8",
   "metadata": {
    "tags": []
   },
   "outputs": [],
   "source": [
    "combined_top_spectra['label_adduct'] = combined_top_spectra['label_adduct'].apply(lambda row: row.replace('?', 'alpha'))"
   ]
  },
  {
   "cell_type": "code",
   "execution_count": 270,
   "id": "8f948114-04c4-4c0e-b1e7-5c05b7ce2726",
   "metadata": {
    "tags": []
   },
   "outputs": [],
   "source": [
    "combined_top_spectra['rt_diff'] = combined_top_spectra['rt'] - combined_top_spectra['rt_peak']"
   ]
  },
  {
   "cell_type": "code",
   "execution_count": 271,
   "id": "e25fb2f9-1df4-4623-8e3b-edba04fe78b4",
   "metadata": {
    "tags": []
   },
   "outputs": [],
   "source": [
    "combined_top_spectra = combined_top_spectra[combined_top_spectra['rt_diff'] < 0.3]"
   ]
  },
  {
   "cell_type": "code",
   "execution_count": 272,
   "id": "e4b48ca8-f2dc-4b41-994c-98028e2bd0a4",
   "metadata": {
    "tags": []
   },
   "outputs": [],
   "source": [
    "missing_compounds = set(final_compound_adducts['label_adduct'].tolist()) - set(combined_top_spectra['label_adduct'].tolist())"
   ]
  },
  {
   "cell_type": "code",
   "execution_count": 273,
   "id": "8fe0d098-0969-41d3-adcf-d9987a9f9e8a",
   "metadata": {
    "tags": []
   },
   "outputs": [
    {
     "data": {
      "text/plain": [
       "{'3-hydroxybenzoic acid_[M+H]+',\n",
       " '4-ethylguaiacol_[M+H]+',\n",
       " '4-ethylguaiacol_[M-H]-',\n",
       " '4-ethylphenol_[M+H]+',\n",
       " '4-methylguaiacol_[M-H]-',\n",
       " 'alpha-methyl-cinnamic acid_[M-H2O+H]+',\n",
       " 'alpha-methyl-cinnamic acid_[M-H]-',\n",
       " 'dihydrocaffeic acid_[M-H]-',\n",
       " 'equol_[M-H2O-H]-',\n",
       " 'formononetin_[M+Na]+',\n",
       " 'hydrocinnamic acid_[M-H]-',\n",
       " 'isoliquiritigenin_[M-H]-',\n",
       " 'isoliquiritigenin_[M]+',\n",
       " 'naringin dihydrochalcone_[M+Cl]-',\n",
       " 'puerarin_[M+Na]+',\n",
       " 'resorcinol_[M-H]-',\n",
       " 'rutin_[M+H]+'}"
      ]
     },
     "execution_count": 273,
     "metadata": {},
     "output_type": "execute_result"
    }
   ],
   "source": [
    "missing_compounds"
   ]
  },
  {
   "cell_type": "code",
   "execution_count": 274,
   "id": "00e39430-3096-494e-ad0c-2cf339e019bf",
   "metadata": {
    "tags": []
   },
   "outputs": [
    {
     "data": {
      "text/plain": [
       "17"
      ]
     },
     "execution_count": 274,
     "metadata": {},
     "output_type": "execute_result"
    }
   ],
   "source": [
    "len(missing_compounds)"
   ]
  },
  {
   "cell_type": "code",
   "execution_count": 275,
   "id": "1650fcf7-5cf0-43c2-8be8-c5ddd6491b9d",
   "metadata": {
    "tags": []
   },
   "outputs": [
    {
     "data": {
      "text/html": [
       "<div>\n",
       "<style scoped>\n",
       "    .dataframe tbody tr th:only-of-type {\n",
       "        vertical-align: middle;\n",
       "    }\n",
       "\n",
       "    .dataframe tbody tr th {\n",
       "        vertical-align: top;\n",
       "    }\n",
       "\n",
       "    .dataframe thead th {\n",
       "        text-align: right;\n",
       "    }\n",
       "</style>\n",
       "<table border=\"1\" class=\"dataframe\">\n",
       "  <thead>\n",
       "    <tr style=\"text-align: right;\">\n",
       "      <th></th>\n",
       "      <th>label_adduct</th>\n",
       "      <th>spectrum</th>\n",
       "      <th>rt</th>\n",
       "      <th>precursor_mz</th>\n",
       "      <th>precursor_peak_height</th>\n",
       "      <th>total_intensity</th>\n",
       "      <th>adduct</th>\n",
       "      <th>lcmsrun</th>\n",
       "      <th>rt_peak</th>\n",
       "      <th>mz_theoretical</th>\n",
       "      <th>inchi</th>\n",
       "      <th>inchi_key</th>\n",
       "      <th>rt_diff</th>\n",
       "    </tr>\n",
       "  </thead>\n",
       "  <tbody>\n",
       "    <tr>\n",
       "      <th>0</th>\n",
       "      <td>2,3,4-trihydroxybenzoic acid_[M-H]-</td>\n",
       "      <td>[[53.0444526672, 55.2110023499, 69.0343093872,...</td>\n",
       "      <td>1.567605</td>\n",
       "      <td>169.014221</td>\n",
       "      <td>1.932002e+08</td>\n",
       "      <td>1.748256e+08</td>\n",
       "      <td>[M-H]-</td>\n",
       "      <td>/global/cfs/cdirs/metatlas/raw_data/jgi/202303...</td>\n",
       "      <td>1.61</td>\n",
       "      <td>169.014247</td>\n",
       "      <td>InChI=1S/C7H6O5/c8-4-2-1-3(7(11)12)5(9)6(4)10/...</td>\n",
       "      <td>BRRSNXCXLSVPFC-UHFFFAOYSA-N</td>\n",
       "      <td>-0.042395</td>\n",
       "    </tr>\n",
       "    <tr>\n",
       "      <th>1</th>\n",
       "      <td>2,3,4-trihydroxybenzoic acid_[M+H]+</td>\n",
       "      <td>[[65.4032287598, 68.2521438599, 79.0180130005,...</td>\n",
       "      <td>1.621489</td>\n",
       "      <td>171.028809</td>\n",
       "      <td>1.205854e+08</td>\n",
       "      <td>9.335247e+07</td>\n",
       "      <td>[M+H]+</td>\n",
       "      <td>/global/cfs/cdirs/metatlas/raw_data/jgi/202303...</td>\n",
       "      <td>1.61</td>\n",
       "      <td>171.028799</td>\n",
       "      <td>InChI=1S/C7H6O5/c8-4-2-1-3(7(11)12)5(9)6(4)10/...</td>\n",
       "      <td>BRRSNXCXLSVPFC-UHFFFAOYSA-N</td>\n",
       "      <td>0.011489</td>\n",
       "    </tr>\n",
       "    <tr>\n",
       "      <th>2</th>\n",
       "      <td>2,3-dihydroxybenzoic acid_[M-H]-</td>\n",
       "      <td>[[51.2539710999, 58.8526115417, 66.8000259399,...</td>\n",
       "      <td>2.526682</td>\n",
       "      <td>153.019363</td>\n",
       "      <td>4.061549e+08</td>\n",
       "      <td>3.978421e+08</td>\n",
       "      <td>[M-H]-</td>\n",
       "      <td>/global/cfs/cdirs/metatlas/raw_data/jgi/202303...</td>\n",
       "      <td>2.55</td>\n",
       "      <td>153.019333</td>\n",
       "      <td>InChI=1S/C7H6O4/c8-5-3-1-2-4(6(5)9)7(10)11/h1-...</td>\n",
       "      <td>GLDQAMYCGOIJDV-UHFFFAOYSA-N</td>\n",
       "      <td>-0.023318</td>\n",
       "    </tr>\n",
       "    <tr>\n",
       "      <th>3</th>\n",
       "      <td>2,3-dihydroxybenzoic acid_[M-H2O+H]+</td>\n",
       "      <td>[[53.0388641357, 55.0154838562, 55.0180130005,...</td>\n",
       "      <td>2.535292</td>\n",
       "      <td>137.023392</td>\n",
       "      <td>9.453837e+06</td>\n",
       "      <td>2.680799e+06</td>\n",
       "      <td>[M-H2O+H]+</td>\n",
       "      <td>/global/cfs/cdirs/metatlas/raw_data/jgi/202303...</td>\n",
       "      <td>2.55</td>\n",
       "      <td>137.023320</td>\n",
       "      <td>InChI=1S/C7H6O4/c8-5-3-1-2-4(6(5)9)7(10)11/h1-...</td>\n",
       "      <td>GLDQAMYCGOIJDV-UHFFFAOYSA-N</td>\n",
       "      <td>-0.014708</td>\n",
       "    </tr>\n",
       "    <tr>\n",
       "      <th>4</th>\n",
       "      <td>2,4-dihydroxybenzoic acid_[M-H]-</td>\n",
       "      <td>[[65.0393295288, 67.0186309814, 104.379119873,...</td>\n",
       "      <td>2.477880</td>\n",
       "      <td>153.019348</td>\n",
       "      <td>1.004875e+09</td>\n",
       "      <td>7.821008e+08</td>\n",
       "      <td>[M-H]-</td>\n",
       "      <td>/global/cfs/cdirs/metatlas/raw_data/jgi/202303...</td>\n",
       "      <td>2.47</td>\n",
       "      <td>153.019333</td>\n",
       "      <td>InChI=1S/C7H6O4/c8-4-1-2-5(7(10)11)6(9)3-4/h1-...</td>\n",
       "      <td>UIAFKZKHHVMJGS-UHFFFAOYSA-N</td>\n",
       "      <td>0.007880</td>\n",
       "    </tr>\n",
       "    <tr>\n",
       "      <th>...</th>\n",
       "      <td>...</td>\n",
       "      <td>...</td>\n",
       "      <td>...</td>\n",
       "      <td>...</td>\n",
       "      <td>...</td>\n",
       "      <td>...</td>\n",
       "      <td>...</td>\n",
       "      <td>...</td>\n",
       "      <td>...</td>\n",
       "      <td>...</td>\n",
       "      <td>...</td>\n",
       "      <td>...</td>\n",
       "      <td>...</td>\n",
       "    </tr>\n",
       "    <tr>\n",
       "      <th>287</th>\n",
       "      <td>resveratrol_[M-H]-</td>\n",
       "      <td>[[56.7665328979, 56.770160675, 65.0464782715, ...</td>\n",
       "      <td>3.670026</td>\n",
       "      <td>227.071671</td>\n",
       "      <td>1.284825e+07</td>\n",
       "      <td>8.484819e+06</td>\n",
       "      <td>[M-H]-</td>\n",
       "      <td>/global/cfs/cdirs/metatlas/raw_data/jgi/202303...</td>\n",
       "      <td>3.58</td>\n",
       "      <td>227.071368</td>\n",
       "      <td>InChI=1S/C14H12O3/c15-12-5-3-10(4-6-12)1-2-11-...</td>\n",
       "      <td>LUKBXSAWLPMMSZ-OWOJBTEDSA-N</td>\n",
       "      <td>0.090026</td>\n",
       "    </tr>\n",
       "    <tr>\n",
       "      <th>288</th>\n",
       "      <td>resveratrol_[M-H]-</td>\n",
       "      <td>[[56.7665328979, 56.770160675, 65.0464782715, ...</td>\n",
       "      <td>3.670026</td>\n",
       "      <td>227.071671</td>\n",
       "      <td>1.284825e+07</td>\n",
       "      <td>8.484819e+06</td>\n",
       "      <td>[M-H]-</td>\n",
       "      <td>/global/cfs/cdirs/metatlas/raw_data/jgi/202303...</td>\n",
       "      <td>3.58</td>\n",
       "      <td>227.071368</td>\n",
       "      <td>InChI=1S/C14H12O3/c15-12-5-3-10(4-6-12)1-2-11-...</td>\n",
       "      <td>LUKBXSAWLPMMSZ-OWOJBTEDSA-N</td>\n",
       "      <td>0.090026</td>\n",
       "    </tr>\n",
       "    <tr>\n",
       "      <th>289</th>\n",
       "      <td>resveratrol_[M+H]+</td>\n",
       "      <td>[[57.2690544128, 57.2727508545, 66.7904586792,...</td>\n",
       "      <td>3.555091</td>\n",
       "      <td>229.086014</td>\n",
       "      <td>4.503454e+07</td>\n",
       "      <td>4.250871e+07</td>\n",
       "      <td>[M+H]+</td>\n",
       "      <td>/global/cfs/cdirs/metatlas/raw_data/jgi/202303...</td>\n",
       "      <td>3.58</td>\n",
       "      <td>229.085920</td>\n",
       "      <td>InChI=1S/C14H12O3/c15-12-5-3-10(4-6-12)1-2-11-...</td>\n",
       "      <td>LUKBXSAWLPMMSZ-OWOJBTEDSA-N</td>\n",
       "      <td>-0.024909</td>\n",
       "    </tr>\n",
       "    <tr>\n",
       "      <th>290</th>\n",
       "      <td>resveratrol_[M+H]+</td>\n",
       "      <td>[[57.2690544128, 57.2727508545, 66.7904586792,...</td>\n",
       "      <td>3.555091</td>\n",
       "      <td>229.086014</td>\n",
       "      <td>4.503454e+07</td>\n",
       "      <td>4.250871e+07</td>\n",
       "      <td>[M+H]+</td>\n",
       "      <td>/global/cfs/cdirs/metatlas/raw_data/jgi/202303...</td>\n",
       "      <td>3.58</td>\n",
       "      <td>229.085920</td>\n",
       "      <td>InChI=1S/C14H12O3/c15-12-5-3-10(4-6-12)1-2-11-...</td>\n",
       "      <td>LUKBXSAWLPMMSZ-OWOJBTEDSA-N</td>\n",
       "      <td>-0.024909</td>\n",
       "    </tr>\n",
       "    <tr>\n",
       "      <th>291</th>\n",
       "      <td>rutin_[M-H]-</td>\n",
       "      <td>[[51.5525741577, 62.4329833984, 64.1598205566,...</td>\n",
       "      <td>3.097710</td>\n",
       "      <td>609.146301</td>\n",
       "      <td>6.406305e+06</td>\n",
       "      <td>4.265058e+06</td>\n",
       "      <td>[M-H]-</td>\n",
       "      <td>/global/cfs/cdirs/metatlas/raw_data/jgi/202303...</td>\n",
       "      <td>3.11</td>\n",
       "      <td>609.146109</td>\n",
       "      <td>InChI=1S/C27H30O16/c1-8-17(32)20(35)22(37)26(4...</td>\n",
       "      <td>IKGXIBQEEMLURG-NVPNHPEKSA-N</td>\n",
       "      <td>-0.012290</td>\n",
       "    </tr>\n",
       "  </tbody>\n",
       "</table>\n",
       "<p>273 rows × 13 columns</p>\n",
       "</div>"
      ],
      "text/plain": [
       "                             label_adduct  \\\n",
       "0     2,3,4-trihydroxybenzoic acid_[M-H]-   \n",
       "1     2,3,4-trihydroxybenzoic acid_[M+H]+   \n",
       "2        2,3-dihydroxybenzoic acid_[M-H]-   \n",
       "3    2,3-dihydroxybenzoic acid_[M-H2O+H]+   \n",
       "4        2,4-dihydroxybenzoic acid_[M-H]-   \n",
       "..                                    ...   \n",
       "287                    resveratrol_[M-H]-   \n",
       "288                    resveratrol_[M-H]-   \n",
       "289                    resveratrol_[M+H]+   \n",
       "290                    resveratrol_[M+H]+   \n",
       "291                          rutin_[M-H]-   \n",
       "\n",
       "                                              spectrum        rt  \\\n",
       "0    [[53.0444526672, 55.2110023499, 69.0343093872,...  1.567605   \n",
       "1    [[65.4032287598, 68.2521438599, 79.0180130005,...  1.621489   \n",
       "2    [[51.2539710999, 58.8526115417, 66.8000259399,...  2.526682   \n",
       "3    [[53.0388641357, 55.0154838562, 55.0180130005,...  2.535292   \n",
       "4    [[65.0393295288, 67.0186309814, 104.379119873,...  2.477880   \n",
       "..                                                 ...       ...   \n",
       "287  [[56.7665328979, 56.770160675, 65.0464782715, ...  3.670026   \n",
       "288  [[56.7665328979, 56.770160675, 65.0464782715, ...  3.670026   \n",
       "289  [[57.2690544128, 57.2727508545, 66.7904586792,...  3.555091   \n",
       "290  [[57.2690544128, 57.2727508545, 66.7904586792,...  3.555091   \n",
       "291  [[51.5525741577, 62.4329833984, 64.1598205566,...  3.097710   \n",
       "\n",
       "     precursor_mz  precursor_peak_height  total_intensity      adduct  \\\n",
       "0      169.014221           1.932002e+08     1.748256e+08      [M-H]-   \n",
       "1      171.028809           1.205854e+08     9.335247e+07      [M+H]+   \n",
       "2      153.019363           4.061549e+08     3.978421e+08      [M-H]-   \n",
       "3      137.023392           9.453837e+06     2.680799e+06  [M-H2O+H]+   \n",
       "4      153.019348           1.004875e+09     7.821008e+08      [M-H]-   \n",
       "..            ...                    ...              ...         ...   \n",
       "287    227.071671           1.284825e+07     8.484819e+06      [M-H]-   \n",
       "288    227.071671           1.284825e+07     8.484819e+06      [M-H]-   \n",
       "289    229.086014           4.503454e+07     4.250871e+07      [M+H]+   \n",
       "290    229.086014           4.503454e+07     4.250871e+07      [M+H]+   \n",
       "291    609.146301           6.406305e+06     4.265058e+06      [M-H]-   \n",
       "\n",
       "                                               lcmsrun  rt_peak  \\\n",
       "0    /global/cfs/cdirs/metatlas/raw_data/jgi/202303...     1.61   \n",
       "1    /global/cfs/cdirs/metatlas/raw_data/jgi/202303...     1.61   \n",
       "2    /global/cfs/cdirs/metatlas/raw_data/jgi/202303...     2.55   \n",
       "3    /global/cfs/cdirs/metatlas/raw_data/jgi/202303...     2.55   \n",
       "4    /global/cfs/cdirs/metatlas/raw_data/jgi/202303...     2.47   \n",
       "..                                                 ...      ...   \n",
       "287  /global/cfs/cdirs/metatlas/raw_data/jgi/202303...     3.58   \n",
       "288  /global/cfs/cdirs/metatlas/raw_data/jgi/202303...     3.58   \n",
       "289  /global/cfs/cdirs/metatlas/raw_data/jgi/202303...     3.58   \n",
       "290  /global/cfs/cdirs/metatlas/raw_data/jgi/202303...     3.58   \n",
       "291  /global/cfs/cdirs/metatlas/raw_data/jgi/202303...     3.11   \n",
       "\n",
       "     mz_theoretical                                              inchi  \\\n",
       "0        169.014247  InChI=1S/C7H6O5/c8-4-2-1-3(7(11)12)5(9)6(4)10/...   \n",
       "1        171.028799  InChI=1S/C7H6O5/c8-4-2-1-3(7(11)12)5(9)6(4)10/...   \n",
       "2        153.019333  InChI=1S/C7H6O4/c8-5-3-1-2-4(6(5)9)7(10)11/h1-...   \n",
       "3        137.023320  InChI=1S/C7H6O4/c8-5-3-1-2-4(6(5)9)7(10)11/h1-...   \n",
       "4        153.019333  InChI=1S/C7H6O4/c8-4-1-2-5(7(10)11)6(9)3-4/h1-...   \n",
       "..              ...                                                ...   \n",
       "287      227.071368  InChI=1S/C14H12O3/c15-12-5-3-10(4-6-12)1-2-11-...   \n",
       "288      227.071368  InChI=1S/C14H12O3/c15-12-5-3-10(4-6-12)1-2-11-...   \n",
       "289      229.085920  InChI=1S/C14H12O3/c15-12-5-3-10(4-6-12)1-2-11-...   \n",
       "290      229.085920  InChI=1S/C14H12O3/c15-12-5-3-10(4-6-12)1-2-11-...   \n",
       "291      609.146109  InChI=1S/C27H30O16/c1-8-17(32)20(35)22(37)26(4...   \n",
       "\n",
       "                       inchi_key   rt_diff  \n",
       "0    BRRSNXCXLSVPFC-UHFFFAOYSA-N -0.042395  \n",
       "1    BRRSNXCXLSVPFC-UHFFFAOYSA-N  0.011489  \n",
       "2    GLDQAMYCGOIJDV-UHFFFAOYSA-N -0.023318  \n",
       "3    GLDQAMYCGOIJDV-UHFFFAOYSA-N -0.014708  \n",
       "4    UIAFKZKHHVMJGS-UHFFFAOYSA-N  0.007880  \n",
       "..                           ...       ...  \n",
       "287  LUKBXSAWLPMMSZ-OWOJBTEDSA-N  0.090026  \n",
       "288  LUKBXSAWLPMMSZ-OWOJBTEDSA-N  0.090026  \n",
       "289  LUKBXSAWLPMMSZ-OWOJBTEDSA-N -0.024909  \n",
       "290  LUKBXSAWLPMMSZ-OWOJBTEDSA-N -0.024909  \n",
       "291  IKGXIBQEEMLURG-NVPNHPEKSA-N -0.012290  \n",
       "\n",
       "[273 rows x 13 columns]"
      ]
     },
     "execution_count": 275,
     "metadata": {},
     "output_type": "execute_result"
    }
   ],
   "source": [
    "combined_top_spectra"
   ]
  },
  {
   "cell_type": "code",
   "execution_count": 276,
   "id": "e14f7f14-9106-4bbe-bd4f-cca13870a273",
   "metadata": {
    "tags": []
   },
   "outputs": [],
   "source": [
    "from metatlas.tools import extract_msms as exms"
   ]
  },
  {
   "cell_type": "code",
   "execution_count": 277,
   "id": "7c552fc3-c7b0-4dd9-80fb-9e7a1b5c5ba8",
   "metadata": {
    "tags": []
   },
   "outputs": [],
   "source": [
    "frag_method = 'HCD'\n",
    "instrument_type = 'Orbitrap'\n",
    "decimal = 4.0\n",
    "id_prefix = 'schellermetasci'"
   ]
  },
  {
   "cell_type": "code",
   "execution_count": 278,
   "id": "a848eba7-33a2-4d1b-b38e-a24416e6e449",
   "metadata": {
    "tags": []
   },
   "outputs": [],
   "source": [
    "combined_top_spectra['label'] = combined_top_spectra['label_adduct'].str.split('_', expand=True)[0]"
   ]
  },
  {
   "cell_type": "code",
   "execution_count": 279,
   "id": "a4457ebd-dc51-4a00-88c9-2372c45fb5f0",
   "metadata": {
    "tags": []
   },
   "outputs": [],
   "source": [
    "def get_collision_energy(lcmsrun_path):\n",
    "    lcmsrun_path = combined_top_spectra['lcmsrun'].iloc[0]\n",
    "\n",
    "    lcmsrun = os.path.basename(lcmsrun_path)\n",
    "    collision_energy = lcmsrun.split('_')[-2].split('-')[1][2:]\n",
    "    return collision_energy"
   ]
  },
  {
   "cell_type": "code",
   "execution_count": 280,
   "id": "d835dbf0-bf6d-43b7-9981-898779af816f",
   "metadata": {
    "tags": []
   },
   "outputs": [],
   "source": [
    "combined_top_spectra['ce_type'] = 'ramped'\n",
    "combined_top_spectra['ce'] = combined_top_spectra['lcmsrun'].apply(get_collision_energy)\n",
    "combined_top_spectra['file'] = combined_top_spectra['lcmsrun'].apply(os.path.basename)"
   ]
  },
  {
   "cell_type": "code",
   "execution_count": 281,
   "id": "c7e82874-8e56-45cd-b4a8-011623c5f58f",
   "metadata": {
    "tags": []
   },
   "outputs": [
    {
     "data": {
      "text/plain": [
       "Index(['label_adduct', 'spectrum', 'rt', 'precursor_mz',\n",
       "       'precursor_peak_height', 'total_intensity', 'adduct', 'lcmsrun',\n",
       "       'rt_peak', 'mz_theoretical', 'inchi', 'inchi_key', 'rt_diff', 'label',\n",
       "       'ce_type', 'ce', 'file'],\n",
       "      dtype='object')"
      ]
     },
     "execution_count": 281,
     "metadata": {},
     "output_type": "execute_result"
    }
   ],
   "source": [
    "combined_top_spectra.columns"
   ]
  },
  {
   "cell_type": "code",
   "execution_count": 282,
   "id": "a4705410-a842-4323-9a82-863c55110173",
   "metadata": {
    "tags": []
   },
   "outputs": [
    {
     "data": {
      "text/html": [
       "<div>\n",
       "<style scoped>\n",
       "    .dataframe tbody tr th:only-of-type {\n",
       "        vertical-align: middle;\n",
       "    }\n",
       "\n",
       "    .dataframe tbody tr th {\n",
       "        vertical-align: top;\n",
       "    }\n",
       "\n",
       "    .dataframe thead th {\n",
       "        text-align: right;\n",
       "    }\n",
       "</style>\n",
       "<table border=\"1\" class=\"dataframe\">\n",
       "  <thead>\n",
       "    <tr style=\"text-align: right;\">\n",
       "      <th></th>\n",
       "      <th>label_adduct</th>\n",
       "      <th>spectrum</th>\n",
       "      <th>rt</th>\n",
       "      <th>precursor_mz</th>\n",
       "      <th>precursor_peak_height</th>\n",
       "      <th>total_intensity</th>\n",
       "      <th>adduct</th>\n",
       "      <th>lcmsrun</th>\n",
       "      <th>rt_peak</th>\n",
       "      <th>mz_theoretical</th>\n",
       "      <th>inchi</th>\n",
       "      <th>inchi_key</th>\n",
       "      <th>rt_diff</th>\n",
       "      <th>label</th>\n",
       "      <th>ce_type</th>\n",
       "      <th>ce</th>\n",
       "      <th>file</th>\n",
       "    </tr>\n",
       "  </thead>\n",
       "  <tbody>\n",
       "    <tr>\n",
       "      <th>0</th>\n",
       "      <td>2,3,4-trihydroxybenzoic acid_[M-H]-</td>\n",
       "      <td>[[53.0444526672, 55.2110023499, 69.0343093872,...</td>\n",
       "      <td>1.567605</td>\n",
       "      <td>169.014221</td>\n",
       "      <td>1.932002e+08</td>\n",
       "      <td>1.748256e+08</td>\n",
       "      <td>[M-H]-</td>\n",
       "      <td>/global/cfs/cdirs/metatlas/raw_data/jgi/202303...</td>\n",
       "      <td>1.61</td>\n",
       "      <td>169.014247</td>\n",
       "      <td>InChI=1S/C7H6O5/c8-4-2-1-3(7(11)12)5(9)6(4)10/...</td>\n",
       "      <td>BRRSNXCXLSVPFC-UHFFFAOYSA-N</td>\n",
       "      <td>-0.042395</td>\n",
       "      <td>2,3,4-trihydroxybenzoic acid</td>\n",
       "      <td>ramped</td>\n",
       "      <td>102040</td>\n",
       "      <td>20230321_JGI_TN_507992_LabUnlabStdMixes_final_...</td>\n",
       "    </tr>\n",
       "    <tr>\n",
       "      <th>1</th>\n",
       "      <td>2,3,4-trihydroxybenzoic acid_[M+H]+</td>\n",
       "      <td>[[65.4032287598, 68.2521438599, 79.0180130005,...</td>\n",
       "      <td>1.621489</td>\n",
       "      <td>171.028809</td>\n",
       "      <td>1.205854e+08</td>\n",
       "      <td>9.335247e+07</td>\n",
       "      <td>[M+H]+</td>\n",
       "      <td>/global/cfs/cdirs/metatlas/raw_data/jgi/202303...</td>\n",
       "      <td>1.61</td>\n",
       "      <td>171.028799</td>\n",
       "      <td>InChI=1S/C7H6O5/c8-4-2-1-3(7(11)12)5(9)6(4)10/...</td>\n",
       "      <td>BRRSNXCXLSVPFC-UHFFFAOYSA-N</td>\n",
       "      <td>0.011489</td>\n",
       "      <td>2,3,4-trihydroxybenzoic acid</td>\n",
       "      <td>ramped</td>\n",
       "      <td>102040</td>\n",
       "      <td>20230321_JGI_TN_507992_LabUnlabStdMixes_final_...</td>\n",
       "    </tr>\n",
       "    <tr>\n",
       "      <th>2</th>\n",
       "      <td>2,3-dihydroxybenzoic acid_[M-H]-</td>\n",
       "      <td>[[51.2539710999, 58.8526115417, 66.8000259399,...</td>\n",
       "      <td>2.526682</td>\n",
       "      <td>153.019363</td>\n",
       "      <td>4.061549e+08</td>\n",
       "      <td>3.978421e+08</td>\n",
       "      <td>[M-H]-</td>\n",
       "      <td>/global/cfs/cdirs/metatlas/raw_data/jgi/202303...</td>\n",
       "      <td>2.55</td>\n",
       "      <td>153.019333</td>\n",
       "      <td>InChI=1S/C7H6O4/c8-5-3-1-2-4(6(5)9)7(10)11/h1-...</td>\n",
       "      <td>GLDQAMYCGOIJDV-UHFFFAOYSA-N</td>\n",
       "      <td>-0.023318</td>\n",
       "      <td>2,3-dihydroxybenzoic acid</td>\n",
       "      <td>ramped</td>\n",
       "      <td>102040</td>\n",
       "      <td>20230321_JGI_TN_507992_LabUnlabStdMixes_final_...</td>\n",
       "    </tr>\n",
       "    <tr>\n",
       "      <th>3</th>\n",
       "      <td>2,3-dihydroxybenzoic acid_[M-H2O+H]+</td>\n",
       "      <td>[[53.0388641357, 55.0154838562, 55.0180130005,...</td>\n",
       "      <td>2.535292</td>\n",
       "      <td>137.023392</td>\n",
       "      <td>9.453837e+06</td>\n",
       "      <td>2.680799e+06</td>\n",
       "      <td>[M-H2O+H]+</td>\n",
       "      <td>/global/cfs/cdirs/metatlas/raw_data/jgi/202303...</td>\n",
       "      <td>2.55</td>\n",
       "      <td>137.023320</td>\n",
       "      <td>InChI=1S/C7H6O4/c8-5-3-1-2-4(6(5)9)7(10)11/h1-...</td>\n",
       "      <td>GLDQAMYCGOIJDV-UHFFFAOYSA-N</td>\n",
       "      <td>-0.014708</td>\n",
       "      <td>2,3-dihydroxybenzoic acid</td>\n",
       "      <td>ramped</td>\n",
       "      <td>102040</td>\n",
       "      <td>20230321_JGI_TN_507992_LabUnlabStdMixes_final_...</td>\n",
       "    </tr>\n",
       "    <tr>\n",
       "      <th>4</th>\n",
       "      <td>2,4-dihydroxybenzoic acid_[M-H]-</td>\n",
       "      <td>[[65.0393295288, 67.0186309814, 104.379119873,...</td>\n",
       "      <td>2.477880</td>\n",
       "      <td>153.019348</td>\n",
       "      <td>1.004875e+09</td>\n",
       "      <td>7.821008e+08</td>\n",
       "      <td>[M-H]-</td>\n",
       "      <td>/global/cfs/cdirs/metatlas/raw_data/jgi/202303...</td>\n",
       "      <td>2.47</td>\n",
       "      <td>153.019333</td>\n",
       "      <td>InChI=1S/C7H6O4/c8-4-1-2-5(7(10)11)6(9)3-4/h1-...</td>\n",
       "      <td>UIAFKZKHHVMJGS-UHFFFAOYSA-N</td>\n",
       "      <td>0.007880</td>\n",
       "      <td>2,4-dihydroxybenzoic acid</td>\n",
       "      <td>ramped</td>\n",
       "      <td>102040</td>\n",
       "      <td>20230321_JGI_TN_507992_LabUnlabStdMixes_final_...</td>\n",
       "    </tr>\n",
       "    <tr>\n",
       "      <th>...</th>\n",
       "      <td>...</td>\n",
       "      <td>...</td>\n",
       "      <td>...</td>\n",
       "      <td>...</td>\n",
       "      <td>...</td>\n",
       "      <td>...</td>\n",
       "      <td>...</td>\n",
       "      <td>...</td>\n",
       "      <td>...</td>\n",
       "      <td>...</td>\n",
       "      <td>...</td>\n",
       "      <td>...</td>\n",
       "      <td>...</td>\n",
       "      <td>...</td>\n",
       "      <td>...</td>\n",
       "      <td>...</td>\n",
       "      <td>...</td>\n",
       "    </tr>\n",
       "    <tr>\n",
       "      <th>287</th>\n",
       "      <td>resveratrol_[M-H]-</td>\n",
       "      <td>[[56.7665328979, 56.770160675, 65.0464782715, ...</td>\n",
       "      <td>3.670026</td>\n",
       "      <td>227.071671</td>\n",
       "      <td>1.284825e+07</td>\n",
       "      <td>8.484819e+06</td>\n",
       "      <td>[M-H]-</td>\n",
       "      <td>/global/cfs/cdirs/metatlas/raw_data/jgi/202303...</td>\n",
       "      <td>3.58</td>\n",
       "      <td>227.071368</td>\n",
       "      <td>InChI=1S/C14H12O3/c15-12-5-3-10(4-6-12)1-2-11-...</td>\n",
       "      <td>LUKBXSAWLPMMSZ-OWOJBTEDSA-N</td>\n",
       "      <td>0.090026</td>\n",
       "      <td>resveratrol</td>\n",
       "      <td>ramped</td>\n",
       "      <td>102040</td>\n",
       "      <td>20230321_JGI_TN_507992_LabUnlabStdMixes_final_...</td>\n",
       "    </tr>\n",
       "    <tr>\n",
       "      <th>288</th>\n",
       "      <td>resveratrol_[M-H]-</td>\n",
       "      <td>[[56.7665328979, 56.770160675, 65.0464782715, ...</td>\n",
       "      <td>3.670026</td>\n",
       "      <td>227.071671</td>\n",
       "      <td>1.284825e+07</td>\n",
       "      <td>8.484819e+06</td>\n",
       "      <td>[M-H]-</td>\n",
       "      <td>/global/cfs/cdirs/metatlas/raw_data/jgi/202303...</td>\n",
       "      <td>3.58</td>\n",
       "      <td>227.071368</td>\n",
       "      <td>InChI=1S/C14H12O3/c15-12-5-3-10(4-6-12)1-2-11-...</td>\n",
       "      <td>LUKBXSAWLPMMSZ-OWOJBTEDSA-N</td>\n",
       "      <td>0.090026</td>\n",
       "      <td>resveratrol</td>\n",
       "      <td>ramped</td>\n",
       "      <td>102040</td>\n",
       "      <td>20230321_JGI_TN_507992_LabUnlabStdMixes_final_...</td>\n",
       "    </tr>\n",
       "    <tr>\n",
       "      <th>289</th>\n",
       "      <td>resveratrol_[M+H]+</td>\n",
       "      <td>[[57.2690544128, 57.2727508545, 66.7904586792,...</td>\n",
       "      <td>3.555091</td>\n",
       "      <td>229.086014</td>\n",
       "      <td>4.503454e+07</td>\n",
       "      <td>4.250871e+07</td>\n",
       "      <td>[M+H]+</td>\n",
       "      <td>/global/cfs/cdirs/metatlas/raw_data/jgi/202303...</td>\n",
       "      <td>3.58</td>\n",
       "      <td>229.085920</td>\n",
       "      <td>InChI=1S/C14H12O3/c15-12-5-3-10(4-6-12)1-2-11-...</td>\n",
       "      <td>LUKBXSAWLPMMSZ-OWOJBTEDSA-N</td>\n",
       "      <td>-0.024909</td>\n",
       "      <td>resveratrol</td>\n",
       "      <td>ramped</td>\n",
       "      <td>102040</td>\n",
       "      <td>20230321_JGI_TN_507992_LabUnlabStdMixes_final_...</td>\n",
       "    </tr>\n",
       "    <tr>\n",
       "      <th>290</th>\n",
       "      <td>resveratrol_[M+H]+</td>\n",
       "      <td>[[57.2690544128, 57.2727508545, 66.7904586792,...</td>\n",
       "      <td>3.555091</td>\n",
       "      <td>229.086014</td>\n",
       "      <td>4.503454e+07</td>\n",
       "      <td>4.250871e+07</td>\n",
       "      <td>[M+H]+</td>\n",
       "      <td>/global/cfs/cdirs/metatlas/raw_data/jgi/202303...</td>\n",
       "      <td>3.58</td>\n",
       "      <td>229.085920</td>\n",
       "      <td>InChI=1S/C14H12O3/c15-12-5-3-10(4-6-12)1-2-11-...</td>\n",
       "      <td>LUKBXSAWLPMMSZ-OWOJBTEDSA-N</td>\n",
       "      <td>-0.024909</td>\n",
       "      <td>resveratrol</td>\n",
       "      <td>ramped</td>\n",
       "      <td>102040</td>\n",
       "      <td>20230321_JGI_TN_507992_LabUnlabStdMixes_final_...</td>\n",
       "    </tr>\n",
       "    <tr>\n",
       "      <th>291</th>\n",
       "      <td>rutin_[M-H]-</td>\n",
       "      <td>[[51.5525741577, 62.4329833984, 64.1598205566,...</td>\n",
       "      <td>3.097710</td>\n",
       "      <td>609.146301</td>\n",
       "      <td>6.406305e+06</td>\n",
       "      <td>4.265058e+06</td>\n",
       "      <td>[M-H]-</td>\n",
       "      <td>/global/cfs/cdirs/metatlas/raw_data/jgi/202303...</td>\n",
       "      <td>3.11</td>\n",
       "      <td>609.146109</td>\n",
       "      <td>InChI=1S/C27H30O16/c1-8-17(32)20(35)22(37)26(4...</td>\n",
       "      <td>IKGXIBQEEMLURG-NVPNHPEKSA-N</td>\n",
       "      <td>-0.012290</td>\n",
       "      <td>rutin</td>\n",
       "      <td>ramped</td>\n",
       "      <td>102040</td>\n",
       "      <td>20230321_JGI_TN_507992_LabUnlabStdMixes_final_...</td>\n",
       "    </tr>\n",
       "  </tbody>\n",
       "</table>\n",
       "<p>273 rows × 17 columns</p>\n",
       "</div>"
      ],
      "text/plain": [
       "                             label_adduct  \\\n",
       "0     2,3,4-trihydroxybenzoic acid_[M-H]-   \n",
       "1     2,3,4-trihydroxybenzoic acid_[M+H]+   \n",
       "2        2,3-dihydroxybenzoic acid_[M-H]-   \n",
       "3    2,3-dihydroxybenzoic acid_[M-H2O+H]+   \n",
       "4        2,4-dihydroxybenzoic acid_[M-H]-   \n",
       "..                                    ...   \n",
       "287                    resveratrol_[M-H]-   \n",
       "288                    resveratrol_[M-H]-   \n",
       "289                    resveratrol_[M+H]+   \n",
       "290                    resveratrol_[M+H]+   \n",
       "291                          rutin_[M-H]-   \n",
       "\n",
       "                                              spectrum        rt  \\\n",
       "0    [[53.0444526672, 55.2110023499, 69.0343093872,...  1.567605   \n",
       "1    [[65.4032287598, 68.2521438599, 79.0180130005,...  1.621489   \n",
       "2    [[51.2539710999, 58.8526115417, 66.8000259399,...  2.526682   \n",
       "3    [[53.0388641357, 55.0154838562, 55.0180130005,...  2.535292   \n",
       "4    [[65.0393295288, 67.0186309814, 104.379119873,...  2.477880   \n",
       "..                                                 ...       ...   \n",
       "287  [[56.7665328979, 56.770160675, 65.0464782715, ...  3.670026   \n",
       "288  [[56.7665328979, 56.770160675, 65.0464782715, ...  3.670026   \n",
       "289  [[57.2690544128, 57.2727508545, 66.7904586792,...  3.555091   \n",
       "290  [[57.2690544128, 57.2727508545, 66.7904586792,...  3.555091   \n",
       "291  [[51.5525741577, 62.4329833984, 64.1598205566,...  3.097710   \n",
       "\n",
       "     precursor_mz  precursor_peak_height  total_intensity      adduct  \\\n",
       "0      169.014221           1.932002e+08     1.748256e+08      [M-H]-   \n",
       "1      171.028809           1.205854e+08     9.335247e+07      [M+H]+   \n",
       "2      153.019363           4.061549e+08     3.978421e+08      [M-H]-   \n",
       "3      137.023392           9.453837e+06     2.680799e+06  [M-H2O+H]+   \n",
       "4      153.019348           1.004875e+09     7.821008e+08      [M-H]-   \n",
       "..            ...                    ...              ...         ...   \n",
       "287    227.071671           1.284825e+07     8.484819e+06      [M-H]-   \n",
       "288    227.071671           1.284825e+07     8.484819e+06      [M-H]-   \n",
       "289    229.086014           4.503454e+07     4.250871e+07      [M+H]+   \n",
       "290    229.086014           4.503454e+07     4.250871e+07      [M+H]+   \n",
       "291    609.146301           6.406305e+06     4.265058e+06      [M-H]-   \n",
       "\n",
       "                                               lcmsrun  rt_peak  \\\n",
       "0    /global/cfs/cdirs/metatlas/raw_data/jgi/202303...     1.61   \n",
       "1    /global/cfs/cdirs/metatlas/raw_data/jgi/202303...     1.61   \n",
       "2    /global/cfs/cdirs/metatlas/raw_data/jgi/202303...     2.55   \n",
       "3    /global/cfs/cdirs/metatlas/raw_data/jgi/202303...     2.55   \n",
       "4    /global/cfs/cdirs/metatlas/raw_data/jgi/202303...     2.47   \n",
       "..                                                 ...      ...   \n",
       "287  /global/cfs/cdirs/metatlas/raw_data/jgi/202303...     3.58   \n",
       "288  /global/cfs/cdirs/metatlas/raw_data/jgi/202303...     3.58   \n",
       "289  /global/cfs/cdirs/metatlas/raw_data/jgi/202303...     3.58   \n",
       "290  /global/cfs/cdirs/metatlas/raw_data/jgi/202303...     3.58   \n",
       "291  /global/cfs/cdirs/metatlas/raw_data/jgi/202303...     3.11   \n",
       "\n",
       "     mz_theoretical                                              inchi  \\\n",
       "0        169.014247  InChI=1S/C7H6O5/c8-4-2-1-3(7(11)12)5(9)6(4)10/...   \n",
       "1        171.028799  InChI=1S/C7H6O5/c8-4-2-1-3(7(11)12)5(9)6(4)10/...   \n",
       "2        153.019333  InChI=1S/C7H6O4/c8-5-3-1-2-4(6(5)9)7(10)11/h1-...   \n",
       "3        137.023320  InChI=1S/C7H6O4/c8-5-3-1-2-4(6(5)9)7(10)11/h1-...   \n",
       "4        153.019333  InChI=1S/C7H6O4/c8-4-1-2-5(7(10)11)6(9)3-4/h1-...   \n",
       "..              ...                                                ...   \n",
       "287      227.071368  InChI=1S/C14H12O3/c15-12-5-3-10(4-6-12)1-2-11-...   \n",
       "288      227.071368  InChI=1S/C14H12O3/c15-12-5-3-10(4-6-12)1-2-11-...   \n",
       "289      229.085920  InChI=1S/C14H12O3/c15-12-5-3-10(4-6-12)1-2-11-...   \n",
       "290      229.085920  InChI=1S/C14H12O3/c15-12-5-3-10(4-6-12)1-2-11-...   \n",
       "291      609.146109  InChI=1S/C27H30O16/c1-8-17(32)20(35)22(37)26(4...   \n",
       "\n",
       "                       inchi_key   rt_diff                         label  \\\n",
       "0    BRRSNXCXLSVPFC-UHFFFAOYSA-N -0.042395  2,3,4-trihydroxybenzoic acid   \n",
       "1    BRRSNXCXLSVPFC-UHFFFAOYSA-N  0.011489  2,3,4-trihydroxybenzoic acid   \n",
       "2    GLDQAMYCGOIJDV-UHFFFAOYSA-N -0.023318     2,3-dihydroxybenzoic acid   \n",
       "3    GLDQAMYCGOIJDV-UHFFFAOYSA-N -0.014708     2,3-dihydroxybenzoic acid   \n",
       "4    UIAFKZKHHVMJGS-UHFFFAOYSA-N  0.007880     2,4-dihydroxybenzoic acid   \n",
       "..                           ...       ...                           ...   \n",
       "287  LUKBXSAWLPMMSZ-OWOJBTEDSA-N  0.090026                   resveratrol   \n",
       "288  LUKBXSAWLPMMSZ-OWOJBTEDSA-N  0.090026                   resveratrol   \n",
       "289  LUKBXSAWLPMMSZ-OWOJBTEDSA-N -0.024909                   resveratrol   \n",
       "290  LUKBXSAWLPMMSZ-OWOJBTEDSA-N -0.024909                   resveratrol   \n",
       "291  IKGXIBQEEMLURG-NVPNHPEKSA-N -0.012290                         rutin   \n",
       "\n",
       "    ce_type      ce                                               file  \n",
       "0    ramped  102040  20230321_JGI_TN_507992_LabUnlabStdMixes_final_...  \n",
       "1    ramped  102040  20230321_JGI_TN_507992_LabUnlabStdMixes_final_...  \n",
       "2    ramped  102040  20230321_JGI_TN_507992_LabUnlabStdMixes_final_...  \n",
       "3    ramped  102040  20230321_JGI_TN_507992_LabUnlabStdMixes_final_...  \n",
       "4    ramped  102040  20230321_JGI_TN_507992_LabUnlabStdMixes_final_...  \n",
       "..      ...     ...                                                ...  \n",
       "287  ramped  102040  20230321_JGI_TN_507992_LabUnlabStdMixes_final_...  \n",
       "288  ramped  102040  20230321_JGI_TN_507992_LabUnlabStdMixes_final_...  \n",
       "289  ramped  102040  20230321_JGI_TN_507992_LabUnlabStdMixes_final_...  \n",
       "290  ramped  102040  20230321_JGI_TN_507992_LabUnlabStdMixes_final_...  \n",
       "291  ramped  102040  20230321_JGI_TN_507992_LabUnlabStdMixes_final_...  \n",
       "\n",
       "[273 rows x 17 columns]"
      ]
     },
     "execution_count": 282,
     "metadata": {},
     "output_type": "execute_result"
    }
   ],
   "source": [
    "combined_top_spectra"
   ]
  },
  {
   "cell_type": "code",
   "execution_count": 283,
   "id": "30b91926-7dc0-4195-87c8-e1f6393d0d1b",
   "metadata": {
    "tags": []
   },
   "outputs": [],
   "source": [
    "combined_top_spectra.rename(columns={'mz_theoretical': 'mz'}, inplace=True)"
   ]
  },
  {
   "cell_type": "code",
   "execution_count": 284,
   "id": "5c240c98-836e-4d6f-9f60-1ffcb7fbe9e9",
   "metadata": {
    "tags": []
   },
   "outputs": [],
   "source": [
    "exms.enrich_metadata(combined_top_spectra, frag_method, instrument_type, decimal, id_prefix)"
   ]
  },
  {
   "cell_type": "code",
   "execution_count": 285,
   "id": "be20c41c-8041-4442-914d-75e244a9860f",
   "metadata": {
    "tags": []
   },
   "outputs": [],
   "source": [
    "refs_cols = [col for col in msms_refs.columns if col in combined_top_spectra.columns]"
   ]
  },
  {
   "cell_type": "code",
   "execution_count": 286,
   "id": "7b7e76b3-1fe3-4e40-a673-e01eec32bb5f",
   "metadata": {
    "tags": []
   },
   "outputs": [
    {
     "data": {
      "text/plain": [
       "[]"
      ]
     },
     "execution_count": 286,
     "metadata": {},
     "output_type": "execute_result"
    }
   ],
   "source": [
    "[col for col in msms_refs.columns if col not in combined_top_spectra.columns]"
   ]
  },
  {
   "cell_type": "code",
   "execution_count": 287,
   "id": "d53e6f72-9a0b-42b3-8d46-007a5a0344ba",
   "metadata": {},
   "outputs": [],
   "source": [
    "msms_refs_addendum = combined_top_spectra[refs_cols]"
   ]
  },
  {
   "cell_type": "code",
   "execution_count": 288,
   "id": "35418c64-988b-4609-a5a5-b9bfc4954e5d",
   "metadata": {
    "tags": []
   },
   "outputs": [
    {
     "name": "stderr",
     "output_type": "stream",
     "text": [
      "/tmp/ipykernel_1466893/3864829061.py:1: SettingWithCopyWarning: \n",
      "A value is trying to be set on a copy of a slice from a DataFrame.\n",
      "Try using .loc[row_indexer,col_indexer] = value instead\n",
      "\n",
      "See the caveats in the documentation: https://pandas.pydata.org/pandas-docs/stable/user_guide/indexing.html#returning-a-view-versus-a-copy\n",
      "  msms_refs_addendum['spectrum'] = msms_refs_addendum['spectrum'].apply(exms.make_text_spectrum)\n"
     ]
    }
   ],
   "source": [
    "msms_refs_addendum['spectrum'] = msms_refs_addendum['spectrum'].apply(exms.make_text_spectrum)"
   ]
  },
  {
   "cell_type": "code",
   "execution_count": 289,
   "id": "1cb61bc7-eca7-4016-b09e-258907415b81",
   "metadata": {
    "tags": []
   },
   "outputs": [],
   "source": [
    "new_msms_refs = pd.concat([msms_refs, msms_refs_addendum])"
   ]
  },
  {
   "cell_type": "code",
   "execution_count": 295,
   "id": "76848eb3-4696-4f8f-ae17-d75c9e35cebf",
   "metadata": {
    "tags": []
   },
   "outputs": [],
   "source": [
    "msms_refs_dir = os.path.dirname(msms_refs_path)"
   ]
  },
  {
   "cell_type": "code",
   "execution_count": 296,
   "id": "6144d37a-00d1-4fa4-8e95-cbd7d8ec1120",
   "metadata": {
    "tags": []
   },
   "outputs": [
    {
     "data": {
      "text/plain": [
       "'/global/cfs/cdirs/metatlas/projects/spectral_libraries'"
      ]
     },
     "execution_count": 296,
     "metadata": {},
     "output_type": "execute_result"
    }
   ],
   "source": [
    "msms_refs_dir"
   ]
  },
  {
   "cell_type": "code",
   "execution_count": 297,
   "id": "599d50cc-5b3c-4684-9856-2e8ccc0b2d84",
   "metadata": {
    "tags": []
   },
   "outputs": [
    {
     "data": {
      "text/plain": [
       "'/global/cfs/cdirs/metatlas/projects/spectral_libraries/20240430_istdv7-addition_msms_refs.tab'"
      ]
     },
     "execution_count": 297,
     "metadata": {},
     "output_type": "execute_result"
    }
   ],
   "source": [
    "msms_refs_path"
   ]
  },
  {
   "cell_type": "code",
   "execution_count": null,
   "id": "3a2e3ce4-9e48-4d89-a744-d8436e7b302d",
   "metadata": {},
   "outputs": [],
   "source": [
    "'20241120_scheller-addition_msms_refs.tab'"
   ]
  },
  {
   "cell_type": "code",
   "execution_count": 298,
   "id": "5d55d693-6a57-4ccb-bce4-45214e0210b7",
   "metadata": {
    "tags": []
   },
   "outputs": [],
   "source": [
    "new_msms_refs.to_csv(os.path.join(msms_refs_dir, '20241120_scheller-addition_msms_refs.tab'), sep='\\t', index=False)"
   ]
  },
  {
   "cell_type": "markdown",
   "id": "82374a29-a3b6-4fbb-be8f-18f09d94c2a3",
   "metadata": {},
   "source": [
    "### RT correct atlases to original EMA RT space"
   ]
  },
  {
   "cell_type": "code",
   "execution_count": 454,
   "id": "6f006427-e6d0-4e3a-8971-a6ee9d92da6b",
   "metadata": {
    "tags": []
   },
   "outputs": [],
   "source": [
    "from metatlas.io import feature_tools as ft\n",
    "from metatlas.datastructures.utils import get_atlas"
   ]
  },
  {
   "cell_type": "code",
   "execution_count": 455,
   "id": "8814d18b-e369-4a63-b8ab-f8cfb0351623",
   "metadata": {
    "tags": []
   },
   "outputs": [],
   "source": [
    "def atlas_id_to_df(atlas_unique_id: str) -> pd.DataFrame:\n",
    "    \"\"\"Retrieve atlas from database using unique id and create DataFrame from compound identification data.\"\"\"\n",
    "    \n",
    "    atlas = get_atlas(atlas_unique_id)\n",
    "    \n",
    "    atlas_df = []\n",
    "    for cid in atlas.compound_identifications:\n",
    "        row = {}\n",
    "        \n",
    "        row['label'] = cid.name\n",
    "        row['adduct'] = cid.mz_references[0].adduct\n",
    "        row['mz'] = cid.mz_references[0].mz\n",
    "        row['rt_peak'] = cid.rt_references[0].rt_peak\n",
    "        row['rt_min'] = cid.rt_references[0].rt_min\n",
    "        row['rt_max'] = cid.rt_references[0].rt_max\n",
    "        row['inchi'] = cid.compound[0].inchi\n",
    "        row['inchi_key'] = cid.compound[0].inchi_key\n",
    "        row['mz_tolerance'] = cid.mz_references[0].mz_tolerance\n",
    "        row['polarity'] = cid.mz_references[0].detected_polarity\n",
    "        \n",
    "        atlas_df.append(row)\n",
    "        \n",
    "    atlas_df = pd.DataFrame(atlas_df)\n",
    "    \n",
    "    return atlas_df\n",
    "\n",
    "\n",
    "def get_qc_files(files_path: str, polarity: str) -> list[str, ...]:\n",
    "    \"\"\"Get all qc files from raw data path.\"\"\"\n",
    "    assert polarity == 'positive' or polarity == 'negative'\n",
    "    \n",
    "    all_files = glob.glob(os.path.join(files_path, \"*.h5\"))\n",
    "    \n",
    "    if polarity == 'positive':\n",
    "        filter_polarity = 'NEG'\n",
    "    if polarity == 'negative':\n",
    "        filter_polarity = 'POS'\n",
    "        \n",
    "    qc_files = [file for file in all_files if os.path.basename(file).split('_')[9] != filter_polarity and 'QC_' in file]\n",
    "    return qc_files\n",
    "\n",
    "\n",
    "def collect_qc_ms1_data(qc_atlas: pd.DataFrame, qc_files: list[str, ...], polarity: str) -> pd.DataFrame:\n",
    "    experiment_input = ft.setup_file_slicing_parameters(qc_atlas, qc_files, base_dir=os.getcwd(), ppm_tolerance=10, polarity=polarity)\n",
    "\n",
    "    ms1_data = []\n",
    "    for file_input in tqdm(experiment_input, unit='file'):\n",
    "\n",
    "        data = ft.get_data(file_input, save_file=False, return_data=True)\n",
    "        data['ms1_summary']['lcmsrun_observed'] = file_input['lcmsrun']\n",
    "\n",
    "        ms1_data.append(data['ms1_summary'])\n",
    "\n",
    "    ms1_data = pd.concat(ms1_data)\n",
    "    return ms1_data\n",
    "    \n",
    "\n",
    "HILIC_QC_ATLAS_IDS = {'positive':'a6c4979f891f4d7d8eae0e26bfa7cba6',\n",
    "                      'negative':'e8ff973757cc4f0db56b7cc33752a5e1'} \n",
    "\n",
    "C18_QC_ATLAS_IDS = {'positive':'9e582c40d2224faf87e12fb274ae0bec',\n",
    "                    'negative': 'c50269c2f1e447528841fac66409a338'} "
   ]
  },
  {
   "cell_type": "code",
   "execution_count": 456,
   "id": "c39505dd-ecfd-45db-90be-be9bc02f17f1",
   "metadata": {
    "tags": []
   },
   "outputs": [],
   "source": [
    "# atlases must be from the same instrument run and same polarity\n",
    "atlas_paths = ['./final_atlases/metasci_flavanoids_c18_neg_annotations.csv',\n",
    "               './final_atlases/metasci_flavanoids_c18_pos_annotations.csv',\n",
    "               './final_atlases/metasci_phenolics_c18_neg_annotations.csv',\n",
    "               './final_atlases/metasci_phenolics_c18_pos_annotations.csv',]\n",
    "\n",
    "qc_alignment_polarity = 'positive'\n",
    "chromatography = 'C18'\n",
    "new_files_path = '/global/cfs/cdirs/metatlas/raw_data/jgi/20230321_JGI_TN_507992_LabUnlabStdMixes_final_QEHF_C18_USDAY63680/'"
   ]
  },
  {
   "cell_type": "code",
   "execution_count": 457,
   "id": "032fedb0-3fe2-4459-89d6-5cc4a6949c6a",
   "metadata": {
    "tags": []
   },
   "outputs": [],
   "source": [
    "qc_atlas = atlas_id_to_df(C18_QC_ATLAS_IDS[qc_alignment_polarity])"
   ]
  },
  {
   "cell_type": "code",
   "execution_count": 458,
   "id": "7c5f85fa-21af-4014-8451-b544fe54ece7",
   "metadata": {
    "tags": []
   },
   "outputs": [
    {
     "data": {
      "application/vnd.jupyter.widget-view+json": {
       "model_id": "ac94802135724b489087bf4269c95644",
       "version_major": 2,
       "version_minor": 0
      },
      "text/plain": [
       "  0%|          | 0/3 [00:00<?, ?file/s]"
      ]
     },
     "metadata": {},
     "output_type": "display_data"
    }
   ],
   "source": [
    "qc_files = get_qc_files(new_files_path, qc_alignment_polarity)\n",
    "qc_ms1_data = collect_qc_ms1_data(qc_atlas, qc_files, qc_alignment_polarity)\n",
    "\n",
    "median_qc_ms1_data = qc_ms1_data[qc_ms1_data['peak_height'] >= 5e5].groupby('label')['rt_peak'].median().sort_values()\n",
    "rt_merged = pd.merge(median_qc_ms1_data, qc_atlas[['label', 'rt_peak']], on='label')"
   ]
  },
  {
   "cell_type": "code",
   "execution_count": 459,
   "id": "4b85f655-7b5f-4ebf-951c-d81f55f24a89",
   "metadata": {
    "tags": []
   },
   "outputs": [],
   "source": [
    "rt_merged['rt_diff'] = rt_merged['rt_peak_y'] - rt_merged['rt_peak_x']"
   ]
  },
  {
   "cell_type": "code",
   "execution_count": 460,
   "id": "59d7048a-d14c-47da-b140-06edfdf9df8c",
   "metadata": {
    "tags": []
   },
   "outputs": [
    {
     "data": {
      "text/html": [
       "<div>\n",
       "<style scoped>\n",
       "    .dataframe tbody tr th:only-of-type {\n",
       "        vertical-align: middle;\n",
       "    }\n",
       "\n",
       "    .dataframe tbody tr th {\n",
       "        vertical-align: top;\n",
       "    }\n",
       "\n",
       "    .dataframe thead th {\n",
       "        text-align: right;\n",
       "    }\n",
       "</style>\n",
       "<table border=\"1\" class=\"dataframe\">\n",
       "  <thead>\n",
       "    <tr style=\"text-align: right;\">\n",
       "      <th></th>\n",
       "      <th>label</th>\n",
       "      <th>rt_peak_x</th>\n",
       "      <th>rt_peak_y</th>\n",
       "      <th>rt_diff</th>\n",
       "    </tr>\n",
       "  </thead>\n",
       "  <tbody>\n",
       "    <tr>\n",
       "      <th>0</th>\n",
       "      <td>2'-deoxyadenosine</td>\n",
       "      <td>0.933278</td>\n",
       "      <td>1.034452</td>\n",
       "      <td>0.101175</td>\n",
       "    </tr>\n",
       "    <tr>\n",
       "      <th>1</th>\n",
       "      <td>phenylalanine</td>\n",
       "      <td>1.343127</td>\n",
       "      <td>1.452954</td>\n",
       "      <td>0.109826</td>\n",
       "    </tr>\n",
       "    <tr>\n",
       "      <th>2</th>\n",
       "      <td>xanthosine</td>\n",
       "      <td>1.363475</td>\n",
       "      <td>1.425375</td>\n",
       "      <td>0.061900</td>\n",
       "    </tr>\n",
       "    <tr>\n",
       "      <th>3</th>\n",
       "      <td>thymidine</td>\n",
       "      <td>1.986807</td>\n",
       "      <td>2.013823</td>\n",
       "      <td>0.027017</td>\n",
       "    </tr>\n",
       "    <tr>\n",
       "      <th>4</th>\n",
       "      <td>d-tryptophan</td>\n",
       "      <td>2.182795</td>\n",
       "      <td>2.200267</td>\n",
       "      <td>0.017472</td>\n",
       "    </tr>\n",
       "    <tr>\n",
       "      <th>5</th>\n",
       "      <td>caffeine</td>\n",
       "      <td>2.704417</td>\n",
       "      <td>2.652537</td>\n",
       "      <td>-0.051880</td>\n",
       "    </tr>\n",
       "    <tr>\n",
       "      <th>6</th>\n",
       "      <td>salicylic acid</td>\n",
       "      <td>3.419684</td>\n",
       "      <td>3.397571</td>\n",
       "      <td>-0.022114</td>\n",
       "    </tr>\n",
       "  </tbody>\n",
       "</table>\n",
       "</div>"
      ],
      "text/plain": [
       "               label  rt_peak_x  rt_peak_y   rt_diff\n",
       "0  2'-deoxyadenosine   0.933278   1.034452  0.101175\n",
       "1      phenylalanine   1.343127   1.452954  0.109826\n",
       "2         xanthosine   1.363475   1.425375  0.061900\n",
       "3          thymidine   1.986807   2.013823  0.027017\n",
       "4       d-tryptophan   2.182795   2.200267  0.017472\n",
       "5           caffeine   2.704417   2.652537 -0.051880\n",
       "6     salicylic acid   3.419684   3.397571 -0.022114"
      ]
     },
     "execution_count": 460,
     "metadata": {},
     "output_type": "execute_result"
    }
   ],
   "source": [
    "rt_merged"
   ]
  },
  {
   "cell_type": "code",
   "execution_count": 461,
   "id": "9724e5d2-331c-4f02-a9ad-aeb802cd4dac",
   "metadata": {
    "tags": []
   },
   "outputs": [
    {
     "data": {
      "text/plain": [
       "0.027016707121032546"
      ]
     },
     "execution_count": 461,
     "metadata": {},
     "output_type": "execute_result"
    }
   ],
   "source": [
    "rt_merged['rt_diff'].median()"
   ]
  },
  {
   "cell_type": "code",
   "execution_count": 462,
   "id": "a0b51ba3-3fdb-4eee-b74f-c4cf46891c17",
   "metadata": {
    "tags": []
   },
   "outputs": [
    {
     "data": {
      "text/plain": [
       "0.027016707121032546"
      ]
     },
     "execution_count": 462,
     "metadata": {},
     "output_type": "execute_result"
    }
   ],
   "source": [
    "rt_merged['rt_diff'].median()"
   ]
  },
  {
   "cell_type": "code",
   "execution_count": 463,
   "id": "b4f0f8a1-b915-444c-8adb-3f37a66d3cf4",
   "metadata": {
    "tags": []
   },
   "outputs": [],
   "source": [
    "atlases = [pd.read_csv(path, index_col=0) for path in atlas_paths]"
   ]
  },
  {
   "cell_type": "code",
   "execution_count": 464,
   "id": "49cd576d-c68a-4083-8dca-6dd32bb1d965",
   "metadata": {
    "tags": []
   },
   "outputs": [
    {
     "data": {
      "text/html": [
       "<div>\n",
       "<style scoped>\n",
       "    .dataframe tbody tr th:only-of-type {\n",
       "        vertical-align: middle;\n",
       "    }\n",
       "\n",
       "    .dataframe tbody tr th {\n",
       "        vertical-align: top;\n",
       "    }\n",
       "\n",
       "    .dataframe thead th {\n",
       "        text-align: right;\n",
       "    }\n",
       "</style>\n",
       "<table border=\"1\" class=\"dataframe\">\n",
       "  <thead>\n",
       "    <tr style=\"text-align: right;\">\n",
       "      <th></th>\n",
       "      <th>label</th>\n",
       "      <th>adduct</th>\n",
       "      <th>mz</th>\n",
       "      <th>rt_peak</th>\n",
       "      <th>rt_min</th>\n",
       "      <th>rt_max</th>\n",
       "      <th>inchi</th>\n",
       "      <th>inchi_key</th>\n",
       "      <th>mz_tolerance</th>\n",
       "      <th>polarity</th>\n",
       "      <th>extra_time</th>\n",
       "      <th>ppm_tolerance</th>\n",
       "      <th>group_index</th>\n",
       "    </tr>\n",
       "  </thead>\n",
       "  <tbody>\n",
       "    <tr>\n",
       "      <th>0</th>\n",
       "      <td>abmba</td>\n",
       "      <td>[M+H]+</td>\n",
       "      <td>229.981117</td>\n",
       "      <td>4.700000</td>\n",
       "      <td>4.500000</td>\n",
       "      <td>4.900000</td>\n",
       "      <td>InChI=1S/C8H8BrNO2/c1-4-2-5(8(11)12)7(10)6(9)3...</td>\n",
       "      <td>LCMZECCEEOQWLQ-UHFFFAOYSA-N</td>\n",
       "      <td>5.0</td>\n",
       "      <td>positive</td>\n",
       "      <td>0.1</td>\n",
       "      <td>10</td>\n",
       "      <td>4</td>\n",
       "    </tr>\n",
       "    <tr>\n",
       "      <th>1</th>\n",
       "      <td>2'-deoxyadenosine</td>\n",
       "      <td>[M+H]+</td>\n",
       "      <td>252.109139</td>\n",
       "      <td>1.034452</td>\n",
       "      <td>0.834452</td>\n",
       "      <td>1.234452</td>\n",
       "      <td>InChI=1S/C10H13N5O3/c11-9-8-10(13-3-12-9)15(4-...</td>\n",
       "      <td>OLXZPDWKRNYJJZ-RRKCRQDMSA-N</td>\n",
       "      <td>5.0</td>\n",
       "      <td>positive</td>\n",
       "      <td>0.1</td>\n",
       "      <td>10</td>\n",
       "      <td>6</td>\n",
       "    </tr>\n",
       "    <tr>\n",
       "      <th>2</th>\n",
       "      <td>xanthosine</td>\n",
       "      <td>[M+H]+</td>\n",
       "      <td>285.082984</td>\n",
       "      <td>1.425375</td>\n",
       "      <td>1.225375</td>\n",
       "      <td>1.625375</td>\n",
       "      <td>InChI=1S/C10H12N4O6/c15-1-3-5(16)6(17)9(20-3)1...</td>\n",
       "      <td>UBORTCNDUKBEOP-UUOKFMHZSA-N</td>\n",
       "      <td>5.0</td>\n",
       "      <td>positive</td>\n",
       "      <td>0.1</td>\n",
       "      <td>10</td>\n",
       "      <td>7</td>\n",
       "    </tr>\n",
       "    <tr>\n",
       "      <th>3</th>\n",
       "      <td>phenylalanine</td>\n",
       "      <td>[M+H]+</td>\n",
       "      <td>166.086279</td>\n",
       "      <td>1.452954</td>\n",
       "      <td>1.252954</td>\n",
       "      <td>1.652954</td>\n",
       "      <td>InChI=1S/C9H11NO2/c10-8(9(11)12)6-7-4-2-1-3-5-...</td>\n",
       "      <td>COLNVLDHVKWLRT-QMMMGPOBSA-N</td>\n",
       "      <td>5.0</td>\n",
       "      <td>positive</td>\n",
       "      <td>0.1</td>\n",
       "      <td>10</td>\n",
       "      <td>1</td>\n",
       "    </tr>\n",
       "    <tr>\n",
       "      <th>4</th>\n",
       "      <td>thymidine</td>\n",
       "      <td>[M+H]+</td>\n",
       "      <td>243.097572</td>\n",
       "      <td>2.013823</td>\n",
       "      <td>1.813823</td>\n",
       "      <td>2.213823</td>\n",
       "      <td>InChI=1S/C10H14N2O5/c1-5-3-12(10(16)11-9(5)15)...</td>\n",
       "      <td>IQFYYKKMVGJFEH-XLPZGREQSA-N</td>\n",
       "      <td>5.0</td>\n",
       "      <td>positive</td>\n",
       "      <td>0.1</td>\n",
       "      <td>10</td>\n",
       "      <td>5</td>\n",
       "    </tr>\n",
       "    <tr>\n",
       "      <th>5</th>\n",
       "      <td>d-tryptophan</td>\n",
       "      <td>[M+H]+</td>\n",
       "      <td>205.097178</td>\n",
       "      <td>2.200267</td>\n",
       "      <td>2.000267</td>\n",
       "      <td>2.400267</td>\n",
       "      <td>InChI=1S/C11H12N2O2/c12-9(11(14)15)5-7-6-13-10...</td>\n",
       "      <td>QIVBCDIJIAJPQS-SECBINFHSA-N</td>\n",
       "      <td>5.0</td>\n",
       "      <td>positive</td>\n",
       "      <td>0.1</td>\n",
       "      <td>10</td>\n",
       "      <td>3</td>\n",
       "    </tr>\n",
       "    <tr>\n",
       "      <th>6</th>\n",
       "      <td>caffeine</td>\n",
       "      <td>[M+H]+</td>\n",
       "      <td>195.087676</td>\n",
       "      <td>2.652537</td>\n",
       "      <td>2.452537</td>\n",
       "      <td>2.852537</td>\n",
       "      <td>InChI=1S/C8H10N4O2/c1-10-4-9-6-5(10)7(13)12(3)...</td>\n",
       "      <td>RYYVLZVUVIJVGH-UHFFFAOYSA-N</td>\n",
       "      <td>5.0</td>\n",
       "      <td>positive</td>\n",
       "      <td>0.1</td>\n",
       "      <td>10</td>\n",
       "      <td>2</td>\n",
       "    </tr>\n",
       "    <tr>\n",
       "      <th>7</th>\n",
       "      <td>salicylic acid</td>\n",
       "      <td>[M+H]+</td>\n",
       "      <td>139.038994</td>\n",
       "      <td>3.397571</td>\n",
       "      <td>3.197571</td>\n",
       "      <td>3.597571</td>\n",
       "      <td>InChI=1S/C7H6O3/c8-6-4-2-1-3-5(6)7(9)10/h1-4,8...</td>\n",
       "      <td>YGSDEFSMJLZEOE-UHFFFAOYSA-N</td>\n",
       "      <td>5.0</td>\n",
       "      <td>positive</td>\n",
       "      <td>0.1</td>\n",
       "      <td>10</td>\n",
       "      <td>0</td>\n",
       "    </tr>\n",
       "    <tr>\n",
       "      <th>8</th>\n",
       "      <td>enoxolone</td>\n",
       "      <td>[M+H]+</td>\n",
       "      <td>471.346910</td>\n",
       "      <td>6.605928</td>\n",
       "      <td>6.405928</td>\n",
       "      <td>6.805928</td>\n",
       "      <td>InChI=1S/C30H46O4/c1-25(2)21-8-11-30(7)23(28(2...</td>\n",
       "      <td>MPDGHEJMBKOTSU-YKLVYJNSSA-N</td>\n",
       "      <td>5.0</td>\n",
       "      <td>positive</td>\n",
       "      <td>0.1</td>\n",
       "      <td>10</td>\n",
       "      <td>10</td>\n",
       "    </tr>\n",
       "    <tr>\n",
       "      <th>9</th>\n",
       "      <td>9-cis-retinoic acid</td>\n",
       "      <td>[M+H]+</td>\n",
       "      <td>301.216230</td>\n",
       "      <td>7.372778</td>\n",
       "      <td>7.172778</td>\n",
       "      <td>7.572778</td>\n",
       "      <td>InChI=1S/C20H28O2/c1-15(8-6-9-16(2)14-19(21)22...</td>\n",
       "      <td>SHGAZHPCJJPHSC-YCNIQYBTSA-N</td>\n",
       "      <td>5.0</td>\n",
       "      <td>positive</td>\n",
       "      <td>0.1</td>\n",
       "      <td>10</td>\n",
       "      <td>8</td>\n",
       "    </tr>\n",
       "    <tr>\n",
       "      <th>10</th>\n",
       "      <td>sarsasapogenin</td>\n",
       "      <td>[M+H]+</td>\n",
       "      <td>417.336345</td>\n",
       "      <td>8.155101</td>\n",
       "      <td>7.955101</td>\n",
       "      <td>8.355101</td>\n",
       "      <td>InChI=1S/C27H44O3/c1-16-7-12-27(29-15-16)17(2)...</td>\n",
       "      <td>GMBQZIIUCVWOCD-WWASVFFGSA-N</td>\n",
       "      <td>5.0</td>\n",
       "      <td>positive</td>\n",
       "      <td>0.1</td>\n",
       "      <td>10</td>\n",
       "      <td>9</td>\n",
       "    </tr>\n",
       "    <tr>\n",
       "      <th>11</th>\n",
       "      <td>nigericin</td>\n",
       "      <td>[M+H]+</td>\n",
       "      <td>747.465407</td>\n",
       "      <td>8.559813</td>\n",
       "      <td>8.359813</td>\n",
       "      <td>8.759813</td>\n",
       "      <td>InChI=1S/C40H68O11.Na/c1-21-11-12-28(46-33(21)...</td>\n",
       "      <td>MOYOTUKECQMGHE-PDEFJWSRSA-M</td>\n",
       "      <td>5.0</td>\n",
       "      <td>positive</td>\n",
       "      <td>0.1</td>\n",
       "      <td>10</td>\n",
       "      <td>11</td>\n",
       "    </tr>\n",
       "  </tbody>\n",
       "</table>\n",
       "</div>"
      ],
      "text/plain": [
       "                  label  adduct          mz   rt_peak    rt_min    rt_max  \\\n",
       "0                 abmba  [M+H]+  229.981117  4.700000  4.500000  4.900000   \n",
       "1     2'-deoxyadenosine  [M+H]+  252.109139  1.034452  0.834452  1.234452   \n",
       "2            xanthosine  [M+H]+  285.082984  1.425375  1.225375  1.625375   \n",
       "3         phenylalanine  [M+H]+  166.086279  1.452954  1.252954  1.652954   \n",
       "4             thymidine  [M+H]+  243.097572  2.013823  1.813823  2.213823   \n",
       "5          d-tryptophan  [M+H]+  205.097178  2.200267  2.000267  2.400267   \n",
       "6              caffeine  [M+H]+  195.087676  2.652537  2.452537  2.852537   \n",
       "7        salicylic acid  [M+H]+  139.038994  3.397571  3.197571  3.597571   \n",
       "8             enoxolone  [M+H]+  471.346910  6.605928  6.405928  6.805928   \n",
       "9   9-cis-retinoic acid  [M+H]+  301.216230  7.372778  7.172778  7.572778   \n",
       "10       sarsasapogenin  [M+H]+  417.336345  8.155101  7.955101  8.355101   \n",
       "11            nigericin  [M+H]+  747.465407  8.559813  8.359813  8.759813   \n",
       "\n",
       "                                                inchi  \\\n",
       "0   InChI=1S/C8H8BrNO2/c1-4-2-5(8(11)12)7(10)6(9)3...   \n",
       "1   InChI=1S/C10H13N5O3/c11-9-8-10(13-3-12-9)15(4-...   \n",
       "2   InChI=1S/C10H12N4O6/c15-1-3-5(16)6(17)9(20-3)1...   \n",
       "3   InChI=1S/C9H11NO2/c10-8(9(11)12)6-7-4-2-1-3-5-...   \n",
       "4   InChI=1S/C10H14N2O5/c1-5-3-12(10(16)11-9(5)15)...   \n",
       "5   InChI=1S/C11H12N2O2/c12-9(11(14)15)5-7-6-13-10...   \n",
       "6   InChI=1S/C8H10N4O2/c1-10-4-9-6-5(10)7(13)12(3)...   \n",
       "7   InChI=1S/C7H6O3/c8-6-4-2-1-3-5(6)7(9)10/h1-4,8...   \n",
       "8   InChI=1S/C30H46O4/c1-25(2)21-8-11-30(7)23(28(2...   \n",
       "9   InChI=1S/C20H28O2/c1-15(8-6-9-16(2)14-19(21)22...   \n",
       "10  InChI=1S/C27H44O3/c1-16-7-12-27(29-15-16)17(2)...   \n",
       "11  InChI=1S/C40H68O11.Na/c1-21-11-12-28(46-33(21)...   \n",
       "\n",
       "                      inchi_key  mz_tolerance  polarity  extra_time  \\\n",
       "0   LCMZECCEEOQWLQ-UHFFFAOYSA-N           5.0  positive         0.1   \n",
       "1   OLXZPDWKRNYJJZ-RRKCRQDMSA-N           5.0  positive         0.1   \n",
       "2   UBORTCNDUKBEOP-UUOKFMHZSA-N           5.0  positive         0.1   \n",
       "3   COLNVLDHVKWLRT-QMMMGPOBSA-N           5.0  positive         0.1   \n",
       "4   IQFYYKKMVGJFEH-XLPZGREQSA-N           5.0  positive         0.1   \n",
       "5   QIVBCDIJIAJPQS-SECBINFHSA-N           5.0  positive         0.1   \n",
       "6   RYYVLZVUVIJVGH-UHFFFAOYSA-N           5.0  positive         0.1   \n",
       "7   YGSDEFSMJLZEOE-UHFFFAOYSA-N           5.0  positive         0.1   \n",
       "8   MPDGHEJMBKOTSU-YKLVYJNSSA-N           5.0  positive         0.1   \n",
       "9   SHGAZHPCJJPHSC-YCNIQYBTSA-N           5.0  positive         0.1   \n",
       "10  GMBQZIIUCVWOCD-WWASVFFGSA-N           5.0  positive         0.1   \n",
       "11  MOYOTUKECQMGHE-PDEFJWSRSA-M           5.0  positive         0.1   \n",
       "\n",
       "    ppm_tolerance  group_index  \n",
       "0              10            4  \n",
       "1              10            6  \n",
       "2              10            7  \n",
       "3              10            1  \n",
       "4              10            5  \n",
       "5              10            3  \n",
       "6              10            2  \n",
       "7              10            0  \n",
       "8              10           10  \n",
       "9              10            8  \n",
       "10             10            9  \n",
       "11             10           11  "
      ]
     },
     "execution_count": 464,
     "metadata": {},
     "output_type": "execute_result"
    }
   ],
   "source": [
    "qc_atlas"
   ]
  },
  {
   "cell_type": "code",
   "execution_count": 465,
   "id": "f5c839e7-4d56-49c5-b7c3-8e26aa77fd1b",
   "metadata": {
    "tags": []
   },
   "outputs": [],
   "source": [
    "median_offset = rt_merged['rt_diff'].median()"
   ]
  },
  {
   "cell_type": "code",
   "execution_count": 466,
   "id": "8ee716e7-e11b-4ac4-953d-516aed8f4e95",
   "metadata": {
    "tags": []
   },
   "outputs": [],
   "source": [
    "for i, atlas in enumerate(atlases):\n",
    "    atlas['rt_peak'] = atlas['rt_peak'] + median_offset\n",
    "    \n",
    "    atlas['rt_min'] = atlas['rt_min'] + median_offset\n",
    "    atlas['rt_max'] = atlas['rt_max'] + median_offset\n",
    "    \n",
    "    atlas.to_csv(f'{atlas_paths[i][:-4]}_EMA-CORRECTED.csv')"
   ]
  },
  {
   "cell_type": "code",
   "execution_count": null,
   "id": "eec41609-6ef8-40f1-90ce-db9b2d7fc969",
   "metadata": {},
   "outputs": [],
   "source": []
  }
 ],
 "metadata": {
  "kernelspec": {
   "display_name": "Metatlas Targeted",
   "language": "python",
   "name": "metatlas-targeted"
  },
  "language_info": {
   "codemirror_mode": {
    "name": "ipython",
    "version": 3
   },
   "file_extension": ".py",
   "mimetype": "text/x-python",
   "name": "python",
   "nbconvert_exporter": "python",
   "pygments_lexer": "ipython3",
   "version": "3.11.10"
  }
 },
 "nbformat": 4,
 "nbformat_minor": 5
}
