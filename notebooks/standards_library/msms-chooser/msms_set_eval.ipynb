{
 "cells": [
  {
   "cell_type": "markdown",
   "id": "aa33e586-3d89-40d9-ae40-9ab61402fefa",
   "metadata": {},
   "source": [
    "# Evaluate MSMS-Set Ouputs & Generate Final Observation Table"
   ]
  },
  {
   "cell_type": "code",
   "execution_count": null,
   "id": "f655c1c7-aeb2-48d2-b2d9-cae1b544e727",
   "metadata": {},
   "outputs": [],
   "source": [
    "import pandas as pd\n",
    "import glob\n",
    "import os\n",
    "\n",
    "from ipywidgets import widgets, interact, interactive, interactive_output, Layout, Style, HBox, VBox\n",
    "from IPython.display import clear_output\n",
    "import shutil"
   ]
  },
  {
   "cell_type": "code",
   "execution_count": null,
   "id": "fd85b24e-f457-47c2-a02f-a4ee2d1d49fd",
   "metadata": {},
   "outputs": [],
   "source": [
    "class PDF(object):\n",
    "    def __init__(self, pdf, size=(200,200)):\n",
    "        self.pdf = pdf\n",
    "        self.size = size\n",
    "\n",
    "    def _repr_html_(self):\n",
    "        return '<iframe src={0} width={1[0]} height={1[1]}></iframe>'.format(self.pdf, self.size)\n",
    "\n",
    "    def _repr_latex_(self):\n",
    "        return r'\\includegraphics[width=1.0\\textwidth]{{{0}}}'.format(self.pdf)"
   ]
  },
  {
   "cell_type": "markdown",
   "id": "aa88a081-6105-431a-8b7a-883dc2239663",
   "metadata": {},
   "source": [
    "## Rerun Notebook From Here with Other Chromatography if Needed"
   ]
  },
  {
   "cell_type": "code",
   "execution_count": null,
   "id": "fb5f3f50-8e0d-4eb9-80a9-1a7484ac61af",
   "metadata": {},
   "outputs": [],
   "source": [
    "chromatography = 'c18' #'hilic' or 'c18'"
   ]
  },
  {
   "cell_type": "code",
   "execution_count": null,
   "id": "20df3f3f-46a4-437f-8765-bb860e0acddb",
   "metadata": {},
   "outputs": [],
   "source": [
    "msms_set_output_dir = 'downloads/plant_standards_diagnostic_plots_{chromatography}'.format(chromatography=chromatography)\n",
    "msms_set_output_good_dir = 'downloads/plant_standards_diagnostic_plots_{chromatography}/good'.format(chromatography=chromatography)\n",
    "msms_set_output_ambiguous_dir = 'downloads/plant_standards_diagnostic_plots_{chromatography}/ambiguous'.format(chromatography=chromatography)\n",
    "\n",
    "output_df = pd.read_csv(os.path.join(msms_set_output_dir, 'diagnostic_peakheight_and_centroids.csv'))"
   ]
  },
  {
   "cell_type": "code",
   "execution_count": null,
   "id": "9c798a2f-0341-49dd-adc3-95002d8daba0",
   "metadata": {},
   "outputs": [],
   "source": [
    "output_df['filter_override'] = 'False'\n",
    "output_df['group'] = ''\n",
    "for idx, row in output_df.iterrows():\n",
    "    output_df.loc[idx, 'group'] = str(row['compound_name']).split('-')[0]"
   ]
  },
  {
   "cell_type": "code",
   "execution_count": null,
   "id": "9f3ef87f-cc93-4079-803d-3834c419e7d9",
   "metadata": {},
   "outputs": [],
   "source": [
    "output_df.head()"
   ]
  },
  {
   "cell_type": "code",
   "execution_count": null,
   "id": "bf30d164-fd44-4a07-9e5c-68d4c22dfc8c",
   "metadata": {},
   "outputs": [],
   "source": [
    "plot_files = glob.glob(os.path.join(msms_set_output_dir, '*.pdf'))\n",
    "\n",
    "plot_filenames = []\n",
    "\n",
    "for f in plot_files:\n",
    "    plot_filenames.append(os.path.basename(f))\n",
    "    \n",
    "plot_filenames.append('')"
   ]
  },
  {
   "cell_type": "code",
   "execution_count": null,
   "id": "7299e368-c41e-4092-813a-95336001e880",
   "metadata": {},
   "outputs": [],
   "source": [
    "plot_filenames[0]"
   ]
  },
  {
   "cell_type": "markdown",
   "id": "62b3fa79-7dbd-4ef4-9cde-24d78cf86ec9",
   "metadata": {},
   "source": [
    "## Adjust PDF Viewer Size"
   ]
  },
  {
   "cell_type": "code",
   "execution_count": null,
   "id": "5987d057-9ba8-4287-88db-13b3a9347c48",
   "metadata": {},
   "outputs": [],
   "source": [
    "pdf_view_size = (2000, 800)\n",
    "test_pdf = PDF(plot_files[0], size=pdf_view_size)\n",
    "test_pdf"
   ]
  },
  {
   "cell_type": "markdown",
   "id": "3e0e8a7f-94f5-4e4b-84a1-25d48ff00e47",
   "metadata": {},
   "source": [
    "## Filter Compounds into \"Ambiguous\" and \"Good\" Sets"
   ]
  },
  {
   "cell_type": "code",
   "execution_count": null,
   "id": "ef307bd9-92bf-429c-ac9b-1f438eef3470",
   "metadata": {},
   "outputs": [],
   "source": [
    "compound_drop = widgets.Dropdown(\n",
    "    options=plot_filenames,\n",
    "    value='',\n",
    "    description='Manual Select:',\n",
    "    disabled=False, \n",
    "    style={'description_width':'initial'}\n",
    ")\n",
    "\n",
    "override_filter_button = widgets.ToggleButton(\n",
    "    value=False,\n",
    "    description='OVERRIDE FILTER',\n",
    "    disabled=False,\n",
    "    font_weight='bold',\n",
    "    button_style='warning', # 'success', 'info', 'warning', 'danger' or ''\n",
    "    tooltip='Don\\'t use filtering logic for adducts, manually curate after',\n",
    "    icon='ban' # (FontAwesome names without the `fa-` prefix)\n",
    ")\n",
    "\n",
    "good_button = button = widgets.Button(\n",
    "    description='Good',\n",
    "    disabled=False,\n",
    "    style=dict(\n",
    "    font_weight='bold',\n",
    "    button_color='lightgreen')\n",
    ")\n",
    "\n",
    "ambiguous_button = button = widgets.Button(\n",
    "    description='Ambiguous',\n",
    "    disabled=False,\n",
    "    style=dict(\n",
    "    font_weight='bold',\n",
    "    button_color='lightcoral')\n",
    ")\n",
    "\n",
    "def filter_adducts(idx, rt_diff_max = 0.2, intensity_min = 1000000):\n",
    "    name = plot_filenames[idx].split('-')[0]\n",
    "    adduct_df = output_df[output_df['group']==name]\n",
    "    filtered_adduct_df = pd.DataFrame()\n",
    "    \n",
    "    peak_height_max = adduct_df['peak_height'].max()\n",
    "    rt_set = adduct_df[adduct_df['peak_height']==peak_height_max]['rt_peak'].values[0]\n",
    "    rt_min = rt_set  - rt_diff_max\n",
    "    rt_max = rt_set + rt_diff_max\n",
    "    \n",
    "    for idx, row in adduct_df.iterrows():\n",
    "        if row['rt_peak'] >= rt_min and row['rt_peak'] <= rt_max and row['peak_height'] >= intensity_min:\n",
    "            filtered_adduct_df = pd.concat([filtered_adduct_df, output_df.iloc[[idx]]])\n",
    "            \n",
    "    return filtered_adduct_df\n",
    "\n",
    "class Events:\n",
    "    \n",
    "    ind = -1\n",
    "    ind_max = len(plot_files) - 1\n",
    "    \n",
    "    filtered_good_df = pd.DataFrame()\n",
    "    ambiguous_df = pd.DataFrame()\n",
    "    \n",
    "    def good_button_click(self, event):\n",
    "        with output:\n",
    "            clear_output()\n",
    "            \n",
    "            if plot_files[self.ind] in plot_files and self.ind != -1:\n",
    "                shutil.copyfile(plot_files[self.ind], os.path.join(msms_set_output_good_dir, plot_filenames[self.ind]))\n",
    "                \n",
    "                if override_filter_button.value == False:\n",
    "                \n",
    "                    filtered_adduct_df = filter_adducts(self.ind)\n",
    "                    \n",
    "                if override_filter_button.value == True:\n",
    "                    \n",
    "                    name = plot_filenames[self.ind].split('-')[0]\n",
    "                    adduct_df = output_df[output_df['group']==name]\n",
    "                    adduct_df = adduct_df.replace('False', 'True')\n",
    "                    \n",
    "                    filtered_adduct_df = adduct_df\n",
    "                \n",
    "                self.filtered_good_df = pd.concat([self.filtered_good_df, filtered_adduct_df])\n",
    "            \n",
    "            if self.ind < self.ind_max:\n",
    "                self.ind += 1\n",
    "                pdf = PDF(plot_files[self.ind], size=pdf_view_size)\n",
    "                \n",
    "                return display(pdf), print(self.ind)\n",
    "            if self.ind == self.ind_max:\n",
    "                return print('Compound Evaluation Complete!')\n",
    "            \n",
    "    def ambiguous_button_click(self, event):\n",
    "        with output:\n",
    "            clear_output()\n",
    "            \n",
    "            if plot_files[self.ind] in plot_files and self.ind != -1:\n",
    "                shutil.copyfile(plot_files[self.ind], os.path.join(msms_set_output_ambiguous_dir, plot_filenames[self.ind]))\n",
    "                \n",
    "                name = plot_filenames[self.ind].split('-')[0]\n",
    "                adduct_df = output_df[output_df['group']==name]\n",
    "                self.ambiguous_df = pd.concat([self.ambiguous_df, adduct_df])\n",
    "                \n",
    "            if self.ind < self.ind_max:\n",
    "                self.ind += 1\n",
    "                pdf = PDF(plot_files[self.ind], size=pdf_view_size)\n",
    "                return display(pdf), print(self.ind)\n",
    "            if self.ind == self.ind_max:\n",
    "                return print('Compound Evaluation Complete!')\n",
    "            \n",
    "    def on_select(self, event):\n",
    "        with output:\n",
    "            clear_output()\n",
    "            selected_index = plot_filenames.index(event)\n",
    "            self.ind = selected_index\n",
    "        \n",
    "            pdf = PDF(plot_files[self.ind], size=pdf_view_size)\n",
    "            return display(pdf)\n",
    "            "
   ]
  },
  {
   "cell_type": "code",
   "execution_count": null,
   "id": "1357e406-8a90-4c8d-b1b5-ad48c99d5cc4",
   "metadata": {},
   "outputs": [],
   "source": [
    "events = Events()\n",
    "output = widgets.Output()\n",
    "\n",
    "good_button.on_click(events.good_button_click)\n",
    "ambiguous_button.on_click(events.ambiguous_button_click)\n",
    "manual_select_dropdown = interactive(events.on_select, event=compound_drop)\n",
    "\n",
    "button_container = HBox(layout=Layout(width='100%',display='inline-flex',flex_flow='row wrap', align_items='center'))\n",
    "button_container.children = [good_button, ambiguous_button, override_filter_button, compound_drop]\n",
    "\n",
    "display(button_container, output)"
   ]
  },
  {
   "cell_type": "markdown",
   "id": "86d69e3e-ccda-46dc-bb0a-ea8bdc7b2afc",
   "metadata": {},
   "source": [
    "## Save 'Good' and 'Ambiguous' Observation Tables"
   ]
  },
  {
   "cell_type": "code",
   "execution_count": null,
   "id": "0aa3af4f-c688-463d-a13a-f721c57f088b",
   "metadata": {},
   "outputs": [],
   "source": [
    "events.ambiguous_df.to_csv(os.path.join(msms_set_output_ambiguous_dir, 'ambiguous_observation_table.csv'))\n",
    "events.filtered_good_df.to_csv(os.path.join(msms_set_output_good_dir, 'final_observation_table.csv'))"
   ]
  },
  {
   "cell_type": "code",
   "execution_count": null,
   "id": "9743d739-8091-4049-b935-5e51200ed468",
   "metadata": {},
   "outputs": [],
   "source": [
    "events.filtered_good_df"
   ]
  },
  {
   "cell_type": "markdown",
   "id": "64b236e4-b660-45bf-8f14-e4dc099013a0",
   "metadata": {},
   "source": [
    "## Compare \"Good\" Compounds from Both Chromatographies, Display List of \"Ambiguous\" Compounds In Both"
   ]
  },
  {
   "cell_type": "code",
   "execution_count": null,
   "id": "69e1678e-610f-4ac2-9ee9-f1e87e0395bb",
   "metadata": {},
   "outputs": [],
   "source": [
    "chromatographies = ['hilic', 'c18'] #list of chromatographies used\n",
    "\n",
    "good_plot_filenames = []\n",
    "ambiguous_plot_filenames = []\n",
    "\n",
    "for ch in chromatographies:\n",
    "    \n",
    "    msms_set_output_good_dir = 'downloads/plant_standards_diagnostic_plots_{chromatography}/good'.format(chromatography=ch)\n",
    "    msms_set_output_ambiguous_dir = 'downloads/plant_standards_diagnostic_plots_{chromatography}/ambiguous'.format(chromatography=ch)\n",
    "    \n",
    "    good_plot_files = glob.glob(os.path.join(msms_set_output_good_dir, '*.pdf'))\n",
    "    \n",
    "    for f in good_plot_files:\n",
    "        good_plot_filenames.append(os.path.basename(f))\n",
    "        \n",
    "    ambiguous_plot_files = glob.glob(os.path.join(msms_set_output_ambiguous_dir, '*.pdf'))\n",
    "    \n",
    "    for f in ambiguous_plot_files:\n",
    "        ambiguous_plot_filenames.append(os.path.basename(f))\n"
   ]
  },
  {
   "cell_type": "code",
   "execution_count": null,
   "id": "f54ff718-6ac1-4689-8c01-738ed08b9fe7",
   "metadata": {},
   "outputs": [],
   "source": [
    "set(ambiguous_plot_filenames) - set(good_plot_filenames)"
   ]
  },
  {
   "cell_type": "code",
   "execution_count": null,
   "id": "1e3d0348-d9e7-4efc-900a-d92a209de947",
   "metadata": {},
   "outputs": [],
   "source": []
  },
  {
   "cell_type": "code",
   "execution_count": null,
   "id": "0e2f914b-3b45-4af1-9b0f-05f7f23c1184",
   "metadata": {},
   "outputs": [],
   "source": []
  }
 ],
 "metadata": {
  "kernelspec": {
   "display_name": "msms-set-env",
   "language": "python",
   "name": "msms-set-venv"
  },
  "language_info": {
   "codemirror_mode": {
    "name": "ipython",
    "version": 3
   },
   "file_extension": ".py",
   "mimetype": "text/x-python",
   "name": "python",
   "nbconvert_exporter": "python",
   "pygments_lexer": "ipython3",
   "version": "3.9.12"
  }
 },
 "nbformat": 4,
 "nbformat_minor": 5
}
