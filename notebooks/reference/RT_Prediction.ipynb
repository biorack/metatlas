{
 "cells": [
  {
   "cell_type": "markdown",
   "metadata": {},
   "source": [
    "# Parameters\n",
    "\n",
    "The next code block sets parameters that are used throughout the remainder of the notebook."
   ]
  },
  {
   "cell_type": "code",
   "execution_count": null,
   "metadata": {
    "tags": [
     "parameters"
    ]
   },
   "outputs": [],
   "source": [
    "# pylint: disable=invalid-name,missing-module-docstring\n",
    "\n",
    "# an integer, increment if you need to redo your analysis\n",
    "# will be appended to your username to create analysis_id\n",
    "analysis_number = 0\n",
    "\n",
    "# experiment ID that must match the parent folder containing the LCMS output files\n",
    "# An example experiment ID is '20201116_JGI-AK_LH_506489_SoilWarm_final_QE-HF_HILICZ_USHXG01530'\n",
    "experiment = \"REPLACE ME\"\n",
    "\n",
    "# group will only be used in RT prediction if their name has a substring match to this list of strings\n",
    "include_groups = [\"_QC_\"]\n",
    "\n",
    "# Exclude files with names containing any of the substrings in this list. Eg., ['peas', 'beans']\n",
    "exclude_files = []\n",
    "\n",
    "# list of substrings that will group together when creating groups\n",
    "# this provides additional grouping beyond the default grouping on field #12\n",
    "groups_controlled_vocab = [\"QC\", \"InjBl\", \"ISTD\"]\n",
    "\n",
    "# The rest of this block contains project independent parameters\n",
    "\n",
    "# Full path to the directory where you have cloned the metatlas git repo.\n",
    "# If you ran the 'git clone ...' command in your home directory on Cori,\n",
    "# then you'll want '/global/homes/FIRST-INITIAL-OF-USERNAME/USERNAME/metatlas'\n",
    "# where the uppercase letters are replaced based on your NERSC username.\n",
    "metatlas_repo_path = \"/global/homes/FIRST-INITIAL-OF-USERNAME/USERNAME/metatlas\"\n",
    "\n",
    "# Full path to the directory where you want this notebook to store data.\n",
    "# A subdirectory will be auto created within this directory for each project.\n",
    "# You can place this anywhere on cori's filesystem, but placing it within your\n",
    "# global home directory is recommended so that you do not need to worry about\n",
    "# your data being purged. Each project will take on the order of 100 MB.\n",
    "project_directory = \"/global/homes/FIRST-INITIAL-OF-USERNAME/USERNAME/metabolomics_projects\"\n",
    "\n",
    "# ID from Google Drive URL for base output folder .\n",
    "# The default value is the ID that corresponds to 'JGI_Metabolomics_Projects'.\n",
    "google_folder = \"0B-ZDcHbPi-aqZzE5V3hOZFc0dms\"\n",
    "\n",
    "# thresholds for filtering out compounds with weak MS1 signals\n",
    "num_points = 5\n",
    "peak_height = 4e5\n",
    "\n",
    "# maximum number of CPUs to use\n",
    "# when running on jupyter.nersc.gov, you are not allowed to set this above 4\n",
    "max_cpus = 4\n",
    "\n",
    "# Threshold for how much status information metatlas functions print in the notebook\n",
    "# levels are 'DEBUG', 'INFO', 'WARNING', 'ERROR', 'CRITICAL'\n",
    "log_level = \"INFO\""
   ]
  },
  {
   "cell_type": "code",
   "execution_count": null,
   "metadata": {},
   "outputs": [],
   "source": []
  },
  {
   "cell_type": "code",
   "execution_count": null,
   "metadata": {},
   "outputs": [],
   "source": [
    "# pylint: disable=wrong-import-position,import-error\n",
    "import logging  # noqa: E402\n",
    "import os  # noqa: E402\n",
    "import sys  # noqa: E402\n",
    "\n",
    "sys.path.insert(0, metatlas_repo_path)\n",
    "logger = logging.getLogger(\"metatlas.jupyter\")\n",
    "logger.debug(\"sys.executable=%s\", sys.executable)\n",
    "logger.debug(\"sys.path=%s.\", sys.path)\n",
    "logger.debug(\"metatlas_repo_path=%s.\", metatlas_repo_path)\n",
    "if not os.path.exists(metatlas_repo_path):\n",
    "    logging.critical(\n",
    "        \"Directory set for metatlas_repo_path parameter (%s) does not exist or is not accessible.\",\n",
    "        metatlas_repo_path,\n",
    "    )\n",
    "    raise ValueError(\"Invalid metatlas_repo_path parameter in Jupyter Notebook.\")\n",
    "try:\n",
    "    from metatlas.tools import notebook, predict_rt  # noqa: E402\n",
    "except ModuleNotFoundError as err:\n",
    "    if str(err) == \"No module named 'metatlas.tools'\":\n",
    "        logging.critical(\n",
    "            (\"Could not find metatlas module at %s. \" \"In the Parameters block, please check the value of metatlas_repo_path.\"),\n",
    "            metatlas_repo_path,\n",
    "        )\n",
    "    else:\n",
    "        logger.critical('Please check that the kernel is set to \"Metatlas Targeted\".')\n",
    "    raise ModuleNotFoundError from err\n",
    "notebook.setup(log_level)"
   ]
  },
  {
   "cell_type": "code",
   "execution_count": null,
   "metadata": {},
   "outputs": [],
   "source": [
    "ids = predict_rt.get_analysis_ids_for_rt_prediction(experiment, project_directory, google_folder, analysis_number)"
   ]
  },
  {
   "cell_type": "code",
   "execution_count": null,
   "metadata": {},
   "outputs": [],
   "source": [
    "predict_rt.generate_outputs(ids, max_cpus, metatlas_repo_path, num_points, peak_height)"
   ]
  }
 ],
 "metadata": {
  "anaconda-cloud": {},
  "kernelspec": {
   "display_name": "Python 3 (ipykernel)",
   "language": "python",
   "name": "python3"
  },
  "language_info": {
   "codemirror_mode": {
    "name": "ipython",
    "version": 3
   },
   "file_extension": ".py",
   "mimetype": "text/x-python",
   "name": "python",
   "nbconvert_exporter": "python",
   "pygments_lexer": "ipython3",
   "version": "3.8.11"
  }
 },
 "nbformat": 4,
 "nbformat_minor": 4
}
