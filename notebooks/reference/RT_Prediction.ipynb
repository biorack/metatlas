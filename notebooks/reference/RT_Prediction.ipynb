{
 "cells": [
  {
   "cell_type": "markdown",
   "metadata": {
    "tags": []
   },
   "source": [
    "# RT Prediction\n",
    "### Targeted Analysis\n",
    "See the [Targeted_Analysis.md](https://github.com/biorack/metatlas/blob/main/docs/Targeted_Analysis.md) file on GitHub for documentation on how to use this notebook.\n",
    "\n",
    "#### Parameters\n",
    "The next code block sets parameters that are used throughout the remainder of the notebook."
   ]
  },
  {
   "cell_type": "code",
   "execution_count": null,
   "metadata": {
    "tags": [
     "parameters"
    ]
   },
   "outputs": [],
   "source": [
    "# pylint: disable=invalid-name,missing-module-docstring\n",
    "\n",
    "# one of 'positive' or 'negative'\n",
    "# uses this polarity for RT prediction, but will generate subsequent notebooks for both polarities\n",
    "polarity = \"positive\"\n",
    "\n",
    "# an integer, increment if you need to redo your analysis\n",
    "# will be appended to your username to create analysis_id\n",
    "analysis_number = 0\n",
    "\n",
    "# experiment ID that must match the parent folder containing the LCMS output files\n",
    "# An example experiment ID is '20201116_JGI-AK_LH_506489_SoilWarm_final_QE-HF_HILICZ_USHXG01530'\n",
    "experiment = \"REPLACE ME\"\n",
    "\n",
    "# group will only be used in RT prediction if their name has a substring match to this list of strings\n",
    "include_groups = None\n",
    "\n",
    "# Exclude files with names containing any of the substrings in this list. Eg., ['peas', 'beans']\n",
    "exclude_files = None\n",
    "\n",
    "# Exclude groups with names containing any of the substrings in this list.\n",
    "# 'POS' or 'NEG' will be auto-appended later, so you shouldn't use them here.\n",
    "exclude_groups = None\n",
    "\n",
    "# list of substrings that will group together when creating groups\n",
    "# this provides additional grouping beyond the default grouping on field #12\n",
    "groups_controlled_vocab = [\"QC\", \"InjBl\", \"ISTD\"]\n",
    "\n",
    "# thresholds for filtering out compounds with weak MS1 signals\n",
    "# set to None to disable a filter\n",
    "num_points = 5\n",
    "peak_height = 4e5\n",
    "\n",
    "# threshold for filtering out compounds with poor MS2 spectra similaritiy\n",
    "# Should be a value in range 0 to 1. Set to None to disable this filter.\n",
    "msms_score = None\n",
    "\n",
    "# if True, use a 2nd order polynomial model for RT prediction.\n",
    "# if False, use a liner model\n",
    "use_poly_model = True\n",
    "\n",
    "# if True, don't generate any atlases or notebooks\n",
    "# if False, an atlas with adjusted RTs and follow up notebooks will be generated\n",
    "model_only = False\n",
    "\n",
    "# Choose the QC run or name of the summary statistic generated from all QC runs\n",
    "# that will be used as the\n",
    "# Selects the data source for the dependent variable for RT model generation\n",
    "# Can be the name of a summary statistic generated from all QC runs:\n",
    "# \"median\", \"mean\", \"min\", max\"\n",
    "# Or specific QC run, by supply name of an h5 file (without the path)\n",
    "dependent_data_source = \"median\"\n",
    "\n",
    "\n",
    "# The rest of this block contains project independent parameters\n",
    "\n",
    "# to use an older version of the metatlas source code, set this to a commit id,\n",
    "# branch name, or tag. If None, then use the the \"main\" branch.\n",
    "source_code_version_id = None\n",
    "\n",
    "# Full path to the directory where you want this notebook to store data.\n",
    "# A subdirectory will be auto created within this directory for each project.\n",
    "# You can place this anywhere on cori's filesystem, but placing it within your\n",
    "# global home directory is recommended so that you do not need to worry about\n",
    "# your data being purged. Each project will take on the order of 100 MB.\n",
    "project_directory = \"/global/homes/FIRST-INITIAL-OF-USERNAME/USERNAME/metabolomics_projects\"\n",
    "\n",
    "# ID from Google Drive URL for base output folder .\n",
    "# The default value is the ID that corresponds to 'JGI_Metabolomics_Projects'.\n",
    "google_folder = \"0B-ZDcHbPi-aqZzE5V3hOZFc0dms\"\n",
    "\n",
    "# maximum number of CPUs to use\n",
    "# when running on jupyter.nersc.gov, you are not allowed to set this above 4\n",
    "max_cpus = 4\n",
    "\n",
    "# Threshold for how much status information metatlas functions print in the notebook\n",
    "# levels are 'DEBUG', 'INFO', 'WARNING', 'ERROR', 'CRITICAL'\n",
    "log_level = \"INFO\""
   ]
  },
  {
   "cell_type": "code",
   "execution_count": null,
   "metadata": {},
   "outputs": [],
   "source": []
  },
  {
   "cell_type": "code",
   "execution_count": null,
   "metadata": {},
   "outputs": [],
   "source": [
    "# pylint: disable=wrong-import-position,import-error,missing-class-docstring\n",
    "import logging  # noqa: E402\n",
    "from pathlib import Path  # noqa: E402\n",
    "\n",
    "\n",
    "class StopExecution(Exception):\n",
    "    def _render_traceback_(self):\n",
    "        pass\n",
    "\n",
    "\n",
    "logger = logging.getLogger(\"metatlas.jupyter\")\n",
    "kernel_def = \"\"\"{\"argv\":[\"shifter\",\"--entrypoint\",\"--image=wjhjgi/metatlas_shifter:latest\",\"/usr/local/bin/python\",\"-m\",\n",
    "                 \"ipykernel_launcher\",\"-f\",\"{connection_file}\"],\"display_name\": \"Metatlas Targeted\",\"language\": \"python\",\n",
    "                 \"metadata\": { \"debugger\": true }}\"\"\"\n",
    "kernel_file_name = Path.home() / \".local\" / \"share\" / \"jupyter\" / \"kernels\" / \"metatlas-targeted\" / \"kernel.json\"\n",
    "kernel_file_name.parent.mkdir(parents=True, exist_ok=True)\n",
    "image_version_file_name = Path(\"/metatlas_image_version\")\n",
    "try:\n",
    "    with image_version_file_name.open(mode=\"r\", encoding=\"utf-8\") as f:\n",
    "        version = f.readlines()[0].rstrip()\n",
    "except FileNotFoundError:\n",
    "    version = \"0\"\n",
    "if version != \"1\":\n",
    "    with kernel_file_name.open(mode=\"w\", encoding=\"utf-8\") as f:\n",
    "        f.writelines(kernel_def)\n",
    "    logger.critical(\"CRITICAL: Notebook kernel has been updated. Restart kernel and re-run notebook.\")\n",
    "    raise StopExecution\n",
    "try:\n",
    "    from metatlas.tools import notebook, predict_rt  # noqa: E402\n",
    "except ImportError as err:\n",
    "    logger.critical('CRITICAL: Please check that the kernel is set to \"Metatlas Targeted\".')\n",
    "    raise StopExecution from err\n",
    "\n",
    "notebook.setup(log_level, source_code_version_id)"
   ]
  },
  {
   "cell_type": "code",
   "execution_count": null,
   "metadata": {},
   "outputs": [],
   "source": [
    "ids = predict_rt.get_analysis_ids_for_rt_prediction(\n",
    "    experiment,\n",
    "    project_directory,\n",
    "    google_folder,\n",
    "    analysis_number,\n",
    "    polarity,\n",
    "    exclude_files,\n",
    "    include_groups,\n",
    "    exclude_groups,\n",
    "    groups_controlled_vocab,\n",
    ")"
   ]
  },
  {
   "cell_type": "code",
   "execution_count": null,
   "metadata": {},
   "outputs": [],
   "source": [
    "predict_rt.generate_outputs(ids, max_cpus, num_points, peak_height, msms_score, use_poly_model, model_only, dependent_data_source)"
   ]
  }
 ],
 "metadata": {
  "anaconda-cloud": {},
  "kernelspec": {
   "display_name": "Metatlas Targeted",
   "language": "python",
   "name": "metatlas-targeted"
  },
  "language_info": {
   "codemirror_mode": {
    "name": "ipython",
    "version": 3
   },
   "file_extension": ".py",
   "mimetype": "text/x-python",
   "name": "python",
   "nbconvert_exporter": "python",
   "pygments_lexer": "ipython3",
   "version": "3.8.12"
  }
 },
 "nbformat": 4,
 "nbformat_minor": 4
}
