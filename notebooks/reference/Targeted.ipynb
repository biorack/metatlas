{
 "cells": [
  {
   "cell_type": "markdown",
   "metadata": {},
   "source": [
    "# Parameters\n",
    "\n",
    "The next code block sets parameters that are used throughout the remainder of the notebook."
   ]
  },
  {
   "cell_type": "code",
   "execution_count": 1,
   "metadata": {
    "tags": [
     "parameters"
    ]
   },
   "outputs": [],
   "source": [
    "# pylint: disable=invalid-name,missing-module-docstring\n",
    "\n",
    "# source atlas name\n",
    "source_atlas = None\n",
    "\n",
    "# this atlas will be copied to an atlas named projectId_experimentName_sampleSet_polarity_analysisId\n",
    "# where projectId is JGI Proposal ID Number\n",
    "#       experiment name is short text description from field 4 (0-indexed) of LCMS filename\n",
    "#       sampleSet is commonly Pilot, Final - from field 5 (0-indexed) of LCMS filename\n",
    "#       polarity is 'POS' or 'NEG'\n",
    "#       analysisId is usernameX where X is the analysis number\n",
    "\n",
    "# one of 'positive' or 'negative'\n",
    "polarity = \"positive\"\n",
    "\n",
    "# one of 'ISTDsEtc' or 'FinalEMA-HILIC'\n",
    "output_type = \"FinalEMA-HILIC\"\n",
    "\n",
    "# an integer, increment if you need to redo your analysis\n",
    "# will be appended to your username to create analysis_id\n",
    "analysis_number = 0\n",
    "\n",
    "# experiment ID that must match the parent folder containing the LCMS output files\n",
    "# An example experiment ID is '20201116_JGI-AK_LH_506489_SoilWarm_final_QE-HF_HILICZ_USHXG01530'\n",
    "experiment = \"REPLACE ME\"\n",
    "\n",
    "# Exclude files with names containing any of the substrings in this list. Eg., ['peas', 'beans']\n",
    "exclude_files = []\n",
    "\n",
    "# Exclude groups with names containing any of the substrings in this list.\n",
    "# 'POS' or 'NEG' will be auto-appended later, so you shouldn't use them here.\n",
    "exclude_groups = [\"QC\", \"InjBl\"]\n",
    "\n",
    "# thresholds for filtering out compounds with weak MS1 signals\n",
    "num_points = 5\n",
    "peak_height = 4e5\n",
    "\n",
    "# include MSMS fragment ions in the output documents?\n",
    "export_msms_fragment_ions = False\n",
    "\n",
    "# list of substrings that will group together when creating groups\n",
    "# this provides additional grouping beyond the default grouping on field #12\n",
    "groups_controlled_vocab = [\"QC\", \"InjBl\", \"ISTD\"]\n",
    "\n",
    "# list of tuples contain string with color name and substring pattern.\n",
    "# Lines in the EIC plot will be colored by the first substring pattern\n",
    "# that has a match within the name of the hdf5_file. The order they are\n",
    "# listed in your list is the order they are displayed in the overlays\n",
    "# (first is front, last is back). Named colors available in matplotlib\n",
    "# are here: https://matplotlib.org/3.1.0/gallery/color/named_colors.html\n",
    "# or use hexadecimal values '#000000'. Lines default to black.\n",
    "line_colors = [(\"red\", \"ExCtrl\"), (\"green\", \"TxCtrl\"), (\"blue\", \"InjBl\")]\n",
    "\n",
    "# The rest of this block contains project independent parameters\n",
    "\n",
    "# Full path to the directory where you have cloned the metatlas git repo.\n",
    "# If you ran the 'git clone ...' command in your home directory on Cori,\n",
    "# then you'll want '/global/homes/FIRST-INITIAL-OF-USERNAME/USERNAME/metatlas'\n",
    "# where the uppercase letters are replaced based on your NERSC username.\n",
    "metatlas_repo_path = \"/global/homes/FIRST-INITIAL-OF-USERNAME/USERNAME/metatlas\"\n",
    "\n",
    "\n",
    "# Full path to the directory where you want this notebook to store data.\n",
    "# A subdirectory will be auto created within this directory for each project.\n",
    "# You can place this anywhere on cori's filesystem, but placing it within your\n",
    "# global home directory is recommended so that you do not need to worry about\n",
    "# your data being purged. Each project will take on the order of 100 MB.\n",
    "project_directory = \"/global/homes/FIRST-INITIAL-OF-USERNAME/USERNAME/metabolomics_projects\"\n",
    "\n",
    "# maximum number of CPUs to use\n",
    "# when running on jupyter.nersc.gov, you are not allowed to set this above 4\n",
    "max_cpus = 4\n",
    "\n",
    "# Threshold for how much status information metatlas functions print in the notebook\n",
    "# levels are 'DEBUG', 'INFO', 'WARNING', 'ERROR', 'CRITICAL'\n",
    "log_level = \"INFO\""
   ]
  },
  {
   "cell_type": "code",
   "execution_count": null,
   "metadata": {},
   "outputs": [],
   "source": []
  },
  {
   "cell_type": "code",
   "execution_count": null,
   "metadata": {},
   "outputs": [],
   "source": [
    "# pylint: disable=wrong-import-position,import-error\n",
    "import logging  # noqa: E402\n",
    "import os  # noqa: E402\n",
    "import sys  # noqa: E402\n",
    "\n",
    "sys.path.insert(0, metatlas_repo_path)\n",
    "logger = logging.getLogger(\"metatlas.jupyter\")\n",
    "logger.debug(\"sys.executable=%s\", sys.executable)\n",
    "logger.debug(\"sys.path=%s.\", sys.path)\n",
    "logger.debug(\"metatlas_repo_path=%s.\", metatlas_repo_path)\n",
    "if not os.path.exists(metatlas_repo_path):\n",
    "    logging.critical(\n",
    "        \"Directory set for metatlas_repo_path parameter (%s) does not exist or is not accessible.\",\n",
    "        metatlas_repo_path,\n",
    "    )\n",
    "    raise ValueError(\"Invalid metatlas_repo_path parameter in Jupyter Notebook.\")\n",
    "try:\n",
    "    from metatlas.tools import environment  # noqa: E402\n",
    "\n",
    "    environment.validate_kernel()\n",
    "except ModuleNotFoundError as err:\n",
    "    logging.critical(\n",
    "        (\n",
    "            \"Could not find metatlas repo at %s. \"\n",
    "            \"In the Parameters block, please check the value of metatlas_repo_path.\"\n",
    "        ),\n",
    "        metatlas_repo_path,\n",
    "    )\n",
    "    raise ModuleNotFoundError from err\n",
    "except ImportError as err:\n",
    "    logging.critical(\"A newer version of metatlas_repo is required to use this notebook.\")\n",
    "    raise ImportError from err\n",
    "from metatlas.tools import notebook  # noqa: E402\n",
    "\n",
    "notebook.setup(log_level)\n",
    "from metatlas.datastructures import metatlas_dataset as mads  # noqa: E402\n",
    "\n",
    "%matplotlib widget"
   ]
  },
  {
   "cell_type": "code",
   "execution_count": null,
   "metadata": {},
   "outputs": [],
   "source": [
    "ids = mads.AnalysisIdentifiers(\n",
    "    source_atlas, experiment, output_type, polarity, analysis_number, project_directory\n",
    ")"
   ]
  },
  {
   "cell_type": "code",
   "execution_count": null,
   "metadata": {},
   "outputs": [],
   "source": [
    "metatlas_dataset = mads.MetatlasDataset(\n",
    "    ids, groups_controlled_vocab=groups_controlled_vocab, exclude_files=exclude_files\n",
    ")"
   ]
  },
  {
   "cell_type": "code",
   "execution_count": null,
   "metadata": {},
   "outputs": [],
   "source": [
    "if metatlas_dataset.ids.output_type in [\"FinalEMA-HILIC\"]:\n",
    "    metatlas_dataset.filter_compounds_by_signal(num_points=num_points, peak_height=peak_height)"
   ]
  },
  {
   "cell_type": "markdown",
   "metadata": {},
   "source": [
    "#### Annotation GUI\n",
    "If you are re-running this notebook and do not need to make additional changes to RT min/max bounds, then you can skip running the next code cell. Skipping will save you from calculating MSMS hits twice."
   ]
  },
  {
   "cell_type": "code",
   "execution_count": null,
   "metadata": {},
   "outputs": [],
   "source": [
    "agui = metatlas_dataset.annotation_gui(compound_idx=0, width=15, height=3, colors=line_colors)"
   ]
  },
  {
   "cell_type": "code",
   "execution_count": null,
   "metadata": {},
   "outputs": [],
   "source": [
    "if metatlas_dataset.ids.output_type in [\"FinalEMA-HILIC\"]:\n",
    "    metatlas_dataset.filter_compounds_ms1_notes_remove()"
   ]
  },
  {
   "cell_type": "code",
   "execution_count": null,
   "metadata": {},
   "outputs": [],
   "source": [
    "metatlas_dataset.generate_all_outputs()"
   ]
  }
 ],
 "metadata": {
  "anaconda-cloud": {},
  "kernelspec": {
   "display_name": "Python 3",
   "language": "python",
   "name": "python3"
  },
  "language_info": {
   "codemirror_mode": {
    "name": "ipython",
    "version": 3
   },
   "file_extension": ".py",
   "mimetype": "text/x-python",
   "name": "python",
   "nbconvert_exporter": "python",
   "pygments_lexer": "ipython3",
   "version": "3.7.4"
  }
 },
 "nbformat": 4,
 "nbformat_minor": 4
}
