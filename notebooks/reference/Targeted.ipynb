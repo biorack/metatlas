{
 "cells": [
  {
   "cell_type": "markdown",
   "metadata": {},
   "source": [
    "# Targeted Analysis\n",
    "See the [Targeted_Analysis.md](https://github.com/biorack/metatlas/blob/main/docs/Targeted_Analysis.md) file on GitHub for documentation on how to use this notebook.\n",
    "\n",
    "#### Parameters\n",
    "The next code block sets parameters that are used throughout the remainder of the notebook."
   ]
  },
  {
   "cell_type": "code",
   "execution_count": null,
   "metadata": {
    "tags": [
     "parameters"
    ]
   },
   "outputs": [],
   "source": [
    "# pylint: disable=invalid-name,missing-module-docstring\n",
    "\n",
    "# source atlas name\n",
    "source_atlas = None\n",
    "\n",
    "# this atlas will be copied to an atlas named projectId_experimentName_sampleSet_polarity_analysisId\n",
    "# where projectId is JGI Proposal ID Number\n",
    "#       experiment name is short text description from field 4 (0-indexed) of LCMS filename\n",
    "#       sampleSet is commonly Pilot, Final - from field 5 (0-indexed) of LCMS filename\n",
    "#       polarity is 'POS' or 'NEG'\n",
    "#       analysisId is usernameX where X is the analysis number\n",
    "\n",
    "# one of 'positive' or 'negative'\n",
    "polarity = \"positive\"\n",
    "\n",
    "# one of 'ISTDsEtc', 'FinalEMA-HILIC', 'FinalEMA-C18'\n",
    "output_type = \"FinalEMA-HILIC\"\n",
    "\n",
    "# an integer, increment if you need to redo your analysis\n",
    "# will be appended to your username to create analysis_id\n",
    "analysis_number = 0\n",
    "\n",
    "# experiment ID that must match the parent folder containing the LCMS output files\n",
    "# An example experiment ID is '20201116_JGI-AK_LH_506489_SoilWarm_final_QE-HF_HILICZ_USHXG01530'\n",
    "experiment = \"REPLACE ME\"\n",
    "\n",
    "# Exclude files with names containing any of the substrings in this list. Eg., ['peas', 'beans']\n",
    "exclude_files = []\n",
    "\n",
    "# Exclude groups with names containing any of the substrings in this list.\n",
    "# 'POS' or 'NEG' will be auto-appended later, so you shouldn't use them here.\n",
    "exclude_groups = [\"QC\", \"InjBl\"]\n",
    "\n",
    "# thresholds for filtering out compounds with weak MS1 signals\n",
    "# set to None to disable a filter\n",
    "num_points = 5\n",
    "peak_height = 4e5\n",
    "\n",
    "# threshold for filtering out compounds with poor MS2 spectra similaritiy\n",
    "# Should be a value in range 0 to 1. Set to None to disable this filter.\n",
    "msms_score = None\n",
    "\n",
    "# include MSMS fragment ions in the output documents?\n",
    "export_msms_fragment_ions = False\n",
    "\n",
    "# list of substrings that will group together when creating groups\n",
    "# this provides additional grouping beyond the default grouping on field #12\n",
    "groups_controlled_vocab = [\"QC\", \"InjBl\", \"ISTD\"]\n",
    "\n",
    "# list of tuples contain string with color name and substring pattern.\n",
    "# Lines in the EIC plot will be colored by the first substring pattern\n",
    "# that has a match within the name of the hdf5_file. The order they are\n",
    "# listed in your list is the order they are displayed in the overlays\n",
    "# (first is front, last is back). Named colors available in matplotlib\n",
    "# are here: https://matplotlib.org/3.1.0/gallery/color/named_colors.html\n",
    "# or use hexadecimal values '#000000'. Lines default to black.\n",
    "line_colors = [(\"red\", \"ExCtrl\"), (\"green\", \"TxCtrl\"), (\"blue\", \"InjBl\")]\n",
    "\n",
    "# Setting this to True will remove the cache of MSMS hits\n",
    "# if you don't see MSMS data for any of your compounds in RT adjuster GUI,\n",
    "# then you might want to try settings this to True. However, it will\n",
    "# make your notebook take significantly longer to run.\n",
    "# The cache is per experiment, so clearing the cache will impact other\n",
    "# notebooks for this same experiment.\n",
    "clear_cache = False\n",
    "\n",
    "# The rest of this block contains project independent parameters\n",
    "\n",
    "# to use an older version of the metatlas source code, set this to a commit id,\n",
    "# branch name, or tag. If None, then use the the \"main\" branch.\n",
    "source_code_version_id = None\n",
    "\n",
    "# Full path to the directory where you want this notebook to store data.\n",
    "# A subdirectory will be auto created within this directory for each project.\n",
    "# You can place this anywhere on cori's filesystem, but placing it within your\n",
    "# global home directory is recommended so that you do not need to worry about\n",
    "# your data being purged. Each project will take on the order of 100 MB.\n",
    "project_directory = \"/global/homes/FIRST-INITIAL-OF-USERNAME/USERNAME/metabolomics_projects\"\n",
    "\n",
    "# ID from Google Drive URL for base output folder .\n",
    "# The default value is the ID that corresponds to 'JGI_Metabolomics_Projects'.\n",
    "google_folder = \"0B-ZDcHbPi-aqZzE5V3hOZFc0dms\"\n",
    "\n",
    "# maximum number of CPUs to use\n",
    "# when running on jupyter.nersc.gov, you are not allowed to set this above 4\n",
    "max_cpus = 4\n",
    "\n",
    "# Threshold for how much status information metatlas functions print in the notebook\n",
    "# levels are 'DEBUG', 'INFO', 'WARNING', 'ERROR', 'CRITICAL'\n",
    "log_level = \"INFO\""
   ]
  },
  {
   "cell_type": "code",
   "execution_count": null,
   "metadata": {},
   "outputs": [],
   "source": []
  },
  {
   "cell_type": "code",
   "execution_count": null,
   "metadata": {
    "tags": []
   },
   "outputs": [],
   "source": [
    "# pylint: disable=wrong-import-position,import-error,missing-class-docstring\n",
    "import logging  # noqa: E402\n",
    "from pathlib import Path  # noqa: E402\n",
    "\n",
    "\n",
    "class StopExecution(Exception):\n",
    "    def _render_traceback_(self):\n",
    "        pass\n",
    "\n",
    "\n",
    "logger = logging.getLogger(\"metatlas.jupyter\")\n",
    "kernel_def = \"\"\"{\"argv\":[\"shifter\",\"--entrypoint\",\"--image=doejgi/metatlas_shifter:latest\",\"/usr/local/bin/python\",\"-m\",\n",
    "                 \"ipykernel_launcher\",\"-f\",\"{connection_file}\"],\"display_name\": \"Metatlas Targeted\",\"language\": \"python\",\n",
    "                 \"metadata\": { \"debugger\": true }}\"\"\"\n",
    "kernel_file_name = Path.home() / \".local\" / \"share\" / \"jupyter\" / \"kernels\" / \"metatlas-targeted\" / \"kernel.json\"\n",
    "kernel_file_name.parent.mkdir(parents=True, exist_ok=True)\n",
    "try:\n",
    "    with Path(\"/metatlas_image_version\").open(mode=\"r\", encoding=\"utf-8\") as f:\n",
    "        version = f.readlines()[0].rstrip()\n",
    "except FileNotFoundError:\n",
    "    version = \"0\"\n",
    "try:\n",
    "    has_root_kernel = Path(\"/root/.local/share/jupyter/kernels/papermill/kernel.json\").is_file()\n",
    "except PermissionError:\n",
    "    has_root_kernel = False\n",
    "if not (version == \"1\" and (kernel_file_name.is_file() or has_root_kernel)):\n",
    "    with kernel_file_name.open(mode=\"w\", encoding=\"utf-8\") as f:\n",
    "        f.writelines(kernel_def)\n",
    "    logger.critical(\"CRITICAL: Notebook kernel has been updated. Restart kernel and re-run notebook.\")\n",
    "    raise StopExecution\n",
    "try:\n",
    "    from metatlas.tools import notebook  # noqa: E402\n",
    "except ImportError as err:\n",
    "    logger.critical('CRITICAL: Please check that the kernel is set to \"Metatlas Targeted\".')\n",
    "    raise StopExecution from err\n",
    "notebook.setup(log_level, source_code_version_id)\n",
    "from metatlas.datastructures import metatlas_dataset as mads  # noqa: E402"
   ]
  },
  {
   "cell_type": "code",
   "execution_count": null,
   "metadata": {},
   "outputs": [],
   "source": [
    "metatlas_dataset = mads.pre_annotation(\n",
    "    source_atlas,\n",
    "    experiment,\n",
    "    output_type,\n",
    "    polarity,\n",
    "    analysis_number,\n",
    "    project_directory,\n",
    "    google_folder,\n",
    "    groups_controlled_vocab,\n",
    "    exclude_files,\n",
    "    num_points,\n",
    "    peak_height,\n",
    "    max_cpus,\n",
    "    msms_score,\n",
    "    clear_cache=clear_cache,\n",
    ")"
   ]
  },
  {
   "cell_type": "markdown",
   "metadata": {},
   "source": [
    "#### Annotation GUI\n",
    "If you are re-running this notebook and do not need to make additional changes to RT min/max bounds, then you can skip running the next code cell. Skipping will save you from calculating MSMS hits twice."
   ]
  },
  {
   "cell_type": "code",
   "execution_count": null,
   "metadata": {},
   "outputs": [],
   "source": [
    "agui = metatlas_dataset.annotation_gui(compound_idx=0, width=15, height=3, colors=line_colors)"
   ]
  },
  {
   "cell_type": "code",
   "execution_count": null,
   "metadata": {},
   "outputs": [],
   "source": [
    "mads.post_annotation(metatlas_dataset)"
   ]
  }
 ],
 "metadata": {
  "anaconda-cloud": {},
  "kernelspec": {
   "display_name": "Metatlas Targeted",
   "language": "python",
   "name": "metatlas-targeted"
  },
  "language_info": {
   "codemirror_mode": {
    "name": "ipython",
    "version": 3
   },
   "file_extension": ".py",
   "mimetype": "text/x-python",
   "name": "python",
   "nbconvert_exporter": "python",
   "pygments_lexer": "ipython3",
   "version": "3.8.12"
  }
 },
 "nbformat": 4,
 "nbformat_minor": 4
}
