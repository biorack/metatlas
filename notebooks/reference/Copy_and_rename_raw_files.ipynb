{
 "cells": [
  {
   "cell_type": "code",
   "execution_count": null,
   "metadata": {},
   "outputs": [],
   "source": [
    "from metatlas.scripts import copy_and_rename_raw_files as cp"
   ]
  },
  {
   "cell_type": "code",
   "execution_count": null,
   "metadata": {},
   "outputs": [],
   "source": [
    "# This is the filename of a csv table that has current .raw filenames\n",
    "# in the first column and the desired new .raw filenames in the second column.\n",
    "# No header row is expected and filenames should NOT contain the full path.\n",
    "rename_hash = \"/path/to/rename_hash.csv\"\n",
    "\n",
    "# This is the location on perlmutter of the current .raw files. \n",
    "# Typically, this will be /global/cfs/cdirs/metatlas/raw_data/<experiment_name>\n",
    "current_file_path = \"/path/to/current/raw_files\"\n",
    "\n",
    "# This is the location on perlmutter where the renamed .raw files will be copied to.\n",
    "# Typically, this will be /global/cfs/cdirs/metatlas/raw_data/<experiment_name_RENAMED>\n",
    "# The new locaion does not need to exist yet.\n",
    "new_file_path = \"/path/to/new/raw_files\"\n",
    "\n",
    "# This inidcates that the project name in new_file_path will be checked to see if\n",
    "# it conforms with current naming conventions. It will also check that filenames in the\n",
    "# rename_hash file are unique, and if the filenames conform to the current naming conventions.\n",
    "checks = True"
   ]
  },
  {
   "cell_type": "code",
   "execution_count": null,
   "metadata": {},
   "outputs": [],
   "source": [
    "cp.copy_and_rename(table_file=rename_hash, \n",
    "                   current_path=current_file_path,\n",
    "                   new_path=new_file_path,\n",
    "                   checks=checks)"
   ]
  }
 ],
 "metadata": {
  "kernelspec": {
   "display_name": "metatlas",
   "language": "python",
   "name": "python3"
  },
  "language_info": {
   "name": "python",
   "version": "3.11.8"
  }
 },
 "nbformat": 4,
 "nbformat_minor": 2
}
