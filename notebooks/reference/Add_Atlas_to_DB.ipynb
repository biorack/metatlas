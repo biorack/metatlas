{
 "cells": [
  {
   "cell_type": "markdown",
   "metadata": {},
   "source": [
    "# Add Atlas to Database\n",
    "## Parameters\n",
    "The next code block sets parameters that are used throughout the remainder of the notebook."
   ]
  },
  {
   "cell_type": "code",
   "execution_count": 15,
   "metadata": {
    "tags": [
     "parameters"
    ]
   },
   "outputs": [],
   "source": [
    "# pylint: disable=invalid-name,missing-module-docstring\n",
    "\n",
    "# atlas data in CSV file format\n",
    "csv_atlas_file_name = None\n",
    "\n",
    "# name to assign to atlas\n",
    "atlas_name = None\n",
    "\n",
    "# use 'positive' or 'negative'\n",
    "polarity = None\n",
    "\n",
    "# overrides any mz_tolerance value in the CSV file\n",
    "mz_tolerance = 5\n",
    "\n",
    "# choose to sort the atlas by RT and MZ for analysis\n",
    "sort_atlas = True\n",
    "\n",
    "# is the atlas to be deposited an internal standard atlas (i.e., with unlabeled and labeled compounds)?\n",
    "istd_atlas = True\n",
    "\n",
    "# run a check to see if the number of compounds in deposited atlas matches number in input atlas\n",
    "# defaulted to False because it can take a non-trivial amount of time for larger atlases\n",
    "run_retrieval_check = False\n",
    "\n",
    "############ The rest of this block contains project independent parameters\n",
    "\n",
    "# to use an older version of the metatlas source code, set this to a commit id,\n",
    "# branch name, or tag. If None, then use the the \"main\" branch.\n",
    "source_code_version_id = None\n",
    "\n",
    "# Threshold for how much status information metatlas functions print in the notebook\n",
    "# levels are 'DEBUG', 'INFO', 'WARNING', 'ERROR', 'CRITICAL'\n",
    "log_level = \"INFO\""
   ]
  },
  {
   "cell_type": "markdown",
   "metadata": {},
   "source": [
    "## Initialization"
   ]
  },
  {
   "cell_type": "code",
   "execution_count": null,
   "metadata": {
    "tags": []
   },
   "outputs": [],
   "source": [
    "# pylint: disable=wrong-import-position,import-error,missing-class-docstring\n",
    "import logging  # noqa: E402\n",
    "from pathlib import Path  # noqa: E402\n",
    "from IPython.display import Markdown, display  # noqa: E402\n",
    "import pandas as pd\n",
    "\n",
    "class StopExecution(Exception):\n",
    "    def _render_traceback_(self):\n",
    "        pass\n",
    "\n",
    "\n",
    "logger = logging.getLogger(\"metatlas.jupyter\")\n",
    "\n",
    "kernel_def = \"\"\"{\"argv\":[\"shifter\",\"--entrypoint\",\"--image=ghcr.io/biorack/metatlas/metatlas_shifter:latest\",\"/usr/local/bin/python\",\"-m\",\n",
    "                 \"ipykernel_launcher\",\"-f\",\"{connection_file}\"],\"display_name\": \"Metatlas Targeted\",\"language\": \"python\",\n",
    "                 \"metadata\": { \"debugger\": true }}\"\"\"\n",
    "kernel_file_name = Path.home() / \".local\" / \"share\" / \"jupyter\" / \"kernels\" / \"metatlas-targeted\" / \"kernel.json\"\n",
    "try:\n",
    "    has_root_kernel = Path(\"/root/.local/share/jupyter/kernels/papermill/kernel.json\").is_file()\n",
    "except PermissionError:\n",
    "    has_root_kernel = False\n",
    "if not has_root_kernel and not kernel_file_name.is_file():\n",
    "    kernel_file_name.parent.mkdir(parents=True, exist_ok=True)\n",
    "    with kernel_file_name.open(mode=\"w\", encoding=\"utf-8\") as f:\n",
    "        f.writelines(kernel_def)\n",
    "    logger.critical('CRITICAL: Notebook kernel has been installed. Set kernel to \"Metatlas Targeted\" and re-run notebook.')\n",
    "    raise StopExecution\n",
    "try:\n",
    "    from metatlas.tools import notebook  # noqa: E402\n",
    "except ImportError as err:\n",
    "    logger.critical('CRITICAL: Set notebook kernel to \"Metatlas Targeted\" and re-run notebook.')\n",
    "    raise StopExecution from err\n",
    "# Check if any required variables are None\n",
    "if csv_atlas_file_name is None or atlas_name is None or polarity is None:\n",
    "    raise SystemExit(\"Exiting notebook due to unset variables in cell 1.\")\n",
    "if \".csv\" not in csv_atlas_file_name:\n",
    "    logger.info('Warning: if you are sorting this CSV before depositing the atlas, you must input a filename in Cell 1 with the suffix \".csv\" or amend the sort function in the notebook')\n",
    "notebook.setup(log_level, source_code_version_id)\n",
    "from metatlas.plots.dill2plots import make_atlas_from_spreadsheet  # noqa: E402\n",
    "from metatlas.io.metatlas_get_data_helper_fun import make_atlas_df  # noqa: E402"
   ]
  },
  {
   "cell_type": "code",
   "execution_count": 13,
   "metadata": {},
   "outputs": [],
   "source": [
    "def sort_atlas_csv(input_csv, column1, column2, istd_atlas):\n",
    "    \"\"\"\n",
    "    Reads in the atlas CSV, sorts it based on two numeric columns in ascending order\n",
    "\n",
    "    Parameters:\n",
    "    - input_csv: Path to the input CSV file.\n",
    "    - column1: The first column to sort by.\n",
    "    - column2: The second column to sort by.\n",
    "    \"\"\"\n",
    "    # Read the CSV file into a DataFrame\n",
    "    df = pd.read_csv(input_csv)\n",
    "    \n",
    "    # Sort the DataFrame based on the specified columns in ascending order\n",
    "    if istd_atlas == True:\n",
    "        if 'label' in df.columns:\n",
    "            if 'unlabeled' not in df['label'].values:\n",
    "                logger.info(\"Warning: The designation 'unlabeled' does not appear in the 'label' column. Only set 'istd_atlas' to True if this is an internal standard atlas with isotopic labeling.\")\n",
    "            df['rt_peak'] = df.apply(lambda row: row['rt_peak'] + 0.1 if 'unlabeled' in row['label'] else row['rt_peak'], axis=1)\n",
    "            sorted_df = df.sort_values(by=[column1, column2], ascending=[True, True])\n",
    "            sorted_df['rt_peak'] = sorted_df.apply(lambda row: row['rt_peak'] - 0.1 if 'unlabeled' in row['label'] else row['rt_peak'], axis=1)\n",
    "        else:\n",
    "            logger.info(\"Warning: The 'label' column is missing. Not sorting with heavy isotope compound first even though 'istd_atlas' is set to True.\")\n",
    "            sorted_df = df.sort_values(by=[column1, column2], ascending=[True, True])\n",
    "    else:\n",
    "        sorted_df = df.sort_values(by=[column1, column2], ascending=[True, True])\n",
    "    \n",
    "    return(sorted_df)"
   ]
  },
  {
   "cell_type": "code",
   "execution_count": null,
   "metadata": {
    "tags": []
   },
   "outputs": [],
   "source": [
    "if sort_atlas == True:\n",
    "    \n",
    "    csv_atlas_file_sorted_name = csv_atlas_file_name.replace(\".csv\", \"_sorted.csv\")\n",
    "\n",
    "    sorted_df = sort_atlas_csv(csv_atlas_file_name, \"rt_peak\", 'mz', istd_atlas)\n",
    "\n",
    "    logger.info('Writing sorted atlas to ' + csv_atlas_file_sorted_name + ' and selecting for db deposit')\n",
    "    sorted_df.to_csv(csv_atlas_file_sorted_name, index=False)\n",
    "    \n",
    "    input_atlas_file_name = csv_atlas_file_sorted_name\n",
    "    \n",
    "else:\n",
    "\n",
    "    input_atlas_file_name = csv_atlas_file_name\n",
    "    \n",
    "    logger.info('Notice: atlas data not sorted, retaining ' + csv_atlas_file_name + ' for db deposit')\n"
   ]
  },
  {
   "cell_type": "markdown",
   "metadata": {},
   "source": [
    "## Atlas generation"
   ]
  },
  {
   "cell_type": "code",
   "execution_count": null,
   "metadata": {
    "tags": []
   },
   "outputs": [],
   "source": [
    "%%time\n",
    "assert csv_atlas_file_name is not None\n",
    "assert atlas_name is not None\n",
    "logger.info('Reading in atlas from ' + input_atlas_file_name + ' and depositing to MySQL database at NERSC')\n",
    "atlas = make_atlas_from_spreadsheet(\n",
    "    input_atlas_file_name, atlas_name, filetype=\"csv\", polarity=polarity, store=True, mz_tolerance=mz_tolerance\n",
    ")\n",
    "logger.info('Making atlas df from ' + atlas.name + ' for downstream checks')\n",
    "atlas_df = make_atlas_df(atlas)\n",
    "display(Markdown(f\"### Atlas unique_id: {atlas.unique_id}\"))\n",
    "display(Markdown(f\"### Atlas name: {atlas.name}\"))"
   ]
  },
  {
   "cell_type": "code",
   "execution_count": null,
   "metadata": {
    "tags": []
   },
   "outputs": [],
   "source": [
    "if run_retrieval_check == True:\n",
    "\n",
    "    import pandas as pd\n",
    "    from metatlas.datastructures.utils import get_atlas\n",
    "\n",
    "    def atlas_id_to_df(atlas_unique_id: str) -> pd.DataFrame:\n",
    "        \"\"\"Retrieve atlas from database using unique id and create DataFrame from compound identification data.\"\"\"\n",
    "\n",
    "        atlas = get_atlas(atlas_unique_id)\n",
    "\n",
    "        atlas_df = make_atlas_df(atlas)\n",
    "\n",
    "        return atlas_df\n",
    "    \n",
    "    # Ensure atlas can be retrieved from database\n",
    "    retrieved_atlas_df = atlas_id_to_df(atlas.unique_id)\n",
    "    \n",
    "    # Convert input atlas to df\n",
    "    input_atlas_df = pd.read_csv(input_atlas_file_name)\n",
    "    \n",
    "    # Check dataframe dims against expectations\n",
    "    if input_atlas_df.shape[0] == retrieved_atlas_df.shape[0]:\n",
    "        \n",
    "        logger.info('Input and deposited atlas have the same number of compounds.')\n",
    "    \n",
    "    else:\n",
    "        \n",
    "        logger.info('Warning! Input and deposited atlas do not have the same number of compounds.')"
   ]
  }
 ],
 "metadata": {
  "anaconda-cloud": {},
  "kernelspec": {
   "display_name": "Metatlas Targeted",
   "language": "python",
   "name": "metatlas-targeted"
  },
  "language_info": {
   "codemirror_mode": {
    "name": "ipython",
    "version": 3
   },
   "file_extension": ".py",
   "mimetype": "text/x-python",
   "name": "python",
   "nbconvert_exporter": "python",
   "pygments_lexer": "ipython3",
   "version": "3.11.9"
  }
 },
 "nbformat": 4,
 "nbformat_minor": 4
}
