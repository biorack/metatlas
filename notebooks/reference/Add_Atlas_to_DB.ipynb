{
 "cells": [
  {
   "cell_type": "markdown",
   "metadata": {},
   "source": [
    "# Add Atlas to Database\n",
    "## Parameters\n",
    "The next code block sets parameters that are used throughout the remainder of the notebook."
   ]
  },
  {
   "cell_type": "code",
   "execution_count": null,
   "metadata": {
    "tags": [
     "parameters"
    ]
   },
   "outputs": [],
   "source": [
    "# pylint: disable=invalid-name,missing-module-docstring\n",
    "\n",
    "# atlas data in table format (csv or tsv) to be deposited\n",
    "atlas_file_name = \"/global/homes/b/bkieft/metabolomics_data/20250519_JGI_KS_510532_OilMisc_final_EXP120B_HILICZ_USHXG01827/mjblow_JGI-HILIC_0_0/Targeted/JGI-HILIC_20250519_JGI_KS_510532_OilMisc_final_EXP120B_HILICZ_USHXG01827/ISTDsEtcV7-POS/CompoundAtlas__510532_OilMisc_final_HILIC_ISTDsEtcV7_positive_polynomial_510532_OilMisc_final_JGI-HILIC_ISTDsEtcV7-POS_0_mjblow_0_0.csv\"\n",
    "\n",
    "# name to assign to atlas\n",
    "atlas_name = \"510532_OilMisc_final_HILIC_ISTDsEtcV7_positive_polynomial_510532_OilMisc_final_JGI-HILIC_ISTDsEtcV7-POS_0_mjblow_0_0\"\n",
    "\n",
    "# use 'positive' or 'negative'\n",
    "polarity = \"positive\"\n",
    "\n",
    "# overrides any mz_tolerance value in the atlas\n",
    "mz_tolerance = 5\n",
    "\n",
    "# choose to sort the atlas by RT and MZ for analysis\n",
    "sort_atlas = True\n",
    "\n",
    "# is the atlas to be deposited an internal standard atlas (i.e., with unlabeled and labeled compounds)?\n",
    "istd_atlas = True\n",
    "\n",
    "# run a check to see if the number of compounds in deposited atlas matches number in input atlas\n",
    "# defaulted to False because it can take a non-trivial amount of time for larger atlases\n",
    "run_retrieval_check = False\n",
    "\n",
    "############ The rest of this block contains project independent parameters\n",
    "\n",
    "# to use an older version of the metatlas source code, set this to a commit id,\n",
    "# branch name, or tag. If None, then use the the \"main\" branch.\n",
    "source_code_version_id = None\n",
    "\n",
    "# Threshold for how much status information metatlas functions print in the notebook\n",
    "# levels are 'DEBUG', 'INFO', 'WARNING', 'ERROR', 'CRITICAL'\n",
    "log_level = \"INFO\""
   ]
  },
  {
   "cell_type": "markdown",
   "metadata": {},
   "source": [
    "## Initialization"
   ]
  },
  {
   "cell_type": "code",
   "execution_count": null,
   "metadata": {
    "tags": []
   },
   "outputs": [],
   "source": [
    "# pylint: disable=wrong-import-position,import-error,missing-class-docstring\n",
    "import logging  # noqa: E402\n",
    "from pathlib import Path  # noqa: E402\n",
    "from IPython.display import Markdown, display  # noqa: E402\n",
    "import pandas as pd\n",
    "\n",
    "class StopExecution(Exception):\n",
    "    def _render_traceback_(self):\n",
    "        pass\n",
    "\n",
    "assert atlas_file_name is not None\n",
    "assert atlas_name is not None\n",
    "\n",
    "logger = logging.getLogger(\"metatlas.jupyter\")\n",
    "\n",
    "kernel_def = \"\"\"{\"argv\":[\"shifter\",\"--entrypoint\",\"--image=ghcr.io/biorack/metatlas/metatlas_shifter:latest\",\"/usr/local/bin/python\",\"-m\",\n",
    "                 \"ipykernel_launcher\",\"-f\",\"{connection_file}\"],\"display_name\": \"Metatlas Targeted\",\"language\": \"python\",\n",
    "                 \"metadata\": { \"debugger\": true }}\"\"\"\n",
    "kernel_file_name = Path.home() / \".local\" / \"share\" / \"jupyter\" / \"kernels\" / \"metatlas-targeted\" / \"kernel.json\"\n",
    "try:\n",
    "    has_root_kernel = Path(\"/root/.local/share/jupyter/kernels/papermill/kernel.json\").is_file()\n",
    "except PermissionError:\n",
    "    has_root_kernel = False\n",
    "if not has_root_kernel and not kernel_file_name.is_file():\n",
    "    kernel_file_name.parent.mkdir(parents=True, exist_ok=True)\n",
    "    with kernel_file_name.open(mode=\"w\", encoding=\"utf-8\") as f:\n",
    "        f.writelines(kernel_def)\n",
    "    logger.critical('CRITICAL: Notebook kernel has been installed. Set kernel to \"Metatlas Targeted\" and re-run notebook.')\n",
    "    raise StopExecution\n",
    "try:\n",
    "    from metatlas.tools import notebook  # noqa: E402\n",
    "except ImportError as err:\n",
    "    logger.critical('CRITICAL: Set notebook kernel to \"Metatlas Targeted\" and re-run notebook.')\n",
    "    raise StopExecution from err\n",
    "# Check if any required variables are None\n",
    "if atlas_file_name is None or atlas_name is None or polarity is None:\n",
    "    raise SystemExit(\"Exiting notebook due to unset variables in cell 1.\")\n",
    "if \".csv\" not in atlas_file_name:\n",
    "    logger.info('Warning: if you are sorting this CSV before depositing the atlas, you must input a filename in Cell 1 with the suffix \".csv\" or amend the sort function in the notebook')\n",
    "notebook.setup(log_level, source_code_version_id)\n",
    "from metatlas.plots.dill2plots import make_atlas_from_spreadsheet  # noqa: E402\n",
    "from metatlas.io.metatlas_get_data_helper_fun import make_atlas_df,sort_atlas_table  # noqa: E402"
   ]
  },
  {
   "cell_type": "markdown",
   "metadata": {},
   "source": [
    "## Atlas sort"
   ]
  },
  {
   "cell_type": "code",
   "execution_count": null,
   "metadata": {
    "tags": []
   },
   "outputs": [],
   "source": [
    "if sort_atlas == True:\n",
    "    deposit_atlas_file_name = sort_atlas_table(atlas_file_name, \"rt_peak\", 'mz', istd_atlas)    \n",
    "else:\n",
    "    deposit_atlas_file_name = atlas_file_name"
   ]
  },
  {
   "cell_type": "markdown",
   "metadata": {},
   "source": [
    "## Atlas generation"
   ]
  },
  {
   "cell_type": "code",
   "execution_count": null,
   "metadata": {
    "tags": []
   },
   "outputs": [],
   "source": [
    "%%time\n",
    "logger.info('Reading in atlas from ' + deposit_atlas_file_name + ' and depositing to MySQL database at NERSC')\n",
    "filetype = \"csv\" if deposit_atlas_file_name.endswith(\".csv\") else \"tab\"\n",
    "atlas = make_atlas_from_spreadsheet(deposit_atlas_file_name, atlas_name, filetype=filetype, polarity=polarity, store=True, mz_tolerance=mz_tolerance)\n",
    "logger.info('Making atlas df from ' + atlas.name + ' for downstream checks')\n",
    "atlas_df = make_atlas_df(atlas)\n",
    "display(Markdown(f\"### Atlas unique_id: {atlas.unique_id}\"))\n",
    "display(Markdown(f\"### Atlas name: {atlas.name}\"))"
   ]
  },
  {
   "cell_type": "markdown",
   "metadata": {},
   "source": [
    "## Deposit check"
   ]
  },
  {
   "cell_type": "code",
   "execution_count": null,
   "metadata": {
    "tags": []
   },
   "outputs": [],
   "source": [
    "%%time\n",
    "if run_retrieval_check == True:\n",
    "\n",
    "    import pandas as pd\n",
    "    from metatlas.datastructures.utils import get_atlas\n",
    "\n",
    "    def atlas_id_to_df(atlas_unique_id: str) -> pd.DataFrame:\n",
    "        \"\"\"Retrieve atlas from database using unique id and create DataFrame from compound identification data.\"\"\"\n",
    "\n",
    "        atlas = get_atlas(atlas_unique_id)\n",
    "\n",
    "        atlas_df = make_atlas_df(atlas)\n",
    "\n",
    "        return atlas_df\n",
    "    \n",
    "    # Ensure atlas can be retrieved from database\n",
    "    retrieved_atlas_df = atlas_id_to_df(atlas.unique_id)\n",
    "    \n",
    "    # Convert input atlas to df\n",
    "    input_atlas_df = pd.read_csv(deposit_atlas_file_name)\n",
    "    \n",
    "    # Check dataframe dims against expectations\n",
    "    if input_atlas_df.shape[0] == retrieved_atlas_df.shape[0]:\n",
    "        \n",
    "        logger.info('Input and deposited atlas have the same number of compounds.')\n",
    "    \n",
    "    else:\n",
    "        \n",
    "        logger.info('Warning! Input and deposited atlas do not have the same number of compounds.')"
   ]
  }
 ],
 "metadata": {
  "anaconda-cloud": {},
  "kernelspec": {
   "display_name": "Metatlas Targeted",
   "language": "python",
   "name": "metatlas-targeted"
  },
  "language_info": {
   "codemirror_mode": {
    "name": "ipython",
    "version": 3
   },
   "file_extension": ".py",
   "mimetype": "text/x-python",
   "name": "python",
   "nbconvert_exporter": "python",
   "pygments_lexer": "ipython3",
   "version": "3.11.13"
  }
 },
 "nbformat": 4,
 "nbformat_minor": 4
}
