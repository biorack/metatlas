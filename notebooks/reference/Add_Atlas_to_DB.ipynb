{
 "cells": [
  {
   "cell_type": "markdown",
   "metadata": {},
   "source": [
    "# Add Atlas to Database\n",
    "## Parameters\n",
    "The next code block sets parameters that are used throughout the remainder of the notebook."
   ]
  },
  {
   "cell_type": "code",
   "execution_count": null,
   "metadata": {
    "tags": [
     "parameters"
    ]
   },
   "outputs": [],
   "source": [
    "# pylint: disable=invalid-name,missing-module-docstring\n",
    "\n",
    "# atlas data in CSV file format\n",
    "csv_atlas_file_name = None\n",
    "\n",
    "# name to assign to atlas\n",
    "atlas_name = None\n",
    "\n",
    "# use 'positive' or 'negative'\n",
    "polarity = None\n",
    "\n",
    "# overrides any mz_tolerance value in the CSV file\n",
    "mz_tolerance = None\n",
    "\n",
    "\n",
    "# The rest of this block contains project independent parameters\n",
    "\n",
    "# to use an older version of the metatlas source code, set this to a commit id,\n",
    "# branch name, or tag. If None, then use the the \"main\" branch.\n",
    "source_code_version_id = None\n",
    "\n",
    "# Threshold for how much status information metatlas functions print in the notebook\n",
    "# levels are 'DEBUG', 'INFO', 'WARNING', 'ERROR', 'CRITICAL'\n",
    "log_level = \"INFO\""
   ]
  },
  {
   "cell_type": "markdown",
   "metadata": {},
   "source": [
    "## Initialization"
   ]
  },
  {
   "cell_type": "code",
   "execution_count": null,
   "metadata": {
    "tags": []
   },
   "outputs": [],
   "source": [
    "# pylint: disable=wrong-import-position,import-error,missing-class-docstring\n",
    "import logging  # noqa: E402\n",
    "from pathlib import Path  # noqa: E402\n",
    "from IPython.display import Markdown, display  # noqa: E402\n",
    "\n",
    "\n",
    "class StopExecution(Exception):\n",
    "    def _render_traceback_(self):\n",
    "        pass\n",
    "\n",
    "\n",
    "logger = logging.getLogger(\"metatlas.jupyter\")\n",
    "kernel_def = \"\"\"{\"argv\":[\"shifter\",\"--entrypoint\",\"--image=ghcr.io/biorack/metatlas/metatlas_shifter:latest\",\"/usr/local/bin/python\",\"-m\",\n",
    "                 \"ipykernel_launcher\",\"-f\",\"{connection_file}\"],\"display_name\": \"Metatlas Targeted\",\"language\": \"python\",\n",
    "                 \"metadata\": { \"debugger\": true }}\"\"\"\n",
    "kernel_file_name = Path.home() / \".local\" / \"share\" / \"jupyter\" / \"kernels\" / \"metatlas-targeted\" / \"kernel.json\"\n",
    "try:\n",
    "    has_root_kernel = Path(\"/root/.local/share/jupyter/kernels/papermill/kernel.json\").is_file()\n",
    "except PermissionError:\n",
    "    has_root_kernel = False\n",
    "if not has_root_kernel and not kernel_file_name.is_file():\n",
    "    kernel_file_name.parent.mkdir(parents=True, exist_ok=True)\n",
    "    with kernel_file_name.open(mode=\"w\", encoding=\"utf-8\") as f:\n",
    "        f.writelines(kernel_def)\n",
    "    logger.critical('CRITICAL: Notebook kernel has been installed. Set kernel to \"Metatlas Targeted\" and re-run notebook.')\n",
    "    raise StopExecution\n",
    "try:\n",
    "    from metatlas.tools import notebook  # noqa: E402\n",
    "except ImportError as err:\n",
    "    logger.critical('CRITICAL: Set notebook kernel to \"Metatlas Targeted\" and re-run notebook.')\n",
    "    raise StopExecution from err\n",
    "notebook.setup(log_level, source_code_version_id)\n",
    "from metatlas.plots.dill2plots import make_atlas_from_spreadsheet  # noqa: E402\n",
    "from metatlas.io.metatlas_get_data_helper_fun import make_atlas_df  # noqa: E402"
   ]
  },
  {
   "cell_type": "markdown",
   "metadata": {},
   "source": [
    "## Atlas generation"
   ]
  },
  {
   "cell_type": "code",
   "execution_count": null,
   "metadata": {
    "tags": []
   },
   "outputs": [],
   "source": [
    "assert csv_atlas_file_name is not None\n",
    "assert atlas_name is not None\n",
    "atlas = make_atlas_from_spreadsheet(\n",
    "    csv_atlas_file_name, atlas_name, filetype=\"csv\", polarity=polarity, store=True, mz_tolerance=mz_tolerance\n",
    ")\n",
    "atlas_df = make_atlas_df(atlas)\n",
    "display(Markdown(f\"### Atlas unique_id: {atlas.unique_id}\"))\n",
    "display(atlas_df)"
   ]
  }
 ],
 "metadata": {
  "anaconda-cloud": {},
  "kernelspec": {
   "display_name": "Metatlas Targeted",
   "language": "python",
   "name": "metatlas-targeted"
  },
  "language_info": {
   "codemirror_mode": {
    "name": "ipython",
    "version": 3
   },
   "file_extension": ".py",
   "mimetype": "text/x-python",
   "name": "python",
   "nbconvert_exporter": "python",
   "pygments_lexer": "ipython3",
   "version": "3.8.15"
  }
 },
 "nbformat": 4,
 "nbformat_minor": 4
}
