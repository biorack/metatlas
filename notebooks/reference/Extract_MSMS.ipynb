{
 "cells": [
  {
   "cell_type": "markdown",
   "id": "fbe7e088-d5f2-40bf-8e78-360a397eb037",
   "metadata": {},
   "source": [
    "# Extract and Format MSMS Spectra from Raw Data\n",
    "## Parameters\n",
    "The next code block sets parameters that are used throughout the remainder of the notebook."
   ]
  },
  {
   "cell_type": "code",
   "execution_count": null,
   "id": "1d88e50b-1a8d-44b3-bee0-c80d50960bd5",
   "metadata": {
    "tags": []
   },
   "outputs": [],
   "source": [
    "# msms extraction metadata in CSV file format\n",
    "msms_data_file = None\n",
    "\n",
    "# name of new msms refs file\n",
    "# name must end in \".tab\"\n",
    "msms_refs_file = None\n",
    "\n",
    "# prefix to append to spectral ids\n",
    "# if None, no prefix is added\n",
    "id_prefix = None\n",
    "\n",
    "# directory that contains raw data\n",
    "raw_data_dir = None\n",
    "\n",
    "# fragmentation method, this is typically 'HCD'\n",
    "frag_method = None\n",
    "\n",
    "# instrument type, this is typically 'Orbitrap'\n",
    "instrument_type = None\n",
    "\n",
    "# number of decimal places to round spectral data, default is 4.0\n",
    "decimal = None\n",
    "\n",
    "# The rest of this block contains project independent parameters\n",
    "\n",
    "# to use an older version of the metatlas source code, set this to a commit id,\n",
    "# branch name, or tag. If None, then use the the \"main\" branch.\n",
    "source_code_version_id = None\n",
    "\n",
    "# Threshold for how much status information metatlas functions print in the notebook\n",
    "# levels are 'DEBUG', 'INFO', 'WARNING', 'ERROR', 'CRITICAL'\n",
    "log_level = \"INFO\""
   ]
  },
  {
   "cell_type": "markdown",
   "id": "1993bf49-643e-43f0-b4ab-91f46f906d4d",
   "metadata": {},
   "source": [
    "## Initialization"
   ]
  },
  {
   "cell_type": "code",
   "execution_count": null,
   "id": "82fcec65-0a53-4073-b1f7-20a8e2d4913b",
   "metadata": {
    "tags": []
   },
   "outputs": [],
   "source": [
    "# pylint: disable=wrong-import-position,import-error,missing-class-docstring\n",
    "import logging  # noqa: E402\n",
    "from pathlib import Path  # noqa: E402\n",
    "from IPython.display import Markdown, display  # noqa: E402\n",
    "\n",
    "\n",
    "class StopExecution(Exception):\n",
    "    def _render_traceback_(self):\n",
    "        pass\n",
    "\n",
    "\n",
    "logger = logging.getLogger(\"metatlas.jupyter\")\n",
    "kernel_def = \"\"\"{\"argv\":[\"shifter\",\"--entrypoint\",\"--image=ghcr.io/biorack/metatlas/metatlas_shifter:latest\",\"/usr/local/bin/python\",\"-m\",\n",
    "                 \"ipykernel_launcher\",\"-f\",\"{connection_file}\"],\"display_name\": \"Metatlas Targeted\",\"language\": \"python\",\n",
    "                 \"metadata\": { \"debugger\": true }}\"\"\"\n",
    "kernel_file_name = Path.home() / \".local\" / \"share\" / \"jupyter\" / \"kernels\" / \"metatlas-targeted\" / \"kernel.json\"\n",
    "try:\n",
    "    has_root_kernel = Path(\"/root/.local/share/jupyter/kernels/papermill/kernel.json\").is_file()\n",
    "except PermissionError:\n",
    "    has_root_kernel = False\n",
    "if not has_root_kernel and not kernel_file_name.is_file():\n",
    "    kernel_file_name.parent.mkdir(parents=True, exist_ok=True)\n",
    "    with kernel_file_name.open(mode=\"w\", encoding=\"utf-8\") as f:\n",
    "        f.writelines(kernel_def)\n",
    "    logger.critical('CRITICAL: Notebook kernel has been installed. Set kernel to \"Metatlas Targeted\" and re-run notebook.')\n",
    "    raise StopExecution\n",
    "try:\n",
    "    from metatlas.tools import notebook  # noqa: E402\n",
    "except ImportError as err:\n",
    "    logger.critical('CRITICAL: Set notebook kernel to \"Metatlas Targeted\" and re-run notebook.')\n",
    "    raise StopExecution from err\n",
    "notebook.setup(log_level, source_code_version_id)\n",
    "from metatlas.tools.extract_msms import generate_msms_refs  # noqa: E402"
   ]
  },
  {
   "cell_type": "markdown",
   "id": "81284169-6639-41bf-8b23-7ebc791bd858",
   "metadata": {},
   "source": [
    "## MSMS refs file generation"
   ]
  },
  {
   "cell_type": "code",
   "execution_count": null,
   "id": "d5561177-0514-4ce9-b1da-7e202a3cd467",
   "metadata": {},
   "outputs": [],
   "source": [
    "generate_msms_refs(msms_data_file, \n",
    "                   msms_refs_file, \n",
    "                   id_prefix, \n",
    "                   raw_data_dir, \n",
    "                   frag_method, \n",
    "                   instrument_type, \n",
    "                   decimal)"
   ]
  },
  {
   "cell_type": "code",
   "execution_count": null,
   "id": "ae80ba03-a2b5-424b-ace4-0d194f0d2b52",
   "metadata": {},
   "outputs": [],
   "source": []
  }
 ],
 "metadata": {
  "kernelspec": {
   "display_name": "Metatlas Targeted",
   "language": "python",
   "name": "metatlas-targeted"
  },
  "language_info": {
   "codemirror_mode": {
    "name": "ipython",
    "version": 3
   },
   "file_extension": ".py",
   "mimetype": "text/x-python",
   "name": "python",
   "nbconvert_exporter": "python",
   "pygments_lexer": "ipython3",
   "version": "3.11.9"
  }
 },
 "nbformat": 4,
 "nbformat_minor": 5
}
