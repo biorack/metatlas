{
 "cells": [
  {
   "cell_type": "code",
   "execution_count": null,
   "id": "4a07e86e-ff53-4cf6-8f61-fad398f9441c",
   "metadata": {
    "tags": [
     "parameters"
    ]
   },
   "outputs": [],
   "source": [
    "# pylint: disable=invalid-name,missing-module-docstring\n",
    "\n",
    "# Full path to the directory where you have cloned the metatlas git repo.\n",
    "# If you ran the 'git clone ...' command in your home directory on Cori,\n",
    "# then you'll want '/global/homes/FIRST-INITIAL-OF-USERNAME/USERNAME/metatlas'\n",
    "# where the uppercase letters are replaced based on your NERSC username.\n",
    "metatlas_repo_path = \"/global/homes/FIRST-INITIAL-OF-USERNAME/USERNAME/metatlas\"\n",
    "\n",
    "# absolute path of the input file that contains the msms refs to want to append to\n",
    "# or None to generate an msms refs file that only contains new entries\n",
    "input_file_name = \"/global/project/projectdirs/metatlas/projects/spectral_libraries/msms_refs_v3.tab\"\n",
    "\n",
    "# Require the input file to pass all validation checks?\n",
    "# if True, you won't be able to export a file if input_file_name has any rows not passing validation\n",
    "validate_input_file = False\n",
    "\n",
    "# number of input rows to initially display\n",
    "num_rows_to_add = 1\n",
    "\n",
    "# absolute path of where you want this notebook to store the new MSMS refs\n",
    "output_file_name = \"/global/homes/FIRST-INITIAL-OF-USERNAME/USERNAME/metabolomics_projects/my_msms_refs.tab\"\n",
    "\n",
    "# Threshold for how much status information metatlas functions print in the notebook\n",
    "# levels are 'DEBUG', 'INFO', 'WARNING', 'ERROR', 'CRITICAL'\n",
    "log_level = \"INFO\""
   ]
  },
  {
   "cell_type": "code",
   "execution_count": null,
   "id": "2106bcab-ecfa-47cb-91e3-682ad57bd4ee",
   "metadata": {},
   "outputs": [],
   "source": []
  },
  {
   "cell_type": "code",
   "execution_count": null,
   "id": "b56b1e89-bd9c-4c11-896f-576c14a99c20",
   "metadata": {},
   "outputs": [],
   "source": [
    "# pylint: disable=wrong-import-position,import-error\n",
    "import logging  # noqa: E402\n",
    "import os  # noqa: E402\n",
    "import sys  # noqa: E402\n",
    "\n",
    "sys.path.insert(0, metatlas_repo_path)\n",
    "logger = logging.getLogger(\"metatlas.jupyter\")\n",
    "logger.debug(\"sys.executable=%s\", sys.executable)\n",
    "logger.debug(\"sys.path=%s.\", sys.path)\n",
    "logger.debug(\"metatlas_repo_path=%s.\", metatlas_repo_path)\n",
    "if not os.path.exists(metatlas_repo_path):\n",
    "    logging.critical(\n",
    "        \"Directory set for metatlas_repo_path parameter (%s) does not exist or is not accessible.\",\n",
    "        metatlas_repo_path,\n",
    "    )\n",
    "    raise ValueError(\"Invalid metatlas_repo_path parameter in Jupyter Notebook.\")\n",
    "try:\n",
    "    from metatlas.tools import environment  # noqa: E402\n",
    "\n",
    "    environment.validate_kernel()\n",
    "except ModuleNotFoundError as err:\n",
    "    if str(err) == \"No module named 'metatlas.tools'\":\n",
    "        logging.critical(\n",
    "            (\"Could not find metatlas module at %s. \" \"In the Parameters block, please check the value of metatlas_repo_path.\"),\n",
    "            metatlas_repo_path,\n",
    "        )\n",
    "    else:\n",
    "        logger.critical('Please check that the kernel is set to \"Metatlas Targeted\".')\n",
    "    raise ModuleNotFoundError from err\n",
    "except ImportError as err:\n",
    "    logging.critical(\"A newer version of metatlas_repo is required to use this notebook.\")\n",
    "    raise ImportError from err\n",
    "from metatlas.tools import notebook  # noqa: E402\n",
    "from metatlas.tools import add_msms_ref as amr  # noqa: E402\n",
    "\n",
    "notebook.setup(log_level)\n",
    "amr.add_msms_refs(input_file_name, output_file_name, validate_input_file, num_rows_to_add)"
   ]
  }
 ],
 "metadata": {
  "kernelspec": {
   "display_name": "Python 3 (ipykernel)",
   "language": "python",
   "name": "python3"
  },
  "language_info": {
   "codemirror_mode": {
    "name": "ipython",
    "version": 3
   },
   "file_extension": ".py",
   "mimetype": "text/x-python",
   "name": "python",
   "nbconvert_exporter": "python",
   "pygments_lexer": "ipython3",
   "version": "3.8.11"
  },
  "toc-autonumbering": true,
  "toc-showtags": false
 },
 "nbformat": 4,
 "nbformat_minor": 5
}
