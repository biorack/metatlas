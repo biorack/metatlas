{
 "cells": [
  {
   "cell_type": "code",
   "execution_count": null,
   "id": "4a07e86e-ff53-4cf6-8f61-fad398f9441c",
   "metadata": {
    "tags": [
     "parameters"
    ]
   },
   "outputs": [],
   "source": [
    "# pylint: disable=invalid-name,missing-module-docstring\n",
    "\n",
    "# to use an older version of the metatlas source code, set this to a commit id,\n",
    "# branch name, or tag. If None, then use the the \"main\" branch.\n",
    "source_code_version_id = None\n",
    "\n",
    "# absolute path of the input file that contains the msms refs to want to append to\n",
    "# or None to generate an msms refs file that only contains new entries\n",
    "input_file_name = \"/global/project/projectdirs/metatlas/projects/spectral_libraries/msms_refs_v3.tab\"\n",
    "\n",
    "# Require the input file to pass all validation checks?\n",
    "# if True, you won't be able to export a file if input_file_name has any rows not passing validation\n",
    "validate_input_file = False\n",
    "\n",
    "# number of input rows to initially display\n",
    "num_rows_to_add = 1\n",
    "\n",
    "# absolute path of where you want this notebook to store the new MSMS refs\n",
    "output_file_name = \"/global/homes/FIRST-INITIAL-OF-USERNAME/USERNAME/metabolomics_projects/my_msms_refs.tab\"\n",
    "\n",
    "# Threshold for how much status information metatlas functions print in the notebook\n",
    "# levels are 'DEBUG', 'INFO', 'WARNING', 'ERROR', 'CRITICAL'\n",
    "log_level = \"INFO\""
   ]
  },
  {
   "cell_type": "code",
   "execution_count": null,
   "id": "2106bcab-ecfa-47cb-91e3-682ad57bd4ee",
   "metadata": {},
   "outputs": [],
   "source": []
  },
  {
   "cell_type": "code",
   "execution_count": null,
   "id": "b56b1e89-bd9c-4c11-896f-576c14a99c20",
   "metadata": {},
   "outputs": [],
   "source": [
    "# pylint: disable=wrong-import-position,import-error,missing-class-docstring\n",
    "import logging  # noqa: E402\n",
    "from pathlib import Path  # noqa: E402\n",
    "\n",
    "\n",
    "class StopExecution(Exception):\n",
    "    def _render_traceback_(self):\n",
    "        pass\n",
    "\n",
    "\n",
    "logger = logging.getLogger(\"metatlas.jupyter\")\n",
    "kernel_def = \"\"\"{\"argv\":[\"shifter\",\"--entrypoint\",\"--image=wjhjgi/metatlas_shifter:latest\",\"/usr/local/bin/python\",\"-m\",\n",
    "                 \"ipykernel_launcher\",\"-f\",\"{connection_file}\"],\"display_name\": \"Metatlas Targeted\",\"language\": \"python\",\n",
    "                 \"metadata\": { \"debugger\": true }}\"\"\"\n",
    "kernel_file_name = Path.home() / \".local\" / \"share\" / \"jupyter\" / \"kernels\" / \"metatlas-targeted\" / \"kernel.json\"\n",
    "kernel_file_name.parent.mkdir(parents=True, exist_ok=True)\n",
    "try:\n",
    "    with Path(\"/metatlas_image_version\").open(mode=\"r\", encoding=\"utf-8\") as f:\n",
    "        version = f.readlines()[0].rstrip()\n",
    "except FileNotFoundError:\n",
    "    version = \"0\"\n",
    "try:\n",
    "    has_root_kernel = Path(\"/root/.local/share/jupyter/kernels/papermill/kernel.json\").is_file()\n",
    "except PermissionError:\n",
    "    has_root_kernel = False\n",
    "if not (version == \"1\" and (kernel_file_name.is_file() or has_root_kernel)):\n",
    "    with kernel_file_name.open(mode=\"w\", encoding=\"utf-8\") as f:\n",
    "        f.writelines(kernel_def)\n",
    "    logger.critical(\"CRITICAL: Notebook kernel has been updated. Restart kernel and re-run notebook.\")\n",
    "    raise StopExecution\n",
    "try:\n",
    "    from metatlas.tools import notebook  # noqa: E402\n",
    "    from metatlas.tools import add_msms_ref as amr  # noqa: E402\n",
    "except ImportError as err:\n",
    "    logger.critical('CRITICAL: Please check that the kernel is set to \"Metatlas Targeted\".')\n",
    "    raise StopExecution from err\n",
    "notebook.setup(log_level, source_code_version_id)\n",
    "amr.add_msms_refs(input_file_name, output_file_name, validate_input_file, num_rows_to_add)"
   ]
  }
 ],
 "metadata": {
  "kernelspec": {
   "display_name": "Metatlas Targeted",
   "language": "python",
   "name": "metatlas-targeted"
  },
  "language_info": {
   "codemirror_mode": {
    "name": "ipython",
    "version": 3
   },
   "file_extension": ".py",
   "mimetype": "text/x-python",
   "name": "python",
   "nbconvert_exporter": "python",
   "pygments_lexer": "ipython3",
   "version": "3.8.12"
  },
  "toc-autonumbering": true,
  "toc-showtags": false
 },
 "nbformat": 4,
 "nbformat_minor": 5
}
