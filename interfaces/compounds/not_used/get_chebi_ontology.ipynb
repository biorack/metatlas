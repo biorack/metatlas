{
 "cells": [
  {
   "cell_type": "code",
   "execution_count": 1,
   "metadata": {
    "collapsed": true
   },
   "outputs": [],
   "source": [
    "import sys,os\n",
    "import pandas as pd\n",
    "#import get_compounds_from_wikidata as wd\n",
    "sys.path.append('/global/project/projectdirs/openmsi/jupyterhub_libs/anaconda/lib/python2.7/site-packages')\n",
    "from rdkit import Chem\n",
    "import numpy as np\n",
    "from rdkit.Chem import PandasTools"
   ]
  },
  {
   "cell_type": "code",
   "execution_count": 2,
   "metadata": {
    "collapsed": true
   },
   "outputs": [],
   "source": [
    "df = PandasTools.LoadSDF('/project/projectdirs/openmsi/projects/compound_data/chebi/ChEBI_complete.sdf.gz')"
   ]
  },
  {
   "cell_type": "code",
   "execution_count": 4,
   "metadata": {
    "collapsed": false
   },
   "outputs": [
    {
     "data": {
      "text/plain": [
       "Index([u'Agricola Citation Links', u'ArrayExpress Database Links', u'BRAND Names', u'Beilstein Registry Numbers', u'BioModels Database Links', u'CAS Registry Numbers', u'COMe Database Links', u'ChEBI ID', u'ChEBI Name', u'Charge', u'Chinese Abstracts Citation Links', u'CiteXplore Citation Links', u'Definition', u'DrugBank Database Links', u'Formulae', u'Gmelin Registry Numbers', u'ID', u'INN', u'IUPAC Names', u'InChI', u'InChIKey', u'IntAct Database Links', u'IntEnz Database Links', u'KEGG COMPOUND Database Links', u'KEGG DRUG Database Links', u'KEGG GLYCAN Database Links', u'LIPID MAPS class Database Links', u'LIPID MAPS instance Database Links', u'Last Modified', u'Mass', u'MolBase Database Links', u'PDBeChem Database Links', u'Patent Database Links', u'PubChem Database Links', u'PubMed Central Citation Links', u'PubMed Citation Links', u'RESID Database Links', u'ROMol', u'Reactome Database Links', u'Rhea Database Links', u'SABIO-RK Database Links', u'SMILES', u'Secondary ChEBI ID', u'Star', u'Synonyms', u'UM-BBD compID Database Links', u'UniProt Database Links'], dtype='object')"
      ]
     },
     "execution_count": 4,
     "metadata": {},
     "output_type": "execute_result"
    }
   ],
   "source": [
    "df.keys()"
   ]
  },
  {
   "cell_type": "code",
   "execution_count": null,
   "metadata": {
    "collapsed": true
   },
   "outputs": [],
   "source": []
  }
 ],
 "metadata": {
  "kernelspec": {
   "display_name": "Python 2",
   "language": "python",
   "name": "python2"
  },
  "language_info": {
   "codemirror_mode": {
    "name": "ipython",
    "version": 2
   },
   "file_extension": ".py",
   "mimetype": "text/x-python",
   "name": "python",
   "nbconvert_exporter": "python",
   "pygments_lexer": "ipython2",
   "version": "2.7.11"
  }
 },
 "nbformat": 4,
 "nbformat_minor": 0
}
