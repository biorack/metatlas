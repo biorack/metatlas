{
 "cells": [
  {
   "cell_type": "code",
   "execution_count": 2,
   "metadata": {
    "collapsed": false
   },
   "outputs": [],
   "source": [
    "import requests, json\n",
    "client = requests.Session()\n",
    "# url = 'https://pubchem.ncbi.nlm.nih.gov/rest/pug/compound/cid/%s/property/inchi/TXT' % ('10607,811,932')\n",
    "# r = client.get(url)\n",
    "# print r.text\n",
    "# # data = json.loads(r.content)\n",
    "# print data"
   ]
  },
  {
   "cell_type": "code",
   "execution_count": 3,
   "metadata": {
    "collapsed": false
   },
   "outputs": [],
   "source": [
    "# url = 'https://pubchem.ncbi.nlm.nih.gov/rest/pug/compound/cid/%s/cids,synonyms/TXT' % ('10607,811,932')\n",
    "# r = client.get(url)\n",
    "# print r.text\n"
   ]
  },
  {
   "cell_type": "code",
   "execution_count": null,
   "metadata": {
    "collapsed": true
   },
   "outputs": [],
   "source": []
  },
  {
   "cell_type": "code",
   "execution_count": 14,
   "metadata": {
    "collapsed": false
   },
   "outputs": [],
   "source": [
    "import pandas as pd\n",
    "df = pd.read_csv('pubchem_cid_no_name.csv',header=None)\n",
    "ids = list(set(df[1].tolist()))[1:]"
   ]
  },
  {
   "cell_type": "code",
   "execution_count": 15,
   "metadata": {
    "collapsed": false
   },
   "outputs": [
    {
     "name": "stdout",
     "output_type": "stream",
     "text": [
      "8117\n",
      "[13467712, 9601093, 53477452, 53477520, 53477521, 53477522, 53477523, 98453, 53477527, 5374122]\n"
     ]
    }
   ],
   "source": [
    "print len(ids)\n",
    "print ids[:10]"
   ]
  },
  {
   "cell_type": "code",
   "execution_count": 16,
   "metadata": {
    "collapsed": false
   },
   "outputs": [
    {
     "name": "stdout",
     "output_type": "stream",
     "text": [
      "102\n",
      "203\n",
      "304\n",
      "405\n",
      "506\n",
      "607\n",
      "708\n",
      "809\n",
      "910\n",
      "1011\n",
      "1112\n",
      "1213\n",
      "1314\n",
      "1415\n",
      "1516\n",
      "1617\n",
      "1718\n",
      "1819\n",
      "1920\n",
      "2021\n",
      "2122\n",
      "2223\n",
      "2324\n",
      "2425\n",
      "2526\n",
      "2627\n",
      "2728\n",
      "2829\n",
      "2930\n",
      "3031\n",
      "3132\n",
      "3233\n",
      "3334\n",
      "3435\n",
      "3536\n",
      "3637\n",
      "3738\n",
      "3839\n",
      "3940\n",
      "4041\n",
      "4142\n",
      "4243\n",
      "4344\n",
      "4445\n",
      "4546\n",
      "4647\n",
      "4748\n",
      "4849\n",
      "4950\n",
      "5051\n",
      "5152\n",
      "5253\n",
      "5354\n",
      "5455\n",
      "5556\n",
      "5657\n",
      "5758\n",
      "5859\n",
      "5960\n",
      "6061\n",
      "6162\n",
      "6263\n",
      "6364\n",
      "6465\n",
      "6566\n",
      "6667\n",
      "6768\n",
      "6869\n",
      "6970\n",
      "7071\n",
      "7172\n",
      "7273\n",
      "7374\n",
      "7475\n",
      "7576\n",
      "7677\n",
      "7778\n",
      "7879\n",
      "7980\n",
      "8081\n"
     ]
    }
   ],
   "source": [
    "def get_pubchem(cid):\n",
    "    url = 'https://pubchem.ncbi.nlm.nih.gov/rest/pug/compound/cid/%d/property/inchi/TXT' % (cid)\n",
    "    r = client.get(url)\n",
    "    inchi = r.text\n",
    "    url = 'https://pubchem.ncbi.nlm.nih.gov/rest/pug/compound/cid/%d/synonyms/TXT' % (cid)\n",
    "    r = client.get(url)\n",
    "    synonyms = r.text\n",
    "    return inchi,synonyms\n",
    "miBIG = {}\n",
    "miBIG['pubchem_compound_id'] = []\n",
    "miBIG['inchi'] = []\n",
    "miBIG['common_name'] = []\n",
    "miBIG['synonyms'] = []\n",
    "counter = 0\n",
    "counter2 = 1\n",
    "for i in ids:\n",
    "    if counter > 100:\n",
    "        counter = 0\n",
    "        print counter2\n",
    "    inchi,synonyms = get_pubchem(int(i))\n",
    "    miBIG['pubchem_compound_id'].append(int(i))\n",
    "    miBIG['inchi'].append(inchi)\n",
    "    miBIG['common_name'].append(synonyms.split('\\n')[0])\n",
    "    miBIG['synonyms'].append(synonyms.split('\\n'))\n",
    "    counter += 1\n",
    "    counter2 += 1\n",
    "df = pd.DataFrame(miBIG)\n",
    "df = df[~df.common_name.str.contains('Status: 404')]\n",
    "df.to_pickle('no_names_with_cid.pkl')\n",
    "#     print i, inchi\n",
    "#     print synonyms.split('\\n')\n"
   ]
  },
  {
   "cell_type": "code",
   "execution_count": 12,
   "metadata": {
    "collapsed": false
   },
   "outputs": [
    {
     "data": {
      "text/html": [
       "<div>\n",
       "<table border=\"1\" class=\"dataframe\">\n",
       "  <thead>\n",
       "    <tr style=\"text-align: right;\">\n",
       "      <th></th>\n",
       "      <th>common_name</th>\n",
       "      <th>inchi</th>\n",
       "      <th>pubchem_compound_id</th>\n",
       "      <th>synonyms</th>\n",
       "    </tr>\n",
       "  </thead>\n",
       "  <tbody>\n",
       "    <tr>\n",
       "      <th>0</th>\n",
       "      <td>CHEMBL121073</td>\n",
       "      <td>InChI=1S/C27H46FNO/c1-5-6-18-21-27(3,4)22-19-1...</td>\n",
       "      <td>5283441</td>\n",
       "      <td>[CHEMBL121073, (+/-)-2,17,17,-trimethyl-5,8,11...</td>\n",
       "    </tr>\n",
       "    <tr>\n",
       "      <th>1</th>\n",
       "      <td>CHEMBL331420</td>\n",
       "      <td>InChI=1S/C26H44FNO/c1-4-5-6-16-19-24(2)20-17-1...</td>\n",
       "      <td>5283440</td>\n",
       "      <td>[CHEMBL331420, (+/-)N-(2-fluro-ethyl)-2,16-dim...</td>\n",
       "    </tr>\n",
       "    <tr>\n",
       "      <th>2</th>\n",
       "      <td>CHEMBL120788</td>\n",
       "      <td>InChI=1S/C26H44FNO/c1-3-4-5-6-7-8-9-10-11-12-1...</td>\n",
       "      <td>5283443</td>\n",
       "      <td>[CHEMBL120788, (+/-)-2-methyl-5,8,11,14-all-ci...</td>\n",
       "    </tr>\n",
       "    <tr>\n",
       "      <th>3</th>\n",
       "      <td>CHEMBL332064</td>\n",
       "      <td>InChI=1S/C26H44FNO/c1-4-5-16-19-24(2)20-17-14-...</td>\n",
       "      <td>5283442</td>\n",
       "      <td>[CHEMBL332064, (+/-)N-(2-fluro-ethyl)-2,17-dim...</td>\n",
       "    </tr>\n",
       "    <tr>\n",
       "      <th>4</th>\n",
       "      <td>6,14,16-tribromo-5Z,7E,9E,13E,15Z-hexadecapent...</td>\n",
       "      <td>InChI=1S/C16H19Br3O2/c17-13-12-15(19)9-5-3-1-2...</td>\n",
       "      <td>10457975</td>\n",
       "      <td>[6,14,16-tribromo-5Z,7E,9E,13E,15Z-hexadecapen...</td>\n",
       "    </tr>\n",
       "    <tr>\n",
       "      <th>5</th>\n",
       "      <td>N-(3-(15-methyl-hexadecanoyloxy)-13-methyl-tet...</td>\n",
       "      <td>InChI=1S/C37H71NO6/c1-31(2)25-21-17-13-9-6-5-7...</td>\n",
       "      <td>42607283</td>\n",
       "      <td>[N-(3-(15-methyl-hexadecanoyloxy)-13-methyl-te...</td>\n",
       "    </tr>\n",
       "    <tr>\n",
       "      <th>6</th>\n",
       "      <td>N-(3-(hexadecanoyloxy)-heptadecanoyl)-L-ornithine</td>\n",
       "      <td>InChI=1S/C38H74N2O5/c1-3-5-7-9-11-13-15-17-19-...</td>\n",
       "      <td>42607282</td>\n",
       "      <td>[N-(3-(hexadecanoyloxy)-heptadecanoyl)-L-ornit...</td>\n",
       "    </tr>\n",
       "    <tr>\n",
       "      <th>7</th>\n",
       "      <td>12-Hydroxyhexacosanoic acid</td>\n",
       "      <td>InChI=1S/C26H52O3/c1-2-3-4-5-6-7-8-9-10-13-16-...</td>\n",
       "      <td>42607287</td>\n",
       "      <td>[12-Hydroxyhexacosanoic acid, LMFA01050356, ]</td>\n",
       "    </tr>\n",
       "    <tr>\n",
       "      <th>8</th>\n",
       "      <td>9,14-dimethylpentadecanoic acid</td>\n",
       "      <td>InChI=1S/C17H34O2/c1-15(2)11-9-10-13-16(3)12-7...</td>\n",
       "      <td>42607285</td>\n",
       "      <td>[9,14-dimethylpentadecanoic acid, LMFA01020281, ]</td>\n",
       "    </tr>\n",
       "    <tr>\n",
       "      <th>9</th>\n",
       "      <td>GalNAcalpha1-3Galbeta1-3GlcNAcbeta1-3(Galbeta1...</td>\n",
       "      <td>InChI=1S/C102H181N5O48/c1-7-9-11-13-15-17-19-2...</td>\n",
       "      <td>44260879</td>\n",
       "      <td>[GalNAcalpha1-3Galbeta1-3GlcNAcbeta1-3(Galbeta...</td>\n",
       "    </tr>\n",
       "  </tbody>\n",
       "</table>\n",
       "</div>"
      ],
      "text/plain": [
       "                                         common_name  \\\n",
       "0                                       CHEMBL121073   \n",
       "1                                       CHEMBL331420   \n",
       "2                                       CHEMBL120788   \n",
       "3                                       CHEMBL332064   \n",
       "4  6,14,16-tribromo-5Z,7E,9E,13E,15Z-hexadecapent...   \n",
       "5  N-(3-(15-methyl-hexadecanoyloxy)-13-methyl-tet...   \n",
       "6  N-(3-(hexadecanoyloxy)-heptadecanoyl)-L-ornithine   \n",
       "7                        12-Hydroxyhexacosanoic acid   \n",
       "8                    9,14-dimethylpentadecanoic acid   \n",
       "9  GalNAcalpha1-3Galbeta1-3GlcNAcbeta1-3(Galbeta1...   \n",
       "\n",
       "                                               inchi  pubchem_compound_id  \\\n",
       "0  InChI=1S/C27H46FNO/c1-5-6-18-21-27(3,4)22-19-1...              5283441   \n",
       "1  InChI=1S/C26H44FNO/c1-4-5-6-16-19-24(2)20-17-1...              5283440   \n",
       "2  InChI=1S/C26H44FNO/c1-3-4-5-6-7-8-9-10-11-12-1...              5283443   \n",
       "3  InChI=1S/C26H44FNO/c1-4-5-16-19-24(2)20-17-14-...              5283442   \n",
       "4  InChI=1S/C16H19Br3O2/c17-13-12-15(19)9-5-3-1-2...             10457975   \n",
       "5  InChI=1S/C37H71NO6/c1-31(2)25-21-17-13-9-6-5-7...             42607283   \n",
       "6  InChI=1S/C38H74N2O5/c1-3-5-7-9-11-13-15-17-19-...             42607282   \n",
       "7  InChI=1S/C26H52O3/c1-2-3-4-5-6-7-8-9-10-13-16-...             42607287   \n",
       "8  InChI=1S/C17H34O2/c1-15(2)11-9-10-13-16(3)12-7...             42607285   \n",
       "9  InChI=1S/C102H181N5O48/c1-7-9-11-13-15-17-19-2...             44260879   \n",
       "\n",
       "                                            synonyms  \n",
       "0  [CHEMBL121073, (+/-)-2,17,17,-trimethyl-5,8,11...  \n",
       "1  [CHEMBL331420, (+/-)N-(2-fluro-ethyl)-2,16-dim...  \n",
       "2  [CHEMBL120788, (+/-)-2-methyl-5,8,11,14-all-ci...  \n",
       "3  [CHEMBL332064, (+/-)N-(2-fluro-ethyl)-2,17-dim...  \n",
       "4  [6,14,16-tribromo-5Z,7E,9E,13E,15Z-hexadecapen...  \n",
       "5  [N-(3-(15-methyl-hexadecanoyloxy)-13-methyl-te...  \n",
       "6  [N-(3-(hexadecanoyloxy)-heptadecanoyl)-L-ornit...  \n",
       "7      [12-Hydroxyhexacosanoic acid, LMFA01050356, ]  \n",
       "8  [9,14-dimethylpentadecanoic acid, LMFA01020281, ]  \n",
       "9  [GalNAcalpha1-3Galbeta1-3GlcNAcbeta1-3(Galbeta...  "
      ]
     },
     "execution_count": 12,
     "metadata": {},
     "output_type": "execute_result"
    }
   ],
   "source": [
    "\n",
    "df.head(10)"
   ]
  },
  {
   "cell_type": "code",
   "execution_count": null,
   "metadata": {
    "collapsed": false
   },
   "outputs": [],
   "source": [
    "df"
   ]
  },
  {
   "cell_type": "code",
   "execution_count": null,
   "metadata": {
    "collapsed": false
   },
   "outputs": [],
   "source": [
    "print inchi\n",
    "print synonyms.split('\\n')"
   ]
  },
  {
   "cell_type": "code",
   "execution_count": null,
   "metadata": {
    "collapsed": true
   },
   "outputs": [],
   "source": [
    "# import sys,os\n",
    "# sys.path.append('/global/project/projectdirs/openmsi/jupyterhub_libs/anaconda/lib/python2.7/site-packages')\n",
    "# from rdkit import Chem\n",
    "# import numpy as np\n",
    "\n",
    "# import pandas as pd\n",
    "\n",
    "# from rdkit.Chem import PandasTools\n",
    "# sdf_file = '/project/projectdirs/openmsi/projects/compound_data/chembl/chembl_21.sdf.gz'\n",
    "# df = PandasTools.LoadSDF(sdf_file)\n",
    "# df.to_pickle('/project/projectdirs/openmsi/projects/compound_data/chembl/chembl.pkl')"
   ]
  },
  {
   "cell_type": "code",
   "execution_count": null,
   "metadata": {
    "collapsed": false
   },
   "outputs": [],
   "source": [
    "# pubchem_path = '/project/projectdirs/openmsi/projects/compound_data/pubchem/ftp.ncbi.nlm.nih.gov/pubchem/Compound/CURRENT-Full/SDF'\n",
    "# pubchem_file = 'Compound_000000001_000025000.sdf.gz'\n",
    "# df = PandasTools.LoadSDF(os.path.join(pubchem_path,pubchem_file))\n"
   ]
  },
  {
   "cell_type": "code",
   "execution_count": null,
   "metadata": {
    "collapsed": false
   },
   "outputs": [],
   "source": [
    "# sdf_file = '/project/projectdirs/openmsi/projects/compound_data/chembl/chembl_21.sdf.gz'\n",
    "# df = PandasTools.LoadSDF(sdf_file)"
   ]
  },
  {
   "cell_type": "code",
   "execution_count": null,
   "metadata": {
    "collapsed": true
   },
   "outputs": [],
   "source": []
  }
 ],
 "metadata": {
  "kernelspec": {
   "display_name": "Python 2",
   "language": "python",
   "name": "python2"
  },
  "language_info": {
   "codemirror_mode": {
    "name": "ipython",
    "version": 2
   },
   "file_extension": ".py",
   "mimetype": "text/x-python",
   "name": "python",
   "nbconvert_exporter": "python",
   "pygments_lexer": "ipython2",
   "version": "2.7.11"
  }
 },
 "nbformat": 4,
 "nbformat_minor": 0
}
