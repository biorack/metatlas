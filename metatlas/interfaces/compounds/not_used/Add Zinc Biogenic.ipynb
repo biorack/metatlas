{
 "cells": [
  {
   "cell_type": "code",
   "execution_count": 1,
   "metadata": {
    "collapsed": true
   },
   "outputs": [],
   "source": [
    "import warnings\n",
    "warnings.filterwarnings('ignore')\n",
    "\n",
    "import get_compounds_each_provider as import_compounds\n",
    "import pandas as pd\n",
    "import sys\n",
    "sys.path.append('/global/project/projectdirs/openmsi/jupyterhub_libs/anaconda/lib/python2.7/site-packages')\n",
    "from rdkit import Chem\n",
    "from rdkit.Chem import Descriptors\n",
    "from rdkit.Chem import rdMolDescriptors\n",
    "from rdkit.Chem import PandasTools\n",
    "\n",
    "import numpy as np\n"
   ]
  },
  {
   "cell_type": "code",
   "execution_count": 2,
   "metadata": {
    "collapsed": true
   },
   "outputs": [],
   "source": [
    "def get_zinc_biogenic(terms_to_keep = ''):\n",
    "    df = PandasTools.LoadSDF('/project/projectdirs/openmsi/projects/compound_data/zinc_biogenic/biogenic.sdf')\n",
    "#     df['source_database'] = 'lipidmaps'\n",
    "#     df.rename(columns={'KEGG_ID': 'kegg_id'}, inplace=True)\n",
    "#     df.rename(columns={'PUBCHEM_CID': 'pubchem_compound_id'}, inplace=True)\n",
    "#     df.rename(columns={'COMMON_NAME': 'common_name'}, inplace=True)\n",
    "#     df.rename(columns={'SYNONYMS': 'synonyms'}, inplace=True)\n",
    "# #     Decanohydroxamic acid; caprinohydroxamic acid; n-Decanohydroxamic acid\n",
    "#     df.loc[:,'synonyms'] = [[ s.strip() for s in mystr.split(';')] for mystr in df['synonyms'].astype(str).tolist() ]\n",
    "#     df.rename(columns={'ID': 'lipidmaps_id'}, inplace=True) \n",
    "#     k = df.keys()\n",
    "#     for t in terms_to_keep:\n",
    "#         if not t in k:\n",
    "#             df[t] = ''\n",
    "    return df\n",
    "df = get_zinc_biogenic()\n",
    "# terms_to_keep = ['smiles','inchi','source_database','ROMol','common_name','Definition', 'synonyms','pubchem_compound_id','lipidmaps_id','metacyc_id','hmdb_id','img_abc_id','chebi_id','kegg_id']"
   ]
  },
  {
   "cell_type": "code",
   "execution_count": 5,
   "metadata": {
    "collapsed": false
   },
   "outputs": [
    {
     "ename": "AttributeError",
     "evalue": "'module' object has no attribute 'format'",
     "output_type": "error",
     "traceback": [
      "\u001b[1;31m\u001b[0m",
      "\u001b[1;31mAttributeError\u001b[0mTraceback (most recent call last)",
      "\u001b[1;32m/anaconda2/lib/python2.7/site-packages/IPython/core/formatters.pyc\u001b[0m in \u001b[0;36m__call__\u001b[1;34m(self, obj)\u001b[0m\n\u001b[0;32m    341\u001b[0m             \u001b[0mmethod\u001b[0m \u001b[1;33m=\u001b[0m \u001b[0m_safe_get_formatter_method\u001b[0m\u001b[1;33m(\u001b[0m\u001b[0mobj\u001b[0m\u001b[1;33m,\u001b[0m \u001b[0mself\u001b[0m\u001b[1;33m.\u001b[0m\u001b[0mprint_method\u001b[0m\u001b[1;33m)\u001b[0m\u001b[1;33m\u001b[0m\u001b[0m\n\u001b[0;32m    342\u001b[0m             \u001b[1;32mif\u001b[0m \u001b[0mmethod\u001b[0m \u001b[1;32mis\u001b[0m \u001b[1;32mnot\u001b[0m \u001b[0mNone\u001b[0m\u001b[1;33m:\u001b[0m\u001b[1;33m\u001b[0m\u001b[0m\n\u001b[1;32m--> 343\u001b[1;33m                 \u001b[1;32mreturn\u001b[0m \u001b[0mmethod\u001b[0m\u001b[1;33m(\u001b[0m\u001b[1;33m)\u001b[0m\u001b[1;33m\u001b[0m\u001b[0m\n\u001b[0m\u001b[0;32m    344\u001b[0m             \u001b[1;32mreturn\u001b[0m \u001b[0mNone\u001b[0m\u001b[1;33m\u001b[0m\u001b[0m\n\u001b[0;32m    345\u001b[0m         \u001b[1;32melse\u001b[0m\u001b[1;33m:\u001b[0m\u001b[1;33m\u001b[0m\u001b[0m\n",
      "\u001b[1;32m/anaconda2/lib/python2.7/site-packages/pandas/core/frame.py\u001b[0m in \u001b[0;36m_repr_html_\u001b[1;34m(self)\u001b[0m\n\u001b[0;32m    566\u001b[0m \u001b[1;33m\u001b[0m\u001b[0m\n\u001b[0;32m    567\u001b[0m             return self.to_html(max_rows=max_rows, max_cols=max_cols,\n\u001b[1;32m--> 568\u001b[1;33m                                 show_dimensions=show_dimensions, notebook=True)\n\u001b[0m\u001b[0;32m    569\u001b[0m         \u001b[1;32melse\u001b[0m\u001b[1;33m:\u001b[0m\u001b[1;33m\u001b[0m\u001b[0m\n\u001b[0;32m    570\u001b[0m             \u001b[1;32mreturn\u001b[0m \u001b[0mNone\u001b[0m\u001b[1;33m\u001b[0m\u001b[0m\n",
      "\u001b[1;32m/global/project/projectdirs/openmsi/jupyterhub_libs/anaconda/lib/python2.7/site-packages/rdkit/Chem/PandasTools.pyc\u001b[0m in \u001b[0;36mpatchPandasHTMLrepr\u001b[1;34m(self, **kwargs)\u001b[0m\n\u001b[0;32m    129\u001b[0m   \u001b[0mPatched\u001b[0m \u001b[0mdefault\u001b[0m \u001b[0mescaping\u001b[0m \u001b[0mof\u001b[0m \u001b[0mHTML\u001b[0m \u001b[0mcontrol\u001b[0m \u001b[0mcharacters\u001b[0m \u001b[0mto\u001b[0m \u001b[0mallow\u001b[0m \u001b[0mmolecule\u001b[0m \u001b[0mimage\u001b[0m \u001b[0mrendering\u001b[0m \u001b[0mdataframes\u001b[0m\u001b[1;33m\u001b[0m\u001b[0m\n\u001b[0;32m    130\u001b[0m   '''\n\u001b[1;32m--> 131\u001b[1;33m   formatter = pd.core.format.DataFrameFormatter(self,buf=None,columns=None,col_space=None,colSpace=None,header=True,index=True,\n\u001b[0m\u001b[0;32m    132\u001b[0m                                                \u001b[0mna_rep\u001b[0m\u001b[1;33m=\u001b[0m\u001b[1;34m'NaN'\u001b[0m\u001b[1;33m,\u001b[0m\u001b[0mformatters\u001b[0m\u001b[1;33m=\u001b[0m\u001b[0mNone\u001b[0m\u001b[1;33m,\u001b[0m\u001b[0mfloat_format\u001b[0m\u001b[1;33m=\u001b[0m\u001b[0mNone\u001b[0m\u001b[1;33m,\u001b[0m\u001b[0msparsify\u001b[0m\u001b[1;33m=\u001b[0m\u001b[0mNone\u001b[0m\u001b[1;33m,\u001b[0m\u001b[0mindex_names\u001b[0m\u001b[1;33m=\u001b[0m\u001b[0mTrue\u001b[0m\u001b[1;33m,\u001b[0m\u001b[1;33m\u001b[0m\u001b[0m\n\u001b[0;32m    133\u001b[0m                                                justify = None, force_unicode=None,bold_rows=True,classes=None,escape=False)\n",
      "\u001b[1;31mAttributeError\u001b[0m: 'module' object has no attribute 'format'"
     ]
    },
    {
     "data": {
      "text/plain": [
       "  ID                                                                                                                               smiles           zinc_id\n",
       "0                                   CC1(C)[C@@H]2CC[C@]3(C)[C@H](C(=O)C=C4[C@@H]5C[C@@](C)(C(=O)O)CC[C@]5(C)CC[C@]43C)[C@@]2(C)CC[C@@H]1O  ZINC000019203131\n",
       "1     C[C@@H](CO)C(=O)SCCNC(=O)CCNC(=O)[C@@H](O)C(C)(C)CO[P@](=O)(O)O[P@](=O)(O)OC[C@@H]1O[C@H](n2cnc3c2ncnc3N)[C@@H](O)[C@@H]1OP(=O)(O)O  ZINC000230024172\n",
       "2      C[C@H](CO)C(=O)SCCNC(=O)CCNC(=O)[C@@H](O)C(C)(C)CO[P@](=O)(O)O[P@](=O)(O)OC[C@@H]1O[C@H](n2cnc3c2ncnc3N)[C@@H](O)[C@@H]1OP(=O)(O)O  ZINC000230024177\n",
       "3      C[C@@H](CO)C(=O)SCCNC(=O)CCNC(=O)[C@H](O)C(C)(C)CO[P@](=O)(O)O[P@](=O)(O)OC[C@@H]1O[C@H](n2cnc3c2ncnc3N)[C@@H](O)[C@@H]1OP(=O)(O)O  ZINC000230024184\n",
       "4       C[C@H](CO)C(=O)SCCNC(=O)CCNC(=O)[C@H](O)C(C)(C)CO[P@](=O)(O)O[P@](=O)(O)OC[C@@H]1O[C@H](n2cnc3c2ncnc3N)[C@@H](O)[C@@H]1OP(=O)(O)O  ZINC000230024191"
      ]
     },
     "execution_count": 5,
     "metadata": {},
     "output_type": "execute_result"
    }
   ],
   "source": [
    "df[[u'ID', u'smiles', u'zinc_id']].head()"
   ]
  },
  {
   "cell_type": "code",
   "execution_count": 6,
   "metadata": {
    "collapsed": false
   },
   "outputs": [
    {
     "ename": "AttributeError",
     "evalue": "'module' object has no attribute 'format'",
     "output_type": "error",
     "traceback": [
      "\u001b[1;31m\u001b[0m",
      "\u001b[1;31mAttributeError\u001b[0mTraceback (most recent call last)",
      "\u001b[1;32m/anaconda2/lib/python2.7/site-packages/IPython/core/formatters.pyc\u001b[0m in \u001b[0;36m__call__\u001b[1;34m(self, obj)\u001b[0m\n\u001b[0;32m    341\u001b[0m             \u001b[0mmethod\u001b[0m \u001b[1;33m=\u001b[0m \u001b[0m_safe_get_formatter_method\u001b[0m\u001b[1;33m(\u001b[0m\u001b[0mobj\u001b[0m\u001b[1;33m,\u001b[0m \u001b[0mself\u001b[0m\u001b[1;33m.\u001b[0m\u001b[0mprint_method\u001b[0m\u001b[1;33m)\u001b[0m\u001b[1;33m\u001b[0m\u001b[0m\n\u001b[0;32m    342\u001b[0m             \u001b[1;32mif\u001b[0m \u001b[0mmethod\u001b[0m \u001b[1;32mis\u001b[0m \u001b[1;32mnot\u001b[0m \u001b[0mNone\u001b[0m\u001b[1;33m:\u001b[0m\u001b[1;33m\u001b[0m\u001b[0m\n\u001b[1;32m--> 343\u001b[1;33m                 \u001b[1;32mreturn\u001b[0m \u001b[0mmethod\u001b[0m\u001b[1;33m(\u001b[0m\u001b[1;33m)\u001b[0m\u001b[1;33m\u001b[0m\u001b[0m\n\u001b[0m\u001b[0;32m    344\u001b[0m             \u001b[1;32mreturn\u001b[0m \u001b[0mNone\u001b[0m\u001b[1;33m\u001b[0m\u001b[0m\n\u001b[0;32m    345\u001b[0m         \u001b[1;32melse\u001b[0m\u001b[1;33m:\u001b[0m\u001b[1;33m\u001b[0m\u001b[0m\n",
      "\u001b[1;32m/anaconda2/lib/python2.7/site-packages/pandas/core/frame.py\u001b[0m in \u001b[0;36m_repr_html_\u001b[1;34m(self)\u001b[0m\n\u001b[0;32m    566\u001b[0m \u001b[1;33m\u001b[0m\u001b[0m\n\u001b[0;32m    567\u001b[0m             return self.to_html(max_rows=max_rows, max_cols=max_cols,\n\u001b[1;32m--> 568\u001b[1;33m                                 show_dimensions=show_dimensions, notebook=True)\n\u001b[0m\u001b[0;32m    569\u001b[0m         \u001b[1;32melse\u001b[0m\u001b[1;33m:\u001b[0m\u001b[1;33m\u001b[0m\u001b[0m\n\u001b[0;32m    570\u001b[0m             \u001b[1;32mreturn\u001b[0m \u001b[0mNone\u001b[0m\u001b[1;33m\u001b[0m\u001b[0m\n",
      "\u001b[1;32m/global/project/projectdirs/openmsi/jupyterhub_libs/anaconda/lib/python2.7/site-packages/rdkit/Chem/PandasTools.pyc\u001b[0m in \u001b[0;36mpatchPandasHTMLrepr\u001b[1;34m(self, **kwargs)\u001b[0m\n\u001b[0;32m    129\u001b[0m   \u001b[0mPatched\u001b[0m \u001b[0mdefault\u001b[0m \u001b[0mescaping\u001b[0m \u001b[0mof\u001b[0m \u001b[0mHTML\u001b[0m \u001b[0mcontrol\u001b[0m \u001b[0mcharacters\u001b[0m \u001b[0mto\u001b[0m \u001b[0mallow\u001b[0m \u001b[0mmolecule\u001b[0m \u001b[0mimage\u001b[0m \u001b[0mrendering\u001b[0m \u001b[0mdataframes\u001b[0m\u001b[1;33m\u001b[0m\u001b[0m\n\u001b[0;32m    130\u001b[0m   '''\n\u001b[1;32m--> 131\u001b[1;33m   formatter = pd.core.format.DataFrameFormatter(self,buf=None,columns=None,col_space=None,colSpace=None,header=True,index=True,\n\u001b[0m\u001b[0;32m    132\u001b[0m                                                \u001b[0mna_rep\u001b[0m\u001b[1;33m=\u001b[0m\u001b[1;34m'NaN'\u001b[0m\u001b[1;33m,\u001b[0m\u001b[0mformatters\u001b[0m\u001b[1;33m=\u001b[0m\u001b[0mNone\u001b[0m\u001b[1;33m,\u001b[0m\u001b[0mfloat_format\u001b[0m\u001b[1;33m=\u001b[0m\u001b[0mNone\u001b[0m\u001b[1;33m,\u001b[0m\u001b[0msparsify\u001b[0m\u001b[1;33m=\u001b[0m\u001b[0mNone\u001b[0m\u001b[1;33m,\u001b[0m\u001b[0mindex_names\u001b[0m\u001b[1;33m=\u001b[0m\u001b[0mTrue\u001b[0m\u001b[1;33m,\u001b[0m\u001b[1;33m\u001b[0m\u001b[0m\n\u001b[0;32m    133\u001b[0m                                                justify = None, force_unicode=None,bold_rows=True,classes=None,escape=False)\n",
      "\u001b[1;31mAttributeError\u001b[0m: 'module' object has no attribute 'format'"
     ]
    },
    {
     "data": {
      "text/plain": [
       "Empty DataFrame\n",
       "Columns: [ID, ROMol, smiles, zinc_id]\n",
       "Index: []"
      ]
     },
     "execution_count": 6,
     "metadata": {},
     "output_type": "execute_result"
    }
   ],
   "source": [
    "df[df.zinc_id == 'ZINC58583406']"
   ]
  },
  {
   "cell_type": "code",
   "execution_count": null,
   "metadata": {
    "collapsed": true
   },
   "outputs": [],
   "source": []
  }
 ],
 "metadata": {
  "kernelspec": {
   "display_name": "Python 2",
   "language": "python",
   "name": "python2"
  },
  "language_info": {
   "codemirror_mode": {
    "name": "ipython",
    "version": 2
   },
   "file_extension": ".py",
   "mimetype": "text/x-python",
   "name": "python",
   "nbconvert_exporter": "python",
   "pygments_lexer": "ipython2",
   "version": "2.7.11"
  }
 },
 "nbformat": 4,
 "nbformat_minor": 0
}
