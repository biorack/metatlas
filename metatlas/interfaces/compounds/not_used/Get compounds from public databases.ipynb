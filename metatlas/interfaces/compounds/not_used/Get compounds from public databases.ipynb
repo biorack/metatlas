{
 "cells": [
  {
   "cell_type": "code",
   "execution_count": 1,
   "metadata": {
    "collapsed": false
   },
   "outputs": [],
   "source": [
    "import warnings\n",
    "warnings.filterwarnings('ignore')\n",
    "\n",
    "import get_compounds_each_provider as import_compounds\n",
    "import pandas as pd\n",
    "import sys\n",
    "sys.path.append('/global/project/projectdirs/openmsi/jupyterhub_libs/anaconda/lib/python2.7/site-packages')\n",
    "from rdkit import Chem\n",
    "from rdkit.Chem import Descriptors\n",
    "from rdkit.Chem import rdMolDescriptors\n",
    "import numpy as np\n"
   ]
  },
  {
   "cell_type": "markdown",
   "metadata": {},
   "source": [
    "# WikiData\n",
    "\n",
    "From here: https://github.com/yuvipanda/python-wdqs/blob/master/wdqs/client.py\n",
    "\n",
    "##Compound properties table\n",
    "From here: https://www.wikidata.org/wiki/Wikidata:List_of_properties/Terms\n",
    "\n",
    "24305 compounds\n",
    "\n",
    "15413 with a unique structural identifier\n",
    "\n",
    "Has relationships that link to the largest database on earth\n",
    "\n",
    "Often no structural description exists, but a PubChemCI does.  \n"
   ]
  },
  {
   "cell_type": "code",
   "execution_count": null,
   "metadata": {
    "collapsed": true
   },
   "outputs": [],
   "source": [
    "terms_to_keep = ['smiles','inchi','source_database','ROMol','common_name','Definition', 'synonyms','pubchem_compound_id','lipidmaps_id','metacyc_id','hmdb_id','img_abc_id','chebi_id','kegg_id']"
   ]
  },
  {
   "cell_type": "code",
   "execution_count": null,
   "metadata": {
    "collapsed": false
   },
   "outputs": [],
   "source": [
    "import_compounds = reload(import_compounds)\n",
    "wikidata = import_compounds.get_wikidata(terms_to_keep)"
   ]
  },
  {
   "cell_type": "code",
   "execution_count": null,
   "metadata": {
    "collapsed": false
   },
   "outputs": [],
   "source": [
    "df = wikidata[terms_to_keep]\n"
   ]
  },
  {
   "cell_type": "code",
   "execution_count": null,
   "metadata": {
    "collapsed": false
   },
   "outputs": [],
   "source": [
    "wikidata.head()\n",
    "# compoundLabel"
   ]
  },
  {
   "cell_type": "markdown",
   "metadata": {},
   "source": [
    "# Add the 590 MetAtlas compounds that are missing from all these databases"
   ]
  },
  {
   "cell_type": "code",
   "execution_count": null,
   "metadata": {
    "collapsed": false
   },
   "outputs": [],
   "source": [
    "\n",
    "# See below, I did it at the end.\n",
    "\n",
    "\n",
    "# metatlas_added = pd.read_csv('metatlas_compounds_not_found.csv',index_col=0)\n",
    "# metatlas_added = metatlas_added[['inchi','name']]\n",
    "# df = pd.concat([df,metatlas_added], axis=0, ignore_index=True)\n",
    "\n",
    "# metatlas_added.head()"
   ]
  },
  {
   "cell_type": "markdown",
   "metadata": {},
   "source": [
    "# miBIG (using notebook and pubchem API)"
   ]
  },
  {
   "cell_type": "code",
   "execution_count": null,
   "metadata": {
    "collapsed": false
   },
   "outputs": [],
   "source": [
    "\n",
    "def strip_whitespace(x):\n",
    "    return x.strip()\n",
    "\n",
    "miBIG = pd.read_pickle('miBIG.pkl')\n",
    "miBIG = miBIG[~miBIG.common_name.str.contains('Status: 404')] #catch any defunct ids and throw them away here\n",
    "miBIG.inchi = miBIG.inchi.apply(strip_whitespace)\n",
    "miBIG['source_database'] = 'miBIG'\n",
    "df = pd.concat([df,miBIG], axis=0, ignore_index=True)\n",
    "miBIG.head()\n"
   ]
  },
  {
   "cell_type": "markdown",
   "metadata": {},
   "source": [
    "# get names for ones that are missing names (determined from first pass through)"
   ]
  },
  {
   "cell_type": "code",
   "execution_count": null,
   "metadata": {
    "collapsed": false,
    "scrolled": true
   },
   "outputs": [],
   "source": [
    "no_name_cid = pd.read_pickle('no_names_with_cid.pkl')\n",
    "no_name_cid = no_name_cid[~no_name_cid.common_name.str.contains('Status: 404')] #catch any defunct ids and throw them away here\n",
    "no_name_cid.inchi = no_name_cid.inchi.apply(strip_whitespace)\n",
    "\n",
    "df = pd.concat([df,no_name_cid], axis=0, ignore_index=True)\n",
    "no_name_cid.head()\n"
   ]
  },
  {
   "cell_type": "markdown",
   "metadata": {},
   "source": [
    "# get names for missing from inchikey (no CID, determined from first pass through)"
   ]
  },
  {
   "cell_type": "code",
   "execution_count": null,
   "metadata": {
    "collapsed": false
   },
   "outputs": [],
   "source": [
    "no_name_inchikey = pd.read_pickle('no_names_with_inchikey.pkl')\n",
    "no_name_inchikey = no_name_inchikey[~no_name_inchikey.common_name.str.contains('Status: 404')] #catch any defunct ids and throw them away here\n",
    "no_name_inchikey.inchi = no_name_inchikey.inchi.apply(strip_whitespace)\n",
    "\n",
    "df = pd.concat([df,no_name_inchikey], axis=0, ignore_index=True)\n",
    "no_name_inchikey.head()\n"
   ]
  },
  {
   "cell_type": "markdown",
   "metadata": {},
   "source": [
    "# IMG-ABC\n",
    "\n",
    "https://img.jgi.doe.gov/cgi-bin/abc/main.cgi?section=NaturalProd&page=smListing\n",
    "\n",
    "Exported as tab delimited table\n",
    "\n",
    "1109 Compounds\n",
    "\n",
    "666 Compounds have a unique structure\n",
    "\n"
   ]
  },
  {
   "cell_type": "code",
   "execution_count": null,
   "metadata": {
    "collapsed": false
   },
   "outputs": [],
   "source": [
    "img_abc = import_compounds.get_img(terms_to_keep)\n",
    "df = pd.concat([df,img_abc[terms_to_keep]], axis=0, ignore_index=True)"
   ]
  },
  {
   "cell_type": "code",
   "execution_count": null,
   "metadata": {
    "collapsed": false
   },
   "outputs": [],
   "source": [
    "img_abc.head()\n",
    "# Secondary Metabolite (SM) Name\n",
    "# SM ID"
   ]
  },
  {
   "cell_type": "markdown",
   "metadata": {},
   "source": [
    "# ENZO Library\n",
    "\n",
    "502 compounds\n",
    "\n",
    "501 with unique structures\n",
    "\n",
    "request table from here:\n",
    "http://www.enzolifesciences.com/BML-2865/screen-well-natural-product-library/\n",
    "BML-2865.xlsx\n",
    "\n",
    "I had to save as tab delimted text.  The Excel JChem structures messed up the excel import."
   ]
  },
  {
   "cell_type": "code",
   "execution_count": null,
   "metadata": {
    "collapsed": false
   },
   "outputs": [],
   "source": [
    "enzo = import_compounds.get_enzo(terms_to_keep)\n",
    "df = pd.concat([df,enzo[terms_to_keep]], axis=0, ignore_index=True)"
   ]
  },
  {
   "cell_type": "code",
   "execution_count": null,
   "metadata": {
    "collapsed": false
   },
   "outputs": [],
   "source": [
    "enzo.head()\n",
    "# Name "
   ]
  },
  {
   "cell_type": "markdown",
   "metadata": {},
   "source": [
    "# MSMLS-Library"
   ]
  },
  {
   "cell_type": "code",
   "execution_count": null,
   "metadata": {
    "collapsed": false
   },
   "outputs": [],
   "source": [
    "import_compounds = reload(import_compounds)\n",
    "msmls = import_compounds.get_msmls(terms_to_keep)\n",
    "df = pd.concat([df,msmls[terms_to_keep]], axis=0, ignore_index=True)"
   ]
  },
  {
   "cell_type": "code",
   "execution_count": null,
   "metadata": {
    "collapsed": false
   },
   "outputs": [],
   "source": [
    "msmls.keys()"
   ]
  },
  {
   "cell_type": "code",
   "execution_count": null,
   "metadata": {
    "collapsed": false
   },
   "outputs": [],
   "source": [
    "msmls.head()# CNAME\n",
    "# PC_CID"
   ]
  },
  {
   "cell_type": "markdown",
   "metadata": {},
   "source": [
    "# MetaCyc\n",
    "\n",
    "12,370 compounds\n",
    "\n",
    "11,256 compounds with unique structure\n",
    "\n",
    "Login as bpbowen@lbl.gov\n",
    "\n",
    "Smart table is called: \"MetAtlas Export MetaCyc Compounds\"\n",
    "\n",
    "Has mapping to reactions\n",
    "\n",
    "Has compound ontology\n",
    "\n",
    "Save as spreadsheet from their website. Prior to saving, I deleted the first row because I had to open it in excel ad save as \"xlsx\" for pandas to read it.  The first row has columns that are longer than Excel's maximum number of characters and they get wrapped into new rows.\n"
   ]
  },
  {
   "cell_type": "code",
   "execution_count": null,
   "metadata": {
    "collapsed": false
   },
   "outputs": [],
   "source": [
    "import_compounds = reload(import_compounds)\n",
    "metacyc = import_compounds.get_metacyc(terms_to_keep)\n",
    "df = pd.concat([df,metacyc[terms_to_keep]], axis=0, ignore_index=True)"
   ]
  },
  {
   "cell_type": "code",
   "execution_count": null,
   "metadata": {
    "collapsed": false
   },
   "outputs": [],
   "source": [
    "metacyc.head()\n",
    "# KEGG\n",
    "# PubChem\n",
    "# Common-Name\n",
    "# Names\n",
    "# Object ID\n"
   ]
  },
  {
   "cell_type": "markdown",
   "metadata": {},
   "source": [
    "#Dr. Dukes Phytochemical and Ethnobotanical Database\n",
    "\n",
    "29585 Compounds\n",
    "\n",
    "No structural information or ids from external databases."
   ]
  },
  {
   "cell_type": "code",
   "execution_count": null,
   "metadata": {
    "collapsed": false
   },
   "outputs": [],
   "source": [
    "# dr_dukes = import_compounds.get_dr_dukes()"
   ]
  },
  {
   "cell_type": "markdown",
   "metadata": {},
   "source": [
    "# LipidMaps\n",
    "\n",
    "40716 compounds\n",
    "\n",
    "40145 with a unique structural description\n",
    "\n",
    "wget http://lipidmaps.org/resources/downloads/LMSDFDownload28Jun15.tar.gz\n",
    "\n",
    "Its probably possible to get the enzyme-reaction mapping for these!"
   ]
  },
  {
   "cell_type": "code",
   "execution_count": null,
   "metadata": {
    "collapsed": false
   },
   "outputs": [],
   "source": [
    "print df.shape\n",
    "print df.source_database.unique().shape\n",
    "print df.keys()\n",
    "df.head()"
   ]
  },
  {
   "cell_type": "code",
   "execution_count": null,
   "metadata": {
    "collapsed": false
   },
   "outputs": [],
   "source": [
    "import_compounds = reload(import_compounds)\n",
    "lipid_maps = import_compounds.get_lipid_maps(terms_to_keep)\n",
    "df = pd.concat([df,lipid_maps[terms_to_keep]], axis=0, ignore_index=True)"
   ]
  },
  {
   "cell_type": "code",
   "execution_count": null,
   "metadata": {
    "collapsed": false
   },
   "outputs": [],
   "source": [
    "lipid_maps.head()\n",
    "# PUBCHEM_CID\n",
    "# KEGG_ID\n",
    "# COMMON_NAME\n",
    "# SYNONYMS\n",
    "# ID"
   ]
  },
  {
   "cell_type": "markdown",
   "metadata": {},
   "source": [
    "# HMDB\n",
    "\n",
    "41895\n",
    "\n",
    "41722 neutral and unique structures\n",
    "\n",
    "\n",
    "wget http://www.hmdb.ca/system/downloads/current/structures.zip\n",
    "\n",
    "unzip to structures.sdf\n",
    "\n",
    "has calcualted physical properties from jchem\n",
    "\n",
    "RDKit can't convert the mol for Cyanocobalmin and Hydroxocobalamin.\n"
   ]
  },
  {
   "cell_type": "code",
   "execution_count": null,
   "metadata": {
    "collapsed": false
   },
   "outputs": [],
   "source": [
    "hmdb = import_compounds.get_hmdb(terms_to_keep)\n",
    "df = pd.concat([df,hmdb[terms_to_keep]], axis=0, ignore_index=True)"
   ]
  },
  {
   "cell_type": "code",
   "execution_count": null,
   "metadata": {
    "collapsed": false
   },
   "outputs": [],
   "source": [
    "hmdb.head()\n",
    "# GENERIC_NAME\n",
    "# SYNONYMS\n",
    "# HMDB_ID"
   ]
  },
  {
   "cell_type": "markdown",
   "metadata": {},
   "source": [
    "# ChEMBL\n",
    "\n",
    "ftp://ftp.ebi.ac.uk/pub/databases/chembl/ChEMBLdb/releases/chembl_21/chembl_21.sdf.gz"
   ]
  },
  {
   "cell_type": "code",
   "execution_count": null,
   "metadata": {
    "collapsed": false
   },
   "outputs": [],
   "source": [
    "mz = 116.070608\n",
    "delta_mz = mz*5/1e6\n",
    "min_mz = mz - delta_mz\n",
    "max_mz = mz + delta_mz\n",
    "print mz\n",
    "print delta_mz\n",
    "print min_mz\n",
    "print max_mz"
   ]
  },
  {
   "cell_type": "code",
   "execution_count": null,
   "metadata": {
    "collapsed": true
   },
   "outputs": [],
   "source": [
    "#This needs a metadata file to accompany it.\n",
    "#chembl = pd.read_pickle('/project/projectdirs/openmsi/projects/compound_data/chembl/chembl.pkl')\n",
    "#These are the fields in the pkl\n",
    "#(1583839, 3)\n",
    "#Index([u'ID', u'ROMol', u'chembl_id'], dtype='object')\n",
    "# chembl = import_compounds.get_chembl()\n",
    "# df = pd.concat([df,chembl[terms_to_keep]], axis=0, ignore_index=True)\n",
    "# has 1.583 million compounds\n",
    "# tackle this next time"
   ]
  },
  {
   "cell_type": "markdown",
   "metadata": {},
   "source": [
    "# ChEBI\n",
    "\n",
    "wget ftp://ftp.ebi.ac.uk/pub/databases/chebi/SDF/ChEBI_complete_3star.sdf.gz\n",
    "\n",
    "wget ftp://ftp.ebi.ac.uk/pub/databases/chebi/SDF/ChEBI_complete.sdf.gz\n"
   ]
  },
  {
   "cell_type": "code",
   "execution_count": null,
   "metadata": {
    "collapsed": false
   },
   "outputs": [],
   "source": [
    "chebi = import_compounds.get_chebi(terms_to_keep)\n",
    "df = pd.concat([df,chebi[terms_to_keep]], axis=0, ignore_index=True)"
   ]
  },
  {
   "cell_type": "code",
   "execution_count": null,
   "metadata": {
    "collapsed": false
   },
   "outputs": [],
   "source": [
    "chebi.head()\n",
    "# ChEBI Name\n",
    "# ChEBI ID\n",
    "# KEGG COMPOUND Database Links\n",
    "# Synonyms"
   ]
  },
  {
   "cell_type": "markdown",
   "metadata": {},
   "source": [
    "# GNPS\n",
    "\n",
    "9312 spectra\n",
    "\n",
    "3971 chemical structures\n",
    "\n",
    "wget ftp://ccms-ftp.ucsd.edu/Spectral_Libraries/ALL_GNPS.mgf\n",
    "\n",
    "Many of the named compounds don't have strucutral identifiers or ids that map to other databases.  Many of the structural identifiers are formated wrong or in the wrong field (example: SMILES are used in the InChI field).\n"
   ]
  },
  {
   "cell_type": "code",
   "execution_count": null,
   "metadata": {
    "collapsed": false
   },
   "outputs": [],
   "source": [
    "gnps = import_compounds.get_gnps(terms_to_keep)\n",
    "df = pd.concat([df,gnps[terms_to_keep]], axis=0, ignore_index=True)"
   ]
  },
  {
   "cell_type": "code",
   "execution_count": null,
   "metadata": {
    "collapsed": false
   },
   "outputs": [],
   "source": [
    "gnps.head()\n",
    "# name\n"
   ]
  },
  {
   "cell_type": "markdown",
   "metadata": {},
   "source": [
    "# BNICE\n",
    "\n",
    "http://pubs.acs.org/doi/abs/10.1021/acssynbio.6b00054\n",
    "\n",
    "http://bioinformatics.oxfordjournals.org/content/21/8/1603.short\n",
    "\n",
    "SDF Files are here:\n",
    "http://lincolnpark.chem-eng.northwestern.edu/release/"
   ]
  },
  {
   "cell_type": "code",
   "execution_count": null,
   "metadata": {
    "collapsed": true
   },
   "outputs": [],
   "source": []
  },
  {
   "cell_type": "code",
   "execution_count": null,
   "metadata": {
    "collapsed": false
   },
   "outputs": [],
   "source": [
    "df.source_database.unique()"
   ]
  },
  {
   "cell_type": "markdown",
   "metadata": {
    "collapsed": true
   },
   "source": [
    "# Load the dataframe and make an rdkit mol for each comound"
   ]
  },
  {
   "cell_type": "code",
   "execution_count": null,
   "metadata": {
    "collapsed": true
   },
   "outputs": [],
   "source": [
    "df.to_pickle('/project/projectdirs/openmsi/projects/ben_run_pactolus/compounds_fixedStereo_notchembl.pkl')\n"
   ]
  },
  {
   "cell_type": "code",
   "execution_count": null,
   "metadata": {
    "collapsed": false
   },
   "outputs": [],
   "source": [
    "# df = pd.read_pickle('/project/projectdirs/openmsi/projects/ben_run_pactolus/compounds_fixedStereo_notchembl.pkl')"
   ]
  },
  {
   "cell_type": "markdown",
   "metadata": {},
   "source": [
    "# Replace float(nan) with ''"
   ]
  },
  {
   "cell_type": "code",
   "execution_count": null,
   "metadata": {
    "collapsed": true
   },
   "outputs": [],
   "source": [
    "df = df.where((pd.notnull(df)), None)\n"
   ]
  },
  {
   "cell_type": "markdown",
   "metadata": {},
   "source": [
    "# Missing the \"InChI=\" at the start\n",
    "\n",
    "This is how most of the wikidata inchis are stored.  GNPS has some like this too."
   ]
  },
  {
   "cell_type": "code",
   "execution_count": null,
   "metadata": {
    "collapsed": false
   },
   "outputs": [],
   "source": [
    "idx = (df['inchi'].str.startswith('1')) & (df['inchi'])\n",
    "print sum(idx)\n",
    "print df.source_database[idx].unique()\n",
    "df['inchi'][idx] = 'InChI=' + df['inchi']"
   ]
  },
  {
   "cell_type": "markdown",
   "metadata": {},
   "source": [
    "# Missing the \"I\" in \"InChI\""
   ]
  },
  {
   "cell_type": "code",
   "execution_count": null,
   "metadata": {
    "collapsed": false
   },
   "outputs": [],
   "source": [
    "idx = (df['inchi'].str.startswith('nChI')) & (df['inchi'])\n",
    "print sum(idx)\n",
    "print df.source_database[idx].unique()\n",
    "df['inchi'][idx] = 'I' + df['inchi']"
   ]
  },
  {
   "cell_type": "markdown",
   "metadata": {},
   "source": [
    "#has an inchikey instead of inchi"
   ]
  },
  {
   "cell_type": "code",
   "execution_count": null,
   "metadata": {
    "collapsed": false
   },
   "outputs": [],
   "source": [
    "idx = (df['inchi'].str.endswith('-N')) & (df['inchi'])\n",
    "print sum(idx)\n",
    "print df.source_database[idx].unique()\n",
    "df['inchi'][idx] = ''"
   ]
  },
  {
   "cell_type": "markdown",
   "metadata": {},
   "source": [
    "# Has an \"N/A\""
   ]
  },
  {
   "cell_type": "code",
   "execution_count": null,
   "metadata": {
    "collapsed": false
   },
   "outputs": [],
   "source": [
    "idx = (df['inchi'].str.startswith('N/A')) & (df['inchi'])\n",
    "print sum(idx)\n",
    "print df.source_database[idx].unique()\n",
    "df['inchi'][idx] = ''"
   ]
  },
  {
   "cell_type": "code",
   "execution_count": null,
   "metadata": {
    "collapsed": false
   },
   "outputs": [],
   "source": [
    "idx = (df['smiles'].str.startswith('N/A')) & (df['smiles'])\n",
    "print sum(idx)\n",
    "print df.source_database[idx].unique()\n",
    "df['smiles'][idx] = ''"
   ]
  },
  {
   "cell_type": "markdown",
   "metadata": {},
   "source": [
    "# Has something else in InChI field.  Usually this is SMILES string"
   ]
  },
  {
   "cell_type": "code",
   "execution_count": null,
   "metadata": {
    "collapsed": false
   },
   "outputs": [],
   "source": [
    "idx = (df['inchi'].str.contains('^((?!InChI).)*$')) & df['inchi']\n",
    "print sum(idx)\n",
    "print df.source_database[idx].unique()\n",
    "df['smiles'][idx] = df['inchi'][idx]\n",
    "df['inchi'][idx] = ''\n",
    "df[idx].head()"
   ]
  },
  {
   "cell_type": "code",
   "execution_count": null,
   "metadata": {
    "collapsed": false,
    "scrolled": false
   },
   "outputs": [],
   "source": [
    "def make_mol_from_smiles_and_inchi(row):\n",
    "    if not row['ROMol']:\n",
    "        mol= []\n",
    "        if row['inchi']:\n",
    "            mol = Chem.MolFromInchi(row['inchi'].encode('utf-8'))\n",
    "        elif row['smiles']:\n",
    "            mol = Chem.MolFromSmiles(row['smiles'].encode('utf-8'))\n",
    "        if mol:\n",
    "            return mol\n",
    "    else:\n",
    "        return row['ROMol']\n",
    "\n",
    "df.ROMol = df.apply(make_mol_from_smiles_and_inchi, axis=1)"
   ]
  },
  {
   "cell_type": "markdown",
   "metadata": {},
   "source": [
    "# Take a look at the rows that don't have an rdkit mol.\n",
    "* They don't have a SMILES or InChI\n",
    "* RDKit could not parse their description"
   ]
  },
  {
   "cell_type": "markdown",
   "metadata": {},
   "source": [
    "# Desalt and remove disconnected components"
   ]
  },
  {
   "cell_type": "code",
   "execution_count": null,
   "metadata": {
    "collapsed": false
   },
   "outputs": [],
   "source": [
    "def desalt_compounds_in_dataframe(x):\n",
    "    if x:\n",
    "        if x.GetNumAtoms()>1:\n",
    "            c = import_compounds.desalt(x)\n",
    "            if c[1]:\n",
    "                return c[0]\n",
    "            else:\n",
    "                return x\n",
    "    \n",
    "df.ROMol = df.ROMol.apply(desalt_compounds_in_dataframe)\n"
   ]
  },
  {
   "cell_type": "markdown",
   "metadata": {},
   "source": [
    "# neutralize those that are charged"
   ]
  },
  {
   "cell_type": "code",
   "execution_count": null,
   "metadata": {
    "collapsed": false
   },
   "outputs": [],
   "source": [
    "import_compounds = reload(import_compounds)\n",
    "def neutralize_compounds_in_dataframe(x):\n",
    "    if x:\n",
    "        if x.GetNumAtoms()> 0:\n",
    "            neutral_mol = []\n",
    "            try:\n",
    "                c = import_compounds.NeutraliseCharges(x)\n",
    "                neutral_mol = c[0]\n",
    "            except:\n",
    "                pass\n",
    "            if neutral_mol:\n",
    "                return neutral_mol\n",
    "            \n",
    "df.ROMol = df.ROMol.apply(neutralize_compounds_in_dataframe)"
   ]
  },
  {
   "cell_type": "code",
   "execution_count": null,
   "metadata": {
    "collapsed": false
   },
   "outputs": [],
   "source": [
    "def calculate_num_radicals_in_dataframe(x):\n",
    "    num_radicals = 0.0\n",
    "    if x:\n",
    "        num_radicals = Descriptors.NumRadicalElectrons(x)        \n",
    "    return num_radicals\n",
    "\n",
    "def calculate_formula_in_dataframe(x):\n",
    "    formula = ''\n",
    "    if x:\n",
    "        formula = rdMolDescriptors.CalcMolFormula(x)\n",
    "    return formula\n",
    "\n",
    "def calculate_monoisotopic_mw_in_dataframe(x):\n",
    "    mw = 0.0\n",
    "    if x:\n",
    "        mw = Descriptors.ExactMolWt(x)\n",
    "    return mw\n",
    "\n",
    "def calculate_inchi_in_dataframe(x):\n",
    "    inchi = ''\n",
    "    if x:\n",
    "        try:\n",
    "            inchi = Chem.MolToInchi(x)\n",
    "        except:\n",
    "            pass#This fails when can't kekulize mol\n",
    "    return inchi\n",
    "\n",
    "def calculate_flattened_inchi_in_dataframe(x):\n",
    "    flattened_inchi = ''\n",
    "    if x:\n",
    "        sm = Chem.MolToSmiles(x).replace('@','')\n",
    "        flattened_rdkit_mol = Chem.MolFromSmiles(sm)\n",
    "        try:\n",
    "            flattened_inchi = Chem.MolToInchi(flattened_rdkit_mol)\n",
    "        except:\n",
    "            pass#This fails when can't kekulize mol\n",
    "    return flattened_inchi\n",
    "\n",
    "def calculate_inchikey_in_dataframe(x):\n",
    "    ik = ''\n",
    "    if x:\n",
    "        try:\n",
    "            ik = Chem.InchiToInchiKey(x)\n",
    "        except:\n",
    "            pass#This fails when can't kekulize mol.  Carbo-cations are the culprit usually. \n",
    "    return ik\n",
    "\n",
    "def calculate_charge_in_dataframe(x):\n",
    "    if x:\n",
    "        my_charge = Chem.GetFormalCharge(x)\n",
    "        return my_charge\n",
    "            \n",
    "df['charge'] = df.ROMol.apply(calculate_charge_in_dataframe)\n",
    "df['formula'] = df.ROMol.apply(calculate_formula_in_dataframe)\n",
    "df['monoisotopic_mw'] = df.ROMol.apply(calculate_monoisotopic_mw_in_dataframe)\n",
    "df['num_radicals'] = df.ROMol.apply(calculate_num_radicals_in_dataframe)\n",
    "\n",
    "df['metatlas_inchi'] = df.ROMol.apply(calculate_inchi_in_dataframe)\n",
    "df['metatlas_inchi_key'] = df.metatlas_inchi.apply(calculate_inchikey_in_dataframe)\n",
    "\n",
    "df['flat_inchi'] = df.ROMol.apply(calculate_flattened_inchi_in_dataframe)\n",
    "df['flat_inchikey'] = df.flat_inchi.apply(calculate_inchikey_in_dataframe)\n"
   ]
  },
  {
   "cell_type": "markdown",
   "metadata": {},
   "source": [
    "# make venn"
   ]
  },
  {
   "cell_type": "code",
   "execution_count": null,
   "metadata": {
    "collapsed": false
   },
   "outputs": [],
   "source": [
    "# dbs = df.source_database.unique().tolist()\n",
    "# M = np.zeros((len(dbs),len(dbs)))\n",
    "\n",
    "# for i in range(len(dbs)):\n",
    "# #     df1 = df.loc[df['source_database'] == dbs[i]]\n",
    "# #     M[i,0] = df1.shape[0]\n",
    "# #     print dbs\n",
    "#     for j in range(0,len(dbs)):\n",
    "#         #i is row, j is column\n",
    "#         u1 = df.loc[df['source_database'] == dbs[i],'metatlas_inchi_key'].unique().tolist()\n",
    "#         u2 = df.loc[df['source_database'] == dbs[j],'metatlas_inchi_key'].unique().tolist()\n",
    "#         u1u2 = set(u1).intersection(u2)\n",
    "#         M[i,j] = len(u1u2)\n",
    "# M.astype(int)"
   ]
  },
  {
   "cell_type": "markdown",
   "metadata": {},
   "source": [
    "# create consolidate table from unique compounds"
   ]
  },
  {
   "cell_type": "code",
   "execution_count": null,
   "metadata": {
    "collapsed": true
   },
   "outputs": [],
   "source": [
    "df.to_pickle('/project/projectdirs/openmsi/projects/ben_run_pactolus/all_stereo_compounds_temp.pkl')\n",
    "# df.to_pickle('/project/projectdirs/openmsi/projects/ben_run_pactolus/all_compounds_temp.pkl')"
   ]
  },
  {
   "cell_type": "code",
   "execution_count": 2,
   "metadata": {
    "collapsed": false
   },
   "outputs": [],
   "source": [
    "df = pd.read_pickle('/project/projectdirs/openmsi/projects/ben_run_pactolus/all_stereo_compounds_temp.pkl')"
   ]
  },
  {
   "cell_type": "code",
   "execution_count": 3,
   "metadata": {
    "collapsed": false
   },
   "outputs": [
    {
     "data": {
      "text/plain": [
       "array(['wikidata', None, 'img', 'enzo', 'msmls', 'metacyc', 'lipidmaps',\n",
       "       'hmdb', 'chebi', 'gnps'], dtype=object)"
      ]
     },
     "execution_count": 3,
     "metadata": {},
     "output_type": "execute_result"
    }
   ],
   "source": [
    "df.source_database.unique()"
   ]
  },
  {
   "cell_type": "code",
   "execution_count": 4,
   "metadata": {
    "collapsed": false
   },
   "outputs": [],
   "source": [
    "def strip_non_ascii(string):\n",
    "    ''' Returns the string without non ASCII characters'''\n",
    "    stripped = (c for c in string if 0 < ord(c) < 127)\n",
    "    return ''.join(stripped)\n",
    "\n",
    "def make_strings_consistent(x):\n",
    "    if x:\n",
    "        if type(x) == list:\n",
    "            x = '///'.join([strip_non_ascii(s) for s in x])\n",
    "        else:\n",
    "            x = strip_non_ascii(x) \n",
    "    return x"
   ]
  },
  {
   "cell_type": "code",
   "execution_count": 5,
   "metadata": {
    "collapsed": true
   },
   "outputs": [],
   "source": [
    "df = df[df.metatlas_inchi_key != '']"
   ]
  },
  {
   "cell_type": "code",
   "execution_count": 6,
   "metadata": {
    "collapsed": false
   },
   "outputs": [],
   "source": [
    "\n",
    "    #    compound.name = unicode(df_row.common_name, \"utf-8\",errors='ignore')\n",
    "\n",
    "# def make_strings_consistent(x):\n",
    "#     try:\n",
    "#         if type(x) == list:\n",
    "#             x = [str(s.encode('utf-8')) for x in x]\n",
    "#         else:\n",
    "#             x = str(x.encode('utf-8'))\n",
    "#     except:\n",
    "#         if type(x) == list:\n",
    "#             x = [str(s) for x in x]\n",
    "#         else:\n",
    "#             x = str(x)\n",
    "#     return x\n",
    "\n",
    "\n",
    "\n",
    "df['common_name'] = df['common_name'].apply(make_strings_consistent)\n",
    "df['synonyms'] = df['synonyms'].apply(make_strings_consistent)"
   ]
  },
  {
   "cell_type": "code",
   "execution_count": 8,
   "metadata": {
    "collapsed": false
   },
   "outputs": [],
   "source": [
    "my_keys = df.keys().tolist()\n",
    "my_keys.remove('smiles')\n",
    "my_keys.remove('inchi')\n",
    "my_keys.remove('ROMol')"
   ]
  },
  {
   "cell_type": "code",
   "execution_count": 9,
   "metadata": {
    "collapsed": false
   },
   "outputs": [
    {
     "name": "stdout",
     "output_type": "stream",
     "text": [
      "Definition\n",
      "chebi_id\n",
      "common_name\n",
      "hmdb_id\n",
      "img_abc_id\n",
      "kegg_id\n",
      "lipidmaps_id\n",
      "metacyc_id\n",
      "pubchem_compound_id\n",
      "source_database\n",
      "synonyms\n",
      "charge\n",
      "formula\n",
      "monoisotopoic_mw\n",
      "num_radicals\n",
      "metatlas_inchi\n",
      "metatlas_inchi_key\n",
      "flat_inchi\n",
      "flat_inchikey\n"
     ]
    }
   ],
   "source": [
    "for k in my_keys:\n",
    "    print k\n",
    "    df[k] = df[k].astype(str)#apply(str)"
   ]
  },
  {
   "cell_type": "markdown",
   "metadata": {},
   "source": [
    "# Remove URLS from various fields throughout"
   ]
  },
  {
   "cell_type": "code",
   "execution_count": 10,
   "metadata": {
    "collapsed": false
   },
   "outputs": [
    {
     "name": "stdout",
     "output_type": "stream",
     "text": [
      "Definition\n",
      "chebi_id\n",
      "common_name\n",
      "hmdb_id\n",
      "img_abc_id\n",
      "kegg_id\n",
      "lipidmaps_id\n",
      "metacyc_id\n",
      "pubchem_compound_id\n",
      "source_database\n",
      "synonyms\n",
      "charge\n",
      "formula\n",
      "monoisotopoic_mw\n",
      "num_radicals\n",
      "metatlas_inchi\n",
      "metatlas_inchi_key\n",
      "flat_inchi\n",
      "flat_inchikey\n"
     ]
    }
   ],
   "source": [
    "for k in my_keys:\n",
    "    print k\n",
    "    df[k] = df[k].str.replace(r'<[^>]*>', '')"
   ]
  },
  {
   "cell_type": "code",
   "execution_count": 11,
   "metadata": {
    "collapsed": false
   },
   "outputs": [
    {
     "data": {
      "text/plain": [
       "'Gln-Thr///Glutamine Threonine dipeptide///Glutamine-Threonine dipeptide///Glutaminylthreonine///L-Glutaminyl-L-Threonine///Q-T Dipeptide///QT dipeptide'"
      ]
     },
     "execution_count": 11,
     "metadata": {},
     "output_type": "execute_result"
    }
   ],
   "source": [
    "df.synonyms[100000]"
   ]
  },
  {
   "cell_type": "code",
   "execution_count": 12,
   "metadata": {
    "collapsed": false
   },
   "outputs": [],
   "source": [
    "#TODO: define my_keys once! then list the ones to pull out that need special attention\n",
    "my_agg_keys = my_keys\n",
    "my_agg_keys.remove('pubchem_compound_id') #has to be handled special...\n",
    "my_agg_keys.remove('metatlas_inchi_key') #its the grouby key\n",
    "my_agg_dict = {}\n",
    "\n",
    "def pubchem_combine_fun(x):\n",
    "    new_list = []\n",
    "    for d in x:\n",
    "        if (d) and (d != 'None'):\n",
    "            d = str(int(float(d)))\n",
    "            new_list.append(d)\n",
    "    return '///'.join(list(set(new_list)))\n",
    "\n",
    "my_agg_dict['pubchem_compound_id'] = pubchem_combine_fun\n",
    "\n",
    "for k in my_agg_keys:\n",
    "    my_agg_dict[k] = lambda x: '///'.join(list(set([d for d in x if (d) and (d != '') and (d.lower() != 'none') and (d.lower() != 'nan')])))\n",
    "\n",
    "gb = df.groupby('metatlas_inchi_key').agg(my_agg_dict)\n",
    "gb.reset_index(inplace=True)\n",
    "\n",
    "\n",
    "# import itertools\n",
    "# import operator\n",
    "\n",
    "# def most_common(dL):\n",
    "#     # get an iterable of (item, iterable) pairs\n",
    "#     L = dL.split('///')\n",
    "#     SL = sorted((x, i) for i, x in enumerate(L))\n",
    "#     # print 'SL:', SL\n",
    "#     groups = itertools.groupby(SL, key=operator.itemgetter(0))\n",
    "#     # auxiliary function to get \"quality\" for an item\n",
    "#     def _auxfun(g):\n",
    "#         item, iterable = g\n",
    "#         count = 0\n",
    "#         min_index = len(L)\n",
    "#         for _, where in iterable:\n",
    "#             count += 1\n",
    "#             min_index = min(min_index, where)\n",
    "#             # print 'item %r, count %r, minind %r' % (item, count, min_index)\n",
    "#             return count, -min_index\n",
    "#     # pick the highest-count/earliest item\n",
    "#     return max(groups, key=_auxfun)[0]\n",
    "\n",
    "# def take_first_common_name(x):\n",
    "#     return sorted(x.split('///'),key=len)[0]\n",
    "# gb['common_name'] = gb['common_name'].apply(take_first_common_name)\n",
    "# gb['common_name'] = gb['common_name'].apply(most_common)"
   ]
  },
  {
   "cell_type": "code",
   "execution_count": 13,
   "metadata": {
    "collapsed": false
   },
   "outputs": [
    {
     "data": {
      "text/html": [
       "<div>\n",
       "<table border=\"1\" class=\"dataframe\">\n",
       "  <thead>\n",
       "    <tr style=\"text-align: right;\">\n",
       "      <th></th>\n",
       "      <th>metatlas_inchi_key</th>\n",
       "      <th>pubchem_compound_id</th>\n",
       "      <th>img_abc_id</th>\n",
       "      <th>charge</th>\n",
       "      <th>Definition</th>\n",
       "      <th>metacyc_id</th>\n",
       "      <th>kegg_id</th>\n",
       "      <th>num_radicals</th>\n",
       "      <th>flat_inchi</th>\n",
       "      <th>synonyms</th>\n",
       "      <th>metatlas_inchi</th>\n",
       "      <th>hmdb_id</th>\n",
       "      <th>chebi_id</th>\n",
       "      <th>flat_inchikey</th>\n",
       "      <th>common_name</th>\n",
       "      <th>formula</th>\n",
       "      <th>lipidmaps_id</th>\n",
       "      <th>source_database</th>\n",
       "      <th>monoisotopoic_mw</th>\n",
       "    </tr>\n",
       "  </thead>\n",
       "  <tbody>\n",
       "    <tr>\n",
       "      <th>0</th>\n",
       "      <td>AAABMNXUOFPYQK-WMBKCNCTSA-N</td>\n",
       "      <td></td>\n",
       "      <td></td>\n",
       "      <td>0.0</td>\n",
       "      <td></td>\n",
       "      <td></td>\n",
       "      <td>C17009</td>\n",
       "      <td>0.0</td>\n",
       "      <td>InChI=1S/C25H43NO10/c1-13-10-25(32-8,36-15(3)14(13)2)20(28)22(29)26-23-19-18(33-12-34-23)21(31-7)24(4,5)17(35-19)9-16(11-27)30-6/h14-21,23,27-28H,1,9-12H2,2-8H3,(H,26,29)</td>\n",
       "      <td></td>\n",
       "      <td>InChI=1S/C25H43NO10/c1-13-10-25(32-8,36-15(3)14(13)2)20(28)22(29)26-23-19-18(33-12-34-23)21(31-7)24(4,5)17(35-19)9-16(11-27)30-6/h14-21,23,27-28H,1,9-12H2,2-8H3,(H,26,29)/t14-,15-,16+,17?,18+,19+,20-,21-,23+,25-/m1/s1</td>\n",
       "      <td></td>\n",
       "      <td>CHEBI:80858</td>\n",
       "      <td>AAABMNXUOFPYQK-UHFFFAOYSA-N</td>\n",
       "      <td>Mycalamide B</td>\n",
       "      <td>C25H43NO10</td>\n",
       "      <td></td>\n",
       "      <td>chebi</td>\n",
       "      <td>517.288696576</td>\n",
       "    </tr>\n",
       "    <tr>\n",
       "      <th>1</th>\n",
       "      <td>AAABYGXUNQSIIU-IOWSJCHKSA-N</td>\n",
       "      <td>52926334</td>\n",
       "      <td></td>\n",
       "      <td>0.0</td>\n",
       "      <td></td>\n",
       "      <td></td>\n",
       "      <td></td>\n",
       "      <td>0.0</td>\n",
       "      <td>InChI=1S/C33H65O10P/c1-3-5-7-9-11-13-15-17-19-21-23-25-33(37)43-31(29-42-44(38,39)41-27-30(35)26-34)28-40-32(36)24-22-20-18-16-14-12-10-8-6-4-2/h30-31,34-35H,3-29H2,1-2H3,(H,38,39)</td>\n",
       "      <td></td>\n",
       "      <td>InChI=1S/C33H65O10P/c1-3-5-7-9-11-13-15-17-19-21-23-25-33(37)43-31(29-42-44(38,39)41-27-30(35)26-34)28-40-32(36)24-22-20-18-16-14-12-10-8-6-4-2/h30-31,34-35H,3-29H2,1-2H3,(H,38,39)/t30-,31+/m0/s1</td>\n",
       "      <td></td>\n",
       "      <td></td>\n",
       "      <td>AAABYGXUNQSIIU-UHFFFAOYSA-N</td>\n",
       "      <td>PG(13:0/14:0)</td>\n",
       "      <td>C33H65O10P</td>\n",
       "      <td>LMGP04010069</td>\n",
       "      <td>lipidmaps</td>\n",
       "      <td>652.43153491</td>\n",
       "    </tr>\n",
       "    <tr>\n",
       "      <th>2</th>\n",
       "      <td>AAAFZMYJJHWUPN-SOOFDHNKSA-N</td>\n",
       "      <td></td>\n",
       "      <td></td>\n",
       "      <td>0.0</td>\n",
       "      <td>An organophosphate oxoanion arising from deprotonation of the phosphate OH groups of D-ribose 1,5-diphosphate; major species at pH 7.3.///A ribose bisphosphate that consists of D-ribose having two monophosphate groups at the 1- and 5-positions.</td>\n",
       "      <td></td>\n",
       "      <td></td>\n",
       "      <td>0.0</td>\n",
       "      <td>InChI=1S/C5H12O11P2/c6-3-2(1-14-17(8,9)10)15-5(4(3)7)16-18(11,12)13/h2-7H,1H2,(H2,8,9,10)(H2,11,12,13)</td>\n",
       "      <td>D-Ribofuranose, 1,5-bis(dihydrogen phosphate)///Ribose-1,5-bisphosphate///Ribose-1,5-diphosphate///D-ribose 1,5-bisphosphate///D-ribose 1,5-diphosphate///D-ribose 1,5-diphosphate tetraanion</td>\n",
       "      <td>InChI=1S/C5H12O11P2/c6-3-2(1-14-17(8,9)10)15-5(4(3)7)16-18(11,12)13/h2-7H,1H2,(H2,8,9,10)(H2,11,12,13)/t2-,3-,4-,5?/m1/s1</td>\n",
       "      <td></td>\n",
       "      <td>CHEBI:17994///CHEBI:58345</td>\n",
       "      <td>AAAFZMYJJHWUPN-UHFFFAOYSA-N</td>\n",
       "      <td>D-ribose 1,5-bisphosphate///D-ribose 1,5-bisphosphate(4-)</td>\n",
       "      <td>C5H12O11P2</td>\n",
       "      <td></td>\n",
       "      <td>chebi</td>\n",
       "      <td>309.985484464</td>\n",
       "    </tr>\n",
       "    <tr>\n",
       "      <th>3</th>\n",
       "      <td>AAAFZMYJJHWUPN-TXICZTDVSA-N</td>\n",
       "      <td>70678980</td>\n",
       "      <td></td>\n",
       "      <td>0.0</td>\n",
       "      <td>A D-ribose 1,5-diphosphate in which the anomeric centre has alpha-configuration.///A D-ribose 1,5-diphosphate(4) in which the anomeric centre has alpha-configuration.</td>\n",
       "      <td>RIBOSE-15-BISPHOSPHATE</td>\n",
       "      <td>C01151</td>\n",
       "      <td>0.0</td>\n",
       "      <td>InChI=1S/C5H12O11P2/c6-3-2(1-14-17(8,9)10)15-5(4(3)7)16-18(11,12)13/h2-7H,1H2,(H2,8,9,10)(H2,11,12,13)</td>\n",
       "      <td>D-Ribose 1,5-diphosphate///Rib-1,5-P2///Ribose 1,5-bisphosphate///alpha-D-ribose 1,5-diphosphate///&amp;alpha;-D-ribose 1,5-bisphosphate///ribose-1,5-bisphosphate///alpha-D-ribose 1,5-bisphosphate///alpha-D-ribose 1,5-bisphosphate tetraanion///alpha-D-ribose 1,5-diphosphate(4-)</td>\n",
       "      <td>InChI=1S/C5H12O11P2/c6-3-2(1-14-17(8,9)10)15-5(4(3)7)16-18(11,12)13/h2-7H,1H2,(H2,8,9,10)(H2,11,12,13)/t2-,3-,4-,5-/m1/s1</td>\n",
       "      <td>HMDB11688</td>\n",
       "      <td>CHEBI:68688///CHEBI:68819</td>\n",
       "      <td>AAAFZMYJJHWUPN-UHFFFAOYSA-N</td>\n",
       "      <td>alpha-D-ribose 1,5-bisphosphate///alpha-D-ribose 1,5-bisphosphate(4-)///&amp;alpha;-D-ribose 1,5-bisphosphate///Ribose 1,5-bisphosphate</td>\n",
       "      <td>C5H12O11P2</td>\n",
       "      <td></td>\n",
       "      <td>chebi///metacyc///hmdb</td>\n",
       "      <td>309.985484464</td>\n",
       "    </tr>\n",
       "    <tr>\n",
       "      <th>4</th>\n",
       "      <td>AAAGYPLVPQGIIN-MFEFFIJZSA-N</td>\n",
       "      <td></td>\n",
       "      <td></td>\n",
       "      <td>0.0</td>\n",
       "      <td></td>\n",
       "      <td></td>\n",
       "      <td></td>\n",
       "      <td>0.0</td>\n",
       "      <td>InChI=1S/C27H33FN4O5/c1-16-13-32(17(2)15-33)26(35)21-5-4-6-22(30-25(34)18-7-8-18)24(21)37-23(16)14-31(3)27(36)29-20-11-9-19(28)10-12-20/h4-6,9-12,16-18,23,33H,7-8,13-15H2,1-3H3,(H,29,36)(H,30,34)</td>\n",
       "      <td></td>\n",
       "      <td>InChI=1S/C27H33FN4O5/c1-16-13-32(17(2)15-33)26(35)21-5-4-6-22(30-25(34)18-7-8-18)24(21)37-23(16)14-31(3)27(36)29-20-11-9-19(28)10-12-20/h4-6,9-12,16-18,23,33H,7-8,13-15H2,1-3H3,(H,29,36)(H,30,34)/t16-,17+,23-/m0/s1</td>\n",
       "      <td></td>\n",
       "      <td>CHEBI:124427</td>\n",
       "      <td>AAAGYPLVPQGIIN-UHFFFAOYSA-N</td>\n",
       "      <td>N-[(2R,3S)-2-[[[(4-fluoroanilino)-oxomethyl]-methylamino]methyl]-5-[(2R)-1-hydroxypropan-2-yl]-3-methyl-6-oxo-3,4-dihydro-2H-1,5-benzoxazocin-10-yl]cyclopropanecarboxamide</td>\n",
       "      <td>C27H33FN4O5</td>\n",
       "      <td></td>\n",
       "      <td>chebi</td>\n",
       "      <td>512.243498376</td>\n",
       "    </tr>\n",
       "    <tr>\n",
       "      <th>5</th>\n",
       "      <td>AAAGYPLVPQGIIN-QZMQVMSPSA-N</td>\n",
       "      <td></td>\n",
       "      <td></td>\n",
       "      <td>0.0</td>\n",
       "      <td></td>\n",
       "      <td></td>\n",
       "      <td></td>\n",
       "      <td>0.0</td>\n",
       "      <td>InChI=1S/C27H33FN4O5/c1-16-13-32(17(2)15-33)26(35)21-5-4-6-22(30-25(34)18-7-8-18)24(21)37-23(16)14-31(3)27(36)29-20-11-9-19(28)10-12-20/h4-6,9-12,16-18,23,33H,7-8,13-15H2,1-3H3,(H,29,36)(H,30,34)</td>\n",
       "      <td></td>\n",
       "      <td>InChI=1S/C27H33FN4O5/c1-16-13-32(17(2)15-33)26(35)21-5-4-6-22(30-25(34)18-7-8-18)24(21)37-23(16)14-31(3)27(36)29-20-11-9-19(28)10-12-20/h4-6,9-12,16-18,23,33H,7-8,13-15H2,1-3H3,(H,29,36)(H,30,34)/t16-,17-,23+/m1/s1</td>\n",
       "      <td></td>\n",
       "      <td>CHEBI:124583</td>\n",
       "      <td>AAAGYPLVPQGIIN-UHFFFAOYSA-N</td>\n",
       "      <td>N-[(2R,3R)-2-[[[(4-fluoroanilino)-oxomethyl]-methylamino]methyl]-5-[(2R)-1-hydroxypropan-2-yl]-3-methyl-6-oxo-3,4-dihydro-2H-1,5-benzoxazocin-10-yl]cyclopropanecarboxamide</td>\n",
       "      <td>C27H33FN4O5</td>\n",
       "      <td></td>\n",
       "      <td>chebi</td>\n",
       "      <td>512.243498376</td>\n",
       "    </tr>\n",
       "    <tr>\n",
       "      <th>6</th>\n",
       "      <td>AAAGYPLVPQGIIN-SAHWJRBASA-N</td>\n",
       "      <td></td>\n",
       "      <td></td>\n",
       "      <td>0.0</td>\n",
       "      <td></td>\n",
       "      <td></td>\n",
       "      <td></td>\n",
       "      <td>0.0</td>\n",
       "      <td>InChI=1S/C27H33FN4O5/c1-16-13-32(17(2)15-33)26(35)21-5-4-6-22(30-25(34)18-7-8-18)24(21)37-23(16)14-31(3)27(36)29-20-11-9-19(28)10-12-20/h4-6,9-12,16-18,23,33H,7-8,13-15H2,1-3H3,(H,29,36)(H,30,34)</td>\n",
       "      <td></td>\n",
       "      <td>InChI=1S/C27H33FN4O5/c1-16-13-32(17(2)15-33)26(35)21-5-4-6-22(30-25(34)18-7-8-18)24(21)37-23(16)14-31(3)27(36)29-20-11-9-19(28)10-12-20/h4-6,9-12,16-18,23,33H,7-8,13-15H2,1-3H3,(H,29,36)(H,30,34)/t16-,17+,23-/m1/s1</td>\n",
       "      <td></td>\n",
       "      <td>CHEBI:124608</td>\n",
       "      <td>AAAGYPLVPQGIIN-UHFFFAOYSA-N</td>\n",
       "      <td>N-[(2S,3R)-2-[[[(4-fluoroanilino)-oxomethyl]-methylamino]methyl]-5-[(2S)-1-hydroxypropan-2-yl]-3-methyl-6-oxo-3,4-dihydro-2H-1,5-benzoxazocin-10-yl]cyclopropanecarboxamide</td>\n",
       "      <td>C27H33FN4O5</td>\n",
       "      <td></td>\n",
       "      <td>chebi</td>\n",
       "      <td>512.243498376</td>\n",
       "    </tr>\n",
       "    <tr>\n",
       "      <th>7</th>\n",
       "      <td>AAAIZLQILBFRTJ-UHFFFAOYSA-N</td>\n",
       "      <td>522077</td>\n",
       "      <td></td>\n",
       "      <td>0.0</td>\n",
       "      <td></td>\n",
       "      <td></td>\n",
       "      <td></td>\n",
       "      <td>0.0</td>\n",
       "      <td>InChI=1S/C17H34O2/c1-3-4-5-6-7-8-9-10-11-12-13-14-15-16-19-17(2)18/h3-16H2,1-2H3</td>\n",
       "      <td>Pentadecyl acetate///629-58-3///PENTADECANYL ACETATE///1-Pentadecanol acetate///Acetic Acid Pentadecyl Ester///n-pentadecyl acetate///Pentadecyl acetate #///AC1LAWGY///ACMC-1B1YZ///Acetic acid, pentadecyl ester///P0385_SIGMA///SCHEMBL966423///CTK5B6795///AAAIZLQILBFRTJ-UHFFFAOYSA-N///ANW-34471///LMFA07010342///MFCD00056204///ZINC59725283///LP002493///TC-123216///FT-0632665///P1700///3B3-043802///</td>\n",
       "      <td>InChI=1S/C17H34O2/c1-3-4-5-6-7-8-9-10-11-12-13-14-15-16-19-17(2)18/h3-16H2,1-2H3</td>\n",
       "      <td></td>\n",
       "      <td></td>\n",
       "      <td>AAAIZLQILBFRTJ-UHFFFAOYSA-N</td>\n",
       "      <td>Pentadecyl acetate</td>\n",
       "      <td>C17H34O2</td>\n",
       "      <td>LMFA07010342</td>\n",
       "      <td>lipidmaps</td>\n",
       "      <td>270.255880328</td>\n",
       "    </tr>\n",
       "    <tr>\n",
       "      <th>8</th>\n",
       "      <td>AAALVYBICLMAMA-UHFFFAOYSA-N</td>\n",
       "      <td></td>\n",
       "      <td></td>\n",
       "      <td>0.0</td>\n",
       "      <td>Phthalimide substituted at the 4- and 5-positions by anilino groups.</td>\n",
       "      <td></td>\n",
       "      <td></td>\n",
       "      <td>0.0</td>\n",
       "      <td>InChI=1S/C20H15N3O2/c24-19-15-11-17(21-13-7-3-1-4-8-13)18(12-16(15)20(25)23-19)22-14-9-5-2-6-10-14/h1-12,21-22H,(H,23,24,25)</td>\n",
       "      <td>Cgp 52411</td>\n",
       "      <td>InChI=1S/C20H15N3O2/c24-19-15-11-17(21-13-7-3-1-4-8-13)18(12-16(15)20(25)23-19)22-14-9-5-2-6-10-14/h1-12,21-22H,(H,23,24,25)</td>\n",
       "      <td></td>\n",
       "      <td>CHEBI:53110</td>\n",
       "      <td>AAALVYBICLMAMA-UHFFFAOYSA-N</td>\n",
       "      <td>4,5-dianilinophthalimide</td>\n",
       "      <td>C20H15N3O2</td>\n",
       "      <td></td>\n",
       "      <td>chebi</td>\n",
       "      <td>329.11642672</td>\n",
       "    </tr>\n",
       "    <tr>\n",
       "      <th>9</th>\n",
       "      <td>AAANZTDKTFGJLZ-UHFFFAOYSA-N</td>\n",
       "      <td></td>\n",
       "      <td></td>\n",
       "      <td>0.0</td>\n",
       "      <td></td>\n",
       "      <td></td>\n",
       "      <td></td>\n",
       "      <td>0.0</td>\n",
       "      <td>InChI=1S/C19H18O6/c1-9(2)4-5-10-13(24-3)8-14-16(17(10)22)18(23)15-11(20)6-7-12(21)19(15)25-14/h4,6-8,20-22H,5H2,1-3H3</td>\n",
       "      <td>1,5,8-Trihydroxy-3-methyl-2-prenylxanthone</td>\n",
       "      <td>InChI=1S/C19H18O6/c1-9(2)4-5-10-13(24-3)8-14-16(17(10)22)18(23)15-11(20)6-7-12(21)19(15)25-14/h4,6-8,20-22H,5H2,1-3H3</td>\n",
       "      <td>HMDB34182</td>\n",
       "      <td></td>\n",
       "      <td>AAANZTDKTFGJLZ-UHFFFAOYSA-N</td>\n",
       "      <td>1,5,8-Trihydroxy-3-methyl-2-prenylxanthone</td>\n",
       "      <td>C19H18O6</td>\n",
       "      <td></td>\n",
       "      <td>hmdb</td>\n",
       "      <td>342.110338296</td>\n",
       "    </tr>\n",
       "  </tbody>\n",
       "</table>\n",
       "</div>"
      ],
      "text/plain": [
       "            metatlas_inchi_key pubchem_compound_id img_abc_id charge                                                                                                                                                                                                                                            Definition              metacyc_id kegg_id num_radicals                                                                                                                                                                                           flat_inchi                                                                                                                                                                                                                                                                                                                                                                                                         synonyms                                                                                                                                                                                                             metatlas_inchi    hmdb_id                   chebi_id                flat_inchikey                                                                                                                                                                  common_name      formula  lipidmaps_id         source_database monoisotopoic_mw\n",
       "0  AAABMNXUOFPYQK-WMBKCNCTSA-N                                   0.0                                                                                                                                                                                                                                                                                C17009          0.0                           InChI=1S/C25H43NO10/c1-13-10-25(32-8,36-15(3)14(13)2)20(28)22(29)26-23-19-18(33-12-34-23)21(31-7)24(4,5)17(35-19)9-16(11-27)30-6/h14-21,23,27-28H,1,9-12H2,2-8H3,(H,26,29)                                                                                                                                                                                                                                                                                                                                                                                                                   InChI=1S/C25H43NO10/c1-13-10-25(32-8,36-15(3)14(13)2)20(28)22(29)26-23-19-18(33-12-34-23)21(31-7)24(4,5)17(35-19)9-16(11-27)30-6/h14-21,23,27-28H,1,9-12H2,2-8H3,(H,26,29)/t14-,15-,16+,17?,18+,19+,20-,21-,23+,25-/m1/s1                           CHEBI:80858  AAABMNXUOFPYQK-UHFFFAOYSA-N                                                                                                                                                                 Mycalamide B   C25H43NO10                                 chebi    517.288696576\n",
       "1  AAABYGXUNQSIIU-IOWSJCHKSA-N            52926334               0.0                                                                                                                                                                                                                                                                                                0.0                 InChI=1S/C33H65O10P/c1-3-5-7-9-11-13-15-17-19-21-23-25-33(37)43-31(29-42-44(38,39)41-27-30(35)26-34)28-40-32(36)24-22-20-18-16-14-12-10-8-6-4-2/h30-31,34-35H,3-29H2,1-2H3,(H,38,39)                                                                                                                                                                                                                                                                                                                                                                                                                                         InChI=1S/C33H65O10P/c1-3-5-7-9-11-13-15-17-19-21-23-25-33(37)43-31(29-42-44(38,39)41-27-30(35)26-34)28-40-32(36)24-22-20-18-16-14-12-10-8-6-4-2/h30-31,34-35H,3-29H2,1-2H3,(H,38,39)/t30-,31+/m0/s1                                        AAABYGXUNQSIIU-UHFFFAOYSA-N                                                                                                                                                                PG(13:0/14:0)   C33H65O10P  LMGP04010069               lipidmaps     652.43153491\n",
       "2  AAAFZMYJJHWUPN-SOOFDHNKSA-N                                   0.0  An organophosphate oxoanion arising from deprotonation of the phosphate OH groups of D-ribose 1,5-diphosphate; major species at pH 7.3.///A ribose bisphosphate that consists of D-ribose having two monophosphate groups at the 1- and 5-positions.                                          0.0                                                                                               InChI=1S/C5H12O11P2/c6-3-2(1-14-17(8,9)10)15-5(4(3)7)16-18(11,12)13/h2-7H,1H2,(H2,8,9,10)(H2,11,12,13)                                                                                                                                                                                                                    D-Ribofuranose, 1,5-bis(dihydrogen phosphate)///Ribose-1,5-bisphosphate///Ribose-1,5-diphosphate///D-ribose 1,5-bisphosphate///D-ribose 1,5-diphosphate///D-ribose 1,5-diphosphate tetraanion                                                                                                  InChI=1S/C5H12O11P2/c6-3-2(1-14-17(8,9)10)15-5(4(3)7)16-18(11,12)13/h2-7H,1H2,(H2,8,9,10)(H2,11,12,13)/t2-,3-,4-,5?/m1/s1             CHEBI:17994///CHEBI:58345  AAAFZMYJJHWUPN-UHFFFAOYSA-N                                                                                                                    D-ribose 1,5-bisphosphate///D-ribose 1,5-bisphosphate(4-)   C5H12O11P2                                 chebi    309.985484464\n",
       "3  AAAFZMYJJHWUPN-TXICZTDVSA-N            70678980               0.0                                                                                A D-ribose 1,5-diphosphate in which the anomeric centre has alpha-configuration.///A D-ribose 1,5-diphosphate(4) in which the anomeric centre has alpha-configuration.  RIBOSE-15-BISPHOSPHATE  C01151          0.0                                                                                               InChI=1S/C5H12O11P2/c6-3-2(1-14-17(8,9)10)15-5(4(3)7)16-18(11,12)13/h2-7H,1H2,(H2,8,9,10)(H2,11,12,13)                                                                                                                               D-Ribose 1,5-diphosphate///Rib-1,5-P2///Ribose 1,5-bisphosphate///alpha-D-ribose 1,5-diphosphate///&alpha;-D-ribose 1,5-bisphosphate///ribose-1,5-bisphosphate///alpha-D-ribose 1,5-bisphosphate///alpha-D-ribose 1,5-bisphosphate tetraanion///alpha-D-ribose 1,5-diphosphate(4-)                                                                                                  InChI=1S/C5H12O11P2/c6-3-2(1-14-17(8,9)10)15-5(4(3)7)16-18(11,12)13/h2-7H,1H2,(H2,8,9,10)(H2,11,12,13)/t2-,3-,4-,5-/m1/s1  HMDB11688  CHEBI:68688///CHEBI:68819  AAAFZMYJJHWUPN-UHFFFAOYSA-N                                          alpha-D-ribose 1,5-bisphosphate///alpha-D-ribose 1,5-bisphosphate(4-)///&alpha;-D-ribose 1,5-bisphosphate///Ribose 1,5-bisphosphate   C5H12O11P2                chebi///metacyc///hmdb    309.985484464\n",
       "4  AAAGYPLVPQGIIN-MFEFFIJZSA-N                                   0.0                                                                                                                                                                                                                                                                                                0.0  InChI=1S/C27H33FN4O5/c1-16-13-32(17(2)15-33)26(35)21-5-4-6-22(30-25(34)18-7-8-18)24(21)37-23(16)14-31(3)27(36)29-20-11-9-19(28)10-12-20/h4-6,9-12,16-18,23,33H,7-8,13-15H2,1-3H3,(H,29,36)(H,30,34)                                                                                                                                                                                                                                                                                                                                                                                                                      InChI=1S/C27H33FN4O5/c1-16-13-32(17(2)15-33)26(35)21-5-4-6-22(30-25(34)18-7-8-18)24(21)37-23(16)14-31(3)27(36)29-20-11-9-19(28)10-12-20/h4-6,9-12,16-18,23,33H,7-8,13-15H2,1-3H3,(H,29,36)(H,30,34)/t16-,17+,23-/m0/s1                          CHEBI:124427  AAAGYPLVPQGIIN-UHFFFAOYSA-N  N-[(2R,3S)-2-[[[(4-fluoroanilino)-oxomethyl]-methylamino]methyl]-5-[(2R)-1-hydroxypropan-2-yl]-3-methyl-6-oxo-3,4-dihydro-2H-1,5-benzoxazocin-10-yl]cyclopropanecarboxamide  C27H33FN4O5                                 chebi    512.243498376\n",
       "5  AAAGYPLVPQGIIN-QZMQVMSPSA-N                                   0.0                                                                                                                                                                                                                                                                                                0.0  InChI=1S/C27H33FN4O5/c1-16-13-32(17(2)15-33)26(35)21-5-4-6-22(30-25(34)18-7-8-18)24(21)37-23(16)14-31(3)27(36)29-20-11-9-19(28)10-12-20/h4-6,9-12,16-18,23,33H,7-8,13-15H2,1-3H3,(H,29,36)(H,30,34)                                                                                                                                                                                                                                                                                                                                                                                                                      InChI=1S/C27H33FN4O5/c1-16-13-32(17(2)15-33)26(35)21-5-4-6-22(30-25(34)18-7-8-18)24(21)37-23(16)14-31(3)27(36)29-20-11-9-19(28)10-12-20/h4-6,9-12,16-18,23,33H,7-8,13-15H2,1-3H3,(H,29,36)(H,30,34)/t16-,17-,23+/m1/s1                          CHEBI:124583  AAAGYPLVPQGIIN-UHFFFAOYSA-N  N-[(2R,3R)-2-[[[(4-fluoroanilino)-oxomethyl]-methylamino]methyl]-5-[(2R)-1-hydroxypropan-2-yl]-3-methyl-6-oxo-3,4-dihydro-2H-1,5-benzoxazocin-10-yl]cyclopropanecarboxamide  C27H33FN4O5                                 chebi    512.243498376\n",
       "6  AAAGYPLVPQGIIN-SAHWJRBASA-N                                   0.0                                                                                                                                                                                                                                                                                                0.0  InChI=1S/C27H33FN4O5/c1-16-13-32(17(2)15-33)26(35)21-5-4-6-22(30-25(34)18-7-8-18)24(21)37-23(16)14-31(3)27(36)29-20-11-9-19(28)10-12-20/h4-6,9-12,16-18,23,33H,7-8,13-15H2,1-3H3,(H,29,36)(H,30,34)                                                                                                                                                                                                                                                                                                                                                                                                                      InChI=1S/C27H33FN4O5/c1-16-13-32(17(2)15-33)26(35)21-5-4-6-22(30-25(34)18-7-8-18)24(21)37-23(16)14-31(3)27(36)29-20-11-9-19(28)10-12-20/h4-6,9-12,16-18,23,33H,7-8,13-15H2,1-3H3,(H,29,36)(H,30,34)/t16-,17+,23-/m1/s1                          CHEBI:124608  AAAGYPLVPQGIIN-UHFFFAOYSA-N  N-[(2S,3R)-2-[[[(4-fluoroanilino)-oxomethyl]-methylamino]methyl]-5-[(2S)-1-hydroxypropan-2-yl]-3-methyl-6-oxo-3,4-dihydro-2H-1,5-benzoxazocin-10-yl]cyclopropanecarboxamide  C27H33FN4O5                                 chebi    512.243498376\n",
       "7  AAAIZLQILBFRTJ-UHFFFAOYSA-N              522077               0.0                                                                                                                                                                                                                                                                                                0.0                                                                                                                     InChI=1S/C17H34O2/c1-3-4-5-6-7-8-9-10-11-12-13-14-15-16-19-17(2)18/h3-16H2,1-2H3  Pentadecyl acetate///629-58-3///PENTADECANYL ACETATE///1-Pentadecanol acetate///Acetic Acid Pentadecyl Ester///n-pentadecyl acetate///Pentadecyl acetate #///AC1LAWGY///ACMC-1B1YZ///Acetic acid, pentadecyl ester///P0385_SIGMA///SCHEMBL966423///CTK5B6795///AAAIZLQILBFRTJ-UHFFFAOYSA-N///ANW-34471///LMFA07010342///MFCD00056204///ZINC59725283///LP002493///TC-123216///FT-0632665///P1700///3B3-043802///                                                                                                                                           InChI=1S/C17H34O2/c1-3-4-5-6-7-8-9-10-11-12-13-14-15-16-19-17(2)18/h3-16H2,1-2H3                                        AAAIZLQILBFRTJ-UHFFFAOYSA-N                                                                                                                                                           Pentadecyl acetate     C17H34O2  LMFA07010342               lipidmaps    270.255880328\n",
       "8  AAALVYBICLMAMA-UHFFFAOYSA-N                                   0.0                                                                                                                                                                                  Phthalimide substituted at the 4- and 5-positions by anilino groups.                                          0.0                                                                         InChI=1S/C20H15N3O2/c24-19-15-11-17(21-13-7-3-1-4-8-13)18(12-16(15)20(25)23-19)22-14-9-5-2-6-10-14/h1-12,21-22H,(H,23,24,25)                                                                                                                                                                                                                                                                                                                                                                                                        Cgp 52411                                                                                               InChI=1S/C20H15N3O2/c24-19-15-11-17(21-13-7-3-1-4-8-13)18(12-16(15)20(25)23-19)22-14-9-5-2-6-10-14/h1-12,21-22H,(H,23,24,25)                           CHEBI:53110  AAALVYBICLMAMA-UHFFFAOYSA-N                                                                                                                                                     4,5-dianilinophthalimide   C20H15N3O2                                 chebi     329.11642672\n",
       "9  AAANZTDKTFGJLZ-UHFFFAOYSA-N                                   0.0                                                                                                                                                                                                                                                                                                0.0                                                                                InChI=1S/C19H18O6/c1-9(2)4-5-10-13(24-3)8-14-16(17(10)22)18(23)15-11(20)6-7-12(21)19(15)25-14/h4,6-8,20-22H,5H2,1-3H3                                                                                                                                                                                                                                                                                                                                                                       1,5,8-Trihydroxy-3-methyl-2-prenylxanthone                                                                                                      InChI=1S/C19H18O6/c1-9(2)4-5-10-13(24-3)8-14-16(17(10)22)18(23)15-11(20)6-7-12(21)19(15)25-14/h4,6-8,20-22H,5H2,1-3H3  HMDB34182                             AAANZTDKTFGJLZ-UHFFFAOYSA-N                                                                                                                                   1,5,8-Trihydroxy-3-methyl-2-prenylxanthone     C19H18O6                                  hmdb    342.110338296"
      ]
     },
     "execution_count": 13,
     "metadata": {},
     "output_type": "execute_result"
    }
   ],
   "source": [
    "gb.head(10)"
   ]
  },
  {
   "cell_type": "code",
   "execution_count": null,
   "metadata": {
    "collapsed": false
   },
   "outputs": [],
   "source": [
    "gb.synonyms.unique()"
   ]
  },
  {
   "cell_type": "code",
   "execution_count": null,
   "metadata": {
    "collapsed": false
   },
   "outputs": [],
   "source": []
  },
  {
   "cell_type": "code",
   "execution_count": 14,
   "metadata": {
    "collapsed": false
   },
   "outputs": [],
   "source": [
    "no_name = gb[gb.common_name == '']\n"
   ]
  },
  {
   "cell_type": "code",
   "execution_count": null,
   "metadata": {
    "collapsed": true
   },
   "outputs": [],
   "source": [
    "no_name[no_name.pubchem_compound_id != ''].pubchem_compound_id.to_csv('pubchem_cid_no_name.csv')\n",
    "no_name[no_name.pubchem_compound_id == ''].metatlas_inchi_key.to_csv('inchi_key_no_name_no_pubchem.csv')\n"
   ]
  },
  {
   "cell_type": "code",
   "execution_count": null,
   "metadata": {
    "collapsed": false
   },
   "outputs": [],
   "source": [
    "gb = pd.read_pickle('/project/projectdirs/openmsi/projects/ben_run_pactolus/unique_compounds.pkl')\n"
   ]
  },
  {
   "cell_type": "markdown",
   "metadata": {},
   "source": [
    "# Add old MetAtlas compounds that are not in any of these databases"
   ]
  },
  {
   "cell_type": "code",
   "execution_count": 15,
   "metadata": {
    "collapsed": false
   },
   "outputs": [
    {
     "data": {
      "text/html": [
       "<div>\n",
       "<table border=\"1\" class=\"dataframe\">\n",
       "  <thead>\n",
       "    <tr style=\"text-align: right;\">\n",
       "      <th></th>\n",
       "      <th>common_name</th>\n",
       "      <th>charge</th>\n",
       "      <th>formula</th>\n",
       "      <th>monoisotopoic_mw</th>\n",
       "      <th>num_radicals</th>\n",
       "      <th>metatlas_inchi</th>\n",
       "      <th>metatlas_inchi_key</th>\n",
       "      <th>flat_inchi</th>\n",
       "      <th>flat_inchikey</th>\n",
       "      <th>source_database</th>\n",
       "      <th>Definition</th>\n",
       "      <th>img_abc_id</th>\n",
       "      <th>chebi_id</th>\n",
       "      <th>pubchem_compound_id</th>\n",
       "      <th>metacyc_id</th>\n",
       "      <th>kegg_id</th>\n",
       "      <th>hmdb_id</th>\n",
       "      <th>synonyms</th>\n",
       "      <th>lipidmaps_id</th>\n",
       "    </tr>\n",
       "  </thead>\n",
       "  <tbody>\n",
       "    <tr>\n",
       "      <th>162</th>\n",
       "      <td>(4R,5R,6S,7S)-4,5,6,7-tetrahydroxy-2,8-dioxooctanoate</td>\n",
       "      <td>0</td>\n",
       "      <td>C8H12O8</td>\n",
       "      <td>236.053</td>\n",
       "      <td>0</td>\n",
       "      <td>InChI=1S/C8H12O8/c9-2-5(12)7(14)6(13)3(10)1-4(11)8(15)16/h2-3,5-7,10,12-14H,1H2,(H,15,16)/t3-,5-,6-,7-/m1/s1</td>\n",
       "      <td>CMRFLDMXLVWBFG-SHUUEZRQSA-N</td>\n",
       "      <td>InChI=1S/C8H12O8/c9-2-5(12)7(14)6(13)3(10)1-4(11)8(15)16/h2-3,5-7,10,12-14H,1H2,(H,15,16)</td>\n",
       "      <td>CMRFLDMXLVWBFG-UHFFFAOYSA-N</td>\n",
       "      <td>MetAtlas</td>\n",
       "      <td></td>\n",
       "      <td></td>\n",
       "      <td></td>\n",
       "      <td></td>\n",
       "      <td></td>\n",
       "      <td></td>\n",
       "      <td></td>\n",
       "      <td></td>\n",
       "      <td></td>\n",
       "    </tr>\n",
       "    <tr>\n",
       "      <th>303</th>\n",
       "      <td>5-(3-carboxy-3-oxopropenyl)-4,6-dihydroxypyridine-2-carboxylate</td>\n",
       "      <td>0</td>\n",
       "      <td>C10H7NO7</td>\n",
       "      <td>253.022</td>\n",
       "      <td>0</td>\n",
       "      <td>InChI=1S/C10H7NO7/c12-5(9(15)16)2-1-4-6(13)3-7(14)11-8(4)10(17)18/h1-3H,(H,15,16)(H,17,18)(H2,11,13,14)/b2-1+</td>\n",
       "      <td>BKJRVOGPUXJCOY-OWOJBTEDSA-N</td>\n",
       "      <td>InChI=1S/C10H7NO7/c12-5(9(15)16)2-1-4-6(13)3-7(14)11-8(4)10(17)18/h1-3H,(H,15,16)(H,17,18)(H2,11,13,14)</td>\n",
       "      <td>BKJRVOGPUXJCOY-UHFFFAOYSA-N</td>\n",
       "      <td>MetAtlas</td>\n",
       "      <td></td>\n",
       "      <td></td>\n",
       "      <td></td>\n",
       "      <td></td>\n",
       "      <td></td>\n",
       "      <td></td>\n",
       "      <td></td>\n",
       "      <td></td>\n",
       "      <td></td>\n",
       "    </tr>\n",
       "    <tr>\n",
       "      <th>342</th>\n",
       "      <td>4&amp;alpha;,14&amp;alpha;-dimethyl-porifersta-8,25(27)-dienol</td>\n",
       "      <td>0</td>\n",
       "      <td>C31H52O</td>\n",
       "      <td>440.402</td>\n",
       "      <td>0</td>\n",
       "      <td>InChI=1S/C31H52O/c1-9-23(20(2)3)11-10-21(4)24-14-18-31(8)27-13-12-25-22(5)28(32)16-17-29(25,6)26(27)15-19-30(24,31)7/h21-25,28,32H,2,9-19H2,1,3-8H3/t21-,22+,23+,24-,25?,28+,29+,30-,31+/m1/s1</td>\n",
       "      <td>UULZCTIPCNJXAT-SPSGOSLXSA-N</td>\n",
       "      <td>InChI=1S/C31H52O/c1-9-23(20(2)3)11-10-21(4)24-14-18-31(8)27-13-12-25-22(5)28(32)16-17-29(25,6)26(27)15-19-30(24,31)7/h21-25,28,32H,2,9-19H2,1,3-8H3</td>\n",
       "      <td>UULZCTIPCNJXAT-UHFFFAOYSA-N</td>\n",
       "      <td>MetAtlas</td>\n",
       "      <td></td>\n",
       "      <td></td>\n",
       "      <td></td>\n",
       "      <td></td>\n",
       "      <td></td>\n",
       "      <td></td>\n",
       "      <td></td>\n",
       "      <td></td>\n",
       "      <td></td>\n",
       "    </tr>\n",
       "    <tr>\n",
       "      <th>737</th>\n",
       "      <td>lys-FMDP</td>\n",
       "      <td>0</td>\n",
       "      <td>C14H24N4O6</td>\n",
       "      <td>344.17</td>\n",
       "      <td>0</td>\n",
       "      <td>InChI=1S/C14H24N4O6/c1-24-12(20)6-5-11(19)17-8-10(14(22)23)18-13(21)9(16)4-2-3-7-15/h5-6,9-10H,2-4,7-8,15-16H2,1H3,(H,17,19)(H,18,21)(H,22,23)/b6-5+/t9-,10?/m0/s1</td>\n",
       "      <td>SDVKJLYNAOLHBS-JFJMBRGZSA-N</td>\n",
       "      <td>InChI=1S/C14H24N4O6/c1-24-12(20)6-5-11(19)17-8-10(14(22)23)18-13(21)9(16)4-2-3-7-15/h5-6,9-10H,2-4,7-8,15-16H2,1H3,(H,17,19)(H,18,21)(H,22,23)</td>\n",
       "      <td>SDVKJLYNAOLHBS-UHFFFAOYSA-N</td>\n",
       "      <td>MetAtlas</td>\n",
       "      <td></td>\n",
       "      <td></td>\n",
       "      <td></td>\n",
       "      <td></td>\n",
       "      <td></td>\n",
       "      <td></td>\n",
       "      <td></td>\n",
       "      <td></td>\n",
       "      <td></td>\n",
       "    </tr>\n",
       "    <tr>\n",
       "      <th>764</th>\n",
       "      <td>&lt;i&gt;N&lt;/i&gt;-acetyl-demethylphophinothricin</td>\n",
       "      <td>0</td>\n",
       "      <td>C6H13N2O4P</td>\n",
       "      <td>208.061</td>\n",
       "      <td>0</td>\n",
       "      <td>InChI=1S/C6H13N2O4P/c1-4(9)8-5(6(7)10)2-3-13(11)12/h5,13H,2-3H2,1H3,(H2,7,10)(H,8,9)(H,11,12)/t5-/m0/s1</td>\n",
       "      <td>LCUXJCWDRPBSJS-YFKPBYRVSA-N</td>\n",
       "      <td>InChI=1S/C6H13N2O4P/c1-4(9)8-5(6(7)10)2-3-13(11)12/h5,13H,2-3H2,1H3,(H2,7,10)(H,8,9)(H,11,12)</td>\n",
       "      <td>LCUXJCWDRPBSJS-UHFFFAOYSA-N</td>\n",
       "      <td>MetAtlas</td>\n",
       "      <td></td>\n",
       "      <td></td>\n",
       "      <td></td>\n",
       "      <td></td>\n",
       "      <td></td>\n",
       "      <td></td>\n",
       "      <td></td>\n",
       "      <td></td>\n",
       "      <td></td>\n",
       "    </tr>\n",
       "  </tbody>\n",
       "</table>\n",
       "</div>"
      ],
      "text/plain": [
       "                                                         common_name charge     formula monoisotopoic_mw num_radicals                                                                                                                                                                                  metatlas_inchi           metatlas_inchi_key                                                                                                                                           flat_inchi                flat_inchikey source_database Definition img_abc_id chebi_id pubchem_compound_id metacyc_id kegg_id hmdb_id synonyms lipidmaps_id\n",
       "162            (4R,5R,6S,7S)-4,5,6,7-tetrahydroxy-2,8-dioxooctanoate      0     C8H12O8          236.053            0                                                                                    InChI=1S/C8H12O8/c9-2-5(12)7(14)6(13)3(10)1-4(11)8(15)16/h2-3,5-7,10,12-14H,1H2,(H,15,16)/t3-,5-,6-,7-/m1/s1  CMRFLDMXLVWBFG-SHUUEZRQSA-N                                                            InChI=1S/C8H12O8/c9-2-5(12)7(14)6(13)3(10)1-4(11)8(15)16/h2-3,5-7,10,12-14H,1H2,(H,15,16)  CMRFLDMXLVWBFG-UHFFFAOYSA-N        MetAtlas                                                                                                    \n",
       "303  5-(3-carboxy-3-oxopropenyl)-4,6-dihydroxypyridine-2-carboxylate      0    C10H7NO7          253.022            0                                                                                   InChI=1S/C10H7NO7/c12-5(9(15)16)2-1-4-6(13)3-7(14)11-8(4)10(17)18/h1-3H,(H,15,16)(H,17,18)(H2,11,13,14)/b2-1+  BKJRVOGPUXJCOY-OWOJBTEDSA-N                                              InChI=1S/C10H7NO7/c12-5(9(15)16)2-1-4-6(13)3-7(14)11-8(4)10(17)18/h1-3H,(H,15,16)(H,17,18)(H2,11,13,14)  BKJRVOGPUXJCOY-UHFFFAOYSA-N        MetAtlas                                                                                                    \n",
       "342           4&alpha;,14&alpha;-dimethyl-porifersta-8,25(27)-dienol      0     C31H52O          440.402            0  InChI=1S/C31H52O/c1-9-23(20(2)3)11-10-21(4)24-14-18-31(8)27-13-12-25-22(5)28(32)16-17-29(25,6)26(27)15-19-30(24,31)7/h21-25,28,32H,2,9-19H2,1,3-8H3/t21-,22+,23+,24-,25?,28+,29+,30-,31+/m1/s1  UULZCTIPCNJXAT-SPSGOSLXSA-N  InChI=1S/C31H52O/c1-9-23(20(2)3)11-10-21(4)24-14-18-31(8)27-13-12-25-22(5)28(32)16-17-29(25,6)26(27)15-19-30(24,31)7/h21-25,28,32H,2,9-19H2,1,3-8H3  UULZCTIPCNJXAT-UHFFFAOYSA-N        MetAtlas                                                                                                    \n",
       "737                                                         lys-FMDP      0  C14H24N4O6           344.17            0                              InChI=1S/C14H24N4O6/c1-24-12(20)6-5-11(19)17-8-10(14(22)23)18-13(21)9(16)4-2-3-7-15/h5-6,9-10H,2-4,7-8,15-16H2,1H3,(H,17,19)(H,18,21)(H,22,23)/b6-5+/t9-,10?/m0/s1  SDVKJLYNAOLHBS-JFJMBRGZSA-N       InChI=1S/C14H24N4O6/c1-24-12(20)6-5-11(19)17-8-10(14(22)23)18-13(21)9(16)4-2-3-7-15/h5-6,9-10H,2-4,7-8,15-16H2,1H3,(H,17,19)(H,18,21)(H,22,23)  SDVKJLYNAOLHBS-UHFFFAOYSA-N        MetAtlas                                                                                                    \n",
       "764                          <i>N</i>-acetyl-demethylphophinothricin      0  C6H13N2O4P          208.061            0                                                                                         InChI=1S/C6H13N2O4P/c1-4(9)8-5(6(7)10)2-3-13(11)12/h5,13H,2-3H2,1H3,(H2,7,10)(H,8,9)(H,11,12)/t5-/m0/s1  LCUXJCWDRPBSJS-YFKPBYRVSA-N                                                        InChI=1S/C6H13N2O4P/c1-4(9)8-5(6(7)10)2-3-13(11)12/h5,13H,2-3H2,1H3,(H2,7,10)(H,8,9)(H,11,12)  LCUXJCWDRPBSJS-UHFFFAOYSA-N        MetAtlas                                                                                                    "
      ]
     },
     "execution_count": 15,
     "metadata": {},
     "output_type": "execute_result"
    }
   ],
   "source": [
    "metatlas_not_found = pd.read_pickle('metatlas_compounds_not_found.pkl')\n",
    "metatlas_not_found.drop('inchi',axis=1,inplace=True)\n",
    "metatlas_not_found.rename(columns = {'name':'common_name'}, inplace = True)\n",
    "metatlas_not_found['source_database'] = 'MetAtlas'\n",
    "for c in set(gb.keys()) - set(metatlas_not_found.keys()):\n",
    "    metatlas_not_found[c] = ''\n",
    "metatlas_not_found.head()"
   ]
  },
  {
   "cell_type": "code",
   "execution_count": 16,
   "metadata": {
    "collapsed": false
   },
   "outputs": [
    {
     "name": "stdout",
     "output_type": "stream",
     "text": [
      "Index([u'metatlas_inchi_key', u'pubchem_compound_id', u'img_abc_id', u'charge', u'Definition', u'metacyc_id', u'kegg_id', u'num_radicals', u'flat_inchi', u'synonyms', u'metatlas_inchi', u'hmdb_id', u'chebi_id', u'flat_inchikey', u'common_name', u'formula', u'lipidmaps_id', u'source_database', u'monoisotopoic_mw'], dtype='object')\n",
      " \n",
      "Index([u'common_name', u'charge', u'formula', u'monoisotopoic_mw', u'num_radicals', u'metatlas_inchi', u'metatlas_inchi_key', u'flat_inchi', u'flat_inchikey', u'source_database', u'Definition', u'img_abc_id', u'chebi_id', u'pubchem_compound_id', u'metacyc_id', u'kegg_id', u'hmdb_id', u'synonyms', u'lipidmaps_id'], dtype='object')\n",
      " \n",
      "set([])\n"
     ]
    }
   ],
   "source": [
    "print gb.keys()\n",
    "print ' '\n",
    "print metatlas_not_found.keys()\n",
    "print ' '\n",
    "print set(gb.keys()) - set(metatlas_not_found.keys())"
   ]
  },
  {
   "cell_type": "code",
   "execution_count": 17,
   "metadata": {
    "collapsed": false
   },
   "outputs": [
    {
     "name": "stdout",
     "output_type": "stream",
     "text": [
      "(158506, 19) (157919, 19) (587, 19)\n"
     ]
    }
   ],
   "source": [
    "combo = pd.concat([metatlas_not_found, gb], ignore_index=True)\n",
    "print combo.shape, gb.shape, metatlas_not_found.shape\n"
   ]
  },
  {
   "cell_type": "code",
   "execution_count": 23,
   "metadata": {
    "collapsed": false
   },
   "outputs": [
    {
     "data": {
      "text/plain": [
       "(158493, 19)"
      ]
     },
     "execution_count": 23,
     "metadata": {},
     "output_type": "execute_result"
    }
   ],
   "source": [
    "combo.shape"
   ]
  },
  {
   "cell_type": "code",
   "execution_count": 21,
   "metadata": {
    "collapsed": true
   },
   "outputs": [],
   "source": [
    "combo.to_pickle('/project/projectdirs/openmsi/projects/ben_run_pactolus/unique_compounds.pkl')\n",
    "combo.to_csv('/project/projectdirs/metatlas/projects/uniquecompounds.csv')\n",
    "combo.to_csv('uniquecompounds.csv')"
   ]
  },
  {
   "cell_type": "markdown",
   "metadata": {},
   "source": [
    "# Mass values are not high enough precision\n",
    "# Mass might not be includign the charge"
   ]
  },
  {
   "cell_type": "code",
   "execution_count": null,
   "metadata": {
    "collapsed": true
   },
   "outputs": [],
   "source": [
    "combo = pd.read_pickle('/project/projectdirs/openmsi/projects/ben_run_pactolus/unique_compounds.pkl')"
   ]
  },
  {
   "cell_type": "code",
   "execution_count": 18,
   "metadata": {
    "collapsed": true
   },
   "outputs": [],
   "source": [
    "combo.drop('monoisotopoic_mw', axis=1, inplace=True)\n"
   ]
  },
  {
   "cell_type": "code",
   "execution_count": 19,
   "metadata": {
    "collapsed": false
   },
   "outputs": [],
   "source": [
    "def calculate_monoisotopic_mw_from_inchi(row):\n",
    "    mw = ''\n",
    "    rdk_mol = Chem.MolFromInchi(row['metatlas_inchi'])\n",
    "    if rdk_mol:\n",
    "        mw = str(float(Descriptors.ExactMolWt(rdk_mol)))\n",
    "    return mw\n",
    "combo['monoisotopic_mw'] = combo.apply(calculate_monoisotopic_mw_from_inchi, axis=1)\n"
   ]
  },
  {
   "cell_type": "code",
   "execution_count": null,
   "metadata": {
    "collapsed": false
   },
   "outputs": [],
   "source": [
    "combo.keys()"
   ]
  },
  {
   "cell_type": "code",
   "execution_count": 20,
   "metadata": {
    "collapsed": false,
    "scrolled": false
   },
   "outputs": [],
   "source": [
    "combo = combo[(combo.monoisotopic_mw!='') ]"
   ]
  },
  {
   "cell_type": "code",
   "execution_count": null,
   "metadata": {
    "collapsed": false,
    "scrolled": false
   },
   "outputs": [],
   "source": [
    "# my_str = 'radical'\n",
    "# gb[gb.common_name.str.contains(r'(?:\\s|^)%s(?:\\s|$)'%my_str,case=False,regex=True)].head(20)"
   ]
  },
  {
   "cell_type": "code",
   "execution_count": null,
   "metadata": {
    "collapsed": false
   },
   "outputs": [],
   "source": [
    "# from rdkit.Chem import Descriptors\n",
    "# print Descriptors.NumRadicalElectrons(Chem.MolFromInchi('InChI=1S/C9H11NO3/c10-8(9(12)13)5-6-1-3-7(11)4-2-6/h1-4,8,11H,5,10H2,(H,12,13)/q+1'))\n",
    "# print Descriptors.NumRadicalElectrons(Chem.MolFromInchi('InChI=1S/C40H46N8S4/c1-25-19-35-33(21-29(25)23-49-39(45(3)4)46(5)6)41-37(51-35)27-11-15-31(16-12-27)43-44-32-17-13-28(14-18-32)38-42-34-22-30(26(2)20-36(34)52-38)24-50-40(47(7)8)48(9)10/h11-22H,23-24H2,1-10H3/q+2/b44-43+'))"
   ]
  },
  {
   "cell_type": "code",
   "execution_count": null,
   "metadata": {
    "collapsed": true
   },
   "outputs": [],
   "source": [
    "# import sys\n",
    "# sys.path.append('/global/project/projectdirs/openmsi/jupyterhub_libs/anaconda/lib/python2.7/site-packages')\n",
    "# from rdkit import Chem\n",
    "# import numpy as np\n",
    "# import pandas as pd\n",
    "# from rdkit.Chem import Draw\n",
    "# from rdkit.Chem import PandasTools\n",
    "\n",
    "# %matplotlib inline\n",
    "\n",
    "\n",
    "# inchis = ['InChI=1S/C3H7NO2/c1-2(4)3(5)6/h2H,4H2,1H3,(H,5,6)/p+1/t2-/m1/s1',\n",
    "#     'InChI=1S/C18H18N4O6S4/c1-3-21-13-7-5-11(31(23,24)25)9-15(13)29-17(21)19-20-18-22(4-2)14-8-6-12(32(26,27)28)10-16(14)30-18/h5-10H,3-4H2,1-2H3,(H,23,24,25)(H,26,27,28)/q+1/p-1',\n",
    "#          'InChI=1S/C3H7NO2.H3N/c1-2(4)3(5)6;/h2H,4H2,1H3,(H,5,6);1H3/p+1/t2-;/m0./s1',\n",
    "#           'InChI=1S/C3H7NO2/c1-2(4)3(5)6/h2H,4H2,1H3,(H,5,6)/t2-/m0/s1',\n",
    "#           'InChI=1S/C3H7NO2/c1-2(4)3(5)6/h2H,4H2,1H3,(H,5,6)/t2-/m1/s1']\n",
    "# labels = ['D-Alanine Cation','2,2''-azino-bis-(3-ethylbenzothiazoline-6-sulfonate) radical cation', 'ammonium alanine','L-alanine','D-Alanine']"
   ]
  },
  {
   "cell_type": "code",
   "execution_count": null,
   "metadata": {
    "collapsed": false
   },
   "outputs": [],
   "source": [
    "\n",
    "\n",
    "# mols = [Chem.MolFromInchi(ii) for ii in inchis]\n",
    "# de_salt = [m[0] for m in [desalt(m) for m in mols]]\n",
    "# neutralized = [m[0] for m in [NeutraliseCharges(m) for m in de_salt]]\n",
    "\n",
    "# # sm1 = Chem.MolToSmiles(m)#,isomericSmiles=True)\n",
    "# # m2 = Chem.MolFromSmiles(sm1)\n",
    "\n",
    "# # sm1 = Chem.MolToInchi(m2)\n",
    "# # m3 = Chem.MolFromInchi(sm1)"
   ]
  },
  {
   "cell_type": "code",
   "execution_count": null,
   "metadata": {
    "collapsed": false
   },
   "outputs": [],
   "source": [
    "# Chem.Draw.MolsToGridImage(mols+de_salt+neutralized,\n",
    "#                           legends = labels+['desalted %s'%m for m in labels]+['neutralized %s'%m for m in labels],\n",
    "#                           molsPerRow = len(inchis))"
   ]
  },
  {
   "cell_type": "code",
   "execution_count": null,
   "metadata": {
    "collapsed": true
   },
   "outputs": [],
   "source": []
  }
 ],
 "metadata": {
  "kernelspec": {
   "display_name": "MetAtlas 2.7",
   "language": "python",
   "name": "metatlas"
  },
  "language_info": {
   "codemirror_mode": {
    "name": "ipython",
    "version": 2
   },
   "file_extension": ".py",
   "mimetype": "text/x-python",
   "name": "python",
   "nbconvert_exporter": "python",
   "pygments_lexer": "ipython2",
   "version": "2.7.11"
  }
 },
 "nbformat": 4,
 "nbformat_minor": 0
}
