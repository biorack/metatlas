{
 "cells": [
  {
   "cell_type": "code",
   "execution_count": 1,
   "metadata": {
    "collapsed": false
   },
   "outputs": [],
   "source": [
    "import sys\n",
    "sys.path.insert(0,'/global/project/projectdirs/metatlas/anaconda/lib/python2.7/site-packages' )\n",
    "sys.path.insert(1,'/global/homes/b/bpb/metatlas/metatlas/compounds/not_used/')\n",
    "import get_compounds_each_provider as import_compounds\n",
    "import pandas as pd\n",
    "# import sys\n",
    "# sys.path.append('/global/project/projectdirs/openmsi/jupyterhub_libs/anaconda/lib/python2.7/site-packages')\n",
    "from rdkit import Chem\n",
    "from rdkit.Chem import Descriptors\n",
    "from rdkit.Chem import rdMolDescriptors\n",
    "import numpy as np\n"
   ]
  },
  {
   "cell_type": "code",
   "execution_count": 2,
   "metadata": {
    "collapsed": false
   },
   "outputs": [],
   "source": [
    "df = pd.read_csv('https://raw.githubusercontent.com/ModelSEED/ModelSEEDDatabase/master/Biochemistry/compounds.master.tsv',sep='\\t')\n"
   ]
  },
  {
   "cell_type": "code",
   "execution_count": 3,
   "metadata": {
    "collapsed": false
   },
   "outputs": [
    {
     "data": {
      "text/html": [
       "<div>\n",
       "<table border=\"1\" class=\"dataframe\">\n",
       "  <thead>\n",
       "    <tr style=\"text-align: right;\">\n",
       "      <th></th>\n",
       "      <th>id</th>\n",
       "      <th>abbreviation</th>\n",
       "      <th>name</th>\n",
       "      <th>formula</th>\n",
       "      <th>mass</th>\n",
       "      <th>source</th>\n",
       "      <th>structure</th>\n",
       "      <th>charge</th>\n",
       "      <th>is_core</th>\n",
       "      <th>is_obsolete</th>\n",
       "      <th>linked_compound</th>\n",
       "      <th>is_cofactor</th>\n",
       "      <th>deltag</th>\n",
       "      <th>deltagerr</th>\n",
       "      <th>pka</th>\n",
       "      <th>pkb</th>\n",
       "      <th>abstract_compound</th>\n",
       "      <th>comprised_of</th>\n",
       "      <th>aliases</th>\n",
       "    </tr>\n",
       "  </thead>\n",
       "  <tbody>\n",
       "    <tr>\n",
       "      <th>0</th>\n",
       "      <td>cpd00001</td>\n",
       "      <td>h2o</td>\n",
       "      <td>H2O</td>\n",
       "      <td>H2O</td>\n",
       "      <td>18</td>\n",
       "      <td>ModelSEED</td>\n",
       "      <td>InChI=1S/H2O/h1H2</td>\n",
       "      <td>0</td>\n",
       "      <td>1</td>\n",
       "      <td>0</td>\n",
       "      <td>null</td>\n",
       "      <td>0</td>\n",
       "      <td>-56.687</td>\n",
       "      <td>0.5</td>\n",
       "      <td>1:15.7</td>\n",
       "      <td>1:-1.8</td>\n",
       "      <td>null</td>\n",
       "      <td>null</td>\n",
       "      <td>null</td>\n",
       "    </tr>\n",
       "    <tr>\n",
       "      <th>1</th>\n",
       "      <td>cpd00002</td>\n",
       "      <td>atp</td>\n",
       "      <td>ATP</td>\n",
       "      <td>C10H13N5O13P3</td>\n",
       "      <td>504</td>\n",
       "      <td>ModelSEED</td>\n",
       "      <td>InChI=1S/C10H16N5O13P3/c11-8-5-9(13-2-12-8)15(3-14-5)10-7(17)6(16)4(26-10)1-25-30(21,22)28-31(23,24)27-29(18,19)20/h2-4,6-7,10,16-17H,1H2,(H,21,22)(H,23,24)(H2,11,12,13)(H2,18,19,20)/t4-,6-,7-,10-/m1/s1</td>\n",
       "      <td>-3</td>\n",
       "      <td>1</td>\n",
       "      <td>0</td>\n",
       "      <td>null</td>\n",
       "      <td>0</td>\n",
       "      <td>-673.85</td>\n",
       "      <td>3.04314</td>\n",
       "      <td>26:0.84;22:2.95;14:13.03;29:1.83;30:7.72</td>\n",
       "      <td>15:3.97;14:-3.66;6:-3.48;9:-9.18</td>\n",
       "      <td>null</td>\n",
       "      <td>null</td>\n",
       "      <td>null</td>\n",
       "    </tr>\n",
       "    <tr>\n",
       "      <th>2</th>\n",
       "      <td>cpd00003</td>\n",
       "      <td>nad</td>\n",
       "      <td>NAD</td>\n",
       "      <td>C21H26N7O14P2</td>\n",
       "      <td>662</td>\n",
       "      <td>ModelSEED</td>\n",
       "      <td>InChI=1S/C21H27N7O14P2/c22-17-12-19(25-7-24-17)28(8-26-12)21-16(32)14(30)11(41-21)6-39-44(36,37)42-43(34,35)38-5-10-13(29)15(31)20(40-10)27-3-1-2-9(4-27)18(23)33/h1-4,7-8,10-11,13-16,20-21,29-32H,5-6H2,(H5-,22,23,24,25,33,34,35,36,37)/t10-,11-,13-,14-,15-,16-,20-,21-/m1/s1</td>\n",
       "      <td>-1</td>\n",
       "      <td>1</td>\n",
       "      <td>0</td>\n",
       "      <td>null</td>\n",
       "      <td>0</td>\n",
       "      <td>-529.59</td>\n",
       "      <td>4.35693</td>\n",
       "      <td>17:1.8;18:2.56;6:12.32;25:11.56;35:13.12</td>\n",
       "      <td>6:-3.98;35:-3.66;25:-1.17;37:-3.48;41:3.94;43:-9.18</td>\n",
       "      <td>null</td>\n",
       "      <td>null</td>\n",
       "      <td>null</td>\n",
       "    </tr>\n",
       "    <tr>\n",
       "      <th>3</th>\n",
       "      <td>cpd00004</td>\n",
       "      <td>nadh</td>\n",
       "      <td>NADH</td>\n",
       "      <td>C21H27N7O14P2</td>\n",
       "      <td>663</td>\n",
       "      <td>ModelSEED</td>\n",
       "      <td>InChI=1S/C21H29N7O14P2/c22-17-12-19(25-7-24-17)28(8-26-12)21-16(32)14(30)11(41-21)6-39-44(36,37)42-43(34,35)38-5-10-13(29)15(31)20(40-10)27-3-1-2-9(4-27)18(23)33/h1,3-4,7-8,10-11,13-16,20-21,29-32H,2,5-6H2,(H2,23,33)(H,34,35)(H,36,37)(H2,22,24,25)/t10-,11-,13-,14-,15-,16-,20-,21-/m1/s1</td>\n",
       "      <td>-2</td>\n",
       "      <td>1</td>\n",
       "      <td>0</td>\n",
       "      <td>null</td>\n",
       "      <td>0</td>\n",
       "      <td>-524.32</td>\n",
       "      <td>4.26795</td>\n",
       "      <td>18:14.3;14:13.31;22:1.8;26:2.56;36:12.69</td>\n",
       "      <td>36:-3.6;18:-3.51;14:-3.66;9:-3.48;15:3.94;6:-9.18</td>\n",
       "      <td>null</td>\n",
       "      <td>null</td>\n",
       "      <td>null</td>\n",
       "    </tr>\n",
       "    <tr>\n",
       "      <th>4</th>\n",
       "      <td>cpd00005</td>\n",
       "      <td>nadph</td>\n",
       "      <td>NADPH</td>\n",
       "      <td>C21H26N7O17P3</td>\n",
       "      <td>742</td>\n",
       "      <td>ModelSEED</td>\n",
       "      <td>InChI=1S/C21H30N7O17P3/c22-17-12-19(25-7-24-17)28(8-26-12)21-16(44-46(33,34)35)14(30)11(43-21)6-41-48(38,39)45-47(36,37)40-5-10-13(29)15(31)20(42-10)27-3-1-2-9(4-27)18(23)32/h1,3-4,7-8,10-11,13-16,20-21,29-31H,2,5-6H2,(H2,23,32)(H,36,37)(H,38,39)(H2,22,24,25)(H2,33,34,35)/t10-,11-,13-,14-,15-,16-,20-,21-/m1/s1</td>\n",
       "      <td>-4</td>\n",
       "      <td>1</td>\n",
       "      <td>0</td>\n",
       "      <td>null</td>\n",
       "      <td>0</td>\n",
       "      <td>-736.82</td>\n",
       "      <td>4.25788</td>\n",
       "      <td>19:6.71;30:2.61;40:13.16;18:2;26:1.45</td>\n",
       "      <td>40:-3.6;12:-3.48;22:3.94;11:-9.18</td>\n",
       "      <td>null</td>\n",
       "      <td>null</td>\n",
       "      <td>null</td>\n",
       "    </tr>\n",
       "  </tbody>\n",
       "</table>\n",
       "</div>"
      ],
      "text/plain": [
       "         id abbreviation   name        formula mass     source                                                                                                                                                                                                                                                                                                                structure  charge  is_core  is_obsolete linked_compound  is_cofactor   deltag deltagerr                                       pka                                                  pkb abstract_compound comprised_of aliases\n",
       "0  cpd00001          h2o    H2O            H2O   18  ModelSEED                                                                                                                                                                                                                                                                                                        InChI=1S/H2O/h1H2       0        1            0            null            0  -56.687       0.5                                    1:15.7                                               1:-1.8              null         null    null\n",
       "1  cpd00002          atp    ATP  C10H13N5O13P3  504  ModelSEED                                                                                                               InChI=1S/C10H16N5O13P3/c11-8-5-9(13-2-12-8)15(3-14-5)10-7(17)6(16)4(26-10)1-25-30(21,22)28-31(23,24)27-29(18,19)20/h2-4,6-7,10,16-17H,1H2,(H,21,22)(H,23,24)(H2,11,12,13)(H2,18,19,20)/t4-,6-,7-,10-/m1/s1      -3        1            0            null            0  -673.85   3.04314  26:0.84;22:2.95;14:13.03;29:1.83;30:7.72                     15:3.97;14:-3.66;6:-3.48;9:-9.18              null         null    null\n",
       "2  cpd00003          nad    NAD  C21H26N7O14P2  662  ModelSEED                                        InChI=1S/C21H27N7O14P2/c22-17-12-19(25-7-24-17)28(8-26-12)21-16(32)14(30)11(41-21)6-39-44(36,37)42-43(34,35)38-5-10-13(29)15(31)20(40-10)27-3-1-2-9(4-27)18(23)33/h1-4,7-8,10-11,13-16,20-21,29-32H,5-6H2,(H5-,22,23,24,25,33,34,35,36,37)/t10-,11-,13-,14-,15-,16-,20-,21-/m1/s1      -1        1            0            null            0  -529.59   4.35693  17:1.8;18:2.56;6:12.32;25:11.56;35:13.12  6:-3.98;35:-3.66;25:-1.17;37:-3.48;41:3.94;43:-9.18              null         null    null\n",
       "3  cpd00004         nadh   NADH  C21H27N7O14P2  663  ModelSEED                           InChI=1S/C21H29N7O14P2/c22-17-12-19(25-7-24-17)28(8-26-12)21-16(32)14(30)11(41-21)6-39-44(36,37)42-43(34,35)38-5-10-13(29)15(31)20(40-10)27-3-1-2-9(4-27)18(23)33/h1,3-4,7-8,10-11,13-16,20-21,29-32H,2,5-6H2,(H2,23,33)(H,34,35)(H,36,37)(H2,22,24,25)/t10-,11-,13-,14-,15-,16-,20-,21-/m1/s1      -2        1            0            null            0  -524.32   4.26795  18:14.3;14:13.31;22:1.8;26:2.56;36:12.69    36:-3.6;18:-3.51;14:-3.66;9:-3.48;15:3.94;6:-9.18              null         null    null\n",
       "4  cpd00005        nadph  NADPH  C21H26N7O17P3  742  ModelSEED  InChI=1S/C21H30N7O17P3/c22-17-12-19(25-7-24-17)28(8-26-12)21-16(44-46(33,34)35)14(30)11(43-21)6-41-48(38,39)45-47(36,37)40-5-10-13(29)15(31)20(42-10)27-3-1-2-9(4-27)18(23)32/h1,3-4,7-8,10-11,13-16,20-21,29-31H,2,5-6H2,(H2,23,32)(H,36,37)(H,38,39)(H2,22,24,25)(H2,33,34,35)/t10-,11-,13-,14-,15-,16-,20-,21-/m1/s1      -4        1            0            null            0  -736.82   4.25788     19:6.71;30:2.61;40:13.16;18:2;26:1.45                    40:-3.6;12:-3.48;22:3.94;11:-9.18              null         null    null"
      ]
     },
     "execution_count": 3,
     "metadata": {},
     "output_type": "execute_result"
    }
   ],
   "source": [
    "df.head()"
   ]
  },
  {
   "cell_type": "code",
   "execution_count": 4,
   "metadata": {
    "collapsed": false
   },
   "outputs": [
    {
     "data": {
      "text/plain": [
       "(27693, 19)"
      ]
     },
     "execution_count": 4,
     "metadata": {},
     "output_type": "execute_result"
    }
   ],
   "source": [
    "df.shape"
   ]
  },
  {
   "cell_type": "code",
   "execution_count": 5,
   "metadata": {
    "collapsed": false
   },
   "outputs": [],
   "source": [
    "def make_mol_from_smiles_and_inchi(row):\n",
    "    mol= []\n",
    "    if row['structure']:\n",
    "        mol = Chem.MolFromInchi(row['structure'].encode('utf-8'))\n",
    "    if mol:\n",
    "        return mol\n",
    "\n",
    "df.ROMol = df.apply(make_mol_from_smiles_and_inchi, axis=1)\n",
    "\n",
    "def desalt_compounds_in_dataframe(x):\n",
    "    if x:\n",
    "        if x.GetNumAtoms()>1:\n",
    "            c = import_compounds.desalt(x)\n",
    "            if c[1]:\n",
    "                return c[0]\n",
    "            else:\n",
    "                return x\n",
    "    \n",
    "df.ROMol = df.ROMol.apply(desalt_compounds_in_dataframe)\n",
    "\n",
    "\n",
    "import_compounds = reload(import_compounds)\n",
    "def neutralize_compounds_in_dataframe(x):\n",
    "    if x:\n",
    "        if x.GetNumAtoms()> 0:\n",
    "            neutral_mol = []\n",
    "            try:\n",
    "                c = import_compounds.NeutraliseCharges(x)\n",
    "                neutral_mol = c[0]\n",
    "            except:\n",
    "                pass\n",
    "            if neutral_mol:\n",
    "                return neutral_mol\n",
    "            \n",
    "df.ROMol = df.ROMol.apply(neutralize_compounds_in_dataframe)\n",
    "\n",
    "def calculate_num_radicals_in_dataframe(x):\n",
    "    num_radicals = 0.0\n",
    "    if x:\n",
    "        num_radicals = Descriptors.NumRadicalElectrons(x)        \n",
    "    return num_radicals\n",
    "\n",
    "def calculate_formula_in_dataframe(x):\n",
    "    formula = ''\n",
    "    if x:\n",
    "        formula = rdMolDescriptors.CalcMolFormula(x)\n",
    "    return formula\n",
    "\n",
    "def calculate_monoisotopic_mw_in_dataframe(x):\n",
    "    mw = 0.0\n",
    "    if x:\n",
    "        mw = Descriptors.ExactMolWt(x)\n",
    "    return mw\n",
    "\n",
    "def calculate_inchi_in_dataframe(x):\n",
    "    inchi = ''\n",
    "    if x:\n",
    "        try:\n",
    "            inchi = Chem.MolToInchi(x)\n",
    "        except:\n",
    "            pass#This fails when can't kekulize mol\n",
    "    return inchi\n",
    "\n",
    "def calculate_flattened_inchi_in_dataframe(x):\n",
    "    flattened_inchi = ''\n",
    "    if x:\n",
    "        sm = Chem.MolToSmiles(x).replace('@','')\n",
    "        flattened_rdkit_mol = Chem.MolFromSmiles(sm)\n",
    "        try:\n",
    "            flattened_inchi = Chem.MolToInchi(flattened_rdkit_mol)\n",
    "        except:\n",
    "            pass#This fails when can't kekulize mol\n",
    "    return flattened_inchi\n",
    "\n",
    "def calculate_inchikey_in_dataframe(x):\n",
    "    ik = ''\n",
    "    if x:\n",
    "        try:\n",
    "            ik = Chem.InchiToInchiKey(x)\n",
    "        except:\n",
    "            pass#This fails when can't kekulize mol.  Carbo-cations are the culprit usually. \n",
    "    return ik\n",
    "\n",
    "def calculate_charge_in_dataframe(x):\n",
    "    if x:\n",
    "        my_charge = Chem.GetFormalCharge(x)\n",
    "        return my_charge\n",
    "            \n",
    "df['charge'] = df.ROMol.apply(calculate_charge_in_dataframe)\n",
    "df['formula'] = df.ROMol.apply(calculate_formula_in_dataframe)\n",
    "df['monoisotopoic_mw'] = df.ROMol.apply(calculate_monoisotopic_mw_in_dataframe)\n",
    "df['num_radicals'] = df.ROMol.apply(calculate_num_radicals_in_dataframe)\n",
    "\n",
    "df['metatlas_inchi'] = df.ROMol.apply(calculate_inchi_in_dataframe)\n",
    "df['metatlas_inchi_key'] = df.metatlas_inchi.apply(calculate_inchikey_in_dataframe)\n",
    "\n",
    "df['flat_inchi'] = df.ROMol.apply(calculate_flattened_inchi_in_dataframe)\n",
    "df['flat_inchikey'] = df.flat_inchi.apply(calculate_inchikey_in_dataframe)\n"
   ]
  },
  {
   "cell_type": "code",
   "execution_count": 11,
   "metadata": {
    "collapsed": false
   },
   "outputs": [
    {
     "ename": "IOError",
     "evalue": "[Errno 2] No such file or directory: 'https://github.com/biorack/metatlas/blob/master/metatlas/compounds/kbase_compounds_with_neutral_compound_information.pkl'",
     "output_type": "error",
     "traceback": [
      "\u001b[1;31m\u001b[0m",
      "\u001b[1;31mIOError\u001b[0mTraceback (most recent call last)",
      "\u001b[1;32m<ipython-input-11-db66c08f1c69>\u001b[0m in \u001b[0;36m<module>\u001b[1;34m()\u001b[0m\n\u001b[1;32m----> 1\u001b[1;33m \u001b[0mdf2\u001b[0m \u001b[1;33m=\u001b[0m \u001b[0mpd\u001b[0m\u001b[1;33m.\u001b[0m\u001b[0mread_pickle\u001b[0m\u001b[1;33m(\u001b[0m\u001b[1;34m'https://github.com/biorack/metatlas/blob/master/metatlas/compounds/kbase_compounds_with_neutral_compound_information.pkl'\u001b[0m\u001b[1;33m)\u001b[0m\u001b[1;33m\u001b[0m\u001b[0m\n\u001b[0m",
      "\u001b[1;32m/global/project/projectdirs/metatlas/anaconda/lib/python2.7/site-packages/pandas/io/pickle.pyc\u001b[0m in \u001b[0;36mread_pickle\u001b[1;34m(path)\u001b[0m\n\u001b[0;32m     63\u001b[0m \u001b[1;33m\u001b[0m\u001b[0m\n\u001b[0;32m     64\u001b[0m     \u001b[1;32mtry\u001b[0m\u001b[1;33m:\u001b[0m\u001b[1;33m\u001b[0m\u001b[0m\n\u001b[1;32m---> 65\u001b[1;33m         \u001b[1;32mreturn\u001b[0m \u001b[0mtry_read\u001b[0m\u001b[1;33m(\u001b[0m\u001b[0mpath\u001b[0m\u001b[1;33m)\u001b[0m\u001b[1;33m\u001b[0m\u001b[0m\n\u001b[0m\u001b[0;32m     66\u001b[0m     \u001b[1;32mexcept\u001b[0m\u001b[1;33m:\u001b[0m\u001b[1;33m\u001b[0m\u001b[0m\n\u001b[0;32m     67\u001b[0m         \u001b[1;32mif\u001b[0m \u001b[0mPY3\u001b[0m\u001b[1;33m:\u001b[0m\u001b[1;33m\u001b[0m\u001b[0m\n",
      "\u001b[1;32m/global/project/projectdirs/metatlas/anaconda/lib/python2.7/site-packages/pandas/io/pickle.pyc\u001b[0m in \u001b[0;36mtry_read\u001b[1;34m(path, encoding)\u001b[0m\n\u001b[0;32m     59\u001b[0m             \u001b[1;31m# compat pickle\u001b[0m\u001b[1;33m\u001b[0m\u001b[1;33m\u001b[0m\u001b[0m\n\u001b[0;32m     60\u001b[0m             \u001b[1;32mexcept\u001b[0m\u001b[1;33m:\u001b[0m\u001b[1;33m\u001b[0m\u001b[0m\n\u001b[1;32m---> 61\u001b[1;33m                 \u001b[1;32mwith\u001b[0m \u001b[0mopen\u001b[0m\u001b[1;33m(\u001b[0m\u001b[0mpath\u001b[0m\u001b[1;33m,\u001b[0m \u001b[1;34m'rb'\u001b[0m\u001b[1;33m)\u001b[0m \u001b[1;32mas\u001b[0m \u001b[0mfh\u001b[0m\u001b[1;33m:\u001b[0m\u001b[1;33m\u001b[0m\u001b[0m\n\u001b[0m\u001b[0;32m     62\u001b[0m                     \u001b[1;32mreturn\u001b[0m \u001b[0mpc\u001b[0m\u001b[1;33m.\u001b[0m\u001b[0mload\u001b[0m\u001b[1;33m(\u001b[0m\u001b[0mfh\u001b[0m\u001b[1;33m,\u001b[0m \u001b[0mencoding\u001b[0m\u001b[1;33m=\u001b[0m\u001b[0mencoding\u001b[0m\u001b[1;33m,\u001b[0m \u001b[0mcompat\u001b[0m\u001b[1;33m=\u001b[0m\u001b[0mTrue\u001b[0m\u001b[1;33m)\u001b[0m\u001b[1;33m\u001b[0m\u001b[0m\n\u001b[0;32m     63\u001b[0m \u001b[1;33m\u001b[0m\u001b[0m\n",
      "\u001b[1;31mIOError\u001b[0m: [Errno 2] No such file or directory: 'https://github.com/biorack/metatlas/blob/master/metatlas/compounds/kbase_compounds_with_neutral_compound_information.pkl'"
     ]
    }
   ],
   "source": [
    "df2 = pd.read_pickle('https://github.com/biorack/metatlas/blob/master/metatlas/compounds/kbase_compounds_with_neutral_compound_information.pkl')"
   ]
  },
  {
   "cell_type": "code",
   "execution_count": null,
   "metadata": {
    "collapsed": true
   },
   "outputs": [],
   "source": [
    "# df = df.where((pd.notnull(metatlas_df)), None)\n"
   ]
  },
  {
   "cell_type": "code",
   "execution_count": null,
   "metadata": {
    "collapsed": false
   },
   "outputs": [],
   "source": [
    "# df = df[metatlas_df.metatlas_inchi_key != '']\n"
   ]
  },
  {
   "cell_type": "code",
   "execution_count": 15,
   "metadata": {
    "collapsed": false
   },
   "outputs": [
    {
     "data": {
      "text/html": [
       "<div>\n",
       "<table border=\"1\" class=\"dataframe\">\n",
       "  <thead>\n",
       "    <tr style=\"text-align: right;\">\n",
       "      <th></th>\n",
       "      <th>id</th>\n",
       "      <th>abbreviation</th>\n",
       "      <th>name</th>\n",
       "      <th>formula</th>\n",
       "      <th>mass</th>\n",
       "      <th>source</th>\n",
       "      <th>structure</th>\n",
       "      <th>charge</th>\n",
       "      <th>is_core</th>\n",
       "      <th>is_obsolete</th>\n",
       "      <th>...</th>\n",
       "      <th>pkb</th>\n",
       "      <th>abstract_compound</th>\n",
       "      <th>comprised_of</th>\n",
       "      <th>aliases</th>\n",
       "      <th>monoisotopoic_mw</th>\n",
       "      <th>num_radicals</th>\n",
       "      <th>metatlas_inchi</th>\n",
       "      <th>metatlas_inchi_key</th>\n",
       "      <th>flat_inchi</th>\n",
       "      <th>flat_inchikey</th>\n",
       "    </tr>\n",
       "  </thead>\n",
       "  <tbody>\n",
       "    <tr>\n",
       "      <th>0</th>\n",
       "      <td>cpd00001</td>\n",
       "      <td>h2o</td>\n",
       "      <td>H2O</td>\n",
       "      <td></td>\n",
       "      <td>18</td>\n",
       "      <td>ModelSEED</td>\n",
       "      <td>InChI=1S/H2O/h1H2</td>\n",
       "      <td>NaN</td>\n",
       "      <td>1</td>\n",
       "      <td>0</td>\n",
       "      <td>...</td>\n",
       "      <td>1:-1.8</td>\n",
       "      <td>null</td>\n",
       "      <td>null</td>\n",
       "      <td>null</td>\n",
       "      <td>0.000000</td>\n",
       "      <td>0.0</td>\n",
       "      <td></td>\n",
       "      <td></td>\n",
       "      <td></td>\n",
       "      <td></td>\n",
       "    </tr>\n",
       "    <tr>\n",
       "      <th>1</th>\n",
       "      <td>cpd00002</td>\n",
       "      <td>atp</td>\n",
       "      <td>ATP</td>\n",
       "      <td>C10H16N5O13P3</td>\n",
       "      <td>504</td>\n",
       "      <td>ModelSEED</td>\n",
       "      <td>InChI=1S/C10H16N5O13P3/c11-8-5-9(13-2-12-8)15(3-14-5)10-7(17)6(16)4(26-10)1-25-30(21,22)28-31(23,24)27-29(18,19)20/h2-4,6-7,10,16-17H,1H2,(H,21,22)(H,23,24)(H2,11,12,13)(H2,18,19,20)/t4-,6-,7-,10-/m1/s1</td>\n",
       "      <td>0.0</td>\n",
       "      <td>1</td>\n",
       "      <td>0</td>\n",
       "      <td>...</td>\n",
       "      <td>15:3.97;14:-3.66;6:-3.48;9:-9.18</td>\n",
       "      <td>null</td>\n",
       "      <td>null</td>\n",
       "      <td>null</td>\n",
       "      <td>506.995745</td>\n",
       "      <td>0.0</td>\n",
       "      <td>InChI=1S/C10H16N5O13P3/c11-8-5-9(13-2-12-8)15(3-14-5)10-7(17)6(16)4(26-10)1-25-30(21,22)28-31(23,24)27-29(18,19)20/h2-4,6-7,10,16-17H,1H2,(H,21,22)(H,23,24)(H2,11,12,13)(H2,18,19,20)/t4-,6-,7-,10-/m1/s1</td>\n",
       "      <td>ZKHQWZAMYRWXGA-KQYNXXCUSA-N</td>\n",
       "      <td>InChI=1S/C10H16N5O13P3/c11-8-5-9(13-2-12-8)15(3-14-5)10-7(17)6(16)4(26-10)1-25-30(21,22)28-31(23,24)27-29(18,19)20/h2-4,6-7,10,16-17H,1H2,(H,21,22)(H,23,24)(H2,11,12,13)(H2,18,19,20)</td>\n",
       "      <td>ZKHQWZAMYRWXGA-UHFFFAOYSA-N</td>\n",
       "    </tr>\n",
       "    <tr>\n",
       "      <th>2</th>\n",
       "      <td>cpd00003</td>\n",
       "      <td>nad</td>\n",
       "      <td>NAD</td>\n",
       "      <td>C21H28N7O14P2+</td>\n",
       "      <td>662</td>\n",
       "      <td>ModelSEED</td>\n",
       "      <td>InChI=1S/C21H27N7O14P2/c22-17-12-19(25-7-24-17)28(8-26-12)21-16(32)14(30)11(41-21)6-39-44(36,37)42-43(34,35)38-5-10-13(29)15(31)20(40-10)27-3-1-2-9(4-27)18(23)33/h1-4,7-8,10-11,13-16,20-21,29-32H,5-6H2,(H5-,22,23,24,25,33,34,35,36,37)/t10-,11-,13-,14-,15-,16-,20-,21-/m1/s1</td>\n",
       "      <td>1.0</td>\n",
       "      <td>1</td>\n",
       "      <td>0</td>\n",
       "      <td>...</td>\n",
       "      <td>6:-3.98;35:-3.66;25:-1.17;37:-3.48;41:3.94;43:-9.18</td>\n",
       "      <td>null</td>\n",
       "      <td>null</td>\n",
       "      <td>null</td>\n",
       "      <td>664.116398</td>\n",
       "      <td>0.0</td>\n",
       "      <td>InChI=1S/C21H27N7O14P2/c22-17-12-19(25-7-24-17)28(8-26-12)21-16(32)14(30)11(41-21)6-39-44(36,37)42-43(34,35)38-5-10-13(29)15(31)20(40-10)27-3-1-2-9(4-27)18(23)33/h1-4,7-8,10-11,13-16,20-21,29-32H,5-6H2,(H5-,22,23,24,25,33,34,35,36,37)/p+1/t10-,11-,13-,14-,15-,16-,20-,21-/m1/s1</td>\n",
       "      <td>BAWFJGJZGIEFAR-NNYOXOHSSA-O</td>\n",
       "      <td>InChI=1S/C21H27N7O14P2/c22-17-12-19(25-7-24-17)28(8-26-12)21-16(32)14(30)11(41-21)6-39-44(36,37)42-43(34,35)38-5-10-13(29)15(31)20(40-10)27-3-1-2-9(4-27)18(23)33/h1-4,7-8,10-11,13-16,20-21,29-32H,5-6H2,(H5-,22,23,24,25,33,34,35,36,37)/p+1</td>\n",
       "      <td>BAWFJGJZGIEFAR-UHFFFAOYSA-O</td>\n",
       "    </tr>\n",
       "    <tr>\n",
       "      <th>3</th>\n",
       "      <td>cpd00004</td>\n",
       "      <td>nadh</td>\n",
       "      <td>NADH</td>\n",
       "      <td>C21H29N7O14P2</td>\n",
       "      <td>663</td>\n",
       "      <td>ModelSEED</td>\n",
       "      <td>InChI=1S/C21H29N7O14P2/c22-17-12-19(25-7-24-17)28(8-26-12)21-16(32)14(30)11(41-21)6-39-44(36,37)42-43(34,35)38-5-10-13(29)15(31)20(40-10)27-3-1-2-9(4-27)18(23)33/h1,3-4,7-8,10-11,13-16,20-21,29-32H,2,5-6H2,(H2,23,33)(H,34,35)(H,36,37)(H2,22,24,25)/t10-,11-,13-,14-,15-,16-,20-,21-/m1/s1</td>\n",
       "      <td>0.0</td>\n",
       "      <td>1</td>\n",
       "      <td>0</td>\n",
       "      <td>...</td>\n",
       "      <td>36:-3.6;18:-3.51;14:-3.66;9:-3.48;15:3.94;6:-9.18</td>\n",
       "      <td>null</td>\n",
       "      <td>null</td>\n",
       "      <td>null</td>\n",
       "      <td>665.124772</td>\n",
       "      <td>0.0</td>\n",
       "      <td>InChI=1S/C21H29N7O14P2/c22-17-12-19(25-7-24-17)28(8-26-12)21-16(32)14(30)11(41-21)6-39-44(36,37)42-43(34,35)38-5-10-13(29)15(31)20(40-10)27-3-1-2-9(4-27)18(23)33/h1,3-4,7-8,10-11,13-16,20-21,29-32H,2,5-6H2,(H2,23,33)(H,34,35)(H,36,37)(H2,22,24,25)/t10-,11-,13-,14-,15-,16-,20-,21-/m1/s1</td>\n",
       "      <td>BOPGDPNILDQYTO-NNYOXOHSSA-N</td>\n",
       "      <td>InChI=1S/C21H29N7O14P2/c22-17-12-19(25-7-24-17)28(8-26-12)21-16(32)14(30)11(41-21)6-39-44(36,37)42-43(34,35)38-5-10-13(29)15(31)20(40-10)27-3-1-2-9(4-27)18(23)33/h1,3-4,7-8,10-11,13-16,20-21,29-32H,2,5-6H2,(H2,23,33)(H,34,35)(H,36,37)(H2,22,24,25)</td>\n",
       "      <td>BOPGDPNILDQYTO-UHFFFAOYSA-N</td>\n",
       "    </tr>\n",
       "    <tr>\n",
       "      <th>4</th>\n",
       "      <td>cpd00005</td>\n",
       "      <td>nadph</td>\n",
       "      <td>NADPH</td>\n",
       "      <td>C21H30N7O17P3</td>\n",
       "      <td>742</td>\n",
       "      <td>ModelSEED</td>\n",
       "      <td>InChI=1S/C21H30N7O17P3/c22-17-12-19(25-7-24-17)28(8-26-12)21-16(44-46(33,34)35)14(30)11(43-21)6-41-48(38,39)45-47(36,37)40-5-10-13(29)15(31)20(42-10)27-3-1-2-9(4-27)18(23)32/h1,3-4,7-8,10-11,13-16,20-21,29-31H,2,5-6H2,(H2,23,32)(H,36,37)(H,38,39)(H2,22,24,25)(H2,33,34,35)/t10-,11-,13-,14-,15-,16-,20-,21-/m1/s1</td>\n",
       "      <td>0.0</td>\n",
       "      <td>1</td>\n",
       "      <td>0</td>\n",
       "      <td>...</td>\n",
       "      <td>40:-3.6;12:-3.48;22:3.94;11:-9.18</td>\n",
       "      <td>null</td>\n",
       "      <td>null</td>\n",
       "      <td>null</td>\n",
       "      <td>745.091102</td>\n",
       "      <td>0.0</td>\n",
       "      <td>InChI=1S/C21H30N7O17P3/c22-17-12-19(25-7-24-17)28(8-26-12)21-16(44-46(33,34)35)14(30)11(43-21)6-41-48(38,39)45-47(36,37)40-5-10-13(29)15(31)20(42-10)27-3-1-2-9(4-27)18(23)32/h1,3-4,7-8,10-11,13-16,20-21,29-31H,2,5-6H2,(H2,23,32)(H,36,37)(H,38,39)(H2,22,24,25)(H2,33,34,35)/t10-,11-,13-,14-,15-,16-,20-,21-/m1/s1</td>\n",
       "      <td>ACFIXJIJDZMPPO-NNYOXOHSSA-N</td>\n",
       "      <td>InChI=1S/C21H30N7O17P3/c22-17-12-19(25-7-24-17)28(8-26-12)21-16(44-46(33,34)35)14(30)11(43-21)6-41-48(38,39)45-47(36,37)40-5-10-13(29)15(31)20(42-10)27-3-1-2-9(4-27)18(23)32/h1,3-4,7-8,10-11,13-16,20-21,29-31H,2,5-6H2,(H2,23,32)(H,36,37)(H,38,39)(H2,22,24,25)(H2,33,34,35)</td>\n",
       "      <td>ACFIXJIJDZMPPO-UHFFFAOYSA-N</td>\n",
       "    </tr>\n",
       "  </tbody>\n",
       "</table>\n",
       "<p>5 rows × 25 columns</p>\n",
       "</div>"
      ],
      "text/plain": [
       "         id abbreviation   name         formula mass     source                                                                                                                                                                                                                                                                                                                structure  charge  is_core  is_obsolete             ...                                                               pkb  abstract_compound comprised_of aliases monoisotopoic_mw num_radicals                                                                                                                                                                                                                                                                                                           metatlas_inchi           metatlas_inchi_key                                                                                                                                                                                                                                                                        flat_inchi                flat_inchikey\n",
       "0  cpd00001          h2o    H2O                   18  ModelSEED                                                                                                                                                                                                                                                                                                        InChI=1S/H2O/h1H2     NaN        1            0             ...                                                            1:-1.8               null         null    null         0.000000          0.0                                                                                                                                                                                                                                                                                                                                                                                                                                                                                                                                                                                                                                                                     \n",
       "1  cpd00002          atp    ATP   C10H16N5O13P3  504  ModelSEED                                                                                                               InChI=1S/C10H16N5O13P3/c11-8-5-9(13-2-12-8)15(3-14-5)10-7(17)6(16)4(26-10)1-25-30(21,22)28-31(23,24)27-29(18,19)20/h2-4,6-7,10,16-17H,1H2,(H,21,22)(H,23,24)(H2,11,12,13)(H2,18,19,20)/t4-,6-,7-,10-/m1/s1     0.0        1            0             ...                                  15:3.97;14:-3.66;6:-3.48;9:-9.18               null         null    null       506.995745          0.0                                                                                                               InChI=1S/C10H16N5O13P3/c11-8-5-9(13-2-12-8)15(3-14-5)10-7(17)6(16)4(26-10)1-25-30(21,22)28-31(23,24)27-29(18,19)20/h2-4,6-7,10,16-17H,1H2,(H,21,22)(H,23,24)(H2,11,12,13)(H2,18,19,20)/t4-,6-,7-,10-/m1/s1  ZKHQWZAMYRWXGA-KQYNXXCUSA-N                                                                                            InChI=1S/C10H16N5O13P3/c11-8-5-9(13-2-12-8)15(3-14-5)10-7(17)6(16)4(26-10)1-25-30(21,22)28-31(23,24)27-29(18,19)20/h2-4,6-7,10,16-17H,1H2,(H,21,22)(H,23,24)(H2,11,12,13)(H2,18,19,20)  ZKHQWZAMYRWXGA-UHFFFAOYSA-N\n",
       "2  cpd00003          nad    NAD  C21H28N7O14P2+  662  ModelSEED                                        InChI=1S/C21H27N7O14P2/c22-17-12-19(25-7-24-17)28(8-26-12)21-16(32)14(30)11(41-21)6-39-44(36,37)42-43(34,35)38-5-10-13(29)15(31)20(40-10)27-3-1-2-9(4-27)18(23)33/h1-4,7-8,10-11,13-16,20-21,29-32H,5-6H2,(H5-,22,23,24,25,33,34,35,36,37)/t10-,11-,13-,14-,15-,16-,20-,21-/m1/s1     1.0        1            0             ...               6:-3.98;35:-3.66;25:-1.17;37:-3.48;41:3.94;43:-9.18               null         null    null       664.116398          0.0                                    InChI=1S/C21H27N7O14P2/c22-17-12-19(25-7-24-17)28(8-26-12)21-16(32)14(30)11(41-21)6-39-44(36,37)42-43(34,35)38-5-10-13(29)15(31)20(40-10)27-3-1-2-9(4-27)18(23)33/h1-4,7-8,10-11,13-16,20-21,29-32H,5-6H2,(H5-,22,23,24,25,33,34,35,36,37)/p+1/t10-,11-,13-,14-,15-,16-,20-,21-/m1/s1  BAWFJGJZGIEFAR-NNYOXOHSSA-O                                    InChI=1S/C21H27N7O14P2/c22-17-12-19(25-7-24-17)28(8-26-12)21-16(32)14(30)11(41-21)6-39-44(36,37)42-43(34,35)38-5-10-13(29)15(31)20(40-10)27-3-1-2-9(4-27)18(23)33/h1-4,7-8,10-11,13-16,20-21,29-32H,5-6H2,(H5-,22,23,24,25,33,34,35,36,37)/p+1  BAWFJGJZGIEFAR-UHFFFAOYSA-O\n",
       "3  cpd00004         nadh   NADH   C21H29N7O14P2  663  ModelSEED                           InChI=1S/C21H29N7O14P2/c22-17-12-19(25-7-24-17)28(8-26-12)21-16(32)14(30)11(41-21)6-39-44(36,37)42-43(34,35)38-5-10-13(29)15(31)20(40-10)27-3-1-2-9(4-27)18(23)33/h1,3-4,7-8,10-11,13-16,20-21,29-32H,2,5-6H2,(H2,23,33)(H,34,35)(H,36,37)(H2,22,24,25)/t10-,11-,13-,14-,15-,16-,20-,21-/m1/s1     0.0        1            0             ...                 36:-3.6;18:-3.51;14:-3.66;9:-3.48;15:3.94;6:-9.18               null         null    null       665.124772          0.0                           InChI=1S/C21H29N7O14P2/c22-17-12-19(25-7-24-17)28(8-26-12)21-16(32)14(30)11(41-21)6-39-44(36,37)42-43(34,35)38-5-10-13(29)15(31)20(40-10)27-3-1-2-9(4-27)18(23)33/h1,3-4,7-8,10-11,13-16,20-21,29-32H,2,5-6H2,(H2,23,33)(H,34,35)(H,36,37)(H2,22,24,25)/t10-,11-,13-,14-,15-,16-,20-,21-/m1/s1  BOPGDPNILDQYTO-NNYOXOHSSA-N                           InChI=1S/C21H29N7O14P2/c22-17-12-19(25-7-24-17)28(8-26-12)21-16(32)14(30)11(41-21)6-39-44(36,37)42-43(34,35)38-5-10-13(29)15(31)20(40-10)27-3-1-2-9(4-27)18(23)33/h1,3-4,7-8,10-11,13-16,20-21,29-32H,2,5-6H2,(H2,23,33)(H,34,35)(H,36,37)(H2,22,24,25)  BOPGDPNILDQYTO-UHFFFAOYSA-N\n",
       "4  cpd00005        nadph  NADPH   C21H30N7O17P3  742  ModelSEED  InChI=1S/C21H30N7O17P3/c22-17-12-19(25-7-24-17)28(8-26-12)21-16(44-46(33,34)35)14(30)11(43-21)6-41-48(38,39)45-47(36,37)40-5-10-13(29)15(31)20(42-10)27-3-1-2-9(4-27)18(23)32/h1,3-4,7-8,10-11,13-16,20-21,29-31H,2,5-6H2,(H2,23,32)(H,36,37)(H,38,39)(H2,22,24,25)(H2,33,34,35)/t10-,11-,13-,14-,15-,16-,20-,21-/m1/s1     0.0        1            0             ...                                 40:-3.6;12:-3.48;22:3.94;11:-9.18               null         null    null       745.091102          0.0  InChI=1S/C21H30N7O17P3/c22-17-12-19(25-7-24-17)28(8-26-12)21-16(44-46(33,34)35)14(30)11(43-21)6-41-48(38,39)45-47(36,37)40-5-10-13(29)15(31)20(42-10)27-3-1-2-9(4-27)18(23)32/h1,3-4,7-8,10-11,13-16,20-21,29-31H,2,5-6H2,(H2,23,32)(H,36,37)(H,38,39)(H2,22,24,25)(H2,33,34,35)/t10-,11-,13-,14-,15-,16-,20-,21-/m1/s1  ACFIXJIJDZMPPO-NNYOXOHSSA-N  InChI=1S/C21H30N7O17P3/c22-17-12-19(25-7-24-17)28(8-26-12)21-16(44-46(33,34)35)14(30)11(43-21)6-41-48(38,39)45-47(36,37)40-5-10-13(29)15(31)20(42-10)27-3-1-2-9(4-27)18(23)32/h1,3-4,7-8,10-11,13-16,20-21,29-31H,2,5-6H2,(H2,23,32)(H,36,37)(H,38,39)(H2,22,24,25)(H2,33,34,35)  ACFIXJIJDZMPPO-UHFFFAOYSA-N\n",
       "\n",
       "[5 rows x 25 columns]"
      ]
     },
     "execution_count": 15,
     "metadata": {},
     "output_type": "execute_result"
    }
   ],
   "source": [
    "df.to_csv('kbase_compounds_with_neutral_compound_information.tab',sep='\\t',index=False)\n",
    "df.head()"
   ]
  },
  {
   "cell_type": "code",
   "execution_count": null,
   "metadata": {
    "collapsed": false
   },
   "outputs": [],
   "source": [
    "# idx = metatlas_df.metatlas_inchi_key.isin(df.metatlas_inchi_key)"
   ]
  },
  {
   "cell_type": "code",
   "execution_count": null,
   "metadata": {
    "collapsed": false
   },
   "outputs": [],
   "source": [
    "# not_found = metatlas_df[~idx]"
   ]
  },
  {
   "cell_type": "code",
   "execution_count": null,
   "metadata": {
    "collapsed": false
   },
   "outputs": [],
   "source": [
    "# not_found = not_found.drop_duplicates()"
   ]
  },
  {
   "cell_type": "code",
   "execution_count": null,
   "metadata": {
    "collapsed": false,
    "scrolled": false
   },
   "outputs": [],
   "source": [
    "# not_found.head(20)"
   ]
  },
  {
   "cell_type": "code",
   "execution_count": null,
   "metadata": {
    "collapsed": false
   },
   "outputs": [],
   "source": [
    "# not_found.to_csv('metatlas_compounds_not_found.csv')\n",
    "# not_found.to_pickle('metatlas_compounds_not_found.pkl')"
   ]
  },
  {
   "cell_type": "code",
   "execution_count": null,
   "metadata": {
    "collapsed": false
   },
   "outputs": [],
   "source": [
    "# not_found.shape"
   ]
  },
  {
   "cell_type": "code",
   "execution_count": null,
   "metadata": {
    "collapsed": true
   },
   "outputs": [],
   "source": []
  }
 ],
 "metadata": {
  "kernelspec": {
   "display_name": "Python 2",
   "language": "python",
   "name": "python2"
  },
  "language_info": {
   "codemirror_mode": {
    "name": "ipython",
    "version": 2
   },
   "file_extension": ".py",
   "mimetype": "text/x-python",
   "name": "python",
   "nbconvert_exporter": "python",
   "pygments_lexer": "ipython2",
   "version": "2.7.11"
  }
 },
 "nbformat": 4,
 "nbformat_minor": 0
}
