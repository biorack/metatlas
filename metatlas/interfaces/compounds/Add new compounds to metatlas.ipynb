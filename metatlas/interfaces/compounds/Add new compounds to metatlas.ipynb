{
 "cells": [
  {
   "cell_type": "code",
   "execution_count": 1,
   "metadata": {},
   "outputs": [],
   "source": [
    "import sys\n",
    "sys.path.insert(0,'/global/homes/b/bpb/repos/metatlas/')\n",
    "import metatlas.datastructures.metatlas_objects as metob\n",
    "# from metatlas.interfaces.compounds import structure_cleaning as metclean\n",
    "# from metatlas.tools import cheminfo\n",
    "from metatlas.interfaces.compounds import structure_cleaning as cleaning\n",
    "\n",
    "# import sys\n",
    "# sys.path.append('/global/project/projectdirs/openmsi/jupyterhub_libs/anaconda/lib/python2.7/site-packages')\n",
    "from rdkit import Chem\n",
    "from rdkit.Chem import Descriptors\n",
    "from rdkit.Chem import rdMolDescriptors\n",
    "from rdkit.Chem.Descriptors import ExactMolWt\n",
    "from rdkit import RDLogger\n",
    "RDLogger.DisableLog('rdApp.*')\n",
    "\n",
    "import numpy as np\n",
    "import pubchempy as pcp\n",
    "\n",
    "import pandas as pd"
   ]
  },
  {
   "cell_type": "code",
   "execution_count": 2,
   "metadata": {},
   "outputs": [
    {
     "name": "stdout",
     "output_type": "stream",
     "text": [
      "(217668, 3)\n"
     ]
    },
    {
     "data": {
      "text/html": [
       "<div>\n",
       "<style scoped>\n",
       "    .dataframe tbody tr th:only-of-type {\n",
       "        vertical-align: middle;\n",
       "    }\n",
       "\n",
       "    .dataframe tbody tr th {\n",
       "        vertical-align: top;\n",
       "    }\n",
       "\n",
       "    .dataframe thead th {\n",
       "        text-align: right;\n",
       "    }\n",
       "</style>\n",
       "<table border=\"1\" class=\"dataframe\">\n",
       "  <thead>\n",
       "    <tr style=\"text-align: right;\">\n",
       "      <th></th>\n",
       "      <th>inchi</th>\n",
       "      <th>inchi_key</th>\n",
       "      <th>name</th>\n",
       "    </tr>\n",
       "  </thead>\n",
       "  <tbody>\n",
       "    <tr>\n",
       "      <th>0</th>\n",
       "      <td>InChI=1S/C23H24O5/c1-23(2)12-11-16-18(28-23)14...</td>\n",
       "      <td>CDFJITYOZNLONM-UYRXBGFRSA-N</td>\n",
       "      <td>Praecanson A</td>\n",
       "    </tr>\n",
       "    <tr>\n",
       "      <th>1</th>\n",
       "      <td>InChI=1S/C21H19N3OS/c1-13-8-9-16(10-14(13)2)22...</td>\n",
       "      <td>JZEFBZMLAJEBMC-UHFFFAOYSA-N</td>\n",
       "      <td>AC1LKV71</td>\n",
       "    </tr>\n",
       "    <tr>\n",
       "      <th>2</th>\n",
       "      <td>InChI=1S/C20H17ClN2O4/c1-25-15-8-6-14(7-9-15)1...</td>\n",
       "      <td>BQGDCUBBCXAHON-UHFFFAOYSA-N</td>\n",
       "      <td>AC1LKV6I</td>\n",
       "    </tr>\n",
       "    <tr>\n",
       "      <th>3</th>\n",
       "      <td>InChI=1S/C23H47NO2/c1-3-4-5-13-16-20(2)17-14-1...</td>\n",
       "      <td>MXSVVKSZJQKNBC-AVAPBHFXSA-N</td>\n",
       "      <td>Penazetidine A</td>\n",
       "    </tr>\n",
       "    <tr>\n",
       "      <th>4</th>\n",
       "      <td>InChI=1S/C2N2/c3-1-2-4</td>\n",
       "      <td>JMANVNJQNLATNU-UHFFFAOYSA-N</td>\n",
       "      <td>CYANOGEN</td>\n",
       "    </tr>\n",
       "  </tbody>\n",
       "</table>\n",
       "</div>"
      ],
      "text/plain": [
       "                                               inchi  \\\n",
       "0  InChI=1S/C23H24O5/c1-23(2)12-11-16-18(28-23)14...   \n",
       "1  InChI=1S/C21H19N3OS/c1-13-8-9-16(10-14(13)2)22...   \n",
       "2  InChI=1S/C20H17ClN2O4/c1-25-15-8-6-14(7-9-15)1...   \n",
       "3  InChI=1S/C23H47NO2/c1-3-4-5-13-16-20(2)17-14-1...   \n",
       "4                             InChI=1S/C2N2/c3-1-2-4   \n",
       "\n",
       "                     inchi_key            name  \n",
       "0  CDFJITYOZNLONM-UYRXBGFRSA-N    Praecanson A  \n",
       "1  JZEFBZMLAJEBMC-UHFFFAOYSA-N        AC1LKV71  \n",
       "2  BQGDCUBBCXAHON-UHFFFAOYSA-N        AC1LKV6I  \n",
       "3  MXSVVKSZJQKNBC-AVAPBHFXSA-N  Penazetidine A  \n",
       "4  JMANVNJQNLATNU-UHFFFAOYSA-N        CYANOGEN  "
      ]
     },
     "execution_count": 2,
     "metadata": {},
     "output_type": "execute_result"
    }
   ],
   "source": [
    "cpd_df = pd.read_csv('/global/cfs/cdirs/metatlas/projects/unique_compounds.csv.gz',usecols=['name','inchi','inchi_key'])\n",
    "print(cpd_df.shape)\n",
    "cpd_df.head()"
   ]
  },
  {
   "cell_type": "code",
   "execution_count": 21,
   "metadata": {},
   "outputs": [
    {
     "data": {
      "text/plain": [
       "(176459, 20)"
      ]
     },
     "execution_count": 21,
     "metadata": {},
     "output_type": "execute_result"
    }
   ],
   "source": [
    "df.shape"
   ]
  },
  {
   "cell_type": "code",
   "execution_count": 22,
   "metadata": {},
   "outputs": [],
   "source": [
    "# df = pd.read_csv('/global/cfs/cdirs/metatlas/projects/spectral_libraries/deduplicated_merged_library/dm_msms_refs.tab',sep='\\t')\n",
    "# df"
   ]
  },
  {
   "cell_type": "code",
   "execution_count": 3,
   "metadata": {},
   "outputs": [],
   "source": [
    "df = pd.read_csv('/global/cfs/cdirs/metatlas/projects/spectral_libraries/deduplicated_merged_library/dm_msms_refs.tab',sep='\\t',usecols=['name','inchi_key','inchi','smiles','precursor_mz','spectrum','database','polarity'])\n"
   ]
  },
  {
   "cell_type": "code",
   "execution_count": 4,
   "metadata": {},
   "outputs": [
    {
     "data": {
      "text/plain": [
       "0"
      ]
     },
     "execution_count": 4,
     "metadata": {},
     "output_type": "execute_result"
    }
   ],
   "source": [
    "df.drop_duplicates('inchi_key',inplace=True)\n",
    "df = df[~df['inchi_key'].isin(cpd_df['inchi_key'])]\n",
    "# df.set_index('inchi_key',inplace=True)\n",
    "sum(pd.isna(df['inchi']))"
   ]
  },
  {
   "cell_type": "code",
   "execution_count": 11,
   "metadata": {},
   "outputs": [
    {
     "data": {
      "text/plain": [
       "(11776, 8)"
      ]
     },
     "execution_count": 11,
     "metadata": {},
     "output_type": "execute_result"
    }
   ],
   "source": [
    "df.shape"
   ]
  },
  {
   "cell_type": "code",
   "execution_count": 10,
   "metadata": {},
   "outputs": [
    {
     "data": {
      "text/plain": [
       "0"
      ]
     },
     "execution_count": 10,
     "metadata": {},
     "output_type": "execute_result"
    }
   ],
   "source": [
    "sum(df['name'].apply(len)<1)"
   ]
  },
  {
   "cell_type": "code",
   "execution_count": 13,
   "metadata": {},
   "outputs": [
    {
     "data": {
      "text/plain": [
       "{'chebi_id': '',\n",
       " 'chebi_url': '',\n",
       " 'creation_time': '2023-01-12T12:55:19',\n",
       " 'description': 'No description',\n",
       " 'formula': '',\n",
       " 'head_id': '951f04a05aa9461b97d97f7beac9ddea',\n",
       " 'hmdb_id': '',\n",
       " 'hmdb_url': '',\n",
       " 'img_abc_id': '',\n",
       " 'inchi': '',\n",
       " 'inchi_key': '',\n",
       " 'iupac_name': '',\n",
       " 'kegg_id': '',\n",
       " 'kegg_url': '',\n",
       " 'last_modified': '2023-01-12T12:55:19',\n",
       " 'lipidmaps_id': '',\n",
       " 'lipidmaps_url': '',\n",
       " 'metacyc_id': '',\n",
       " 'mono_isotopic_molecular_weight': 0.0,\n",
       " 'name': 'Untitled',\n",
       " 'neutralized_2d_inchi': '',\n",
       " 'neutralized_2d_inchi_key': '',\n",
       " 'neutralized_inchi': '',\n",
       " 'neutralized_inchi_key': '',\n",
       " 'num_free_radicals': 0,\n",
       " 'number_components': 0,\n",
       " 'permanent_charge': 0,\n",
       " 'prev_uid': '',\n",
       " 'pubchem_compound_id': '',\n",
       " 'pubchem_url': '',\n",
       " 'source': '',\n",
       " 'synonyms': '',\n",
       " 'unique_id': '951f04a05aa9461b97d97f7beac9ddea',\n",
       " 'username': 'bpb',\n",
       " 'wikipedia_url': ''}"
      ]
     },
     "execution_count": 13,
     "metadata": {},
     "output_type": "execute_result"
    }
   ],
   "source": [
    "metob.Compound()"
   ]
  },
  {
   "cell_type": "code",
   "execution_count": 17,
   "metadata": {},
   "outputs": [],
   "source": [
    "compounds = []\n",
    "for i,row in df.iterrows():\n",
    "    mol = Chem.MolFromInchi(row['inchi'])\n",
    "    computed_inchi = Chem.MolToInchi(mol)\n",
    "    computed_ik = Chem.InchiToInchiKey(computed_inchi)\n",
    "    if computed_ik!=row['inchi_key']:\n",
    "        print(i)\n",
    "        # This should never happen, but good to check\n",
    "    comp = metob.Compound()\n",
    "    comp.name = row['name']\n",
    "    comp.inchi = row['inchi']\n",
    "    comp.inchi_key = row['inchi_key']\n",
    "    comp.formula = Chem.rdMolDescriptors.CalcMolFormula(mol)\n",
    "    comp.mono_isotopic_molecular_weight = ExactMolWt(mol)\n",
    "    comp.permanent_charge = Chem.GetFormalCharge(mol)\n",
    "    # comp.number_components = comp.number_components or 1  # type: ignore\n",
    "    # comp.num_free_radicals = comp.num_free_radicals or Chem.Descriptors.NumRadicalElectrons(norm_mol)\n",
    "    compounds.append(comp)"
   ]
  },
  {
   "cell_type": "code",
   "execution_count": 19,
   "metadata": {},
   "outputs": [],
   "source": [
    "metob.store(compounds)"
   ]
  },
  {
   "cell_type": "code",
   "execution_count": null,
   "metadata": {},
   "outputs": [],
   "source": []
  },
  {
   "cell_type": "code",
   "execution_count": null,
   "metadata": {},
   "outputs": [],
   "source": []
  },
  {
   "cell_type": "code",
   "execution_count": null,
   "metadata": {},
   "outputs": [],
   "source": []
  },
  {
   "cell_type": "markdown",
   "metadata": {},
   "source": [
    "# get new inchi for missing ones"
   ]
  },
  {
   "cell_type": "code",
   "execution_count": 5,
   "metadata": {},
   "outputs": [],
   "source": [
    "iks = df.loc[pd.isna(df['inchi']),'inchi_key'].tolist()\n",
    "# iks = iks[:3]\n",
    "df_no_inchi = pcp.get_properties(['inchi', 'inchikey'], iks, 'inchikey', as_dataframe=True)\n",
    "df_no_inchi.rename(columns={'InChI':'inchi','InChIKey':'inchi_key'},inplace=True)\n",
    "# df_no_inchi.set_index('inchi_key',inplace=True)\n",
    "for i,row in df_no_inchi.iterrows():\n",
    "    df.loc[df['inchi_key']==row['inchi_key'],'inchi'] = row['inchi']\n",
    "# df.update(df_no_inchi)#[df_no_inchi['inchi_key'].tolist(),'inchi'] = df_no_inchi['inchi']\n"
   ]
  },
  {
   "cell_type": "code",
   "execution_count": 6,
   "metadata": {},
   "outputs": [
    {
     "data": {
      "text/plain": [
       "172"
      ]
     },
     "execution_count": 6,
     "metadata": {},
     "output_type": "execute_result"
    }
   ],
   "source": [
    "sum(pd.isna(df['inchi']))"
   ]
  },
  {
   "cell_type": "code",
   "execution_count": 7,
   "metadata": {},
   "outputs": [],
   "source": [
    "cids = []\n",
    "linker = []\n",
    "for ik in df.loc[pd.isna(df['inchi']),'inchi_key'].tolist():\n",
    "    temp = pcp.get_cids(ik, 'inchikey', 'compound', list_return='flat')\n",
    "    for t in temp:\n",
    "        linker.append({'inchi_key':ik,'cid':t})\n",
    "    cids.extend(temp)\n",
    "    \n",
    "df_no_inchi = pcp.get_properties(['inchi', 'inchikey'], cids, 'cid', as_dataframe=True,)\n",
    "df_no_inchi = pd.merge(df_no_inchi,pd.DataFrame(linker),left_index=True,right_on='cid')\n",
    "for i,row in df_no_inchi.iterrows():\n",
    "    df.loc[df['inchi_key']==row['inchi_key'],'inchi'] = row['InChI']"
   ]
  },
  {
   "cell_type": "code",
   "execution_count": 8,
   "metadata": {},
   "outputs": [
    {
     "data": {
      "text/plain": [
       "158"
      ]
     },
     "execution_count": 8,
     "metadata": {},
     "output_type": "execute_result"
    }
   ],
   "source": [
    "sum(pd.isna(df['inchi']))"
   ]
  },
  {
   "cell_type": "code",
   "execution_count": 9,
   "metadata": {},
   "outputs": [],
   "source": [
    "cids = []\n",
    "linker = []\n",
    "for name in df.loc[pd.isna(df['inchi']),'name'].tolist():\n",
    "    temp = pcp.get_cids(name, 'name', 'substance', list_return='flat')\n",
    "    for t in temp:\n",
    "        linker.append({'name':name,'cid':t})\n",
    "    cids.extend(temp)\n",
    "\n",
    "df_no_inchi = pcp.get_properties(['inchi', 'inchikey'], cids, 'cid', as_dataframe=True,)\n",
    "df_no_inchi = pd.merge(df_no_inchi,pd.DataFrame(linker),left_index=True,right_on='cid')\n",
    "df_no_inchi.drop_duplicates('name',inplace=True)\n",
    "for i,row in df_no_inchi.iterrows():\n",
    "    df.loc[df['name']==row['name'],'inchi'] = row['InChI']"
   ]
  },
  {
   "cell_type": "code",
   "execution_count": 10,
   "metadata": {},
   "outputs": [
    {
     "data": {
      "text/plain": [
       "35"
      ]
     },
     "execution_count": 10,
     "metadata": {},
     "output_type": "execute_result"
    }
   ],
   "source": [
    "sum(pd.isna(df['inchi']))"
   ]
  },
  {
   "cell_type": "code",
   "execution_count": 11,
   "metadata": {},
   "outputs": [],
   "source": [
    "df[pd.isna(df['inchi'])].to_csv('compounds that I can not find.csv',index=None)"
   ]
  },
  {
   "cell_type": "code",
   "execution_count": 12,
   "metadata": {},
   "outputs": [
    {
     "name": "stdout",
     "output_type": "stream",
     "text": [
      "(12797, 8)\n",
      "(12762, 8)\n"
     ]
    }
   ],
   "source": [
    "print(df.shape)\n",
    "df = df[pd.notna(df['inchi'])]\n",
    "print(df.shape)"
   ]
  },
  {
   "cell_type": "code",
   "execution_count": 13,
   "metadata": {
    "tags": []
   },
   "outputs": [
    {
     "name": "stdout",
     "output_type": "stream",
     "text": [
      "(12762, 9)\n",
      "(12762, 9)\n",
      "Using original mol.  Failed for  database                                             GNPS-LIBRARY\n",
      "name                                                   Heme B M+H\n",
      "spectrum        [[51.28997, 58.88598, 59.36004, 62.96975, 64.7...\n",
      "precursor_mz                                              616.188\n",
      "polarity                                                 Positive\n",
      "inchi_key                             RNQMHXMGXVQRMV-UHFFFAOYSA-J\n",
      "inchi           InChI=1S/C34H34N4O4.Fe/c1-7-21-17(3)25-13-26-1...\n",
      "smiles          C=Cc1c(C)c2cc3[n-]c(cc4nc(cc5nc(cc1[n-]2)C(C)=...\n",
      "mol              <rdkit.Chem.rdchem.Mol object at 0x14a73c7186d0>\n",
      "Name: 134853, dtype: object\n",
      "Using original mol.  Failed for  database                                             GNPS-LIBRARY\n",
      "name                                       4-N-methyllyaloside M+\n",
      "spectrum        [[87.30630, 90.08881, 94.15279, 98.25227, 113....\n",
      "precursor_mz                                              541.219\n",
      "polarity                                                 Positive\n",
      "inchi_key                             GXKSDIFDAFRNGH-LBMYEAATSA-O\n",
      "inchi           InChI=1S/C28H32N2O9/c1-4-14-17(11-20-22-16(9-1...\n",
      "smiles          C=C[C@H]1[C@H](O[C@@H]2O[C@H](CO)[C@@H](O)[C@H...\n",
      "mol              <rdkit.Chem.rdchem.Mol object at 0x14a73c74e970>\n",
      "Name: 135502, dtype: object\n",
      "Using original mol.  Failed for  database                                             GNPS-LIBRARY\n",
      "name                                          Smenathiazole A M+H\n",
      "spectrum        [[70.06542, 86.00640, 91.05534, 119.08600, 145...\n",
      "precursor_mz                                              462.198\n",
      "polarity                                                 Positive\n",
      "inchi_key                             LFMFFFFYZMXHNI-DZKKHAQYSA-O\n",
      "inchi           InChI=1S/C24H32ClN3O2S/c1-5-6-7-9-19(16-25)12-...\n",
      "smiles          C#CCCC/C(=C/Cl)C/C=C(\\C)C(O)=NC(C(=O)N1CCCC1c1...\n",
      "mol              <rdkit.Chem.rdchem.Mol object at 0x14a73cc0a430>\n",
      "Name: 135756, dtype: object\n",
      "Using original mol.  Failed for  database                                             GNPS-LIBRARY\n",
      "name                                          Smenathiazole B M+H\n",
      "spectrum        [[70.06582, 71.06879, 72.08095, 86.00653, 87.0...\n",
      "precursor_mz                                              486.197\n",
      "polarity                                                 Positive\n",
      "inchi_key                             ISCCMPZDUXGWLH-QABDXITQSA-O\n",
      "inchi           InChI=1S/C26H32ClN3O2S/c1-18(2)23(26(32)30-14-...\n",
      "smiles          C/C(=C\\C/C(=C\\Cl)Cc1ccccc1)C(O)=NC(C(=O)N1CCCC...\n",
      "mol              <rdkit.Chem.rdchem.Mol object at 0x14a73cc0a3c0>\n",
      "Name: 135757, dtype: object\n",
      "Using original mol.  Failed for  database                                             GNPS-LIBRARY\n",
      "name                                 dehydrotsitsikammamine B M+H\n",
      "spectrum        [[45.03804, 59.24064, 76.08599, 93.56762, 123....\n",
      "precursor_mz                                                316.1\n",
      "polarity                                                 Positive\n",
      "inchi_key                             RJQCWKIVDYFXMI-UHFFFAOYSA-O\n",
      "inchi           InChI=1S/C19H13N3O2/c1-22-9-11-6-7-20-16-14(11...\n",
      "smiles          Cn1cc2cc[nH+]c3c2c1C(=O)c1[nH]cc(-c2ccc(O)cc2)...\n",
      "mol              <rdkit.Chem.rdchem.Mol object at 0x14a73cc0a2e0>\n",
      "Name: 135765, dtype: object\n",
      "Using original mol.  Failed for  database                                             GNPS-LIBRARY\n",
      "name                            6-methyl-propionate-alstonine  M+\n",
      "spectrum        [[107.04821, 108.05245, 115.05276, 117.05592, ...\n",
      "precursor_mz                                               435.19\n",
      "polarity                                                 Positive\n",
      "inchi_key                             RDZYHISHHTWWHO-LDCVWXEPSA-O\n",
      "inchi           InChI=1S/C24H24N2O5/c1-29-21(27)8-7-14-10-26-1...\n",
      "smiles          COC(=O)CCc1cn2c(c3[nH+]c4ccccc4c1-3)CC1C(C(=O)...\n",
      "mol              <rdkit.Chem.rdchem.Mol object at 0x14a73cd3b040>\n",
      "Name: 136185, dtype: object\n",
      "Using original mol.  Failed for  database                                             GNPS-LIBRARY\n",
      "name            hexamethylolmelamine pentamethyl ether (putati...\n",
      "spectrum        [[79.05415, 80.02446, 81.03321, 81.06990, 82.3...\n",
      "precursor_mz                                              377.213\n",
      "polarity                                                 Positive\n",
      "inchi_key                             JQALNNOQTGZTJZ-UHFFFAOYSA-O\n",
      "inchi           InChI=1S/C14H28N6O6/c1-22-7-18(6-21)12-15-13(1...\n",
      "smiles                 COCN(COC)c1nc(N(CO)COC)[nH+]c(N(COC)COC)n1\n",
      "mol              <rdkit.Chem.rdchem.Mol object at 0x14a73cd13040>\n",
      "Name: 136251, dtype: object\n",
      "Using original mol.  Failed for  database                                             GNPS-LIBRARY\n",
      "name                                           discorhabdin L M+H\n",
      "spectrum        [[84.97572, 86.98909, 106.02982, 108.04552, 11...\n",
      "precursor_mz                                              352.053\n",
      "polarity                                                 Positive\n",
      "inchi_key                             QJMJSLBHDYZDDN-UHFFFAOYSA-O\n",
      "inchi           InChI=1S/C18H13N3O3S/c22-7-3-8-18-4-9(25-8)20-...\n",
      "smiles          O=C1C2=[NH+]C3CC45C(=CC(=O)C(C4O)[NH+]4CCc6c[n...\n",
      "mol              <rdkit.Chem.rdchem.Mol object at 0x14a73c7edc10>\n",
      "Name: 138237, dtype: object\n",
      "Using original mol.  Failed for  database            GNPS-NIH-SMALLMOLECULEPHARMACOLOGICALLYACTIVE\n",
      "name            MLS002153353-01!3-Tropanylindole-3-carboxylate...\n",
      "spectrum        [[44.90045, 45.08876, 45.18899, 45.41807, 45.4...\n",
      "precursor_mz                                              299.177\n",
      "polarity                                                 Positive\n",
      "inchi_key                             FAVUCMGCKDICCE-UHFFFAOYSA-N\n",
      "inchi           InChI=1S/C18H22N2O2.HI/c1-20(2)12-7-8-13(20)10...\n",
      "smiles              C[N+]1(C)C2CCC1CC(OC(=O)c1c[n-]c3ccccc13)C2.I\n",
      "mol              <rdkit.Chem.rdchem.Mol object at 0x14a73d7d4820>\n",
      "Name: 146522, dtype: object\n",
      "Using original mol.  Failed for  database            GNPS-NIH-SMALLMOLECULEPHARMACOLOGICALLYACTIVE\n",
      "name                                 MLS001165733-01!losartan M+H\n",
      "spectrum        [[44.95288, 44.99575, 45.01979, 45.02914, 45.0...\n",
      "precursor_mz                                              423.169\n",
      "polarity                                                 Positive\n",
      "inchi_key                             OXCMYAYHXIHQOA-UHFFFAOYSA-N\n",
      "inchi           InChI=1S/C22H22ClN6O.K/c1-2-3-8-20-24-21(23)19...\n",
      "smiles          CCCCc1nc(Cl)c(CO)n1Cc1ccc(-c2ccccc2-c2nn[n-]n2...\n",
      "mol              <rdkit.Chem.rdchem.Mol object at 0x14a73d870dd0>\n",
      "Name: 146900, dtype: object\n",
      "Using original mol.  Failed for  database                                                    MIADB\n",
      "name                         3,4,5,6-tetradehydrogeissoschizol M+\n",
      "spectrum        [[101.03834, 102.04524, 103.05093, 104.05180, ...\n",
      "precursor_mz                                              293.165\n",
      "polarity                                                 Positive\n",
      "inchi_key                             ICJZOHPEKMAUGQ-SILLCRNTSA-O\n",
      "inchi           InChI=1S/C19H20N2O/c1-2-13-12-21-9-7-16-15-5-3...\n",
      "smiles                     C/C=C1/Cn2ccc3c4ccccc4[nH+]c-3c2CC1CCO\n",
      "mol              <rdkit.Chem.rdchem.Mol object at 0x14a73d20a900>\n",
      "Name: 152241, dtype: object\n",
      "Using original mol.  Failed for  database                                                    MIADB\n",
      "name                  3',4',5',6'-tetradehydrolongicaudatine Y M+\n",
      "spectrum        [[102.04623, 103.03716, 103.05284, 103.43838, ...\n",
      "precursor_mz                                              567.312\n",
      "polarity                                                 Positive\n",
      "inchi_key                             INVOSXVUPRCXKV-JGGOXZBPSA-O\n",
      "inchi           InChI=1S/C38H38N4O/c1-3-22-19-40-15-13-25-24-9...\n",
      "smiles          C/C=C1/Cn2ccc3c4ccccc4[nH+]c-3c2C[C@@H]1C1=CN2...\n",
      "mol              <rdkit.Chem.rdchem.Mol object at 0x14a73d20a970>\n",
      "Name: 152242, dtype: object\n",
      "Using original mol.  Failed for  database                                                    MIADB\n",
      "name                    3',4',5',6'-tetradehydrogeissospermine M+\n",
      "spectrum        [[100.07087, 100.07845, 100.10982, 100.14049, ...\n",
      "precursor_mz                                              629.349\n",
      "polarity                                                 Positive\n",
      "inchi_key                             NTYUVNILMFXXRA-SNDVQFAZSA-O\n",
      "inchi           InChI=1S/C40H44N4O3/c1-4-23-21-43-17-15-40-30-...\n",
      "smiles          C/C=C1/Cn2ccc3c4ccccc4[nH+]c-3c2C[C@@H]1[C@@H]...\n",
      "mol              <rdkit.Chem.rdchem.Mol object at 0x14a73d20a9e0>\n",
      "Name: 152243, dtype: object\n",
      "Using original mol.  Failed for  database                                                    MIADB\n",
      "name                                                Serpentine M+\n",
      "spectrum        [[205.07548, 206.08348, 207.09105, 208.09450, ...\n",
      "precursor_mz                                              349.155\n",
      "polarity                                                 Positive\n",
      "inchi_key                             WYTGDNHDOZPMIW-VBNZEHGJSA-O\n",
      "inchi           InChI=1S/C21H20N2O3/c1-12-16-10-23-8-7-14-13-5...\n",
      "smiles          COC(=O)C1=CO[C@@H](C)[C@H]2Cn3ccc4c5ccccc5[nH+...\n",
      "mol              <rdkit.Chem.rdchem.Mol object at 0x14a73c947660>\n",
      "Name: 152355, dtype: object\n",
      "Using original mol.  Failed for  database                                                 BMDMS-NP\n",
      "name            (1Z,6Z,12Z,17Z)-2,7,12,17-tetrakis(4-methoxyph...\n",
      "spectrum                              [[486.86301], [1000.00000]]\n",
      "precursor_mz                                               792.21\n",
      "polarity                                                 Positive\n",
      "inchi_key                             QBCIMRXPMLWVML-UHFFFAOYSA-N\n",
      "inchi           InChI=1S/C48H36N4O4.Co/c1-53-33-13-5-29(6-14-3...\n",
      "smiles          COc1ccc(-c2c3nc(c(-c4ccc(OC)cc4)c4ccc([n-]4)c(...\n",
      "mol              <rdkit.Chem.rdchem.Mol object at 0x14a73d277120>\n",
      "Name: 159392, dtype: object\n",
      "Using original mol.  Failed for  database                                                     MONA\n",
      "name                                      PILOCARPINE NITRATE M+K\n",
      "spectrum           [[197.98000, 229.03999], [32.59119, 25.07500]]\n",
      "precursor_mz                                              310.127\n",
      "polarity                                                 positive\n",
      "inchi_key                             FQTIRVOROACNDP-GNAZCLTHSA-O\n",
      "inchi           InChI=1S/C11H16N2O2.NO3/c1-3-10-8(6-15-11(10)1...\n",
      "smiles          CC[C@@H]1C(=O)OC[C@@H]1Cc1c[nH+]cn1C.O=[N+]([O...\n",
      "mol              <rdkit.Chem.rdchem.Mol object at 0x14a73d54fb30>\n",
      "Name: 168671, dtype: object\n",
      "Using original mol.  Failed for  database                                                  RESPECT\n",
      "name                           ReSpect:PM015405 Chlorophyll b M+H\n",
      "spectrum                               [[906.00000], [100.00000]]\n",
      "precursor_mz                                                906.0\n",
      "polarity                                                 Positive\n",
      "inchi_key                             MSLKMRUEVOYOOZ-VBYMZDBQSA-M\n",
      "inchi           InChI=1S/C55H72N4O6.Mg/c1-12-38-35(8)42-27-43-...\n",
      "smiles          C=Cc1c(C)c2[n-]c1=CC1=NC(=C(CC)C1=CO)C=C1N=C3C...\n",
      "mol              <rdkit.Chem.rdchem.Mol object at 0x14a73d6110b0>\n",
      "Name: 175519, dtype: object\n",
      "Using original mol.  Failed for  database                                                  RESPECT\n",
      "name                          ReSpect:PM015406 Chlorophyll b' M+H\n",
      "spectrum                               [[906.00000], [100.00000]]\n",
      "precursor_mz                                                906.0\n",
      "polarity                                                 Positive\n",
      "inchi_key                             MSLKMRUEVOYOOZ-PHJTYWOBSA-M\n",
      "inchi           InChI=1S/C55H72N4O6.Mg/c1-12-38-35(8)42-27-43-...\n",
      "smiles          C=Cc1c(C)c2[n-]c1=CC1=NC(=C(CC)C1=CO)C=C1N=C3C...\n",
      "mol              <rdkit.Chem.rdchem.Mol object at 0x14a73d611120>\n",
      "Name: 175520, dtype: object\n",
      "Using original mol.  Failed for  database                                                  RESPECT\n",
      "name                           ReSpect:PM015410 Chlorophyll a M+H\n",
      "spectrum                               [[892.00000], [100.00000]]\n",
      "precursor_mz                                                892.0\n",
      "polarity                                                 Positive\n",
      "inchi_key                             SYHZSPMCAROBPW-AENOIHSZSA-M\n",
      "inchi           InChI=1S/C55H74N4O5.Mg/c1-13-39-35(8)42-28-44-...\n",
      "smiles          C=Cc1c(C)c2cc3nc(c4c5nc(cc6[nH]c(cc1[n-]2)c(C)...\n",
      "mol              <rdkit.Chem.rdchem.Mol object at 0x14a73d611190>\n",
      "Name: 175521, dtype: object\n",
      "Using original mol.  Failed for  database                                                  RESPECT\n",
      "name            ReSpect:PS070801 Chlorophyll a from Chlorella ...\n",
      "spectrum        [[892.00000, 893.00000, 894.00000, 895.00000],...\n",
      "precursor_mz                                               892.98\n",
      "polarity                                                 Positive\n",
      "inchi_key                             ATNHDLDRLWWWCB-UHFFFAOYSA-M\n",
      "inchi           InChI=1S/C55H73N4O5.Mg/c1-13-39-35(8)42-28-44-...\n",
      "smiles          C=Cc1c(C)c2cc3nc(c4c5nc(cc6[n-]c(cc1[nH]2)c(C)...\n",
      "mol              <rdkit.Chem.rdchem.Mol object at 0x14a73d6182e0>\n",
      "Name: 175977, dtype: object\n",
      "Using original mol.  Failed for  database                                                  RESPECT\n",
      "name            ReSpect:PS070901 Chlorophyll b from Chlorella ...\n",
      "spectrum        [[906.00000, 907.00000, 908.00000], [93.00000,...\n",
      "precursor_mz                                               906.95\n",
      "polarity                                                 Positive\n",
      "inchi_key                             NSMUHPMZFPKNMZ-UHFFFAOYSA-M\n",
      "inchi           InChI=1S/C55H71N4O6.Mg/c1-12-38-35(8)42-27-43-...\n",
      "smiles          C=Cc1c(C)c2[n-]c1=CC1=NC(=C(CC)C1=CO)C=C1N=C3C...\n",
      "mol              <rdkit.Chem.rdchem.Mol object at 0x14a73d618350>\n",
      "Name: 175978, dtype: object\n"
     ]
    }
   ],
   "source": [
    "df['mol'] = df['inchi'].apply(Chem.MolFromInchi)\n",
    "print(df.shape)\n",
    "df = df[pd.notna(df['inchi'])]\n",
    "print(df.shape)\n",
    "n = []\n",
    "for i,row in df.iterrows():\n",
    "    try:\n",
    "        desalted, _ = cleaning.desalt(row['mol'])\n",
    "        m, _ = cleaning.NeutraliseCharges(desalted)\n",
    "    except:\n",
    "        print('Using original mol.  Failed for ',row)\n",
    "        m = row['mol']\n",
    "    n.append(m)\n",
    "df['normalized_mol'] = n"
   ]
  },
  {
   "cell_type": "code",
   "execution_count": 16,
   "metadata": {},
   "outputs": [],
   "source": [
    "df['norm_inchi'] = df['normalized_mol'].apply(Chem.MolToInchi)\n",
    "df['norm_ik'] = df['norm_inchi'].apply(Chem.InchiToInchiKey)"
   ]
  },
  {
   "cell_type": "code",
   "execution_count": 17,
   "metadata": {},
   "outputs": [
    {
     "data": {
      "text/plain": [
       "(1144, (12762, 12))"
      ]
     },
     "execution_count": 17,
     "metadata": {},
     "output_type": "execute_result"
    }
   ],
   "source": [
    "sum(df['norm_ik'].isin(cpd_df['inchi_key'])),df.shape"
   ]
  },
  {
   "cell_type": "markdown",
   "metadata": {},
   "source": [
    "# Get the ones that need to be added to metatlas"
   ]
  },
  {
   "cell_type": "code",
   "execution_count": 18,
   "metadata": {},
   "outputs": [
    {
     "data": {
      "text/html": [
       "<div>\n",
       "<style scoped>\n",
       "    .dataframe tbody tr th:only-of-type {\n",
       "        vertical-align: middle;\n",
       "    }\n",
       "\n",
       "    .dataframe tbody tr th {\n",
       "        vertical-align: top;\n",
       "    }\n",
       "\n",
       "    .dataframe thead th {\n",
       "        text-align: right;\n",
       "    }\n",
       "</style>\n",
       "<table border=\"1\" class=\"dataframe\">\n",
       "  <thead>\n",
       "    <tr style=\"text-align: right;\">\n",
       "      <th></th>\n",
       "      <th>database</th>\n",
       "      <th>name</th>\n",
       "      <th>spectrum</th>\n",
       "      <th>precursor_mz</th>\n",
       "      <th>polarity</th>\n",
       "      <th>inchi_key</th>\n",
       "      <th>inchi</th>\n",
       "      <th>smiles</th>\n",
       "      <th>mol</th>\n",
       "      <th>normalized_mol</th>\n",
       "      <th>norm_inchi</th>\n",
       "      <th>norm_ik</th>\n",
       "    </tr>\n",
       "  </thead>\n",
       "  <tbody>\n",
       "    <tr>\n",
       "      <th>126186</th>\n",
       "      <td>nist</td>\n",
       "      <td>NaN</td>\n",
       "      <td>[[310.09700, 338.12790, 495.22750, 496.23030, ...</td>\n",
       "      <td>538.2336</td>\n",
       "      <td>positive</td>\n",
       "      <td>ZHEHVZXPFVXKEY-KPNMDXRMSA-N</td>\n",
       "      <td>InChI=1S/C32H31N3O5/c1-3-4-5-10-15-39-30(37)32...</td>\n",
       "      <td>NaN</td>\n",
       "      <td>&lt;rdkit.Chem.rdchem.Mol object at 0x14a73ce30eb0&gt;</td>\n",
       "      <td>&lt;rdkit.Chem.rdchem.Mol object at 0x14a73cb7fb30&gt;</td>\n",
       "      <td>InChI=1S/C32H31N3O5/c1-3-4-5-10-15-39-30(37)32...</td>\n",
       "      <td>ZHEHVZXPFVXKEY-KPNMDXRMSA-N</td>\n",
       "    </tr>\n",
       "  </tbody>\n",
       "</table>\n",
       "</div>"
      ],
      "text/plain": [
       "       database name                                           spectrum  \\\n",
       "126186     nist  NaN  [[310.09700, 338.12790, 495.22750, 496.23030, ...   \n",
       "\n",
       "        precursor_mz  polarity                    inchi_key  \\\n",
       "126186      538.2336  positive  ZHEHVZXPFVXKEY-KPNMDXRMSA-N   \n",
       "\n",
       "                                                    inchi smiles  \\\n",
       "126186  InChI=1S/C32H31N3O5/c1-3-4-5-10-15-39-30(37)32...    NaN   \n",
       "\n",
       "                                                     mol  \\\n",
       "126186  <rdkit.Chem.rdchem.Mol object at 0x14a73ce30eb0>   \n",
       "\n",
       "                                          normalized_mol  \\\n",
       "126186  <rdkit.Chem.rdchem.Mol object at 0x14a73cb7fb30>   \n",
       "\n",
       "                                               norm_inchi  \\\n",
       "126186  InChI=1S/C32H31N3O5/c1-3-4-5-10-15-39-30(37)32...   \n",
       "\n",
       "                            norm_ik  \n",
       "126186  ZHEHVZXPFVXKEY-KPNMDXRMSA-N  "
      ]
     },
     "execution_count": 18,
     "metadata": {},
     "output_type": "execute_result"
    }
   ],
   "source": [
    "idx1 = df['norm_ik'].isin(cpd_df['inchi_key'])\n",
    "idx2 = pd.isna(df['name'])\n",
    "df[(~idx1) & (idx2)]"
   ]
  },
  {
   "cell_type": "code",
   "execution_count": null,
   "metadata": {},
   "outputs": [],
   "source": [
    "# Check that ExactMolWt(normalized_mol) + Adduct is the precursor"
   ]
  },
  {
   "cell_type": "code",
   "execution_count": null,
   "metadata": {},
   "outputs": [],
   "source": []
  },
  {
   "cell_type": "markdown",
   "metadata": {},
   "source": [
    "# OLD STUFF BELOW HERE.  COPY-PASTE AT YOUR OWN RISK!!!!!"
   ]
  },
  {
   "cell_type": "code",
   "execution_count": null,
   "metadata": {},
   "outputs": [],
   "source": []
  },
  {
   "cell_type": "code",
   "execution_count": null,
   "metadata": {},
   "outputs": [],
   "source": []
  },
  {
   "cell_type": "code",
   "execution_count": null,
   "metadata": {},
   "outputs": [],
   "source": []
  },
  {
   "cell_type": "code",
   "execution_count": null,
   "metadata": {},
   "outputs": [],
   "source": []
  },
  {
   "cell_type": "code",
   "execution_count": null,
   "metadata": {},
   "outputs": [],
   "source": []
  },
  {
   "cell_type": "code",
   "execution_count": null,
   "metadata": {},
   "outputs": [],
   "source": [
    "# df.loc[pd.isna(df['inchi']),['inchi_key','name','smiles']]\n",
    "df_no_inchi = pcp.get_properties(['inchi', 'inchikey'], df.loc[pd.isna(df['inchi']),'name'].tolist(), 'name', as_dataframe=True,)\n",
    "df_no_inchi\n",
    "# print('\\n'.join([p for p in df.loc[pd.isna(df['inchi']),'name']]))"
   ]
  },
  {
   "cell_type": "markdown",
   "metadata": {},
   "source": [
    "# neuatrlaze and desalt all inchi"
   ]
  },
  {
   "cell_type": "code",
   "execution_count": null,
   "metadata": {},
   "outputs": [],
   "source": [
    "row"
   ]
  },
  {
   "cell_type": "code",
   "execution_count": null,
   "metadata": {},
   "outputs": [],
   "source": [
    "df[idx]"
   ]
  },
  {
   "cell_type": "code",
   "execution_count": null,
   "metadata": {},
   "outputs": [],
   "source": []
  },
  {
   "cell_type": "code",
   "execution_count": null,
   "metadata": {},
   "outputs": [],
   "source": [
    "pd.merge(df,df_no_inchi,on='inchi_key')"
   ]
  },
  {
   "cell_type": "code",
   "execution_count": null,
   "metadata": {},
   "outputs": [],
   "source": []
  },
  {
   "cell_type": "code",
   "execution_count": null,
   "metadata": {},
   "outputs": [],
   "source": []
  },
  {
   "cell_type": "code",
   "execution_count": null,
   "metadata": {},
   "outputs": [],
   "source": [
    "def flatten_inchi(mol: Chem.rdchem.Mol) -> str:\n",
    "    smiles = Chem.MolToSmiles(mol).replace(\"@\", \"\")\n",
    "    flattened_rdkit_mol = Chem.MolFromSmiles(smiles)\n",
    "    try:\n",
    "        return Chem.MolToInchi(flattened_rdkit_mol)\n",
    "    except Exception:  # This fails when can't kekulize mol # pylint: disable=broad-except\n",
    "        logger.warning(\"failed to flatten a molecule\")\n",
    "        return \"\"\n",
    "\n",
    "comp = metob.Compound()\n",
    "for i,row in df_no_inchi.head(1).iterrows():\n",
    "    norm_mol = cheminfo.normalize_molecule(row['mol'])\n",
    "    if not comp.neutralized_inchi:\n",
    "        comp.neutralized_inchi = Chem.inchi.MolToInchi(norm_mol)\n",
    "    if not comp.neutralized_inchi_key:\n",
    "        comp.neutralized_inchi_key = Chem.inchi.InchiToInchiKey(comp.neutralized_inchi)\n",
    "    if not comp.neutralized_2d_inchi:\n",
    "        comp.neutralized_2d_inchi = flatten_inchi(norm_mol)  # type: ignore\n",
    "    if not comp.neutralized_2d_inchi_key:\n",
    "        comp.neutralized_2d_inchi_key = Chem.inchi.InchiToInchiKey(comp.neutralized_2d_inchi)\n",
    "    comp.inchi = Chem.MolToInchi(norm_mol)\n",
    "    comp.inchi_key = comp.inchi_key or Chem.inchi.InchiToInchiKey(comp.inchi)\n",
    "    comp.formula = comp.formula or Chem.rdMolDescriptors.CalcMolFormula(norm_mol)\n",
    "    comp.mono_isotopic_molecular_weight = comp.mono_isotopic_molecular_weight or ExactMolWt(norm_mol)\n",
    "    comp.permanent_charge = comp.permanent_charge or Chem.GetFormalCharge(norm_mol)\n",
    "    comp.number_components = comp.number_components or 1  # type: ignore\n",
    "    comp.num_free_radicals = comp.num_free_radicals or Chem.Descriptors.NumRadicalElectrons(norm_mol)\n",
    "comp"
   ]
  },
  {
   "cell_type": "code",
   "execution_count": null,
   "metadata": {},
   "outputs": [],
   "source": [
    "df_no_inchi"
   ]
  },
  {
   "cell_type": "code",
   "execution_count": null,
   "metadata": {},
   "outputs": [],
   "source": [
    "iks = df['inchi_key'].tolist()\n",
    "chunks = [iks[x:x+50] for x in range(0, len(iks), 50)]\n",
    "temp = []\n",
    "counter = 0\n",
    "for chunk_piece in chunks:\n",
    "    pubchem_compounds = pcp.get_compounds(chunk_piece, \"inchikey\",)\n",
    "    for c in pubchem_compounds:\n",
    "        if len(c.synonyms)>0:\n",
    "            name = c.synonyms[0]\n",
    "        else:\n",
    "            for p in c.record['props']:\n",
    "                if 'name' in p['urn'].keys():\n",
    "                    if p['urn']['name']=='Preferred':\n",
    "                        name = p['value']['sval']\n",
    "        temp.append({'smiles':c.isomeric_smiles,'inchi':c.inchi,'name':name,'inchi_key':c.inchikey})\n",
    "    counter += 1\n",
    "    print(counter)\n",
    "temp = pd.DataFrame(temp)"
   ]
  },
  {
   "cell_type": "code",
   "execution_count": null,
   "metadata": {},
   "outputs": [],
   "source": []
  },
  {
   "cell_type": "code",
   "execution_count": null,
   "metadata": {},
   "outputs": [],
   "source": []
  },
  {
   "cell_type": "code",
   "execution_count": null,
   "metadata": {},
   "outputs": [],
   "source": [
    "\n",
    "# def chunks(data: List[Any], num: int) -> Generator[List[Any], None, None]:\n",
    "#     \"\"\"Yield successive num-sized chunks from data.\"\"\"\n",
    "#     for i in range(0, len(data), num):\n",
    "#         yield data[i : i + num]\n",
    "        \n",
    "# def query_pubchem(inchi_key_list, items_per_query=50):\n",
    "#     out = []\n",
    "#     counter = 1\n",
    "#     for inchi_key_sub_list in chunks(inchi_key_list, items_per_query):\n",
    "#         out.extend(pcp.get_compounds(inchi_key_sub_list, \"inchikey\"))\n",
    "#         if counter % 5 == 0:\n",
    "#             time.sleep(1)\n",
    "#         counter = counter + 1\n",
    "#     return out\n",
    "\n",
    "\n",
    "# def get_pubchem_compound(inchi_key: str, pub_chem_results: List[pcp.Compound]) -> Optional[pcp.Compound]:\n",
    "#     for compound in pub_chem_results:\n",
    "#         if compound.inchikey == inchi_key:\n",
    "#             return compound\n",
    "#     return None\n"
   ]
  },
  {
   "cell_type": "code",
   "execution_count": null,
   "metadata": {},
   "outputs": [],
   "source": [
    " "
   ]
  },
  {
   "cell_type": "code",
   "execution_count": null,
   "metadata": {},
   "outputs": [],
   "source": [
    "temp"
   ]
  },
  {
   "cell_type": "code",
   "execution_count": null,
   "metadata": {},
   "outputs": [],
   "source": [
    "# df = pd.read_csv('/project/projectdirs/metatlas/projects/spectral_libraries/msmsrefs_nist20only.tab',sep='\\t',usecols=['name','smiles','inchi_key','inchi','formula','exact_mass'])\n",
    "# print(df.shape[0])\n",
    "# df.drop_duplicates('inchi_key',inplace=True)\n",
    "# print(df.shape[0])\n",
    "# df.dropna(subset=['inchi_key'],inplace=True)\n",
    "# print(df.shape[0])\n",
    "# print(df.shape[0])\n",
    "# df.head()"
   ]
  },
  {
   "cell_type": "code",
   "execution_count": null,
   "metadata": {},
   "outputs": [],
   "source": [
    "df.reset_index(drop=True,inplace=True)"
   ]
  },
  {
   "cell_type": "code",
   "execution_count": null,
   "metadata": {},
   "outputs": [],
   "source": [
    "def strip_non_ascii(string):\n",
    "    ''' Returns the string without non ASCII characters'''\n",
    "    stripped = (c for c in string if 0 < ord(c) < 127)\n",
    "    return ''.join(stripped)\n",
    "\n",
    "# import time\n",
    "# t0 = time.time()\n",
    "# compound_list = []\n",
    "counter = 0\n",
    "for i,row in df.iterrows():\n",
    "        compound = metob.Compound()\n",
    "        compound.name = strip_non_ascii(row['name'])#, \"utf-8\",errors='ignore'))\n",
    "    #     compound.description = unicode(df_row.Definition, \"utf-8\",errors='ignore')\n",
    "    #     compound.synonyms = strip_non_ascii(df_row.synonyms)#, \"utf-8\",errors='ignore'))\n",
    "        mol = Chem.MolFromInchi(row.inchi)\n",
    "        \n",
    "        formula = rdMolDescriptors.CalcMolFormula(mol)\n",
    "        mw = Descriptors.ExactMolWt(mol)\n",
    "        charge = Chem.GetFormalCharge(mol)\n",
    "        free_radicals = Descriptors.NumRadicalElectrons(mol)\n",
    "\n",
    "        compound.formula = formula\n",
    "        compound.mono_isotopic_molecular_weight = mw\n",
    "        compound.permanent_charge = charge\n",
    "    #     try:\n",
    "        compound.num_free_radicals = int(float(free_radicals))\n",
    "    #     except:\n",
    "    #         compound.num_free_radicals = int(float(max(df_row.num_radicals.split('///'))))\n",
    "    # #     compound.number_components = int(1)\n",
    "        ik = Chem.InchiToInchiKey(row.inchi)\n",
    "        \n",
    "        compound.inchi = row.inchi\n",
    "        compound.inchi_key = ik\n",
    "    #     compound.neutralized_2d_inchi = df_row.flat_inchi\n",
    "    #     compound.neutralized_2d_inchi_key = df_row.flat_inchikey\n",
    "    #     compound.neutralized_inchi = df_row.metatlas_inchi\n",
    "    #     compound.neutralized_inchi_key = df_row.metatlas_inchi_key\n",
    "\n",
    "        compound.source = 'nist20'#str(df_row.source_database)\n",
    "    #     for url_index,database in enumerate(database_list):\n",
    "    #         if getattr(df_row,database):\n",
    "    #             setattr(compound, database, str(getattr(df_row,database)) )\n",
    "    #             if url_list[url_index]:\n",
    "    #                 ids = str(getattr(df_row,database)).split('///')\n",
    "    #                 urls = []\n",
    "    #                 for my_id in ids:\n",
    "    #                     urls.append('%s%s'%(url_list[url_index],my_id))\n",
    "    #                     if 'pubchem' in database:\n",
    "    #                         setattr(compound, database.replace('_compound_id','_url'),'///'.join(urls) )\n",
    "    #                     else:\n",
    "    #                         setattr(compound, database.replace('_id','_url'),'///'.join(urls) )\n",
    "#         compound_list.append(compound)\n",
    "#         if ik!=row['inchi_key']:\n",
    "#             print(i)\n",
    "        metob.store(compound)\n",
    "        counter += 1\n",
    "        if counter == 100:\n",
    "            print(i)\n",
    "            counter = 0\n",
    "# print time.time() - t0"
   ]
  },
  {
   "cell_type": "code",
   "execution_count": null,
   "metadata": {},
   "outputs": [],
   "source": [
    "old_cpds = pd.read_csv('/project/projectdirs/metatlas/projects/unique_compounds.csv.gz')\n",
    "old_cpds.head()"
   ]
  },
  {
   "cell_type": "code",
   "execution_count": null,
   "metadata": {},
   "outputs": [],
   "source": [
    "# df = pd.read_pickle('/project/projectdirs/openmsi/projects/ben_run_pactolus/unique_compounds.pkl')\n",
    "# df = pd.read_csv('/global/homes/b/bpb/Downloads/NonMetAtlas-ENZO.csv')\n",
    "# df.rename(columns={'std_inchi_key':'metatlas_inchi_key',\n",
    "#                   'std_inchi':'metatlas_inchi',\n",
    "#                   'name':'common_name',\n",
    "#                   'source':'source_database'},inplace=True)\n",
    "cpds = [{'metatlas_inchi_key':'MUYNUOXIHSNESP-UHFFFAOYSA-N',\n",
    "      'metatlas_inchi':'InChI=1S/C12H12O12/c13-3-1-19-11-5(3)21-7(15)9(11,17)23-10(18)8(16)22-6-4(14)2-20-12(6,10)24-11/h3-6,13-14,17-18H,1-2H2',\n",
    "      'common_name':'Dehydroascorbic Acid Dimer',\n",
    "      'source_database':'ChEBI'}]\n",
    "df = pd.DataFrame(cpds)\n",
    "df.tail()"
   ]
  },
  {
   "cell_type": "code",
   "execution_count": null,
   "metadata": {},
   "outputs": [],
   "source": [
    "sum(df.metatlas_inchi_key.isin(old_cpds.inchi_key))"
   ]
  },
  {
   "cell_type": "code",
   "execution_count": null,
   "metadata": {},
   "outputs": [],
   "source": [
    "def strip_non_ascii(string):\n",
    "    ''' Returns the string without non ASCII characters'''\n",
    "    stripped = (c for c in string if 0 < ord(c) < 127)\n",
    "    return ''.join(stripped)\n",
    "\n",
    "import time\n",
    "t0 = time.time()\n",
    "# compound_list = []\n",
    "counter = 0\n",
    "for i,df_row in df.iterrows():\n",
    "    if not df_row.metatlas_inchi_key in old_cpds.inchi_key:\n",
    "        compound = metob.Compound()\n",
    "        compound.name = strip_non_ascii(df_row.common_name)#, \"utf-8\",errors='ignore'))\n",
    "    #     compound.description = unicode(df_row.Definition, \"utf-8\",errors='ignore')\n",
    "    #     compound.synonyms = strip_non_ascii(df_row.synonyms)#, \"utf-8\",errors='ignore'))\n",
    "        mol = Chem.MolFromInchi(df_row.metatlas_inchi)\n",
    "        \n",
    "        formula = rdMolDescriptors.CalcMolFormula(mol)\n",
    "        mw = Descriptors.ExactMolWt(mol)\n",
    "        charge = Chem.GetFormalCharge(mol)\n",
    "        free_radicals = Descriptors.NumRadicalElectrons(mol)\n",
    "\n",
    "        compound.formula = formula\n",
    "        compound.mono_isotopic_molecular_weight = mw\n",
    "        compound.permanent_charge = charge\n",
    "    #     try:\n",
    "        compound.num_free_radicals = int(float(free_radicals))\n",
    "    #     except:\n",
    "    #         compound.num_free_radicals = int(float(max(df_row.num_radicals.split('///'))))\n",
    "    # #     compound.number_components = int(1)\n",
    "\n",
    "        compound.inchi = df_row.metatlas_inchi\n",
    "        compound.inchi_key = df_row.metatlas_inchi_key\n",
    "    #     compound.neutralized_2d_inchi = df_row.flat_inchi\n",
    "    #     compound.neutralized_2d_inchi_key = df_row.flat_inchikey\n",
    "    #     compound.neutralized_inchi = df_row.metatlas_inchi\n",
    "    #     compound.neutralized_inchi_key = df_row.metatlas_inchi_key\n",
    "\n",
    "        compound.source = str(df_row.source_database)\n",
    "    #     for url_index,database in enumerate(database_list):\n",
    "    #         if getattr(df_row,database):\n",
    "    #             setattr(compound, database, str(getattr(df_row,database)) )\n",
    "    #             if url_list[url_index]:\n",
    "    #                 ids = str(getattr(df_row,database)).split('///')\n",
    "    #                 urls = []\n",
    "    #                 for my_id in ids:\n",
    "    #                     urls.append('%s%s'%(url_list[url_index],my_id))\n",
    "    #                     if 'pubchem' in database:\n",
    "    #                         setattr(compound, database.replace('_compound_id','_url'),'///'.join(urls) )\n",
    "    #                     else:\n",
    "    #                         setattr(compound, database.replace('_id','_url'),'///'.join(urls) )\n",
    "    # #     compound_list.append(compound)\n",
    "        metob.store(compound)\n",
    "        counter += 1\n",
    "        if counter == 100:\n",
    "            print i\n",
    "            counter = 0\n",
    "print time.time() - t0"
   ]
  },
  {
   "cell_type": "code",
   "execution_count": null,
   "metadata": {},
   "outputs": [],
   "source": [
    "compound"
   ]
  },
  {
   "cell_type": "code",
   "execution_count": null,
   "metadata": {},
   "outputs": [],
   "source": [
    "df.shape"
   ]
  },
  {
   "cell_type": "code",
   "execution_count": null,
   "metadata": {},
   "outputs": [],
   "source": [
    "database_list = ['chebi_id',\n",
    "                 'hmdb_id',\n",
    "                 'img_abc_id',\n",
    "                 'kegg_id',\n",
    "                 'lipidmaps_id',\n",
    "                 'metacyc_id',\n",
    "                 'pubchem_compound_id']\n",
    "url_list = [\n",
    "    'http://www.ebi.ac.uk/chebi/searchId.do?chebiId=',\n",
    "    'http://www.hmdb.ca/metabolites/',\n",
    "    '',\n",
    "    'http://www.genome.jp/dbget-bin/www_bget?',\n",
    "    'http://www.lipidmaps.org/data/LMSDRecord.php?LMID=',\n",
    "    '',\n",
    "    'http://pubchem.ncbi.nlm.nih.gov/compound/'\n",
    "]"
   ]
  },
  {
   "cell_type": "code",
   "execution_count": null,
   "metadata": {},
   "outputs": [],
   "source": [
    "def strip_non_ascii(string):\n",
    "    ''' Returns the string without non ASCII characters'''\n",
    "    stripped = (c for c in string if 0 < ord(c) < 127)\n",
    "    return ''.join(stripped)\n",
    "\n",
    "import time\n",
    "t0 = time.time()\n",
    "# compound_list = []\n",
    "counter = 0\n",
    "for i,df_row in df.iterrows():\n",
    "    compound = metob.Compound()\n",
    "    compound.name = strip_non_ascii(df_row.common_name)#, \"utf-8\",errors='ignore'))\n",
    "    compound.description = unicode(df_row.Definition, \"utf-8\",errors='ignore')\n",
    "    compound.synonyms = strip_non_ascii(df_row.synonyms)#, \"utf-8\",errors='ignore'))\n",
    "    \n",
    "    compound.formula = str(df_row.formula)\n",
    "    compound.mono_isotopic_molecular_weight = df_row.monoisotopic_mw\n",
    "    compound.permanent_charge = int(float(df_row.charge))\n",
    "    try:\n",
    "        compound.num_free_radicals = int(float(df_row.num_radicals))\n",
    "    except:\n",
    "        compound.num_free_radicals = int(float(max(df_row.num_radicals.split('///'))))\n",
    "    compound.number_components = int(1)\n",
    "    \n",
    "    compound.inchi = df_row.metatlas_inchi\n",
    "    compound.inchi_key = df_row.metatlas_inchi_key\n",
    "    compound.neutralized_2d_inchi = df_row.flat_inchi\n",
    "    compound.neutralized_2d_inchi_key = df_row.flat_inchikey\n",
    "    compound.neutralized_inchi = df_row.metatlas_inchi\n",
    "    compound.neutralized_inchi_key = df_row.metatlas_inchi_key\n",
    "    \n",
    "    compound.source = str(df_row.source_database)\n",
    "    for url_index,database in enumerate(database_list):\n",
    "        if getattr(df_row,database):\n",
    "            setattr(compound, database, str(getattr(df_row,database)) )\n",
    "            if url_list[url_index]:\n",
    "                ids = str(getattr(df_row,database)).split('///')\n",
    "                urls = []\n",
    "                for my_id in ids:\n",
    "                    urls.append('%s%s'%(url_list[url_index],my_id))\n",
    "                    if 'pubchem' in database:\n",
    "                        setattr(compound, database.replace('_compound_id','_url'),'///'.join(urls) )\n",
    "                    else:\n",
    "                        setattr(compound, database.replace('_id','_url'),'///'.join(urls) )\n",
    "#     compound_list.append(compound)\n",
    "    metob.store(compound)\n",
    "    counter += 1\n",
    "    if counter == 1000:\n",
    "        print i\n",
    "        counter = 0\n",
    "print time.time() - t0"
   ]
  },
  {
   "cell_type": "code",
   "execution_count": null,
   "metadata": {},
   "outputs": [],
   "source": [
    "t0 = time.time()\n",
    "for c in compound_list:\n",
    "    metob.store(c)\n",
    "print time.time() - t0"
   ]
  },
  {
   "cell_type": "code",
   "execution_count": null,
   "metadata": {},
   "outputs": [],
   "source": [
    "14.003074*2+2*e"
   ]
  },
  {
   "cell_type": "code",
   "execution_count": null,
   "metadata": {},
   "outputs": [],
   "source": [
    "# C8H8NO3\n",
    "e = 0.000548579909\n",
    "print 12.0*8 + 1.007825*8+14.003074+15.994915*3\n",
    "print 12.0*8 + 1.007825*8+14.003074+15.994915*3 - e\n",
    "print 166.049869536"
   ]
  },
  {
   "cell_type": "code",
   "execution_count": null,
   "metadata": {},
   "outputs": [],
   "source": [
    "df[(df.charge==1) & (df.monoisotopoic_mw < 300)].head()"
   ]
  },
  {
   "cell_type": "code",
   "execution_count": null,
   "metadata": {},
   "outputs": [],
   "source": [
    "df.tail(100)"
   ]
  },
  {
   "cell_type": "code",
   "execution_count": null,
   "metadata": {},
   "outputs": [],
   "source": [
    "compound"
   ]
  },
  {
   "cell_type": "code",
   "execution_count": null,
   "metadata": {},
   "outputs": [],
   "source": [
    "compound_list[0].reference_xrefs[0].name"
   ]
  },
  {
   "cell_type": "code",
   "execution_count": null,
   "metadata": {},
   "outputs": [],
   "source": [
    "metatlas_compounds = metob.retrieve('Compounds',name = '%',username='*')"
   ]
  },
  {
   "cell_type": "code",
   "execution_count": null,
   "metadata": {},
   "outputs": [],
   "source": []
  },
  {
   "cell_type": "code",
   "execution_count": null,
   "metadata": {},
   "outputs": [],
   "source": []
  },
  {
   "cell_type": "code",
   "execution_count": null,
   "metadata": {},
   "outputs": [],
   "source": [
    "print len(metatlas_compounds)"
   ]
  },
  {
   "cell_type": "code",
   "execution_count": null,
   "metadata": {},
   "outputs": [],
   "source": [
    "metatlas_compounds[0]"
   ]
  },
  {
   "cell_type": "code",
   "execution_count": null,
   "metadata": {},
   "outputs": [],
   "source": [
    "# metob.FunctionalSet()\n",
    "# metob.to_dataframe(metatlas_compounds[:1])\n",
    "mc1 = metob.Compound()\n",
    "dbr = metob.ReferenceDatabase()\n",
    "# mc1.reference_xrefs = [dbr,dbr]\n",
    "print mc1()"
   ]
  },
  {
   "cell_type": "code",
   "execution_count": null,
   "metadata": {},
   "outputs": [],
   "source": [
    "mc1()"
   ]
  },
  {
   "cell_type": "code",
   "execution_count": null,
   "metadata": {},
   "outputs": [],
   "source": [
    "counter = 0\n",
    "field_list = ['inchi','name']\n",
    "metatlas_df = pd.DataFrame()\n",
    "for compound in metatlas_compounds:\n",
    "    for field in field_list:\n",
    "        metatlas_df.loc[counter,field] = getattr(compound,field)\n",
    "    counter += 1"
   ]
  },
  {
   "cell_type": "code",
   "execution_count": null,
   "metadata": {},
   "outputs": [],
   "source": [
    "metatlas_df.head()"
   ]
  },
  {
   "cell_type": "code",
   "execution_count": null,
   "metadata": {},
   "outputs": [],
   "source": [
    "def make_mol_from_smiles_and_inchi(row):\n",
    "    mol= []\n",
    "    if row['inchi']:\n",
    "        mol = Chem.MolFromInchi(row['inchi'].encode('utf-8'))\n",
    "    if mol:\n",
    "        return mol\n",
    "\n",
    "metatlas_df.ROMol = metatlas_df.apply(make_mol_from_smiles_and_inchi, axis=1)"
   ]
  },
  {
   "cell_type": "code",
   "execution_count": null,
   "metadata": {},
   "outputs": [],
   "source": [
    "def desalt_compounds_in_dataframe(x):\n",
    "    if x:\n",
    "        if x.GetNumAtoms()>1:\n",
    "            c = import_compounds.desalt(x)\n",
    "            if c[1]:\n",
    "                return c[0]\n",
    "            else:\n",
    "                return x\n",
    "    \n",
    "metatlas_df.ROMol = metatlas_df.ROMol.apply(desalt_compounds_in_dataframe)\n"
   ]
  },
  {
   "cell_type": "code",
   "execution_count": null,
   "metadata": {},
   "outputs": [],
   "source": [
    "import_compounds = reload(import_compounds)\n",
    "def neutralize_compounds_in_dataframe(x):\n",
    "    if x:\n",
    "        if x.GetNumAtoms()> 0:\n",
    "            neutral_mol = []\n",
    "            try:\n",
    "                c = import_compounds.NeutraliseCharges(x)\n",
    "                neutral_mol = c[0]\n",
    "            except:\n",
    "                pass\n",
    "            if neutral_mol:\n",
    "                return neutral_mol\n",
    "            \n",
    "metatlas_df.ROMol = metatlas_df.ROMol.apply(neutralize_compounds_in_dataframe)"
   ]
  },
  {
   "cell_type": "code",
   "execution_count": null,
   "metadata": {},
   "outputs": [],
   "source": [
    "def calculate_num_radicals_in_dataframe(x):\n",
    "    num_radicals = 0.0\n",
    "    if x:\n",
    "        num_radicals = Descriptors.NumRadicalElectrons(x)        \n",
    "    return num_radicals\n",
    "\n",
    "def calculate_formula_in_dataframe(x):\n",
    "    formula = ''\n",
    "    if x:\n",
    "        formula = rdMolDescriptors.CalcMolFormula(x)\n",
    "    return formula\n",
    "\n",
    "def calculate_monoisotopic_mw_in_dataframe(x):\n",
    "    mw = 0.0\n",
    "    if x:\n",
    "        mw = Descriptors.ExactMolWt(x)\n",
    "    return mw\n",
    "\n",
    "def calculate_inchi_in_dataframe(x):\n",
    "    inchi = ''\n",
    "    if x:\n",
    "        try:\n",
    "            inchi = Chem.MolToInchi(x)\n",
    "        except:\n",
    "            pass#This fails when can't kekulize mol\n",
    "    return inchi\n",
    "\n",
    "def calculate_flattened_inchi_in_dataframe(x):\n",
    "    flattened_inchi = ''\n",
    "    if x:\n",
    "        sm = Chem.MolToSmiles(x).replace('@','')\n",
    "        flattened_rdkit_mol = Chem.MolFromSmiles(sm)\n",
    "        try:\n",
    "            flattened_inchi = Chem.MolToInchi(flattened_rdkit_mol)\n",
    "        except:\n",
    "            pass#This fails when can't kekulize mol\n",
    "    return flattened_inchi\n",
    "\n",
    "def calculate_inchikey_in_dataframe(x):\n",
    "    ik = ''\n",
    "    if x:\n",
    "        try:\n",
    "            ik = Chem.InchiToInchiKey(x)\n",
    "        except:\n",
    "            pass#This fails when can't kekulize mol.  Carbo-cations are the culprit usually. \n",
    "    return ik\n",
    "\n",
    "def calculate_charge_in_dataframe(x):\n",
    "    if x:\n",
    "        my_charge = Chem.GetFormalCharge(x)\n",
    "        return my_charge\n",
    "            \n",
    "metatlas_df['charge'] = metatlas_df.ROMol.apply(calculate_charge_in_dataframe)\n",
    "metatlas_df['formula'] = metatlas_df.ROMol.apply(calculate_formula_in_dataframe)\n",
    "metatlas_df['monoisotopoic_mw'] = metatlas_df.ROMol.apply(calculate_monoisotopic_mw_in_dataframe)\n",
    "metatlas_df['num_radicals'] = metatlas_df.ROMol.apply(calculate_num_radicals_in_dataframe)\n",
    "\n",
    "metatlas_df['metatlas_inchi'] = metatlas_df.ROMol.apply(calculate_inchi_in_dataframe)\n",
    "metatlas_df['metatlas_inchi_key'] = metatlas_df.metatlas_inchi.apply(calculate_inchikey_in_dataframe)\n",
    "\n",
    "metatlas_df['flat_inchi'] = metatlas_df.ROMol.apply(calculate_flattened_inchi_in_dataframe)\n",
    "metatlas_df['flat_inchikey'] = metatlas_df.flat_inchi.apply(calculate_inchikey_in_dataframe)\n"
   ]
  },
  {
   "cell_type": "code",
   "execution_count": null,
   "metadata": {},
   "outputs": [],
   "source": [
    "metatlas_df = metatlas_df.where((pd.notnull(metatlas_df)), None)\n"
   ]
  },
  {
   "cell_type": "code",
   "execution_count": null,
   "metadata": {},
   "outputs": [],
   "source": [
    "metatlas_df = metatlas_df[metatlas_df.metatlas_inchi_key != '']\n"
   ]
  },
  {
   "cell_type": "code",
   "execution_count": null,
   "metadata": {},
   "outputs": [],
   "source": [
    "metatlas_df.to_pickle('backup of all metatlas compounds with flattened inchi and key.pkl')\n",
    "metatlas_df.head()"
   ]
  },
  {
   "cell_type": "code",
   "execution_count": null,
   "metadata": {},
   "outputs": [],
   "source": [
    "idx = metatlas_df.metatlas_inchi_key.isin(df.metatlas_inchi_key)"
   ]
  },
  {
   "cell_type": "code",
   "execution_count": null,
   "metadata": {},
   "outputs": [],
   "source": [
    "not_found = metatlas_df[~idx]"
   ]
  },
  {
   "cell_type": "code",
   "execution_count": null,
   "metadata": {},
   "outputs": [],
   "source": [
    "not_found = not_found.drop_duplicates()"
   ]
  },
  {
   "cell_type": "code",
   "execution_count": null,
   "metadata": {},
   "outputs": [],
   "source": [
    "not_found.head(20)"
   ]
  },
  {
   "cell_type": "code",
   "execution_count": null,
   "metadata": {},
   "outputs": [],
   "source": [
    "# not_found.to_csv('metatlas_compounds_not_found.csv')\n",
    "# not_found.to_pickle('metatlas_compounds_not_found.pkl')"
   ]
  },
  {
   "cell_type": "code",
   "execution_count": null,
   "metadata": {},
   "outputs": [],
   "source": [
    "not_found.shape"
   ]
  },
  {
   "cell_type": "code",
   "execution_count": null,
   "metadata": {},
   "outputs": [],
   "source": []
  }
 ],
 "metadata": {
  "anaconda-cloud": {},
  "kernelspec": {
   "display_name": "MatchMS, BLINK, etc",
   "language": "python",
   "name": "matchms"
  },
  "language_info": {
   "codemirror_mode": {
    "name": "ipython",
    "version": 3
   },
   "file_extension": ".py",
   "mimetype": "text/x-python",
   "name": "python",
   "nbconvert_exporter": "python",
   "pygments_lexer": "ipython3",
   "version": "3.8.13"
  }
 },
 "nbformat": 4,
 "nbformat_minor": 4
}
