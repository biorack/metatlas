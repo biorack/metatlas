{
 "cells": [
  {
   "cell_type": "code",
   "execution_count": 1,
   "metadata": {},
   "outputs": [],
   "source": [
    "\n",
    "import pandas as pd\n"
   ]
  },
  {
   "cell_type": "code",
   "execution_count": 29,
   "metadata": {},
   "outputs": [
    {
     "name": "stdout",
     "output_type": "stream",
     "text": [
      "(158493, 22)\n",
      "(126437, 22)\n"
     ]
    }
   ],
   "source": [
    "df = pd.read_pickle('/project/projectdirs/openmsi/projects/ben_run_pactolus/unique_compounds_updated_pubchem_info.pkl')\n",
    "print df.shape\n",
    "df = df[df.new_common_name.str.contains('[A-Za-z0-9]+')]\n",
    "print df.shape"
   ]
  },
  {
   "cell_type": "code",
   "execution_count": 30,
   "metadata": {},
   "outputs": [
    {
     "data": {
      "text/html": [
       "<div>\n",
       "<table border=\"1\" class=\"dataframe\">\n",
       "  <thead>\n",
       "    <tr style=\"text-align: right;\">\n",
       "      <th></th>\n",
       "      <th>Definition</th>\n",
       "      <th>charge</th>\n",
       "      <th>chebi_id</th>\n",
       "      <th>common_name</th>\n",
       "      <th>flat_inchi</th>\n",
       "      <th>flat_inchikey</th>\n",
       "      <th>formula</th>\n",
       "      <th>hmdb_id</th>\n",
       "      <th>img_abc_id</th>\n",
       "      <th>kegg_id</th>\n",
       "      <th>...</th>\n",
       "      <th>metatlas_inchi</th>\n",
       "      <th>metatlas_inchi_key</th>\n",
       "      <th>num_radicals</th>\n",
       "      <th>pubchem_compound_id</th>\n",
       "      <th>source_database</th>\n",
       "      <th>synonyms</th>\n",
       "      <th>monoisotopic_mw</th>\n",
       "      <th>new_synonyms</th>\n",
       "      <th>new_common_name</th>\n",
       "      <th>new_pubchem_compound_id</th>\n",
       "    </tr>\n",
       "  </thead>\n",
       "  <tbody>\n",
       "    <tr>\n",
       "      <th>121057</th>\n",
       "      <td>A pyrimidine nucleoside in which cytosine is a...</td>\n",
       "      <td>0.0</td>\n",
       "      <td>CHEBI:17562</td>\n",
       "      <td>Cytidine///cytidine</td>\n",
       "      <td>InChI=1S/C9H13N3O5/c10-5-1-2-12(9(16)11-5)8-7(...</td>\n",
       "      <td>UHDGCWIWMRVCDJ-UHFFFAOYSA-N</td>\n",
       "      <td>C9H13N3O5</td>\n",
       "      <td>HMDB00089</td>\n",
       "      <td></td>\n",
       "      <td>C00475</td>\n",
       "      <td>...</td>\n",
       "      <td>InChI=1S/C9H13N3O5/c10-5-1-2-12(9(16)11-5)8-7(...</td>\n",
       "      <td>UHDGCWIWMRVCDJ-XVFCMESISA-N</td>\n",
       "      <td>0.0</td>\n",
       "      <td>6175</td>\n",
       "      <td>chebi///metacyc///hmdb</td>\n",
       "      <td>1-(b-D-Ribofuranosyl)-2-oxo-4-amino-1,2-dihydr...</td>\n",
       "      <td>243.085520516</td>\n",
       "      <td>cytidine///65-46-3///Cytosine riboside///1-bet...</td>\n",
       "      <td>cytidine</td>\n",
       "      <td>6175</td>\n",
       "    </tr>\n",
       "  </tbody>\n",
       "</table>\n",
       "<p>1 rows × 22 columns</p>\n",
       "</div>"
      ],
      "text/plain": [
       "                                               Definition charge     chebi_id  \\\n",
       "121057  A pyrimidine nucleoside in which cytosine is a...    0.0  CHEBI:17562   \n",
       "\n",
       "                common_name  \\\n",
       "121057  Cytidine///cytidine   \n",
       "\n",
       "                                               flat_inchi  \\\n",
       "121057  InChI=1S/C9H13N3O5/c10-5-1-2-12(9(16)11-5)8-7(...   \n",
       "\n",
       "                      flat_inchikey    formula    hmdb_id img_abc_id kegg_id  \\\n",
       "121057  UHDGCWIWMRVCDJ-UHFFFAOYSA-N  C9H13N3O5  HMDB00089             C00475   \n",
       "\n",
       "                 ...            \\\n",
       "121057           ...             \n",
       "\n",
       "                                           metatlas_inchi  \\\n",
       "121057  InChI=1S/C9H13N3O5/c10-5-1-2-12(9(16)11-5)8-7(...   \n",
       "\n",
       "                 metatlas_inchi_key num_radicals pubchem_compound_id  \\\n",
       "121057  UHDGCWIWMRVCDJ-XVFCMESISA-N          0.0                6175   \n",
       "\n",
       "               source_database  \\\n",
       "121057  chebi///metacyc///hmdb   \n",
       "\n",
       "                                                 synonyms monoisotopic_mw  \\\n",
       "121057  1-(b-D-Ribofuranosyl)-2-oxo-4-amino-1,2-dihydr...   243.085520516   \n",
       "\n",
       "                                             new_synonyms new_common_name  \\\n",
       "121057  cytidine///65-46-3///Cytosine riboside///1-bet...        cytidine   \n",
       "\n",
       "       new_pubchem_compound_id  \n",
       "121057                    6175  \n",
       "\n",
       "[1 rows x 22 columns]"
      ]
     },
     "execution_count": 30,
     "metadata": {},
     "output_type": "execute_result"
    }
   ],
   "source": [
    "df[df.metatlas_inchi_key == 'UHDGCWIWMRVCDJ-XVFCMESISA-N']"
   ]
  },
  {
   "cell_type": "code",
   "execution_count": 16,
   "metadata": {},
   "outputs": [],
   "source": [
    "def shorten_synonyms(row):\n",
    "    synonym_list = row.new_synonyms.split('///')\n",
    "    if len(synonym_list) > 50:\n",
    "        return '///'.join(synonym_list[:50])\n",
    "    else:\n",
    "        return row.new_synonyms\n",
    "df.new_synonyms = df.apply(shorten_synonyms,axis=1)"
   ]
  },
  {
   "cell_type": "code",
   "execution_count": 17,
   "metadata": {
    "scrolled": false
   },
   "outputs": [],
   "source": [
    "import time\n",
    "list_of_updates = []\n",
    "for i,row in df.iterrows():\n",
    "    update_dict = dict(inchi_key=row.metatlas_inchi_key, \n",
    "                       name=row.new_common_name,\n",
    "                       synonyms = row.new_synonyms,\n",
    "                       pubchem_compound_id = unicode('%d'%row.new_pubchem_compound_id),\n",
    "                       pubchem_url = unicode('http://pubchem.ncbi.nlm.nih.gov/compound/%d'%row.new_pubchem_compound_id)\n",
    "                    )\n",
    "    list_of_updates.append(update_dict)\n",
    "# for i in range(100):\n",
    "#     compounds.update(list_of_updates[i],['inchi_key'])\n",
    "#     print time.time() - t0"
   ]
  },
  {
   "cell_type": "code",
   "execution_count": null,
   "metadata": {
    "scrolled": false
   },
   "outputs": [
    {
     "name": "stdout",
     "output_type": "stream",
     "text": [
      "1000\n",
      "724.255877972\n",
      "2000\n",
      "1451.11270308\n",
      "3000\n",
      "2174.93267918\n",
      "4000\n",
      "2898.36356497\n"
     ]
    }
   ],
   "source": [
    "import sys\n",
    "sys.path.insert(0,'/global/project/projectdirs/metatlas/anaconda/lib/python2.7/site-packages' )\n",
    "from metatlas import metatlas_objects as metob\n",
    "db = metob.database\n",
    "compounds = db['compounds']\n",
    "affected = []\n",
    "counter = 0\n",
    "t0 = time.time()\n",
    "for d in list_of_updates:\n",
    "    L = compounds.update(d, ['inchi_key'])\n",
    "    affected.append(L)\n",
    "    counter += 1\n",
    "    if counter == 1e3:\n",
    "        print len(affected)\n",
    "        print time.time() - t0\n",
    "        counter = 0"
   ]
  },
  {
   "cell_type": "code",
   "execution_count": 26,
   "metadata": {},
   "outputs": [
    {
     "data": {
      "text/plain": [
       "72979"
      ]
     },
     "execution_count": 26,
     "metadata": {},
     "output_type": "execute_result"
    }
   ],
   "source": [
    "len(affected)"
   ]
  },
  {
   "cell_type": "code",
   "execution_count": 28,
   "metadata": {},
   "outputs": [
    {
     "data": {
      "text/plain": [
       "126437"
      ]
     },
     "execution_count": 28,
     "metadata": {},
     "output_type": "execute_result"
    }
   ],
   "source": [
    "len(list_of_updates)"
   ]
  },
  {
   "cell_type": "code",
   "execution_count": null,
   "metadata": {},
   "outputs": [],
   "source": [
    "d"
   ]
  },
  {
   "cell_type": "code",
   "execution_count": 27,
   "metadata": {},
   "outputs": [
    {
     "data": {
      "text/plain": [
       "126437"
      ]
     },
     "execution_count": 27,
     "metadata": {},
     "output_type": "execute_result"
    }
   ],
   "source": [
    "72979+53458\n"
   ]
  },
  {
   "cell_type": "code",
   "execution_count": null,
   "metadata": {
    "collapsed": true
   },
   "outputs": [],
   "source": []
  }
 ],
 "metadata": {
  "kernelspec": {
   "display_name": "Python 2",
   "language": "python",
   "name": "python2"
  },
  "language_info": {
   "codemirror_mode": {
    "name": "ipython",
    "version": 2
   },
   "file_extension": ".py",
   "mimetype": "text/x-python",
   "name": "python",
   "nbconvert_exporter": "python",
   "pygments_lexer": "ipython2",
   "version": "2.7.14"
  }
 },
 "nbformat": 4,
 "nbformat_minor": 1
}
